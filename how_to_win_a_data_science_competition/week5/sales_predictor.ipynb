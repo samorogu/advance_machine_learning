{
 "cells": [
  {
   "cell_type": "code",
   "execution_count": 1,
   "metadata": {},
   "outputs": [
    {
     "name": "stderr",
     "output_type": "stream",
     "text": [
      "Using TensorFlow backend.\n"
     ]
    }
   ],
   "source": [
    "import pandas as pd\n",
    "import numpy as np\n",
    "import seaborn as sns\n",
    "import matplotlib.pyplot as plt\n",
    "from tqdm import tqdm, tqdm_notebook\n",
    "from itertools import product\n",
    "import sklearn\n",
    "# import lightgbm as lgb\n",
    "# from xgboost import XGBRegressor\n",
    "from sklearn.linear_model import LinearRegression\n",
    "from sklearn.metrics import r2_score\n",
    "\n",
    "import tensorflow as tf\n",
    "import keras\n",
    "\n",
    "#Read files:\n",
    "train = pd.read_csv('sales_train.csv')\n",
    "items = pd.read_csv('items.csv')\n",
    "shops = pd.read_csv('shops.csv')\n",
    "item_categories = pd.read_csv('item_categories.csv')\n",
    "test = pd.read_csv('test.csv')\n",
    "sample_submission = pd.read_csv('sample_submission.csv')"
   ]
  },
  {
   "cell_type": "code",
   "execution_count": 2,
   "metadata": {},
   "outputs": [],
   "source": [
    "def downcast_dtypes(df):    \n",
    "    # Select columns to downcast\n",
    "    float_cols = [c for c in df if df[c].dtype == \"float64\"]\n",
    "    int_cols =   [c for c in df if df[c].dtype == \"int64\"]\n",
    "    \n",
    "    # Downcast\n",
    "    df[float_cols] = df[float_cols].astype(np.float32)\n",
    "    df[int_cols]   = df[int_cols].astype(np.int32)\n",
    "    \n",
    "    return df"
   ]
  },
  {
   "cell_type": "code",
   "execution_count": 4,
   "metadata": {},
   "outputs": [
    {
     "data": {
      "text/html": [
       "<div>\n",
       "<style scoped>\n",
       "    .dataframe tbody tr th:only-of-type {\n",
       "        vertical-align: middle;\n",
       "    }\n",
       "\n",
       "    .dataframe tbody tr th {\n",
       "        vertical-align: top;\n",
       "    }\n",
       "\n",
       "    .dataframe thead th {\n",
       "        text-align: right;\n",
       "    }\n",
       "</style>\n",
       "<table border=\"1\" class=\"dataframe\">\n",
       "  <thead>\n",
       "    <tr style=\"text-align: right;\">\n",
       "      <th></th>\n",
       "      <th>date</th>\n",
       "      <th>date_block_num</th>\n",
       "      <th>shop_id</th>\n",
       "      <th>item_id</th>\n",
       "      <th>item_price</th>\n",
       "      <th>item_cnt_day</th>\n",
       "    </tr>\n",
       "  </thead>\n",
       "  <tbody>\n",
       "    <tr>\n",
       "      <th>0</th>\n",
       "      <td>02.01.2013</td>\n",
       "      <td>0</td>\n",
       "      <td>59</td>\n",
       "      <td>22154</td>\n",
       "      <td>999.00</td>\n",
       "      <td>1.0</td>\n",
       "    </tr>\n",
       "    <tr>\n",
       "      <th>1</th>\n",
       "      <td>03.01.2013</td>\n",
       "      <td>0</td>\n",
       "      <td>25</td>\n",
       "      <td>2552</td>\n",
       "      <td>899.00</td>\n",
       "      <td>1.0</td>\n",
       "    </tr>\n",
       "    <tr>\n",
       "      <th>2</th>\n",
       "      <td>05.01.2013</td>\n",
       "      <td>0</td>\n",
       "      <td>25</td>\n",
       "      <td>2552</td>\n",
       "      <td>899.00</td>\n",
       "      <td>-1.0</td>\n",
       "    </tr>\n",
       "    <tr>\n",
       "      <th>3</th>\n",
       "      <td>06.01.2013</td>\n",
       "      <td>0</td>\n",
       "      <td>25</td>\n",
       "      <td>2554</td>\n",
       "      <td>1709.05</td>\n",
       "      <td>1.0</td>\n",
       "    </tr>\n",
       "    <tr>\n",
       "      <th>4</th>\n",
       "      <td>15.01.2013</td>\n",
       "      <td>0</td>\n",
       "      <td>25</td>\n",
       "      <td>2555</td>\n",
       "      <td>1099.00</td>\n",
       "      <td>1.0</td>\n",
       "    </tr>\n",
       "  </tbody>\n",
       "</table>\n",
       "</div>"
      ],
      "text/plain": [
       "         date  date_block_num  shop_id  item_id  item_price  item_cnt_day\n",
       "0  02.01.2013               0       59    22154      999.00           1.0\n",
       "1  03.01.2013               0       25     2552      899.00           1.0\n",
       "2  05.01.2013               0       25     2552      899.00          -1.0\n",
       "3  06.01.2013               0       25     2554     1709.05           1.0\n",
       "4  15.01.2013               0       25     2555     1099.00           1.0"
      ]
     },
     "execution_count": 4,
     "metadata": {},
     "output_type": "execute_result"
    }
   ],
   "source": [
    "train.head()\n"
   ]
  },
  {
   "cell_type": "code",
   "execution_count": 5,
   "metadata": {},
   "outputs": [
    {
     "data": {
      "text/html": [
       "<div>\n",
       "<style scoped>\n",
       "    .dataframe tbody tr th:only-of-type {\n",
       "        vertical-align: middle;\n",
       "    }\n",
       "\n",
       "    .dataframe tbody tr th {\n",
       "        vertical-align: top;\n",
       "    }\n",
       "\n",
       "    .dataframe thead th {\n",
       "        text-align: right;\n",
       "    }\n",
       "</style>\n",
       "<table border=\"1\" class=\"dataframe\">\n",
       "  <thead>\n",
       "    <tr style=\"text-align: right;\">\n",
       "      <th></th>\n",
       "      <th>item_name</th>\n",
       "      <th>item_id</th>\n",
       "      <th>item_category_id</th>\n",
       "    </tr>\n",
       "  </thead>\n",
       "  <tbody>\n",
       "    <tr>\n",
       "      <th>0</th>\n",
       "      <td>! ВО ВЛАСТИ НАВАЖДЕНИЯ (ПЛАСТ.)         D</td>\n",
       "      <td>0</td>\n",
       "      <td>40</td>\n",
       "    </tr>\n",
       "    <tr>\n",
       "      <th>1</th>\n",
       "      <td>!ABBYY FineReader 12 Professional Edition Full...</td>\n",
       "      <td>1</td>\n",
       "      <td>76</td>\n",
       "    </tr>\n",
       "    <tr>\n",
       "      <th>2</th>\n",
       "      <td>***В ЛУЧАХ СЛАВЫ   (UNV)                    D</td>\n",
       "      <td>2</td>\n",
       "      <td>40</td>\n",
       "    </tr>\n",
       "    <tr>\n",
       "      <th>3</th>\n",
       "      <td>***ГОЛУБАЯ ВОЛНА  (Univ)                      D</td>\n",
       "      <td>3</td>\n",
       "      <td>40</td>\n",
       "    </tr>\n",
       "    <tr>\n",
       "      <th>4</th>\n",
       "      <td>***КОРОБКА (СТЕКЛО)                       D</td>\n",
       "      <td>4</td>\n",
       "      <td>40</td>\n",
       "    </tr>\n",
       "  </tbody>\n",
       "</table>\n",
       "</div>"
      ],
      "text/plain": [
       "                                           item_name  item_id  \\\n",
       "0          ! ВО ВЛАСТИ НАВАЖДЕНИЯ (ПЛАСТ.)         D        0   \n",
       "1  !ABBYY FineReader 12 Professional Edition Full...        1   \n",
       "2      ***В ЛУЧАХ СЛАВЫ   (UNV)                    D        2   \n",
       "3    ***ГОЛУБАЯ ВОЛНА  (Univ)                      D        3   \n",
       "4        ***КОРОБКА (СТЕКЛО)                       D        4   \n",
       "\n",
       "   item_category_id  \n",
       "0                40  \n",
       "1                76  \n",
       "2                40  \n",
       "3                40  \n",
       "4                40  "
      ]
     },
     "execution_count": 5,
     "metadata": {},
     "output_type": "execute_result"
    }
   ],
   "source": [
    "items.head()\n"
   ]
  },
  {
   "cell_type": "code",
   "execution_count": 47,
   "metadata": {},
   "outputs": [
    {
     "data": {
      "text/html": [
       "<div>\n",
       "<style scoped>\n",
       "    .dataframe tbody tr th:only-of-type {\n",
       "        vertical-align: middle;\n",
       "    }\n",
       "\n",
       "    .dataframe tbody tr th {\n",
       "        vertical-align: top;\n",
       "    }\n",
       "\n",
       "    .dataframe thead th {\n",
       "        text-align: right;\n",
       "    }\n",
       "</style>\n",
       "<table border=\"1\" class=\"dataframe\">\n",
       "  <thead>\n",
       "    <tr style=\"text-align: right;\">\n",
       "      <th></th>\n",
       "      <th>shop_name</th>\n",
       "      <th>shop_id</th>\n",
       "    </tr>\n",
       "  </thead>\n",
       "  <tbody>\n",
       "    <tr>\n",
       "      <th>0</th>\n",
       "      <td>!Якутск Орджоникидзе, 56 фран</td>\n",
       "      <td>0</td>\n",
       "    </tr>\n",
       "    <tr>\n",
       "      <th>1</th>\n",
       "      <td>!Якутск ТЦ \"Центральный\" фран</td>\n",
       "      <td>1</td>\n",
       "    </tr>\n",
       "    <tr>\n",
       "      <th>2</th>\n",
       "      <td>Адыгея ТЦ \"Мега\"</td>\n",
       "      <td>2</td>\n",
       "    </tr>\n",
       "    <tr>\n",
       "      <th>3</th>\n",
       "      <td>Балашиха ТРК \"Октябрь-Киномир\"</td>\n",
       "      <td>3</td>\n",
       "    </tr>\n",
       "    <tr>\n",
       "      <th>4</th>\n",
       "      <td>Волжский ТЦ \"Волга Молл\"</td>\n",
       "      <td>4</td>\n",
       "    </tr>\n",
       "  </tbody>\n",
       "</table>\n",
       "</div>"
      ],
      "text/plain": [
       "                        shop_name  shop_id\n",
       "0   !Якутск Орджоникидзе, 56 фран        0\n",
       "1   !Якутск ТЦ \"Центральный\" фран        1\n",
       "2                Адыгея ТЦ \"Мега\"        2\n",
       "3  Балашиха ТРК \"Октябрь-Киномир\"        3\n",
       "4        Волжский ТЦ \"Волга Молл\"        4"
      ]
     },
     "execution_count": 47,
     "metadata": {},
     "output_type": "execute_result"
    }
   ],
   "source": [
    "shops.head()\n"
   ]
  },
  {
   "cell_type": "code",
   "execution_count": 7,
   "metadata": {},
   "outputs": [
    {
     "data": {
      "text/html": [
       "<div>\n",
       "<style scoped>\n",
       "    .dataframe tbody tr th:only-of-type {\n",
       "        vertical-align: middle;\n",
       "    }\n",
       "\n",
       "    .dataframe tbody tr th {\n",
       "        vertical-align: top;\n",
       "    }\n",
       "\n",
       "    .dataframe thead th {\n",
       "        text-align: right;\n",
       "    }\n",
       "</style>\n",
       "<table border=\"1\" class=\"dataframe\">\n",
       "  <thead>\n",
       "    <tr style=\"text-align: right;\">\n",
       "      <th></th>\n",
       "      <th>item_category_name</th>\n",
       "      <th>item_category_id</th>\n",
       "    </tr>\n",
       "  </thead>\n",
       "  <tbody>\n",
       "    <tr>\n",
       "      <th>0</th>\n",
       "      <td>PC - Гарнитуры/Наушники</td>\n",
       "      <td>0</td>\n",
       "    </tr>\n",
       "    <tr>\n",
       "      <th>1</th>\n",
       "      <td>Аксессуары - PS2</td>\n",
       "      <td>1</td>\n",
       "    </tr>\n",
       "    <tr>\n",
       "      <th>2</th>\n",
       "      <td>Аксессуары - PS3</td>\n",
       "      <td>2</td>\n",
       "    </tr>\n",
       "    <tr>\n",
       "      <th>3</th>\n",
       "      <td>Аксессуары - PS4</td>\n",
       "      <td>3</td>\n",
       "    </tr>\n",
       "    <tr>\n",
       "      <th>4</th>\n",
       "      <td>Аксессуары - PSP</td>\n",
       "      <td>4</td>\n",
       "    </tr>\n",
       "  </tbody>\n",
       "</table>\n",
       "</div>"
      ],
      "text/plain": [
       "        item_category_name  item_category_id\n",
       "0  PC - Гарнитуры/Наушники                 0\n",
       "1         Аксессуары - PS2                 1\n",
       "2         Аксессуары - PS3                 2\n",
       "3         Аксессуары - PS4                 3\n",
       "4         Аксессуары - PSP                 4"
      ]
     },
     "execution_count": 7,
     "metadata": {},
     "output_type": "execute_result"
    }
   ],
   "source": [
    "item_categories.head()\n"
   ]
  },
  {
   "cell_type": "code",
   "execution_count": 8,
   "metadata": {},
   "outputs": [
    {
     "data": {
      "text/html": [
       "<div>\n",
       "<style scoped>\n",
       "    .dataframe tbody tr th:only-of-type {\n",
       "        vertical-align: middle;\n",
       "    }\n",
       "\n",
       "    .dataframe tbody tr th {\n",
       "        vertical-align: top;\n",
       "    }\n",
       "\n",
       "    .dataframe thead th {\n",
       "        text-align: right;\n",
       "    }\n",
       "</style>\n",
       "<table border=\"1\" class=\"dataframe\">\n",
       "  <thead>\n",
       "    <tr style=\"text-align: right;\">\n",
       "      <th></th>\n",
       "      <th>ID</th>\n",
       "      <th>shop_id</th>\n",
       "      <th>item_id</th>\n",
       "    </tr>\n",
       "  </thead>\n",
       "  <tbody>\n",
       "    <tr>\n",
       "      <th>0</th>\n",
       "      <td>0</td>\n",
       "      <td>5</td>\n",
       "      <td>5037</td>\n",
       "    </tr>\n",
       "    <tr>\n",
       "      <th>1</th>\n",
       "      <td>1</td>\n",
       "      <td>5</td>\n",
       "      <td>5320</td>\n",
       "    </tr>\n",
       "    <tr>\n",
       "      <th>2</th>\n",
       "      <td>2</td>\n",
       "      <td>5</td>\n",
       "      <td>5233</td>\n",
       "    </tr>\n",
       "    <tr>\n",
       "      <th>3</th>\n",
       "      <td>3</td>\n",
       "      <td>5</td>\n",
       "      <td>5232</td>\n",
       "    </tr>\n",
       "    <tr>\n",
       "      <th>4</th>\n",
       "      <td>4</td>\n",
       "      <td>5</td>\n",
       "      <td>5268</td>\n",
       "    </tr>\n",
       "  </tbody>\n",
       "</table>\n",
       "</div>"
      ],
      "text/plain": [
       "   ID  shop_id  item_id\n",
       "0   0        5     5037\n",
       "1   1        5     5320\n",
       "2   2        5     5233\n",
       "3   3        5     5232\n",
       "4   4        5     5268"
      ]
     },
     "execution_count": 8,
     "metadata": {},
     "output_type": "execute_result"
    }
   ],
   "source": [
    "test.head()\n"
   ]
  },
  {
   "cell_type": "markdown",
   "metadata": {},
   "source": [
    "# EDA\n"
   ]
  },
  {
   "cell_type": "code",
   "execution_count": 9,
   "metadata": {},
   "outputs": [
    {
     "data": {
      "text/plain": [
       "date              0\n",
       "date_block_num    0\n",
       "shop_id           0\n",
       "item_id           0\n",
       "item_price        0\n",
       "item_cnt_day      0\n",
       "dtype: int64"
      ]
     },
     "execution_count": 9,
     "metadata": {},
     "output_type": "execute_result"
    }
   ],
   "source": [
    "#Check for null values\n",
    "train.isnull().sum()"
   ]
  },
  {
   "cell_type": "markdown",
   "metadata": {},
   "source": [
    "hence we observe that there is no missing value in the training set\n"
   ]
  },
  {
   "cell_type": "code",
   "execution_count": 9,
   "metadata": {},
   "outputs": [
    {
     "data": {
      "text/plain": [
       "<matplotlib.axes._subplots.AxesSubplot at 0x16a67cdf390>"
      ]
     },
     "execution_count": 9,
     "metadata": {},
     "output_type": "execute_result"
    },
    {
     "data": {
      "image/png": "[encoded data removed]",
      "text/plain": [
       "<Figure size 432x288 with 1 Axes>"
      ]
     },
     "metadata": {
      "needs_background": "light"
     },
     "output_type": "display_data"
    }
   ],
   "source": [
    "sale_by_month = train.groupby('date_block_num')['item_cnt_day'].sum()\n",
    "sale_by_month.plot()"
   ]
  },
  {
   "cell_type": "markdown",
   "metadata": {},
   "source": [
    "we observed that there is a decrease each year with peaks in november\n"
   ]
  },
  {
   "cell_type": "code",
   "execution_count": 10,
   "metadata": {},
   "outputs": [
    {
     "data": {
      "text/plain": [
       "<matplotlib.axes._subplots.AxesSubplot at 0x16a67fa2a58>"
      ]
     },
     "execution_count": 10,
     "metadata": {},
     "output_type": "execute_result"
    },
    {
     "data": {
      "image/png": "[encoded data removed]",
      "text/plain": [
       "<Figure size 720x288 with 1 Axes>"
      ]
     },
     "metadata": {
      "needs_background": "light"
     },
     "output_type": "display_data"
    },
    {
     "data": {
      "image/png": "[encoded data removed]",
      "text/plain": [
       "<Figure size 720x288 with 1 Axes>"
      ]
     },
     "metadata": {
      "needs_background": "light"
     },
     "output_type": "display_data"
    }
   ],
   "source": [
    "#removing outliers\n",
    "plt.figure(figsize=(10,4))\n",
    "plt.xlim(-100, 3000)\n",
    "sns.boxplot(x=train.item_cnt_day)\n",
    "\n",
    "plt.figure(figsize=(10,4))\n",
    "plt.xlim(train.item_price.min(), train.item_price.max()*1.1)\n",
    "sns.boxplot(x=train.item_price)\n",
    "\n"
   ]
  },
  {
   "cell_type": "code",
   "execution_count": 3,
   "metadata": {},
   "outputs": [],
   "source": [
    "train = train[train.item_price<100000]\n",
    "train = train[train.item_cnt_day<1001]\n",
    "\n"
   ]
  },
  {
   "cell_type": "code",
   "execution_count": 12,
   "metadata": {},
   "outputs": [],
   "source": [
    "x=train[train['item_price']<0]"
   ]
  },
  {
   "cell_type": "code",
   "execution_count": 13,
   "metadata": {},
   "outputs": [
    {
     "data": {
      "text/html": [
       "<div>\n",
       "<style scoped>\n",
       "    .dataframe tbody tr th:only-of-type {\n",
       "        vertical-align: middle;\n",
       "    }\n",
       "\n",
       "    .dataframe tbody tr th {\n",
       "        vertical-align: top;\n",
       "    }\n",
       "\n",
       "    .dataframe thead th {\n",
       "        text-align: right;\n",
       "    }\n",
       "</style>\n",
       "<table border=\"1\" class=\"dataframe\">\n",
       "  <thead>\n",
       "    <tr style=\"text-align: right;\">\n",
       "      <th></th>\n",
       "      <th>date</th>\n",
       "      <th>date_block_num</th>\n",
       "      <th>shop_id</th>\n",
       "      <th>item_id</th>\n",
       "      <th>item_price</th>\n",
       "      <th>item_cnt_day</th>\n",
       "    </tr>\n",
       "  </thead>\n",
       "  <tbody>\n",
       "    <tr>\n",
       "      <th>484683</th>\n",
       "      <td>15.05.2013</td>\n",
       "      <td>4</td>\n",
       "      <td>32</td>\n",
       "      <td>2973</td>\n",
       "      <td>-1.0</td>\n",
       "      <td>1.0</td>\n",
       "    </tr>\n",
       "  </tbody>\n",
       "</table>\n",
       "</div>"
      ],
      "text/plain": [
       "              date  date_block_num  shop_id  item_id  item_price  item_cnt_day\n",
       "484683  15.05.2013               4       32     2973        -1.0           1.0"
      ]
     },
     "execution_count": 13,
     "metadata": {},
     "output_type": "execute_result"
    }
   ],
   "source": [
    "x"
   ]
  },
  {
   "cell_type": "markdown",
   "metadata": {},
   "source": [
    "then we find the blocks where item price is negative and observe that for shop_id=32 and item id=2973 and date_block_num=4 item price is neagtive and hence we replace it with median of other prices for thr same conditions"
   ]
  },
  {
   "cell_type": "code",
   "execution_count": 4,
   "metadata": {},
   "outputs": [],
   "source": [
    "median = train[(train.shop_id == 32) & (train.item_id == 2973) & (train.date_block_num == 4) & (\n",
    "            train.item_price > 0)].item_price.median()\n",
    "train.loc[train.item_price < 0, 'item_price'] = median"
   ]
  },
  {
   "cell_type": "code",
   "execution_count": 5,
   "metadata": {},
   "outputs": [],
   "source": [
    "# Якутск Орджоникидзе, 56\n",
    "train.loc[train.shop_id == 0, 'shop_id'] = 57\n",
    "test.loc[test.shop_id == 0, 'shop_id'] = 57\n",
    "# Якутск ТЦ \"Центральный\"\n",
    "train.loc[train.shop_id == 1, 'shop_id'] = 58\n",
    "test.loc[test.shop_id == 1, 'shop_id'] = 58\n",
    "# Жуковский ул. Чкалова 39м²\n",
    "train.loc[train.shop_id == 10, 'shop_id'] = 11\n",
    "test.loc[test.shop_id == 10, 'shop_id'] = 11"
   ]
  },
  {
   "cell_type": "raw",
   "metadata": {},
   "source": [
    "Adding 34 to date block num\n"
   ]
  },
  {
   "cell_type": "code",
   "execution_count": 6,
   "metadata": {},
   "outputs": [
    {
     "data": {
      "text/html": [
       "<div>\n",
       "<style scoped>\n",
       "    .dataframe tbody tr th:only-of-type {\n",
       "        vertical-align: middle;\n",
       "    }\n",
       "\n",
       "    .dataframe tbody tr th {\n",
       "        vertical-align: top;\n",
       "    }\n",
       "\n",
       "    .dataframe thead th {\n",
       "        text-align: right;\n",
       "    }\n",
       "</style>\n",
       "<table border=\"1\" class=\"dataframe\">\n",
       "  <thead>\n",
       "    <tr style=\"text-align: right;\">\n",
       "      <th></th>\n",
       "      <th>shop_id</th>\n",
       "      <th>item_id</th>\n",
       "      <th>date_block_num</th>\n",
       "    </tr>\n",
       "  </thead>\n",
       "  <tbody>\n",
       "    <tr>\n",
       "      <th>0</th>\n",
       "      <td>5</td>\n",
       "      <td>5037</td>\n",
       "      <td>34</td>\n",
       "    </tr>\n",
       "    <tr>\n",
       "      <th>1</th>\n",
       "      <td>5</td>\n",
       "      <td>5320</td>\n",
       "      <td>34</td>\n",
       "    </tr>\n",
       "    <tr>\n",
       "      <th>2</th>\n",
       "      <td>5</td>\n",
       "      <td>5233</td>\n",
       "      <td>34</td>\n",
       "    </tr>\n",
       "    <tr>\n",
       "      <th>3</th>\n",
       "      <td>5</td>\n",
       "      <td>5232</td>\n",
       "      <td>34</td>\n",
       "    </tr>\n",
       "    <tr>\n",
       "      <th>4</th>\n",
       "      <td>5</td>\n",
       "      <td>5268</td>\n",
       "      <td>34</td>\n",
       "    </tr>\n",
       "  </tbody>\n",
       "</table>\n",
       "</div>"
      ],
      "text/plain": [
       "   shop_id  item_id  date_block_num\n",
       "0        5     5037              34\n",
       "1        5     5320              34\n",
       "2        5     5233              34\n",
       "3        5     5232              34\n",
       "4        5     5268              34"
      ]
     },
     "execution_count": 6,
     "metadata": {},
     "output_type": "execute_result"
    }
   ],
   "source": [
    "test_block = train['date_block_num'].max() + 1\n",
    "test['date_block_num'] = test_block\n",
    "test = test.drop(columns=['ID'])\n",
    "test.head()"
   ]
  },
  {
   "cell_type": "markdown",
   "metadata": {},
   "source": [
    "# Feature engineering"
   ]
  },
  {
   "cell_type": "code",
   "execution_count": 10,
   "metadata": {},
   "outputs": [],
   "source": [
    "\n",
    "# Create \"grid\" with columns\n",
    "index_cols = ['shop_id', 'item_id', 'date_block_num']\n",
    "\n",
    "# For every month we create a grid from all shops/items combinations from that month\n",
    "grid = []\n",
    "for i in train['date_block_num'].unique():\n",
    "    cur_shops = train.loc[train['date_block_num'] == i, 'shop_id'].unique()\n",
    "    cur_items = train.loc[train['date_block_num'] == i, 'item_id'].unique()\n",
    "    grid.append(np.array(list(product(*[cur_shops, cur_items, [i]])),dtype='int32'))\n",
    "\n",
    "grid = pd.DataFrame(np.vstack(grid), columns = index_cols, dtype=np.int32)\n",
    "grid = pd.concat([grid, test])"
   ]
  },
  {
   "cell_type": "code",
   "execution_count": 18,
   "metadata": {},
   "outputs": [
    {
     "data": {
      "text/html": [
       "<div>\n",
       "<style scoped>\n",
       "    .dataframe tbody tr th:only-of-type {\n",
       "        vertical-align: middle;\n",
       "    }\n",
       "\n",
       "    .dataframe tbody tr th {\n",
       "        vertical-align: top;\n",
       "    }\n",
       "\n",
       "    .dataframe thead th {\n",
       "        text-align: right;\n",
       "    }\n",
       "</style>\n",
       "<table border=\"1\" class=\"dataframe\">\n",
       "  <thead>\n",
       "    <tr style=\"text-align: right;\">\n",
       "      <th></th>\n",
       "      <th>shop_id</th>\n",
       "      <th>item_id</th>\n",
       "      <th>date_block_num</th>\n",
       "    </tr>\n",
       "  </thead>\n",
       "  <tbody>\n",
       "    <tr>\n",
       "      <th>0</th>\n",
       "      <td>59</td>\n",
       "      <td>22154</td>\n",
       "      <td>0</td>\n",
       "    </tr>\n",
       "    <tr>\n",
       "      <th>1</th>\n",
       "      <td>59</td>\n",
       "      <td>2552</td>\n",
       "      <td>0</td>\n",
       "    </tr>\n",
       "    <tr>\n",
       "      <th>2</th>\n",
       "      <td>59</td>\n",
       "      <td>2554</td>\n",
       "      <td>0</td>\n",
       "    </tr>\n",
       "    <tr>\n",
       "      <th>3</th>\n",
       "      <td>59</td>\n",
       "      <td>2555</td>\n",
       "      <td>0</td>\n",
       "    </tr>\n",
       "    <tr>\n",
       "      <th>4</th>\n",
       "      <td>59</td>\n",
       "      <td>2564</td>\n",
       "      <td>0</td>\n",
       "    </tr>\n",
       "    <tr>\n",
       "      <th>5</th>\n",
       "      <td>59</td>\n",
       "      <td>2565</td>\n",
       "      <td>0</td>\n",
       "    </tr>\n",
       "    <tr>\n",
       "      <th>6</th>\n",
       "      <td>59</td>\n",
       "      <td>2572</td>\n",
       "      <td>0</td>\n",
       "    </tr>\n",
       "    <tr>\n",
       "      <th>7</th>\n",
       "      <td>59</td>\n",
       "      <td>2573</td>\n",
       "      <td>0</td>\n",
       "    </tr>\n",
       "    <tr>\n",
       "      <th>8</th>\n",
       "      <td>59</td>\n",
       "      <td>2574</td>\n",
       "      <td>0</td>\n",
       "    </tr>\n",
       "    <tr>\n",
       "      <th>9</th>\n",
       "      <td>59</td>\n",
       "      <td>2593</td>\n",
       "      <td>0</td>\n",
       "    </tr>\n",
       "  </tbody>\n",
       "</table>\n",
       "</div>"
      ],
      "text/plain": [
       "   shop_id  item_id  date_block_num\n",
       "0       59    22154               0\n",
       "1       59     2552               0\n",
       "2       59     2554               0\n",
       "3       59     2555               0\n",
       "4       59     2564               0\n",
       "5       59     2565               0\n",
       "6       59     2572               0\n",
       "7       59     2573               0\n",
       "8       59     2574               0\n",
       "9       59     2593               0"
      ]
     },
     "execution_count": 18,
     "metadata": {},
     "output_type": "execute_result"
    }
   ],
   "source": [
    "grid.head(10)"
   ]
  },
  {
   "cell_type": "code",
   "execution_count": 11,
   "metadata": {},
   "outputs": [],
   "source": [
    "import gc\n",
    "# Groupby data to get shop-item-month aggregates\n",
    "gb = train.groupby(index_cols, as_index=False)['item_cnt_day'].sum()\n",
    "gb = gb.rename(columns={'item_cnt_day': 'target'})\n",
    "all_data = pd.merge(grid, gb, how='left', on=index_cols).fillna(0)\n",
    "\n",
    "# Same as above but with shop-month aggregates\n",
    "gb = train.groupby(['shop_id', 'date_block_num'], as_index=False)['item_cnt_day'].sum()\n",
    "gb = gb.rename(columns={'item_cnt_day': 'target_shop'})\n",
    "all_data = pd.merge(all_data, gb, how='left', on=['shop_id', 'date_block_num']).fillna(0)\n",
    "\n",
    "# Same as above but with item-month aggregates\n",
    "gb = train.groupby(['item_id', 'date_block_num'], as_index=False)['item_cnt_day'].sum()\n",
    "gb = gb.rename(columns={'item_cnt_day': 'target_item'})\n",
    "all_data = pd.merge(all_data, gb, how='left', on=['item_id', 'date_block_num']).fillna(0)\n",
    "\n",
    "all_data = downcast_dtypes(all_data)\n",
    "del grid, gb \n",
    "gc.collect();"
   ]
  },
  {
   "cell_type": "code",
   "execution_count": 21,
   "metadata": {},
   "outputs": [
    {
     "data": {
      "text/html": [
       "<div>\n",
       "<style scoped>\n",
       "    .dataframe tbody tr th:only-of-type {\n",
       "        vertical-align: middle;\n",
       "    }\n",
       "\n",
       "    .dataframe tbody tr th {\n",
       "        vertical-align: top;\n",
       "    }\n",
       "\n",
       "    .dataframe thead th {\n",
       "        text-align: right;\n",
       "    }\n",
       "</style>\n",
       "<table border=\"1\" class=\"dataframe\">\n",
       "  <thead>\n",
       "    <tr style=\"text-align: right;\">\n",
       "      <th></th>\n",
       "      <th>shop_id</th>\n",
       "      <th>item_id</th>\n",
       "      <th>date_block_num</th>\n",
       "      <th>target</th>\n",
       "      <th>target_shop</th>\n",
       "      <th>target_item</th>\n",
       "    </tr>\n",
       "  </thead>\n",
       "  <tbody>\n",
       "    <tr>\n",
       "      <th>0</th>\n",
       "      <td>59</td>\n",
       "      <td>22154</td>\n",
       "      <td>0</td>\n",
       "      <td>1.0</td>\n",
       "      <td>2017.0</td>\n",
       "      <td>18.0</td>\n",
       "    </tr>\n",
       "    <tr>\n",
       "      <th>1</th>\n",
       "      <td>59</td>\n",
       "      <td>2552</td>\n",
       "      <td>0</td>\n",
       "      <td>0.0</td>\n",
       "      <td>2017.0</td>\n",
       "      <td>0.0</td>\n",
       "    </tr>\n",
       "    <tr>\n",
       "      <th>2</th>\n",
       "      <td>59</td>\n",
       "      <td>2554</td>\n",
       "      <td>0</td>\n",
       "      <td>0.0</td>\n",
       "      <td>2017.0</td>\n",
       "      <td>1.0</td>\n",
       "    </tr>\n",
       "    <tr>\n",
       "      <th>3</th>\n",
       "      <td>59</td>\n",
       "      <td>2555</td>\n",
       "      <td>0</td>\n",
       "      <td>0.0</td>\n",
       "      <td>2017.0</td>\n",
       "      <td>2.0</td>\n",
       "    </tr>\n",
       "    <tr>\n",
       "      <th>4</th>\n",
       "      <td>59</td>\n",
       "      <td>2564</td>\n",
       "      <td>0</td>\n",
       "      <td>0.0</td>\n",
       "      <td>2017.0</td>\n",
       "      <td>5.0</td>\n",
       "    </tr>\n",
       "    <tr>\n",
       "      <th>5</th>\n",
       "      <td>59</td>\n",
       "      <td>2565</td>\n",
       "      <td>0</td>\n",
       "      <td>0.0</td>\n",
       "      <td>2017.0</td>\n",
       "      <td>2.0</td>\n",
       "    </tr>\n",
       "    <tr>\n",
       "      <th>6</th>\n",
       "      <td>59</td>\n",
       "      <td>2572</td>\n",
       "      <td>0</td>\n",
       "      <td>0.0</td>\n",
       "      <td>2017.0</td>\n",
       "      <td>12.0</td>\n",
       "    </tr>\n",
       "    <tr>\n",
       "      <th>7</th>\n",
       "      <td>59</td>\n",
       "      <td>2573</td>\n",
       "      <td>0</td>\n",
       "      <td>0.0</td>\n",
       "      <td>2017.0</td>\n",
       "      <td>16.0</td>\n",
       "    </tr>\n",
       "    <tr>\n",
       "      <th>8</th>\n",
       "      <td>59</td>\n",
       "      <td>2574</td>\n",
       "      <td>0</td>\n",
       "      <td>2.0</td>\n",
       "      <td>2017.0</td>\n",
       "      <td>119.0</td>\n",
       "    </tr>\n",
       "    <tr>\n",
       "      <th>9</th>\n",
       "      <td>59</td>\n",
       "      <td>2593</td>\n",
       "      <td>0</td>\n",
       "      <td>0.0</td>\n",
       "      <td>2017.0</td>\n",
       "      <td>5.0</td>\n",
       "    </tr>\n",
       "  </tbody>\n",
       "</table>\n",
       "</div>"
      ],
      "text/plain": [
       "   shop_id  item_id  date_block_num  target  target_shop  target_item\n",
       "0       59    22154               0     1.0       2017.0         18.0\n",
       "1       59     2552               0     0.0       2017.0          0.0\n",
       "2       59     2554               0     0.0       2017.0          1.0\n",
       "3       59     2555               0     0.0       2017.0          2.0\n",
       "4       59     2564               0     0.0       2017.0          5.0\n",
       "5       59     2565               0     0.0       2017.0          2.0\n",
       "6       59     2572               0     0.0       2017.0         12.0\n",
       "7       59     2573               0     0.0       2017.0         16.0\n",
       "8       59     2574               0     2.0       2017.0        119.0\n",
       "9       59     2593               0     0.0       2017.0          5.0"
      ]
     },
     "execution_count": 21,
     "metadata": {},
     "output_type": "execute_result"
    }
   ],
   "source": [
    "all_data.head(10)"
   ]
  },
  {
   "cell_type": "code",
   "execution_count": 12,
   "metadata": {},
   "outputs": [
    {
     "data": {
      "application/vnd.jupyter.widget-view+json": {
       "model_id": "98b77f67841b48a4bd71de902f9f0063",
       "version_major": 2,
       "version_minor": 0
      },
      "text/plain": [
       "HBox(children=(IntProgress(value=0, max=6), HTML(value='')))"
      ]
     },
     "metadata": {},
     "output_type": "display_data"
    },
    {
     "name": "stdout",
     "output_type": "stream",
     "text": [
      "\n"
     ]
    }
   ],
   "source": [
    "# List of columns that we will use to create lags\n",
    "cols_to_rename = list(all_data.columns.difference(index_cols))\n",
    "shift_range = [1, 2, 3, 4, 5, 12]\n",
    "\n",
    "for month_shift in tqdm_notebook(shift_range):\n",
    "    train_shift = all_data[index_cols + cols_to_rename].copy()\n",
    "    train_shift['date_block_num'] = train_shift['date_block_num'] + month_shift\n",
    "\n",
    "    foo = lambda x: '{}_lag_{}'.format(x, month_shift) if x in cols_to_rename else x\n",
    "    train_shift = train_shift.rename(columns=foo)\n",
    "\n",
    "    all_data = pd.merge(all_data, train_shift, on=index_cols, how='left').fillna(0)\n",
    "    \n",
    "del train_shift"
   ]
  },
  {
   "cell_type": "code",
   "execution_count": 21,
   "metadata": {},
   "outputs": [
    {
     "data": {
      "text/html": [
       "<div>\n",
       "<style scoped>\n",
       "    .dataframe tbody tr th:only-of-type {\n",
       "        vertical-align: middle;\n",
       "    }\n",
       "\n",
       "    .dataframe tbody tr th {\n",
       "        vertical-align: top;\n",
       "    }\n",
       "\n",
       "    .dataframe thead th {\n",
       "        text-align: right;\n",
       "    }\n",
       "</style>\n",
       "<table border=\"1\" class=\"dataframe\">\n",
       "  <thead>\n",
       "    <tr style=\"text-align: right;\">\n",
       "      <th></th>\n",
       "      <th>shop_id</th>\n",
       "      <th>item_id</th>\n",
       "      <th>date_block_num</th>\n",
       "      <th>target</th>\n",
       "      <th>target_shop</th>\n",
       "      <th>target_item</th>\n",
       "      <th>target_lag_1</th>\n",
       "      <th>target_item_lag_1</th>\n",
       "      <th>target_shop_lag_1</th>\n",
       "      <th>target_lag_2</th>\n",
       "      <th>...</th>\n",
       "      <th>target_shop_lag_3</th>\n",
       "      <th>target_lag_4</th>\n",
       "      <th>target_item_lag_4</th>\n",
       "      <th>target_shop_lag_4</th>\n",
       "      <th>target_lag_5</th>\n",
       "      <th>target_item_lag_5</th>\n",
       "      <th>target_shop_lag_5</th>\n",
       "      <th>target_lag_12</th>\n",
       "      <th>target_item_lag_12</th>\n",
       "      <th>target_shop_lag_12</th>\n",
       "    </tr>\n",
       "  </thead>\n",
       "  <tbody>\n",
       "    <tr>\n",
       "      <th>0</th>\n",
       "      <td>59</td>\n",
       "      <td>22154</td>\n",
       "      <td>0</td>\n",
       "      <td>1.0</td>\n",
       "      <td>2017.0</td>\n",
       "      <td>18.0</td>\n",
       "      <td>0.0</td>\n",
       "      <td>0.0</td>\n",
       "      <td>0.0</td>\n",
       "      <td>0.0</td>\n",
       "      <td>...</td>\n",
       "      <td>0.0</td>\n",
       "      <td>0.0</td>\n",
       "      <td>0.0</td>\n",
       "      <td>0.0</td>\n",
       "      <td>0.0</td>\n",
       "      <td>0.0</td>\n",
       "      <td>0.0</td>\n",
       "      <td>0.0</td>\n",
       "      <td>0.0</td>\n",
       "      <td>0.0</td>\n",
       "    </tr>\n",
       "    <tr>\n",
       "      <th>1</th>\n",
       "      <td>59</td>\n",
       "      <td>2552</td>\n",
       "      <td>0</td>\n",
       "      <td>0.0</td>\n",
       "      <td>2017.0</td>\n",
       "      <td>0.0</td>\n",
       "      <td>0.0</td>\n",
       "      <td>0.0</td>\n",
       "      <td>0.0</td>\n",
       "      <td>0.0</td>\n",
       "      <td>...</td>\n",
       "      <td>0.0</td>\n",
       "      <td>0.0</td>\n",
       "      <td>0.0</td>\n",
       "      <td>0.0</td>\n",
       "      <td>0.0</td>\n",
       "      <td>0.0</td>\n",
       "      <td>0.0</td>\n",
       "      <td>0.0</td>\n",
       "      <td>0.0</td>\n",
       "      <td>0.0</td>\n",
       "    </tr>\n",
       "    <tr>\n",
       "      <th>2</th>\n",
       "      <td>59</td>\n",
       "      <td>2554</td>\n",
       "      <td>0</td>\n",
       "      <td>0.0</td>\n",
       "      <td>2017.0</td>\n",
       "      <td>1.0</td>\n",
       "      <td>0.0</td>\n",
       "      <td>0.0</td>\n",
       "      <td>0.0</td>\n",
       "      <td>0.0</td>\n",
       "      <td>...</td>\n",
       "      <td>0.0</td>\n",
       "      <td>0.0</td>\n",
       "      <td>0.0</td>\n",
       "      <td>0.0</td>\n",
       "      <td>0.0</td>\n",
       "      <td>0.0</td>\n",
       "      <td>0.0</td>\n",
       "      <td>0.0</td>\n",
       "      <td>0.0</td>\n",
       "      <td>0.0</td>\n",
       "    </tr>\n",
       "    <tr>\n",
       "      <th>3</th>\n",
       "      <td>59</td>\n",
       "      <td>2555</td>\n",
       "      <td>0</td>\n",
       "      <td>0.0</td>\n",
       "      <td>2017.0</td>\n",
       "      <td>2.0</td>\n",
       "      <td>0.0</td>\n",
       "      <td>0.0</td>\n",
       "      <td>0.0</td>\n",
       "      <td>0.0</td>\n",
       "      <td>...</td>\n",
       "      <td>0.0</td>\n",
       "      <td>0.0</td>\n",
       "      <td>0.0</td>\n",
       "      <td>0.0</td>\n",
       "      <td>0.0</td>\n",
       "      <td>0.0</td>\n",
       "      <td>0.0</td>\n",
       "      <td>0.0</td>\n",
       "      <td>0.0</td>\n",
       "      <td>0.0</td>\n",
       "    </tr>\n",
       "    <tr>\n",
       "      <th>4</th>\n",
       "      <td>59</td>\n",
       "      <td>2564</td>\n",
       "      <td>0</td>\n",
       "      <td>0.0</td>\n",
       "      <td>2017.0</td>\n",
       "      <td>5.0</td>\n",
       "      <td>0.0</td>\n",
       "      <td>0.0</td>\n",
       "      <td>0.0</td>\n",
       "      <td>0.0</td>\n",
       "      <td>...</td>\n",
       "      <td>0.0</td>\n",
       "      <td>0.0</td>\n",
       "      <td>0.0</td>\n",
       "      <td>0.0</td>\n",
       "      <td>0.0</td>\n",
       "      <td>0.0</td>\n",
       "      <td>0.0</td>\n",
       "      <td>0.0</td>\n",
       "      <td>0.0</td>\n",
       "      <td>0.0</td>\n",
       "    </tr>\n",
       "  </tbody>\n",
       "</table>\n",
       "<p>5 rows × 24 columns</p>\n",
       "</div>"
      ],
      "text/plain": [
       "   shop_id  item_id  date_block_num  target  target_shop  target_item  \\\n",
       "0       59    22154               0     1.0       2017.0         18.0   \n",
       "1       59     2552               0     0.0       2017.0          0.0   \n",
       "2       59     2554               0     0.0       2017.0          1.0   \n",
       "3       59     2555               0     0.0       2017.0          2.0   \n",
       "4       59     2564               0     0.0       2017.0          5.0   \n",
       "\n",
       "   target_lag_1  target_item_lag_1  target_shop_lag_1  target_lag_2  \\\n",
       "0           0.0                0.0                0.0           0.0   \n",
       "1           0.0                0.0                0.0           0.0   \n",
       "2           0.0                0.0                0.0           0.0   \n",
       "3           0.0                0.0                0.0           0.0   \n",
       "4           0.0                0.0                0.0           0.0   \n",
       "\n",
       "          ...          target_shop_lag_3  target_lag_4  target_item_lag_4  \\\n",
       "0         ...                        0.0           0.0                0.0   \n",
       "1         ...                        0.0           0.0                0.0   \n",
       "2         ...                        0.0           0.0                0.0   \n",
       "3         ...                        0.0           0.0                0.0   \n",
       "4         ...                        0.0           0.0                0.0   \n",
       "\n",
       "   target_shop_lag_4  target_lag_5  target_item_lag_5  target_shop_lag_5  \\\n",
       "0                0.0           0.0                0.0                0.0   \n",
       "1                0.0           0.0                0.0                0.0   \n",
       "2                0.0           0.0                0.0                0.0   \n",
       "3                0.0           0.0                0.0                0.0   \n",
       "4                0.0           0.0                0.0                0.0   \n",
       "\n",
       "   target_lag_12  target_item_lag_12  target_shop_lag_12  \n",
       "0            0.0                 0.0                 0.0  \n",
       "1            0.0                 0.0                 0.0  \n",
       "2            0.0                 0.0                 0.0  \n",
       "3            0.0                 0.0                 0.0  \n",
       "4            0.0                 0.0                 0.0  \n",
       "\n",
       "[5 rows x 24 columns]"
      ]
     },
     "execution_count": 21,
     "metadata": {},
     "output_type": "execute_result"
    }
   ],
   "source": [
    "all_data.head()\n"
   ]
  },
  {
   "cell_type": "code",
   "execution_count": 13,
   "metadata": {},
   "outputs": [
    {
     "data": {
      "text/plain": [
       "28"
      ]
     },
     "execution_count": 13,
     "metadata": {},
     "output_type": "execute_result"
    }
   ],
   "source": [
    "# Don't use old data from year 2013\n",
    "all_data = all_data[all_data['date_block_num'] >= 12]\n",
    "\n",
    "# List of all lagged features\n",
    "fit_cols = [col for col in all_data.columns if col[-1] in [str(item) for item in shift_range]]\n",
    "# We will drop these at fitting stage\n",
    "to_drop_cols = ['target_item', 'target_shop', 'target', 'date_block_num']\n",
    "to_drop_cols = list(set(list(all_data.columns)) - (set(fit_cols)|set(index_cols))) + ['date_block_num']\n",
    "\n",
    "# Category for each item\n",
    "item_category_mapping = items[['item_id', 'item_category_id']].drop_duplicates()\n",
    "all_data = pd.merge(all_data, item_category_mapping, how='left', on='item_id')\n",
    "all_data = downcast_dtypes(all_data)\n",
    "\n",
    "gc.collect()"
   ]
  },
  {
   "cell_type": "code",
   "execution_count": 23,
   "metadata": {
    "scrolled": true
   },
   "outputs": [
    {
     "data": {
      "text/html": [
       "<div>\n",
       "<style scoped>\n",
       "    .dataframe tbody tr th:only-of-type {\n",
       "        vertical-align: middle;\n",
       "    }\n",
       "\n",
       "    .dataframe tbody tr th {\n",
       "        vertical-align: top;\n",
       "    }\n",
       "\n",
       "    .dataframe thead th {\n",
       "        text-align: right;\n",
       "    }\n",
       "</style>\n",
       "<table border=\"1\" class=\"dataframe\">\n",
       "  <thead>\n",
       "    <tr style=\"text-align: right;\">\n",
       "      <th></th>\n",
       "      <th>shop_id</th>\n",
       "      <th>item_id</th>\n",
       "      <th>date_block_num</th>\n",
       "      <th>target</th>\n",
       "      <th>target_shop</th>\n",
       "      <th>target_item</th>\n",
       "      <th>target_lag_1</th>\n",
       "      <th>target_item_lag_1</th>\n",
       "      <th>target_shop_lag_1</th>\n",
       "      <th>target_lag_2</th>\n",
       "      <th>...</th>\n",
       "      <th>target_lag_4</th>\n",
       "      <th>target_item_lag_4</th>\n",
       "      <th>target_shop_lag_4</th>\n",
       "      <th>target_lag_5</th>\n",
       "      <th>target_item_lag_5</th>\n",
       "      <th>target_shop_lag_5</th>\n",
       "      <th>target_lag_12</th>\n",
       "      <th>target_item_lag_12</th>\n",
       "      <th>target_shop_lag_12</th>\n",
       "      <th>item_category_id</th>\n",
       "    </tr>\n",
       "  </thead>\n",
       "  <tbody>\n",
       "    <tr>\n",
       "      <th>0</th>\n",
       "      <td>54</td>\n",
       "      <td>10297</td>\n",
       "      <td>12</td>\n",
       "      <td>4.0</td>\n",
       "      <td>8198.0</td>\n",
       "      <td>23.0</td>\n",
       "      <td>3.0</td>\n",
       "      <td>42.0</td>\n",
       "      <td>10055.0</td>\n",
       "      <td>0.0</td>\n",
       "      <td>...</td>\n",
       "      <td>0.0</td>\n",
       "      <td>0.0</td>\n",
       "      <td>0.0</td>\n",
       "      <td>0.0</td>\n",
       "      <td>0.0</td>\n",
       "      <td>0.0</td>\n",
       "      <td>0.0</td>\n",
       "      <td>0.0</td>\n",
       "      <td>0.0</td>\n",
       "      <td>37</td>\n",
       "    </tr>\n",
       "    <tr>\n",
       "      <th>1</th>\n",
       "      <td>54</td>\n",
       "      <td>10296</td>\n",
       "      <td>12</td>\n",
       "      <td>3.0</td>\n",
       "      <td>8198.0</td>\n",
       "      <td>17.0</td>\n",
       "      <td>0.0</td>\n",
       "      <td>24.0</td>\n",
       "      <td>10055.0</td>\n",
       "      <td>0.0</td>\n",
       "      <td>...</td>\n",
       "      <td>0.0</td>\n",
       "      <td>0.0</td>\n",
       "      <td>0.0</td>\n",
       "      <td>0.0</td>\n",
       "      <td>0.0</td>\n",
       "      <td>0.0</td>\n",
       "      <td>0.0</td>\n",
       "      <td>0.0</td>\n",
       "      <td>0.0</td>\n",
       "      <td>38</td>\n",
       "    </tr>\n",
       "    <tr>\n",
       "      <th>2</th>\n",
       "      <td>54</td>\n",
       "      <td>10298</td>\n",
       "      <td>12</td>\n",
       "      <td>14.0</td>\n",
       "      <td>8198.0</td>\n",
       "      <td>182.0</td>\n",
       "      <td>21.0</td>\n",
       "      <td>369.0</td>\n",
       "      <td>10055.0</td>\n",
       "      <td>119.0</td>\n",
       "      <td>...</td>\n",
       "      <td>0.0</td>\n",
       "      <td>0.0</td>\n",
       "      <td>0.0</td>\n",
       "      <td>0.0</td>\n",
       "      <td>0.0</td>\n",
       "      <td>0.0</td>\n",
       "      <td>0.0</td>\n",
       "      <td>0.0</td>\n",
       "      <td>0.0</td>\n",
       "      <td>40</td>\n",
       "    </tr>\n",
       "    <tr>\n",
       "      <th>3</th>\n",
       "      <td>54</td>\n",
       "      <td>10300</td>\n",
       "      <td>12</td>\n",
       "      <td>3.0</td>\n",
       "      <td>8198.0</td>\n",
       "      <td>26.0</td>\n",
       "      <td>1.0</td>\n",
       "      <td>54.0</td>\n",
       "      <td>10055.0</td>\n",
       "      <td>31.0</td>\n",
       "      <td>...</td>\n",
       "      <td>0.0</td>\n",
       "      <td>0.0</td>\n",
       "      <td>0.0</td>\n",
       "      <td>0.0</td>\n",
       "      <td>0.0</td>\n",
       "      <td>0.0</td>\n",
       "      <td>0.0</td>\n",
       "      <td>0.0</td>\n",
       "      <td>0.0</td>\n",
       "      <td>37</td>\n",
       "    </tr>\n",
       "    <tr>\n",
       "      <th>4</th>\n",
       "      <td>54</td>\n",
       "      <td>10284</td>\n",
       "      <td>12</td>\n",
       "      <td>1.0</td>\n",
       "      <td>8198.0</td>\n",
       "      <td>3.0</td>\n",
       "      <td>0.0</td>\n",
       "      <td>4.0</td>\n",
       "      <td>10055.0</td>\n",
       "      <td>0.0</td>\n",
       "      <td>...</td>\n",
       "      <td>0.0</td>\n",
       "      <td>3.0</td>\n",
       "      <td>7827.0</td>\n",
       "      <td>0.0</td>\n",
       "      <td>10.0</td>\n",
       "      <td>7792.0</td>\n",
       "      <td>0.0</td>\n",
       "      <td>0.0</td>\n",
       "      <td>0.0</td>\n",
       "      <td>57</td>\n",
       "    </tr>\n",
       "  </tbody>\n",
       "</table>\n",
       "<p>5 rows × 25 columns</p>\n",
       "</div>"
      ],
      "text/plain": [
       "   shop_id  item_id  date_block_num  target  target_shop  target_item  \\\n",
       "0       54    10297              12     4.0       8198.0         23.0   \n",
       "1       54    10296              12     3.0       8198.0         17.0   \n",
       "2       54    10298              12    14.0       8198.0        182.0   \n",
       "3       54    10300              12     3.0       8198.0         26.0   \n",
       "4       54    10284              12     1.0       8198.0          3.0   \n",
       "\n",
       "   target_lag_1  target_item_lag_1  target_shop_lag_1  target_lag_2  \\\n",
       "0           3.0               42.0            10055.0           0.0   \n",
       "1           0.0               24.0            10055.0           0.0   \n",
       "2          21.0              369.0            10055.0         119.0   \n",
       "3           1.0               54.0            10055.0          31.0   \n",
       "4           0.0                4.0            10055.0           0.0   \n",
       "\n",
       "         ...         target_lag_4  target_item_lag_4  target_shop_lag_4  \\\n",
       "0        ...                  0.0                0.0                0.0   \n",
       "1        ...                  0.0                0.0                0.0   \n",
       "2        ...                  0.0                0.0                0.0   \n",
       "3        ...                  0.0                0.0                0.0   \n",
       "4        ...                  0.0                3.0             7827.0   \n",
       "\n",
       "   target_lag_5  target_item_lag_5  target_shop_lag_5  target_lag_12  \\\n",
       "0           0.0                0.0                0.0            0.0   \n",
       "1           0.0                0.0                0.0            0.0   \n",
       "2           0.0                0.0                0.0            0.0   \n",
       "3           0.0                0.0                0.0            0.0   \n",
       "4           0.0               10.0             7792.0            0.0   \n",
       "\n",
       "   target_item_lag_12  target_shop_lag_12  item_category_id  \n",
       "0                 0.0                 0.0                37  \n",
       "1                 0.0                 0.0                38  \n",
       "2                 0.0                 0.0                40  \n",
       "3                 0.0                 0.0                37  \n",
       "4                 0.0                 0.0                57  \n",
       "\n",
       "[5 rows x 25 columns]"
      ]
     },
     "execution_count": 23,
     "metadata": {},
     "output_type": "execute_result"
    }
   ],
   "source": [
    "all_data.head()\n",
    "\n"
   ]
  },
  {
   "cell_type": "code",
   "execution_count": 14,
   "metadata": {},
   "outputs": [],
   "source": [
    "dates = all_data['date_block_num']\n",
    "\n",
    "dates_train  = dates[dates <  test_block]\n",
    "dates_test  = dates[dates == test_block]\n",
    "\n",
    "X_train = all_data[all_data.date_block_num < 34].drop(to_drop_cols, axis=1)\n",
    "X_test = all_data[all_data.date_block_num == 34].drop(to_drop_cols, axis=1)\n",
    "\n",
    "\n",
    "Y_train = all_data.loc[dates <  34, 'target'].values\n",
    "Y_valid =  all_data.loc[dates == 33, 'target'].values\n",
    "\n"
   ]
  },
  {
   "cell_type": "code",
   "execution_count": 25,
   "metadata": {},
   "outputs": [
    {
     "data": {
      "text/html": [
       "<div>\n",
       "<style scoped>\n",
       "    .dataframe tbody tr th:only-of-type {\n",
       "        vertical-align: middle;\n",
       "    }\n",
       "\n",
       "    .dataframe tbody tr th {\n",
       "        vertical-align: top;\n",
       "    }\n",
       "\n",
       "    .dataframe thead th {\n",
       "        text-align: right;\n",
       "    }\n",
       "</style>\n",
       "<table border=\"1\" class=\"dataframe\">\n",
       "  <thead>\n",
       "    <tr style=\"text-align: right;\">\n",
       "      <th></th>\n",
       "      <th>shop_id</th>\n",
       "      <th>item_id</th>\n",
       "      <th>target_lag_1</th>\n",
       "      <th>target_item_lag_1</th>\n",
       "      <th>target_shop_lag_1</th>\n",
       "      <th>target_lag_2</th>\n",
       "      <th>target_item_lag_2</th>\n",
       "      <th>target_shop_lag_2</th>\n",
       "      <th>target_lag_3</th>\n",
       "      <th>target_item_lag_3</th>\n",
       "      <th>...</th>\n",
       "      <th>target_lag_4</th>\n",
       "      <th>target_item_lag_4</th>\n",
       "      <th>target_shop_lag_4</th>\n",
       "      <th>target_lag_5</th>\n",
       "      <th>target_item_lag_5</th>\n",
       "      <th>target_shop_lag_5</th>\n",
       "      <th>target_lag_12</th>\n",
       "      <th>target_item_lag_12</th>\n",
       "      <th>target_shop_lag_12</th>\n",
       "      <th>item_category_id</th>\n",
       "    </tr>\n",
       "  </thead>\n",
       "  <tbody>\n",
       "    <tr>\n",
       "      <th>0</th>\n",
       "      <td>54</td>\n",
       "      <td>10297</td>\n",
       "      <td>3.0</td>\n",
       "      <td>42.0</td>\n",
       "      <td>10055.0</td>\n",
       "      <td>0.0</td>\n",
       "      <td>2.0</td>\n",
       "      <td>7978.0</td>\n",
       "      <td>0.0</td>\n",
       "      <td>0.0</td>\n",
       "      <td>...</td>\n",
       "      <td>0.0</td>\n",
       "      <td>0.0</td>\n",
       "      <td>0.0</td>\n",
       "      <td>0.0</td>\n",
       "      <td>0.0</td>\n",
       "      <td>0.0</td>\n",
       "      <td>0.0</td>\n",
       "      <td>0.0</td>\n",
       "      <td>0.0</td>\n",
       "      <td>37</td>\n",
       "    </tr>\n",
       "    <tr>\n",
       "      <th>1</th>\n",
       "      <td>54</td>\n",
       "      <td>10296</td>\n",
       "      <td>0.0</td>\n",
       "      <td>24.0</td>\n",
       "      <td>10055.0</td>\n",
       "      <td>0.0</td>\n",
       "      <td>0.0</td>\n",
       "      <td>0.0</td>\n",
       "      <td>0.0</td>\n",
       "      <td>0.0</td>\n",
       "      <td>...</td>\n",
       "      <td>0.0</td>\n",
       "      <td>0.0</td>\n",
       "      <td>0.0</td>\n",
       "      <td>0.0</td>\n",
       "      <td>0.0</td>\n",
       "      <td>0.0</td>\n",
       "      <td>0.0</td>\n",
       "      <td>0.0</td>\n",
       "      <td>0.0</td>\n",
       "      <td>38</td>\n",
       "    </tr>\n",
       "    <tr>\n",
       "      <th>2</th>\n",
       "      <td>54</td>\n",
       "      <td>10298</td>\n",
       "      <td>21.0</td>\n",
       "      <td>369.0</td>\n",
       "      <td>10055.0</td>\n",
       "      <td>119.0</td>\n",
       "      <td>1309.0</td>\n",
       "      <td>7978.0</td>\n",
       "      <td>7.0</td>\n",
       "      <td>144.0</td>\n",
       "      <td>...</td>\n",
       "      <td>0.0</td>\n",
       "      <td>0.0</td>\n",
       "      <td>0.0</td>\n",
       "      <td>0.0</td>\n",
       "      <td>0.0</td>\n",
       "      <td>0.0</td>\n",
       "      <td>0.0</td>\n",
       "      <td>0.0</td>\n",
       "      <td>0.0</td>\n",
       "      <td>40</td>\n",
       "    </tr>\n",
       "    <tr>\n",
       "      <th>3</th>\n",
       "      <td>54</td>\n",
       "      <td>10300</td>\n",
       "      <td>1.0</td>\n",
       "      <td>54.0</td>\n",
       "      <td>10055.0</td>\n",
       "      <td>31.0</td>\n",
       "      <td>361.0</td>\n",
       "      <td>7978.0</td>\n",
       "      <td>0.0</td>\n",
       "      <td>53.0</td>\n",
       "      <td>...</td>\n",
       "      <td>0.0</td>\n",
       "      <td>0.0</td>\n",
       "      <td>0.0</td>\n",
       "      <td>0.0</td>\n",
       "      <td>0.0</td>\n",
       "      <td>0.0</td>\n",
       "      <td>0.0</td>\n",
       "      <td>0.0</td>\n",
       "      <td>0.0</td>\n",
       "      <td>37</td>\n",
       "    </tr>\n",
       "    <tr>\n",
       "      <th>4</th>\n",
       "      <td>54</td>\n",
       "      <td>10284</td>\n",
       "      <td>0.0</td>\n",
       "      <td>4.0</td>\n",
       "      <td>10055.0</td>\n",
       "      <td>0.0</td>\n",
       "      <td>3.0</td>\n",
       "      <td>7978.0</td>\n",
       "      <td>0.0</td>\n",
       "      <td>5.0</td>\n",
       "      <td>...</td>\n",
       "      <td>0.0</td>\n",
       "      <td>3.0</td>\n",
       "      <td>7827.0</td>\n",
       "      <td>0.0</td>\n",
       "      <td>10.0</td>\n",
       "      <td>7792.0</td>\n",
       "      <td>0.0</td>\n",
       "      <td>0.0</td>\n",
       "      <td>0.0</td>\n",
       "      <td>57</td>\n",
       "    </tr>\n",
       "  </tbody>\n",
       "</table>\n",
       "<p>5 rows × 21 columns</p>\n",
       "</div>"
      ],
      "text/plain": [
       "   shop_id  item_id  target_lag_1  target_item_lag_1  target_shop_lag_1  \\\n",
       "0       54    10297           3.0               42.0            10055.0   \n",
       "1       54    10296           0.0               24.0            10055.0   \n",
       "2       54    10298          21.0              369.0            10055.0   \n",
       "3       54    10300           1.0               54.0            10055.0   \n",
       "4       54    10284           0.0                4.0            10055.0   \n",
       "\n",
       "   target_lag_2  target_item_lag_2  target_shop_lag_2  target_lag_3  \\\n",
       "0           0.0                2.0             7978.0           0.0   \n",
       "1           0.0                0.0                0.0           0.0   \n",
       "2         119.0             1309.0             7978.0           7.0   \n",
       "3          31.0              361.0             7978.0           0.0   \n",
       "4           0.0                3.0             7978.0           0.0   \n",
       "\n",
       "   target_item_lag_3        ...         target_lag_4  target_item_lag_4  \\\n",
       "0                0.0        ...                  0.0                0.0   \n",
       "1                0.0        ...                  0.0                0.0   \n",
       "2              144.0        ...                  0.0                0.0   \n",
       "3               53.0        ...                  0.0                0.0   \n",
       "4                5.0        ...                  0.0                3.0   \n",
       "\n",
       "   target_shop_lag_4  target_lag_5  target_item_lag_5  target_shop_lag_5  \\\n",
       "0                0.0           0.0                0.0                0.0   \n",
       "1                0.0           0.0                0.0                0.0   \n",
       "2                0.0           0.0                0.0                0.0   \n",
       "3                0.0           0.0                0.0                0.0   \n",
       "4             7827.0           0.0               10.0             7792.0   \n",
       "\n",
       "   target_lag_12  target_item_lag_12  target_shop_lag_12  item_category_id  \n",
       "0            0.0                 0.0                 0.0                37  \n",
       "1            0.0                 0.0                 0.0                38  \n",
       "2            0.0                 0.0                 0.0                40  \n",
       "3            0.0                 0.0                 0.0                37  \n",
       "4            0.0                 0.0                 0.0                57  \n",
       "\n",
       "[5 rows x 21 columns]"
      ]
     },
     "execution_count": 25,
     "metadata": {},
     "output_type": "execute_result"
    }
   ],
   "source": [
    "X_train.head()"
   ]
  },
  {
   "cell_type": "code",
   "execution_count": 34,
   "metadata": {},
   "outputs": [
    {
     "data": {
      "text/plain": [
       "array([ 4.,  3., 14., ...,  0.,  0.,  0.], dtype=float32)"
      ]
     },
     "execution_count": 34,
     "metadata": {},
     "output_type": "execute_result"
    }
   ],
   "source": [
    "Y_train\n"
   ]
  },
  {
   "cell_type": "code",
   "execution_count": 15,
   "metadata": {},
   "outputs": [],
   "source": [
    "target_range = [0, 20]\n"
   ]
  },
  {
   "cell_type": "markdown",
   "metadata": {},
   "source": [
    "# Modelling "
   ]
  },
  {
   "cell_type": "markdown",
   "metadata": {},
   "source": [
    "Neural Networks"
   ]
  },
  {
   "cell_type": "code",
   "execution_count": 16,
   "metadata": {},
   "outputs": [],
   "source": [
    "import numpy as np\n",
    "import pandas as pd\n",
    "from sklearn.metrics import mean_squared_error\n",
    "from keras.models import Model\n",
    "from keras.layers import Input, Dense, Dropout\n",
    "from keras.regularizers import l2, l1\n",
    "from keras.optimizers import RMSprop, Adam\n"
   ]
  },
  {
   "cell_type": "code",
   "execution_count": 18,
   "metadata": {},
   "outputs": [
    {
     "name": "stdout",
     "output_type": "stream",
     "text": [
      "Epoch 1/5\n"
     ]
    },
    {
     "name": "stdout",
     "output_type": "stream",
     "text": [
      "4710000/6425094 [====================>.........] - ETA: 15:32 - loss: 23.7435 - mse: 23.73 - ETA: 8:12 - loss: 14.2651 - mse: 14.2570 - ETA: 4:18 - loss: 13.9395 - mse: 13.931 - ETA: 2:58 - loss: 11.5537 - mse: 11.545 - ETA: 2:18 - loss: 10.3773 - mse: 10.369 - ETA: 1:54 - loss: 8.7321 - mse: 8.7243  - ETA: 1:37 - loss: 8.2694 - mse: 8.261 - ETA: 1:25 - loss: 7.5032 - mse: 7.495 - ETA: 1:13 - loss: 9.0606 - mse: 9.053 - ETA: 1:03 - loss: 11.4077 - mse: 11.400 - ETA: 59s - loss: 11.8327 - mse: 11.825 - ETA: 55s - loss: 11.2268 - mse: 11.21 - ETA: 51s - loss: 10.1966 - mse: 10.18 - ETA: 47s - loss: 9.5861 - mse: 9.5787 - ETA: 45s - loss: 9.1429 - mse: 9.13 - ETA: 43s - loss: 9.1745 - mse: 9.16 - ETA: 42s - loss: 8.8510 - mse: 8.84 - ETA: 40s - loss: 8.4773 - mse: 8.47 - ETA: 39s - loss: 8.2248 - mse: 8.21 - ETA: 38s - loss: 8.0449 - mse: 8.03 - ETA: 36s - loss: 7.8523 - mse: 7.84 - ETA: 35s - loss: 8.5634 - mse: 8.55 - ETA: 34s - loss: 10.0627 - mse: 10.05 - ETA: 33s - loss: 9.7968 - mse: 9.7897 - ETA: 32s - loss: 9.5375 - mse: 9.53 - ETA: 32s - loss: 9.3863 - mse: 9.37 - ETA: 31s - loss: 9.9478 - mse: 9.94 - ETA: 30s - loss: 9.8035 - mse: 9.79 - ETA: 29s - loss: 9.5750 - mse: 9.56 - ETA: 28s - loss: 9.2472 - mse: 9.24 - ETA: 28s - loss: 9.0976 - mse: 9.09 - ETA: 27s - loss: 9.8289 - mse: 9.82 - ETA: 27s - loss: 10.1948 - mse: 10.18 - ETA: 27s - loss: 9.9746 - mse: 9.9675 - ETA: 26s - loss: 9.9269 - mse: 9.91 - ETA: 26s - loss: 10.0466 - mse: 10.03 - ETA: 25s - loss: 9.9525 - mse: 9.9453 - ETA: 25s - loss: 9.7947 - mse: 9.78 - ETA: 24s - loss: 9.8805 - mse: 9.87 - ETA: 24s - loss: 9.6990 - mse: 9.69 - ETA: 24s - loss: 9.5442 - mse: 9.53 - ETA: 23s - loss: 9.4345 - mse: 9.42 - ETA: 23s - loss: 9.6469 - mse: 9.63 - ETA: 23s - loss: 9.4118 - mse: 9.40 - ETA: 22s - loss: 9.2835 - mse: 9.27 - ETA: 22s - loss: 9.1438 - mse: 9.13 - ETA: 22s - loss: 9.0810 - mse: 9.07 - ETA: 22s - loss: 9.0448 - mse: 9.03 - ETA: 21s - loss: 11.4970 - mse: 11.48 - ETA: 21s - loss: 11.3347 - mse: 11.32 - ETA: 21s - loss: 11.2525 - mse: 11.24 - ETA: 21s - loss: 11.4242 - mse: 11.41 - ETA: 21s - loss: 11.7970 - mse: 11.78 - ETA: 20s - loss: 11.6841 - mse: 11.67 - ETA: 20s - loss: 11.7511 - mse: 11.74 - ETA: 20s - loss: 11.6520 - mse: 11.64 - ETA: 20s - loss: 11.5852 - mse: 11.57 - ETA: 19s - loss: 11.4780 - mse: 11.46 - ETA: 19s - loss: 11.3457 - mse: 11.33 - ETA: 19s - loss: 11.1695 - mse: 11.16 - ETA: 19s - loss: 11.0436 - mse: 11.03 - ETA: 19s - loss: 10.9226 - mse: 10.91 - ETA: 19s - loss: 10.8596 - mse: 10.85 - ETA: 18s - loss: 10.7490 - mse: 10.74 - ETA: 18s - loss: 10.6903 - mse: 10.68 - ETA: 18s - loss: 10.6286 - mse: 10.62 - ETA: 18s - loss: 10.5791 - mse: 10.57 - ETA: 18s - loss: 10.6061 - mse: 10.59 - ETA: 18s - loss: 10.5012 - mse: 10.49 - ETA: 18s - loss: 10.3988 - mse: 10.39 - ETA: 18s - loss: 10.5340 - mse: 10.52 - ETA: 17s - loss: 10.4618 - mse: 10.45 - ETA: 17s - loss: 10.3650 - mse: 10.35 - ETA: 17s - loss: 10.9389 - mse: 10.93 - ETA: 17s - loss: 10.8561 - mse: 10.84 - ETA: 17s - loss: 10.9081 - mse: 10.89 - ETA: 17s - loss: 10.8760 - mse: 10.86 - ETA: 17s - loss: 10.7744 - mse: 10.76 - ETA: 17s - loss: 10.7094 - mse: 10.70 - ETA: 17s - loss: 10.6210 - mse: 10.61 - ETA: 16s - loss: 10.5262 - mse: 10.51 - ETA: 16s - loss: 10.4359 - mse: 10.42 - ETA: 16s - loss: 10.3956 - mse: 10.38 - ETA: 16s - loss: 10.3155 - mse: 10.30 - ETA: 16s - loss: 10.2271 - mse: 10.21 - ETA: 16s - loss: 10.5509 - mse: 10.54 - ETA: 16s - loss: 10.6411 - mse: 10.63 - ETA: 16s - loss: 10.5742 - mse: 10.56 - ETA: 16s - loss: 10.5235 - mse: 10.51 - ETA: 15s - loss: 10.3965 - mse: 10.38 - ETA: 15s - loss: 10.3480 - mse: 10.33 - ETA: 15s - loss: 10.3460 - mse: 10.33 - ETA: 15s - loss: 10.2780 - mse: 10.26 - ETA: 15s - loss: 10.1839 - mse: 10.17 - ETA: 15s - loss: 10.1060 - mse: 10.09 - ETA: 15s - loss: 10.0147 - mse: 10.00 - ETA: 15s - loss: 9.9423 - mse: 9.9323 - ETA: 14s - loss: 9.8887 - mse: 9.87 - ETA: 14s - loss: 9.8288 - mse: 9.81 - ETA: 14s - loss: 9.7804 - mse: 9.77 - ETA: 14s - loss: 9.7326 - mse: 9.72 - ETA: 14s - loss: 9.8035 - mse: 9.79 - ETA: 14s - loss: 9.7845 - mse: 9.77 - ETA: 14s - loss: 9.7415 - mse: 9.73 - ETA: 14s - loss: 9.7234 - mse: 9.71 - ETA: 14s - loss: 9.6937 - mse: 9.68 - ETA: 13s - loss: 9.6812 - mse: 9.67 - ETA: 13s - loss: 9.6290 - mse: 9.61 - ETA: 13s - loss: 9.5817 - mse: 9.57 - ETA: 13s - loss: 9.6537 - mse: 9.64 - ETA: 13s - loss: 9.5947 - mse: 9.58 - ETA: 13s - loss: 9.8666 - mse: 9.85 - ETA: 13s - loss: 9.8268 - mse: 9.81 - ETA: 13s - loss: 9.7377 - mse: 9.72 - ETA: 13s - loss: 9.6805 - mse: 9.66 - ETA: 12s - loss: 9.7879 - mse: 9.77 - ETA: 12s - loss: 9.7360 - mse: 9.72 - ETA: 12s - loss: 9.7157 - mse: 9.70 - ETA: 12s - loss: 9.6652 - mse: 9.65 - ETA: 12s - loss: 9.6658 - mse: 9.65 - ETA: 12s - loss: 9.6083 - mse: 9.59 - ETA: 12s - loss: 9.5464 - mse: 9.53 - ETA: 12s - loss: 9.5037 - mse: 9.49 - ETA: 12s - loss: 9.4720 - mse: 9.46 - ETA: 12s - loss: 9.4599 - mse: 9.44 - ETA: 12s - loss: 9.4214 - mse: 9.41 - ETA: 11s - loss: 9.4161 - mse: 9.40 - ETA: 11s - loss: 9.3834 - mse: 9.37 - ETA: 11s - loss: 9.3485 - mse: 9.33 - ETA: 11s - loss: 9.3047 - mse: 9.29 - ETA: 11s - loss: 9.2551 - mse: 9.24 - ETA: 11s - loss: 9.2395 - mse: 9.22 - ETA: 11s - loss: 9.2490 - mse: 9.23 - ETA: 11s - loss: 9.2045 - mse: 9.19 - ETA: 11s - loss: 9.1517 - mse: 9.14 - ETA: 11s - loss: 9.1462 - mse: 9.13 - ETA: 11s - loss: 9.1012 - mse: 9.08 - ETA: 10s - loss: 9.0592 - mse: 9.04 - ETA: 10s - loss: 9.0206 - mse: 9.00 - ETA: 10s - loss: 9.0451 - mse: 9.03 - ETA: 10s - loss: 9.0082 - mse: 8.99 - ETA: 10s - loss: 8.9685 - mse: 8.95 - ETA: 10s - loss: 8.9453 - mse: 8.93 - ETA: 10s - loss: 8.9147 - mse: 8.90 - ETA: 10s - loss: 8.8827 - mse: 8.87 - ETA: 10s - loss: 8.8936 - mse: 8.88 - ETA: 10s - loss: 8.9007 - mse: 8.88 - ETA: 10s - loss: 8.8615 - mse: 8.84 - ETA: 10s - loss: 9.1821 - mse: 9.16 - ETA: 10s - loss: 9.3261 - mse: 9.31 - ETA: 9s - loss: 9.2808 - mse: 9.2684 - ETA: 9s - loss: 9.2356 - mse: 9.223 - ETA: 9s - loss: 9.2967 - mse: 9.284 - ETA: 9s - loss: 9.2337 - mse: 9.221 - ETA: 9s - loss: 9.1740 - mse: 9.161 - ETA: 9s - loss: 9.1279 - mse: 9.115 - ETA: 9s - loss: 9.1309 - mse: 9.118 - ETA: 9s - loss: 9.1160 - mse: 9.103 - ETA: 9s - loss: 9.0947 - mse: 9.081 - ETA: 9s - loss: 9.0415 - mse: 9.028 - ETA: 9s - loss: 9.0515 - mse: 9.038 - ETA: 9s - loss: 9.0161 - mse: 9.003 - ETA: 8s - loss: 9.0653 - mse: 9.052 - ETA: 8s - loss: 9.0288 - mse: 9.015 - ETA: 8s - loss: 8.9882 - mse: 8.975 - ETA: 8s - loss: 8.9349 - mse: 8.921 - ETA: 8s - loss: 8.9136 - mse: 8.900 - ETA: 8s - loss: 8.8729 - mse: 8.859 - ETA: 8s - loss: 8.9532 - mse: 8.939 - ETA: 8s - loss: 8.9367 - mse: 8.923 - ETA: 8s - loss: 8.9109 - mse: 8.897 - ETA: 8s - loss: 8.9110 - mse: 8.897 - ETA: 8s - loss: 8.9074 - mse: 8.893 - ETA: 8s - loss: 8.9199 - mse: 8.906 - ETA: 7s - loss: 8.9482 - mse: 8.934 - ETA: 7s - loss: 8.8966 - mse: 8.882 - ETA: 7s - loss: 8.8627 - mse: 8.848 - ETA: 7s - loss: 8.8319 - mse: 8.818 - ETA: 7s - loss: 8.7969 - mse: 8.783 - ETA: 7s - loss: 8.8157 - mse: 8.801 - ETA: 7s - loss: 8.7864 - mse: 8.772 - ETA: 7s - loss: 8.8814 - mse: 8.867 - ETA: 7s - loss: 8.8560 - mse: 8.841 - ETA: 7s - loss: 8.9019 - mse: 8.887 - ETA: 7s - loss: 8.8729 - mse: 8.858 - ETA: 7s - loss: 8.8252 - mse: 8.810 - ETA: 7s - loss: 8.7951 - mse: 8.780 - ETA: 6s - loss: 9.0041 - mse: 8.989 - ETA: 6s - loss: 8.9623 - mse: 8.947 - ETA: 6s - loss: 8.9239 - mse: 8.909 - ETA: 6s - loss: 8.9342 - mse: 8.919 - ETA: 6s - loss: 8.8863 - mse: 8.871 - ETA: 6s - loss: 8.8455 - mse: 8.830 - ETA: 6s - loss: 9.1047 - mse: 9.090 - ETA: 6s - loss: 9.0790 - mse: 9.064 - ETA: 6s - loss: 9.0342 - mse: 9.019 - ETA: 6s - loss: 9.0069 - mse: 8.992 - ETA: 6s - loss: 9.0118 - mse: 8.996 - ETA: 6s - loss: 8.9699 - mse: 8.955 - ETA: 5s - loss: 8.9305 - mse: 8.915 - ETA: 5s - loss: 9.0982 - mse: 9.083 - ETA: 5s - loss: 9.0879 - mse: 9.072 - ETA: 5s - loss: 9.0570 - mse: 9.041 - ETA: 5s - loss: 9.0751 - mse: 9.059 - ETA: 5s - loss: 9.0547 - mse: 9.039 - ETA: 5s - loss: 9.0124 - mse: 8.997 - ETA: 5s - loss: 8.9903 - mse: 8.974 - ETA: 5s - loss: 9.0459 - mse: 9.030 - ETA: 5s - loss: 9.1682 - mse: 9.152 - ETA: 5s - loss: 9.1557 - mse: 9.1406425094/6425094 [==============================] - ETA: 5s - loss: 9.1297 - mse: 9.114 - ETA: 5s - loss: 9.1011 - mse: 9.085 - ETA: 4s - loss: 9.0727 - mse: 9.056 - ETA: 4s - loss: 9.1697 - mse: 9.153 - ETA: 4s - loss: 9.1462 - mse: 9.130 - ETA: 4s - loss: 9.1206 - mse: 9.104 - ETA: 4s - loss: 9.1232 - mse: 9.107 - ETA: 4s - loss: 9.1251 - mse: 9.109 - ETA: 4s - loss: 9.1024 - mse: 9.086 - ETA: 4s - loss: 9.1902 - mse: 9.174 - ETA: 4s - loss: 9.1742 - mse: 9.158 - ETA: 4s - loss: 9.2784 - mse: 9.262 - ETA: 4s - loss: 9.2705 - mse: 9.254 - ETA: 4s - loss: 9.2390 - mse: 9.222 - ETA: 4s - loss: 9.2150 - mse: 9.198 - ETA: 4s - loss: 9.1908 - mse: 9.174 - ETA: 4s - loss: 9.1650 - mse: 9.148 - ETA: 3s - loss: 9.1494 - mse: 9.132 - ETA: 3s - loss: 9.1222 - mse: 9.105 - ETA: 3s - loss: 9.0979 - mse: 9.081 - ETA: 3s - loss: 9.0724 - mse: 9.055 - ETA: 3s - loss: 9.0483 - mse: 9.031 - ETA: 3s - loss: 9.0269 - mse: 9.010 - ETA: 3s - loss: 9.1094 - mse: 9.092 - ETA: 3s - loss: 9.0935 - mse: 9.076 - ETA: 3s - loss: 9.0579 - mse: 9.040 - ETA: 3s - loss: 9.0597 - mse: 9.042 - ETA: 3s - loss: 9.0385 - mse: 9.021 - ETA: 3s - loss: 9.0156 - mse: 8.998 - ETA: 3s - loss: 9.5265 - mse: 9.509 - ETA: 3s - loss: 9.5012 - mse: 9.483 - ETA: 2s - loss: 9.4669 - mse: 9.449 - ETA: 2s - loss: 9.4388 - mse: 9.421 - ETA: 2s - loss: 9.4198 - mse: 9.402 - ETA: 2s - loss: 9.3967 - mse: 9.379 - ETA: 2s - loss: 9.3701 - mse: 9.352 - ETA: 2s - loss: 9.3436 - mse: 9.325 - ETA: 2s - loss: 9.3182 - mse: 9.300 - ETA: 2s - loss: 9.2882 - mse: 9.270 - ETA: 2s - loss: 9.2748 - mse: 9.256 - ETA: 2s - loss: 9.2652 - mse: 9.247 - ETA: 2s - loss: 9.2573 - mse: 9.239 - ETA: 2s - loss: 9.2334 - mse: 9.215 - ETA: 2s - loss: 9.2014 - mse: 9.183 - ETA: 2s - loss: 9.1697 - mse: 9.151 - ETA: 2s - loss: 9.1440 - mse: 9.125 - ETA: 1s - loss: 9.1207 - mse: 9.102 - ETA: 1s - loss: 9.0991 - mse: 9.080 - ETA: 1s - loss: 9.0742 - mse: 9.055 - ETA: 1s - loss: 9.0779 - mse: 9.059 - ETA: 1s - loss: 9.0606 - mse: 9.042 - ETA: 1s - loss: 9.2529 - mse: 9.234 - ETA: 1s - loss: 9.2922 - mse: 9.273 - ETA: 1s - loss: 9.2592 - mse: 9.240 - ETA: 1s - loss: 9.2352 - mse: 9.216 - ETA: 1s - loss: 9.2113 - mse: 9.192 - ETA: 1s - loss: 9.2131 - mse: 9.194 - ETA: 1s - loss: 9.4735 - mse: 9.454 - ETA: 1s - loss: 9.4452 - mse: 9.426 - ETA: 1s - loss: 9.4097 - mse: 9.390 - ETA: 1s - loss: 9.3962 - mse: 9.377 - ETA: 0s - loss: 9.3652 - mse: 9.346 - ETA: 0s - loss: 9.3546 - mse: 9.335 - ETA: 0s - loss: 9.3732 - mse: 9.353 - ETA: 0s - loss: 9.3948 - mse: 9.375 - ETA: 0s - loss: 9.3740 - mse: 9.354 - ETA: 0s - loss: 9.4704 - mse: 9.450 - ETA: 0s - loss: 9.4534 - mse: 9.433 - ETA: 0s - loss: 9.4281 - mse: 9.408 - ETA: 0s - loss: 9.4104 - mse: 9.390 - ETA: 0s - loss: 9.3969 - mse: 9.377 - ETA: 0s - loss: 9.3761 - mse: 9.356 - ETA: 0s - loss: 9.3539 - mse: 9.334 - ETA: 0s - loss: 9.3505 - mse: 9.330 - ETA: 0s - loss: 9.3831 - mse: 9.363 - ETA: 0s - loss: 9.3616 - mse: 9.341 - ETA: 0s - loss: 9.3531 - mse: 9.333 - 19s 3us/step - loss: 9.3491 - mse: 9.3291\n",
      "Epoch 2/5\n"
     ]
    },
    {
     "name": "stdout",
     "output_type": "stream",
     "text": [
      "5100000/6425094 [======================>.......] - ETA: 6:17 - loss: 3.5565 - mse: 3.520 - ETA: 1:45 - loss: 2.9028 - mse: 2.866 - ETA: 1:15 - loss: 2.9029 - mse: 2.866 - ETA: 1:01 - loss: 5.0628 - mse: 5.026 - ETA: 52s - loss: 12.7329 - mse: 12.69 - ETA: 44s - loss: 11.0015 - mse: 10.96 - ETA: 38s - loss: 9.8713 - mse: 9.8346 - ETA: 35s - loss: 17.9785 - mse: 17.94 - ETA: 34s - loss: 16.5489 - mse: 16.51 - ETA: 32s - loss: 15.3625 - mse: 15.32 - ETA: 30s - loss: 14.7614 - mse: 14.72 - ETA: 29s - loss: 13.8341 - mse: 13.79 - ETA: 28s - loss: 12.7165 - mse: 12.67 - ETA: 27s - loss: 12.1889 - mse: 12.15 - ETA: 26s - loss: 11.9034 - mse: 11.86 - ETA: 25s - loss: 11.4154 - mse: 11.37 - ETA: 24s - loss: 10.7043 - mse: 10.66 - ETA: 24s - loss: 10.2819 - mse: 10.24 - ETA: 23s - loss: 9.9639 - mse: 9.9260 - ETA: 23s - loss: 9.6718 - mse: 9.63 - ETA: 22s - loss: 9.9820 - mse: 9.94 - ETA: 22s - loss: 9.6876 - mse: 9.64 - ETA: 22s - loss: 9.5042 - mse: 9.46 - ETA: 21s - loss: 9.2314 - mse: 9.19 - ETA: 21s - loss: 8.8738 - mse: 8.83 - ETA: 21s - loss: 8.7364 - mse: 8.69 - ETA: 20s - loss: 8.9889 - mse: 8.95 - ETA: 20s - loss: 9.1985 - mse: 9.16 - ETA: 20s - loss: 9.1977 - mse: 9.15 - ETA: 19s - loss: 9.2169 - mse: 9.17 - ETA: 19s - loss: 9.0893 - mse: 9.05 - ETA: 19s - loss: 9.0525 - mse: 9.01 - ETA: 19s - loss: 8.9809 - mse: 8.94 - ETA: 19s - loss: 8.9195 - mse: 8.88 - ETA: 19s - loss: 8.7981 - mse: 8.75 - ETA: 18s - loss: 9.0375 - mse: 8.99 - ETA: 18s - loss: 9.2601 - mse: 9.22 - ETA: 18s - loss: 9.1778 - mse: 9.13 - ETA: 18s - loss: 9.0048 - mse: 8.96 - ETA: 18s - loss: 8.9809 - mse: 8.94 - ETA: 18s - loss: 9.2917 - mse: 9.25 - ETA: 18s - loss: 9.2012 - mse: 9.16 - ETA: 18s - loss: 9.0762 - mse: 9.03 - ETA: 17s - loss: 8.9828 - mse: 8.94 - ETA: 17s - loss: 8.8969 - mse: 8.85 - ETA: 17s - loss: 8.7635 - mse: 8.72 - ETA: 17s - loss: 8.6925 - mse: 8.65 - ETA: 17s - loss: 8.5651 - mse: 8.52 - ETA: 17s - loss: 8.4597 - mse: 8.42 - ETA: 17s - loss: 8.3564 - mse: 8.31 - ETA: 17s - loss: 8.4466 - mse: 8.40 - ETA: 17s - loss: 8.6722 - mse: 8.63 - ETA: 16s - loss: 8.5985 - mse: 8.55 - ETA: 16s - loss: 8.5084 - mse: 8.46 - ETA: 16s - loss: 8.3945 - mse: 8.35 - ETA: 16s - loss: 8.3732 - mse: 8.33 - ETA: 16s - loss: 8.2987 - mse: 8.25 - ETA: 16s - loss: 8.1995 - mse: 8.15 - ETA: 16s - loss: 8.1057 - mse: 8.06 - ETA: 16s - loss: 8.0366 - mse: 7.99 - ETA: 16s - loss: 8.0251 - mse: 7.98 - ETA: 16s - loss: 8.0472 - mse: 8.00 - ETA: 15s - loss: 7.9742 - mse: 7.93 - ETA: 15s - loss: 7.9272 - mse: 7.88 - ETA: 15s - loss: 7.9822 - mse: 7.94 - ETA: 15s - loss: 7.9919 - mse: 7.95 - ETA: 15s - loss: 7.9373 - mse: 7.89 - ETA: 15s - loss: 7.8736 - mse: 7.83 - ETA: 15s - loss: 7.7925 - mse: 7.75 - ETA: 15s - loss: 7.7233 - mse: 7.68 - ETA: 14s - loss: 7.7002 - mse: 7.65 - ETA: 14s - loss: 7.6259 - mse: 7.58 - ETA: 14s - loss: 7.5806 - mse: 7.53 - ETA: 14s - loss: 7.5249 - mse: 7.48 - ETA: 14s - loss: 7.4469 - mse: 7.40 - ETA: 14s - loss: 7.4763 - mse: 7.43 - ETA: 14s - loss: 7.4813 - mse: 7.43 - ETA: 14s - loss: 7.4151 - mse: 7.37 - ETA: 14s - loss: 7.6405 - mse: 7.59 - ETA: 14s - loss: 7.7843 - mse: 7.74 - ETA: 13s - loss: 7.7389 - mse: 7.69 - ETA: 13s - loss: 7.6945 - mse: 7.65 - ETA: 13s - loss: 7.6415 - mse: 7.59 - ETA: 13s - loss: 7.5816 - mse: 7.53 - ETA: 13s - loss: 7.5526 - mse: 7.50 - ETA: 13s - loss: 7.6751 - mse: 7.63 - ETA: 13s - loss: 7.6482 - mse: 7.60 - ETA: 13s - loss: 7.6073 - mse: 7.56 - ETA: 13s - loss: 7.5382 - mse: 7.49 - ETA: 13s - loss: 7.5511 - mse: 7.50 - ETA: 13s - loss: 7.5062 - mse: 7.46 - ETA: 12s - loss: 7.4525 - mse: 7.40 - ETA: 12s - loss: 7.4053 - mse: 7.36 - ETA: 12s - loss: 7.3856 - mse: 7.34 - ETA: 12s - loss: 7.3090 - mse: 7.26 - ETA: 12s - loss: 7.3017 - mse: 7.25 - ETA: 12s - loss: 7.2378 - mse: 7.19 - ETA: 12s - loss: 7.1805 - mse: 7.13 - ETA: 12s - loss: 7.1064 - mse: 7.06 - ETA: 12s - loss: 7.1066 - mse: 7.06 - ETA: 12s - loss: 7.0660 - mse: 7.02 - ETA: 12s - loss: 7.0638 - mse: 7.01 - ETA: 11s - loss: 7.1153 - mse: 7.07 - ETA: 11s - loss: 7.0893 - mse: 7.04 - ETA: 11s - loss: 7.0322 - mse: 6.98 - ETA: 11s - loss: 7.0510 - mse: 7.00 - ETA: 11s - loss: 7.0259 - mse: 6.98 - ETA: 11s - loss: 7.0012 - mse: 6.95 - ETA: 11s - loss: 6.9744 - mse: 6.92 - ETA: 11s - loss: 6.9170 - mse: 6.87 - ETA: 11s - loss: 6.8809 - mse: 6.83 - ETA: 11s - loss: 6.8613 - mse: 6.81 - ETA: 11s - loss: 6.8470 - mse: 6.80 - ETA: 11s - loss: 6.8213 - mse: 6.77 - ETA: 10s - loss: 6.7848 - mse: 6.73 - ETA: 10s - loss: 6.7646 - mse: 6.71 - ETA: 10s - loss: 6.7153 - mse: 6.66 - ETA: 10s - loss: 6.6822 - mse: 6.63 - ETA: 10s - loss: 6.8832 - mse: 6.83 - ETA: 10s - loss: 6.8533 - mse: 6.80 - ETA: 10s - loss: 6.8374 - mse: 6.79 - ETA: 10s - loss: 6.8554 - mse: 6.80 - ETA: 10s - loss: 6.8273 - mse: 6.78 - ETA: 10s - loss: 6.8164 - mse: 6.77 - ETA: 10s - loss: 6.8127 - mse: 6.76 - ETA: 10s - loss: 6.7881 - mse: 6.74 - ETA: 10s - loss: 6.7642 - mse: 6.71 - ETA: 10s - loss: 6.7465 - mse: 6.70 - ETA: 9s - loss: 6.7229 - mse: 6.6766 - ETA: 9s - loss: 6.7148 - mse: 6.668 - ETA: 9s - loss: 6.6998 - mse: 6.653 - ETA: 9s - loss: 6.6852 - mse: 6.638 - ETA: 9s - loss: 6.7012 - mse: 6.654 - ETA: 9s - loss: 6.6857 - mse: 6.639 - ETA: 9s - loss: 6.6443 - mse: 6.597 - ETA: 9s - loss: 6.6068 - mse: 6.559 - ETA: 9s - loss: 6.6054 - mse: 6.558 - ETA: 9s - loss: 7.4706 - mse: 7.423 - ETA: 9s - loss: 7.4286 - mse: 7.381 - ETA: 9s - loss: 7.4111 - mse: 7.363 - ETA: 8s - loss: 7.3815 - mse: 7.334 - ETA: 8s - loss: 7.3928 - mse: 7.345 - ETA: 8s - loss: 7.3544 - mse: 7.306 - ETA: 8s - loss: 7.3404 - mse: 7.292 - ETA: 8s - loss: 7.3261 - mse: 7.278 - ETA: 8s - loss: 7.2804 - mse: 7.232 - ETA: 8s - loss: 7.2533 - mse: 7.205 - ETA: 8s - loss: 7.2288 - mse: 7.181 - ETA: 8s - loss: 7.1856 - mse: 7.137 - ETA: 8s - loss: 7.1783 - mse: 7.130 - ETA: 8s - loss: 7.1473 - mse: 7.099 - ETA: 8s - loss: 7.1279 - mse: 7.079 - ETA: 8s - loss: 7.1004 - mse: 7.052 - ETA: 7s - loss: 7.1073 - mse: 7.058 - ETA: 7s - loss: 7.0720 - mse: 7.023 - ETA: 7s - loss: 7.0564 - mse: 7.008 - ETA: 7s - loss: 7.0317 - mse: 6.983 - ETA: 7s - loss: 7.0117 - mse: 6.963 - ETA: 7s - loss: 6.9814 - mse: 6.932 - ETA: 7s - loss: 6.9613 - mse: 6.912 - ETA: 7s - loss: 6.9248 - mse: 6.876 - ETA: 7s - loss: 6.9080 - mse: 6.859 - ETA: 7s - loss: 6.8893 - mse: 6.840 - ETA: 7s - loss: 6.8583 - mse: 6.809 - ETA: 7s - loss: 6.8561 - mse: 6.807 - ETA: 7s - loss: 6.8941 - mse: 6.845 - ETA: 7s - loss: 6.9118 - mse: 6.862 - ETA: 6s - loss: 7.2034 - mse: 7.154 - ETA: 6s - loss: 7.1827 - mse: 7.133 - ETA: 6s - loss: 7.1735 - mse: 7.124 - ETA: 6s - loss: 7.1528 - mse: 7.103 - ETA: 6s - loss: 7.1374 - mse: 7.087 - ETA: 6s - loss: 7.1023 - mse: 7.052 - ETA: 6s - loss: 7.0721 - mse: 7.022 - ETA: 6s - loss: 7.0537 - mse: 7.004 - ETA: 6s - loss: 7.0379 - mse: 6.988 - ETA: 6s - loss: 7.0155 - mse: 6.965 - ETA: 6s - loss: 6.9996 - mse: 6.949 - ETA: 6s - loss: 6.9864 - mse: 6.936 - ETA: 6s - loss: 6.9647 - mse: 6.914 - ETA: 6s - loss: 6.9434 - mse: 6.893 - ETA: 5s - loss: 6.9419 - mse: 6.891 - ETA: 5s - loss: 6.9235 - mse: 6.873 - ETA: 5s - loss: 6.9029 - mse: 6.852 - ETA: 5s - loss: 6.9387 - mse: 6.888 - ETA: 5s - loss: 6.9180 - mse: 6.867 - ETA: 5s - loss: 6.8970 - mse: 6.846 - ETA: 5s - loss: 6.9515 - mse: 6.900 - ETA: 5s - loss: 6.9322 - mse: 6.881 - ETA: 5s - loss: 6.9243 - mse: 6.873 - ETA: 5s - loss: 7.0901 - mse: 7.039 - ETA: 5s - loss: 7.0605 - mse: 7.009 - ETA: 5s - loss: 7.0474 - mse: 6.996 - ETA: 5s - loss: 7.0298 - mse: 6.978 - ETA: 4s - loss: 7.0044 - mse: 6.953 - ETA: 4s - loss: 6.9915 - mse: 6.940 - ETA: 4s - loss: 6.9944 - mse: 6.943 - ETA: 4s - loss: 7.0330 - mse: 6.981 - ETA: 4s - loss: 7.0118 - mse: 6.960 - ETA: 4s - loss: 7.0189 - mse: 6.967 - ETA: 4s - loss: 7.0023 - mse: 6.950 - ETA: 4s - loss: 7.1546 - mse: 7.103 - ETA: 4s - loss: 7.1367 - mse: 7.085 - ETA: 4s - loss: 7.1110 - mse: 7.059 - ETA: 4s - loss: 7.0857 - mse: 7.034 - ETA: 4s - loss: 7.0710 - mse: 7.019 - ETA: 4s - loss: 7.0555 - mse: 7.003 - ETA: 4s - loss: 7.0374 - mse: 6.985 - ETA: 3s - loss: 7.0185 - mse: 6.966 - ETA: 3s - loss: 7.0199 - mse: 6.967 - ETA: 3s - loss: 7.0311 - mse: 6.979 - ETA: 3s - loss: 7.0167 - mse: 6.964 - ETA: 3s - loss: 6.9913 - mse: 6.939 - ETA: 3s - loss: 7.0305 - mse: 6.9781"
     ]
    },
    {
     "name": "stdout",
     "output_type": "stream",
     "text": [
      "6425094/6425094 [==============================] - ETA: 3s - loss: 7.0209 - mse: 6.968 - ETA: 3s - loss: 7.1341 - mse: 7.081 - ETA: 3s - loss: 7.1341 - mse: 7.081 - ETA: 3s - loss: 7.1315 - mse: 7.078 - ETA: 3s - loss: 7.1234 - mse: 7.070 - ETA: 3s - loss: 7.1436 - mse: 7.090 - ETA: 3s - loss: 7.1304 - mse: 7.077 - ETA: 3s - loss: 7.1585 - mse: 7.105 - ETA: 3s - loss: 7.1514 - mse: 7.098 - ETA: 2s - loss: 7.1320 - mse: 7.079 - ETA: 2s - loss: 7.1180 - mse: 7.065 - ETA: 2s - loss: 7.0986 - mse: 7.045 - ETA: 2s - loss: 7.0733 - mse: 7.020 - ETA: 2s - loss: 7.2838 - mse: 7.230 - ETA: 2s - loss: 7.4111 - mse: 7.357 - ETA: 2s - loss: 7.3848 - mse: 7.331 - ETA: 2s - loss: 7.3679 - mse: 7.314 - ETA: 2s - loss: 7.3618 - mse: 7.308 - ETA: 2s - loss: 7.5587 - mse: 7.505 - ETA: 2s - loss: 7.5510 - mse: 7.497 - ETA: 2s - loss: 7.5325 - mse: 7.478 - ETA: 2s - loss: 7.9958 - mse: 7.942 - ETA: 2s - loss: 7.9762 - mse: 7.922 - ETA: 2s - loss: 7.9500 - mse: 7.896 - ETA: 2s - loss: 7.9907 - mse: 7.936 - ETA: 2s - loss: 7.9706 - mse: 7.916 - ETA: 1s - loss: 7.9394 - mse: 7.885 - ETA: 1s - loss: 7.9250 - mse: 7.870 - ETA: 1s - loss: 7.9159 - mse: 7.861 - ETA: 1s - loss: 7.8994 - mse: 7.845 - ETA: 1s - loss: 7.9109 - mse: 7.856 - ETA: 1s - loss: 7.9277 - mse: 7.873 - ETA: 1s - loss: 7.9918 - mse: 7.937 - ETA: 1s - loss: 7.9656 - mse: 7.911 - ETA: 1s - loss: 7.9457 - mse: 7.891 - ETA: 1s - loss: 7.9203 - mse: 7.865 - ETA: 1s - loss: 7.9022 - mse: 7.847 - ETA: 1s - loss: 7.8829 - mse: 7.828 - ETA: 1s - loss: 7.9180 - mse: 7.863 - ETA: 1s - loss: 7.9048 - mse: 7.849 - ETA: 0s - loss: 7.8894 - mse: 7.834 - ETA: 0s - loss: 7.8717 - mse: 7.816 - ETA: 0s - loss: 7.8564 - mse: 7.801 - ETA: 0s - loss: 7.8832 - mse: 7.828 - ETA: 0s - loss: 7.8798 - mse: 7.824 - ETA: 0s - loss: 7.8706 - mse: 7.815 - ETA: 0s - loss: 7.9162 - mse: 7.860 - ETA: 0s - loss: 7.8981 - mse: 7.842 - ETA: 0s - loss: 7.8808 - mse: 7.825 - ETA: 0s - loss: 7.9445 - mse: 7.888 - ETA: 0s - loss: 7.9275 - mse: 7.871 - ETA: 0s - loss: 7.9081 - mse: 7.852 - ETA: 0s - loss: 7.9535 - mse: 7.897 - ETA: 0s - loss: 7.9367 - mse: 7.880 - ETA: 0s - loss: 7.9615 - mse: 7.905 - ETA: 0s - loss: 7.9355 - mse: 7.879 - ETA: 0s - loss: 7.9187 - mse: 7.862 - 17s 3us/step - loss: 7.9057 - mse: 7.8497\n",
      "Epoch 3/5\n"
     ]
    },
    {
     "name": "stdout",
     "output_type": "stream",
     "text": [
      "5150000/6425094 [=======================>......] - ETA: 5:54 - loss: 2.1407 - mse: 2.068 - ETA: 2:09 - loss: 3.8838 - mse: 3.811 - ETA: 1:12 - loss: 3.4859 - mse: 3.414 - ETA: 58s - loss: 3.1431 - mse: 3.071 - ETA: 47s - loss: 4.1435 - mse: 4.07 - ETA: 40s - loss: 3.7855 - mse: 3.71 - ETA: 36s - loss: 4.4138 - mse: 4.34 - ETA: 33s - loss: 4.2744 - mse: 4.20 - ETA: 32s - loss: 4.2407 - mse: 4.16 - ETA: 31s - loss: 4.2239 - mse: 4.15 - ETA: 29s - loss: 6.0310 - mse: 5.95 - ETA: 29s - loss: 5.7395 - mse: 5.66 - ETA: 28s - loss: 5.7414 - mse: 5.66 - ETA: 27s - loss: 5.5231 - mse: 5.45 - ETA: 26s - loss: 5.7231 - mse: 5.65 - ETA: 26s - loss: 5.5472 - mse: 5.47 - ETA: 25s - loss: 5.4159 - mse: 5.34 - ETA: 24s - loss: 5.1864 - mse: 5.11 - ETA: 24s - loss: 5.0276 - mse: 4.95 - ETA: 23s - loss: 4.8738 - mse: 4.80 - ETA: 23s - loss: 5.1291 - mse: 5.05 - ETA: 23s - loss: 5.1744 - mse: 5.10 - ETA: 22s - loss: 5.1329 - mse: 5.06 - ETA: 22s - loss: 5.2854 - mse: 5.21 - ETA: 22s - loss: 5.2261 - mse: 5.15 - ETA: 22s - loss: 5.5269 - mse: 5.45 - ETA: 21s - loss: 5.4041 - mse: 5.33 - ETA: 21s - loss: 5.4123 - mse: 5.33 - ETA: 21s - loss: 5.3141 - mse: 5.24 - ETA: 21s - loss: 5.2263 - mse: 5.15 - ETA: 20s - loss: 5.1224 - mse: 5.04 - ETA: 20s - loss: 5.0197 - mse: 4.94 - ETA: 20s - loss: 5.0698 - mse: 4.99 - ETA: 19s - loss: 4.9769 - mse: 4.90 - ETA: 19s - loss: 5.0751 - mse: 5.00 - ETA: 19s - loss: 5.0676 - mse: 4.99 - ETA: 19s - loss: 4.9548 - mse: 4.88 - ETA: 18s - loss: 5.9144 - mse: 5.84 - ETA: 18s - loss: 5.8520 - mse: 5.77 - ETA: 18s - loss: 5.8088 - mse: 5.73 - ETA: 18s - loss: 5.7529 - mse: 5.68 - ETA: 18s - loss: 5.6886 - mse: 5.61 - ETA: 17s - loss: 5.6188 - mse: 5.54 - ETA: 17s - loss: 5.5620 - mse: 5.48 - ETA: 17s - loss: 5.4695 - mse: 5.39 - ETA: 17s - loss: 5.4587 - mse: 5.38 - ETA: 17s - loss: 5.7029 - mse: 5.63 - ETA: 17s - loss: 5.6525 - mse: 5.57 - ETA: 17s - loss: 5.5923 - mse: 5.51 - ETA: 16s - loss: 5.5193 - mse: 5.44 - ETA: 16s - loss: 5.4713 - mse: 5.39 - ETA: 16s - loss: 5.4204 - mse: 5.34 - ETA: 16s - loss: 5.3965 - mse: 5.32 - ETA: 16s - loss: 5.3466 - mse: 5.27 - ETA: 16s - loss: 5.3032 - mse: 5.23 - ETA: 16s - loss: 5.2770 - mse: 5.20 - ETA: 15s - loss: 5.2067 - mse: 5.13 - ETA: 15s - loss: 5.1426 - mse: 5.06 - ETA: 15s - loss: 5.1250 - mse: 5.05 - ETA: 15s - loss: 5.1773 - mse: 5.10 - ETA: 15s - loss: 5.3046 - mse: 5.23 - ETA: 15s - loss: 5.3760 - mse: 5.30 - ETA: 15s - loss: 5.6933 - mse: 5.62 - ETA: 15s - loss: 5.6617 - mse: 5.58 - ETA: 15s - loss: 5.6109 - mse: 5.53 - ETA: 14s - loss: 5.6671 - mse: 5.59 - ETA: 14s - loss: 5.8611 - mse: 5.78 - ETA: 14s - loss: 5.8892 - mse: 5.81 - ETA: 14s - loss: 6.0748 - mse: 6.00 - ETA: 14s - loss: 6.0128 - mse: 5.93 - ETA: 14s - loss: 6.2507 - mse: 6.17 - ETA: 14s - loss: 6.3440 - mse: 6.27 - ETA: 14s - loss: 6.3118 - mse: 6.23 - ETA: 14s - loss: 6.2780 - mse: 6.20 - ETA: 14s - loss: 6.6312 - mse: 6.55 - ETA: 13s - loss: 6.5974 - mse: 6.52 - ETA: 13s - loss: 6.5750 - mse: 6.50 - ETA: 13s - loss: 6.5332 - mse: 6.45 - ETA: 13s - loss: 6.4874 - mse: 6.41 - ETA: 13s - loss: 6.5066 - mse: 6.43 - ETA: 13s - loss: 6.4545 - mse: 6.38 - ETA: 13s - loss: 6.6125 - mse: 6.53 - ETA: 13s - loss: 7.9442 - mse: 7.87 - ETA: 13s - loss: 8.0472 - mse: 7.97 - ETA: 13s - loss: 8.1365 - mse: 8.06 - ETA: 12s - loss: 8.0903 - mse: 8.01 - ETA: 12s - loss: 8.0512 - mse: 7.97 - ETA: 12s - loss: 8.0253 - mse: 7.95 - ETA: 12s - loss: 7.9704 - mse: 7.89 - ETA: 12s - loss: 7.9181 - mse: 7.84 - ETA: 12s - loss: 7.8660 - mse: 7.79 - ETA: 12s - loss: 7.8162 - mse: 7.74 - ETA: 12s - loss: 7.7941 - mse: 7.71 - ETA: 12s - loss: 7.8896 - mse: 7.81 - ETA: 12s - loss: 7.8737 - mse: 7.79 - ETA: 12s - loss: 7.8017 - mse: 7.72 - ETA: 12s - loss: 7.7336 - mse: 7.65 - ETA: 12s - loss: 7.6820 - mse: 7.60 - ETA: 11s - loss: 7.6745 - mse: 7.59 - ETA: 11s - loss: 7.6206 - mse: 7.54 - ETA: 11s - loss: 7.5830 - mse: 7.50 - ETA: 11s - loss: 7.5397 - mse: 7.46 - ETA: 11s - loss: 7.4863 - mse: 7.41 - ETA: 11s - loss: 7.4415 - mse: 7.36 - ETA: 11s - loss: 7.3944 - mse: 7.31 - ETA: 11s - loss: 7.3262 - mse: 7.25 - ETA: 11s - loss: 7.2920 - mse: 7.21 - ETA: 11s - loss: 7.2428 - mse: 7.16 - ETA: 10s - loss: 7.2146 - mse: 7.13 - ETA: 10s - loss: 7.1636 - mse: 7.08 - ETA: 10s - loss: 7.1356 - mse: 7.05 - ETA: 10s - loss: 7.1210 - mse: 7.04 - ETA: 10s - loss: 7.0917 - mse: 7.01 - ETA: 10s - loss: 7.0607 - mse: 6.98 - ETA: 10s - loss: 7.3324 - mse: 7.25 - ETA: 10s - loss: 7.3064 - mse: 7.22 - ETA: 10s - loss: 7.3583 - mse: 7.28 - ETA: 10s - loss: 7.3274 - mse: 7.25 - ETA: 10s - loss: 7.2802 - mse: 7.20 - ETA: 10s - loss: 7.2316 - mse: 7.15 - ETA: 9s - loss: 7.2010 - mse: 7.1238 - ETA: 9s - loss: 7.1845 - mse: 7.107 - ETA: 9s - loss: 7.1504 - mse: 7.073 - ETA: 9s - loss: 7.1216 - mse: 7.044 - ETA: 9s - loss: 7.0907 - mse: 7.013 - ETA: 9s - loss: 7.0541 - mse: 6.976 - ETA: 9s - loss: 7.0120 - mse: 6.934 - ETA: 9s - loss: 6.9987 - mse: 6.921 - ETA: 9s - loss: 6.9700 - mse: 6.892 - ETA: 9s - loss: 6.9367 - mse: 6.858 - ETA: 9s - loss: 6.8962 - mse: 6.818 - ETA: 9s - loss: 6.8594 - mse: 6.781 - ETA: 9s - loss: 6.8721 - mse: 6.794 - ETA: 9s - loss: 7.2368 - mse: 7.158 - ETA: 8s - loss: 7.2473 - mse: 7.169 - ETA: 8s - loss: 7.2092 - mse: 7.131 - ETA: 8s - loss: 7.2515 - mse: 7.173 - ETA: 8s - loss: 7.2145 - mse: 7.136 - ETA: 8s - loss: 7.1914 - mse: 7.113 - ETA: 8s - loss: 7.1456 - mse: 7.067 - ETA: 8s - loss: 7.2586 - mse: 7.180 - ETA: 8s - loss: 7.2261 - mse: 7.147 - ETA: 8s - loss: 7.5636 - mse: 7.485 - ETA: 8s - loss: 7.5650 - mse: 7.486 - ETA: 8s - loss: 7.5383 - mse: 7.459 - ETA: 8s - loss: 7.5080 - mse: 7.429 - ETA: 8s - loss: 7.4778 - mse: 7.398 - ETA: 8s - loss: 7.4656 - mse: 7.386 - ETA: 7s - loss: 7.4241 - mse: 7.345 - ETA: 7s - loss: 7.4045 - mse: 7.325 - ETA: 7s - loss: 7.3608 - mse: 7.281 - ETA: 7s - loss: 7.3349 - mse: 7.255 - ETA: 7s - loss: 7.5217 - mse: 7.442 - ETA: 7s - loss: 7.4986 - mse: 7.419 - ETA: 7s - loss: 7.5077 - mse: 7.428 - ETA: 7s - loss: 7.4648 - mse: 7.385 - ETA: 7s - loss: 7.8527 - mse: 7.773 - ETA: 7s - loss: 7.8306 - mse: 7.750 - ETA: 7s - loss: 7.7941 - mse: 7.714 - ETA: 7s - loss: 7.7709 - mse: 7.691 - ETA: 7s - loss: 7.7548 - mse: 7.674 - ETA: 7s - loss: 7.7315 - mse: 7.651 - ETA: 6s - loss: 7.7103 - mse: 7.630 - ETA: 6s - loss: 7.6812 - mse: 7.601 - ETA: 6s - loss: 7.6633 - mse: 7.583 - ETA: 6s - loss: 7.7203 - mse: 7.640 - ETA: 6s - loss: 7.6959 - mse: 7.615 - ETA: 6s - loss: 7.6639 - mse: 7.583 - ETA: 6s - loss: 7.6352 - mse: 7.554 - ETA: 6s - loss: 7.6106 - mse: 7.530 - ETA: 6s - loss: 7.5879 - mse: 7.507 - ETA: 6s - loss: 7.5614 - mse: 7.480 - ETA: 6s - loss: 7.5569 - mse: 7.476 - ETA: 6s - loss: 7.5591 - mse: 7.478 - ETA: 6s - loss: 7.6650 - mse: 7.584 - ETA: 6s - loss: 7.6390 - mse: 7.558 - ETA: 6s - loss: 7.7029 - mse: 7.622 - ETA: 5s - loss: 7.6754 - mse: 7.594 - ETA: 5s - loss: 7.6703 - mse: 7.589 - ETA: 5s - loss: 7.6417 - mse: 7.560 - ETA: 5s - loss: 7.6758 - mse: 7.594 - ETA: 5s - loss: 7.6480 - mse: 7.566 - ETA: 5s - loss: 7.6137 - mse: 7.532 - ETA: 5s - loss: 7.6119 - mse: 7.530 - ETA: 5s - loss: 7.5759 - mse: 7.494 - ETA: 5s - loss: 7.5758 - mse: 7.494 - ETA: 5s - loss: 7.5537 - mse: 7.472 - ETA: 5s - loss: 7.5550 - mse: 7.473 - ETA: 5s - loss: 7.5371 - mse: 7.455 - ETA: 5s - loss: 7.5589 - mse: 7.477 - ETA: 5s - loss: 7.7935 - mse: 7.711 - ETA: 5s - loss: 7.7763 - mse: 7.694 - ETA: 4s - loss: 7.7452 - mse: 7.663 - ETA: 4s - loss: 7.7646 - mse: 7.682 - ETA: 4s - loss: 7.7369 - mse: 7.655 - ETA: 4s - loss: 7.7426 - mse: 7.660 - ETA: 4s - loss: 7.7241 - mse: 7.642 - ETA: 4s - loss: 7.6943 - mse: 7.612 - ETA: 4s - loss: 7.6623 - mse: 7.580 - ETA: 4s - loss: 7.6776 - mse: 7.595 - ETA: 4s - loss: 7.6537 - mse: 7.571 - ETA: 4s - loss: 7.6265 - mse: 7.544 - ETA: 4s - loss: 7.6020 - mse: 7.519 - ETA: 4s - loss: 7.6111 - mse: 7.528 - ETA: 4s - loss: 7.5886 - mse: 7.506 - ETA: 4s - loss: 7.6061 - mse: 7.523 - ETA: 3s - loss: 7.5985 - mse: 7.516 - ETA: 3s - loss: 7.5786 - mse: 7.496 - ETA: 3s - loss: 7.5610 - mse: 7.478 - ETA: 3s - loss: 7.5489 - mse: 7.466 - ETA: 3s - loss: 7.5314 - mse: 7.448 - ETA: 3s - loss: 7.5161 - mse: 7.433 - ETA: 3s - loss: 7.4877 - mse: 7.405 - ETA: 3s - loss: 7.5563 - mse: 7.473 - ETA: 3s - loss: 7.5327 - mse: 7.44996425094/6425094 [==============================] - ETA: 3s - loss: 7.5721 - mse: 7.489 - ETA: 3s - loss: 7.5738 - mse: 7.490 - ETA: 3s - loss: 7.5566 - mse: 7.473 - ETA: 3s - loss: 7.5381 - mse: 7.455 - ETA: 3s - loss: 7.5295 - mse: 7.446 - ETA: 3s - loss: 7.5082 - mse: 7.425 - ETA: 3s - loss: 7.4946 - mse: 7.411 - ETA: 2s - loss: 7.4774 - mse: 7.394 - ETA: 2s - loss: 7.5040 - mse: 7.420 - ETA: 2s - loss: 7.5230 - mse: 7.439 - ETA: 2s - loss: 7.5130 - mse: 7.429 - ETA: 2s - loss: 7.4937 - mse: 7.410 - ETA: 2s - loss: 7.4781 - mse: 7.394 - ETA: 2s - loss: 7.4619 - mse: 7.378 - ETA: 2s - loss: 7.4448 - mse: 7.361 - ETA: 2s - loss: 7.4292 - mse: 7.345 - ETA: 2s - loss: 7.4598 - mse: 7.376 - ETA: 2s - loss: 7.4564 - mse: 7.373 - ETA: 2s - loss: 7.4317 - mse: 7.348 - ETA: 2s - loss: 7.4161 - mse: 7.332 - ETA: 2s - loss: 7.3914 - mse: 7.307 - ETA: 2s - loss: 7.3806 - mse: 7.297 - ETA: 2s - loss: 7.3682 - mse: 7.284 - ETA: 1s - loss: 7.3709 - mse: 7.287 - ETA: 1s - loss: 7.3540 - mse: 7.270 - ETA: 1s - loss: 7.3393 - mse: 7.255 - ETA: 1s - loss: 7.3227 - mse: 7.239 - ETA: 1s - loss: 7.3037 - mse: 7.220 - ETA: 1s - loss: 7.2891 - mse: 7.205 - ETA: 1s - loss: 7.2696 - mse: 7.185 - ETA: 1s - loss: 7.7195 - mse: 7.635 - ETA: 1s - loss: 7.6922 - mse: 7.608 - ETA: 1s - loss: 7.6836 - mse: 7.599 - ETA: 1s - loss: 7.6720 - mse: 7.588 - ETA: 1s - loss: 7.6625 - mse: 7.578 - ETA: 1s - loss: 7.6458 - mse: 7.561 - ETA: 1s - loss: 7.6443 - mse: 7.560 - ETA: 1s - loss: 7.6256 - mse: 7.541 - ETA: 1s - loss: 7.6263 - mse: 7.542 - ETA: 1s - loss: 7.6097 - mse: 7.525 - ETA: 0s - loss: 7.5925 - mse: 7.508 - ETA: 0s - loss: 7.5765 - mse: 7.492 - ETA: 0s - loss: 7.5637 - mse: 7.479 - ETA: 0s - loss: 7.5592 - mse: 7.475 - ETA: 0s - loss: 7.5331 - mse: 7.448 - ETA: 0s - loss: 7.5165 - mse: 7.432 - ETA: 0s - loss: 7.5090 - mse: 7.424 - ETA: 0s - loss: 7.4807 - mse: 7.396 - ETA: 0s - loss: 7.4657 - mse: 7.381 - ETA: 0s - loss: 7.4597 - mse: 7.375 - ETA: 0s - loss: 7.4480 - mse: 7.363 - ETA: 0s - loss: 7.4381 - mse: 7.353 - ETA: 0s - loss: 7.4363 - mse: 7.351 - ETA: 0s - loss: 7.4372 - mse: 7.352 - ETA: 0s - loss: 7.4662 - mse: 7.381 - ETA: 0s - loss: 7.4540 - mse: 7.369 - ETA: 0s - loss: 7.4413 - mse: 7.356 - ETA: 0s - loss: 7.4238 - mse: 7.339 - 17s 3us/step - loss: 7.4194 - mse: 7.3349\n",
      "Epoch 4/5\n"
     ]
    },
    {
     "name": "stdout",
     "output_type": "stream",
     "text": [
      "5120000/6425094 [======================>.......] - ETA: 7:23 - loss: 8.6768 - mse: 8.583 - ETA: 2:40 - loss: 4.4743 - mse: 4.381 - ETA: 1:44 - loss: 3.5742 - mse: 3.481 - ETA: 1:11 - loss: 3.3702 - mse: 3.277 - ETA: 1:00 - loss: 3.7653 - mse: 3.672 - ETA: 53s - loss: 3.6466 - mse: 3.553 - ETA: 47s - loss: 3.5119 - mse: 3.41 - ETA: 41s - loss: 5.3100 - mse: 5.21 - ETA: 39s - loss: 5.0430 - mse: 4.94 - ETA: 37s - loss: 5.9907 - mse: 5.89 - ETA: 34s - loss: 5.7745 - mse: 5.68 - ETA: 32s - loss: 5.5225 - mse: 5.42 - ETA: 30s - loss: 5.1872 - mse: 5.09 - ETA: 29s - loss: 5.2205 - mse: 5.12 - ETA: 29s - loss: 5.1405 - mse: 5.04 - ETA: 28s - loss: 5.0813 - mse: 4.98 - ETA: 27s - loss: 4.9113 - mse: 4.81 - ETA: 26s - loss: 4.7578 - mse: 4.66 - ETA: 25s - loss: 5.8621 - mse: 5.76 - ETA: 25s - loss: 5.8760 - mse: 5.78 - ETA: 24s - loss: 5.9333 - mse: 5.83 - ETA: 23s - loss: 5.7859 - mse: 5.69 - ETA: 23s - loss: 5.6468 - mse: 5.55 - ETA: 23s - loss: 6.1320 - mse: 6.03 - ETA: 22s - loss: 6.1367 - mse: 6.04 - ETA: 22s - loss: 6.2021 - mse: 6.10 - ETA: 21s - loss: 6.0435 - mse: 5.95 - ETA: 21s - loss: 5.9298 - mse: 5.83 - ETA: 21s - loss: 5.8743 - mse: 5.78 - ETA: 21s - loss: 6.2878 - mse: 6.19 - ETA: 20s - loss: 6.1745 - mse: 6.08 - ETA: 20s - loss: 6.0882 - mse: 5.99 - ETA: 20s - loss: 6.0368 - mse: 5.94 - ETA: 20s - loss: 6.5470 - mse: 6.45 - ETA: 20s - loss: 6.7321 - mse: 6.63 - ETA: 19s - loss: 6.6550 - mse: 6.56 - ETA: 19s - loss: 6.5269 - mse: 6.43 - ETA: 19s - loss: 6.4718 - mse: 6.37 - ETA: 18s - loss: 6.3571 - mse: 6.26 - ETA: 18s - loss: 6.4100 - mse: 6.31 - ETA: 18s - loss: 6.3993 - mse: 6.30 - ETA: 18s - loss: 6.7511 - mse: 6.65 - ETA: 18s - loss: 6.6616 - mse: 6.56 - ETA: 18s - loss: 6.5960 - mse: 6.50 - ETA: 17s - loss: 6.5258 - mse: 6.43 - ETA: 17s - loss: 6.4178 - mse: 6.32 - ETA: 17s - loss: 6.5289 - mse: 6.43 - ETA: 17s - loss: 6.4684 - mse: 6.37 - ETA: 17s - loss: 6.4035 - mse: 6.30 - ETA: 17s - loss: 6.3310 - mse: 6.23 - ETA: 17s - loss: 6.2913 - mse: 6.19 - ETA: 16s - loss: 6.2226 - mse: 6.12 - ETA: 16s - loss: 6.2053 - mse: 6.11 - ETA: 16s - loss: 6.1164 - mse: 6.02 - ETA: 16s - loss: 6.0838 - mse: 5.98 - ETA: 16s - loss: 6.0208 - mse: 5.92 - ETA: 16s - loss: 5.9590 - mse: 5.86 - ETA: 15s - loss: 5.8809 - mse: 5.78 - ETA: 15s - loss: 5.8223 - mse: 5.72 - ETA: 15s - loss: 6.7102 - mse: 6.61 - ETA: 15s - loss: 6.6949 - mse: 6.60 - ETA: 15s - loss: 6.6397 - mse: 6.54 - ETA: 15s - loss: 6.5935 - mse: 6.49 - ETA: 15s - loss: 6.7097 - mse: 6.61 - ETA: 15s - loss: 6.6704 - mse: 6.57 - ETA: 15s - loss: 6.7989 - mse: 6.70 - ETA: 14s - loss: 6.7308 - mse: 6.63 - ETA: 14s - loss: 6.6563 - mse: 6.56 - ETA: 14s - loss: 6.6114 - mse: 6.51 - ETA: 14s - loss: 6.6523 - mse: 6.55 - ETA: 14s - loss: 6.5843 - mse: 6.48 - ETA: 14s - loss: 6.5371 - mse: 6.44 - ETA: 14s - loss: 6.5451 - mse: 6.45 - ETA: 14s - loss: 6.4959 - mse: 6.40 - ETA: 14s - loss: 6.4430 - mse: 6.34 - ETA: 14s - loss: 7.0977 - mse: 7.00 - ETA: 13s - loss: 7.0490 - mse: 6.95 - ETA: 13s - loss: 7.0953 - mse: 7.00 - ETA: 13s - loss: 7.0117 - mse: 6.91 - ETA: 13s - loss: 7.0045 - mse: 6.90 - ETA: 13s - loss: 6.9854 - mse: 6.89 - ETA: 13s - loss: 6.9436 - mse: 6.84 - ETA: 13s - loss: 6.8943 - mse: 6.79 - ETA: 13s - loss: 6.9321 - mse: 6.83 - ETA: 13s - loss: 6.8841 - mse: 6.78 - ETA: 13s - loss: 6.8496 - mse: 6.75 - ETA: 13s - loss: 6.8585 - mse: 6.76 - ETA: 13s - loss: 6.8967 - mse: 6.80 - ETA: 12s - loss: 7.5905 - mse: 7.49 - ETA: 12s - loss: 7.5248 - mse: 7.42 - ETA: 12s - loss: 7.4756 - mse: 7.38 - ETA: 12s - loss: 7.4208 - mse: 7.32 - ETA: 12s - loss: 7.3581 - mse: 7.26 - ETA: 12s - loss: 7.3106 - mse: 7.21 - ETA: 12s - loss: 7.2351 - mse: 7.13 - ETA: 12s - loss: 7.2722 - mse: 7.17 - ETA: 12s - loss: 7.2396 - mse: 7.14 - ETA: 12s - loss: 7.2129 - mse: 7.11 - ETA: 11s - loss: 8.2983 - mse: 8.20 - ETA: 11s - loss: 8.2497 - mse: 8.15 - ETA: 11s - loss: 8.2206 - mse: 8.12 - ETA: 11s - loss: 8.2214 - mse: 8.12 - ETA: 11s - loss: 8.1605 - mse: 8.06 - ETA: 11s - loss: 8.1144 - mse: 8.01 - ETA: 11s - loss: 8.0787 - mse: 7.98 - ETA: 11s - loss: 8.0692 - mse: 7.97 - ETA: 11s - loss: 8.0368 - mse: 7.94 - ETA: 11s - loss: 8.1138 - mse: 8.01 - ETA: 11s - loss: 8.0678 - mse: 7.97 - ETA: 11s - loss: 8.0271 - mse: 7.93 - ETA: 10s - loss: 7.9799 - mse: 7.88 - ETA: 10s - loss: 7.9431 - mse: 7.84 - ETA: 10s - loss: 7.8810 - mse: 7.78 - ETA: 10s - loss: 7.8569 - mse: 7.76 - ETA: 10s - loss: 7.9722 - mse: 7.87 - ETA: 10s - loss: 7.9297 - mse: 7.83 - ETA: 10s - loss: 8.0465 - mse: 7.95 - ETA: 10s - loss: 8.0056 - mse: 7.90 - ETA: 10s - loss: 7.9644 - mse: 7.86 - ETA: 10s - loss: 7.9140 - mse: 7.81 - ETA: 10s - loss: 7.8763 - mse: 7.78 - ETA: 10s - loss: 7.8563 - mse: 7.76 - ETA: 10s - loss: 7.8142 - mse: 7.71 - ETA: 9s - loss: 7.7970 - mse: 7.7009 - ETA: 9s - loss: 7.7705 - mse: 7.674 - ETA: 9s - loss: 7.7154 - mse: 7.619 - ETA: 9s - loss: 7.7103 - mse: 7.614 - ETA: 9s - loss: 7.6740 - mse: 7.577 - ETA: 9s - loss: 7.6312 - mse: 7.535 - ETA: 9s - loss: 7.5815 - mse: 7.485 - ETA: 9s - loss: 7.5406 - mse: 7.444 - ETA: 9s - loss: 7.5031 - mse: 7.406 - ETA: 9s - loss: 7.5335 - mse: 7.437 - ETA: 9s - loss: 7.4892 - mse: 7.392 - ETA: 9s - loss: 7.4516 - mse: 7.355 - ETA: 9s - loss: 7.4818 - mse: 7.385 - ETA: 8s - loss: 7.4404 - mse: 7.343 - ETA: 8s - loss: 7.4018 - mse: 7.305 - ETA: 8s - loss: 7.4231 - mse: 7.326 - ETA: 8s - loss: 7.3921 - mse: 7.295 - ETA: 8s - loss: 7.3499 - mse: 7.253 - ETA: 8s - loss: 7.3049 - mse: 7.208 - ETA: 8s - loss: 7.2826 - mse: 7.186 - ETA: 8s - loss: 7.2829 - mse: 7.186 - ETA: 8s - loss: 7.2570 - mse: 7.160 - ETA: 8s - loss: 7.2191 - mse: 7.122 - ETA: 8s - loss: 7.2138 - mse: 7.117 - ETA: 8s - loss: 7.2152 - mse: 7.118 - ETA: 8s - loss: 7.1912 - mse: 7.094 - ETA: 7s - loss: 7.1600 - mse: 7.063 - ETA: 7s - loss: 7.1435 - mse: 7.046 - ETA: 7s - loss: 7.1557 - mse: 7.059 - ETA: 7s - loss: 7.1323 - mse: 7.035 - ETA: 7s - loss: 7.1320 - mse: 7.035 - ETA: 7s - loss: 7.1077 - mse: 7.010 - ETA: 7s - loss: 7.0820 - mse: 6.985 - ETA: 7s - loss: 7.0606 - mse: 6.963 - ETA: 7s - loss: 7.0330 - mse: 6.936 - ETA: 7s - loss: 7.0348 - mse: 6.938 - ETA: 7s - loss: 7.1788 - mse: 7.081 - ETA: 7s - loss: 7.1549 - mse: 7.058 - ETA: 7s - loss: 7.1180 - mse: 7.021 - ETA: 7s - loss: 7.3212 - mse: 7.224 - ETA: 6s - loss: 7.3007 - mse: 7.203 - ETA: 6s - loss: 7.2893 - mse: 7.192 - ETA: 6s - loss: 7.2548 - mse: 7.157 - ETA: 6s - loss: 7.2207 - mse: 7.123 - ETA: 6s - loss: 7.2127 - mse: 7.115 - ETA: 6s - loss: 7.2312 - mse: 7.134 - ETA: 6s - loss: 7.2063 - mse: 7.109 - ETA: 6s - loss: 7.4528 - mse: 7.355 - ETA: 6s - loss: 7.5846 - mse: 7.487 - ETA: 6s - loss: 7.5610 - mse: 7.463 - ETA: 6s - loss: 7.5393 - mse: 7.442 - ETA: 6s - loss: 7.5201 - mse: 7.422 - ETA: 6s - loss: 7.4926 - mse: 7.395 - ETA: 6s - loss: 7.4721 - mse: 7.374 - ETA: 6s - loss: 7.4475 - mse: 7.350 - ETA: 5s - loss: 7.4192 - mse: 7.321 - ETA: 5s - loss: 7.4027 - mse: 7.305 - ETA: 5s - loss: 7.3881 - mse: 7.290 - ETA: 5s - loss: 7.4035 - mse: 7.306 - ETA: 5s - loss: 7.3704 - mse: 7.273 - ETA: 5s - loss: 7.3382 - mse: 7.240 - ETA: 5s - loss: 7.3071 - mse: 7.209 - ETA: 5s - loss: 7.2899 - mse: 7.192 - ETA: 5s - loss: 7.3130 - mse: 7.215 - ETA: 5s - loss: 7.2948 - mse: 7.197 - ETA: 5s - loss: 7.2959 - mse: 7.198 - ETA: 5s - loss: 7.2738 - mse: 7.176 - ETA: 5s - loss: 7.2432 - mse: 7.145 - ETA: 5s - loss: 7.2226 - mse: 7.125 - ETA: 4s - loss: 7.2108 - mse: 7.113 - ETA: 4s - loss: 7.2591 - mse: 7.161 - ETA: 4s - loss: 7.2792 - mse: 7.181 - ETA: 4s - loss: 7.2632 - mse: 7.165 - ETA: 4s - loss: 7.2511 - mse: 7.153 - ETA: 4s - loss: 7.2431 - mse: 7.145 - ETA: 4s - loss: 7.2180 - mse: 7.120 - ETA: 4s - loss: 7.1947 - mse: 7.096 - ETA: 4s - loss: 7.1688 - mse: 7.071 - ETA: 4s - loss: 7.1606 - mse: 7.062 - ETA: 4s - loss: 7.1443 - mse: 7.046 - ETA: 4s - loss: 7.1258 - mse: 7.027 - ETA: 4s - loss: 7.1028 - mse: 7.004 - ETA: 4s - loss: 7.0712 - mse: 6.973 - ETA: 4s - loss: 7.0551 - mse: 6.957 - ETA: 3s - loss: 7.0347 - mse: 6.936 - ETA: 3s - loss: 7.0300 - mse: 6.932 - ETA: 3s - loss: 7.0086 - mse: 6.910 - ETA: 3s - loss: 7.0041 - mse: 6.906 - ETA: 3s - loss: 7.0082 - mse: 6.910 - ETA: 3s - loss: 6.9922 - mse: 6.894 - ETA: 3s - loss: 6.9880 - mse: 6.8899"
     ]
    },
    {
     "name": "stdout",
     "output_type": "stream",
     "text": [
      "6425094/6425094 [==============================] - ETA: 3s - loss: 6.9693 - mse: 6.871 - ETA: 3s - loss: 6.9734 - mse: 6.875 - ETA: 3s - loss: 6.9561 - mse: 6.858 - ETA: 3s - loss: 6.9616 - mse: 6.863 - ETA: 3s - loss: 7.0306 - mse: 6.932 - ETA: 3s - loss: 7.0136 - mse: 6.915 - ETA: 3s - loss: 7.0367 - mse: 6.938 - ETA: 3s - loss: 7.5341 - mse: 7.435 - ETA: 3s - loss: 7.5160 - mse: 7.417 - ETA: 3s - loss: 7.5479 - mse: 7.449 - ETA: 2s - loss: 7.5317 - mse: 7.433 - ETA: 2s - loss: 7.5844 - mse: 7.486 - ETA: 2s - loss: 7.6170 - mse: 7.518 - ETA: 2s - loss: 7.5925 - mse: 7.494 - ETA: 2s - loss: 7.5804 - mse: 7.482 - ETA: 2s - loss: 7.5532 - mse: 7.454 - ETA: 2s - loss: 7.5342 - mse: 7.435 - ETA: 2s - loss: 7.5144 - mse: 7.416 - ETA: 2s - loss: 7.4900 - mse: 7.391 - ETA: 2s - loss: 7.4683 - mse: 7.369 - ETA: 2s - loss: 7.4554 - mse: 7.357 - ETA: 2s - loss: 7.4425 - mse: 7.344 - ETA: 2s - loss: 7.4266 - mse: 7.328 - ETA: 2s - loss: 7.4074 - mse: 7.308 - ETA: 2s - loss: 7.3893 - mse: 7.290 - ETA: 2s - loss: 7.3741 - mse: 7.275 - ETA: 1s - loss: 7.4716 - mse: 7.373 - ETA: 1s - loss: 7.4550 - mse: 7.356 - ETA: 1s - loss: 7.4359 - mse: 7.337 - ETA: 1s - loss: 7.4178 - mse: 7.319 - ETA: 1s - loss: 7.4044 - mse: 7.305 - ETA: 1s - loss: 7.3886 - mse: 7.290 - ETA: 1s - loss: 7.3724 - mse: 7.273 - ETA: 1s - loss: 7.3552 - mse: 7.256 - ETA: 1s - loss: 7.3420 - mse: 7.243 - ETA: 1s - loss: 7.3238 - mse: 7.225 - ETA: 1s - loss: 7.3396 - mse: 7.240 - ETA: 1s - loss: 7.3244 - mse: 7.225 - ETA: 1s - loss: 7.3090 - mse: 7.210 - ETA: 1s - loss: 7.2997 - mse: 7.200 - ETA: 1s - loss: 7.2812 - mse: 7.182 - ETA: 1s - loss: 7.2739 - mse: 7.175 - ETA: 1s - loss: 7.2600 - mse: 7.161 - ETA: 1s - loss: 7.2699 - mse: 7.171 - ETA: 1s - loss: 7.2562 - mse: 7.157 - ETA: 0s - loss: 7.2395 - mse: 7.140 - ETA: 0s - loss: 7.2317 - mse: 7.132 - ETA: 0s - loss: 7.2187 - mse: 7.119 - ETA: 0s - loss: 7.2037 - mse: 7.104 - ETA: 0s - loss: 7.1851 - mse: 7.086 - ETA: 0s - loss: 7.1715 - mse: 7.072 - ETA: 0s - loss: 7.2876 - mse: 7.188 - ETA: 0s - loss: 7.2729 - mse: 7.173 - ETA: 0s - loss: 7.2577 - mse: 7.158 - ETA: 0s - loss: 7.2459 - mse: 7.146 - ETA: 0s - loss: 7.2202 - mse: 7.121 - ETA: 0s - loss: 7.2090 - mse: 7.109 - ETA: 0s - loss: 7.1935 - mse: 7.094 - ETA: 0s - loss: 7.1870 - mse: 7.087 - ETA: 0s - loss: 7.1733 - mse: 7.074 - ETA: 0s - loss: 7.1700 - mse: 7.070 - 18s 3us/step - loss: 7.1660 - mse: 7.0668\n",
      "Epoch 5/5\n"
     ]
    },
    {
     "name": "stdout",
     "output_type": "stream",
     "text": [
      "5070000/6425094 [======================>.......] - ETA: 6:03 - loss: 1.4449 - mse: 1.340 - ETA: 2:12 - loss: 4.1044 - mse: 3.999 - ETA: 1:26 - loss: 3.7305 - mse: 3.626 - ETA: 1:00 - loss: 3.2418 - mse: 3.137 - ETA: 51s - loss: 5.3654 - mse: 5.261 - ETA: 45s - loss: 5.7119 - mse: 5.60 - ETA: 41s - loss: 5.4854 - mse: 5.38 - ETA: 38s - loss: 5.4562 - mse: 5.35 - ETA: 35s - loss: 5.2278 - mse: 5.12 - ETA: 33s - loss: 6.1485 - mse: 6.04 - ETA: 31s - loss: 5.8441 - mse: 5.73 - ETA: 29s - loss: 5.6662 - mse: 5.56 - ETA: 28s - loss: 6.3561 - mse: 6.25 - ETA: 27s - loss: 6.6555 - mse: 6.55 - ETA: 26s - loss: 6.4560 - mse: 6.35 - ETA: 25s - loss: 6.2834 - mse: 6.17 - ETA: 25s - loss: 6.0965 - mse: 5.99 - ETA: 24s - loss: 7.0090 - mse: 6.90 - ETA: 23s - loss: 9.4887 - mse: 9.38 - ETA: 23s - loss: 10.9718 - mse: 10.86 - ETA: 22s - loss: 10.6116 - mse: 10.50 - ETA: 22s - loss: 10.3050 - mse: 10.20 - ETA: 22s - loss: 10.0399 - mse: 9.9356 - ETA: 21s - loss: 9.8274 - mse: 9.723 - ETA: 21s - loss: 9.5442 - mse: 9.43 - ETA: 21s - loss: 9.3548 - mse: 9.25 - ETA: 21s - loss: 9.0405 - mse: 8.93 - ETA: 20s - loss: 8.8551 - mse: 8.75 - ETA: 20s - loss: 8.9559 - mse: 8.85 - ETA: 20s - loss: 8.6637 - mse: 8.55 - ETA: 20s - loss: 8.5337 - mse: 8.42 - ETA: 19s - loss: 8.2672 - mse: 8.16 - ETA: 19s - loss: 8.0954 - mse: 7.99 - ETA: 19s - loss: 8.2480 - mse: 8.14 - ETA: 18s - loss: 8.1376 - mse: 8.03 - ETA: 18s - loss: 7.9469 - mse: 7.84 - ETA: 18s - loss: 7.8123 - mse: 7.70 - ETA: 18s - loss: 7.6874 - mse: 7.58 - ETA: 18s - loss: 7.5862 - mse: 7.48 - ETA: 18s - loss: 7.4530 - mse: 7.34 - ETA: 17s - loss: 7.4014 - mse: 7.29 - ETA: 17s - loss: 7.2639 - mse: 7.15 - ETA: 17s - loss: 7.1676 - mse: 7.06 - ETA: 17s - loss: 7.0682 - mse: 6.96 - ETA: 17s - loss: 7.0014 - mse: 6.89 - ETA: 17s - loss: 6.9066 - mse: 6.80 - ETA: 16s - loss: 6.8419 - mse: 6.73 - ETA: 16s - loss: 6.7575 - mse: 6.65 - ETA: 16s - loss: 7.0941 - mse: 6.98 - ETA: 16s - loss: 7.1910 - mse: 7.08 - ETA: 16s - loss: 7.1104 - mse: 7.00 - ETA: 16s - loss: 7.0499 - mse: 6.94 - ETA: 16s - loss: 6.9668 - mse: 6.86 - ETA: 16s - loss: 6.8545 - mse: 6.74 - ETA: 16s - loss: 6.7802 - mse: 6.67 - ETA: 15s - loss: 6.8046 - mse: 6.69 - ETA: 15s - loss: 7.2152 - mse: 7.11 - ETA: 15s - loss: 7.1442 - mse: 7.03 - ETA: 15s - loss: 7.2026 - mse: 7.09 - ETA: 15s - loss: 7.1375 - mse: 7.03 - ETA: 15s - loss: 7.0547 - mse: 6.94 - ETA: 15s - loss: 7.0107 - mse: 6.90 - ETA: 15s - loss: 7.2810 - mse: 7.17 - ETA: 14s - loss: 7.4069 - mse: 7.30 - ETA: 14s - loss: 7.2986 - mse: 7.19 - ETA: 14s - loss: 7.3819 - mse: 7.27 - ETA: 14s - loss: 7.3535 - mse: 7.24 - ETA: 14s - loss: 7.2895 - mse: 7.18 - ETA: 14s - loss: 7.2177 - mse: 7.11 - ETA: 14s - loss: 7.1216 - mse: 7.01 - ETA: 14s - loss: 7.1099 - mse: 7.00 - ETA: 14s - loss: 7.0141 - mse: 6.90 - ETA: 14s - loss: 7.0323 - mse: 6.92 - ETA: 13s - loss: 6.9773 - mse: 6.87 - ETA: 13s - loss: 6.9306 - mse: 6.82 - ETA: 13s - loss: 6.8823 - mse: 6.77 - ETA: 13s - loss: 6.8375 - mse: 6.73 - ETA: 13s - loss: 6.8152 - mse: 6.71 - ETA: 13s - loss: 6.7726 - mse: 6.66 - ETA: 13s - loss: 6.7384 - mse: 6.63 - ETA: 13s - loss: 6.9415 - mse: 6.83 - ETA: 13s - loss: 6.8940 - mse: 6.78 - ETA: 13s - loss: 6.8302 - mse: 6.72 - ETA: 13s - loss: 6.8323 - mse: 6.72 - ETA: 13s - loss: 6.7867 - mse: 6.68 - ETA: 12s - loss: 6.7381 - mse: 6.63 - ETA: 12s - loss: 6.7045 - mse: 6.59 - ETA: 12s - loss: 6.6845 - mse: 6.57 - ETA: 12s - loss: 6.6358 - mse: 6.53 - ETA: 12s - loss: 7.8949 - mse: 7.78 - ETA: 12s - loss: 7.9295 - mse: 7.82 - ETA: 12s - loss: 7.8838 - mse: 7.77 - ETA: 12s - loss: 8.2595 - mse: 8.15 - ETA: 12s - loss: 8.2243 - mse: 8.11 - ETA: 12s - loss: 8.1785 - mse: 8.07 - ETA: 12s - loss: 8.1090 - mse: 8.00 - ETA: 12s - loss: 8.0578 - mse: 7.95 - ETA: 11s - loss: 8.0192 - mse: 7.91 - ETA: 11s - loss: 7.9933 - mse: 7.88 - ETA: 11s - loss: 7.9262 - mse: 7.82 - ETA: 11s - loss: 7.8836 - mse: 7.77 - ETA: 11s - loss: 7.8449 - mse: 7.73 - ETA: 11s - loss: 7.7862 - mse: 7.68 - ETA: 11s - loss: 7.7427 - mse: 7.63 - ETA: 11s - loss: 7.6982 - mse: 7.59 - ETA: 11s - loss: 7.6388 - mse: 7.53 - ETA: 11s - loss: 7.6013 - mse: 7.49 - ETA: 11s - loss: 7.5795 - mse: 7.47 - ETA: 11s - loss: 7.5950 - mse: 7.48 - ETA: 10s - loss: 7.5561 - mse: 7.45 - ETA: 10s - loss: 7.5187 - mse: 7.41 - ETA: 10s - loss: 7.4856 - mse: 7.37 - ETA: 10s - loss: 7.4949 - mse: 7.38 - ETA: 10s - loss: 7.4677 - mse: 7.36 - ETA: 10s - loss: 7.4499 - mse: 7.34 - ETA: 10s - loss: 7.4129 - mse: 7.30 - ETA: 10s - loss: 7.3756 - mse: 7.26 - ETA: 10s - loss: 7.3207 - mse: 7.21 - ETA: 10s - loss: 7.2717 - mse: 7.16 - ETA: 10s - loss: 7.3115 - mse: 7.20 - ETA: 10s - loss: 7.2943 - mse: 7.18 - ETA: 10s - loss: 7.2757 - mse: 7.16 - ETA: 10s - loss: 7.2640 - mse: 7.15 - ETA: 9s - loss: 7.7645 - mse: 7.6583 - ETA: 9s - loss: 7.7125 - mse: 7.606 - ETA: 9s - loss: 7.6827 - mse: 7.576 - ETA: 9s - loss: 7.6236 - mse: 7.517 - ETA: 9s - loss: 7.5968 - mse: 7.490 - ETA: 9s - loss: 7.5616 - mse: 7.455 - ETA: 9s - loss: 7.5313 - mse: 7.424 - ETA: 9s - loss: 7.6019 - mse: 7.495 - ETA: 9s - loss: 7.5696 - mse: 7.463 - ETA: 9s - loss: 7.5239 - mse: 7.417 - ETA: 9s - loss: 7.5143 - mse: 7.407 - ETA: 9s - loss: 7.4874 - mse: 7.380 - ETA: 9s - loss: 7.4929 - mse: 7.386 - ETA: 9s - loss: 7.4678 - mse: 7.361 - ETA: 8s - loss: 7.4377 - mse: 7.331 - ETA: 8s - loss: 7.3925 - mse: 7.285 - ETA: 8s - loss: 7.3536 - mse: 7.246 - ETA: 8s - loss: 7.3260 - mse: 7.219 - ETA: 8s - loss: 7.2926 - mse: 7.185 - ETA: 8s - loss: 7.2735 - mse: 7.166 - ETA: 8s - loss: 7.2425 - mse: 7.135 - ETA: 8s - loss: 7.2272 - mse: 7.120 - ETA: 8s - loss: 7.2226 - mse: 7.115 - ETA: 8s - loss: 7.1954 - mse: 7.088 - ETA: 8s - loss: 7.1805 - mse: 7.073 - ETA: 8s - loss: 7.1480 - mse: 7.041 - ETA: 8s - loss: 7.1313 - mse: 7.024 - ETA: 7s - loss: 7.1168 - mse: 7.009 - ETA: 7s - loss: 7.0909 - mse: 6.983 - ETA: 7s - loss: 7.0612 - mse: 6.954 - ETA: 7s - loss: 7.0425 - mse: 6.935 - ETA: 7s - loss: 7.0139 - mse: 6.906 - ETA: 7s - loss: 7.1563 - mse: 7.049 - ETA: 7s - loss: 7.1944 - mse: 7.087 - ETA: 7s - loss: 7.1601 - mse: 7.052 - ETA: 7s - loss: 7.1320 - mse: 7.024 - ETA: 7s - loss: 7.1288 - mse: 7.021 - ETA: 7s - loss: 7.1097 - mse: 7.002 - ETA: 7s - loss: 7.0938 - mse: 6.986 - ETA: 7s - loss: 7.0663 - mse: 6.958 - ETA: 7s - loss: 7.0470 - mse: 6.939 - ETA: 6s - loss: 7.0108 - mse: 6.903 - ETA: 6s - loss: 6.9771 - mse: 6.869 - ETA: 6s - loss: 6.9950 - mse: 6.887 - ETA: 6s - loss: 6.9718 - mse: 6.864 - ETA: 6s - loss: 6.9420 - mse: 6.834 - ETA: 6s - loss: 6.9200 - mse: 6.812 - ETA: 6s - loss: 6.8987 - mse: 6.790 - ETA: 6s - loss: 6.8767 - mse: 6.768 - ETA: 6s - loss: 6.8553 - mse: 6.747 - ETA: 6s - loss: 6.8379 - mse: 6.730 - ETA: 6s - loss: 6.8169 - mse: 6.709 - ETA: 6s - loss: 6.8715 - mse: 6.763 - ETA: 6s - loss: 6.8509 - mse: 6.743 - ETA: 6s - loss: 6.8213 - mse: 6.713 - ETA: 5s - loss: 6.8049 - mse: 6.697 - ETA: 5s - loss: 6.7863 - mse: 6.678 - ETA: 5s - loss: 6.7690 - mse: 6.661 - ETA: 5s - loss: 6.8081 - mse: 6.700 - ETA: 5s - loss: 6.8124 - mse: 6.704 - ETA: 5s - loss: 6.7835 - mse: 6.675 - ETA: 5s - loss: 6.7620 - mse: 6.654 - ETA: 5s - loss: 6.7458 - mse: 6.637 - ETA: 5s - loss: 6.7391 - mse: 6.631 - ETA: 5s - loss: 6.7344 - mse: 6.626 - ETA: 5s - loss: 6.7225 - mse: 6.614 - ETA: 5s - loss: 6.7482 - mse: 6.640 - ETA: 5s - loss: 6.7566 - mse: 6.648 - ETA: 5s - loss: 6.7412 - mse: 6.633 - ETA: 5s - loss: 6.7192 - mse: 6.611 - ETA: 5s - loss: 6.6930 - mse: 6.584 - ETA: 4s - loss: 6.6882 - mse: 6.580 - ETA: 4s - loss: 6.6719 - mse: 6.563 - ETA: 4s - loss: 6.6462 - mse: 6.538 - ETA: 4s - loss: 6.6190 - mse: 6.510 - ETA: 4s - loss: 6.6158 - mse: 6.507 - ETA: 4s - loss: 6.5972 - mse: 6.489 - ETA: 4s - loss: 6.6152 - mse: 6.507 - ETA: 4s - loss: 6.5896 - mse: 6.481 - ETA: 4s - loss: 6.5734 - mse: 6.465 - ETA: 4s - loss: 6.5561 - mse: 6.447 - ETA: 4s - loss: 6.5438 - mse: 6.435 - ETA: 4s - loss: 6.5268 - mse: 6.418 - ETA: 4s - loss: 6.5753 - mse: 6.467 - ETA: 4s - loss: 6.5666 - mse: 6.458 - ETA: 3s - loss: 6.5489 - mse: 6.440 - ETA: 3s - loss: 6.5357 - mse: 6.427 - ETA: 3s - loss: 6.5158 - mse: 6.407 - ETA: 3s - loss: 6.5001 - mse: 6.391 - ETA: 3s - loss: 6.4819 - mse: 6.373 - ETA: 3s - loss: 6.4607 - mse: 6.35226425094/6425094 [==============================] - ETA: 3s - loss: 6.9836 - mse: 6.875 - ETA: 3s - loss: 7.2209 - mse: 7.112 - ETA: 3s - loss: 7.2092 - mse: 7.100 - ETA: 3s - loss: 7.1913 - mse: 7.082 - ETA: 3s - loss: 7.1995 - mse: 7.090 - ETA: 3s - loss: 7.2572 - mse: 7.148 - ETA: 3s - loss: 7.2357 - mse: 7.127 - ETA: 3s - loss: 7.2162 - mse: 7.107 - ETA: 3s - loss: 7.1995 - mse: 7.090 - ETA: 3s - loss: 7.1857 - mse: 7.077 - ETA: 3s - loss: 7.1657 - mse: 7.057 - ETA: 3s - loss: 7.2475 - mse: 7.138 - ETA: 2s - loss: 7.2299 - mse: 7.121 - ETA: 2s - loss: 7.2394 - mse: 7.130 - ETA: 2s - loss: 7.3164 - mse: 7.207 - ETA: 2s - loss: 7.2916 - mse: 7.182 - ETA: 2s - loss: 7.2747 - mse: 7.165 - ETA: 2s - loss: 7.2721 - mse: 7.163 - ETA: 2s - loss: 7.2539 - mse: 7.145 - ETA: 2s - loss: 7.2342 - mse: 7.125 - ETA: 2s - loss: 7.2226 - mse: 7.113 - ETA: 2s - loss: 7.2031 - mse: 7.094 - ETA: 2s - loss: 7.1882 - mse: 7.079 - ETA: 2s - loss: 7.1698 - mse: 7.060 - ETA: 2s - loss: 7.1691 - mse: 7.060 - ETA: 2s - loss: 7.1610 - mse: 7.052 - ETA: 2s - loss: 7.1466 - mse: 7.037 - ETA: 2s - loss: 7.1442 - mse: 7.035 - ETA: 2s - loss: 7.1836 - mse: 7.074 - ETA: 2s - loss: 7.1785 - mse: 7.069 - ETA: 1s - loss: 7.1546 - mse: 7.045 - ETA: 1s - loss: 7.1377 - mse: 7.028 - ETA: 1s - loss: 7.1200 - mse: 7.010 - ETA: 1s - loss: 7.1162 - mse: 7.007 - ETA: 1s - loss: 7.0903 - mse: 6.981 - ETA: 1s - loss: 7.0786 - mse: 6.969 - ETA: 1s - loss: 7.0698 - mse: 6.960 - ETA: 1s - loss: 7.2500 - mse: 7.140 - ETA: 1s - loss: 7.2317 - mse: 7.122 - ETA: 1s - loss: 7.2164 - mse: 7.107 - ETA: 1s - loss: 7.2169 - mse: 7.107 - ETA: 1s - loss: 7.1929 - mse: 7.083 - ETA: 1s - loss: 7.1779 - mse: 7.068 - ETA: 1s - loss: 7.1768 - mse: 7.067 - ETA: 0s - loss: 7.1598 - mse: 7.050 - ETA: 0s - loss: 7.2004 - mse: 7.090 - ETA: 0s - loss: 7.1827 - mse: 7.073 - ETA: 0s - loss: 7.1747 - mse: 7.065 - ETA: 0s - loss: 7.1828 - mse: 7.073 - ETA: 0s - loss: 7.1572 - mse: 7.047 - ETA: 0s - loss: 7.1662 - mse: 7.056 - ETA: 0s - loss: 7.1510 - mse: 7.041 - ETA: 0s - loss: 7.1355 - mse: 7.025 - ETA: 0s - loss: 7.1128 - mse: 7.003 - ETA: 0s - loss: 7.1287 - mse: 7.019 - ETA: 0s - loss: 7.1183 - mse: 7.008 - ETA: 0s - loss: 7.1025 - mse: 6.992 - ETA: 0s - loss: 7.1005 - mse: 6.990 - ETA: 0s - loss: 7.0879 - mse: 6.978 - ETA: 0s - loss: 7.0796 - mse: 6.969 - 17s 3us/step - loss: 7.0754 - mse: 6.9657\n"
     ]
    },
    {
     "data": {
      "text/plain": [
       "<keras.callbacks.callbacks.History at 0x23900555e48>"
      ]
     },
     "execution_count": 18,
     "metadata": {},
     "output_type": "execute_result"
    }
   ],
   "source": [
    "\n",
    "# define model\n",
    "def Sales_prediction_model(input_shape):\n",
    "    in_layer = Input(input_shape)\n",
    "    x = Dense(16,kernel_initializer='RandomUniform', kernel_regularizer=l2(0.02), activation = \"relu\")(in_layer)\n",
    "    x = Dense(8, kernel_initializer='RandomUniform', kernel_regularizer=l2(0.02), activation = \"relu\")(x)\n",
    "    x = Dense(1, kernel_initializer='RandomUniform', kernel_regularizer=l2(0.02), activation = \"relu\")(x)\n",
    "    \n",
    "    model = Model(inputs = in_layer, outputs = x, name='Sales_prediction_model')\n",
    "    return model\n",
    "\n",
    "# NN cannot take missing values, fill NaN with 0.\n",
    "X_train.fillna(0,inplace=True)\n",
    "X_test.fillna(0,inplace=True)\n",
    "\n",
    "# We do no feature scaling here. \n",
    "# Some features like 'item_avg_sale_last_6' are already scaled in feature engineering part.\n",
    "\n",
    "input_shape = [X_train.shape[1]]\n",
    "model = Sales_prediction_model(input_shape)\n",
    "model.compile(optimizer = Adam(lr=0.0005) , loss = [\"mse\"], metrics=['mse'])\n",
    "model.fit(X_train, Y_train, batch_size = 10000, epochs=5)"
   ]
  },
  {
   "cell_type": "code",
   "execution_count": 35,
   "metadata": {},
   "outputs": [],
   "source": [
    "pred_nn = model.predict(X_test).clip(0, 20)[:,0]\n",
    "\n",
    "submission = pd.DataFrame({'ID': sample_submission.ID, 'item_cnt_month': pred_nn})\n",
    "submission.to_csv('pred_nn.csv', index=False)"
   ]
  },
  {
   "cell_type": "markdown",
   "metadata": {},
   "source": [
    "LightGBM"
   ]
  },
  {
   "cell_type": "code",
   "execution_count": 20,
   "metadata": {},
   "outputs": [],
   "source": [
    "import lightgbm as lgb\n",
    "lgb_params = {\n",
    "               'feature_fraction': 0.75,\n",
    "               'metric': 'rmse',\n",
    "               'nthread':1, \n",
    "               'min_data_in_leaf': 2**7, \n",
    "               'bagging_fraction': 0.75, \n",
    "               'learning_rate': 0.03, \n",
    "               'objective': 'mse', \n",
    "               'bagging_seed': 2**7,\n",
    "               'num_leaves': 2**7,\n",
    "               'bagging_freq':1,\n",
    "               'verbose':0 \n",
    "              }\n",
    "\n",
    "model = lgb.train(lgb_params, lgb.Dataset(X_train, label=Y_train), 100)\n",
    "pred_lgb = model.predict(X_test).clip(*target_range)"
   ]
  },
  {
   "cell_type": "code",
   "execution_count": 31,
   "metadata": {},
   "outputs": [],
   "source": [
    "submission = pd.DataFrame({'ID': sample_submission.ID, 'item_cnt_month': pred_lgb})\n",
    "submission.to_csv('pred_lgb.csv', index=False)"
   ]
  },
  {
   "cell_type": "code",
   "execution_count": 36,
   "metadata": {},
   "outputs": [],
   "source": [
    "X_test_level2 = np.c_[pred_nn, pred_lgb]\n",
    "dates_train_level2 = dates_train[dates_train.isin([27, 28, 29, 30, 31, 32, 33])]\n",
    "\n",
    "# That is how we get target for the 2nd level dataset\n",
    "Y_train_level2 = Y_train[dates_train.isin(dates_train_level2)]"
   ]
  },
  {
   "cell_type": "code",
   "execution_count": 38,
   "metadata": {},
   "outputs": [
    {
     "name": "stdout",
     "output_type": "stream",
     "text": [
      "27\n",
      "Epoch 1/5\n"
     ]
    },
    {
     "name": "stdout",
     "output_type": "stream",
     "text": [
      "4750000/4810730 [============================>.] - ETA: 7:51 - loss: 5.4917 - mse: 5.484 - ETA: 2:45 - loss: 25.7807 - mse: 25.773 - ETA: 1:28 - loss: 15.9187 - mse: 15.911 - ETA: 1:08 - loss: 12.5703 - mse: 12.563 - ETA: 57s - loss: 11.3045 - mse: 11.297 - ETA: 46s - loss: 9.4147 - mse: 9.4076 - ETA: 39s - loss: 9.4584 - mse: 9.45 - ETA: 36s - loss: 8.8766 - mse: 8.86 - ETA: 34s - loss: 11.6300 - mse: 11.62 - ETA: 31s - loss: 11.6566 - mse: 11.64 - ETA: 29s - loss: 11.3154 - mse: 11.30 - ETA: 28s - loss: 16.7180 - mse: 16.71 - ETA: 26s - loss: 15.8027 - mse: 15.79 - ETA: 26s - loss: 15.1118 - mse: 15.10 - ETA: 25s - loss: 14.3080 - mse: 14.30 - ETA: 24s - loss: 13.8407 - mse: 13.83 - ETA: 23s - loss: 13.2919 - mse: 13.28 - ETA: 23s - loss: 12.7965 - mse: 12.78 - ETA: 22s - loss: 12.9405 - mse: 12.93 - ETA: 21s - loss: 12.7770 - mse: 12.77 - ETA: 21s - loss: 13.1332 - mse: 13.12 - ETA: 20s - loss: 12.7604 - mse: 12.75 - ETA: 20s - loss: 12.6255 - mse: 12.61 - ETA: 19s - loss: 12.6935 - mse: 12.68 - ETA: 18s - loss: 12.1462 - mse: 12.13 - ETA: 18s - loss: 11.8104 - mse: 11.80 - ETA: 18s - loss: 11.5334 - mse: 11.52 - ETA: 18s - loss: 11.2337 - mse: 11.22 - ETA: 17s - loss: 10.9805 - mse: 10.97 - ETA: 17s - loss: 10.7435 - mse: 10.73 - ETA: 17s - loss: 10.4852 - mse: 10.47 - ETA: 16s - loss: 10.1542 - mse: 10.14 - ETA: 16s - loss: 10.1378 - mse: 10.13 - ETA: 16s - loss: 10.2623 - mse: 10.25 - ETA: 16s - loss: 10.6276 - mse: 10.62 - ETA: 15s - loss: 10.4331 - mse: 10.42 - ETA: 15s - loss: 10.2364 - mse: 10.22 - ETA: 15s - loss: 10.0460 - mse: 10.03 - ETA: 15s - loss: 9.8788 - mse: 9.8720 - ETA: 15s - loss: 9.7133 - mse: 9.70 - ETA: 14s - loss: 9.5739 - mse: 9.56 - ETA: 14s - loss: 9.4098 - mse: 9.40 - ETA: 14s - loss: 9.2617 - mse: 9.25 - ETA: 14s - loss: 9.5135 - mse: 9.50 - ETA: 14s - loss: 9.5429 - mse: 9.53 - ETA: 14s - loss: 9.4611 - mse: 9.45 - ETA: 14s - loss: 9.4085 - mse: 9.40 - ETA: 13s - loss: 9.2710 - mse: 9.26 - ETA: 13s - loss: 9.1407 - mse: 9.13 - ETA: 13s - loss: 9.0067 - mse: 8.99 - ETA: 13s - loss: 9.0092 - mse: 9.00 - ETA: 13s - loss: 8.8910 - mse: 8.88 - ETA: 12s - loss: 9.3960 - mse: 9.38 - ETA: 12s - loss: 9.8269 - mse: 9.81 - ETA: 12s - loss: 9.7118 - mse: 9.70 - ETA: 12s - loss: 9.5532 - mse: 9.54 - ETA: 12s - loss: 9.5997 - mse: 9.59 - ETA: 11s - loss: 9.8611 - mse: 9.85 - ETA: 11s - loss: 9.7257 - mse: 9.71 - ETA: 11s - loss: 10.1172 - mse: 10.10 - ETA: 11s - loss: 10.0022 - mse: 9.9942 - ETA: 11s - loss: 9.9671 - mse: 9.959 - ETA: 11s - loss: 10.0163 - mse: 10.00 - ETA: 11s - loss: 9.9165 - mse: 9.9083 - ETA: 11s - loss: 9.8386 - mse: 9.83 - ETA: 11s - loss: 10.0848 - mse: 10.07 - ETA: 10s - loss: 10.0644 - mse: 10.05 - ETA: 10s - loss: 10.0286 - mse: 10.02 - ETA: 10s - loss: 9.9358 - mse: 9.9274 - ETA: 10s - loss: 9.8498 - mse: 9.84 - ETA: 10s - loss: 9.8628 - mse: 9.85 - ETA: 10s - loss: 9.8148 - mse: 9.80 - ETA: 10s - loss: 9.7457 - mse: 9.73 - ETA: 10s - loss: 9.6639 - mse: 9.65 - ETA: 10s - loss: 9.6284 - mse: 9.61 - ETA: 10s - loss: 9.6228 - mse: 9.61 - ETA: 9s - loss: 9.5305 - mse: 9.5216 - ETA: 9s - loss: 9.5238 - mse: 9.514 - ETA: 9s - loss: 10.0656 - mse: 10.056 - ETA: 9s - loss: 9.9843 - mse: 9.9753  - ETA: 9s - loss: 9.9336 - mse: 9.924 - ETA: 9s - loss: 9.8868 - mse: 9.877 - ETA: 9s - loss: 9.8457 - mse: 9.836 - ETA: 9s - loss: 10.3898 - mse: 10.380 - ETA: 9s - loss: 10.4173 - mse: 10.408 - ETA: 9s - loss: 10.3747 - mse: 10.365 - ETA: 9s - loss: 10.2913 - mse: 10.281 - ETA: 9s - loss: 10.2290 - mse: 10.219 - ETA: 8s - loss: 10.1809 - mse: 10.171 - ETA: 8s - loss: 10.2319 - mse: 10.222 - ETA: 8s - loss: 10.1697 - mse: 10.160 - ETA: 8s - loss: 10.4455 - mse: 10.435 - ETA: 8s - loss: 10.3794 - mse: 10.369 - ETA: 8s - loss: 10.3320 - mse: 10.322 - ETA: 8s - loss: 10.2812 - mse: 10.271 - ETA: 8s - loss: 10.2407 - mse: 10.230 - ETA: 8s - loss: 10.1878 - mse: 10.177 - ETA: 8s - loss: 10.1289 - mse: 10.119 - ETA: 8s - loss: 10.0629 - mse: 10.053 - ETA: 8s - loss: 9.9602 - mse: 9.9502  - ETA: 8s - loss: 9.9000 - mse: 9.889 - ETA: 7s - loss: 9.8664 - mse: 9.856 - ETA: 7s - loss: 9.8089 - mse: 9.798 - ETA: 7s - loss: 10.1068 - mse: 10.096 - ETA: 7s - loss: 10.1750 - mse: 10.164 - ETA: 7s - loss: 10.1111 - mse: 10.100 - ETA: 7s - loss: 10.0453 - mse: 10.035 - ETA: 7s - loss: 9.9995 - mse: 9.9892  - ETA: 7s - loss: 9.9361 - mse: 9.925 - ETA: 7s - loss: 9.9248 - mse: 9.914 - ETA: 7s - loss: 9.8947 - mse: 9.884 - ETA: 7s - loss: 9.8654 - mse: 9.854 - ETA: 7s - loss: 9.8047 - mse: 9.794 - ETA: 7s - loss: 10.2008 - mse: 10.190 - ETA: 7s - loss: 10.1506 - mse: 10.140 - ETA: 6s - loss: 10.0773 - mse: 10.066 - ETA: 6s - loss: 10.0372 - mse: 10.026 - ETA: 6s - loss: 9.9562 - mse: 9.9456  - ETA: 6s - loss: 9.9056 - mse: 9.895 - ETA: 6s - loss: 9.8161 - mse: 9.805 - ETA: 6s - loss: 9.9745 - mse: 9.963 - ETA: 6s - loss: 9.9298 - mse: 9.919 - ETA: 6s - loss: 9.9906 - mse: 9.979 - ETA: 6s - loss: 9.9887 - mse: 9.977 - ETA: 6s - loss: 9.9423 - mse: 9.931 - ETA: 6s - loss: 9.9480 - mse: 9.937 - ETA: 6s - loss: 9.9743 - mse: 9.963 - ETA: 5s - loss: 9.9367 - mse: 9.925 - ETA: 5s - loss: 10.1512 - mse: 10.140 - ETA: 5s - loss: 10.1036 - mse: 10.092 - ETA: 5s - loss: 10.0187 - mse: 10.007 - ETA: 5s - loss: 9.9700 - mse: 9.9589  - ETA: 5s - loss: 9.9439 - mse: 9.932 - ETA: 5s - loss: 10.0457 - mse: 10.034 - ETA: 5s - loss: 9.9977 - mse: 9.9865  - ETA: 5s - loss: 9.9646 - mse: 9.953 - ETA: 5s - loss: 9.9132 - mse: 9.901 - ETA: 5s - loss: 9.9119 - mse: 9.900 - ETA: 5s - loss: 9.8851 - mse: 9.873 - ETA: 5s - loss: 9.8438 - mse: 9.832 - ETA: 5s - loss: 9.8239 - mse: 9.812 - ETA: 4s - loss: 10.0073 - mse: 9.99 - ETA: 4s - loss: 9.9553 - mse: 9.9439 - ETA: 4s - loss: 9.8935 - mse: 9.882 - ETA: 4s - loss: 9.8572 - mse: 9.845 - ETA: 4s - loss: 9.8156 - mse: 9.804 - ETA: 4s - loss: 9.8147 - mse: 9.803 - ETA: 4s - loss: 9.7786 - mse: 9.766 - ETA: 4s - loss: 9.7381 - mse: 9.726 - ETA: 4s - loss: 9.7035 - mse: 9.691 - ETA: 4s - loss: 9.6772 - mse: 9.665 - ETA: 4s - loss: 9.6479 - mse: 9.636 - ETA: 4s - loss: 9.6073 - mse: 9.595 - ETA: 4s - loss: 9.5741 - mse: 9.562 - ETA: 4s - loss: 9.5365 - mse: 9.524 - ETA: 3s - loss: 9.5502 - mse: 9.538 - ETA: 3s - loss: 9.5287 - mse: 9.516 - ETA: 3s - loss: 9.4781 - mse: 9.466 - ETA: 3s - loss: 9.4531 - mse: 9.441 - ETA: 3s - loss: 9.4175 - mse: 9.405 - ETA: 3s - loss: 9.3775 - mse: 9.365 - ETA: 3s - loss: 9.3181 - mse: 9.306 - ETA: 3s - loss: 9.2775 - mse: 9.265 - ETA: 3s - loss: 9.2665 - mse: 9.254 - ETA: 3s - loss: 9.2380 - mse: 9.225 - ETA: 3s - loss: 9.2014 - mse: 9.189 - ETA: 3s - loss: 9.1641 - mse: 9.151 - ETA: 3s - loss: 9.1398 - mse: 9.127 - ETA: 3s - loss: 9.1013 - mse: 9.089 - ETA: 2s - loss: 9.0658 - mse: 9.053 - ETA: 2s - loss: 9.0296 - mse: 9.017 - ETA: 2s - loss: 8.9894 - mse: 8.977 - ETA: 2s - loss: 8.9505 - mse: 8.938 - ETA: 2s - loss: 9.0705 - mse: 9.058 - ETA: 2s - loss: 9.0358 - mse: 9.023 - ETA: 2s - loss: 9.0042 - mse: 8.991 - ETA: 2s - loss: 9.0326 - mse: 9.020 - ETA: 2s - loss: 8.9803 - mse: 8.967 - ETA: 2s - loss: 8.9313 - mse: 8.918 - ETA: 2s - loss: 8.8877 - mse: 8.875 - ETA: 2s - loss: 8.8677 - mse: 8.855 - ETA: 2s - loss: 8.8410 - mse: 8.828 - ETA: 1s - loss: 8.8520 - mse: 8.839 - ETA: 1s - loss: 8.8262 - mse: 8.813 - ETA: 1s - loss: 8.8516 - mse: 8.838 - ETA: 1s - loss: 8.8256 - mse: 8.812 - ETA: 1s - loss: 8.8476 - mse: 8.834 - ETA: 1s - loss: 8.7955 - mse: 8.782 - ETA: 1s - loss: 8.7821 - mse: 8.769 - ETA: 1s - loss: 8.7518 - mse: 8.738 - ETA: 1s - loss: 8.7141 - mse: 8.701 - ETA: 1s - loss: 8.6853 - mse: 8.672 - ETA: 1s - loss: 8.6550 - mse: 8.642 - ETA: 1s - loss: 8.6349 - mse: 8.621 - ETA: 1s - loss: 8.7070 - mse: 8.693 - ETA: 1s - loss: 8.7016 - mse: 8.688 - ETA: 1s - loss: 8.6725 - mse: 8.659 - ETA: 0s - loss: 8.6477 - mse: 8.634 - ETA: 0s - loss: 8.6217 - mse: 8.608 - ETA: 0s - loss: 8.5956 - mse: 8.582 - ETA: 0s - loss: 8.6164 - mse: 8.603 - ETA: 0s - loss: 8.6540 - mse: 8.640 - ETA: 0s - loss: 8.6432 - mse: 8.629 - ETA: 0s - loss: 8.6262 - mse: 8.612 - ETA: 0s - loss: 8.6116 - mse: 8.598 - ETA: 0s - loss: 8.5836 - mse: 8.570 - ETA: 0s - loss: 8.5640 - mse: 8.550 - ETA: 0s - loss: 8.5337 - mse: 8.520 - ETA: 0s - loss: 8.5030 - mse: 8.489 - ETA: 0s - loss: 8.4763 - mse: 8.4624810730/4810730 [==============================] - ETA: 0s - loss: 8.4507 - mse: 8.437 - ETA: 0s - loss: 8.4151 - mse: 8.401 - 14s 3us/step - loss: 8.4023 - mse: 8.3887\n",
      "Epoch 2/5\n"
     ]
    },
    {
     "name": "stdout",
     "output_type": "stream",
     "text": [
      "4670000/4810730 [============================>.] - ETA: 3:23 - loss: 17.3302 - mse: 17.308 - ETA: 59s - loss: 8.7110 - mse: 8.6896  - ETA: 43s - loss: 7.8818 - mse: 7.86 - ETA: 35s - loss: 6.9664 - mse: 6.94 - ETA: 31s - loss: 6.0463 - mse: 6.02 - ETA: 26s - loss: 7.3293 - mse: 7.30 - ETA: 24s - loss: 9.0926 - mse: 9.07 - ETA: 23s - loss: 8.2235 - mse: 8.20 - ETA: 22s - loss: 10.0953 - mse: 10.07 - ETA: 21s - loss: 9.4438 - mse: 9.4218 - ETA: 20s - loss: 8.8229 - mse: 8.80 - ETA: 19s - loss: 8.5776 - mse: 8.55 - ETA: 19s - loss: 8.5910 - mse: 8.56 - ETA: 18s - loss: 8.4717 - mse: 8.44 - ETA: 17s - loss: 8.3675 - mse: 8.34 - ETA: 17s - loss: 8.1086 - mse: 8.08 - ETA: 17s - loss: 7.8128 - mse: 7.79 - ETA: 16s - loss: 7.4037 - mse: 7.38 - ETA: 16s - loss: 7.2438 - mse: 7.22 - ETA: 15s - loss: 7.0403 - mse: 7.01 - ETA: 15s - loss: 6.8262 - mse: 6.80 - ETA: 15s - loss: 6.6447 - mse: 6.62 - ETA: 15s - loss: 8.2754 - mse: 8.25 - ETA: 15s - loss: 8.0979 - mse: 8.07 - ETA: 14s - loss: 8.1875 - mse: 8.16 - ETA: 14s - loss: 7.9622 - mse: 7.93 - ETA: 14s - loss: 8.0971 - mse: 8.07 - ETA: 14s - loss: 7.9350 - mse: 7.91 - ETA: 14s - loss: 7.7921 - mse: 7.76 - ETA: 13s - loss: 8.2628 - mse: 8.23 - ETA: 13s - loss: 8.1286 - mse: 8.10 - ETA: 13s - loss: 7.9708 - mse: 7.94 - ETA: 13s - loss: 8.9752 - mse: 8.95 - ETA: 13s - loss: 8.8774 - mse: 8.85 - ETA: 13s - loss: 8.7106 - mse: 8.68 - ETA: 13s - loss: 8.5561 - mse: 8.53 - ETA: 12s - loss: 8.5181 - mse: 8.49 - ETA: 12s - loss: 8.4895 - mse: 8.46 - ETA: 12s - loss: 8.3507 - mse: 8.32 - ETA: 12s - loss: 8.3170 - mse: 8.29 - ETA: 12s - loss: 8.3194 - mse: 8.29 - ETA: 12s - loss: 8.2680 - mse: 8.24 - ETA: 12s - loss: 8.5339 - mse: 8.50 - ETA: 12s - loss: 8.4548 - mse: 8.42 - ETA: 12s - loss: 8.3224 - mse: 8.29 - ETA: 11s - loss: 8.3246 - mse: 8.29 - ETA: 11s - loss: 8.2764 - mse: 8.25 - ETA: 11s - loss: 8.1614 - mse: 8.13 - ETA: 11s - loss: 8.0397 - mse: 8.01 - ETA: 11s - loss: 8.0343 - mse: 8.00 - ETA: 11s - loss: 7.9683 - mse: 7.94 - ETA: 11s - loss: 7.8751 - mse: 7.84 - ETA: 11s - loss: 7.7472 - mse: 7.72 - ETA: 11s - loss: 7.6608 - mse: 7.63 - ETA: 10s - loss: 7.5659 - mse: 7.54 - ETA: 10s - loss: 7.4216 - mse: 7.39 - ETA: 10s - loss: 7.3495 - mse: 7.32 - ETA: 10s - loss: 7.2749 - mse: 7.24 - ETA: 10s - loss: 7.1761 - mse: 7.15 - ETA: 10s - loss: 7.4911 - mse: 7.46 - ETA: 10s - loss: 7.6089 - mse: 7.58 - ETA: 10s - loss: 7.5580 - mse: 7.53 - ETA: 10s - loss: 7.5283 - mse: 7.50 - ETA: 10s - loss: 7.4521 - mse: 7.42 - ETA: 9s - loss: 7.3981 - mse: 7.3715 - ETA: 9s - loss: 7.3781 - mse: 7.351 - ETA: 9s - loss: 7.3163 - mse: 7.289 - ETA: 9s - loss: 7.2629 - mse: 7.236 - ETA: 9s - loss: 7.3741 - mse: 7.347 - ETA: 9s - loss: 7.3524 - mse: 7.325 - ETA: 9s - loss: 7.2863 - mse: 7.259 - ETA: 9s - loss: 7.2329 - mse: 7.205 - ETA: 9s - loss: 7.1858 - mse: 7.158 - ETA: 9s - loss: 7.1980 - mse: 7.170 - ETA: 9s - loss: 7.9259 - mse: 7.898 - ETA: 9s - loss: 7.9004 - mse: 7.873 - ETA: 9s - loss: 7.8301 - mse: 7.802 - ETA: 8s - loss: 7.7453 - mse: 7.717 - ETA: 8s - loss: 7.6914 - mse: 7.663 - ETA: 8s - loss: 7.6368 - mse: 7.609 - ETA: 8s - loss: 7.5804 - mse: 7.552 - ETA: 8s - loss: 7.5258 - mse: 7.497 - ETA: 8s - loss: 7.4787 - mse: 7.450 - ETA: 8s - loss: 7.4325 - mse: 7.404 - ETA: 8s - loss: 7.3731 - mse: 7.345 - ETA: 8s - loss: 7.4006 - mse: 7.372 - ETA: 8s - loss: 7.3233 - mse: 7.295 - ETA: 8s - loss: 7.3480 - mse: 7.319 - ETA: 8s - loss: 7.3067 - mse: 7.278 - ETA: 8s - loss: 7.2852 - mse: 7.256 - ETA: 8s - loss: 7.2406 - mse: 7.212 - ETA: 7s - loss: 7.1966 - mse: 7.168 - ETA: 7s - loss: 7.1619 - mse: 7.133 - ETA: 7s - loss: 7.1137 - mse: 7.085 - ETA: 7s - loss: 7.4251 - mse: 7.396 - ETA: 7s - loss: 7.4006 - mse: 7.371 - ETA: 7s - loss: 7.3634 - mse: 7.334 - ETA: 7s - loss: 7.3303 - mse: 7.301 - ETA: 7s - loss: 7.2866 - mse: 7.257 - ETA: 7s - loss: 7.2609 - mse: 7.231 - ETA: 7s - loss: 7.3689 - mse: 7.339 - ETA: 7s - loss: 7.3343 - mse: 7.305 - ETA: 7s - loss: 7.2971 - mse: 7.267 - ETA: 7s - loss: 7.2701 - mse: 7.240 - ETA: 7s - loss: 7.1995 - mse: 7.170 - ETA: 6s - loss: 7.1603 - mse: 7.130 - ETA: 6s - loss: 7.1332 - mse: 7.103 - ETA: 6s - loss: 7.1273 - mse: 7.097 - ETA: 6s - loss: 7.0969 - mse: 7.067 - ETA: 6s - loss: 7.0510 - mse: 7.021 - ETA: 6s - loss: 7.0596 - mse: 7.029 - ETA: 6s - loss: 7.1385 - mse: 7.108 - ETA: 6s - loss: 7.1095 - mse: 7.079 - ETA: 6s - loss: 7.2000 - mse: 7.170 - ETA: 6s - loss: 7.1834 - mse: 7.153 - ETA: 6s - loss: 7.2345 - mse: 7.204 - ETA: 6s - loss: 7.2023 - mse: 7.172 - ETA: 6s - loss: 7.1593 - mse: 7.129 - ETA: 6s - loss: 7.1414 - mse: 7.111 - ETA: 6s - loss: 7.1116 - mse: 7.081 - ETA: 6s - loss: 7.1318 - mse: 7.101 - ETA: 5s - loss: 7.1198 - mse: 7.089 - ETA: 5s - loss: 7.0963 - mse: 7.066 - ETA: 5s - loss: 7.0724 - mse: 7.042 - ETA: 5s - loss: 7.0555 - mse: 7.025 - ETA: 5s - loss: 7.0104 - mse: 6.979 - ETA: 5s - loss: 6.9782 - mse: 6.947 - ETA: 5s - loss: 6.9532 - mse: 6.922 - ETA: 5s - loss: 6.9402 - mse: 6.909 - ETA: 5s - loss: 6.9072 - mse: 6.876 - ETA: 5s - loss: 6.9172 - mse: 6.886 - ETA: 5s - loss: 6.8849 - mse: 6.854 - ETA: 5s - loss: 6.9080 - mse: 6.877 - ETA: 5s - loss: 6.8852 - mse: 6.854 - ETA: 5s - loss: 6.8665 - mse: 6.835 - ETA: 5s - loss: 6.8722 - mse: 6.841 - ETA: 5s - loss: 6.8678 - mse: 6.836 - ETA: 4s - loss: 6.8840 - mse: 6.852 - ETA: 4s - loss: 6.8684 - mse: 6.837 - ETA: 4s - loss: 6.8467 - mse: 6.815 - ETA: 4s - loss: 7.0247 - mse: 6.993 - ETA: 4s - loss: 6.9987 - mse: 6.967 - ETA: 4s - loss: 7.0098 - mse: 6.978 - ETA: 4s - loss: 6.9828 - mse: 6.951 - ETA: 4s - loss: 6.9574 - mse: 6.925 - ETA: 4s - loss: 6.9280 - mse: 6.896 - ETA: 4s - loss: 6.8859 - mse: 6.854 - ETA: 4s - loss: 6.8686 - mse: 6.836 - ETA: 4s - loss: 6.8390 - mse: 6.807 - ETA: 4s - loss: 6.8391 - mse: 6.807 - ETA: 4s - loss: 6.8118 - mse: 6.779 - ETA: 4s - loss: 7.1658 - mse: 7.133 - ETA: 4s - loss: 7.1422 - mse: 7.110 - ETA: 3s - loss: 7.1408 - mse: 7.108 - ETA: 3s - loss: 7.1213 - mse: 7.089 - ETA: 3s - loss: 7.0970 - mse: 7.064 - ETA: 3s - loss: 7.0718 - mse: 7.039 - ETA: 3s - loss: 7.0745 - mse: 7.042 - ETA: 3s - loss: 7.0481 - mse: 7.015 - ETA: 3s - loss: 7.0254 - mse: 6.992 - ETA: 3s - loss: 7.0473 - mse: 7.014 - ETA: 3s - loss: 7.0299 - mse: 6.997 - ETA: 3s - loss: 7.0015 - mse: 6.968 - ETA: 3s - loss: 6.9774 - mse: 6.944 - ETA: 3s - loss: 6.9599 - mse: 6.927 - ETA: 3s - loss: 6.9374 - mse: 6.904 - ETA: 3s - loss: 6.9171 - mse: 6.884 - ETA: 3s - loss: 6.8908 - mse: 6.857 - ETA: 3s - loss: 6.8725 - mse: 6.839 - ETA: 3s - loss: 6.8591 - mse: 6.826 - ETA: 2s - loss: 6.8262 - mse: 6.793 - ETA: 2s - loss: 6.8014 - mse: 6.768 - ETA: 2s - loss: 6.7763 - mse: 6.743 - ETA: 2s - loss: 6.7626 - mse: 6.729 - ETA: 2s - loss: 6.7421 - mse: 6.708 - ETA: 2s - loss: 6.7164 - mse: 6.682 - ETA: 2s - loss: 6.6964 - mse: 6.662 - ETA: 2s - loss: 6.7020 - mse: 6.668 - ETA: 2s - loss: 6.6871 - mse: 6.653 - ETA: 2s - loss: 6.6629 - mse: 6.629 - ETA: 2s - loss: 6.6568 - mse: 6.623 - ETA: 2s - loss: 6.6406 - mse: 6.606 - ETA: 2s - loss: 6.6162 - mse: 6.582 - ETA: 2s - loss: 6.6219 - mse: 6.588 - ETA: 2s - loss: 6.6521 - mse: 6.618 - ETA: 2s - loss: 6.7835 - mse: 6.749 - ETA: 1s - loss: 6.7585 - mse: 6.724 - ETA: 1s - loss: 6.7363 - mse: 6.702 - ETA: 1s - loss: 6.7518 - mse: 6.717 - ETA: 1s - loss: 6.7405 - mse: 6.706 - ETA: 1s - loss: 6.7210 - mse: 6.686 - ETA: 1s - loss: 6.7002 - mse: 6.665 - ETA: 1s - loss: 6.6842 - mse: 6.649 - ETA: 1s - loss: 6.6623 - mse: 6.627 - ETA: 1s - loss: 6.6530 - mse: 6.618 - ETA: 1s - loss: 6.6378 - mse: 6.603 - ETA: 1s - loss: 6.6818 - mse: 6.647 - ETA: 1s - loss: 6.6691 - mse: 6.634 - ETA: 1s - loss: 6.6518 - mse: 6.617 - ETA: 1s - loss: 6.6260 - mse: 6.591 - ETA: 1s - loss: 6.6871 - mse: 6.652 - ETA: 1s - loss: 6.6927 - mse: 6.657 - ETA: 1s - loss: 6.7877 - mse: 6.752 - ETA: 0s - loss: 6.7707 - mse: 6.735 - ETA: 0s - loss: 6.7607 - mse: 6.725 - ETA: 0s - loss: 6.7457 - mse: 6.710 - ETA: 0s - loss: 6.7438 - mse: 6.708 - ETA: 0s - loss: 6.7570 - mse: 6.721 - ETA: 0s - loss: 6.7431 - mse: 6.707 - ETA: 0s - loss: 6.7348 - mse: 6.699 - ETA: 0s - loss: 6.7180 - mse: 6.682 - ETA: 0s - loss: 6.7020 - mse: 6.666 - ETA: 0s - loss: 6.6936 - mse: 6.658 - ETA: 0s - loss: 6.6809 - mse: 6.6452"
     ]
    },
    {
     "name": "stdout",
     "output_type": "stream",
     "text": [
      "4810730/4810730 [==============================] - ETA: 0s - loss: 6.7062 - mse: 6.670 - ETA: 0s - loss: 6.6922 - mse: 6.656 - ETA: 0s - loss: 6.6786 - mse: 6.642 - ETA: 0s - loss: 6.6528 - mse: 6.616 - ETA: 0s - loss: 6.6350 - mse: 6.598 - ETA: 0s - loss: 6.6281 - mse: 6.592 - 13s 3us/step - loss: 6.7993 - mse: 6.7632\n",
      "Epoch 3/5\n",
      "4810730/4810730 [==============================] - ETA: 3:52 - loss: 6.3295 - mse: 6.278 - ETA: 1:25 - loss: 3.4078 - mse: 3.356 - ETA: 55s - loss: 3.1872 - mse: 3.136 - ETA: 43s - loss: 3.5603 - mse: 3.50 - ETA: 36s - loss: 3.8684 - mse: 3.81 - ETA: 32s - loss: 4.3369 - mse: 4.28 - ETA: 27s - loss: 4.4388 - mse: 4.38 - ETA: 25s - loss: 4.8259 - mse: 4.77 - ETA: 23s - loss: 4.8708 - mse: 4.81 - ETA: 21s - loss: 6.5472 - mse: 6.49 - ETA: 21s - loss: 6.4157 - mse: 6.36 - ETA: 20s - loss: 6.0544 - mse: 6.00 - ETA: 19s - loss: 5.9511 - mse: 5.89 - ETA: 18s - loss: 5.7177 - mse: 5.66 - ETA: 18s - loss: 6.0915 - mse: 6.03 - ETA: 17s - loss: 5.9254 - mse: 5.87 - ETA: 16s - loss: 5.6868 - mse: 5.63 - ETA: 16s - loss: 5.5265 - mse: 5.47 - ETA: 16s - loss: 5.3910 - mse: 5.33 - ETA: 16s - loss: 5.2580 - mse: 5.20 - ETA: 15s - loss: 5.3643 - mse: 5.31 - ETA: 15s - loss: 5.2219 - mse: 5.16 - ETA: 14s - loss: 5.5966 - mse: 5.54 - ETA: 14s - loss: 5.4839 - mse: 5.43 - ETA: 14s - loss: 5.6056 - mse: 5.55 - ETA: 14s - loss: 5.8541 - mse: 5.80 - ETA: 13s - loss: 5.6918 - mse: 5.63 - ETA: 13s - loss: 5.6616 - mse: 5.60 - ETA: 13s - loss: 5.6095 - mse: 5.55 - ETA: 13s - loss: 5.5781 - mse: 5.52 - ETA: 13s - loss: 5.6197 - mse: 5.56 - ETA: 13s - loss: 5.5446 - mse: 5.49 - ETA: 13s - loss: 5.4820 - mse: 5.42 - ETA: 12s - loss: 5.3981 - mse: 5.34 - ETA: 12s - loss: 5.3391 - mse: 5.28 - ETA: 12s - loss: 5.2766 - mse: 5.22 - ETA: 12s - loss: 5.2420 - mse: 5.18 - ETA: 12s - loss: 5.1712 - mse: 5.11 - ETA: 12s - loss: 6.5433 - mse: 6.49 - ETA: 12s - loss: 6.5774 - mse: 6.52 - ETA: 11s - loss: 6.4485 - mse: 6.39 - ETA: 11s - loss: 6.4234 - mse: 6.37 - ETA: 11s - loss: 6.3458 - mse: 6.29 - ETA: 11s - loss: 6.2936 - mse: 6.24 - ETA: 11s - loss: 6.9087 - mse: 6.85 - ETA: 11s - loss: 6.9389 - mse: 6.88 - ETA: 11s - loss: 6.9317 - mse: 6.87 - ETA: 11s - loss: 6.8699 - mse: 6.81 - ETA: 11s - loss: 7.0079 - mse: 6.95 - ETA: 10s - loss: 7.0181 - mse: 6.96 - ETA: 10s - loss: 6.9375 - mse: 6.88 - ETA: 10s - loss: 6.8755 - mse: 6.82 - ETA: 10s - loss: 6.7661 - mse: 6.71 - ETA: 10s - loss: 6.6690 - mse: 6.61 - ETA: 10s - loss: 6.6021 - mse: 6.54 - ETA: 10s - loss: 6.5377 - mse: 6.48 - ETA: 10s - loss: 6.5199 - mse: 6.46 - ETA: 10s - loss: 6.6916 - mse: 6.63 - ETA: 10s - loss: 6.6585 - mse: 6.60 - ETA: 9s - loss: 6.5956 - mse: 6.5417 - ETA: 9s - loss: 6.5501 - mse: 6.496 - ETA: 9s - loss: 6.5147 - mse: 6.460 - ETA: 9s - loss: 6.4849 - mse: 6.430 - ETA: 9s - loss: 6.4392 - mse: 6.385 - ETA: 9s - loss: 6.3955 - mse: 6.341 - ETA: 9s - loss: 6.3557 - mse: 6.301 - ETA: 9s - loss: 6.3447 - mse: 6.290 - ETA: 9s - loss: 6.3061 - mse: 6.251 - ETA: 9s - loss: 6.3324 - mse: 6.277 - ETA: 9s - loss: 6.2835 - mse: 6.229 - ETA: 9s - loss: 6.2577 - mse: 6.203 - ETA: 9s - loss: 6.2235 - mse: 6.168 - ETA: 8s - loss: 6.1812 - mse: 6.126 - ETA: 8s - loss: 6.1540 - mse: 6.099 - ETA: 8s - loss: 6.1081 - mse: 6.053 - ETA: 8s - loss: 6.2261 - mse: 6.171 - ETA: 8s - loss: 6.2003 - mse: 6.145 - ETA: 8s - loss: 6.1652 - mse: 6.110 - ETA: 8s - loss: 6.1912 - mse: 6.136 - ETA: 8s - loss: 6.1573 - mse: 6.102 - ETA: 8s - loss: 6.1217 - mse: 6.066 - ETA: 8s - loss: 6.0516 - mse: 5.996 - ETA: 8s - loss: 6.0093 - mse: 5.954 - ETA: 8s - loss: 5.9855 - mse: 5.930 - ETA: 8s - loss: 6.3745 - mse: 6.319 - ETA: 7s - loss: 6.3234 - mse: 6.267 - ETA: 7s - loss: 6.2850 - mse: 6.229 - ETA: 7s - loss: 6.2506 - mse: 6.195 - ETA: 7s - loss: 6.2135 - mse: 6.157 - ETA: 7s - loss: 6.1895 - mse: 6.133 - ETA: 7s - loss: 6.2517 - mse: 6.195 - ETA: 7s - loss: 6.2128 - mse: 6.157 - ETA: 7s - loss: 6.1592 - mse: 6.103 - ETA: 7s - loss: 6.1644 - mse: 6.108 - ETA: 7s - loss: 6.1825 - mse: 6.126 - ETA: 7s - loss: 6.1501 - mse: 6.094 - ETA: 7s - loss: 6.1204 - mse: 6.064 - ETA: 7s - loss: 6.0855 - mse: 6.029 - ETA: 7s - loss: 6.0871 - mse: 6.031 - ETA: 6s - loss: 6.0654 - mse: 6.009 - ETA: 6s - loss: 6.0306 - mse: 5.974 - ETA: 6s - loss: 6.0133 - mse: 5.957 - ETA: 6s - loss: 6.0363 - mse: 5.980 - ETA: 6s - loss: 6.0137 - mse: 5.957 - ETA: 6s - loss: 6.0427 - mse: 5.986 - ETA: 6s - loss: 6.0420 - mse: 5.985 - ETA: 6s - loss: 6.0112 - mse: 5.954 - ETA: 6s - loss: 5.9642 - mse: 5.907 - ETA: 6s - loss: 5.9423 - mse: 5.885 - ETA: 6s - loss: 5.9587 - mse: 5.902 - ETA: 6s - loss: 5.9185 - mse: 5.861 - ETA: 6s - loss: 5.9167 - mse: 5.859 - ETA: 6s - loss: 5.8955 - mse: 5.838 - ETA: 6s - loss: 5.8749 - mse: 5.818 - ETA: 6s - loss: 5.8702 - mse: 5.813 - ETA: 5s - loss: 5.8532 - mse: 5.796 - ETA: 5s - loss: 5.8266 - mse: 5.769 - ETA: 5s - loss: 5.7982 - mse: 5.741 - ETA: 5s - loss: 5.7688 - mse: 5.711 - ETA: 5s - loss: 5.7411 - mse: 5.683 - ETA: 5s - loss: 5.7261 - mse: 5.668 - ETA: 5s - loss: 5.6901 - mse: 5.632 - ETA: 5s - loss: 5.6656 - mse: 5.608 - ETA: 5s - loss: 5.6470 - mse: 5.589 - ETA: 5s - loss: 5.6367 - mse: 5.579 - ETA: 5s - loss: 5.6108 - mse: 5.553 - ETA: 5s - loss: 5.5782 - mse: 5.520 - ETA: 5s - loss: 5.5564 - mse: 5.498 - ETA: 5s - loss: 5.6104 - mse: 5.552 - ETA: 5s - loss: 5.5909 - mse: 5.533 - ETA: 5s - loss: 5.5931 - mse: 5.535 - ETA: 4s - loss: 5.5757 - mse: 5.518 - ETA: 4s - loss: 5.5640 - mse: 5.506 - ETA: 4s - loss: 5.5395 - mse: 5.481 - ETA: 4s - loss: 5.5221 - mse: 5.464 - ETA: 4s - loss: 5.5269 - mse: 5.469 - ETA: 4s - loss: 5.5130 - mse: 5.455 - ETA: 4s - loss: 5.6080 - mse: 5.550 - ETA: 4s - loss: 5.6316 - mse: 5.573 - ETA: 4s - loss: 5.6202 - mse: 5.562 - ETA: 4s - loss: 5.6081 - mse: 5.550 - ETA: 4s - loss: 5.7500 - mse: 5.691 - ETA: 4s - loss: 5.7330 - mse: 5.674 - ETA: 4s - loss: 5.7113 - mse: 5.653 - ETA: 4s - loss: 5.7424 - mse: 5.684 - ETA: 4s - loss: 5.7502 - mse: 5.691 - ETA: 4s - loss: 5.7502 - mse: 5.691 - ETA: 3s - loss: 5.7295 - mse: 5.671 - ETA: 3s - loss: 5.7185 - mse: 5.660 - ETA: 3s - loss: 5.7282 - mse: 5.669 - ETA: 3s - loss: 5.7069 - mse: 5.648 - ETA: 3s - loss: 5.7341 - mse: 5.675 - ETA: 3s - loss: 5.7297 - mse: 5.671 - ETA: 3s - loss: 5.7005 - mse: 5.641 - ETA: 3s - loss: 5.6976 - mse: 5.639 - ETA: 3s - loss: 5.6813 - mse: 5.622 - ETA: 3s - loss: 5.7196 - mse: 5.660 - ETA: 3s - loss: 5.7009 - mse: 5.642 - ETA: 3s - loss: 5.6905 - mse: 5.631 - ETA: 3s - loss: 5.6924 - mse: 5.633 - ETA: 3s - loss: 5.7039 - mse: 5.645 - ETA: 3s - loss: 5.6838 - mse: 5.624 - ETA: 3s - loss: 5.6587 - mse: 5.599 - ETA: 2s - loss: 5.6708 - mse: 5.611 - ETA: 2s - loss: 5.6581 - mse: 5.599 - ETA: 2s - loss: 5.6507 - mse: 5.591 - ETA: 2s - loss: 5.6520 - mse: 5.592 - ETA: 2s - loss: 5.6361 - mse: 5.577 - ETA: 2s - loss: 5.6914 - mse: 5.632 - ETA: 2s - loss: 5.6759 - mse: 5.616 - ETA: 2s - loss: 5.6750 - mse: 5.615 - ETA: 2s - loss: 5.6593 - mse: 5.599 - ETA: 2s - loss: 5.6524 - mse: 5.593 - ETA: 2s - loss: 5.6361 - mse: 5.576 - ETA: 2s - loss: 5.6203 - mse: 5.560 - ETA: 2s - loss: 5.8103 - mse: 5.750 - ETA: 2s - loss: 5.7850 - mse: 5.725 - ETA: 2s - loss: 5.7686 - mse: 5.709 - ETA: 2s - loss: 5.7524 - mse: 5.692 - ETA: 1s - loss: 5.7482 - mse: 5.688 - ETA: 1s - loss: 5.7289 - mse: 5.669 - ETA: 1s - loss: 5.7683 - mse: 5.708 - ETA: 1s - loss: 5.7641 - mse: 5.704 - ETA: 1s - loss: 5.7695 - mse: 5.709 - ETA: 1s - loss: 5.7467 - mse: 5.687 - ETA: 1s - loss: 5.7338 - mse: 5.674 - ETA: 1s - loss: 5.7128 - mse: 5.653 - ETA: 1s - loss: 5.7094 - mse: 5.649 - ETA: 1s - loss: 5.7358 - mse: 5.675 - ETA: 1s - loss: 5.7292 - mse: 5.669 - ETA: 1s - loss: 5.7333 - mse: 5.673 - ETA: 1s - loss: 5.7333 - mse: 5.673 - ETA: 1s - loss: 5.7814 - mse: 5.721 - ETA: 1s - loss: 5.7589 - mse: 5.698 - ETA: 1s - loss: 5.7421 - mse: 5.682 - ETA: 0s - loss: 5.7325 - mse: 5.672 - ETA: 0s - loss: 5.7334 - mse: 5.673 - ETA: 0s - loss: 5.7275 - mse: 5.667 - ETA: 0s - loss: 5.7160 - mse: 5.655 - ETA: 0s - loss: 5.9552 - mse: 5.895 - ETA: 0s - loss: 5.9450 - mse: 5.884 - ETA: 0s - loss: 5.9306 - mse: 5.870 - ETA: 0s - loss: 5.9212 - mse: 5.861 - ETA: 0s - loss: 5.8989 - mse: 5.838 - ETA: 0s - loss: 5.9964 - mse: 5.936 - ETA: 0s - loss: 6.0064 - mse: 5.946 - ETA: 0s - loss: 6.0071 - mse: 5.946 - ETA: 0s - loss: 6.0035 - mse: 5.943 - ETA: 0s - loss: 5.9898 - mse: 5.929 - ETA: 0s - loss: 6.0487 - mse: 5.988 - ETA: 0s - loss: 6.0464 - mse: 5.985 - 13s 3us/step - loss: 6.0423 - mse: 5.9818\n",
      "Epoch 4/5\n"
     ]
    },
    {
     "name": "stdout",
     "output_type": "stream",
     "text": [
      "4810730/4810730 [==============================] - ETA: 3:26 - loss: 11.9319 - mse: 11.862 - ETA: 1:17 - loss: 7.6466 - mse: 7.5773  - ETA: 51s - loss: 17.9911 - mse: 17.92 - ETA: 40s - loss: 13.4553 - mse: 13.38 - ETA: 34s - loss: 11.1272 - mse: 11.05 - ETA: 30s - loss: 9.5312 - mse: 9.4616 - ETA: 26s - loss: 8.6105 - mse: 8.54 - ETA: 23s - loss: 8.1652 - mse: 8.09 - ETA: 22s - loss: 8.3434 - mse: 8.27 - ETA: 21s - loss: 7.8343 - mse: 7.76 - ETA: 20s - loss: 7.4317 - mse: 7.36 - ETA: 19s - loss: 7.7013 - mse: 7.63 - ETA: 18s - loss: 7.3496 - mse: 7.27 - ETA: 17s - loss: 6.9164 - mse: 6.84 - ETA: 17s - loss: 7.1184 - mse: 7.04 - ETA: 16s - loss: 6.8489 - mse: 6.77 - ETA: 16s - loss: 6.6551 - mse: 6.58 - ETA: 16s - loss: 6.5010 - mse: 6.43 - ETA: 16s - loss: 6.3720 - mse: 6.30 - ETA: 15s - loss: 6.2071 - mse: 6.13 - ETA: 15s - loss: 6.2869 - mse: 6.21 - ETA: 15s - loss: 6.1990 - mse: 6.12 - ETA: 14s - loss: 7.0365 - mse: 6.96 - ETA: 14s - loss: 6.8603 - mse: 6.78 - ETA: 14s - loss: 6.7202 - mse: 6.64 - ETA: 14s - loss: 6.5171 - mse: 6.44 - ETA: 14s - loss: 6.4290 - mse: 6.35 - ETA: 13s - loss: 6.3414 - mse: 6.27 - ETA: 13s - loss: 6.3561 - mse: 6.28 - ETA: 13s - loss: 6.3392 - mse: 6.26 - ETA: 13s - loss: 6.1592 - mse: 6.08 - ETA: 13s - loss: 6.3195 - mse: 6.24 - ETA: 13s - loss: 6.2190 - mse: 6.14 - ETA: 13s - loss: 6.1447 - mse: 6.07 - ETA: 12s - loss: 6.0724 - mse: 6.00 - ETA: 12s - loss: 5.9592 - mse: 5.88 - ETA: 12s - loss: 5.8985 - mse: 5.82 - ETA: 12s - loss: 5.8179 - mse: 5.74 - ETA: 12s - loss: 5.7507 - mse: 5.67 - ETA: 12s - loss: 5.6902 - mse: 5.61 - ETA: 12s - loss: 5.6216 - mse: 5.54 - ETA: 12s - loss: 5.5678 - mse: 5.49 - ETA: 11s - loss: 5.4888 - mse: 5.41 - ETA: 11s - loss: 5.4962 - mse: 5.42 - ETA: 11s - loss: 5.4319 - mse: 5.35 - ETA: 11s - loss: 5.3754 - mse: 5.30 - ETA: 11s - loss: 5.5788 - mse: 5.50 - ETA: 11s - loss: 5.5136 - mse: 5.44 - ETA: 11s - loss: 5.5281 - mse: 5.45 - ETA: 11s - loss: 5.6148 - mse: 5.54 - ETA: 11s - loss: 5.5704 - mse: 5.49 - ETA: 11s - loss: 5.6082 - mse: 5.53 - ETA: 11s - loss: 5.5433 - mse: 5.47 - ETA: 10s - loss: 5.4908 - mse: 5.41 - ETA: 10s - loss: 5.4922 - mse: 5.41 - ETA: 10s - loss: 5.4499 - mse: 5.37 - ETA: 10s - loss: 6.3018 - mse: 6.22 - ETA: 10s - loss: 6.2180 - mse: 6.14 - ETA: 10s - loss: 6.1759 - mse: 6.10 - ETA: 10s - loss: 6.1311 - mse: 6.05 - ETA: 10s - loss: 6.0751 - mse: 6.00 - ETA: 10s - loss: 6.1458 - mse: 6.07 - ETA: 10s - loss: 6.0671 - mse: 5.99 - ETA: 9s - loss: 6.1804 - mse: 6.1074 - ETA: 9s - loss: 6.1750 - mse: 6.102 - ETA: 9s - loss: 6.1289 - mse: 6.055 - ETA: 9s - loss: 6.0918 - mse: 6.018 - ETA: 9s - loss: 6.1183 - mse: 6.045 - ETA: 9s - loss: 6.0872 - mse: 6.013 - ETA: 9s - loss: 6.0328 - mse: 5.959 - ETA: 9s - loss: 6.1102 - mse: 6.036 - ETA: 9s - loss: 6.0594 - mse: 5.986 - ETA: 9s - loss: 6.0157 - mse: 5.942 - ETA: 9s - loss: 5.9749 - mse: 5.901 - ETA: 8s - loss: 5.9111 - mse: 5.837 - ETA: 8s - loss: 5.9605 - mse: 5.887 - ETA: 8s - loss: 5.9195 - mse: 5.846 - ETA: 8s - loss: 6.3686 - mse: 6.295 - ETA: 8s - loss: 6.3320 - mse: 6.258 - ETA: 8s - loss: 6.2849 - mse: 6.211 - ETA: 8s - loss: 6.2563 - mse: 6.182 - ETA: 8s - loss: 6.2279 - mse: 6.154 - ETA: 8s - loss: 6.2828 - mse: 6.209 - ETA: 8s - loss: 6.2587 - mse: 6.185 - ETA: 8s - loss: 6.2213 - mse: 6.147 - ETA: 8s - loss: 6.8246 - mse: 6.750 - ETA: 8s - loss: 6.7847 - mse: 6.710 - ETA: 7s - loss: 6.7413 - mse: 6.667 - ETA: 7s - loss: 6.7112 - mse: 6.637 - ETA: 7s - loss: 6.6520 - mse: 6.578 - ETA: 7s - loss: 6.6249 - mse: 6.551 - ETA: 7s - loss: 6.5831 - mse: 6.509 - ETA: 7s - loss: 6.5260 - mse: 6.452 - ETA: 7s - loss: 6.4920 - mse: 6.418 - ETA: 7s - loss: 6.4353 - mse: 6.361 - ETA: 7s - loss: 6.3974 - mse: 6.323 - ETA: 7s - loss: 6.4162 - mse: 6.342 - ETA: 7s - loss: 6.3837 - mse: 6.309 - ETA: 7s - loss: 6.3308 - mse: 6.256 - ETA: 7s - loss: 6.3187 - mse: 6.244 - ETA: 7s - loss: 6.2648 - mse: 6.190 - ETA: 6s - loss: 6.7303 - mse: 6.656 - ETA: 6s - loss: 6.6950 - mse: 6.621 - ETA: 6s - loss: 6.6608 - mse: 6.586 - ETA: 6s - loss: 6.6355 - mse: 6.561 - ETA: 6s - loss: 6.5998 - mse: 6.525 - ETA: 6s - loss: 6.5609 - mse: 6.486 - ETA: 6s - loss: 6.5272 - mse: 6.453 - ETA: 6s - loss: 6.4916 - mse: 6.417 - ETA: 6s - loss: 6.5535 - mse: 6.479 - ETA: 6s - loss: 6.5562 - mse: 6.482 - ETA: 6s - loss: 6.5310 - mse: 6.456 - ETA: 6s - loss: 6.4773 - mse: 6.403 - ETA: 6s - loss: 6.4855 - mse: 6.411 - ETA: 6s - loss: 6.4416 - mse: 6.367 - ETA: 5s - loss: 6.4150 - mse: 6.340 - ETA: 5s - loss: 6.4278 - mse: 6.353 - ETA: 5s - loss: 6.3952 - mse: 6.321 - ETA: 5s - loss: 6.3749 - mse: 6.300 - ETA: 5s - loss: 6.3575 - mse: 6.283 - ETA: 5s - loss: 6.3349 - mse: 6.260 - ETA: 5s - loss: 6.3218 - mse: 6.247 - ETA: 5s - loss: 6.3215 - mse: 6.247 - ETA: 5s - loss: 6.2923 - mse: 6.218 - ETA: 5s - loss: 6.2618 - mse: 6.187 - ETA: 5s - loss: 6.2420 - mse: 6.167 - ETA: 5s - loss: 6.2223 - mse: 6.148 - ETA: 5s - loss: 6.2282 - mse: 6.153 - ETA: 5s - loss: 6.2377 - mse: 6.163 - ETA: 5s - loss: 6.2143 - mse: 6.140 - ETA: 5s - loss: 6.1870 - mse: 6.112 - ETA: 5s - loss: 6.1884 - mse: 6.114 - ETA: 4s - loss: 6.1792 - mse: 6.104 - ETA: 4s - loss: 6.1525 - mse: 6.078 - ETA: 4s - loss: 6.1372 - mse: 6.062 - ETA: 4s - loss: 6.1327 - mse: 6.058 - ETA: 4s - loss: 6.1089 - mse: 6.034 - ETA: 4s - loss: 6.0783 - mse: 6.003 - ETA: 4s - loss: 6.1095 - mse: 6.035 - ETA: 4s - loss: 6.0871 - mse: 6.012 - ETA: 4s - loss: 6.0572 - mse: 5.982 - ETA: 4s - loss: 6.1962 - mse: 6.121 - ETA: 4s - loss: 6.1759 - mse: 6.101 - ETA: 4s - loss: 6.1556 - mse: 6.081 - ETA: 4s - loss: 6.2100 - mse: 6.135 - ETA: 4s - loss: 6.1894 - mse: 6.114 - ETA: 4s - loss: 6.1752 - mse: 6.100 - ETA: 3s - loss: 6.1792 - mse: 6.104 - ETA: 3s - loss: 6.3935 - mse: 6.318 - ETA: 3s - loss: 6.3694 - mse: 6.294 - ETA: 3s - loss: 6.3463 - mse: 6.271 - ETA: 3s - loss: 6.3228 - mse: 6.248 - ETA: 3s - loss: 6.3554 - mse: 6.280 - ETA: 3s - loss: 6.3447 - mse: 6.270 - ETA: 3s - loss: 6.3206 - mse: 6.245 - ETA: 3s - loss: 6.2937 - mse: 6.218 - ETA: 3s - loss: 6.2755 - mse: 6.200 - ETA: 3s - loss: 6.2531 - mse: 6.178 - ETA: 3s - loss: 6.2802 - mse: 6.205 - ETA: 3s - loss: 6.2643 - mse: 6.189 - ETA: 3s - loss: 6.3183 - mse: 6.243 - ETA: 2s - loss: 6.2844 - mse: 6.209 - ETA: 2s - loss: 6.2675 - mse: 6.192 - ETA: 2s - loss: 6.3179 - mse: 6.242 - ETA: 2s - loss: 6.3152 - mse: 6.240 - ETA: 2s - loss: 6.2959 - mse: 6.220 - ETA: 2s - loss: 6.2753 - mse: 6.200 - ETA: 2s - loss: 6.2622 - mse: 6.187 - ETA: 2s - loss: 6.2424 - mse: 6.167 - ETA: 2s - loss: 6.2256 - mse: 6.150 - ETA: 2s - loss: 6.2184 - mse: 6.143 - ETA: 2s - loss: 6.2023 - mse: 6.127 - ETA: 2s - loss: 6.1781 - mse: 6.102 - ETA: 2s - loss: 6.1605 - mse: 6.085 - ETA: 2s - loss: 6.1355 - mse: 6.060 - ETA: 2s - loss: 6.1322 - mse: 6.056 - ETA: 1s - loss: 6.1175 - mse: 6.042 - ETA: 1s - loss: 6.0939 - mse: 6.018 - ETA: 1s - loss: 6.0901 - mse: 6.014 - ETA: 1s - loss: 6.0711 - mse: 5.995 - ETA: 1s - loss: 6.0514 - mse: 5.975 - ETA: 1s - loss: 6.0539 - mse: 5.978 - ETA: 1s - loss: 6.0705 - mse: 5.995 - ETA: 1s - loss: 6.0974 - mse: 6.021 - ETA: 1s - loss: 6.1215 - mse: 6.045 - ETA: 1s - loss: 6.1021 - mse: 6.026 - ETA: 1s - loss: 6.0796 - mse: 6.004 - ETA: 1s - loss: 6.0712 - mse: 5.995 - ETA: 1s - loss: 6.0555 - mse: 5.979 - ETA: 1s - loss: 6.0508 - mse: 5.975 - ETA: 1s - loss: 6.0385 - mse: 5.962 - ETA: 0s - loss: 6.0246 - mse: 5.948 - ETA: 0s - loss: 6.0141 - mse: 5.938 - ETA: 0s - loss: 6.0261 - mse: 5.950 - ETA: 0s - loss: 6.0137 - mse: 5.937 - ETA: 0s - loss: 5.9917 - mse: 5.915 - ETA: 0s - loss: 5.9678 - mse: 5.892 - ETA: 0s - loss: 5.9537 - mse: 5.877 - ETA: 0s - loss: 5.9506 - mse: 5.874 - ETA: 0s - loss: 5.9335 - mse: 5.857 - ETA: 0s - loss: 5.9192 - mse: 5.843 - ETA: 0s - loss: 5.9125 - mse: 5.836 - ETA: 0s - loss: 5.8940 - mse: 5.818 - ETA: 0s - loss: 5.8791 - mse: 5.803 - ETA: 0s - loss: 5.8629 - mse: 5.786 - ETA: 0s - loss: 5.8451 - mse: 5.769 - 13s 3us/step - loss: 5.8476 - mse: 5.7716\n",
      "Epoch 5/5\n",
      "4810730/4810730 [==============================] - ETA: 3:24 - loss: 2.4268 - mse: 2.346 - ETA: 1:17 - loss: 2.1120 - mse: 2.031 - ETA: 51s - loss: 4.9022 - mse: 4.821 - ETA: 39s - loss: 7.9327 - mse: 7.85 - ETA: 30s - loss: 6.4811 - mse: 6.40 - ETA: 27s - loss: 5.8530 - mse: 5.77 - ETA: 25s - loss: 5.8749 - mse: 5.79 - ETA: 23s - loss: 5.4769 - mse: 5.39 - ETA: 22s - loss: 6.7887 - mse: 6.70 - ETA: 21s - loss: 6.6722 - mse: 6.59 - ETA: 20s - loss: 6.3837 - mse: 6.30 - ETA: 19s - loss: 6.9878 - mse: 6.90 - ETA: 18s - loss: 6.7060 - mse: 6.62 - ETA: 18s - loss: 6.3897 - mse: 6.31 - ETA: 17s - loss: 5.9883 - mse: 5.90 - ETA: 17s - loss: 5.8633 - mse: 5.78 - ETA: 16s - loss: 5.6624 - mse: 5.58 - ETA: 16s - loss: 5.7875 - mse: 5.70 - ETA: 15s - loss: 5.6049 - mse: 5.52 - ETA: 15s - loss: 5.5009 - mse: 5.42 - ETA: 15s - loss: 5.3835 - mse: 5.30 - ETA: 15s - loss: 5.6632 - mse: 5.58 - ETA: 14s - loss: 5.5564 - mse: 5.47 - ETA: 14s - loss: 5.7153 - mse: 5.63 - ETA: 14s - loss: 5.5254 - mse: 5.44 - ETA: 14s - loss: 5.5305 - mse: 5.45 - ETA: 14s - loss: 5.4507 - mse: 5.37 - ETA: 13s - loss: 5.3344 - mse: 5.25 - ETA: 13s - loss: 5.2282 - mse: 5.14 - ETA: 13s - loss: 5.0889 - mse: 5.01 - ETA: 13s - loss: 5.0129 - mse: 4.93 - ETA: 13s - loss: 4.9011 - mse: 4.82 - ETA: 13s - loss: 4.8327 - mse: 4.75 - ETA: 13s - loss: 4.7691 - mse: 4.69 - ETA: 12s - loss: 4.6979 - mse: 4.61 - ETA: 12s - loss: 4.6247 - mse: 4.54 - ETA: 12s - loss: 4.5940 - mse: 4.51 - ETA: 12s - loss: 4.6760 - mse: 4.59 - ETA: 12s - loss: 4.6331 - mse: 4.55 - ETA: 12s - loss: 4.5801 - mse: 4.50 - ETA: 12s - loss: 4.5304 - mse: 4.45 - ETA: 12s - loss: 4.5766 - mse: 4.49 - ETA: 11s - loss: 4.6386 - mse: 4.55 - ETA: 11s - loss: 4.6982 - mse: 4.61 - ETA: 11s - loss: 4.6646 - mse: 4.58 - ETA: 11s - loss: 4.6270 - mse: 4.54 - ETA: 11s - loss: 4.5982 - mse: 4.51 - ETA: 11s - loss: 4.5606 - mse: 4.48 - ETA: 11s - loss: 4.5575 - mse: 4.47 - ETA: 11s - loss: 4.5276 - mse: 4.44 - ETA: 11s - loss: 4.4898 - mse: 4.41 - ETA: 11s - loss: 4.5264 - mse: 4.44 - ETA: 10s - loss: 4.4841 - mse: 4.40 - ETA: 10s - loss: 4.4577 - mse: 4.37 - ETA: 10s - loss: 4.6046 - mse: 4.52 - ETA: 10s - loss: 4.5811 - mse: 4.50 - ETA: 10s - loss: 4.6506 - mse: 4.57 - ETA: 10s - loss: 4.6181 - mse: 4.53 - ETA: 10s - loss: 4.6285 - mse: 4.54 - ETA: 10s - loss: 4.6089 - mse: 4.53 - ETA: 10s - loss: 4.5665 - mse: 4.48 - ETA: 10s - loss: 4.5470 - mse: 4.46 - ETA: 10s - loss: 4.5102 - mse: 4.43 - ETA: 10s - loss: 4.4753 - mse: 4.39 - ETA: 9s - loss: 4.4419 - mse: 4.3629 - ETA: 9s - loss: 4.4318 - mse: 4.352 - ETA: 9s - loss: 4.4274 - mse: 4.348 - ETA: 9s - loss: 4.4897 - mse: 4.410 - ETA: 9s - loss: 4.4324 - mse: 4.353 - ETA: 9s - loss: 4.3893 - mse: 4.310 - ETA: 9s - loss: 4.3810 - mse: 4.302 - ETA: 9s - loss: 4.4148 - mse: 4.335 - ETA: 9s - loss: 4.3878 - mse: 4.308 - ETA: 9s - loss: 4.4748 - mse: 4.395 - ETA: 9s - loss: 4.4564 - mse: 4.377 - ETA: 9s - loss: 4.4458 - mse: 4.366 - ETA: 8s - loss: 4.4294 - mse: 4.350 - ETA: 8s - loss: 4.4407 - mse: 4.361 - ETA: 8s - loss: 4.4077 - mse: 4.328 - ETA: 8s - loss: 4.4252 - mse: 4.346 - ETA: 8s - loss: 4.3763 - mse: 4.297 - ETA: 8s - loss: 4.3467 - mse: 4.267 - ETA: 8s - loss: 4.3286 - mse: 4.249 - ETA: 8s - loss: 4.3407 - mse: 4.261 - ETA: 8s - loss: 4.3195 - mse: 4.240 - ETA: 8s - loss: 4.3112 - mse: 4.232 - ETA: 8s - loss: 4.3374 - mse: 4.258 - ETA: 8s - loss: 4.3258 - mse: 4.246 - ETA: 8s - loss: 4.3034 - mse: 4.224 - ETA: 8s - loss: 4.5081 - mse: 4.429 - ETA: 7s - loss: 4.4882 - mse: 4.409 - ETA: 7s - loss: 4.4840 - mse: 4.404 - ETA: 7s - loss: 4.6226 - mse: 4.543 - ETA: 7s - loss: 4.6356 - mse: 4.556 - ETA: 7s - loss: 4.6306 - mse: 4.551 - ETA: 7s - loss: 4.8758 - mse: 4.796 - ETA: 7s - loss: 4.8546 - mse: 4.775 - ETA: 7s - loss: 5.2080 - mse: 5.128 - ETA: 7s - loss: 5.1720 - mse: 5.092 - ETA: 7s - loss: 5.1598 - mse: 5.080 - ETA: 7s - loss: 5.1346 - mse: 5.055 - ETA: 7s - loss: 5.2668 - mse: 5.187 - ETA: 7s - loss: 5.2514 - mse: 5.172 - ETA: 7s - loss: 5.7918 - mse: 5.712 - ETA: 6s - loss: 5.7965 - mse: 5.717 - ETA: 6s - loss: 5.7715 - mse: 5.692 - ETA: 6s - loss: 5.7255 - mse: 5.646 - ETA: 6s - loss: 5.7019 - mse: 5.622 - ETA: 6s - loss: 5.6675 - mse: 5.588 - ETA: 6s - loss: 5.6476 - mse: 5.568 - ETA: 6s - loss: 5.6185 - mse: 5.539 - ETA: 6s - loss: 5.6159 - mse: 5.536 - ETA: 6s - loss: 5.9117 - mse: 5.832 - ETA: 6s - loss: 5.8861 - mse: 5.806 - ETA: 6s - loss: 5.8542 - mse: 5.774 - ETA: 6s - loss: 5.8318 - mse: 5.752 - ETA: 6s - loss: 5.8026 - mse: 5.723 - ETA: 6s - loss: 5.7864 - mse: 5.707 - ETA: 6s - loss: 5.7675 - mse: 5.688 - ETA: 5s - loss: 5.7526 - mse: 5.673 - ETA: 5s - loss: 5.7179 - mse: 5.638 - ETA: 5s - loss: 5.6946 - mse: 5.615 - ETA: 5s - loss: 5.6776 - mse: 5.598 - ETA: 5s - loss: 5.6596 - mse: 5.580 - ETA: 5s - loss: 5.6186 - mse: 5.539 - ETA: 5s - loss: 5.5982 - mse: 5.518 - ETA: 5s - loss: 5.5617 - mse: 5.482 - ETA: 5s - loss: 5.6515 - mse: 5.571 - ETA: 5s - loss: 5.6341 - mse: 5.554 - ETA: 5s - loss: 5.6216 - mse: 5.541 - ETA: 5s - loss: 5.6024 - mse: 5.522 - ETA: 5s - loss: 5.6303 - mse: 5.550 - ETA: 5s - loss: 5.6135 - mse: 5.533 - ETA: 5s - loss: 5.5764 - mse: 5.496 - ETA: 4s - loss: 5.5583 - mse: 5.478 - ETA: 4s - loss: 5.5504 - mse: 5.470 - ETA: 4s - loss: 5.5270 - mse: 5.447 - ETA: 4s - loss: 5.4929 - mse: 5.413 - ETA: 4s - loss: 5.4714 - mse: 5.391 - ETA: 4s - loss: 5.4520 - mse: 5.372 - ETA: 4s - loss: 5.4331 - mse: 5.353 - ETA: 4s - loss: 5.4143 - mse: 5.334 - ETA: 4s - loss: 5.4051 - mse: 5.325 - ETA: 4s - loss: 5.3968 - mse: 5.316 - ETA: 4s - loss: 5.3844 - mse: 5.304 - ETA: 4s - loss: 5.4366 - mse: 5.356 - ETA: 4s - loss: 5.4110 - mse: 5.330 - ETA: 4s - loss: 5.3931 - mse: 5.312 - ETA: 4s - loss: 5.3836 - mse: 5.303 - ETA: 3s - loss: 5.3607 - mse: 5.280 - ETA: 3s - loss: 5.3888 - mse: 5.308 - ETA: 3s - loss: 5.3644 - mse: 5.284 - ETA: 3s - loss: 5.3634 - mse: 5.283 - ETA: 3s - loss: 5.3420 - mse: 5.261 - ETA: 3s - loss: 5.3533 - mse: 5.273 - ETA: 3s - loss: 5.3458 - mse: 5.265 - ETA: 3s - loss: 5.3196 - mse: 5.239 - ETA: 3s - loss: 5.3139 - mse: 5.233 - ETA: 3s - loss: 5.2997 - mse: 5.219 - ETA: 3s - loss: 5.2717 - mse: 5.191 - ETA: 3s - loss: 5.2706 - mse: 5.190 - ETA: 3s - loss: 5.3515 - mse: 5.271 - ETA: 3s - loss: 5.3941 - mse: 5.313 - ETA: 3s - loss: 5.3758 - mse: 5.295 - ETA: 2s - loss: 5.3630 - mse: 5.282 - ETA: 2s - loss: 5.3425 - mse: 5.261 - ETA: 2s - loss: 5.3201 - mse: 5.239 - ETA: 2s - loss: 5.3053 - mse: 5.224 - ETA: 2s - loss: 5.3313 - mse: 5.250 - ETA: 2s - loss: 5.5111 - mse: 5.430 - ETA: 2s - loss: 5.5003 - mse: 5.419 - ETA: 2s - loss: 5.5649 - mse: 5.484 - ETA: 2s - loss: 5.5525 - mse: 5.471 - ETA: 2s - loss: 5.5343 - mse: 5.453 - ETA: 2s - loss: 5.5787 - mse: 5.497 - ETA: 2s - loss: 5.5663 - mse: 5.485 - ETA: 2s - loss: 5.5411 - mse: 5.460 - ETA: 2s - loss: 5.5240 - mse: 5.443 - ETA: 1s - loss: 5.5039 - mse: 5.422 - ETA: 1s - loss: 5.4879 - mse: 5.406 - ETA: 1s - loss: 5.4839 - mse: 5.402 - ETA: 1s - loss: 5.4654 - mse: 5.384 - ETA: 1s - loss: 5.4582 - mse: 5.377 - ETA: 1s - loss: 5.7315 - mse: 5.650 - ETA: 1s - loss: 5.7364 - mse: 5.655 - ETA: 1s - loss: 5.7216 - mse: 5.640 - ETA: 1s - loss: 5.7296 - mse: 5.648 - ETA: 1s - loss: 5.7290 - mse: 5.647 - ETA: 1s - loss: 5.7607 - mse: 5.679 - ETA: 1s - loss: 5.7387 - mse: 5.657 - ETA: 1s - loss: 5.7147 - mse: 5.633 - ETA: 0s - loss: 5.7171 - mse: 5.635 - ETA: 0s - loss: 5.6979 - mse: 5.616 - ETA: 0s - loss: 5.6938 - mse: 5.612 - ETA: 0s - loss: 5.6900 - mse: 5.608 - ETA: 0s - loss: 5.6913 - mse: 5.609 - ETA: 0s - loss: 5.6806 - mse: 5.598 - ETA: 0s - loss: 5.7046 - mse: 5.622 - ETA: 0s - loss: 5.6964 - mse: 5.614 - ETA: 0s - loss: 5.7050 - mse: 5.623 - ETA: 0s - loss: 5.6912 - mse: 5.609 - ETA: 0s - loss: 5.6928 - mse: 5.610 - ETA: 0s - loss: 5.6866 - mse: 5.604 - ETA: 0s - loss: 5.6870 - mse: 5.605 - ETA: 0s - loss: 5.6924 - mse: 5.610 - ETA: 0s - loss: 5.6774 - mse: 5.595 - 13s 3us/step - loss: 5.6767 - mse: 5.5946\n",
      "28\n",
      "Epoch 1/5\n"
     ]
    },
    {
     "name": "stdout",
     "output_type": "stream",
     "text": [
      "4690000/5068102 [==========================>...] - ETA: 11:40 - loss: 15.9871 - mse: 15.97 - ETA: 4:04 - loss: 8.3366 - mse: 8.3286   - ETA: 2:31 - loss: 7.7969 - mse: 7.789 - ETA: 1:51 - loss: 6.6315 - mse: 6.623 - ETA: 1:29 - loss: 5.7045 - mse: 5.696 - ETA: 1:15 - loss: 5.7419 - mse: 5.734 - ETA: 1:05 - loss: 6.1083 - mse: 6.100 - ETA: 58s - loss: 6.7597 - mse: 6.752 - ETA: 50s - loss: 6.3730 - mse: 6.36 - ETA: 46s - loss: 6.7193 - mse: 6.71 - ETA: 43s - loss: 6.3514 - mse: 6.34 - ETA: 40s - loss: 6.0819 - mse: 6.07 - ETA: 38s - loss: 6.1615 - mse: 6.15 - ETA: 36s - loss: 5.9169 - mse: 5.90 - ETA: 34s - loss: 6.4450 - mse: 6.43 - ETA: 33s - loss: 6.8429 - mse: 6.83 - ETA: 31s - loss: 7.4873 - mse: 7.47 - ETA: 29s - loss: 8.0054 - mse: 7.99 - ETA: 28s - loss: 7.6900 - mse: 7.68 - ETA: 28s - loss: 7.6124 - mse: 7.60 - ETA: 27s - loss: 8.0308 - mse: 8.02 - ETA: 26s - loss: 7.8120 - mse: 7.80 - ETA: 25s - loss: 8.1898 - mse: 8.18 - ETA: 25s - loss: 8.1267 - mse: 8.11 - ETA: 24s - loss: 7.8964 - mse: 7.88 - ETA: 23s - loss: 7.6759 - mse: 7.66 - ETA: 23s - loss: 7.4850 - mse: 7.47 - ETA: 22s - loss: 7.4402 - mse: 7.43 - ETA: 22s - loss: 7.7052 - mse: 7.69 - ETA: 21s - loss: 7.6349 - mse: 7.62 - ETA: 21s - loss: 7.3904 - mse: 7.38 - ETA: 20s - loss: 7.3418 - mse: 7.33 - ETA: 20s - loss: 7.4220 - mse: 7.41 - ETA: 20s - loss: 7.2688 - mse: 7.26 - ETA: 19s - loss: 7.1266 - mse: 7.11 - ETA: 19s - loss: 6.9969 - mse: 6.98 - ETA: 19s - loss: 6.8933 - mse: 6.88 - ETA: 18s - loss: 6.8294 - mse: 6.82 - ETA: 18s - loss: 7.1458 - mse: 7.13 - ETA: 18s - loss: 7.2536 - mse: 7.24 - ETA: 17s - loss: 7.1382 - mse: 7.13 - ETA: 17s - loss: 6.9818 - mse: 6.97 - ETA: 17s - loss: 6.8890 - mse: 6.88 - ETA: 16s - loss: 8.4062 - mse: 8.39 - ETA: 16s - loss: 9.5075 - mse: 9.49 - ETA: 16s - loss: 9.3620 - mse: 9.35 - ETA: 16s - loss: 9.4003 - mse: 9.39 - ETA: 15s - loss: 9.4763 - mse: 9.46 - ETA: 15s - loss: 9.3410 - mse: 9.33 - ETA: 15s - loss: 9.3740 - mse: 9.36 - ETA: 15s - loss: 9.4244 - mse: 9.41 - ETA: 15s - loss: 10.5601 - mse: 10.55 - ETA: 14s - loss: 10.4412 - mse: 10.43 - ETA: 14s - loss: 11.0738 - mse: 11.06 - ETA: 14s - loss: 10.9339 - mse: 10.92 - ETA: 14s - loss: 10.7973 - mse: 10.78 - ETA: 14s - loss: 10.6765 - mse: 10.66 - ETA: 14s - loss: 10.5786 - mse: 10.57 - ETA: 14s - loss: 10.5087 - mse: 10.50 - ETA: 13s - loss: 10.4033 - mse: 10.39 - ETA: 13s - loss: 10.4889 - mse: 10.48 - ETA: 13s - loss: 10.4032 - mse: 10.39 - ETA: 13s - loss: 10.2976 - mse: 10.28 - ETA: 13s - loss: 10.1920 - mse: 10.18 - ETA: 13s - loss: 10.0902 - mse: 10.08 - ETA: 13s - loss: 10.0227 - mse: 10.01 - ETA: 12s - loss: 9.9770 - mse: 9.9681 - ETA: 12s - loss: 9.8272 - mse: 9.81 - ETA: 12s - loss: 9.7592 - mse: 9.75 - ETA: 12s - loss: 9.6727 - mse: 9.66 - ETA: 12s - loss: 9.9698 - mse: 9.96 - ETA: 12s - loss: 9.8755 - mse: 9.86 - ETA: 12s - loss: 9.8810 - mse: 9.87 - ETA: 12s - loss: 9.8524 - mse: 9.84 - ETA: 11s - loss: 9.7677 - mse: 9.75 - ETA: 11s - loss: 9.6946 - mse: 9.68 - ETA: 11s - loss: 9.6268 - mse: 9.61 - ETA: 11s - loss: 9.6140 - mse: 9.60 - ETA: 11s - loss: 9.5260 - mse: 9.51 - ETA: 11s - loss: 9.4906 - mse: 9.48 - ETA: 11s - loss: 9.4663 - mse: 9.45 - ETA: 11s - loss: 9.7638 - mse: 9.75 - ETA: 11s - loss: 9.6898 - mse: 9.68 - ETA: 10s - loss: 9.6219 - mse: 9.61 - ETA: 10s - loss: 9.5034 - mse: 9.49 - ETA: 10s - loss: 9.3856 - mse: 9.37 - ETA: 10s - loss: 9.3280 - mse: 9.31 - ETA: 10s - loss: 9.8925 - mse: 9.88 - ETA: 10s - loss: 9.8212 - mse: 9.81 - ETA: 10s - loss: 9.7792 - mse: 9.76 - ETA: 10s - loss: 9.7098 - mse: 9.70 - ETA: 10s - loss: 9.6333 - mse: 9.62 - ETA: 10s - loss: 9.5678 - mse: 9.55 - ETA: 10s - loss: 9.5045 - mse: 9.49 - ETA: 9s - loss: 9.3930 - mse: 9.3832 - ETA: 9s - loss: 9.3239 - mse: 9.314 - ETA: 9s - loss: 9.3826 - mse: 9.372 - ETA: 9s - loss: 9.3694 - mse: 9.359 - ETA: 9s - loss: 9.3083 - mse: 9.298 - ETA: 9s - loss: 9.2802 - mse: 9.270 - ETA: 9s - loss: 9.2769 - mse: 9.266 - ETA: 9s - loss: 9.2063 - mse: 9.196 - ETA: 9s - loss: 9.1540 - mse: 9.143 - ETA: 9s - loss: 9.0857 - mse: 9.075 - ETA: 9s - loss: 9.0193 - mse: 9.009 - ETA: 9s - loss: 8.9650 - mse: 8.954 - ETA: 9s - loss: 8.9080 - mse: 8.897 - ETA: 9s - loss: 8.8549 - mse: 8.844 - ETA: 8s - loss: 8.8078 - mse: 8.797 - ETA: 8s - loss: 8.7558 - mse: 8.745 - ETA: 8s - loss: 8.7118 - mse: 8.701 - ETA: 8s - loss: 8.6561 - mse: 8.645 - ETA: 8s - loss: 8.5992 - mse: 8.589 - ETA: 8s - loss: 8.5472 - mse: 8.537 - ETA: 8s - loss: 8.5100 - mse: 8.499 - ETA: 8s - loss: 8.4631 - mse: 8.452 - ETA: 8s - loss: 8.4170 - mse: 8.406 - ETA: 8s - loss: 8.4297 - mse: 8.419 - ETA: 8s - loss: 8.5333 - mse: 8.522 - ETA: 8s - loss: 8.5054 - mse: 8.495 - ETA: 7s - loss: 8.4350 - mse: 8.424 - ETA: 7s - loss: 8.4836 - mse: 8.473 - ETA: 7s - loss: 8.6037 - mse: 8.593 - ETA: 7s - loss: 8.5547 - mse: 8.544 - ETA: 7s - loss: 8.5245 - mse: 8.514 - ETA: 7s - loss: 8.5329 - mse: 8.522 - ETA: 7s - loss: 8.6288 - mse: 8.618 - ETA: 7s - loss: 8.5684 - mse: 8.557 - ETA: 7s - loss: 8.5318 - mse: 8.521 - ETA: 7s - loss: 8.6140 - mse: 8.603 - ETA: 7s - loss: 8.6070 - mse: 8.596 - ETA: 6s - loss: 8.6930 - mse: 8.682 - ETA: 6s - loss: 8.6597 - mse: 8.648 - ETA: 6s - loss: 8.6941 - mse: 8.683 - ETA: 6s - loss: 8.6702 - mse: 8.659 - ETA: 6s - loss: 8.6758 - mse: 8.664 - ETA: 6s - loss: 8.6714 - mse: 8.660 - ETA: 6s - loss: 8.6455 - mse: 8.634 - ETA: 6s - loss: 8.6025 - mse: 8.591 - ETA: 6s - loss: 8.6031 - mse: 8.592 - ETA: 6s - loss: 8.6052 - mse: 8.594 - ETA: 6s - loss: 8.6277 - mse: 8.616 - ETA: 6s - loss: 8.6182 - mse: 8.607 - ETA: 6s - loss: 8.5577 - mse: 8.546 - ETA: 6s - loss: 8.5527 - mse: 8.541 - ETA: 5s - loss: 8.5244 - mse: 8.513 - ETA: 5s - loss: 8.4858 - mse: 8.474 - ETA: 5s - loss: 8.7752 - mse: 8.764 - ETA: 5s - loss: 8.7357 - mse: 8.724 - ETA: 5s - loss: 8.7114 - mse: 8.700 - ETA: 5s - loss: 8.6715 - mse: 8.660 - ETA: 5s - loss: 8.6487 - mse: 8.637 - ETA: 5s - loss: 8.8107 - mse: 8.799 - ETA: 5s - loss: 8.7748 - mse: 8.763 - ETA: 5s - loss: 8.7527 - mse: 8.741 - ETA: 5s - loss: 8.7234 - mse: 8.711 - ETA: 5s - loss: 8.6729 - mse: 8.661 - ETA: 5s - loss: 8.6706 - mse: 8.659 - ETA: 5s - loss: 8.6345 - mse: 8.622 - ETA: 4s - loss: 8.6022 - mse: 8.590 - ETA: 4s - loss: 8.5701 - mse: 8.558 - ETA: 4s - loss: 8.5441 - mse: 8.532 - ETA: 4s - loss: 8.5951 - mse: 8.583 - ETA: 4s - loss: 8.5618 - mse: 8.550 - ETA: 4s - loss: 8.5535 - mse: 8.541 - ETA: 4s - loss: 8.5788 - mse: 8.567 - ETA: 4s - loss: 8.5483 - mse: 8.536 - ETA: 4s - loss: 8.5208 - mse: 8.509 - ETA: 4s - loss: 8.5785 - mse: 8.566 - ETA: 4s - loss: 8.6366 - mse: 8.624 - ETA: 4s - loss: 8.6012 - mse: 8.589 - ETA: 4s - loss: 8.5738 - mse: 8.561 - ETA: 4s - loss: 8.5857 - mse: 8.573 - ETA: 4s - loss: 8.5400 - mse: 8.527 - ETA: 3s - loss: 8.5287 - mse: 8.516 - ETA: 3s - loss: 8.5282 - mse: 8.516 - ETA: 3s - loss: 8.4893 - mse: 8.477 - ETA: 3s - loss: 8.4609 - mse: 8.448 - ETA: 3s - loss: 8.4171 - mse: 8.404 - ETA: 3s - loss: 8.5112 - mse: 8.498 - ETA: 3s - loss: 8.4881 - mse: 8.475 - ETA: 3s - loss: 8.4795 - mse: 8.467 - ETA: 3s - loss: 8.4552 - mse: 8.442 - ETA: 3s - loss: 8.4435 - mse: 8.431 - ETA: 3s - loss: 8.4619 - mse: 8.449 - ETA: 3s - loss: 8.4496 - mse: 8.437 - ETA: 2s - loss: 8.4231 - mse: 8.410 - ETA: 2s - loss: 8.3913 - mse: 8.378 - ETA: 2s - loss: 8.3733 - mse: 8.360 - ETA: 2s - loss: 8.6305 - mse: 8.617 - ETA: 2s - loss: 8.6037 - mse: 8.590 - ETA: 2s - loss: 8.5815 - mse: 8.568 - ETA: 2s - loss: 8.5758 - mse: 8.563 - ETA: 2s - loss: 8.7370 - mse: 8.724 - ETA: 2s - loss: 8.7021 - mse: 8.689 - ETA: 2s - loss: 8.6796 - mse: 8.666 - ETA: 2s - loss: 8.6382 - mse: 8.625 - ETA: 2s - loss: 8.7675 - mse: 8.754 - ETA: 2s - loss: 8.7378 - mse: 8.724 - ETA: 2s - loss: 8.7079 - mse: 8.694 - ETA: 1s - loss: 8.6796 - mse: 8.666 - ETA: 1s - loss: 8.6686 - mse: 8.655 - ETA: 1s - loss: 8.6519 - mse: 8.638 - ETA: 1s - loss: 8.6210 - mse: 8.607 - ETA: 1s - loss: 8.5895 - mse: 8.576 - ETA: 1s - loss: 8.5678 - mse: 8.554 - ETA: 1s - loss: 8.6502 - mse: 8.636 - ETA: 1s - loss: 8.6384 - mse: 8.624 - ETA: 1s - loss: 8.6167 - mse: 8.603 - ETA: 1s - loss: 8.6421 - mse: 8.628 - ETA: 1s - loss: 8.6174 - mse: 8.603 - ETA: 1s - loss: 8.5950 - mse: 8.581 - ETA: 1s - loss: 8.5756 - mse: 8.5620"
     ]
    },
    {
     "name": "stdout",
     "output_type": "stream",
     "text": [
      "5068102/5068102 [==============================] - ETA: 1s - loss: 8.5886 - mse: 8.575 - ETA: 1s - loss: 8.6012 - mse: 8.587 - ETA: 0s - loss: 8.6563 - mse: 8.642 - ETA: 0s - loss: 8.6436 - mse: 8.629 - ETA: 0s - loss: 8.6980 - mse: 8.684 - ETA: 0s - loss: 8.6876 - mse: 8.673 - ETA: 0s - loss: 8.7751 - mse: 8.761 - ETA: 0s - loss: 8.8034 - mse: 8.789 - ETA: 0s - loss: 8.8904 - mse: 8.876 - ETA: 0s - loss: 8.8666 - mse: 8.852 - ETA: 0s - loss: 8.8505 - mse: 8.836 - ETA: 0s - loss: 8.8577 - mse: 8.843 - ETA: 0s - loss: 8.8568 - mse: 8.842 - ETA: 0s - loss: 8.8237 - mse: 8.809 - ETA: 0s - loss: 8.8055 - mse: 8.791 - ETA: 0s - loss: 8.7676 - mse: 8.753 - ETA: 0s - loss: 8.8062 - mse: 8.791 - 15s 3us/step - loss: 8.8236 - mse: 8.8092\n",
      "Epoch 2/5\n"
     ]
    },
    {
     "name": "stdout",
     "output_type": "stream",
     "text": [
      "4750000/5068102 [===========================>..] - ETA: 4:46 - loss: 3.0896 - mse: 3.064 - ETA: 1:18 - loss: 4.3134 - mse: 4.287 - ETA: 56s - loss: 6.9573 - mse: 6.931 - ETA: 41s - loss: 5.6835 - mse: 5.65 - ETA: 33s - loss: 5.5543 - mse: 5.52 - ETA: 30s - loss: 5.2594 - mse: 5.23 - ETA: 28s - loss: 5.1347 - mse: 5.10 - ETA: 27s - loss: 4.9543 - mse: 4.92 - ETA: 24s - loss: 4.6059 - mse: 4.57 - ETA: 23s - loss: 4.6888 - mse: 4.66 - ETA: 22s - loss: 4.4995 - mse: 4.47 - ETA: 20s - loss: 4.3517 - mse: 4.32 - ETA: 20s - loss: 4.2361 - mse: 4.20 - ETA: 19s - loss: 4.1361 - mse: 4.10 - ETA: 19s - loss: 4.4042 - mse: 4.37 - ETA: 18s - loss: 4.8158 - mse: 4.78 - ETA: 18s - loss: 5.8587 - mse: 5.83 - ETA: 17s - loss: 8.4171 - mse: 8.39 - ETA: 17s - loss: 8.1951 - mse: 8.16 - ETA: 17s - loss: 8.0077 - mse: 7.98 - ETA: 17s - loss: 8.1577 - mse: 8.13 - ETA: 16s - loss: 8.4286 - mse: 8.40 - ETA: 16s - loss: 8.3566 - mse: 8.32 - ETA: 16s - loss: 8.1672 - mse: 8.13 - ETA: 16s - loss: 8.0550 - mse: 8.02 - ETA: 15s - loss: 7.8458 - mse: 7.81 - ETA: 15s - loss: 8.1739 - mse: 8.14 - ETA: 15s - loss: 8.2974 - mse: 8.26 - ETA: 15s - loss: 8.1354 - mse: 8.10 - ETA: 14s - loss: 8.0344 - mse: 8.00 - ETA: 14s - loss: 7.8799 - mse: 7.85 - ETA: 14s - loss: 7.7714 - mse: 7.74 - ETA: 14s - loss: 7.6234 - mse: 7.59 - ETA: 14s - loss: 7.4856 - mse: 7.45 - ETA: 14s - loss: 7.5013 - mse: 7.47 - ETA: 14s - loss: 7.4792 - mse: 7.45 - ETA: 13s - loss: 7.3558 - mse: 7.32 - ETA: 13s - loss: 7.3566 - mse: 7.32 - ETA: 13s - loss: 7.2615 - mse: 7.23 - ETA: 13s - loss: 7.1981 - mse: 7.16 - ETA: 13s - loss: 7.1003 - mse: 7.07 - ETA: 13s - loss: 7.0047 - mse: 6.97 - ETA: 13s - loss: 6.9443 - mse: 6.91 - ETA: 13s - loss: 6.9348 - mse: 6.90 - ETA: 12s - loss: 6.8773 - mse: 6.84 - ETA: 12s - loss: 7.0082 - mse: 6.97 - ETA: 12s - loss: 7.0396 - mse: 7.01 - ETA: 12s - loss: 6.9546 - mse: 6.92 - ETA: 12s - loss: 6.8883 - mse: 6.85 - ETA: 12s - loss: 6.8196 - mse: 6.79 - ETA: 12s - loss: 7.0130 - mse: 6.98 - ETA: 12s - loss: 6.9333 - mse: 6.90 - ETA: 12s - loss: 6.8748 - mse: 6.84 - ETA: 11s - loss: 6.7695 - mse: 6.74 - ETA: 11s - loss: 6.8301 - mse: 6.80 - ETA: 11s - loss: 6.7874 - mse: 6.75 - ETA: 11s - loss: 6.7432 - mse: 6.71 - ETA: 11s - loss: 6.7754 - mse: 6.74 - ETA: 11s - loss: 6.7728 - mse: 6.74 - ETA: 11s - loss: 6.7563 - mse: 6.72 - ETA: 11s - loss: 6.7095 - mse: 6.67 - ETA: 11s - loss: 6.7282 - mse: 6.69 - ETA: 11s - loss: 6.6726 - mse: 6.64 - ETA: 11s - loss: 6.6304 - mse: 6.60 - ETA: 11s - loss: 6.5693 - mse: 6.53 - ETA: 11s - loss: 6.5380 - mse: 6.50 - ETA: 10s - loss: 6.4840 - mse: 6.45 - ETA: 10s - loss: 6.4433 - mse: 6.41 - ETA: 10s - loss: 6.3735 - mse: 6.34 - ETA: 10s - loss: 6.3926 - mse: 6.36 - ETA: 10s - loss: 6.3448 - mse: 6.31 - ETA: 10s - loss: 6.3211 - mse: 6.29 - ETA: 10s - loss: 6.2925 - mse: 6.26 - ETA: 10s - loss: 6.2585 - mse: 6.22 - ETA: 10s - loss: 6.2336 - mse: 6.20 - ETA: 10s - loss: 6.1620 - mse: 6.13 - ETA: 10s - loss: 6.4433 - mse: 6.41 - ETA: 10s - loss: 6.4117 - mse: 6.38 - ETA: 9s - loss: 6.3810 - mse: 6.3503 - ETA: 9s - loss: 6.3867 - mse: 6.355 - ETA: 9s - loss: 6.3869 - mse: 6.356 - ETA: 9s - loss: 6.3369 - mse: 6.306 - ETA: 9s - loss: 6.3055 - mse: 6.274 - ETA: 9s - loss: 6.3057 - mse: 6.274 - ETA: 9s - loss: 6.2878 - mse: 6.256 - ETA: 9s - loss: 7.0585 - mse: 7.027 - ETA: 9s - loss: 7.0187 - mse: 6.987 - ETA: 9s - loss: 6.9784 - mse: 6.947 - ETA: 9s - loss: 6.9420 - mse: 6.910 - ETA: 9s - loss: 7.0005 - mse: 6.969 - ETA: 9s - loss: 6.9561 - mse: 6.924 - ETA: 9s - loss: 6.9294 - mse: 6.897 - ETA: 9s - loss: 6.9396 - mse: 6.908 - ETA: 8s - loss: 6.9160 - mse: 6.884 - ETA: 8s - loss: 6.8755 - mse: 6.844 - ETA: 8s - loss: 6.8414 - mse: 6.809 - ETA: 8s - loss: 6.8191 - mse: 6.787 - ETA: 8s - loss: 7.1321 - mse: 7.100 - ETA: 8s - loss: 7.1913 - mse: 7.159 - ETA: 8s - loss: 7.1493 - mse: 7.117 - ETA: 8s - loss: 7.1148 - mse: 7.083 - ETA: 8s - loss: 7.0890 - mse: 7.057 - ETA: 8s - loss: 7.0720 - mse: 7.040 - ETA: 8s - loss: 7.0305 - mse: 6.998 - ETA: 8s - loss: 6.9915 - mse: 6.959 - ETA: 8s - loss: 6.9515 - mse: 6.919 - ETA: 7s - loss: 6.9453 - mse: 6.913 - ETA: 7s - loss: 6.9529 - mse: 6.920 - ETA: 7s - loss: 6.9427 - mse: 6.910 - ETA: 7s - loss: 6.9133 - mse: 6.880 - ETA: 7s - loss: 6.8768 - mse: 6.844 - ETA: 7s - loss: 6.8633 - mse: 6.830 - ETA: 7s - loss: 6.8347 - mse: 6.802 - ETA: 7s - loss: 6.8335 - mse: 6.800 - ETA: 7s - loss: 6.8117 - mse: 6.778 - ETA: 7s - loss: 6.7959 - mse: 6.763 - ETA: 7s - loss: 6.7699 - mse: 6.736 - ETA: 7s - loss: 6.7746 - mse: 6.741 - ETA: 7s - loss: 6.7468 - mse: 6.713 - ETA: 7s - loss: 6.7355 - mse: 6.702 - ETA: 7s - loss: 6.7302 - mse: 6.697 - ETA: 6s - loss: 6.8392 - mse: 6.806 - ETA: 6s - loss: 6.8095 - mse: 6.776 - ETA: 6s - loss: 6.7932 - mse: 6.759 - ETA: 6s - loss: 6.8676 - mse: 6.834 - ETA: 6s - loss: 6.8502 - mse: 6.816 - ETA: 6s - loss: 6.8493 - mse: 6.815 - ETA: 6s - loss: 6.8342 - mse: 6.800 - ETA: 6s - loss: 6.8335 - mse: 6.799 - ETA: 6s - loss: 6.7930 - mse: 6.759 - ETA: 6s - loss: 6.7580 - mse: 6.724 - ETA: 6s - loss: 6.7451 - mse: 6.711 - ETA: 6s - loss: 6.7706 - mse: 6.736 - ETA: 6s - loss: 6.8951 - mse: 6.861 - ETA: 6s - loss: 6.8785 - mse: 6.844 - ETA: 5s - loss: 6.8543 - mse: 6.820 - ETA: 5s - loss: 6.8419 - mse: 6.807 - ETA: 5s - loss: 6.8245 - mse: 6.790 - ETA: 5s - loss: 6.8603 - mse: 6.826 - ETA: 5s - loss: 6.8288 - mse: 6.794 - ETA: 5s - loss: 6.8020 - mse: 6.767 - ETA: 5s - loss: 6.7749 - mse: 6.740 - ETA: 5s - loss: 6.8093 - mse: 6.774 - ETA: 5s - loss: 6.7898 - mse: 6.755 - ETA: 5s - loss: 6.7697 - mse: 6.735 - ETA: 5s - loss: 6.8276 - mse: 6.793 - ETA: 5s - loss: 6.7868 - mse: 6.752 - ETA: 5s - loss: 6.7711 - mse: 6.736 - ETA: 5s - loss: 6.7526 - mse: 6.717 - ETA: 5s - loss: 6.7382 - mse: 6.703 - ETA: 4s - loss: 6.7264 - mse: 6.691 - ETA: 4s - loss: 6.7187 - mse: 6.683 - ETA: 4s - loss: 6.7001 - mse: 6.665 - ETA: 4s - loss: 6.6793 - mse: 6.644 - ETA: 4s - loss: 6.6589 - mse: 6.623 - ETA: 4s - loss: 6.7208 - mse: 6.685 - ETA: 4s - loss: 6.6968 - mse: 6.661 - ETA: 4s - loss: 6.6678 - mse: 6.632 - ETA: 4s - loss: 6.7967 - mse: 6.761 - ETA: 4s - loss: 6.8138 - mse: 6.778 - ETA: 4s - loss: 6.7868 - mse: 6.751 - ETA: 4s - loss: 6.7593 - mse: 6.723 - ETA: 4s - loss: 6.7406 - mse: 6.705 - ETA: 4s - loss: 6.7301 - mse: 6.694 - ETA: 4s - loss: 6.6997 - mse: 6.664 - ETA: 3s - loss: 6.6787 - mse: 6.643 - ETA: 3s - loss: 6.7512 - mse: 6.715 - ETA: 3s - loss: 6.7457 - mse: 6.709 - ETA: 3s - loss: 6.7229 - mse: 6.687 - ETA: 3s - loss: 6.7184 - mse: 6.682 - ETA: 3s - loss: 6.6936 - mse: 6.657 - ETA: 3s - loss: 6.6733 - mse: 6.637 - ETA: 3s - loss: 6.6732 - mse: 6.637 - ETA: 3s - loss: 6.6380 - mse: 6.601 - ETA: 3s - loss: 6.6310 - mse: 6.594 - ETA: 3s - loss: 6.6102 - mse: 6.573 - ETA: 3s - loss: 6.5842 - mse: 6.547 - ETA: 3s - loss: 6.5755 - mse: 6.539 - ETA: 3s - loss: 6.5522 - mse: 6.515 - ETA: 3s - loss: 6.8756 - mse: 6.839 - ETA: 2s - loss: 6.9489 - mse: 6.912 - ETA: 2s - loss: 6.9321 - mse: 6.895 - ETA: 2s - loss: 6.9215 - mse: 6.884 - ETA: 2s - loss: 6.9014 - mse: 6.864 - ETA: 2s - loss: 7.0800 - mse: 7.043 - ETA: 2s - loss: 7.0702 - mse: 7.033 - ETA: 2s - loss: 7.0511 - mse: 7.014 - ETA: 2s - loss: 7.0622 - mse: 7.025 - ETA: 2s - loss: 7.0442 - mse: 7.007 - ETA: 2s - loss: 7.0197 - mse: 6.982 - ETA: 2s - loss: 7.0291 - mse: 6.992 - ETA: 2s - loss: 7.0110 - mse: 6.973 - ETA: 2s - loss: 7.0417 - mse: 7.004 - ETA: 2s - loss: 7.0237 - mse: 6.986 - ETA: 2s - loss: 7.0001 - mse: 6.962 - ETA: 2s - loss: 7.0854 - mse: 7.048 - ETA: 2s - loss: 7.0666 - mse: 7.029 - ETA: 1s - loss: 7.0456 - mse: 7.008 - ETA: 1s - loss: 7.0646 - mse: 7.027 - ETA: 1s - loss: 7.0412 - mse: 7.003 - ETA: 1s - loss: 7.0864 - mse: 7.048 - ETA: 1s - loss: 7.1386 - mse: 7.101 - ETA: 1s - loss: 7.1159 - mse: 7.078 - ETA: 1s - loss: 7.1082 - mse: 7.070 - ETA: 1s - loss: 7.0871 - mse: 7.049 - ETA: 1s - loss: 7.0685 - mse: 7.030 - ETA: 1s - loss: 7.0646 - mse: 7.026 - ETA: 1s - loss: 7.2587 - mse: 7.220 - ETA: 1s - loss: 7.2373 - mse: 7.199 - ETA: 1s - loss: 7.2168 - mse: 7.178 - ETA: 1s - loss: 7.2033 - mse: 7.165 - ETA: 1s - loss: 7.1982 - mse: 7.160 - ETA: 1s - loss: 7.3225 - mse: 7.284 - ETA: 0s - loss: 7.3007 - mse: 7.262 - ETA: 0s - loss: 7.2946 - mse: 7.25635068102/5068102 [==============================] - ETA: 0s - loss: 7.2895 - mse: 7.251 - ETA: 0s - loss: 7.5040 - mse: 7.465 - ETA: 0s - loss: 7.4815 - mse: 7.443 - ETA: 0s - loss: 7.4942 - mse: 7.455 - ETA: 0s - loss: 7.4912 - mse: 7.452 - ETA: 0s - loss: 7.4680 - mse: 7.429 - ETA: 0s - loss: 7.4503 - mse: 7.411 - ETA: 0s - loss: 7.4190 - mse: 7.380 - ETA: 0s - loss: 7.4663 - mse: 7.427 - ETA: 0s - loss: 7.4484 - mse: 7.409 - ETA: 0s - loss: 7.4313 - mse: 7.392 - ETA: 0s - loss: 7.4157 - mse: 7.376 - ETA: 0s - loss: 7.4229 - mse: 7.383 - ETA: 0s - loss: 7.4312 - mse: 7.392 - 14s 3us/step - loss: 7.4478 - mse: 7.4087\n",
      "Epoch 3/5\n"
     ]
    },
    {
     "name": "stdout",
     "output_type": "stream",
     "text": [
      "4640000/5068102 [==========================>...] - ETA: 3:44 - loss: 2.9627 - mse: 2.910 - ETA: 1:05 - loss: 4.8364 - mse: 4.783 - ETA: 42s - loss: 4.2921 - mse: 4.239 - ETA: 35s - loss: 4.5362 - mse: 4.48 - ETA: 31s - loss: 4.8323 - mse: 4.77 - ETA: 28s - loss: 4.9000 - mse: 4.84 - ETA: 26s - loss: 4.6598 - mse: 4.60 - ETA: 25s - loss: 4.9538 - mse: 4.90 - ETA: 24s - loss: 5.2862 - mse: 5.23 - ETA: 23s - loss: 5.0092 - mse: 4.95 - ETA: 22s - loss: 4.8469 - mse: 4.79 - ETA: 21s - loss: 4.8375 - mse: 4.78 - ETA: 20s - loss: 4.6447 - mse: 4.59 - ETA: 20s - loss: 4.5598 - mse: 4.50 - ETA: 19s - loss: 4.5019 - mse: 4.44 - ETA: 19s - loss: 4.5263 - mse: 4.47 - ETA: 18s - loss: 5.0556 - mse: 5.00 - ETA: 18s - loss: 4.9647 - mse: 4.91 - ETA: 18s - loss: 4.9328 - mse: 4.87 - ETA: 17s - loss: 4.8985 - mse: 4.84 - ETA: 17s - loss: 5.4867 - mse: 5.43 - ETA: 17s - loss: 5.3540 - mse: 5.30 - ETA: 17s - loss: 5.2698 - mse: 5.21 - ETA: 16s - loss: 5.1665 - mse: 5.11 - ETA: 16s - loss: 5.9794 - mse: 5.92 - ETA: 16s - loss: 5.8432 - mse: 5.78 - ETA: 16s - loss: 5.9969 - mse: 5.94 - ETA: 15s - loss: 5.9674 - mse: 5.91 - ETA: 15s - loss: 5.8748 - mse: 5.82 - ETA: 15s - loss: 5.9156 - mse: 5.86 - ETA: 15s - loss: 5.8184 - mse: 5.76 - ETA: 15s - loss: 5.7032 - mse: 5.64 - ETA: 14s - loss: 5.6833 - mse: 5.62 - ETA: 14s - loss: 5.6505 - mse: 5.59 - ETA: 14s - loss: 5.9280 - mse: 5.87 - ETA: 14s - loss: 5.8533 - mse: 5.79 - ETA: 14s - loss: 6.2346 - mse: 6.18 - ETA: 14s - loss: 6.8419 - mse: 6.78 - ETA: 13s - loss: 6.9679 - mse: 6.91 - ETA: 13s - loss: 6.9121 - mse: 6.85 - ETA: 13s - loss: 6.9731 - mse: 6.91 - ETA: 13s - loss: 6.9141 - mse: 6.85 - ETA: 13s - loss: 6.9081 - mse: 6.85 - ETA: 13s - loss: 6.8489 - mse: 6.79 - ETA: 13s - loss: 6.7878 - mse: 6.73 - ETA: 12s - loss: 6.6962 - mse: 6.64 - ETA: 12s - loss: 7.7331 - mse: 7.67 - ETA: 12s - loss: 7.6237 - mse: 7.56 - ETA: 12s - loss: 7.5323 - mse: 7.47 - ETA: 12s - loss: 7.5082 - mse: 7.45 - ETA: 12s - loss: 7.4408 - mse: 7.38 - ETA: 12s - loss: 7.4643 - mse: 7.40 - ETA: 12s - loss: 7.3927 - mse: 7.33 - ETA: 12s - loss: 7.3341 - mse: 7.27 - ETA: 12s - loss: 7.2445 - mse: 7.18 - ETA: 12s - loss: 7.1744 - mse: 7.11 - ETA: 11s - loss: 7.1221 - mse: 7.06 - ETA: 11s - loss: 7.0633 - mse: 7.00 - ETA: 11s - loss: 6.9916 - mse: 6.93 - ETA: 11s - loss: 7.4051 - mse: 7.34 - ETA: 11s - loss: 7.3603 - mse: 7.30 - ETA: 11s - loss: 7.4436 - mse: 7.38 - ETA: 11s - loss: 7.4118 - mse: 7.35 - ETA: 11s - loss: 7.3403 - mse: 7.28 - ETA: 11s - loss: 7.3035 - mse: 7.24 - ETA: 11s - loss: 7.8522 - mse: 7.79 - ETA: 11s - loss: 7.7824 - mse: 7.72 - ETA: 11s - loss: 7.7637 - mse: 7.70 - ETA: 10s - loss: 7.7215 - mse: 7.66 - ETA: 10s - loss: 8.0136 - mse: 7.95 - ETA: 10s - loss: 7.9343 - mse: 7.87 - ETA: 10s - loss: 7.9556 - mse: 7.89 - ETA: 10s - loss: 8.1447 - mse: 8.08 - ETA: 10s - loss: 8.0750 - mse: 8.01 - ETA: 10s - loss: 7.9724 - mse: 7.91 - ETA: 10s - loss: 7.9205 - mse: 7.86 - ETA: 10s - loss: 7.8531 - mse: 7.79 - ETA: 10s - loss: 7.8032 - mse: 7.74 - ETA: 10s - loss: 7.7401 - mse: 7.68 - ETA: 10s - loss: 7.7508 - mse: 7.69 - ETA: 9s - loss: 7.7119 - mse: 7.6544 - ETA: 9s - loss: 7.7710 - mse: 7.713 - ETA: 9s - loss: 7.7187 - mse: 7.661 - ETA: 9s - loss: 7.6618 - mse: 7.604 - ETA: 9s - loss: 7.7893 - mse: 7.731 - ETA: 9s - loss: 7.7110 - mse: 7.653 - ETA: 9s - loss: 7.6596 - mse: 7.601 - ETA: 9s - loss: 7.6388 - mse: 7.581 - ETA: 9s - loss: 7.6537 - mse: 7.595 - ETA: 9s - loss: 7.6554 - mse: 7.597 - ETA: 9s - loss: 7.6078 - mse: 7.549 - ETA: 9s - loss: 7.5711 - mse: 7.513 - ETA: 9s - loss: 7.5134 - mse: 7.455 - ETA: 8s - loss: 7.4618 - mse: 7.403 - ETA: 8s - loss: 7.4155 - mse: 7.357 - ETA: 8s - loss: 7.4314 - mse: 7.373 - ETA: 8s - loss: 7.3893 - mse: 7.331 - ETA: 8s - loss: 7.3827 - mse: 7.324 - ETA: 8s - loss: 7.4385 - mse: 7.380 - ETA: 8s - loss: 7.4003 - mse: 7.341 - ETA: 8s - loss: 7.3639 - mse: 7.305 - ETA: 8s - loss: 7.3446 - mse: 7.286 - ETA: 8s - loss: 7.3025 - mse: 7.243 - ETA: 8s - loss: 7.2722 - mse: 7.213 - ETA: 8s - loss: 7.2341 - mse: 7.175 - ETA: 8s - loss: 7.1996 - mse: 7.140 - ETA: 8s - loss: 7.1519 - mse: 7.093 - ETA: 7s - loss: 7.1238 - mse: 7.064 - ETA: 7s - loss: 7.1275 - mse: 7.068 - ETA: 7s - loss: 7.0848 - mse: 7.025 - ETA: 7s - loss: 7.0565 - mse: 6.997 - ETA: 7s - loss: 7.0168 - mse: 6.957 - ETA: 7s - loss: 7.0338 - mse: 6.974 - ETA: 7s - loss: 7.0756 - mse: 7.016 - ETA: 7s - loss: 7.0624 - mse: 7.003 - ETA: 7s - loss: 7.3639 - mse: 7.304 - ETA: 7s - loss: 7.3267 - mse: 7.267 - ETA: 7s - loss: 7.2964 - mse: 7.236 - ETA: 7s - loss: 7.2700 - mse: 7.210 - ETA: 7s - loss: 7.2373 - mse: 7.177 - ETA: 7s - loss: 7.2405 - mse: 7.180 - ETA: 6s - loss: 7.2645 - mse: 7.204 - ETA: 6s - loss: 7.2267 - mse: 7.166 - ETA: 6s - loss: 7.2637 - mse: 7.203 - ETA: 6s - loss: 7.2350 - mse: 7.175 - ETA: 6s - loss: 7.1957 - mse: 7.135 - ETA: 6s - loss: 7.1834 - mse: 7.123 - ETA: 6s - loss: 7.1417 - mse: 7.081 - ETA: 6s - loss: 7.1246 - mse: 7.064 - ETA: 6s - loss: 7.1083 - mse: 7.047 - ETA: 6s - loss: 7.0942 - mse: 7.033 - ETA: 6s - loss: 7.1243 - mse: 7.063 - ETA: 6s - loss: 7.1669 - mse: 7.106 - ETA: 6s - loss: 7.1368 - mse: 7.076 - ETA: 5s - loss: 7.1443 - mse: 7.083 - ETA: 5s - loss: 7.1107 - mse: 7.049 - ETA: 5s - loss: 7.1750 - mse: 7.114 - ETA: 5s - loss: 7.1447 - mse: 7.083 - ETA: 5s - loss: 7.1261 - mse: 7.065 - ETA: 5s - loss: 7.0910 - mse: 7.030 - ETA: 5s - loss: 7.0663 - mse: 7.005 - ETA: 5s - loss: 7.0387 - mse: 6.977 - ETA: 5s - loss: 7.0138 - mse: 6.952 - ETA: 5s - loss: 6.9982 - mse: 6.937 - ETA: 5s - loss: 6.9933 - mse: 6.932 - ETA: 5s - loss: 6.9712 - mse: 6.910 - ETA: 5s - loss: 6.9450 - mse: 6.883 - ETA: 5s - loss: 6.9174 - mse: 6.856 - ETA: 5s - loss: 6.9039 - mse: 6.842 - ETA: 4s - loss: 6.8817 - mse: 6.820 - ETA: 4s - loss: 6.8929 - mse: 6.831 - ETA: 4s - loss: 6.9297 - mse: 6.868 - ETA: 4s - loss: 6.9077 - mse: 6.846 - ETA: 4s - loss: 6.8715 - mse: 6.809 - ETA: 4s - loss: 6.8395 - mse: 6.777 - ETA: 4s - loss: 6.8366 - mse: 6.774 - ETA: 4s - loss: 6.8346 - mse: 6.772 - ETA: 4s - loss: 6.8087 - mse: 6.746 - ETA: 4s - loss: 6.8648 - mse: 6.803 - ETA: 4s - loss: 6.8551 - mse: 6.793 - ETA: 4s - loss: 6.8489 - mse: 6.787 - ETA: 4s - loss: 6.8268 - mse: 6.764 - ETA: 4s - loss: 6.7995 - mse: 6.737 - ETA: 4s - loss: 6.7772 - mse: 6.715 - ETA: 4s - loss: 6.7544 - mse: 6.692 - ETA: 4s - loss: 6.7453 - mse: 6.683 - ETA: 3s - loss: 6.7190 - mse: 6.656 - ETA: 3s - loss: 6.6957 - mse: 6.633 - ETA: 3s - loss: 6.6764 - mse: 6.614 - ETA: 3s - loss: 6.6760 - mse: 6.613 - ETA: 3s - loss: 6.6630 - mse: 6.600 - ETA: 3s - loss: 6.6442 - mse: 6.581 - ETA: 3s - loss: 6.6305 - mse: 6.568 - ETA: 3s - loss: 6.6886 - mse: 6.626 - ETA: 3s - loss: 6.6710 - mse: 6.608 - ETA: 3s - loss: 6.6630 - mse: 6.600 - ETA: 3s - loss: 6.6911 - mse: 6.628 - ETA: 3s - loss: 6.6732 - mse: 6.610 - ETA: 3s - loss: 6.6476 - mse: 6.585 - ETA: 3s - loss: 6.6842 - mse: 6.621 - ETA: 3s - loss: 7.0951 - mse: 7.032 - ETA: 3s - loss: 7.0728 - mse: 7.010 - ETA: 3s - loss: 7.0488 - mse: 6.986 - ETA: 2s - loss: 7.0280 - mse: 6.965 - ETA: 2s - loss: 7.0103 - mse: 6.947 - ETA: 2s - loss: 6.9875 - mse: 6.924 - ETA: 2s - loss: 7.0052 - mse: 6.942 - ETA: 2s - loss: 6.9827 - mse: 6.920 - ETA: 2s - loss: 6.9720 - mse: 6.909 - ETA: 2s - loss: 6.9523 - mse: 6.889 - ETA: 2s - loss: 6.9787 - mse: 6.916 - ETA: 2s - loss: 6.9600 - mse: 6.897 - ETA: 2s - loss: 6.9412 - mse: 6.878 - ETA: 2s - loss: 6.9178 - mse: 6.855 - ETA: 2s - loss: 6.9069 - mse: 6.844 - ETA: 2s - loss: 6.8940 - mse: 6.831 - ETA: 2s - loss: 6.8847 - mse: 6.821 - ETA: 2s - loss: 6.8757 - mse: 6.812 - ETA: 2s - loss: 6.8947 - mse: 6.831 - ETA: 2s - loss: 6.8881 - mse: 6.825 - ETA: 2s - loss: 6.8824 - mse: 6.819 - ETA: 2s - loss: 6.8623 - mse: 6.799 - ETA: 1s - loss: 6.8499 - mse: 6.787 - ETA: 1s - loss: 6.8441 - mse: 6.781 - ETA: 1s - loss: 6.8282 - mse: 6.765 - ETA: 1s - loss: 6.8071 - mse: 6.744 - ETA: 1s - loss: 6.7882 - mse: 6.725 - ETA: 1s - loss: 6.7690 - mse: 6.705 - ETA: 1s - loss: 6.7518 - mse: 6.688 - ETA: 1s - loss: 6.7468 - mse: 6.683 - ETA: 1s - loss: 6.7321 - mse: 6.669 - ETA: 1s - loss: 6.7204 - mse: 6.657 - ETA: 1s - loss: 6.7356 - mse: 6.672 - ETA: 1s - loss: 6.7442 - mse: 6.681 - ETA: 1s - loss: 6.7261 - mse: 6.6629"
     ]
    },
    {
     "name": "stdout",
     "output_type": "stream",
     "text": [
      "5068102/5068102 [==============================] - ETA: 1s - loss: 6.7103 - mse: 6.647 - ETA: 1s - loss: 6.6964 - mse: 6.633 - ETA: 1s - loss: 6.6817 - mse: 6.618 - ETA: 1s - loss: 6.6711 - mse: 6.607 - ETA: 0s - loss: 6.6520 - mse: 6.588 - ETA: 0s - loss: 6.7072 - mse: 6.643 - ETA: 0s - loss: 6.7016 - mse: 6.638 - ETA: 0s - loss: 6.7214 - mse: 6.658 - ETA: 0s - loss: 6.7017 - mse: 6.638 - ETA: 0s - loss: 6.7049 - mse: 6.641 - ETA: 0s - loss: 6.6922 - mse: 6.628 - ETA: 0s - loss: 6.6771 - mse: 6.613 - ETA: 0s - loss: 6.6519 - mse: 6.588 - ETA: 0s - loss: 7.0431 - mse: 6.979 - ETA: 0s - loss: 7.0268 - mse: 6.963 - ETA: 0s - loss: 7.0696 - mse: 7.006 - ETA: 0s - loss: 7.0464 - mse: 6.982 - ETA: 0s - loss: 7.0321 - mse: 6.968 - 15s 3us/step - loss: 7.0087 - mse: 6.9450\n",
      "Epoch 4/5\n"
     ]
    },
    {
     "name": "stdout",
     "output_type": "stream",
     "text": [
      "4730000/5068102 [==========================>...] - ETA: 3:45 - loss: 2.4651 - mse: 2.395 - ETA: 1:23 - loss: 3.7004 - mse: 3.631 - ETA: 54s - loss: 3.4442 - mse: 3.374 - ETA: 43s - loss: 3.3917 - mse: 3.32 - ETA: 36s - loss: 3.3111 - mse: 3.24 - ETA: 32s - loss: 3.5718 - mse: 3.50 - ETA: 29s - loss: 3.5338 - mse: 3.46 - ETA: 27s - loss: 4.3796 - mse: 4.31 - ETA: 25s - loss: 5.3868 - mse: 5.31 - ETA: 23s - loss: 4.9088 - mse: 4.83 - ETA: 21s - loss: 8.2756 - mse: 8.20 - ETA: 21s - loss: 7.8424 - mse: 7.77 - ETA: 20s - loss: 7.4370 - mse: 7.36 - ETA: 19s - loss: 8.3260 - mse: 8.25 - ETA: 19s - loss: 8.0981 - mse: 8.02 - ETA: 19s - loss: 7.8471 - mse: 7.77 - ETA: 18s - loss: 7.5735 - mse: 7.50 - ETA: 17s - loss: 7.7412 - mse: 7.67 - ETA: 17s - loss: 7.4476 - mse: 7.37 - ETA: 17s - loss: 7.2320 - mse: 7.16 - ETA: 16s - loss: 6.9896 - mse: 6.92 - ETA: 16s - loss: 6.8699 - mse: 6.80 - ETA: 16s - loss: 6.7478 - mse: 6.67 - ETA: 15s - loss: 6.5442 - mse: 6.47 - ETA: 15s - loss: 6.3745 - mse: 6.30 - ETA: 15s - loss: 6.1618 - mse: 6.09 - ETA: 15s - loss: 6.1472 - mse: 6.07 - ETA: 15s - loss: 6.0502 - mse: 5.98 - ETA: 14s - loss: 6.0076 - mse: 5.93 - ETA: 14s - loss: 5.9130 - mse: 5.84 - ETA: 14s - loss: 6.9685 - mse: 6.89 - ETA: 14s - loss: 7.0014 - mse: 6.93 - ETA: 14s - loss: 7.0867 - mse: 7.01 - ETA: 14s - loss: 7.0002 - mse: 6.93 - ETA: 14s - loss: 6.9291 - mse: 6.85 - ETA: 13s - loss: 6.8884 - mse: 6.81 - ETA: 13s - loss: 6.8090 - mse: 6.73 - ETA: 13s - loss: 6.6966 - mse: 6.62 - ETA: 13s - loss: 6.5551 - mse: 6.48 - ETA: 13s - loss: 6.5126 - mse: 6.44 - ETA: 13s - loss: 6.5230 - mse: 6.45 - ETA: 13s - loss: 6.4575 - mse: 6.38 - ETA: 12s - loss: 6.3897 - mse: 6.31 - ETA: 12s - loss: 6.3071 - mse: 6.23 - ETA: 12s - loss: 6.2217 - mse: 6.15 - ETA: 12s - loss: 6.2494 - mse: 6.17 - ETA: 12s - loss: 6.1808 - mse: 6.11 - ETA: 12s - loss: 6.1488 - mse: 6.07 - ETA: 12s - loss: 6.0552 - mse: 5.98 - ETA: 12s - loss: 6.0091 - mse: 5.93 - ETA: 12s - loss: 5.9618 - mse: 5.89 - ETA: 12s - loss: 5.9957 - mse: 5.92 - ETA: 11s - loss: 6.0482 - mse: 5.97 - ETA: 11s - loss: 5.9966 - mse: 5.92 - ETA: 11s - loss: 5.9458 - mse: 5.87 - ETA: 11s - loss: 6.1536 - mse: 6.08 - ETA: 11s - loss: 6.0970 - mse: 6.02 - ETA: 11s - loss: 6.0349 - mse: 5.96 - ETA: 11s - loss: 5.9576 - mse: 5.88 - ETA: 11s - loss: 6.0580 - mse: 5.98 - ETA: 11s - loss: 6.0135 - mse: 5.94 - ETA: 10s - loss: 6.0044 - mse: 5.93 - ETA: 10s - loss: 5.9585 - mse: 5.88 - ETA: 10s - loss: 6.0244 - mse: 5.95 - ETA: 10s - loss: 6.0674 - mse: 5.99 - ETA: 10s - loss: 6.0658 - mse: 5.99 - ETA: 10s - loss: 5.9851 - mse: 5.91 - ETA: 10s - loss: 5.9676 - mse: 5.89 - ETA: 10s - loss: 5.9081 - mse: 5.83 - ETA: 10s - loss: 5.8626 - mse: 5.79 - ETA: 10s - loss: 5.8356 - mse: 5.76 - ETA: 10s - loss: 5.7921 - mse: 5.72 - ETA: 10s - loss: 5.7887 - mse: 5.71 - ETA: 9s - loss: 5.7829 - mse: 5.7117 - ETA: 9s - loss: 5.7305 - mse: 5.659 - ETA: 9s - loss: 5.7511 - mse: 5.679 - ETA: 9s - loss: 5.7196 - mse: 5.648 - ETA: 9s - loss: 5.6893 - mse: 5.618 - ETA: 9s - loss: 5.7117 - mse: 5.640 - ETA: 9s - loss: 5.7040 - mse: 5.632 - ETA: 9s - loss: 5.7014 - mse: 5.630 - ETA: 9s - loss: 5.7886 - mse: 5.717 - ETA: 9s - loss: 5.7540 - mse: 5.682 - ETA: 9s - loss: 5.8864 - mse: 5.815 - ETA: 9s - loss: 5.8411 - mse: 5.769 - ETA: 9s - loss: 5.8141 - mse: 5.742 - ETA: 8s - loss: 5.7588 - mse: 5.687 - ETA: 8s - loss: 5.7690 - mse: 5.697 - ETA: 8s - loss: 5.7310 - mse: 5.659 - ETA: 8s - loss: 5.7453 - mse: 5.674 - ETA: 8s - loss: 5.8680 - mse: 5.796 - ETA: 8s - loss: 5.8698 - mse: 5.798 - ETA: 8s - loss: 5.8480 - mse: 5.776 - ETA: 8s - loss: 6.0533 - mse: 5.981 - ETA: 8s - loss: 6.1831 - mse: 6.111 - ETA: 8s - loss: 6.1708 - mse: 6.099 - ETA: 8s - loss: 6.1216 - mse: 6.050 - ETA: 8s - loss: 6.1256 - mse: 6.054 - ETA: 8s - loss: 6.4313 - mse: 6.359 - ETA: 7s - loss: 6.4115 - mse: 6.340 - ETA: 7s - loss: 6.3784 - mse: 6.306 - ETA: 7s - loss: 6.3555 - mse: 6.283 - ETA: 7s - loss: 6.3943 - mse: 6.322 - ETA: 7s - loss: 6.4035 - mse: 6.331 - ETA: 7s - loss: 6.6510 - mse: 6.579 - ETA: 7s - loss: 6.6245 - mse: 6.552 - ETA: 7s - loss: 6.5827 - mse: 6.510 - ETA: 7s - loss: 6.6262 - mse: 6.554 - ETA: 7s - loss: 6.6140 - mse: 6.542 - ETA: 7s - loss: 6.7383 - mse: 6.666 - ETA: 7s - loss: 6.6844 - mse: 6.612 - ETA: 7s - loss: 6.7215 - mse: 6.649 - ETA: 7s - loss: 6.6977 - mse: 6.625 - ETA: 7s - loss: 6.6910 - mse: 6.619 - ETA: 6s - loss: 6.6742 - mse: 6.602 - ETA: 6s - loss: 6.6486 - mse: 6.576 - ETA: 6s - loss: 6.6243 - mse: 6.552 - ETA: 6s - loss: 6.5976 - mse: 6.525 - ETA: 6s - loss: 6.5901 - mse: 6.517 - ETA: 6s - loss: 6.5551 - mse: 6.482 - ETA: 6s - loss: 6.5292 - mse: 6.457 - ETA: 6s - loss: 6.5050 - mse: 6.432 - ETA: 6s - loss: 6.4940 - mse: 6.421 - ETA: 6s - loss: 6.4843 - mse: 6.412 - ETA: 6s - loss: 6.4610 - mse: 6.388 - ETA: 6s - loss: 6.4501 - mse: 6.377 - ETA: 6s - loss: 6.4147 - mse: 6.342 - ETA: 6s - loss: 6.3905 - mse: 6.318 - ETA: 6s - loss: 6.3657 - mse: 6.293 - ETA: 5s - loss: 6.3407 - mse: 6.268 - ETA: 5s - loss: 6.3971 - mse: 6.324 - ETA: 5s - loss: 6.3793 - mse: 6.306 - ETA: 5s - loss: 6.3564 - mse: 6.283 - ETA: 5s - loss: 6.3379 - mse: 6.265 - ETA: 5s - loss: 6.3481 - mse: 6.275 - ETA: 5s - loss: 6.3287 - mse: 6.256 - ETA: 5s - loss: 6.3054 - mse: 6.232 - ETA: 5s - loss: 6.2773 - mse: 6.204 - ETA: 5s - loss: 6.2510 - mse: 6.178 - ETA: 5s - loss: 6.2295 - mse: 6.156 - ETA: 5s - loss: 6.2175 - mse: 6.144 - ETA: 5s - loss: 6.1913 - mse: 6.118 - ETA: 5s - loss: 6.1703 - mse: 6.097 - ETA: 5s - loss: 6.2143 - mse: 6.141 - ETA: 5s - loss: 6.2057 - mse: 6.132 - ETA: 5s - loss: 6.1942 - mse: 6.121 - ETA: 4s - loss: 6.1802 - mse: 6.107 - ETA: 4s - loss: 6.1775 - mse: 6.104 - ETA: 4s - loss: 6.1525 - mse: 6.079 - ETA: 4s - loss: 6.1296 - mse: 6.056 - ETA: 4s - loss: 6.1798 - mse: 6.106 - ETA: 4s - loss: 6.1531 - mse: 6.080 - ETA: 4s - loss: 6.1638 - mse: 6.090 - ETA: 4s - loss: 6.1535 - mse: 6.080 - ETA: 4s - loss: 6.1396 - mse: 6.066 - ETA: 4s - loss: 6.1221 - mse: 6.049 - ETA: 4s - loss: 6.1213 - mse: 6.048 - ETA: 4s - loss: 6.1085 - mse: 6.035 - ETA: 4s - loss: 6.0860 - mse: 6.012 - ETA: 4s - loss: 6.0898 - mse: 6.016 - ETA: 4s - loss: 6.0779 - mse: 6.004 - ETA: 4s - loss: 6.0833 - mse: 6.010 - ETA: 4s - loss: 6.2126 - mse: 6.139 - ETA: 3s - loss: 6.1917 - mse: 6.118 - ETA: 3s - loss: 6.1886 - mse: 6.115 - ETA: 3s - loss: 6.2005 - mse: 6.127 - ETA: 3s - loss: 6.1923 - mse: 6.119 - ETA: 3s - loss: 6.2291 - mse: 6.155 - ETA: 3s - loss: 6.2250 - mse: 6.151 - ETA: 3s - loss: 6.2076 - mse: 6.134 - ETA: 3s - loss: 6.1939 - mse: 6.120 - ETA: 3s - loss: 6.1725 - mse: 6.099 - ETA: 3s - loss: 6.1512 - mse: 6.077 - ETA: 3s - loss: 6.1555 - mse: 6.082 - ETA: 3s - loss: 6.1311 - mse: 6.057 - ETA: 3s - loss: 6.1167 - mse: 6.043 - ETA: 3s - loss: 6.0944 - mse: 6.020 - ETA: 3s - loss: 6.0963 - mse: 6.022 - ETA: 3s - loss: 6.1007 - mse: 6.027 - ETA: 3s - loss: 6.0866 - mse: 6.013 - ETA: 2s - loss: 6.1040 - mse: 6.030 - ETA: 2s - loss: 6.0968 - mse: 6.023 - ETA: 2s - loss: 6.1116 - mse: 6.037 - ETA: 2s - loss: 6.1418 - mse: 6.068 - ETA: 2s - loss: 6.1164 - mse: 6.042 - ETA: 2s - loss: 6.1177 - mse: 6.043 - ETA: 2s - loss: 6.1025 - mse: 6.028 - ETA: 2s - loss: 6.1210 - mse: 6.047 - ETA: 2s - loss: 6.1063 - mse: 6.032 - ETA: 2s - loss: 6.0884 - mse: 6.014 - ETA: 2s - loss: 6.0678 - mse: 5.993 - ETA: 2s - loss: 6.0736 - mse: 5.999 - ETA: 2s - loss: 6.1006 - mse: 6.026 - ETA: 2s - loss: 6.0861 - mse: 6.012 - ETA: 2s - loss: 6.1890 - mse: 6.114 - ETA: 2s - loss: 6.1768 - mse: 6.102 - ETA: 2s - loss: 6.1671 - mse: 6.093 - ETA: 1s - loss: 6.1563 - mse: 6.082 - ETA: 1s - loss: 6.1358 - mse: 6.061 - ETA: 1s - loss: 6.1278 - mse: 6.053 - ETA: 1s - loss: 6.1516 - mse: 6.077 - ETA: 1s - loss: 6.1487 - mse: 6.074 - ETA: 1s - loss: 6.1317 - mse: 6.057 - ETA: 1s - loss: 6.1187 - mse: 6.044 - ETA: 1s - loss: 6.3829 - mse: 6.308 - ETA: 1s - loss: 6.3560 - mse: 6.281 - ETA: 1s - loss: 6.3772 - mse: 6.302 - ETA: 1s - loss: 6.3786 - mse: 6.304 - ETA: 1s - loss: 6.3979 - mse: 6.323 - ETA: 1s - loss: 6.4039 - mse: 6.329 - ETA: 1s - loss: 6.3896 - mse: 6.315 - ETA: 1s - loss: 6.3769 - mse: 6.302 - ETA: 1s - loss: 6.7077 - mse: 6.633 - ETA: 1s - loss: 6.6974 - mse: 6.622 - ETA: 0s - loss: 6.6802 - mse: 6.60545068102/5068102 [==============================] - ETA: 0s - loss: 6.7141 - mse: 6.639 - ETA: 0s - loss: 6.7167 - mse: 6.641 - ETA: 0s - loss: 6.9364 - mse: 6.861 - ETA: 0s - loss: 6.9195 - mse: 6.844 - ETA: 0s - loss: 6.9062 - mse: 6.831 - ETA: 0s - loss: 6.8927 - mse: 6.817 - ETA: 0s - loss: 6.9232 - mse: 6.848 - ETA: 0s - loss: 6.9163 - mse: 6.841 - ETA: 0s - loss: 6.8967 - mse: 6.821 - ETA: 0s - loss: 6.9179 - mse: 6.842 - ETA: 0s - loss: 6.9077 - mse: 6.832 - ETA: 0s - loss: 6.8928 - mse: 6.817 - ETA: 0s - loss: 6.8760 - mse: 6.800 - ETA: 0s - loss: 6.8622 - mse: 6.787 - ETA: 0s - loss: 6.8563 - mse: 6.781 - ETA: 0s - loss: 6.8409 - mse: 6.765 - 14s 3us/step - loss: 6.8463 - mse: 6.7710\n",
      "Epoch 5/5\n"
     ]
    },
    {
     "name": "stdout",
     "output_type": "stream",
     "text": [
      "4420000/5068102 [=========================>....] - ETA: 3:54 - loss: 3.8620 - mse: 3.777 - ETA: 1:26 - loss: 3.0184 - mse: 2.934 - ETA: 56s - loss: 3.1433 - mse: 3.059 - ETA: 44s - loss: 3.2435 - mse: 3.15 - ETA: 37s - loss: 11.8471 - mse: 11.76 - ETA: 33s - loss: 10.6523 - mse: 10.56 - ETA: 30s - loss: 9.6426 - mse: 9.5584 - ETA: 28s - loss: 8.7091 - mse: 8.62 - ETA: 26s - loss: 8.0223 - mse: 7.93 - ETA: 24s - loss: 10.8758 - mse: 10.79 - ETA: 23s - loss: 10.5202 - mse: 10.43 - ETA: 22s - loss: 11.0217 - mse: 10.93 - ETA: 21s - loss: 10.4233 - mse: 10.33 - ETA: 21s - loss: 10.6906 - mse: 10.60 - ETA: 20s - loss: 10.1520 - mse: 10.06 - ETA: 19s - loss: 9.8238 - mse: 9.7394 - ETA: 19s - loss: 9.7922 - mse: 9.70 - ETA: 19s - loss: 9.4540 - mse: 9.36 - ETA: 18s - loss: 9.1852 - mse: 9.10 - ETA: 18s - loss: 8.8976 - mse: 8.81 - ETA: 17s - loss: 9.9146 - mse: 9.83 - ETA: 17s - loss: 9.4591 - mse: 9.37 - ETA: 17s - loss: 9.1670 - mse: 9.08 - ETA: 16s - loss: 8.8908 - mse: 8.80 - ETA: 16s - loss: 8.6690 - mse: 8.58 - ETA: 16s - loss: 8.4375 - mse: 8.35 - ETA: 16s - loss: 8.3830 - mse: 8.29 - ETA: 16s - loss: 8.2505 - mse: 8.16 - ETA: 15s - loss: 8.3320 - mse: 8.24 - ETA: 15s - loss: 8.2959 - mse: 8.21 - ETA: 15s - loss: 8.1671 - mse: 8.08 - ETA: 15s - loss: 10.3650 - mse: 10.28 - ETA: 15s - loss: 10.1230 - mse: 10.03 - ETA: 15s - loss: 9.9072 - mse: 9.8233 - ETA: 14s - loss: 9.7587 - mse: 9.67 - ETA: 14s - loss: 9.7348 - mse: 9.65 - ETA: 14s - loss: 9.4766 - mse: 9.39 - ETA: 14s - loss: 9.2117 - mse: 9.12 - ETA: 14s - loss: 8.9588 - mse: 8.87 - ETA: 14s - loss: 8.7633 - mse: 8.67 - ETA: 13s - loss: 8.6359 - mse: 8.55 - ETA: 13s - loss: 8.5253 - mse: 8.44 - ETA: 13s - loss: 8.3991 - mse: 8.31 - ETA: 13s - loss: 8.2699 - mse: 8.18 - ETA: 13s - loss: 8.1532 - mse: 8.06 - ETA: 13s - loss: 8.0617 - mse: 7.97 - ETA: 13s - loss: 7.9599 - mse: 7.87 - ETA: 13s - loss: 7.8768 - mse: 7.79 - ETA: 13s - loss: 7.7702 - mse: 7.68 - ETA: 12s - loss: 7.8670 - mse: 7.78 - ETA: 12s - loss: 7.8079 - mse: 7.72 - ETA: 12s - loss: 7.7958 - mse: 7.71 - ETA: 12s - loss: 8.4748 - mse: 8.39 - ETA: 12s - loss: 8.4166 - mse: 8.33 - ETA: 12s - loss: 8.3532 - mse: 8.26 - ETA: 12s - loss: 8.2840 - mse: 8.20 - ETA: 12s - loss: 8.1866 - mse: 8.10 - ETA: 12s - loss: 8.0340 - mse: 7.95 - ETA: 11s - loss: 8.8562 - mse: 8.77 - ETA: 11s - loss: 8.7605 - mse: 8.67 - ETA: 11s - loss: 8.6678 - mse: 8.58 - ETA: 11s - loss: 8.5639 - mse: 8.48 - ETA: 11s - loss: 8.4883 - mse: 8.40 - ETA: 11s - loss: 8.5248 - mse: 8.44 - ETA: 11s - loss: 8.4886 - mse: 8.40 - ETA: 11s - loss: 8.3672 - mse: 8.28 - ETA: 11s - loss: 8.2600 - mse: 8.17 - ETA: 11s - loss: 8.4253 - mse: 8.34 - ETA: 11s - loss: 8.3698 - mse: 8.28 - ETA: 11s - loss: 8.3572 - mse: 8.27 - ETA: 10s - loss: 8.2795 - mse: 8.19 - ETA: 10s - loss: 8.1819 - mse: 8.09 - ETA: 10s - loss: 8.2663 - mse: 8.18 - ETA: 10s - loss: 8.2414 - mse: 8.15 - ETA: 10s - loss: 8.1622 - mse: 8.07 - ETA: 10s - loss: 8.1295 - mse: 8.04 - ETA: 10s - loss: 8.0635 - mse: 7.97 - ETA: 10s - loss: 7.9953 - mse: 7.91 - ETA: 10s - loss: 7.9882 - mse: 7.90 - ETA: 10s - loss: 7.9583 - mse: 7.87 - ETA: 10s - loss: 7.8965 - mse: 7.81 - ETA: 10s - loss: 7.8669 - mse: 7.78 - ETA: 10s - loss: 7.8263 - mse: 7.74 - ETA: 10s - loss: 7.7690 - mse: 7.68 - ETA: 9s - loss: 7.7104 - mse: 7.6263 - ETA: 9s - loss: 7.6521 - mse: 7.568 - ETA: 9s - loss: 7.6869 - mse: 7.602 - ETA: 9s - loss: 7.6330 - mse: 7.549 - ETA: 9s - loss: 7.6075 - mse: 7.523 - ETA: 9s - loss: 7.5558 - mse: 7.471 - ETA: 9s - loss: 7.5110 - mse: 7.426 - ETA: 9s - loss: 7.5003 - mse: 7.416 - ETA: 9s - loss: 7.4584 - mse: 7.374 - ETA: 9s - loss: 7.4084 - mse: 7.324 - ETA: 9s - loss: 7.3788 - mse: 7.294 - ETA: 9s - loss: 7.3845 - mse: 7.300 - ETA: 9s - loss: 7.3434 - mse: 7.259 - ETA: 9s - loss: 7.3287 - mse: 7.244 - ETA: 9s - loss: 7.2794 - mse: 7.195 - ETA: 9s - loss: 7.2392 - mse: 7.154 - ETA: 8s - loss: 7.1930 - mse: 7.108 - ETA: 8s - loss: 7.1615 - mse: 7.077 - ETA: 8s - loss: 7.1226 - mse: 7.038 - ETA: 8s - loss: 7.2305 - mse: 7.146 - ETA: 8s - loss: 7.2176 - mse: 7.133 - ETA: 8s - loss: 7.1899 - mse: 7.105 - ETA: 8s - loss: 7.1899 - mse: 7.105 - ETA: 8s - loss: 7.1458 - mse: 7.061 - ETA: 8s - loss: 7.1051 - mse: 7.020 - ETA: 8s - loss: 7.1115 - mse: 7.027 - ETA: 8s - loss: 7.0816 - mse: 6.997 - ETA: 8s - loss: 7.0463 - mse: 6.961 - ETA: 8s - loss: 7.0070 - mse: 6.922 - ETA: 8s - loss: 6.9916 - mse: 6.907 - ETA: 8s - loss: 6.9727 - mse: 6.888 - ETA: 8s - loss: 6.9447 - mse: 6.860 - ETA: 8s - loss: 6.9232 - mse: 6.838 - ETA: 7s - loss: 6.8925 - mse: 6.808 - ETA: 7s - loss: 6.8604 - mse: 6.776 - ETA: 7s - loss: 6.8630 - mse: 6.778 - ETA: 7s - loss: 6.8321 - mse: 6.747 - ETA: 7s - loss: 6.7971 - mse: 6.712 - ETA: 7s - loss: 6.7600 - mse: 6.675 - ETA: 7s - loss: 6.7464 - mse: 6.662 - ETA: 7s - loss: 6.7262 - mse: 6.641 - ETA: 7s - loss: 6.6945 - mse: 6.610 - ETA: 7s - loss: 6.6781 - mse: 6.593 - ETA: 7s - loss: 6.6438 - mse: 6.559 - ETA: 7s - loss: 6.6975 - mse: 6.613 - ETA: 7s - loss: 6.7123 - mse: 6.627 - ETA: 7s - loss: 6.7509 - mse: 6.666 - ETA: 7s - loss: 6.7253 - mse: 6.640 - ETA: 7s - loss: 6.7384 - mse: 6.654 - ETA: 7s - loss: 6.7337 - mse: 6.649 - ETA: 7s - loss: 6.7182 - mse: 6.633 - ETA: 7s - loss: 6.8526 - mse: 6.768 - ETA: 7s - loss: 6.8376 - mse: 6.753 - ETA: 7s - loss: 6.8261 - mse: 6.741 - ETA: 7s - loss: 6.8181 - mse: 6.733 - ETA: 6s - loss: 6.8245 - mse: 6.740 - ETA: 6s - loss: 6.8225 - mse: 6.738 - ETA: 6s - loss: 6.7963 - mse: 6.711 - ETA: 6s - loss: 6.7746 - mse: 6.690 - ETA: 6s - loss: 6.7611 - mse: 6.676 - ETA: 6s - loss: 6.7553 - mse: 6.670 - ETA: 6s - loss: 6.7480 - mse: 6.663 - ETA: 6s - loss: 6.7203 - mse: 6.635 - ETA: 6s - loss: 6.6916 - mse: 6.606 - ETA: 6s - loss: 6.6649 - mse: 6.580 - ETA: 6s - loss: 6.6375 - mse: 6.552 - ETA: 6s - loss: 6.7273 - mse: 6.642 - ETA: 6s - loss: 6.7077 - mse: 6.622 - ETA: 6s - loss: 6.6764 - mse: 6.591 - ETA: 6s - loss: 6.6639 - mse: 6.579 - ETA: 5s - loss: 6.6473 - mse: 6.562 - ETA: 5s - loss: 6.6375 - mse: 6.552 - ETA: 5s - loss: 6.6137 - mse: 6.528 - ETA: 5s - loss: 6.6754 - mse: 6.590 - ETA: 5s - loss: 6.6531 - mse: 6.568 - ETA: 5s - loss: 6.6288 - mse: 6.543 - ETA: 5s - loss: 6.6098 - mse: 6.524 - ETA: 5s - loss: 6.6563 - mse: 6.571 - ETA: 5s - loss: 6.6530 - mse: 6.568 - ETA: 5s - loss: 6.6400 - mse: 6.555 - ETA: 5s - loss: 6.6264 - mse: 6.541 - ETA: 5s - loss: 6.6238 - mse: 6.538 - ETA: 5s - loss: 6.6143 - mse: 6.529 - ETA: 5s - loss: 6.5900 - mse: 6.504 - ETA: 5s - loss: 6.5628 - mse: 6.477 - ETA: 5s - loss: 6.5455 - mse: 6.460 - ETA: 4s - loss: 6.5222 - mse: 6.437 - ETA: 4s - loss: 6.5063 - mse: 6.421 - ETA: 4s - loss: 6.4839 - mse: 6.398 - ETA: 4s - loss: 6.4621 - mse: 6.376 - ETA: 4s - loss: 6.4526 - mse: 6.367 - ETA: 4s - loss: 6.4254 - mse: 6.340 - ETA: 4s - loss: 6.3941 - mse: 6.308 - ETA: 4s - loss: 6.3641 - mse: 6.278 - ETA: 4s - loss: 6.3464 - mse: 6.261 - ETA: 4s - loss: 6.3569 - mse: 6.271 - ETA: 4s - loss: 6.3821 - mse: 6.296 - ETA: 4s - loss: 6.3641 - mse: 6.278 - ETA: 4s - loss: 6.3408 - mse: 6.255 - ETA: 3s - loss: 6.5423 - mse: 6.456 - ETA: 3s - loss: 6.5213 - mse: 6.435 - ETA: 3s - loss: 6.5147 - mse: 6.429 - ETA: 3s - loss: 6.6204 - mse: 6.534 - ETA: 3s - loss: 6.6117 - mse: 6.526 - ETA: 3s - loss: 6.5983 - mse: 6.512 - ETA: 3s - loss: 6.5907 - mse: 6.505 - ETA: 3s - loss: 6.6418 - mse: 6.556 - ETA: 3s - loss: 6.6948 - mse: 6.609 - ETA: 3s - loss: 6.6941 - mse: 6.608 - ETA: 3s - loss: 6.6791 - mse: 6.593 - ETA: 3s - loss: 7.0926 - mse: 7.006 - ETA: 3s - loss: 7.0720 - mse: 6.986 - ETA: 3s - loss: 7.0639 - mse: 6.978 - ETA: 3s - loss: 7.0423 - mse: 6.956 - ETA: 3s - loss: 7.0268 - mse: 6.940 - ETA: 2s - loss: 7.0067 - mse: 6.920 - ETA: 2s - loss: 7.0104 - mse: 6.924 - ETA: 2s - loss: 7.0162 - mse: 6.930 - ETA: 2s - loss: 6.9970 - mse: 6.910 - ETA: 2s - loss: 6.9756 - mse: 6.889 - ETA: 2s - loss: 6.9599 - mse: 6.873 - ETA: 2s - loss: 6.9371 - mse: 6.850 - ETA: 2s - loss: 6.9127 - mse: 6.826 - ETA: 2s - loss: 6.8952 - mse: 6.808 - ETA: 2s - loss: 6.8755 - mse: 6.789 - ETA: 2s - loss: 6.8817 - mse: 6.795 - ETA: 2s - loss: 6.9036 - mse: 6.817 - ETA: 2s - loss: 6.8946 - mse: 6.808 - ETA: 2s - loss: 6.8758 - mse: 6.789 - ETA: 2s - loss: 6.8731 - mse: 6.7865"
     ]
    },
    {
     "name": "stdout",
     "output_type": "stream",
     "text": [
      "5068102/5068102 [==============================] - ETA: 1s - loss: 6.8694 - mse: 6.782 - ETA: 1s - loss: 6.8553 - mse: 6.768 - ETA: 1s - loss: 6.8364 - mse: 6.749 - ETA: 1s - loss: 6.8316 - mse: 6.745 - ETA: 1s - loss: 6.8082 - mse: 6.721 - ETA: 1s - loss: 6.7929 - mse: 6.706 - ETA: 1s - loss: 6.8127 - mse: 6.726 - ETA: 1s - loss: 6.8015 - mse: 6.714 - ETA: 1s - loss: 6.7888 - mse: 6.702 - ETA: 1s - loss: 6.7740 - mse: 6.687 - ETA: 1s - loss: 6.7703 - mse: 6.683 - ETA: 1s - loss: 6.7588 - mse: 6.671 - ETA: 1s - loss: 6.7496 - mse: 6.662 - ETA: 1s - loss: 6.7628 - mse: 6.675 - ETA: 1s - loss: 6.7392 - mse: 6.652 - ETA: 0s - loss: 6.7931 - mse: 6.706 - ETA: 0s - loss: 6.7809 - mse: 6.693 - ETA: 0s - loss: 6.7657 - mse: 6.678 - ETA: 0s - loss: 6.7678 - mse: 6.680 - ETA: 0s - loss: 6.7489 - mse: 6.661 - ETA: 0s - loss: 6.7386 - mse: 6.651 - ETA: 0s - loss: 6.7222 - mse: 6.635 - ETA: 0s - loss: 6.7042 - mse: 6.617 - ETA: 0s - loss: 6.7360 - mse: 6.648 - ETA: 0s - loss: 6.7542 - mse: 6.667 - ETA: 0s - loss: 6.7532 - mse: 6.665 - ETA: 0s - loss: 6.7442 - mse: 6.656 - ETA: 0s - loss: 6.7295 - mse: 6.642 - 15s 3us/step - loss: 6.7129 - mse: 6.6256\n",
      "29\n",
      "Epoch 1/5\n"
     ]
    },
    {
     "name": "stdout",
     "output_type": "stream",
     "text": [
      "4950000/5300554 [===========================>..] - ETA: 8:59 - loss: 13.5640 - mse: 13.556 - ETA: 3:09 - loss: 8.0831 - mse: 8.0753  - ETA: 1:58 - loss: 6.4511 - mse: 6.443 - ETA: 1:28 - loss: 6.6790 - mse: 6.671 - ETA: 1:11 - loss: 13.6538 - mse: 13.646 - ETA: 1:01 - loss: 11.8018 - mse: 11.794 - ETA: 50s - loss: 10.1020 - mse: 10.094 - ETA: 45s - loss: 9.2480 - mse: 9.2406 - ETA: 42s - loss: 8.8154 - mse: 8.80 - ETA: 39s - loss: 14.5954 - mse: 14.58 - ETA: 37s - loss: 13.8656 - mse: 13.85 - ETA: 35s - loss: 13.0197 - mse: 13.01 - ETA: 33s - loss: 12.4533 - mse: 12.44 - ETA: 31s - loss: 11.9446 - mse: 11.93 - ETA: 29s - loss: 13.3844 - mse: 13.37 - ETA: 28s - loss: 14.9649 - mse: 14.95 - ETA: 28s - loss: 15.1051 - mse: 15.09 - ETA: 27s - loss: 15.4129 - mse: 15.40 - ETA: 26s - loss: 14.7928 - mse: 14.78 - ETA: 25s - loss: 15.1394 - mse: 15.13 - ETA: 24s - loss: 15.1301 - mse: 15.12 - ETA: 23s - loss: 15.6134 - mse: 15.60 - ETA: 22s - loss: 15.0075 - mse: 15.00 - ETA: 22s - loss: 14.7640 - mse: 14.75 - ETA: 21s - loss: 14.2969 - mse: 14.28 - ETA: 21s - loss: 13.9524 - mse: 13.94 - ETA: 21s - loss: 13.8495 - mse: 13.84 - ETA: 20s - loss: 13.5765 - mse: 13.56 - ETA: 20s - loss: 15.3372 - mse: 15.33 - ETA: 19s - loss: 15.4626 - mse: 15.45 - ETA: 19s - loss: 15.1851 - mse: 15.17 - ETA: 19s - loss: 15.0729 - mse: 15.06 - ETA: 19s - loss: 14.9809 - mse: 14.97 - ETA: 18s - loss: 14.6271 - mse: 14.62 - ETA: 18s - loss: 14.2730 - mse: 14.26 - ETA: 18s - loss: 14.0126 - mse: 14.00 - ETA: 18s - loss: 13.7337 - mse: 13.72 - ETA: 18s - loss: 13.4732 - mse: 13.46 - ETA: 17s - loss: 13.1988 - mse: 13.19 - ETA: 17s - loss: 12.9484 - mse: 12.94 - ETA: 17s - loss: 12.8687 - mse: 12.86 - ETA: 17s - loss: 12.6343 - mse: 12.62 - ETA: 16s - loss: 12.3094 - mse: 12.30 - ETA: 16s - loss: 12.7742 - mse: 12.76 - ETA: 16s - loss: 12.5977 - mse: 12.59 - ETA: 16s - loss: 12.2844 - mse: 12.27 - ETA: 16s - loss: 12.1850 - mse: 12.17 - ETA: 15s - loss: 12.0351 - mse: 12.02 - ETA: 15s - loss: 12.0458 - mse: 12.03 - ETA: 15s - loss: 11.8470 - mse: 11.83 - ETA: 15s - loss: 11.7845 - mse: 11.77 - ETA: 15s - loss: 11.6045 - mse: 11.59 - ETA: 15s - loss: 11.5158 - mse: 11.50 - ETA: 15s - loss: 11.3691 - mse: 11.36 - ETA: 15s - loss: 11.2099 - mse: 11.20 - ETA: 14s - loss: 11.0918 - mse: 11.08 - ETA: 14s - loss: 11.0101 - mse: 11.00 - ETA: 14s - loss: 10.8611 - mse: 10.85 - ETA: 14s - loss: 10.7188 - mse: 10.71 - ETA: 14s - loss: 10.5976 - mse: 10.58 - ETA: 14s - loss: 10.4078 - mse: 10.39 - ETA: 14s - loss: 10.2899 - mse: 10.28 - ETA: 14s - loss: 10.3204 - mse: 10.31 - ETA: 13s - loss: 10.2295 - mse: 10.22 - ETA: 13s - loss: 10.2463 - mse: 10.23 - ETA: 13s - loss: 10.3668 - mse: 10.35 - ETA: 13s - loss: 10.2447 - mse: 10.23 - ETA: 13s - loss: 10.2087 - mse: 10.20 - ETA: 13s - loss: 10.0934 - mse: 10.08 - ETA: 13s - loss: 10.5439 - mse: 10.53 - ETA: 13s - loss: 10.4390 - mse: 10.43 - ETA: 13s - loss: 10.3378 - mse: 10.32 - ETA: 12s - loss: 10.6048 - mse: 10.59 - ETA: 12s - loss: 10.5129 - mse: 10.50 - ETA: 12s - loss: 10.6305 - mse: 10.62 - ETA: 12s - loss: 10.6312 - mse: 10.62 - ETA: 12s - loss: 10.6252 - mse: 10.61 - ETA: 12s - loss: 10.5181 - mse: 10.50 - ETA: 12s - loss: 10.4250 - mse: 10.41 - ETA: 12s - loss: 10.3502 - mse: 10.34 - ETA: 12s - loss: 10.2743 - mse: 10.26 - ETA: 12s - loss: 10.2695 - mse: 10.26 - ETA: 11s - loss: 10.1988 - mse: 10.19 - ETA: 11s - loss: 10.1073 - mse: 10.09 - ETA: 11s - loss: 10.3684 - mse: 10.35 - ETA: 11s - loss: 10.2897 - mse: 10.28 - ETA: 11s - loss: 10.1961 - mse: 10.18 - ETA: 11s - loss: 10.1868 - mse: 10.17 - ETA: 11s - loss: 10.3394 - mse: 10.33 - ETA: 11s - loss: 10.3904 - mse: 10.38 - ETA: 11s - loss: 10.9299 - mse: 10.92 - ETA: 10s - loss: 10.8197 - mse: 10.81 - ETA: 10s - loss: 10.8193 - mse: 10.81 - ETA: 10s - loss: 10.7216 - mse: 10.71 - ETA: 10s - loss: 10.6183 - mse: 10.60 - ETA: 10s - loss: 10.5419 - mse: 10.53 - ETA: 10s - loss: 10.4712 - mse: 10.46 - ETA: 10s - loss: 10.4409 - mse: 10.43 - ETA: 10s - loss: 10.4488 - mse: 10.43 - ETA: 10s - loss: 10.5059 - mse: 10.49 - ETA: 9s - loss: 10.4588 - mse: 10.4491 - ETA: 9s - loss: 10.4128 - mse: 10.403 - ETA: 9s - loss: 10.3480 - mse: 10.338 - ETA: 9s - loss: 10.3025 - mse: 10.292 - ETA: 9s - loss: 10.2565 - mse: 10.246 - ETA: 9s - loss: 10.1562 - mse: 10.146 - ETA: 9s - loss: 10.0812 - mse: 10.071 - ETA: 9s - loss: 10.0360 - mse: 10.026 - ETA: 9s - loss: 9.9857 - mse: 9.9757  - ETA: 9s - loss: 9.9268 - mse: 9.916 - ETA: 8s - loss: 9.8520 - mse: 9.841 - ETA: 8s - loss: 9.8589 - mse: 9.848 - ETA: 8s - loss: 9.8091 - mse: 9.799 - ETA: 8s - loss: 9.8307 - mse: 9.820 - ETA: 8s - loss: 9.7940 - mse: 9.783 - ETA: 8s - loss: 9.7886 - mse: 9.778 - ETA: 8s - loss: 9.7330 - mse: 9.722 - ETA: 8s - loss: 9.6621 - mse: 9.651 - ETA: 8s - loss: 9.6682 - mse: 9.657 - ETA: 8s - loss: 9.6019 - mse: 9.591 - ETA: 7s - loss: 9.5473 - mse: 9.536 - ETA: 7s - loss: 9.5405 - mse: 9.529 - ETA: 7s - loss: 9.5634 - mse: 9.552 - ETA: 7s - loss: 9.4873 - mse: 9.476 - ETA: 7s - loss: 9.4335 - mse: 9.422 - ETA: 7s - loss: 9.3994 - mse: 9.388 - ETA: 7s - loss: 9.4655 - mse: 9.454 - ETA: 7s - loss: 9.4165 - mse: 9.405 - ETA: 7s - loss: 9.4106 - mse: 9.399 - ETA: 7s - loss: 9.3379 - mse: 9.327 - ETA: 7s - loss: 9.2643 - mse: 9.253 - ETA: 6s - loss: 9.1940 - mse: 9.183 - ETA: 6s - loss: 9.1632 - mse: 9.152 - ETA: 6s - loss: 9.1022 - mse: 9.091 - ETA: 6s - loss: 9.1017 - mse: 9.090 - ETA: 6s - loss: 9.0841 - mse: 9.072 - ETA: 6s - loss: 9.0502 - mse: 9.039 - ETA: 6s - loss: 9.3942 - mse: 9.382 - ETA: 6s - loss: 9.3427 - mse: 9.331 - ETA: 6s - loss: 9.2834 - mse: 9.272 - ETA: 6s - loss: 9.2801 - mse: 9.268 - ETA: 5s - loss: 9.2251 - mse: 9.213 - ETA: 5s - loss: 9.3535 - mse: 9.341 - ETA: 5s - loss: 9.3023 - mse: 9.290 - ETA: 5s - loss: 9.2740 - mse: 9.262 - ETA: 5s - loss: 9.2446 - mse: 9.232 - ETA: 5s - loss: 9.1839 - mse: 9.172 - ETA: 5s - loss: 9.2089 - mse: 9.197 - ETA: 5s - loss: 9.1903 - mse: 9.178 - ETA: 5s - loss: 9.1789 - mse: 9.167 - ETA: 5s - loss: 9.1289 - mse: 9.116 - ETA: 5s - loss: 9.1434 - mse: 9.131 - ETA: 5s - loss: 9.1421 - mse: 9.130 - ETA: 5s - loss: 9.1018 - mse: 9.089 - ETA: 4s - loss: 9.1895 - mse: 9.177 - ETA: 4s - loss: 9.1500 - mse: 9.137 - ETA: 4s - loss: 9.1968 - mse: 9.184 - ETA: 4s - loss: 9.1651 - mse: 9.152 - ETA: 4s - loss: 9.3018 - mse: 9.289 - ETA: 4s - loss: 9.3479 - mse: 9.335 - ETA: 4s - loss: 9.3167 - mse: 9.304 - ETA: 4s - loss: 9.2796 - mse: 9.267 - ETA: 4s - loss: 9.2410 - mse: 9.228 - ETA: 4s - loss: 9.2339 - mse: 9.221 - ETA: 4s - loss: 9.2017 - mse: 9.189 - ETA: 4s - loss: 9.1920 - mse: 9.179 - ETA: 4s - loss: 9.1792 - mse: 9.166 - ETA: 3s - loss: 9.1578 - mse: 9.144 - ETA: 3s - loss: 9.1251 - mse: 9.112 - ETA: 3s - loss: 9.2198 - mse: 9.206 - ETA: 3s - loss: 9.1885 - mse: 9.175 - ETA: 3s - loss: 9.1420 - mse: 9.128 - ETA: 3s - loss: 9.1069 - mse: 9.093 - ETA: 3s - loss: 9.1324 - mse: 9.119 - ETA: 3s - loss: 9.0915 - mse: 9.078 - ETA: 3s - loss: 9.0664 - mse: 9.052 - ETA: 3s - loss: 9.0369 - mse: 9.023 - ETA: 3s - loss: 9.0501 - mse: 9.036 - ETA: 3s - loss: 9.0106 - mse: 8.997 - ETA: 2s - loss: 8.9649 - mse: 8.951 - ETA: 2s - loss: 8.9403 - mse: 8.926 - ETA: 2s - loss: 8.8968 - mse: 8.883 - ETA: 2s - loss: 8.8756 - mse: 8.861 - ETA: 2s - loss: 8.8474 - mse: 8.833 - ETA: 2s - loss: 8.8024 - mse: 8.788 - ETA: 2s - loss: 8.8856 - mse: 8.871 - ETA: 2s - loss: 8.8674 - mse: 8.853 - ETA: 2s - loss: 9.1084 - mse: 9.094 - ETA: 2s - loss: 9.1677 - mse: 9.153 - ETA: 2s - loss: 9.2587 - mse: 9.244 - ETA: 2s - loss: 9.2269 - mse: 9.212 - ETA: 2s - loss: 9.2342 - mse: 9.219 - ETA: 2s - loss: 9.2093 - mse: 9.194 - ETA: 1s - loss: 9.1621 - mse: 9.147 - ETA: 1s - loss: 9.1303 - mse: 9.115 - ETA: 1s - loss: 9.1329 - mse: 9.118 - ETA: 1s - loss: 9.1069 - mse: 9.092 - ETA: 1s - loss: 9.1207 - mse: 9.105 - ETA: 1s - loss: 9.0855 - mse: 9.070 - ETA: 1s - loss: 9.0628 - mse: 9.047 - ETA: 1s - loss: 9.0354 - mse: 9.020 - ETA: 1s - loss: 9.0067 - mse: 8.991 - ETA: 1s - loss: 8.9879 - mse: 8.972 - ETA: 1s - loss: 8.9705 - mse: 8.955 - ETA: 1s - loss: 8.9948 - mse: 8.979 - ETA: 1s - loss: 8.9886 - mse: 8.973 - ETA: 1s - loss: 9.2723 - mse: 9.257 - ETA: 1s - loss: 9.2421 - mse: 9.226 - ETA: 0s - loss: 9.2234 - mse: 9.20805300554/5300554 [==============================] - ETA: 0s - loss: 9.1800 - mse: 9.164 - ETA: 0s - loss: 9.1691 - mse: 9.153 - ETA: 0s - loss: 9.1705 - mse: 9.155 - ETA: 0s - loss: 9.1478 - mse: 9.132 - ETA: 0s - loss: 9.1730 - mse: 9.157 - ETA: 0s - loss: 9.1578 - mse: 9.142 - ETA: 0s - loss: 9.1297 - mse: 9.114 - ETA: 0s - loss: 9.1651 - mse: 9.149 - ETA: 0s - loss: 9.1521 - mse: 9.136 - ETA: 0s - loss: 9.1210 - mse: 9.105 - ETA: 0s - loss: 9.0871 - mse: 9.071 - ETA: 0s - loss: 9.2808 - mse: 9.264 - ETA: 0s - loss: 9.2547 - mse: 9.238 - ETA: 0s - loss: 9.2402 - mse: 9.224 - ETA: 0s - loss: 9.2116 - mse: 9.195 - 15s 3us/step - loss: 9.2360 - mse: 9.2198\n",
      "Epoch 2/5\n"
     ]
    },
    {
     "name": "stdout",
     "output_type": "stream",
     "text": [
      "5180000/5300554 [============================>.] - ETA: 4:19 - loss: 3.9419 - mse: 3.913 - ETA: 1:35 - loss: 2.5481 - mse: 2.519 - ETA: 1:02 - loss: 5.1907 - mse: 5.162 - ETA: 48s - loss: 5.1705 - mse: 5.142 - ETA: 40s - loss: 4.5864 - mse: 4.55 - ETA: 36s - loss: 4.2979 - mse: 4.26 - ETA: 31s - loss: 7.2491 - mse: 7.22 - ETA: 28s - loss: 16.3600 - mse: 16.33 - ETA: 26s - loss: 17.6196 - mse: 17.59 - ETA: 24s - loss: 15.4561 - mse: 15.42 - ETA: 23s - loss: 17.1187 - mse: 17.08 - ETA: 22s - loss: 16.6253 - mse: 16.59 - ETA: 21s - loss: 15.6753 - mse: 15.64 - ETA: 20s - loss: 14.7434 - mse: 14.71 - ETA: 19s - loss: 14.4641 - mse: 14.43 - ETA: 19s - loss: 13.9571 - mse: 13.92 - ETA: 18s - loss: 13.2357 - mse: 13.20 - ETA: 18s - loss: 14.0973 - mse: 14.06 - ETA: 17s - loss: 13.3240 - mse: 13.29 - ETA: 17s - loss: 12.9275 - mse: 12.89 - ETA: 17s - loss: 12.4705 - mse: 12.44 - ETA: 17s - loss: 12.0659 - mse: 12.03 - ETA: 16s - loss: 11.5023 - mse: 11.47 - ETA: 16s - loss: 11.3715 - mse: 11.34 - ETA: 16s - loss: 11.1112 - mse: 11.08 - ETA: 16s - loss: 10.7268 - mse: 10.69 - ETA: 15s - loss: 10.5833 - mse: 10.55 - ETA: 15s - loss: 10.3871 - mse: 10.35 - ETA: 15s - loss: 10.1314 - mse: 10.10 - ETA: 15s - loss: 9.9844 - mse: 9.9542 - ETA: 15s - loss: 9.8553 - mse: 9.82 - ETA: 14s - loss: 10.4348 - mse: 10.40 - ETA: 14s - loss: 10.4861 - mse: 10.45 - ETA: 14s - loss: 10.2928 - mse: 10.26 - ETA: 14s - loss: 10.1148 - mse: 10.08 - ETA: 14s - loss: 9.9664 - mse: 9.9358 - ETA: 14s - loss: 10.2834 - mse: 10.25 - ETA: 13s - loss: 10.1577 - mse: 10.12 - ETA: 13s - loss: 10.8643 - mse: 10.83 - ETA: 13s - loss: 10.7372 - mse: 10.70 - ETA: 13s - loss: 10.5597 - mse: 10.52 - ETA: 13s - loss: 10.5596 - mse: 10.52 - ETA: 13s - loss: 10.3169 - mse: 10.28 - ETA: 12s - loss: 10.0831 - mse: 10.05 - ETA: 12s - loss: 9.8552 - mse: 9.8238 - ETA: 12s - loss: 9.6616 - mse: 9.63 - ETA: 12s - loss: 9.6096 - mse: 9.57 - ETA: 12s - loss: 9.5223 - mse: 9.49 - ETA: 12s - loss: 9.4131 - mse: 9.38 - ETA: 12s - loss: 9.2969 - mse: 9.26 - ETA: 12s - loss: 9.1170 - mse: 9.08 - ETA: 11s - loss: 9.1454 - mse: 9.11 - ETA: 11s - loss: 9.0352 - mse: 9.00 - ETA: 11s - loss: 8.9331 - mse: 8.90 - ETA: 11s - loss: 8.7966 - mse: 8.76 - ETA: 11s - loss: 8.7764 - mse: 8.74 - ETA: 11s - loss: 8.7176 - mse: 8.68 - ETA: 11s - loss: 8.9850 - mse: 8.95 - ETA: 11s - loss: 8.9545 - mse: 8.92 - ETA: 11s - loss: 8.8632 - mse: 8.83 - ETA: 11s - loss: 9.1032 - mse: 9.07 - ETA: 10s - loss: 9.0253 - mse: 8.99 - ETA: 10s - loss: 9.0290 - mse: 8.99 - ETA: 10s - loss: 8.9736 - mse: 8.94 - ETA: 10s - loss: 9.0478 - mse: 9.01 - ETA: 10s - loss: 9.2340 - mse: 9.20 - ETA: 10s - loss: 9.1440 - mse: 9.11 - ETA: 10s - loss: 9.0771 - mse: 9.04 - ETA: 10s - loss: 8.9974 - mse: 8.96 - ETA: 10s - loss: 8.9171 - mse: 8.88 - ETA: 10s - loss: 8.8483 - mse: 8.81 - ETA: 10s - loss: 9.1764 - mse: 9.14 - ETA: 10s - loss: 9.1460 - mse: 9.11 - ETA: 9s - loss: 9.0593 - mse: 9.0251 - ETA: 9s - loss: 9.0108 - mse: 8.976 - ETA: 9s - loss: 8.9868 - mse: 8.952 - ETA: 9s - loss: 9.1401 - mse: 9.105 - ETA: 9s - loss: 9.0601 - mse: 9.025 - ETA: 9s - loss: 8.9933 - mse: 8.958 - ETA: 9s - loss: 8.9032 - mse: 8.868 - ETA: 9s - loss: 8.8562 - mse: 8.821 - ETA: 9s - loss: 8.7977 - mse: 8.762 - ETA: 9s - loss: 8.7176 - mse: 8.682 - ETA: 9s - loss: 8.7128 - mse: 8.677 - ETA: 8s - loss: 8.6671 - mse: 8.631 - ETA: 8s - loss: 8.6221 - mse: 8.586 - ETA: 8s - loss: 8.6758 - mse: 8.640 - ETA: 8s - loss: 8.6127 - mse: 8.576 - ETA: 8s - loss: 8.5750 - mse: 8.539 - ETA: 8s - loss: 8.5157 - mse: 8.479 - ETA: 8s - loss: 8.4631 - mse: 8.427 - ETA: 8s - loss: 8.4326 - mse: 8.396 - ETA: 8s - loss: 8.4045 - mse: 8.368 - ETA: 8s - loss: 8.3351 - mse: 8.298 - ETA: 8s - loss: 8.2761 - mse: 8.239 - ETA: 8s - loss: 8.2297 - mse: 8.193 - ETA: 8s - loss: 8.1916 - mse: 8.154 - ETA: 8s - loss: 8.4995 - mse: 8.462 - ETA: 7s - loss: 8.4238 - mse: 8.386 - ETA: 7s - loss: 8.3746 - mse: 8.337 - ETA: 7s - loss: 8.2960 - mse: 8.258 - ETA: 7s - loss: 8.2387 - mse: 8.201 - ETA: 7s - loss: 8.1951 - mse: 8.157 - ETA: 7s - loss: 8.1480 - mse: 8.110 - ETA: 7s - loss: 8.1103 - mse: 8.072 - ETA: 7s - loss: 8.0802 - mse: 8.042 - ETA: 7s - loss: 8.1358 - mse: 8.098 - ETA: 7s - loss: 8.1046 - mse: 8.066 - ETA: 7s - loss: 8.1254 - mse: 8.087 - ETA: 7s - loss: 8.1296 - mse: 8.091 - ETA: 7s - loss: 8.0885 - mse: 8.050 - ETA: 6s - loss: 8.0597 - mse: 8.021 - ETA: 6s - loss: 8.0300 - mse: 7.991 - ETA: 6s - loss: 8.0172 - mse: 7.978 - ETA: 6s - loss: 8.0527 - mse: 8.014 - ETA: 6s - loss: 8.0409 - mse: 8.002 - ETA: 6s - loss: 8.0202 - mse: 7.981 - ETA: 6s - loss: 8.0505 - mse: 8.012 - ETA: 6s - loss: 8.0733 - mse: 8.034 - ETA: 6s - loss: 8.0316 - mse: 7.992 - ETA: 6s - loss: 8.0544 - mse: 8.015 - ETA: 6s - loss: 8.0188 - mse: 7.980 - ETA: 6s - loss: 8.0202 - mse: 7.981 - ETA: 6s - loss: 8.4184 - mse: 8.379 - ETA: 6s - loss: 8.4066 - mse: 8.367 - ETA: 6s - loss: 8.4031 - mse: 8.364 - ETA: 6s - loss: 8.3739 - mse: 8.334 - ETA: 6s - loss: 8.3550 - mse: 8.315 - ETA: 6s - loss: 8.3258 - mse: 8.286 - ETA: 6s - loss: 8.5593 - mse: 8.520 - ETA: 6s - loss: 8.5351 - mse: 8.495 - ETA: 5s - loss: 8.4868 - mse: 8.447 - ETA: 5s - loss: 8.4601 - mse: 8.420 - ETA: 5s - loss: 8.4133 - mse: 8.373 - ETA: 5s - loss: 8.3844 - mse: 8.344 - ETA: 5s - loss: 8.3945 - mse: 8.354 - ETA: 5s - loss: 8.4080 - mse: 8.368 - ETA: 5s - loss: 8.3672 - mse: 8.327 - ETA: 5s - loss: 8.3428 - mse: 8.302 - ETA: 5s - loss: 8.3209 - mse: 8.280 - ETA: 5s - loss: 8.2691 - mse: 8.229 - ETA: 5s - loss: 8.2377 - mse: 8.197 - ETA: 5s - loss: 8.1886 - mse: 8.148 - ETA: 5s - loss: 8.1362 - mse: 8.095 - ETA: 5s - loss: 8.1194 - mse: 8.078 - ETA: 5s - loss: 8.0871 - mse: 8.046 - ETA: 5s - loss: 8.0870 - mse: 8.046 - ETA: 5s - loss: 8.0668 - mse: 8.026 - ETA: 4s - loss: 8.0349 - mse: 7.994 - ETA: 4s - loss: 8.1343 - mse: 8.093 - ETA: 4s - loss: 8.1155 - mse: 8.074 - ETA: 4s - loss: 8.1115 - mse: 8.070 - ETA: 4s - loss: 8.1064 - mse: 8.065 - ETA: 4s - loss: 8.1402 - mse: 8.099 - ETA: 4s - loss: 8.1309 - mse: 8.089 - ETA: 4s - loss: 8.1240 - mse: 8.082 - ETA: 4s - loss: 8.0829 - mse: 8.041 - ETA: 4s - loss: 8.0440 - mse: 8.002 - ETA: 4s - loss: 8.0055 - mse: 7.963 - ETA: 4s - loss: 7.9955 - mse: 7.953 - ETA: 4s - loss: 7.9802 - mse: 7.938 - ETA: 3s - loss: 7.9810 - mse: 7.939 - ETA: 3s - loss: 8.0308 - mse: 7.988 - ETA: 3s - loss: 8.2015 - mse: 8.159 - ETA: 3s - loss: 8.1794 - mse: 8.137 - ETA: 3s - loss: 8.1550 - mse: 8.112 - ETA: 3s - loss: 8.1664 - mse: 8.124 - ETA: 3s - loss: 8.1381 - mse: 8.095 - ETA: 3s - loss: 8.1017 - mse: 8.059 - ETA: 3s - loss: 8.0846 - mse: 8.042 - ETA: 3s - loss: 8.0691 - mse: 8.026 - ETA: 3s - loss: 8.0458 - mse: 8.002 - ETA: 3s - loss: 8.0353 - mse: 7.992 - ETA: 3s - loss: 8.0103 - mse: 7.967 - ETA: 3s - loss: 8.0091 - mse: 7.966 - ETA: 2s - loss: 8.0057 - mse: 7.962 - ETA: 2s - loss: 8.0206 - mse: 7.977 - ETA: 2s - loss: 7.9972 - mse: 7.953 - ETA: 2s - loss: 7.9638 - mse: 7.920 - ETA: 2s - loss: 7.9395 - mse: 7.895 - ETA: 2s - loss: 7.9189 - mse: 7.875 - ETA: 2s - loss: 7.8838 - mse: 7.840 - ETA: 2s - loss: 7.8629 - mse: 7.819 - ETA: 2s - loss: 7.8273 - mse: 7.783 - ETA: 2s - loss: 7.8026 - mse: 7.758 - ETA: 2s - loss: 7.7755 - mse: 7.731 - ETA: 2s - loss: 7.7588 - mse: 7.714 - ETA: 2s - loss: 7.7449 - mse: 7.700 - ETA: 2s - loss: 7.7076 - mse: 7.663 - ETA: 1s - loss: 7.6767 - mse: 7.632 - ETA: 1s - loss: 7.6670 - mse: 7.622 - ETA: 1s - loss: 7.6430 - mse: 7.598 - ETA: 1s - loss: 7.6186 - mse: 7.573 - ETA: 1s - loss: 7.6027 - mse: 7.557 - ETA: 1s - loss: 7.6013 - mse: 7.556 - ETA: 1s - loss: 7.5759 - mse: 7.530 - ETA: 1s - loss: 7.8023 - mse: 7.757 - ETA: 1s - loss: 7.7781 - mse: 7.732 - ETA: 1s - loss: 7.7577 - mse: 7.712 - ETA: 1s - loss: 7.7396 - mse: 7.694 - ETA: 1s - loss: 7.7373 - mse: 7.691 - ETA: 1s - loss: 7.7326 - mse: 7.687 - ETA: 1s - loss: 7.7216 - mse: 7.676 - ETA: 0s - loss: 7.6914 - mse: 7.645 - ETA: 0s - loss: 7.6615 - mse: 7.615 - ETA: 0s - loss: 7.6468 - mse: 7.601 - ETA: 0s - loss: 7.6194 - mse: 7.573 - ETA: 0s - loss: 7.5999 - mse: 7.554 - ETA: 0s - loss: 7.5827 - mse: 7.536 - ETA: 0s - loss: 7.5661 - mse: 7.520 - ETA: 0s - loss: 7.5965 - mse: 7.550 - ETA: 0s - loss: 7.6252 - mse: 7.579 - ETA: 0s - loss: 7.6239 - mse: 7.5776"
     ]
    },
    {
     "name": "stdout",
     "output_type": "stream",
     "text": [
      "5300554/5300554 [==============================] - ETA: 0s - loss: 7.5966 - mse: 7.550 - ETA: 0s - loss: 7.5712 - mse: 7.524 - ETA: 0s - loss: 7.5514 - mse: 7.504 - ETA: 0s - loss: 7.5647 - mse: 7.518 - ETA: 0s - loss: 7.5506 - mse: 7.503 - 14s 3us/step - loss: 7.5499 - mse: 7.5033\n",
      "Epoch 3/5\n",
      "5300554/5300554 [==============================] - ETA: 4:06 - loss: 4.6933 - mse: 4.630 - ETA: 1:32 - loss: 3.6423 - mse: 3.579 - ETA: 52s - loss: 5.4359 - mse: 5.373 - ETA: 39s - loss: 4.6980 - mse: 4.63 - ETA: 32s - loss: 4.9812 - mse: 4.91 - ETA: 28s - loss: 5.4568 - mse: 5.39 - ETA: 25s - loss: 5.8084 - mse: 5.74 - ETA: 23s - loss: 5.4774 - mse: 5.41 - ETA: 22s - loss: 5.2689 - mse: 5.20 - ETA: 21s - loss: 5.5521 - mse: 5.48 - ETA: 20s - loss: 5.3833 - mse: 5.32 - ETA: 20s - loss: 5.1609 - mse: 5.09 - ETA: 19s - loss: 5.1469 - mse: 5.08 - ETA: 18s - loss: 5.2432 - mse: 5.18 - ETA: 18s - loss: 6.8191 - mse: 6.75 - ETA: 18s - loss: 6.7954 - mse: 6.73 - ETA: 17s - loss: 7.3876 - mse: 7.32 - ETA: 17s - loss: 7.3944 - mse: 7.33 - ETA: 17s - loss: 7.2190 - mse: 7.15 - ETA: 17s - loss: 7.2102 - mse: 7.14 - ETA: 16s - loss: 7.5713 - mse: 7.50 - ETA: 16s - loss: 7.3357 - mse: 7.27 - ETA: 16s - loss: 8.6162 - mse: 8.55 - ETA: 16s - loss: 8.4238 - mse: 8.36 - ETA: 15s - loss: 8.4739 - mse: 8.41 - ETA: 15s - loss: 8.1546 - mse: 8.09 - ETA: 15s - loss: 8.0733 - mse: 8.01 - ETA: 15s - loss: 7.9164 - mse: 7.85 - ETA: 15s - loss: 7.8135 - mse: 7.75 - ETA: 14s - loss: 7.6947 - mse: 7.63 - ETA: 14s - loss: 8.0820 - mse: 8.01 - ETA: 14s - loss: 7.9011 - mse: 7.83 - ETA: 14s - loss: 7.7601 - mse: 7.69 - ETA: 14s - loss: 7.6778 - mse: 7.61 - ETA: 14s - loss: 7.6491 - mse: 7.58 - ETA: 14s - loss: 7.6942 - mse: 7.63 - ETA: 14s - loss: 7.5854 - mse: 7.52 - ETA: 13s - loss: 7.4891 - mse: 7.42 - ETA: 13s - loss: 7.7574 - mse: 7.69 - ETA: 13s - loss: 7.7000 - mse: 7.63 - ETA: 13s - loss: 8.8802 - mse: 8.81 - ETA: 13s - loss: 8.7547 - mse: 8.69 - ETA: 13s - loss: 8.6473 - mse: 8.58 - ETA: 13s - loss: 8.4725 - mse: 8.40 - ETA: 13s - loss: 8.4564 - mse: 8.39 - ETA: 12s - loss: 8.3754 - mse: 8.31 - ETA: 12s - loss: 8.3388 - mse: 8.27 - ETA: 12s - loss: 8.2455 - mse: 8.18 - ETA: 12s - loss: 8.2205 - mse: 8.15 - ETA: 12s - loss: 8.1128 - mse: 8.04 - ETA: 12s - loss: 8.1970 - mse: 8.13 - ETA: 12s - loss: 8.1001 - mse: 8.03 - ETA: 12s - loss: 8.0596 - mse: 7.99 - ETA: 12s - loss: 8.0220 - mse: 7.95 - ETA: 12s - loss: 7.9391 - mse: 7.87 - ETA: 12s - loss: 7.8162 - mse: 7.75 - ETA: 11s - loss: 7.7589 - mse: 7.69 - ETA: 11s - loss: 7.6485 - mse: 7.58 - ETA: 11s - loss: 7.6605 - mse: 7.59 - ETA: 11s - loss: 8.1802 - mse: 8.11 - ETA: 11s - loss: 8.0650 - mse: 7.99 - ETA: 11s - loss: 7.9563 - mse: 7.89 - ETA: 11s - loss: 7.9135 - mse: 7.84 - ETA: 11s - loss: 8.1396 - mse: 8.07 - ETA: 11s - loss: 8.1444 - mse: 8.07 - ETA: 11s - loss: 8.0761 - mse: 8.01 - ETA: 10s - loss: 8.0511 - mse: 7.98 - ETA: 10s - loss: 8.0246 - mse: 7.95 - ETA: 10s - loss: 7.9782 - mse: 7.91 - ETA: 10s - loss: 8.2044 - mse: 8.13 - ETA: 10s - loss: 8.0918 - mse: 8.02 - ETA: 10s - loss: 8.0083 - mse: 7.94 - ETA: 10s - loss: 8.1519 - mse: 8.08 - ETA: 10s - loss: 8.0734 - mse: 8.00 - ETA: 10s - loss: 8.0447 - mse: 7.97 - ETA: 10s - loss: 7.9804 - mse: 7.91 - ETA: 10s - loss: 7.9234 - mse: 7.85 - ETA: 10s - loss: 7.8647 - mse: 7.79 - ETA: 10s - loss: 7.8115 - mse: 7.74 - ETA: 9s - loss: 7.7708 - mse: 7.7038 - ETA: 9s - loss: 7.7606 - mse: 7.693 - ETA: 9s - loss: 7.7074 - mse: 7.640 - ETA: 9s - loss: 7.6994 - mse: 7.632 - ETA: 9s - loss: 7.6687 - mse: 7.601 - ETA: 9s - loss: 7.7236 - mse: 7.656 - ETA: 9s - loss: 7.6587 - mse: 7.591 - ETA: 9s - loss: 7.6132 - mse: 7.545 - ETA: 9s - loss: 7.5727 - mse: 7.505 - ETA: 9s - loss: 7.4991 - mse: 7.431 - ETA: 9s - loss: 7.5324 - mse: 7.464 - ETA: 8s - loss: 7.5833 - mse: 7.515 - ETA: 8s - loss: 7.5177 - mse: 7.449 - ETA: 8s - loss: 7.4688 - mse: 7.400 - ETA: 8s - loss: 7.4275 - mse: 7.359 - ETA: 8s - loss: 7.4124 - mse: 7.344 - ETA: 8s - loss: 7.3570 - mse: 7.288 - ETA: 8s - loss: 7.3345 - mse: 7.266 - ETA: 8s - loss: 7.2897 - mse: 7.221 - ETA: 8s - loss: 7.2643 - mse: 7.195 - ETA: 8s - loss: 7.2393 - mse: 7.170 - ETA: 8s - loss: 7.1840 - mse: 7.115 - ETA: 8s - loss: 7.1345 - mse: 7.065 - ETA: 8s - loss: 7.1313 - mse: 7.062 - ETA: 7s - loss: 7.1574 - mse: 7.088 - ETA: 7s - loss: 7.1260 - mse: 7.056 - ETA: 7s - loss: 7.1586 - mse: 7.089 - ETA: 7s - loss: 7.1060 - mse: 7.036 - ETA: 7s - loss: 7.0786 - mse: 7.009 - ETA: 7s - loss: 7.0731 - mse: 7.003 - ETA: 7s - loss: 7.0341 - mse: 6.964 - ETA: 7s - loss: 7.0438 - mse: 6.974 - ETA: 7s - loss: 7.0116 - mse: 6.942 - ETA: 7s - loss: 6.9842 - mse: 6.914 - ETA: 7s - loss: 6.9491 - mse: 6.879 - ETA: 7s - loss: 6.8996 - mse: 6.829 - ETA: 7s - loss: 6.8739 - mse: 6.804 - ETA: 6s - loss: 6.8380 - mse: 6.768 - ETA: 6s - loss: 6.8285 - mse: 6.758 - ETA: 6s - loss: 6.8785 - mse: 6.808 - ETA: 6s - loss: 6.8409 - mse: 6.770 - ETA: 6s - loss: 6.8149 - mse: 6.744 - ETA: 6s - loss: 6.7889 - mse: 6.718 - ETA: 6s - loss: 6.7778 - mse: 6.707 - ETA: 6s - loss: 6.7421 - mse: 6.671 - ETA: 6s - loss: 6.8684 - mse: 6.798 - ETA: 6s - loss: 6.8408 - mse: 6.770 - ETA: 6s - loss: 6.8231 - mse: 6.752 - ETA: 6s - loss: 7.0132 - mse: 6.942 - ETA: 6s - loss: 6.9891 - mse: 6.918 - ETA: 5s - loss: 6.9504 - mse: 6.879 - ETA: 5s - loss: 6.9112 - mse: 6.840 - ETA: 5s - loss: 6.9154 - mse: 6.844 - ETA: 5s - loss: 6.9048 - mse: 6.834 - ETA: 5s - loss: 6.9137 - mse: 6.842 - ETA: 5s - loss: 6.9136 - mse: 6.842 - ETA: 5s - loss: 6.8874 - mse: 6.816 - ETA: 5s - loss: 6.8695 - mse: 6.798 - ETA: 5s - loss: 6.8598 - mse: 6.788 - ETA: 5s - loss: 7.2925 - mse: 7.221 - ETA: 5s - loss: 7.3788 - mse: 7.307 - ETA: 5s - loss: 7.3554 - mse: 7.284 - ETA: 5s - loss: 7.3297 - mse: 7.258 - ETA: 5s - loss: 7.3051 - mse: 7.233 - ETA: 4s - loss: 7.3028 - mse: 7.231 - ETA: 4s - loss: 7.6285 - mse: 7.557 - ETA: 4s - loss: 7.6052 - mse: 7.533 - ETA: 4s - loss: 7.5880 - mse: 7.516 - ETA: 4s - loss: 7.5730 - mse: 7.501 - ETA: 4s - loss: 7.6685 - mse: 7.597 - ETA: 4s - loss: 7.6486 - mse: 7.576 - ETA: 4s - loss: 7.6098 - mse: 7.538 - ETA: 4s - loss: 7.5844 - mse: 7.512 - ETA: 4s - loss: 7.5852 - mse: 7.513 - ETA: 4s - loss: 7.5884 - mse: 7.516 - ETA: 4s - loss: 7.5527 - mse: 7.480 - ETA: 4s - loss: 7.5102 - mse: 7.438 - ETA: 3s - loss: 7.4759 - mse: 7.403 - ETA: 3s - loss: 7.4874 - mse: 7.415 - ETA: 3s - loss: 7.4595 - mse: 7.387 - ETA: 3s - loss: 7.4214 - mse: 7.349 - ETA: 3s - loss: 7.4161 - mse: 7.343 - ETA: 3s - loss: 7.3944 - mse: 7.321 - ETA: 3s - loss: 7.3890 - mse: 7.316 - ETA: 3s - loss: 7.3570 - mse: 7.284 - ETA: 3s - loss: 7.3225 - mse: 7.249 - ETA: 3s - loss: 7.2977 - mse: 7.225 - ETA: 3s - loss: 7.2595 - mse: 7.186 - ETA: 3s - loss: 7.2338 - mse: 7.161 - ETA: 3s - loss: 7.2131 - mse: 7.140 - ETA: 3s - loss: 7.1806 - mse: 7.107 - ETA: 2s - loss: 7.1581 - mse: 7.085 - ETA: 2s - loss: 7.1265 - mse: 7.053 - ETA: 2s - loss: 7.1072 - mse: 7.034 - ETA: 2s - loss: 7.0995 - mse: 7.026 - ETA: 2s - loss: 7.0750 - mse: 7.001 - ETA: 2s - loss: 7.0738 - mse: 7.000 - ETA: 2s - loss: 7.0410 - mse: 6.967 - ETA: 2s - loss: 7.0337 - mse: 6.960 - ETA: 2s - loss: 7.0120 - mse: 6.938 - ETA: 2s - loss: 6.9985 - mse: 6.925 - ETA: 2s - loss: 7.1081 - mse: 7.034 - ETA: 2s - loss: 7.0790 - mse: 7.005 - ETA: 2s - loss: 7.1117 - mse: 7.038 - ETA: 2s - loss: 7.0932 - mse: 7.019 - ETA: 2s - loss: 7.0717 - mse: 6.998 - ETA: 1s - loss: 7.0497 - mse: 6.976 - ETA: 1s - loss: 7.0240 - mse: 6.950 - ETA: 1s - loss: 7.0009 - mse: 6.927 - ETA: 1s - loss: 6.9846 - mse: 6.910 - ETA: 1s - loss: 6.9982 - mse: 6.924 - ETA: 1s - loss: 6.9813 - mse: 6.907 - ETA: 1s - loss: 6.9519 - mse: 6.877 - ETA: 1s - loss: 6.9922 - mse: 6.918 - ETA: 1s - loss: 6.9868 - mse: 6.912 - ETA: 1s - loss: 6.9603 - mse: 6.886 - ETA: 1s - loss: 6.9330 - mse: 6.858 - ETA: 1s - loss: 6.9117 - mse: 6.837 - ETA: 1s - loss: 6.8994 - mse: 6.824 - ETA: 0s - loss: 6.8823 - mse: 6.807 - ETA: 0s - loss: 6.8681 - mse: 6.793 - ETA: 0s - loss: 6.8900 - mse: 6.815 - ETA: 0s - loss: 6.9688 - mse: 6.894 - ETA: 0s - loss: 6.9570 - mse: 6.882 - ETA: 0s - loss: 6.9327 - mse: 6.857 - ETA: 0s - loss: 6.9424 - mse: 6.867 - ETA: 0s - loss: 6.9321 - mse: 6.857 - ETA: 0s - loss: 6.9096 - mse: 6.834 - ETA: 0s - loss: 6.9034 - mse: 6.828 - ETA: 0s - loss: 6.8766 - mse: 6.801 - ETA: 0s - loss: 6.8551 - mse: 6.779 - ETA: 0s - loss: 6.8505 - mse: 6.775 - ETA: 0s - loss: 6.8417 - mse: 6.766 - ETA: 0s - loss: 6.8363 - mse: 6.760 - ETA: 0s - loss: 6.8763 - mse: 6.800 - 14s 3us/step - loss: 6.8758 - mse: 6.8003\n"
     ]
    },
    {
     "name": "stdout",
     "output_type": "stream",
     "text": [
      "Epoch 4/5\n"
     ]
    },
    {
     "name": "stdout",
     "output_type": "stream",
     "text": [
      "5210000/5300554 [============================>.] - ETA: 3:59 - loss: 4.9056 - mse: 4.816 - ETA: 1:29 - loss: 4.6468 - mse: 4.557 - ETA: 51s - loss: 5.3542 - mse: 5.264 - ETA: 38s - loss: 4.9213 - mse: 4.83 - ETA: 34s - loss: 4.6392 - mse: 4.54 - ETA: 31s - loss: 4.4085 - mse: 4.31 - ETA: 28s - loss: 4.0991 - mse: 4.00 - ETA: 25s - loss: 3.9300 - mse: 3.84 - ETA: 24s - loss: 3.8531 - mse: 3.76 - ETA: 22s - loss: 3.7445 - mse: 3.65 - ETA: 22s - loss: 3.9010 - mse: 3.81 - ETA: 21s - loss: 4.1276 - mse: 4.03 - ETA: 20s - loss: 4.0150 - mse: 3.92 - ETA: 19s - loss: 3.9950 - mse: 3.90 - ETA: 19s - loss: 4.1632 - mse: 4.07 - ETA: 18s - loss: 4.0994 - mse: 4.00 - ETA: 18s - loss: 4.6013 - mse: 4.51 - ETA: 17s - loss: 5.2476 - mse: 5.15 - ETA: 17s - loss: 5.2295 - mse: 5.13 - ETA: 17s - loss: 5.2255 - mse: 5.13 - ETA: 17s - loss: 5.1782 - mse: 5.08 - ETA: 16s - loss: 5.1178 - mse: 5.02 - ETA: 16s - loss: 4.9963 - mse: 4.90 - ETA: 16s - loss: 5.1228 - mse: 5.03 - ETA: 15s - loss: 5.0839 - mse: 4.99 - ETA: 15s - loss: 4.9954 - mse: 4.90 - ETA: 15s - loss: 4.9947 - mse: 4.90 - ETA: 15s - loss: 4.9161 - mse: 4.82 - ETA: 15s - loss: 4.8602 - mse: 4.76 - ETA: 15s - loss: 4.8333 - mse: 4.74 - ETA: 14s - loss: 4.8350 - mse: 4.74 - ETA: 14s - loss: 4.7587 - mse: 4.66 - ETA: 14s - loss: 4.7830 - mse: 4.69 - ETA: 14s - loss: 4.7906 - mse: 4.69 - ETA: 14s - loss: 4.7707 - mse: 4.67 - ETA: 14s - loss: 4.7065 - mse: 4.61 - ETA: 14s - loss: 4.6589 - mse: 4.56 - ETA: 13s - loss: 4.7606 - mse: 4.66 - ETA: 13s - loss: 4.7698 - mse: 4.67 - ETA: 13s - loss: 4.7157 - mse: 4.62 - ETA: 13s - loss: 4.6985 - mse: 4.60 - ETA: 13s - loss: 4.6824 - mse: 4.58 - ETA: 13s - loss: 4.6808 - mse: 4.58 - ETA: 13s - loss: 4.7210 - mse: 4.62 - ETA: 12s - loss: 4.8463 - mse: 4.75 - ETA: 12s - loss: 4.8520 - mse: 4.75 - ETA: 12s - loss: 4.7952 - mse: 4.70 - ETA: 12s - loss: 4.7835 - mse: 4.69 - ETA: 12s - loss: 4.7458 - mse: 4.65 - ETA: 12s - loss: 4.7046 - mse: 4.61 - ETA: 12s - loss: 4.6788 - mse: 4.58 - ETA: 12s - loss: 4.6361 - mse: 4.54 - ETA: 12s - loss: 4.5900 - mse: 4.49 - ETA: 11s - loss: 4.5626 - mse: 4.46 - ETA: 11s - loss: 4.5786 - mse: 4.48 - ETA: 11s - loss: 4.8032 - mse: 4.70 - ETA: 11s - loss: 4.8142 - mse: 4.72 - ETA: 11s - loss: 4.7776 - mse: 4.68 - ETA: 11s - loss: 4.7379 - mse: 4.64 - ETA: 11s - loss: 4.7492 - mse: 4.65 - ETA: 11s - loss: 4.7188 - mse: 4.62 - ETA: 11s - loss: 4.6996 - mse: 4.60 - ETA: 11s - loss: 4.6761 - mse: 4.58 - ETA: 11s - loss: 4.6419 - mse: 4.54 - ETA: 11s - loss: 4.6070 - mse: 4.51 - ETA: 10s - loss: 4.5609 - mse: 4.46 - ETA: 10s - loss: 4.5483 - mse: 4.45 - ETA: 10s - loss: 4.5207 - mse: 4.42 - ETA: 10s - loss: 4.5578 - mse: 4.46 - ETA: 10s - loss: 4.5484 - mse: 4.45 - ETA: 10s - loss: 4.5937 - mse: 4.49 - ETA: 10s - loss: 4.5854 - mse: 4.49 - ETA: 10s - loss: 4.5424 - mse: 4.44 - ETA: 10s - loss: 4.5160 - mse: 4.42 - ETA: 10s - loss: 4.4965 - mse: 4.40 - ETA: 10s - loss: 4.5220 - mse: 4.42 - ETA: 10s - loss: 4.5067 - mse: 4.41 - ETA: 9s - loss: 4.5275 - mse: 4.4330 - ETA: 9s - loss: 4.5560 - mse: 4.461 - ETA: 9s - loss: 4.5376 - mse: 4.443 - ETA: 9s - loss: 4.5973 - mse: 4.502 - ETA: 9s - loss: 4.5963 - mse: 4.501 - ETA: 9s - loss: 5.3788 - mse: 5.284 - ETA: 9s - loss: 5.3693 - mse: 5.274 - ETA: 9s - loss: 5.4161 - mse: 5.321 - ETA: 9s - loss: 5.4753 - mse: 5.380 - ETA: 9s - loss: 5.5877 - mse: 5.493 - ETA: 9s - loss: 5.5624 - mse: 5.467 - ETA: 9s - loss: 6.1415 - mse: 6.047 - ETA: 9s - loss: 6.1347 - mse: 6.040 - ETA: 8s - loss: 6.1157 - mse: 6.021 - ETA: 8s - loss: 6.1120 - mse: 6.017 - ETA: 8s - loss: 6.0947 - mse: 6.000 - ETA: 8s - loss: 6.1156 - mse: 6.021 - ETA: 8s - loss: 6.3513 - mse: 6.256 - ETA: 8s - loss: 6.3134 - mse: 6.219 - ETA: 8s - loss: 6.2644 - mse: 6.170 - ETA: 8s - loss: 6.2323 - mse: 6.137 - ETA: 8s - loss: 6.2470 - mse: 6.152 - ETA: 8s - loss: 6.2767 - mse: 6.182 - ETA: 8s - loss: 6.4630 - mse: 6.368 - ETA: 8s - loss: 6.4117 - mse: 6.317 - ETA: 7s - loss: 6.4020 - mse: 6.307 - ETA: 7s - loss: 6.4318 - mse: 6.337 - ETA: 7s - loss: 6.4273 - mse: 6.332 - ETA: 7s - loss: 6.4073 - mse: 6.312 - ETA: 7s - loss: 6.4955 - mse: 6.400 - ETA: 7s - loss: 6.4825 - mse: 6.387 - ETA: 7s - loss: 6.4605 - mse: 6.365 - ETA: 7s - loss: 6.4209 - mse: 6.326 - ETA: 7s - loss: 6.5271 - mse: 6.432 - ETA: 7s - loss: 6.5417 - mse: 6.447 - ETA: 7s - loss: 6.5512 - mse: 6.456 - ETA: 7s - loss: 6.5552 - mse: 6.460 - ETA: 7s - loss: 6.5336 - mse: 6.439 - ETA: 7s - loss: 6.5063 - mse: 6.411 - ETA: 6s - loss: 6.4938 - mse: 6.399 - ETA: 6s - loss: 6.4763 - mse: 6.381 - ETA: 6s - loss: 6.4810 - mse: 6.386 - ETA: 6s - loss: 6.4803 - mse: 6.385 - ETA: 6s - loss: 6.4553 - mse: 6.360 - ETA: 6s - loss: 6.4160 - mse: 6.321 - ETA: 6s - loss: 6.3957 - mse: 6.301 - ETA: 6s - loss: 6.3764 - mse: 6.281 - ETA: 6s - loss: 6.3558 - mse: 6.261 - ETA: 6s - loss: 6.3324 - mse: 6.237 - ETA: 6s - loss: 6.3103 - mse: 6.215 - ETA: 6s - loss: 6.2819 - mse: 6.187 - ETA: 6s - loss: 6.2603 - mse: 6.165 - ETA: 5s - loss: 6.6797 - mse: 6.584 - ETA: 5s - loss: 6.6401 - mse: 6.545 - ETA: 5s - loss: 6.6166 - mse: 6.521 - ETA: 5s - loss: 6.5903 - mse: 6.495 - ETA: 5s - loss: 6.5894 - mse: 6.494 - ETA: 5s - loss: 6.7546 - mse: 6.659 - ETA: 5s - loss: 6.7422 - mse: 6.647 - ETA: 5s - loss: 6.7244 - mse: 6.629 - ETA: 5s - loss: 6.7044 - mse: 6.609 - ETA: 5s - loss: 6.6883 - mse: 6.593 - ETA: 5s - loss: 6.6642 - mse: 6.569 - ETA: 5s - loss: 6.6380 - mse: 6.543 - ETA: 5s - loss: 6.6278 - mse: 6.532 - ETA: 5s - loss: 6.5924 - mse: 6.497 - ETA: 5s - loss: 6.5555 - mse: 6.460 - ETA: 4s - loss: 6.5680 - mse: 6.472 - ETA: 4s - loss: 6.6160 - mse: 6.520 - ETA: 4s - loss: 6.8334 - mse: 6.738 - ETA: 4s - loss: 6.7978 - mse: 6.702 - ETA: 4s - loss: 6.7720 - mse: 6.676 - ETA: 4s - loss: 6.7633 - mse: 6.668 - ETA: 4s - loss: 6.7369 - mse: 6.641 - ETA: 4s - loss: 6.7106 - mse: 6.615 - ETA: 4s - loss: 6.6887 - mse: 6.593 - ETA: 4s - loss: 6.6656 - mse: 6.570 - ETA: 4s - loss: 6.6357 - mse: 6.540 - ETA: 4s - loss: 6.6117 - mse: 6.516 - ETA: 4s - loss: 6.5863 - mse: 6.491 - ETA: 4s - loss: 6.5672 - mse: 6.471 - ETA: 3s - loss: 6.5429 - mse: 6.447 - ETA: 3s - loss: 6.5139 - mse: 6.418 - ETA: 3s - loss: 6.5621 - mse: 6.466 - ETA: 3s - loss: 6.5526 - mse: 6.457 - ETA: 3s - loss: 6.5327 - mse: 6.437 - ETA: 3s - loss: 6.5147 - mse: 6.419 - ETA: 3s - loss: 6.6088 - mse: 6.513 - ETA: 3s - loss: 6.5912 - mse: 6.495 - ETA: 3s - loss: 6.5747 - mse: 6.479 - ETA: 3s - loss: 6.5760 - mse: 6.480 - ETA: 3s - loss: 6.5850 - mse: 6.489 - ETA: 3s - loss: 6.7265 - mse: 6.630 - ETA: 3s - loss: 6.7244 - mse: 6.628 - ETA: 3s - loss: 6.6946 - mse: 6.598 - ETA: 2s - loss: 6.7220 - mse: 6.626 - ETA: 2s - loss: 6.7245 - mse: 6.628 - ETA: 2s - loss: 6.8260 - mse: 6.730 - ETA: 2s - loss: 6.8016 - mse: 6.705 - ETA: 2s - loss: 6.7994 - mse: 6.703 - ETA: 2s - loss: 6.7684 - mse: 6.672 - ETA: 2s - loss: 6.7512 - mse: 6.655 - ETA: 2s - loss: 6.7305 - mse: 6.634 - ETA: 2s - loss: 6.7264 - mse: 6.630 - ETA: 2s - loss: 6.9740 - mse: 6.878 - ETA: 2s - loss: 6.9800 - mse: 6.884 - ETA: 2s - loss: 6.9838 - mse: 6.887 - ETA: 2s - loss: 6.9694 - mse: 6.873 - ETA: 2s - loss: 6.9514 - mse: 6.855 - ETA: 2s - loss: 6.9377 - mse: 6.841 - ETA: 1s - loss: 6.9062 - mse: 6.810 - ETA: 1s - loss: 6.8881 - mse: 6.792 - ETA: 1s - loss: 6.8726 - mse: 6.776 - ETA: 1s - loss: 6.8530 - mse: 6.756 - ETA: 1s - loss: 6.8424 - mse: 6.746 - ETA: 1s - loss: 6.8174 - mse: 6.721 - ETA: 1s - loss: 6.8143 - mse: 6.718 - ETA: 1s - loss: 6.7861 - mse: 6.689 - ETA: 1s - loss: 6.8649 - mse: 6.768 - ETA: 1s - loss: 6.8429 - mse: 6.746 - ETA: 1s - loss: 6.8228 - mse: 6.726 - ETA: 1s - loss: 6.8226 - mse: 6.726 - ETA: 1s - loss: 6.8053 - mse: 6.708 - ETA: 1s - loss: 6.8002 - mse: 6.703 - ETA: 1s - loss: 6.7888 - mse: 6.692 - ETA: 0s - loss: 6.8005 - mse: 6.704 - ETA: 0s - loss: 6.7935 - mse: 6.697 - ETA: 0s - loss: 6.7847 - mse: 6.688 - ETA: 0s - loss: 6.7715 - mse: 6.675 - ETA: 0s - loss: 6.7471 - mse: 6.650 - ETA: 0s - loss: 6.7368 - mse: 6.640 - ETA: 0s - loss: 6.7163 - mse: 6.619 - ETA: 0s - loss: 6.7164 - mse: 6.619 - ETA: 0s - loss: 6.7053 - mse: 6.608 - ETA: 0s - loss: 6.6860 - mse: 6.589 - ETA: 0s - loss: 6.6727 - mse: 6.576 - ETA: 0s - loss: 6.6927 - mse: 6.5965300554/5300554 [==============================] - ETA: 0s - loss: 6.6801 - mse: 6.583 - ETA: 0s - loss: 6.6636 - mse: 6.566 - ETA: 0s - loss: 6.6870 - mse: 6.590 - 14s 3us/step - loss: 6.6951 - mse: 6.5984\n",
      "Epoch 5/5\n"
     ]
    },
    {
     "name": "stdout",
     "output_type": "stream",
     "text": [
      "5180000/5300554 [============================>.] - ETA: 4:05 - loss: 1.8822 - mse: 1.780 - ETA: 1:32 - loss: 2.2156 - mse: 2.113 - ETA: 1:00 - loss: 2.3685 - mse: 2.266 - ETA: 42s - loss: 2.9439 - mse: 2.841 - ETA: 34s - loss: 3.0123 - mse: 2.90 - ETA: 31s - loss: 4.4144 - mse: 4.31 - ETA: 28s - loss: 4.1152 - mse: 4.01 - ETA: 26s - loss: 4.0191 - mse: 3.91 - ETA: 24s - loss: 3.8451 - mse: 3.74 - ETA: 23s - loss: 3.7567 - mse: 3.65 - ETA: 22s - loss: 3.7929 - mse: 3.69 - ETA: 21s - loss: 4.0088 - mse: 3.90 - ETA: 20s - loss: 4.3164 - mse: 4.21 - ETA: 19s - loss: 5.1157 - mse: 5.01 - ETA: 19s - loss: 4.9282 - mse: 4.82 - ETA: 19s - loss: 4.7830 - mse: 4.68 - ETA: 18s - loss: 4.6188 - mse: 4.51 - ETA: 18s - loss: 4.6982 - mse: 4.59 - ETA: 17s - loss: 4.7149 - mse: 4.61 - ETA: 17s - loss: 5.1705 - mse: 5.06 - ETA: 17s - loss: 5.7409 - mse: 5.63 - ETA: 16s - loss: 5.7565 - mse: 5.65 - ETA: 16s - loss: 5.8931 - mse: 5.79 - ETA: 16s - loss: 5.8633 - mse: 5.76 - ETA: 15s - loss: 6.1342 - mse: 6.03 - ETA: 15s - loss: 6.2990 - mse: 6.19 - ETA: 15s - loss: 6.1543 - mse: 6.05 - ETA: 15s - loss: 6.7367 - mse: 6.63 - ETA: 15s - loss: 6.7698 - mse: 6.66 - ETA: 15s - loss: 6.8389 - mse: 6.73 - ETA: 14s - loss: 6.7383 - mse: 6.63 - ETA: 14s - loss: 6.7854 - mse: 6.68 - ETA: 14s - loss: 6.7057 - mse: 6.60 - ETA: 14s - loss: 6.6837 - mse: 6.58 - ETA: 14s - loss: 6.6709 - mse: 6.56 - ETA: 14s - loss: 6.5962 - mse: 6.49 - ETA: 13s - loss: 6.6358 - mse: 6.53 - ETA: 13s - loss: 6.5445 - mse: 6.44 - ETA: 13s - loss: 6.4659 - mse: 6.36 - ETA: 13s - loss: 6.4049 - mse: 6.30 - ETA: 13s - loss: 6.3531 - mse: 6.24 - ETA: 13s - loss: 6.2698 - mse: 6.16 - ETA: 13s - loss: 6.1684 - mse: 6.06 - ETA: 13s - loss: 6.0879 - mse: 5.98 - ETA: 12s - loss: 6.0283 - mse: 5.92 - ETA: 12s - loss: 6.0518 - mse: 5.94 - ETA: 12s - loss: 5.9928 - mse: 5.88 - ETA: 12s - loss: 6.0100 - mse: 5.90 - ETA: 12s - loss: 5.9684 - mse: 5.86 - ETA: 12s - loss: 5.9927 - mse: 5.88 - ETA: 12s - loss: 5.9343 - mse: 5.83 - ETA: 12s - loss: 5.9322 - mse: 5.82 - ETA: 12s - loss: 6.0955 - mse: 5.99 - ETA: 12s - loss: 6.2300 - mse: 6.12 - ETA: 11s - loss: 6.1661 - mse: 6.06 - ETA: 11s - loss: 6.1232 - mse: 6.01 - ETA: 11s - loss: 6.1200 - mse: 6.01 - ETA: 11s - loss: 6.0938 - mse: 5.98 - ETA: 11s - loss: 6.2257 - mse: 6.12 - ETA: 11s - loss: 6.2011 - mse: 6.09 - ETA: 11s - loss: 6.1776 - mse: 6.07 - ETA: 11s - loss: 6.1044 - mse: 6.00 - ETA: 11s - loss: 6.0841 - mse: 5.97 - ETA: 10s - loss: 6.0418 - mse: 5.93 - ETA: 10s - loss: 6.0023 - mse: 5.89 - ETA: 10s - loss: 6.0066 - mse: 5.90 - ETA: 10s - loss: 5.9758 - mse: 5.87 - ETA: 10s - loss: 5.9324 - mse: 5.82 - ETA: 10s - loss: 5.9447 - mse: 5.84 - ETA: 10s - loss: 5.8751 - mse: 5.77 - ETA: 10s - loss: 5.8350 - mse: 5.73 - ETA: 10s - loss: 5.8265 - mse: 5.72 - ETA: 10s - loss: 5.7633 - mse: 5.65 - ETA: 10s - loss: 5.7141 - mse: 5.60 - ETA: 10s - loss: 5.6852 - mse: 5.58 - ETA: 10s - loss: 5.6435 - mse: 5.53 - ETA: 9s - loss: 5.6998 - mse: 5.5952 - ETA: 9s - loss: 6.2624 - mse: 6.157 - ETA: 9s - loss: 6.2580 - mse: 6.153 - ETA: 9s - loss: 6.2157 - mse: 6.111 - ETA: 9s - loss: 6.2505 - mse: 6.145 - ETA: 9s - loss: 6.2103 - mse: 6.105 - ETA: 9s - loss: 6.4881 - mse: 6.383 - ETA: 9s - loss: 6.5153 - mse: 6.410 - ETA: 9s - loss: 6.5176 - mse: 6.412 - ETA: 9s - loss: 6.4952 - mse: 6.390 - ETA: 9s - loss: 6.6233 - mse: 6.518 - ETA: 9s - loss: 6.5962 - mse: 6.491 - ETA: 8s - loss: 6.5805 - mse: 6.475 - ETA: 8s - loss: 6.5441 - mse: 6.439 - ETA: 8s - loss: 6.5208 - mse: 6.416 - ETA: 8s - loss: 6.4838 - mse: 6.379 - ETA: 8s - loss: 6.4479 - mse: 6.343 - ETA: 8s - loss: 6.4139 - mse: 6.309 - ETA: 8s - loss: 6.6174 - mse: 6.512 - ETA: 8s - loss: 6.6150 - mse: 6.510 - ETA: 8s - loss: 6.5862 - mse: 6.481 - ETA: 8s - loss: 6.5479 - mse: 6.443 - ETA: 8s - loss: 6.5100 - mse: 6.405 - ETA: 8s - loss: 6.5072 - mse: 6.402 - ETA: 8s - loss: 6.4564 - mse: 6.351 - ETA: 8s - loss: 6.4317 - mse: 6.327 - ETA: 7s - loss: 6.4239 - mse: 6.319 - ETA: 7s - loss: 6.3913 - mse: 6.286 - ETA: 7s - loss: 6.3412 - mse: 6.236 - ETA: 7s - loss: 6.2997 - mse: 6.195 - ETA: 7s - loss: 6.2925 - mse: 6.187 - ETA: 7s - loss: 6.2951 - mse: 6.190 - ETA: 7s - loss: 6.2596 - mse: 6.154 - ETA: 7s - loss: 6.2334 - mse: 6.128 - ETA: 7s - loss: 6.1940 - mse: 6.089 - ETA: 7s - loss: 6.1747 - mse: 6.070 - ETA: 7s - loss: 6.1438 - mse: 6.039 - ETA: 7s - loss: 6.1224 - mse: 6.017 - ETA: 6s - loss: 6.0968 - mse: 5.992 - ETA: 6s - loss: 6.0638 - mse: 5.959 - ETA: 6s - loss: 6.0568 - mse: 5.952 - ETA: 6s - loss: 6.2602 - mse: 6.155 - ETA: 6s - loss: 6.2370 - mse: 6.132 - ETA: 6s - loss: 6.2077 - mse: 6.102 - ETA: 6s - loss: 6.1884 - mse: 6.083 - ETA: 6s - loss: 6.1614 - mse: 6.056 - ETA: 6s - loss: 6.4120 - mse: 6.307 - ETA: 6s - loss: 6.3766 - mse: 6.271 - ETA: 6s - loss: 6.3595 - mse: 6.254 - ETA: 6s - loss: 6.3729 - mse: 6.267 - ETA: 6s - loss: 6.3609 - mse: 6.255 - ETA: 5s - loss: 6.3246 - mse: 6.219 - ETA: 5s - loss: 6.2901 - mse: 6.185 - ETA: 5s - loss: 6.2540 - mse: 6.149 - ETA: 5s - loss: 6.2224 - mse: 6.117 - ETA: 5s - loss: 6.2053 - mse: 6.100 - ETA: 5s - loss: 6.1880 - mse: 6.082 - ETA: 5s - loss: 6.1549 - mse: 6.049 - ETA: 5s - loss: 6.1185 - mse: 6.013 - ETA: 5s - loss: 6.0818 - mse: 5.976 - ETA: 5s - loss: 6.0669 - mse: 5.961 - ETA: 5s - loss: 6.0428 - mse: 5.937 - ETA: 5s - loss: 6.0235 - mse: 5.918 - ETA: 5s - loss: 6.0986 - mse: 5.993 - ETA: 4s - loss: 6.1484 - mse: 6.043 - ETA: 4s - loss: 6.1430 - mse: 6.037 - ETA: 4s - loss: 6.2350 - mse: 6.129 - ETA: 4s - loss: 6.2081 - mse: 6.102 - ETA: 4s - loss: 6.1794 - mse: 6.073 - ETA: 4s - loss: 6.1580 - mse: 6.052 - ETA: 4s - loss: 6.1380 - mse: 6.032 - ETA: 4s - loss: 6.1176 - mse: 6.012 - ETA: 4s - loss: 6.1487 - mse: 6.043 - ETA: 4s - loss: 6.1265 - mse: 6.020 - ETA: 4s - loss: 6.1074 - mse: 6.001 - ETA: 4s - loss: 6.0944 - mse: 5.988 - ETA: 4s - loss: 6.0633 - mse: 5.957 - ETA: 4s - loss: 6.0504 - mse: 5.944 - ETA: 4s - loss: 6.1511 - mse: 6.045 - ETA: 3s - loss: 6.1885 - mse: 6.082 - ETA: 3s - loss: 6.1711 - mse: 6.065 - ETA: 3s - loss: 6.1565 - mse: 6.050 - ETA: 3s - loss: 6.1951 - mse: 6.089 - ETA: 3s - loss: 6.1768 - mse: 6.071 - ETA: 3s - loss: 6.1597 - mse: 6.053 - ETA: 3s - loss: 6.1310 - mse: 6.025 - ETA: 3s - loss: 6.1514 - mse: 6.045 - ETA: 3s - loss: 6.1432 - mse: 6.037 - ETA: 3s - loss: 6.1155 - mse: 6.009 - ETA: 3s - loss: 6.1049 - mse: 5.999 - ETA: 3s - loss: 6.1460 - mse: 6.040 - ETA: 3s - loss: 6.5018 - mse: 6.395 - ETA: 3s - loss: 6.4715 - mse: 6.365 - ETA: 3s - loss: 6.4561 - mse: 6.350 - ETA: 2s - loss: 6.4341 - mse: 6.328 - ETA: 2s - loss: 6.4230 - mse: 6.316 - ETA: 2s - loss: 6.4007 - mse: 6.294 - ETA: 2s - loss: 6.3954 - mse: 6.289 - ETA: 2s - loss: 6.4042 - mse: 6.298 - ETA: 2s - loss: 6.3849 - mse: 6.278 - ETA: 2s - loss: 6.3731 - mse: 6.267 - ETA: 2s - loss: 6.3573 - mse: 6.251 - ETA: 2s - loss: 6.3602 - mse: 6.254 - ETA: 2s - loss: 6.3457 - mse: 6.239 - ETA: 2s - loss: 6.3281 - mse: 6.221 - ETA: 2s - loss: 6.3181 - mse: 6.211 - ETA: 2s - loss: 6.3088 - mse: 6.202 - ETA: 2s - loss: 6.2919 - mse: 6.185 - ETA: 2s - loss: 6.2905 - mse: 6.184 - ETA: 2s - loss: 6.2888 - mse: 6.182 - ETA: 2s - loss: 6.2704 - mse: 6.164 - ETA: 2s - loss: 6.2522 - mse: 6.146 - ETA: 2s - loss: 6.2796 - mse: 6.173 - ETA: 2s - loss: 6.2656 - mse: 6.159 - ETA: 1s - loss: 6.2613 - mse: 6.155 - ETA: 1s - loss: 6.2497 - mse: 6.143 - ETA: 1s - loss: 6.2359 - mse: 6.129 - ETA: 1s - loss: 6.2088 - mse: 6.102 - ETA: 1s - loss: 6.1989 - mse: 6.092 - ETA: 1s - loss: 6.1775 - mse: 6.071 - ETA: 1s - loss: 6.1974 - mse: 6.091 - ETA: 1s - loss: 6.1994 - mse: 6.093 - ETA: 1s - loss: 6.2184 - mse: 6.112 - ETA: 1s - loss: 6.2029 - mse: 6.096 - ETA: 1s - loss: 6.2080 - mse: 6.101 - ETA: 1s - loss: 6.1957 - mse: 6.089 - ETA: 1s - loss: 6.1930 - mse: 6.086 - ETA: 1s - loss: 6.1793 - mse: 6.072 - ETA: 1s - loss: 6.1692 - mse: 6.062 - ETA: 0s - loss: 6.4075 - mse: 6.301 - ETA: 0s - loss: 6.3919 - mse: 6.285 - ETA: 0s - loss: 6.3727 - mse: 6.266 - ETA: 0s - loss: 6.3599 - mse: 6.253 - ETA: 0s - loss: 6.4982 - mse: 6.391 - ETA: 0s - loss: 6.4711 - mse: 6.364 - ETA: 0s - loss: 6.5191 - mse: 6.412 - ETA: 0s - loss: 6.5036 - mse: 6.396 - ETA: 0s - loss: 6.5189 - mse: 6.412 - ETA: 0s - loss: 6.4935 - mse: 6.3869"
     ]
    },
    {
     "name": "stdout",
     "output_type": "stream",
     "text": [
      "5300554/5300554 [==============================] - ETA: 0s - loss: 6.4742 - mse: 6.367 - ETA: 0s - loss: 6.4668 - mse: 6.360 - ETA: 0s - loss: 6.4505 - mse: 6.343 - ETA: 0s - loss: 6.4638 - mse: 6.357 - ETA: 0s - loss: 6.4524 - mse: 6.345 - 14s 3us/step - loss: 6.4518 - mse: 6.3450\n",
      "30\n",
      "Epoch 1/5\n",
      "5524842/5524842 [==============================] - ETA: 6:16 - loss: 30.7666 - mse: 30.758 - ETA: 2:14 - loss: 13.3441 - mse: 13.336 - ETA: 1:12 - loss: 22.6413 - mse: 22.633 - ETA: 51s - loss: 27.2352 - mse: 27.227 - ETA: 41s - loss: 21.8867 - mse: 21.87 - ETA: 34s - loss: 19.2224 - mse: 19.21 - ETA: 30s - loss: 16.5356 - mse: 16.52 - ETA: 27s - loss: 14.6244 - mse: 14.61 - ETA: 25s - loss: 13.8338 - mse: 13.82 - ETA: 23s - loss: 12.7678 - mse: 12.76 - ETA: 21s - loss: 11.8329 - mse: 11.82 - ETA: 20s - loss: 11.3081 - mse: 11.30 - ETA: 19s - loss: 10.8135 - mse: 10.80 - ETA: 18s - loss: 10.2748 - mse: 10.26 - ETA: 17s - loss: 11.2236 - mse: 11.21 - ETA: 17s - loss: 10.6680 - mse: 10.66 - ETA: 16s - loss: 10.2549 - mse: 10.24 - ETA: 16s - loss: 10.1492 - mse: 10.14 - ETA: 15s - loss: 12.6839 - mse: 12.67 - ETA: 15s - loss: 12.7090 - mse: 12.70 - ETA: 15s - loss: 12.1826 - mse: 12.17 - ETA: 14s - loss: 12.3520 - mse: 12.34 - ETA: 14s - loss: 13.2258 - mse: 13.21 - ETA: 14s - loss: 12.8290 - mse: 12.82 - ETA: 13s - loss: 12.5281 - mse: 12.52 - ETA: 13s - loss: 12.1130 - mse: 12.10 - ETA: 13s - loss: 11.8757 - mse: 11.86 - ETA: 13s - loss: 12.5826 - mse: 12.57 - ETA: 12s - loss: 13.2039 - mse: 13.19 - ETA: 12s - loss: 13.2729 - mse: 13.26 - ETA: 12s - loss: 12.9330 - mse: 12.92 - ETA: 12s - loss: 12.6303 - mse: 12.62 - ETA: 12s - loss: 12.3775 - mse: 12.37 - ETA: 11s - loss: 12.1371 - mse: 12.13 - ETA: 11s - loss: 12.1756 - mse: 12.16 - ETA: 11s - loss: 12.1553 - mse: 12.14 - ETA: 11s - loss: 12.1502 - mse: 12.14 - ETA: 11s - loss: 11.9569 - mse: 11.95 - ETA: 11s - loss: 11.7716 - mse: 11.76 - ETA: 11s - loss: 11.7162 - mse: 11.70 - ETA: 11s - loss: 11.5635 - mse: 11.55 - ETA: 10s - loss: 11.5715 - mse: 11.56 - ETA: 10s - loss: 11.3512 - mse: 11.34 - ETA: 10s - loss: 11.5001 - mse: 11.49 - ETA: 10s - loss: 11.3479 - mse: 11.34 - ETA: 10s - loss: 11.2174 - mse: 11.21 - ETA: 10s - loss: 11.0309 - mse: 11.02 - ETA: 10s - loss: 10.9476 - mse: 10.94 - ETA: 10s - loss: 11.0153 - mse: 11.00 - ETA: 10s - loss: 11.0517 - mse: 11.04 - ETA: 10s - loss: 10.8680 - mse: 10.86 - ETA: 9s - loss: 11.0603 - mse: 11.0534 - ETA: 9s - loss: 10.9098 - mse: 10.902 - ETA: 9s - loss: 10.8032 - mse: 10.796 - ETA: 9s - loss: 10.6565 - mse: 10.649 - ETA: 9s - loss: 10.5002 - mse: 10.493 - ETA: 9s - loss: 10.3470 - mse: 10.339 - ETA: 9s - loss: 10.2106 - mse: 10.203 - ETA: 9s - loss: 10.0678 - mse: 10.060 - ETA: 9s - loss: 10.2129 - mse: 10.205 - ETA: 8s - loss: 10.1146 - mse: 10.107 - ETA: 8s - loss: 10.0754 - mse: 10.068 - ETA: 8s - loss: 9.9389 - mse: 9.9316  - ETA: 8s - loss: 9.8413 - mse: 9.833 - ETA: 8s - loss: 9.7252 - mse: 9.717 - ETA: 8s - loss: 9.6389 - mse: 9.631 - ETA: 8s - loss: 9.8355 - mse: 9.828 - ETA: 8s - loss: 9.8739 - mse: 9.866 - ETA: 8s - loss: 9.7597 - mse: 9.752 - ETA: 8s - loss: 9.7033 - mse: 9.695 - ETA: 7s - loss: 9.7645 - mse: 9.756 - ETA: 7s - loss: 9.7315 - mse: 9.723 - ETA: 7s - loss: 9.8832 - mse: 9.875 - ETA: 7s - loss: 9.7931 - mse: 9.785 - ETA: 7s - loss: 9.7607 - mse: 9.752 - ETA: 7s - loss: 9.6640 - mse: 9.656 - ETA: 7s - loss: 9.5909 - mse: 9.583 - ETA: 7s - loss: 9.6374 - mse: 9.629 - ETA: 7s - loss: 9.5497 - mse: 9.541 - ETA: 7s - loss: 9.4555 - mse: 9.447 - ETA: 7s - loss: 9.3889 - mse: 9.380 - ETA: 7s - loss: 9.4666 - mse: 9.458 - ETA: 7s - loss: 9.5410 - mse: 9.532 - ETA: 6s - loss: 9.5273 - mse: 9.519 - ETA: 6s - loss: 10.1124 - mse: 10.104 - ETA: 6s - loss: 10.0434 - mse: 10.035 - ETA: 6s - loss: 10.1037 - mse: 10.095 - ETA: 6s - loss: 10.0174 - mse: 10.008 - ETA: 6s - loss: 9.9653 - mse: 9.9568  - ETA: 6s - loss: 9.9031 - mse: 9.894 - ETA: 6s - loss: 9.8670 - mse: 9.858 - ETA: 6s - loss: 9.9046 - mse: 9.895 - ETA: 6s - loss: 9.8280 - mse: 9.819 - ETA: 6s - loss: 9.7721 - mse: 9.763 - ETA: 6s - loss: 9.7004 - mse: 9.691 - ETA: 6s - loss: 9.6266 - mse: 9.617 - ETA: 5s - loss: 9.5668 - mse: 9.557 - ETA: 5s - loss: 9.5270 - mse: 9.518 - ETA: 5s - loss: 9.4736 - mse: 9.464 - ETA: 5s - loss: 9.4078 - mse: 9.398 - ETA: 5s - loss: 9.3359 - mse: 9.326 - ETA: 5s - loss: 9.3567 - mse: 9.347 - ETA: 5s - loss: 9.8162 - mse: 9.807 - ETA: 5s - loss: 9.7364 - mse: 9.727 - ETA: 5s - loss: 9.8280 - mse: 9.818 - ETA: 5s - loss: 9.9032 - mse: 9.893 - ETA: 5s - loss: 9.8505 - mse: 9.841 - ETA: 5s - loss: 9.7933 - mse: 9.783 - ETA: 5s - loss: 9.7465 - mse: 9.737 - ETA: 5s - loss: 9.6839 - mse: 9.674 - ETA: 4s - loss: 9.7359 - mse: 9.726 - ETA: 4s - loss: 9.6769 - mse: 9.667 - ETA: 4s - loss: 10.1492 - mse: 10.139 - ETA: 4s - loss: 10.0913 - mse: 10.081 - ETA: 4s - loss: 10.0458 - mse: 10.036 - ETA: 4s - loss: 10.0090 - mse: 9.999 - ETA: 4s - loss: 9.9565 - mse: 9.9466 - ETA: 4s - loss: 9.9017 - mse: 9.891 - ETA: 4s - loss: 9.8884 - mse: 9.878 - ETA: 4s - loss: 9.8670 - mse: 9.856 - ETA: 4s - loss: 9.8206 - mse: 9.810 - ETA: 4s - loss: 9.8015 - mse: 9.791 - ETA: 4s - loss: 9.7486 - mse: 9.738 - ETA: 4s - loss: 10.0759 - mse: 10.065 - ETA: 4s - loss: 10.0195 - mse: 10.009 - ETA: 3s - loss: 10.0744 - mse: 10.064 - ETA: 3s - loss: 10.1622 - mse: 10.151 - ETA: 3s - loss: 10.0978 - mse: 10.087 - ETA: 3s - loss: 10.0880 - mse: 10.077 - ETA: 3s - loss: 10.0286 - mse: 10.018 - ETA: 3s - loss: 9.9744 - mse: 9.9638  - ETA: 3s - loss: 9.9137 - mse: 9.903 - ETA: 3s - loss: 9.8648 - mse: 9.854 - ETA: 3s - loss: 9.8118 - mse: 9.801 - ETA: 3s - loss: 9.8018 - mse: 9.790 - ETA: 3s - loss: 9.7546 - mse: 9.743 - ETA: 3s - loss: 9.7479 - mse: 9.737 - ETA: 3s - loss: 9.7087 - mse: 9.697 - ETA: 3s - loss: 9.6617 - mse: 9.650 - ETA: 3s - loss: 9.6386 - mse: 9.627 - ETA: 3s - loss: 9.5860 - mse: 9.574 - ETA: 2s - loss: 9.5473 - mse: 9.536 - ETA: 2s - loss: 9.4969 - mse: 9.485 - ETA: 2s - loss: 9.4638 - mse: 9.452 - ETA: 2s - loss: 9.4538 - mse: 9.442 - ETA: 2s - loss: 9.4214 - mse: 9.410 - ETA: 2s - loss: 9.4553 - mse: 9.444 - ETA: 2s - loss: 9.4419 - mse: 9.430 - ETA: 2s - loss: 9.4379 - mse: 9.426 - ETA: 2s - loss: 9.4024 - mse: 9.391 - ETA: 2s - loss: 9.3594 - mse: 9.347 - ETA: 2s - loss: 9.3435 - mse: 9.332 - ETA: 2s - loss: 9.3096 - mse: 9.298 - ETA: 2s - loss: 9.2739 - mse: 9.262 - ETA: 2s - loss: 9.2643 - mse: 9.252 - ETA: 2s - loss: 9.2566 - mse: 9.244 - ETA: 2s - loss: 9.2110 - mse: 9.199 - ETA: 2s - loss: 9.1752 - mse: 9.163 - ETA: 1s - loss: 9.1435 - mse: 9.131 - ETA: 1s - loss: 9.1945 - mse: 9.182 - ETA: 1s - loss: 9.1529 - mse: 9.141 - ETA: 1s - loss: 9.1133 - mse: 9.101 - ETA: 1s - loss: 9.0707 - mse: 9.058 - ETA: 1s - loss: 9.0567 - mse: 9.044 - ETA: 1s - loss: 9.0491 - mse: 9.037 - ETA: 1s - loss: 9.0149 - mse: 9.002 - ETA: 1s - loss: 8.9876 - mse: 8.975 - ETA: 1s - loss: 8.9823 - mse: 8.970 - ETA: 1s - loss: 8.9435 - mse: 8.931 - ETA: 1s - loss: 8.9067 - mse: 8.894 - ETA: 1s - loss: 8.9360 - mse: 8.923 - ETA: 1s - loss: 9.0491 - mse: 9.036 - ETA: 1s - loss: 9.0111 - mse: 8.998 - ETA: 0s - loss: 9.0184 - mse: 9.005 - ETA: 0s - loss: 9.0041 - mse: 8.991 - ETA: 0s - loss: 8.9875 - mse: 8.974 - ETA: 0s - loss: 8.9670 - mse: 8.954 - ETA: 0s - loss: 8.9616 - mse: 8.948 - ETA: 0s - loss: 8.9318 - mse: 8.919 - ETA: 0s - loss: 8.8970 - mse: 8.884 - ETA: 0s - loss: 8.8608 - mse: 8.847 - ETA: 0s - loss: 8.8404 - mse: 8.827 - ETA: 0s - loss: 9.0799 - mse: 9.067 - ETA: 0s - loss: 9.1019 - mse: 9.088 - ETA: 0s - loss: 9.0674 - mse: 9.054 - ETA: 0s - loss: 9.0579 - mse: 9.044 - ETA: 0s - loss: 9.0479 - mse: 9.034 - ETA: 0s - loss: 9.0347 - mse: 9.021 - ETA: 0s - loss: 9.0948 - mse: 9.081 - 12s 2us/step - loss: 9.0911 - mse: 9.0778\n",
      "Epoch 2/5\n",
      "5524842/5524842 [==============================] - ETA: 3:26 - loss: 2.3883 - mse: 2.365 - ETA: 59s - loss: 7.3325 - mse: 7.309 - ETA: 38s - loss: 4.9750 - mse: 4.95 - ETA: 30s - loss: 4.4804 - mse: 4.45 - ETA: 25s - loss: 4.3327 - mse: 4.30 - ETA: 22s - loss: 5.2789 - mse: 5.25 - ETA: 20s - loss: 5.3177 - mse: 5.29 - ETA: 19s - loss: 6.4911 - mse: 6.46 - ETA: 18s - loss: 6.1067 - mse: 6.08 - ETA: 17s - loss: 5.6433 - mse: 5.61 - ETA: 16s - loss: 5.3609 - mse: 5.33 - ETA: 15s - loss: 5.3730 - mse: 5.34 - ETA: 15s - loss: 5.1863 - mse: 5.16 - ETA: 15s - loss: 5.0627 - mse: 5.03 - ETA: 14s - loss: 4.8568 - mse: 4.83 - ETA: 14s - loss: 5.4842 - mse: 5.46 - ETA: 13s - loss: 5.2660 - mse: 5.24 - ETA: 13s - loss: 5.4730 - mse: 5.44 - ETA: 13s - loss: 5.5961 - mse: 5.57 - ETA: 13s - loss: 5.9534 - mse: 5.92 - ETA: 12s - loss: 5.8776 - mse: 5.85 - ETA: 12s - loss: 6.1853 - mse: 6.16 - ETA: 12s - loss: 6.1884 - mse: 6.16 - ETA: 12s - loss: 6.4023 - mse: 6.37 - ETA: 12s - loss: 6.3862 - mse: 6.36 - ETA: 11s - loss: 6.2384 - mse: 6.21 - ETA: 11s - loss: 6.1629 - mse: 6.13 - ETA: 11s - loss: 6.2017 - mse: 6.17 - ETA: 11s - loss: 6.0543 - mse: 6.02 - ETA: 11s - loss: 6.0164 - mse: 5.99 - ETA: 11s - loss: 5.9570 - mse: 5.93 - ETA: 11s - loss: 5.9237 - mse: 5.89 - ETA: 11s - loss: 5.8050 - mse: 5.77 - ETA: 10s - loss: 5.7515 - mse: 5.72 - ETA: 10s - loss: 5.6394 - mse: 5.61 - ETA: 10s - loss: 5.6695 - mse: 5.64 - ETA: 10s - loss: 5.5669 - mse: 5.54 - ETA: 10s - loss: 5.5902 - mse: 5.56 - ETA: 10s - loss: 5.5785 - mse: 5.55 - ETA: 10s - loss: 5.5857 - mse: 5.56 - ETA: 10s - loss: 5.8502 - mse: 5.82 - ETA: 9s - loss: 5.8217 - mse: 5.7959 - ETA: 9s - loss: 5.8928 - mse: 5.866 - ETA: 9s - loss: 5.8244 - mse: 5.798 - ETA: 9s - loss: 5.7412 - mse: 5.715 - ETA: 9s - loss: 5.7981 - mse: 5.772 - ETA: 9s - loss: 5.9700 - mse: 5.943 - ETA: 9s - loss: 5.9602 - mse: 5.933 - ETA: 9s - loss: 5.8973 - mse: 5.870 - ETA: 9s - loss: 5.9232 - mse: 5.896 - ETA: 9s - loss: 5.8584 - mse: 5.831 - ETA: 9s - loss: 5.8864 - mse: 5.859 - ETA: 8s - loss: 5.9009 - mse: 5.874 - ETA: 8s - loss: 5.8204 - mse: 5.793 - ETA: 8s - loss: 5.7920 - mse: 5.765 - ETA: 8s - loss: 5.8253 - mse: 5.798 - ETA: 8s - loss: 5.8237 - mse: 5.796 - ETA: 8s - loss: 6.0355 - mse: 6.008 - ETA: 8s - loss: 5.9843 - mse: 5.957 - ETA: 8s - loss: 5.9696 - mse: 5.942 - ETA: 8s - loss: 7.0849 - mse: 7.057 - ETA: 8s - loss: 7.0599 - mse: 7.032 - ETA: 8s - loss: 7.0127 - mse: 6.985 - ETA: 8s - loss: 6.9305 - mse: 6.902 - ETA: 8s - loss: 7.2386 - mse: 7.210 - ETA: 7s - loss: 7.1567 - mse: 7.129 - ETA: 7s - loss: 7.0777 - mse: 7.049 - ETA: 7s - loss: 7.0711 - mse: 7.043 - ETA: 7s - loss: 7.0635 - mse: 7.035 - ETA: 7s - loss: 7.0239 - mse: 6.995 - ETA: 7s - loss: 7.1732 - mse: 7.145 - ETA: 7s - loss: 7.1046 - mse: 7.076 - ETA: 7s - loss: 7.1034 - mse: 7.075 - ETA: 7s - loss: 7.1112 - mse: 7.082 - ETA: 7s - loss: 7.1017 - mse: 7.073 - ETA: 7s - loss: 7.0339 - mse: 7.005 - ETA: 7s - loss: 6.9790 - mse: 6.950 - ETA: 6s - loss: 6.9667 - mse: 6.938 - ETA: 6s - loss: 6.9098 - mse: 6.881 - ETA: 6s - loss: 7.2589 - mse: 7.230 - ETA: 6s - loss: 7.1941 - mse: 7.165 - ETA: 6s - loss: 7.2404 - mse: 7.211 - ETA: 6s - loss: 7.1982 - mse: 7.169 - ETA: 6s - loss: 7.4565 - mse: 7.427 - ETA: 6s - loss: 7.9149 - mse: 7.885 - ETA: 6s - loss: 7.8808 - mse: 7.851 - ETA: 6s - loss: 7.8860 - mse: 7.856 - ETA: 6s - loss: 7.8188 - mse: 7.789 - ETA: 6s - loss: 7.7764 - mse: 7.746 - ETA: 6s - loss: 7.8272 - mse: 7.797 - ETA: 6s - loss: 7.7923 - mse: 7.762 - ETA: 5s - loss: 7.9975 - mse: 7.967 - ETA: 5s - loss: 7.9584 - mse: 7.928 - ETA: 5s - loss: 7.9421 - mse: 7.911 - ETA: 5s - loss: 8.0096 - mse: 7.979 - ETA: 5s - loss: 7.9727 - mse: 7.942 - ETA: 5s - loss: 7.9619 - mse: 7.931 - ETA: 5s - loss: 7.9336 - mse: 7.902 - ETA: 5s - loss: 7.9209 - mse: 7.889 - ETA: 5s - loss: 7.8713 - mse: 7.840 - ETA: 5s - loss: 7.8920 - mse: 7.860 - ETA: 5s - loss: 7.8416 - mse: 7.810 - ETA: 5s - loss: 7.7968 - mse: 7.765 - ETA: 5s - loss: 7.8882 - mse: 7.856 - ETA: 5s - loss: 7.8424 - mse: 7.810 - ETA: 4s - loss: 7.8916 - mse: 7.859 - ETA: 4s - loss: 7.9072 - mse: 7.875 - ETA: 4s - loss: 7.9522 - mse: 7.920 - ETA: 4s - loss: 7.8980 - mse: 7.865 - ETA: 4s - loss: 7.8511 - mse: 7.818 - ETA: 4s - loss: 7.8102 - mse: 7.777 - ETA: 4s - loss: 7.7636 - mse: 7.731 - ETA: 4s - loss: 7.8528 - mse: 7.820 - ETA: 4s - loss: 7.8146 - mse: 7.781 - ETA: 4s - loss: 7.8476 - mse: 7.814 - ETA: 4s - loss: 7.8230 - mse: 7.790 - ETA: 4s - loss: 7.7972 - mse: 7.764 - ETA: 4s - loss: 7.8048 - mse: 7.771 - ETA: 4s - loss: 7.8049 - mse: 7.771 - ETA: 4s - loss: 7.8469 - mse: 7.813 - ETA: 4s - loss: 7.8276 - mse: 7.794 - ETA: 3s - loss: 7.9619 - mse: 7.928 - ETA: 3s - loss: 7.9232 - mse: 7.889 - ETA: 3s - loss: 7.9144 - mse: 7.880 - ETA: 3s - loss: 7.8961 - mse: 7.862 - ETA: 3s - loss: 7.8692 - mse: 7.835 - ETA: 3s - loss: 7.8441 - mse: 7.809 - ETA: 3s - loss: 7.8142 - mse: 7.779 - ETA: 3s - loss: 7.7783 - mse: 7.743 - ETA: 3s - loss: 7.7447 - mse: 7.710 - ETA: 3s - loss: 7.7075 - mse: 7.672 - ETA: 3s - loss: 7.6703 - mse: 7.635 - ETA: 3s - loss: 7.7635 - mse: 7.728 - ETA: 3s - loss: 7.7518 - mse: 7.716 - ETA: 3s - loss: 7.7503 - mse: 7.715 - ETA: 3s - loss: 7.7231 - mse: 7.687 - ETA: 2s - loss: 7.6962 - mse: 7.660 - ETA: 2s - loss: 7.6689 - mse: 7.633 - ETA: 2s - loss: 7.6850 - mse: 7.649 - ETA: 2s - loss: 7.7237 - mse: 7.687 - ETA: 2s - loss: 7.6929 - mse: 7.657 - ETA: 2s - loss: 8.0282 - mse: 7.992 - ETA: 2s - loss: 8.0408 - mse: 8.004 - ETA: 2s - loss: 8.0220 - mse: 7.985 - ETA: 2s - loss: 8.0013 - mse: 7.965 - ETA: 2s - loss: 7.9768 - mse: 7.940 - ETA: 2s - loss: 7.9546 - mse: 7.918 - ETA: 2s - loss: 7.9195 - mse: 7.882 - ETA: 2s - loss: 7.8800 - mse: 7.843 - ETA: 2s - loss: 7.8685 - mse: 7.831 - ETA: 2s - loss: 7.8569 - mse: 7.819 - ETA: 2s - loss: 7.8335 - mse: 7.796 - ETA: 1s - loss: 7.8070 - mse: 7.769 - ETA: 1s - loss: 7.7808 - mse: 7.743 - ETA: 1s - loss: 7.7426 - mse: 7.705 - ETA: 1s - loss: 7.7671 - mse: 7.729 - ETA: 1s - loss: 7.7449 - mse: 7.707 - ETA: 1s - loss: 7.7339 - mse: 7.696 - ETA: 1s - loss: 7.7144 - mse: 7.676 - ETA: 1s - loss: 7.7564 - mse: 7.718 - ETA: 1s - loss: 7.7364 - mse: 7.698 - ETA: 1s - loss: 7.7334 - mse: 7.695 - ETA: 1s - loss: 7.7104 - mse: 7.672 - ETA: 1s - loss: 7.6949 - mse: 7.656 - ETA: 1s - loss: 7.6769 - mse: 7.638 - ETA: 1s - loss: 7.6436 - mse: 7.604 - ETA: 1s - loss: 7.6105 - mse: 7.571 - ETA: 1s - loss: 7.5945 - mse: 7.555 - ETA: 1s - loss: 7.5690 - mse: 7.530 - ETA: 0s - loss: 7.5389 - mse: 7.499 - ETA: 0s - loss: 7.5105 - mse: 7.471 - ETA: 0s - loss: 7.4926 - mse: 7.453 - ETA: 0s - loss: 7.4796 - mse: 7.440 - ETA: 0s - loss: 7.4697 - mse: 7.430 - ETA: 0s - loss: 7.4529 - mse: 7.413 - ETA: 0s - loss: 7.4305 - mse: 7.390 - ETA: 0s - loss: 7.4038 - mse: 7.364 - ETA: 0s - loss: 7.4170 - mse: 7.377 - ETA: 0s - loss: 7.4648 - mse: 7.424 - ETA: 0s - loss: 7.4400 - mse: 7.399 - ETA: 0s - loss: 7.4177 - mse: 7.377 - ETA: 0s - loss: 7.4013 - mse: 7.361 - ETA: 0s - loss: 7.4099 - mse: 7.369 - ETA: 0s - loss: 7.3878 - mse: 7.347 - ETA: 0s - loss: 7.3726 - mse: 7.331 - 11s 2us/step - loss: 7.3633 - mse: 7.3226\n",
      "Epoch 3/5\n"
     ]
    },
    {
     "name": "stdout",
     "output_type": "stream",
     "text": [
      "5524842/5524842 [==============================] - ETA: 3:34 - loss: 1.3601 - mse: 1.300 - ETA: 1:02 - loss: 4.0993 - mse: 4.040 - ETA: 40s - loss: 4.1200 - mse: 4.060 - ETA: 31s - loss: 5.0059 - mse: 4.94 - ETA: 26s - loss: 4.8953 - mse: 4.83 - ETA: 23s - loss: 9.2705 - mse: 9.21 - ETA: 21s - loss: 8.7602 - mse: 8.70 - ETA: 20s - loss: 8.8290 - mse: 8.76 - ETA: 19s - loss: 8.3697 - mse: 8.31 - ETA: 18s - loss: 8.0088 - mse: 7.94 - ETA: 17s - loss: 7.4818 - mse: 7.42 - ETA: 16s - loss: 8.3082 - mse: 8.24 - ETA: 16s - loss: 7.8485 - mse: 7.78 - ETA: 16s - loss: 7.6976 - mse: 7.63 - ETA: 15s - loss: 7.4050 - mse: 7.34 - ETA: 15s - loss: 7.0674 - mse: 7.00 - ETA: 15s - loss: 6.9306 - mse: 6.87 - ETA: 14s - loss: 6.7317 - mse: 6.67 - ETA: 14s - loss: 6.6286 - mse: 6.56 - ETA: 14s - loss: 6.4498 - mse: 6.39 - ETA: 14s - loss: 6.3010 - mse: 6.24 - ETA: 13s - loss: 6.1551 - mse: 6.09 - ETA: 13s - loss: 6.3141 - mse: 6.25 - ETA: 13s - loss: 6.1828 - mse: 6.12 - ETA: 13s - loss: 6.1012 - mse: 6.04 - ETA: 12s - loss: 5.9421 - mse: 5.88 - ETA: 12s - loss: 6.0995 - mse: 6.03 - ETA: 12s - loss: 6.3334 - mse: 6.27 - ETA: 12s - loss: 6.2535 - mse: 6.19 - ETA: 12s - loss: 6.8120 - mse: 6.75 - ETA: 12s - loss: 6.8901 - mse: 6.82 - ETA: 12s - loss: 7.3676 - mse: 7.30 - ETA: 11s - loss: 7.2154 - mse: 7.15 - ETA: 11s - loss: 7.2918 - mse: 7.23 - ETA: 11s - loss: 7.1745 - mse: 7.11 - ETA: 11s - loss: 8.5351 - mse: 8.47 - ETA: 11s - loss: 8.3905 - mse: 8.32 - ETA: 11s - loss: 8.2270 - mse: 8.16 - ETA: 11s - loss: 8.1027 - mse: 8.04 - ETA: 11s - loss: 8.0167 - mse: 7.95 - ETA: 10s - loss: 7.9100 - mse: 7.84 - ETA: 10s - loss: 7.7768 - mse: 7.71 - ETA: 10s - loss: 7.7139 - mse: 7.65 - ETA: 10s - loss: 7.6092 - mse: 7.54 - ETA: 10s - loss: 7.5527 - mse: 7.49 - ETA: 10s - loss: 7.4430 - mse: 7.38 - ETA: 10s - loss: 7.3768 - mse: 7.31 - ETA: 10s - loss: 7.8887 - mse: 7.82 - ETA: 10s - loss: 7.7987 - mse: 7.73 - ETA: 9s - loss: 7.7415 - mse: 7.6783 - ETA: 9s - loss: 7.6845 - mse: 7.621 - ETA: 9s - loss: 7.9332 - mse: 7.869 - ETA: 9s - loss: 7.8558 - mse: 7.792 - ETA: 9s - loss: 7.7736 - mse: 7.710 - ETA: 9s - loss: 7.7359 - mse: 7.672 - ETA: 9s - loss: 7.6584 - mse: 7.594 - ETA: 9s - loss: 7.5902 - mse: 7.526 - ETA: 9s - loss: 7.5316 - mse: 7.467 - ETA: 9s - loss: 7.4433 - mse: 7.379 - ETA: 9s - loss: 7.3515 - mse: 7.287 - ETA: 8s - loss: 7.3455 - mse: 7.280 - ETA: 8s - loss: 7.2756 - mse: 7.210 - ETA: 8s - loss: 7.2248 - mse: 7.160 - ETA: 8s - loss: 7.1460 - mse: 7.081 - ETA: 8s - loss: 7.1245 - mse: 7.059 - ETA: 8s - loss: 7.1083 - mse: 7.043 - ETA: 8s - loss: 7.0364 - mse: 6.971 - ETA: 8s - loss: 7.0089 - mse: 6.943 - ETA: 8s - loss: 6.9868 - mse: 6.921 - ETA: 8s - loss: 7.3495 - mse: 7.283 - ETA: 8s - loss: 7.5687 - mse: 7.502 - ETA: 8s - loss: 7.5008 - mse: 7.434 - ETA: 7s - loss: 7.6082 - mse: 7.542 - ETA: 7s - loss: 7.6491 - mse: 7.582 - ETA: 7s - loss: 7.5960 - mse: 7.529 - ETA: 7s - loss: 7.5483 - mse: 7.481 - ETA: 7s - loss: 7.5707 - mse: 7.504 - ETA: 7s - loss: 7.5743 - mse: 7.507 - ETA: 7s - loss: 7.5611 - mse: 7.494 - ETA: 7s - loss: 7.5143 - mse: 7.447 - ETA: 7s - loss: 7.4714 - mse: 7.404 - ETA: 7s - loss: 7.4422 - mse: 7.375 - ETA: 7s - loss: 7.4312 - mse: 7.364 - ETA: 7s - loss: 7.3961 - mse: 7.329 - ETA: 7s - loss: 7.3765 - mse: 7.309 - ETA: 7s - loss: 7.3267 - mse: 7.259 - ETA: 6s - loss: 7.2957 - mse: 7.228 - ETA: 6s - loss: 7.2511 - mse: 7.183 - ETA: 6s - loss: 7.2899 - mse: 7.222 - ETA: 6s - loss: 7.2649 - mse: 7.197 - ETA: 6s - loss: 7.3481 - mse: 7.280 - ETA: 6s - loss: 7.3119 - mse: 7.244 - ETA: 6s - loss: 7.3651 - mse: 7.297 - ETA: 6s - loss: 7.3486 - mse: 7.280 - ETA: 6s - loss: 7.3306 - mse: 7.262 - ETA: 6s - loss: 7.2824 - mse: 7.214 - ETA: 6s - loss: 7.2458 - mse: 7.177 - ETA: 6s - loss: 7.3029 - mse: 7.234 - ETA: 6s - loss: 7.2573 - mse: 7.188 - ETA: 5s - loss: 7.3157 - mse: 7.247 - ETA: 5s - loss: 7.2794 - mse: 7.210 - ETA: 5s - loss: 7.2381 - mse: 7.169 - ETA: 5s - loss: 7.2119 - mse: 7.143 - ETA: 5s - loss: 7.1641 - mse: 7.095 - ETA: 5s - loss: 7.1317 - mse: 7.062 - ETA: 5s - loss: 7.0885 - mse: 7.019 - ETA: 5s - loss: 7.0430 - mse: 6.973 - ETA: 5s - loss: 7.0040 - mse: 6.934 - ETA: 5s - loss: 6.9614 - mse: 6.891 - ETA: 5s - loss: 6.9255 - mse: 6.856 - ETA: 5s - loss: 6.8862 - mse: 6.816 - ETA: 5s - loss: 6.8442 - mse: 6.774 - ETA: 5s - loss: 6.8057 - mse: 6.735 - ETA: 4s - loss: 6.7813 - mse: 6.711 - ETA: 4s - loss: 7.0846 - mse: 7.014 - ETA: 4s - loss: 7.0988 - mse: 7.028 - ETA: 4s - loss: 7.0632 - mse: 6.993 - ETA: 4s - loss: 7.0312 - mse: 6.961 - ETA: 4s - loss: 7.0251 - mse: 6.954 - ETA: 4s - loss: 6.9877 - mse: 6.917 - ETA: 4s - loss: 6.9800 - mse: 6.909 - ETA: 4s - loss: 6.9566 - mse: 6.886 - ETA: 4s - loss: 6.9191 - mse: 6.848 - ETA: 4s - loss: 6.9310 - mse: 6.860 - ETA: 4s - loss: 6.9124 - mse: 6.841 - ETA: 4s - loss: 6.8788 - mse: 6.808 - ETA: 4s - loss: 6.8425 - mse: 6.772 - ETA: 3s - loss: 6.8016 - mse: 6.731 - ETA: 3s - loss: 6.7763 - mse: 6.705 - ETA: 3s - loss: 6.7864 - mse: 6.715 - ETA: 3s - loss: 6.7524 - mse: 6.681 - ETA: 3s - loss: 6.7265 - mse: 6.655 - ETA: 3s - loss: 6.7095 - mse: 6.638 - ETA: 3s - loss: 6.6808 - mse: 6.610 - ETA: 3s - loss: 6.7800 - mse: 6.709 - ETA: 3s - loss: 6.7430 - mse: 6.672 - ETA: 3s - loss: 6.7135 - mse: 6.642 - ETA: 3s - loss: 6.6987 - mse: 6.627 - ETA: 3s - loss: 6.7892 - mse: 6.718 - ETA: 3s - loss: 6.7574 - mse: 6.686 - ETA: 3s - loss: 6.7294 - mse: 6.658 - ETA: 2s - loss: 6.7184 - mse: 6.647 - ETA: 2s - loss: 6.7691 - mse: 6.698 - ETA: 2s - loss: 6.7486 - mse: 6.677 - ETA: 2s - loss: 6.7199 - mse: 6.648 - ETA: 2s - loss: 6.6940 - mse: 6.622 - ETA: 2s - loss: 6.6615 - mse: 6.590 - ETA: 2s - loss: 6.6303 - mse: 6.559 - ETA: 2s - loss: 6.7651 - mse: 6.693 - ETA: 2s - loss: 6.7759 - mse: 6.704 - ETA: 2s - loss: 6.7625 - mse: 6.691 - ETA: 2s - loss: 6.7556 - mse: 6.684 - ETA: 2s - loss: 6.7332 - mse: 6.661 - ETA: 2s - loss: 6.7239 - mse: 6.652 - ETA: 2s - loss: 6.7015 - mse: 6.629 - ETA: 2s - loss: 6.6895 - mse: 6.617 - ETA: 1s - loss: 6.6645 - mse: 6.592 - ETA: 1s - loss: 6.7098 - mse: 6.637 - ETA: 1s - loss: 6.6993 - mse: 6.627 - ETA: 1s - loss: 6.7165 - mse: 6.644 - ETA: 1s - loss: 6.8033 - mse: 6.731 - ETA: 1s - loss: 6.7918 - mse: 6.719 - ETA: 1s - loss: 6.7974 - mse: 6.725 - ETA: 1s - loss: 6.7794 - mse: 6.707 - ETA: 1s - loss: 6.8451 - mse: 6.772 - ETA: 1s - loss: 6.8256 - mse: 6.753 - ETA: 1s - loss: 6.8162 - mse: 6.743 - ETA: 1s - loss: 6.7977 - mse: 6.725 - ETA: 1s - loss: 6.7817 - mse: 6.709 - ETA: 1s - loss: 6.7563 - mse: 6.683 - ETA: 1s - loss: 6.7359 - mse: 6.663 - ETA: 0s - loss: 6.7238 - mse: 6.651 - ETA: 0s - loss: 6.7428 - mse: 6.670 - ETA: 0s - loss: 7.0350 - mse: 6.962 - ETA: 0s - loss: 7.0178 - mse: 6.945 - ETA: 0s - loss: 7.0011 - mse: 6.928 - ETA: 0s - loss: 6.9881 - mse: 6.915 - ETA: 0s - loss: 6.9681 - mse: 6.895 - ETA: 0s - loss: 7.0058 - mse: 6.932 - ETA: 0s - loss: 6.9933 - mse: 6.920 - ETA: 0s - loss: 6.9918 - mse: 6.918 - ETA: 0s - loss: 7.0024 - mse: 6.929 - ETA: 0s - loss: 6.9878 - mse: 6.914 - ETA: 0s - loss: 7.0110 - mse: 6.937 - ETA: 0s - loss: 6.9895 - mse: 6.916 - ETA: 0s - loss: 6.9857 - mse: 6.912 - 12s 2us/step - loss: 6.9638 - mse: 6.8905\n",
      "Epoch 4/5\n",
      "5524842/5524842 [==============================] - ETA: 3:29 - loss: 2.5408 - mse: 2.459 - ETA: 1:00 - loss: 5.5327 - mse: 5.451 - ETA: 39s - loss: 4.5876 - mse: 4.506 - ETA: 33s - loss: 4.5084 - mse: 4.42 - ETA: 29s - loss: 4.0999 - mse: 4.01 - ETA: 25s - loss: 4.0899 - mse: 4.00 - ETA: 22s - loss: 3.7836 - mse: 3.70 - ETA: 21s - loss: 3.6626 - mse: 3.58 - ETA: 20s - loss: 3.7927 - mse: 3.71 - ETA: 19s - loss: 3.8431 - mse: 3.76 - ETA: 18s - loss: 3.7359 - mse: 3.65 - ETA: 17s - loss: 3.6691 - mse: 3.58 - ETA: 16s - loss: 3.6011 - mse: 3.52 - ETA: 16s - loss: 3.6411 - mse: 3.56 - ETA: 15s - loss: 3.5386 - mse: 3.45 - ETA: 15s - loss: 3.7547 - mse: 3.67 - ETA: 14s - loss: 3.6592 - mse: 3.57 - ETA: 14s - loss: 3.6167 - mse: 3.53 - ETA: 13s - loss: 3.5600 - mse: 3.47 - ETA: 13s - loss: 3.5008 - mse: 3.42 - ETA: 13s - loss: 3.4384 - mse: 3.35 - ETA: 13s - loss: 3.7423 - mse: 3.66 - ETA: 12s - loss: 3.8725 - mse: 3.79 - ETA: 12s - loss: 3.7875 - mse: 3.70 - ETA: 12s - loss: 3.7665 - mse: 3.68 - ETA: 12s - loss: 4.0290 - mse: 3.94 - ETA: 12s - loss: 4.0665 - mse: 3.98 - ETA: 11s - loss: 4.0237 - mse: 3.94 - ETA: 11s - loss: 3.9567 - mse: 3.87 - ETA: 11s - loss: 3.9606 - mse: 3.87 - ETA: 11s - loss: 3.9327 - mse: 3.85 - ETA: 11s - loss: 3.9449 - mse: 3.86 - ETA: 11s - loss: 3.9257 - mse: 3.84 - ETA: 11s - loss: 3.9375 - mse: 3.85 - ETA: 10s - loss: 4.0132 - mse: 3.93 - ETA: 10s - loss: 4.0553 - mse: 3.97 - ETA: 10s - loss: 4.0206 - mse: 3.93 - ETA: 10s - loss: 4.0873 - mse: 4.00 - ETA: 10s - loss: 4.1092 - mse: 4.02 - ETA: 10s - loss: 4.0914 - mse: 4.01 - ETA: 10s - loss: 4.1841 - mse: 4.10 - ETA: 10s - loss: 4.4235 - mse: 4.34 - ETA: 9s - loss: 4.3726 - mse: 4.2918 - ETA: 9s - loss: 4.3314 - mse: 4.250 - ETA: 9s - loss: 4.3896 - mse: 4.308 - ETA: 9s - loss: 4.4085 - mse: 4.327 - ETA: 9s - loss: 4.3944 - mse: 4.313 - ETA: 9s - loss: 4.3539 - mse: 4.273 - ETA: 9s - loss: 4.3130 - mse: 4.232 - ETA: 9s - loss: 4.3370 - mse: 4.256 - ETA: 9s - loss: 4.3215 - mse: 4.240 - ETA: 9s - loss: 4.2814 - mse: 4.200 - ETA: 8s - loss: 4.6449 - mse: 4.564 - ETA: 8s - loss: 4.6477 - mse: 4.566 - ETA: 8s - loss: 4.6283 - mse: 4.547 - ETA: 8s - loss: 4.6407 - mse: 4.559 - ETA: 8s - loss: 4.6029 - mse: 4.522 - ETA: 8s - loss: 4.5803 - mse: 4.499 - ETA: 8s - loss: 4.5677 - mse: 4.486 - ETA: 8s - loss: 4.5407 - mse: 4.459 - ETA: 8s - loss: 4.5258 - mse: 4.444 - ETA: 8s - loss: 4.5549 - mse: 4.473 - ETA: 8s - loss: 4.5446 - mse: 4.463 - ETA: 8s - loss: 5.3394 - mse: 5.258 - ETA: 7s - loss: 5.3500 - mse: 5.268 - ETA: 7s - loss: 5.3552 - mse: 5.274 - ETA: 7s - loss: 5.3300 - mse: 5.248 - ETA: 7s - loss: 5.3273 - mse: 5.246 - ETA: 7s - loss: 5.3420 - mse: 5.260 - ETA: 7s - loss: 5.3311 - mse: 5.249 - ETA: 7s - loss: 5.3311 - mse: 5.249 - ETA: 7s - loss: 5.3200 - mse: 5.238 - ETA: 7s - loss: 5.2724 - mse: 5.191 - ETA: 7s - loss: 5.3044 - mse: 5.223 - ETA: 7s - loss: 5.2761 - mse: 5.194 - ETA: 7s - loss: 5.2496 - mse: 5.168 - ETA: 7s - loss: 5.2248 - mse: 5.143 - ETA: 6s - loss: 5.8155 - mse: 5.734 - ETA: 6s - loss: 5.8639 - mse: 5.782 - ETA: 6s - loss: 6.0532 - mse: 5.971 - ETA: 6s - loss: 6.3618 - mse: 6.280 - ETA: 6s - loss: 6.3094 - mse: 6.227 - ETA: 6s - loss: 6.2609 - mse: 6.179 - ETA: 6s - loss: 6.2183 - mse: 6.136 - ETA: 6s - loss: 6.4712 - mse: 6.389 - ETA: 6s - loss: 6.4298 - mse: 6.348 - ETA: 6s - loss: 6.4024 - mse: 6.320 - ETA: 6s - loss: 6.3821 - mse: 6.300 - ETA: 6s - loss: 6.3698 - mse: 6.287 - ETA: 6s - loss: 6.4344 - mse: 6.352 - ETA: 6s - loss: 6.3930 - mse: 6.310 - ETA: 5s - loss: 6.3636 - mse: 6.281 - ETA: 5s - loss: 6.3435 - mse: 6.261 - ETA: 5s - loss: 6.3058 - mse: 6.223 - ETA: 5s - loss: 6.3686 - mse: 6.286 - ETA: 5s - loss: 6.4289 - mse: 6.346 - ETA: 5s - loss: 6.3904 - mse: 6.307 - ETA: 5s - loss: 6.7947 - mse: 6.712 - ETA: 5s - loss: 6.8378 - mse: 6.755 - ETA: 5s - loss: 6.8024 - mse: 6.719 - ETA: 5s - loss: 6.8853 - mse: 6.802 - ETA: 5s - loss: 6.8591 - mse: 6.776 - ETA: 5s - loss: 6.9923 - mse: 6.909 - ETA: 5s - loss: 6.9543 - mse: 6.871 - ETA: 5s - loss: 6.9988 - mse: 6.915 - ETA: 5s - loss: 6.9695 - mse: 6.886 - ETA: 5s - loss: 7.2413 - mse: 7.158 - ETA: 4s - loss: 7.2026 - mse: 7.119 - ETA: 4s - loss: 7.2860 - mse: 7.202 - ETA: 4s - loss: 7.2835 - mse: 7.200 - ETA: 4s - loss: 7.2549 - mse: 7.171 - ETA: 4s - loss: 7.2184 - mse: 7.134 - ETA: 4s - loss: 7.1890 - mse: 7.105 - ETA: 4s - loss: 7.2145 - mse: 7.130 - ETA: 4s - loss: 7.2314 - mse: 7.147 - ETA: 4s - loss: 7.2290 - mse: 7.145 - ETA: 4s - loss: 7.2030 - mse: 7.119 - ETA: 4s - loss: 7.1717 - mse: 7.087 - ETA: 4s - loss: 7.1312 - mse: 7.047 - ETA: 4s - loss: 7.1551 - mse: 7.071 - ETA: 4s - loss: 7.1214 - mse: 7.037 - ETA: 3s - loss: 7.0820 - mse: 6.997 - ETA: 3s - loss: 7.0477 - mse: 6.963 - ETA: 3s - loss: 7.0187 - mse: 6.934 - ETA: 3s - loss: 7.0614 - mse: 6.977 - ETA: 3s - loss: 7.0287 - mse: 6.944 - ETA: 3s - loss: 7.0124 - mse: 6.927 - ETA: 3s - loss: 6.9938 - mse: 6.909 - ETA: 3s - loss: 6.9719 - mse: 6.887 - ETA: 3s - loss: 6.9442 - mse: 6.859 - ETA: 3s - loss: 6.9117 - mse: 6.827 - ETA: 3s - loss: 6.8948 - mse: 6.810 - ETA: 3s - loss: 6.8980 - mse: 6.813 - ETA: 3s - loss: 6.8657 - mse: 6.780 - ETA: 3s - loss: 6.8521 - mse: 6.767 - ETA: 3s - loss: 6.8350 - mse: 6.750 - ETA: 3s - loss: 6.8052 - mse: 6.720 - ETA: 2s - loss: 6.8487 - mse: 6.763 - ETA: 2s - loss: 6.9341 - mse: 6.849 - ETA: 2s - loss: 6.9049 - mse: 6.819 - ETA: 2s - loss: 6.8881 - mse: 6.802 - ETA: 2s - loss: 6.8732 - mse: 6.787 - ETA: 2s - loss: 6.8419 - mse: 6.756 - ETA: 2s - loss: 6.8232 - mse: 6.737 - ETA: 2s - loss: 6.7944 - mse: 6.708 - ETA: 2s - loss: 6.7798 - mse: 6.694 - ETA: 2s - loss: 6.7529 - mse: 6.667 - ETA: 2s - loss: 6.7361 - mse: 6.650 - ETA: 2s - loss: 6.7113 - mse: 6.625 - ETA: 2s - loss: 6.7377 - mse: 6.651 - ETA: 2s - loss: 6.7133 - mse: 6.627 - ETA: 2s - loss: 6.6949 - mse: 6.609 - ETA: 2s - loss: 6.6743 - mse: 6.588 - ETA: 2s - loss: 6.6686 - mse: 6.582 - ETA: 2s - loss: 6.6556 - mse: 6.569 - ETA: 1s - loss: 6.6483 - mse: 6.562 - ETA: 1s - loss: 6.6394 - mse: 6.553 - ETA: 1s - loss: 6.6380 - mse: 6.552 - ETA: 1s - loss: 6.6256 - mse: 6.539 - ETA: 1s - loss: 6.6062 - mse: 6.520 - ETA: 1s - loss: 6.5911 - mse: 6.504 - ETA: 1s - loss: 6.5939 - mse: 6.507 - ETA: 1s - loss: 6.5793 - mse: 6.493 - ETA: 1s - loss: 6.5934 - mse: 6.507 - ETA: 1s - loss: 6.7385 - mse: 6.652 - ETA: 1s - loss: 6.7220 - mse: 6.635 - ETA: 1s - loss: 6.7047 - mse: 6.618 - ETA: 1s - loss: 6.7157 - mse: 6.629 - ETA: 1s - loss: 6.6895 - mse: 6.603 - ETA: 1s - loss: 6.6749 - mse: 6.588 - ETA: 1s - loss: 6.6859 - mse: 6.599 - ETA: 1s - loss: 6.6661 - mse: 6.579 - ETA: 1s - loss: 6.6389 - mse: 6.552 - ETA: 1s - loss: 6.6156 - mse: 6.528 - ETA: 0s - loss: 6.5971 - mse: 6.510 - ETA: 0s - loss: 6.5790 - mse: 6.492 - ETA: 0s - loss: 6.5811 - mse: 6.494 - ETA: 0s - loss: 6.5877 - mse: 6.500 - ETA: 0s - loss: 6.5904 - mse: 6.503 - ETA: 0s - loss: 6.5647 - mse: 6.477 - ETA: 0s - loss: 6.5485 - mse: 6.461 - ETA: 0s - loss: 6.5312 - mse: 6.444 - ETA: 0s - loss: 6.5257 - mse: 6.438 - ETA: 0s - loss: 6.5075 - mse: 6.420 - ETA: 0s - loss: 6.4883 - mse: 6.401 - ETA: 0s - loss: 6.4962 - mse: 6.408 - ETA: 0s - loss: 6.5685 - mse: 6.481 - ETA: 0s - loss: 6.5598 - mse: 6.472 - ETA: 0s - loss: 6.5647 - mse: 6.477 - ETA: 0s - loss: 6.5493 - mse: 6.461 - 12s 2us/step - loss: 6.5412 - mse: 6.4537\n",
      "Epoch 5/5\n"
     ]
    },
    {
     "name": "stdout",
     "output_type": "stream",
     "text": [
      "5524842/5524842 [==============================] - ETA: 4:20 - loss: 7.6002 - mse: 7.505 - ETA: 1:14 - loss: 3.5273 - mse: 3.432 - ETA: 47s - loss: 2.8289 - mse: 2.734 - ETA: 36s - loss: 2.7375 - mse: 2.64 - ETA: 30s - loss: 4.7772 - mse: 4.68 - ETA: 27s - loss: 4.6052 - mse: 4.51 - ETA: 24s - loss: 4.2619 - mse: 4.16 - ETA: 22s - loss: 4.0246 - mse: 3.92 - ETA: 21s - loss: 11.0501 - mse: 10.95 - ETA: 20s - loss: 10.3442 - mse: 10.24 - ETA: 19s - loss: 9.5763 - mse: 9.4815 - ETA: 18s - loss: 9.1479 - mse: 9.05 - ETA: 17s - loss: 8.7605 - mse: 8.66 - ETA: 17s - loss: 8.3429 - mse: 8.24 - ETA: 16s - loss: 8.0333 - mse: 7.93 - ETA: 16s - loss: 7.7033 - mse: 7.60 - ETA: 16s - loss: 7.4605 - mse: 7.36 - ETA: 16s - loss: 8.0547 - mse: 7.95 - ETA: 15s - loss: 7.8642 - mse: 7.76 - ETA: 15s - loss: 7.6526 - mse: 7.55 - ETA: 15s - loss: 7.5098 - mse: 7.41 - ETA: 15s - loss: 7.2519 - mse: 7.15 - ETA: 15s - loss: 7.2969 - mse: 7.20 - ETA: 15s - loss: 7.1438 - mse: 7.04 - ETA: 14s - loss: 7.2822 - mse: 7.18 - ETA: 14s - loss: 7.1761 - mse: 7.08 - ETA: 14s - loss: 6.9627 - mse: 6.86 - ETA: 13s - loss: 7.0323 - mse: 6.93 - ETA: 13s - loss: 6.9229 - mse: 6.82 - ETA: 13s - loss: 6.7818 - mse: 6.68 - ETA: 13s - loss: 6.6795 - mse: 6.58 - ETA: 13s - loss: 7.5853 - mse: 7.48 - ETA: 13s - loss: 7.4241 - mse: 7.32 - ETA: 12s - loss: 7.8998 - mse: 7.80 - ETA: 12s - loss: 7.7819 - mse: 7.68 - ETA: 12s - loss: 7.6487 - mse: 7.55 - ETA: 12s - loss: 7.7798 - mse: 7.68 - ETA: 12s - loss: 7.6491 - mse: 7.55 - ETA: 12s - loss: 7.7049 - mse: 7.60 - ETA: 11s - loss: 7.5870 - mse: 7.49 - ETA: 11s - loss: 7.5974 - mse: 7.50 - ETA: 11s - loss: 7.4962 - mse: 7.40 - ETA: 11s - loss: 7.4269 - mse: 7.33 - ETA: 11s - loss: 7.4590 - mse: 7.36 - ETA: 11s - loss: 7.3569 - mse: 7.26 - ETA: 11s - loss: 7.3547 - mse: 7.25 - ETA: 10s - loss: 7.2719 - mse: 7.17 - ETA: 10s - loss: 7.2967 - mse: 7.20 - ETA: 10s - loss: 7.2468 - mse: 7.15 - ETA: 10s - loss: 7.1909 - mse: 7.09 - ETA: 10s - loss: 7.0999 - mse: 7.00 - ETA: 10s - loss: 7.0321 - mse: 6.93 - ETA: 10s - loss: 7.0625 - mse: 6.96 - ETA: 10s - loss: 7.0083 - mse: 6.91 - ETA: 9s - loss: 6.9290 - mse: 6.8326 - ETA: 9s - loss: 6.8467 - mse: 6.750 - ETA: 9s - loss: 6.7770 - mse: 6.680 - ETA: 9s - loss: 6.7378 - mse: 6.641 - ETA: 9s - loss: 6.7015 - mse: 6.605 - ETA: 9s - loss: 6.6645 - mse: 6.568 - ETA: 9s - loss: 6.6024 - mse: 6.505 - ETA: 9s - loss: 6.5683 - mse: 6.471 - ETA: 9s - loss: 6.5056 - mse: 6.409 - ETA: 8s - loss: 6.4383 - mse: 6.341 - ETA: 8s - loss: 6.5869 - mse: 6.490 - ETA: 8s - loss: 6.7073 - mse: 6.610 - ETA: 8s - loss: 6.6793 - mse: 6.582 - ETA: 8s - loss: 6.7343 - mse: 6.637 - ETA: 8s - loss: 6.6743 - mse: 6.577 - ETA: 8s - loss: 6.6140 - mse: 6.517 - ETA: 8s - loss: 6.5786 - mse: 6.481 - ETA: 8s - loss: 6.6060 - mse: 6.509 - ETA: 8s - loss: 6.5702 - mse: 6.473 - ETA: 8s - loss: 6.5090 - mse: 6.412 - ETA: 7s - loss: 6.4668 - mse: 6.369 - ETA: 7s - loss: 6.5092 - mse: 6.412 - ETA: 7s - loss: 6.4546 - mse: 6.357 - ETA: 7s - loss: 6.7857 - mse: 6.688 - ETA: 7s - loss: 6.7292 - mse: 6.632 - ETA: 7s - loss: 6.6743 - mse: 6.577 - ETA: 7s - loss: 6.6250 - mse: 6.527 - ETA: 7s - loss: 6.5879 - mse: 6.490 - ETA: 7s - loss: 6.5496 - mse: 6.452 - ETA: 7s - loss: 6.4954 - mse: 6.398 - ETA: 7s - loss: 6.4520 - mse: 6.354 - ETA: 7s - loss: 6.4476 - mse: 6.350 - ETA: 6s - loss: 6.4321 - mse: 6.334 - ETA: 6s - loss: 6.3838 - mse: 6.286 - ETA: 6s - loss: 6.3573 - mse: 6.260 - ETA: 6s - loss: 6.3270 - mse: 6.229 - ETA: 6s - loss: 6.2849 - mse: 6.187 - ETA: 6s - loss: 6.2384 - mse: 6.141 - ETA: 6s - loss: 6.5188 - mse: 6.421 - ETA: 6s - loss: 6.4939 - mse: 6.396 - ETA: 6s - loss: 6.4447 - mse: 6.347 - ETA: 6s - loss: 6.4325 - mse: 6.335 - ETA: 6s - loss: 6.4026 - mse: 6.305 - ETA: 6s - loss: 6.3787 - mse: 6.281 - ETA: 6s - loss: 6.3443 - mse: 6.247 - ETA: 5s - loss: 6.3117 - mse: 6.214 - ETA: 5s - loss: 6.2699 - mse: 6.172 - ETA: 5s - loss: 6.2343 - mse: 6.136 - ETA: 5s - loss: 6.2997 - mse: 6.202 - ETA: 5s - loss: 6.2625 - mse: 6.165 - ETA: 5s - loss: 6.2209 - mse: 6.123 - ETA: 5s - loss: 6.5783 - mse: 6.480 - ETA: 5s - loss: 6.5443 - mse: 6.446 - ETA: 5s - loss: 6.5060 - mse: 6.408 - ETA: 5s - loss: 6.4764 - mse: 6.378 - ETA: 5s - loss: 6.4373 - mse: 6.339 - ETA: 5s - loss: 6.3980 - mse: 6.300 - ETA: 5s - loss: 6.3574 - mse: 6.259 - ETA: 5s - loss: 6.3553 - mse: 6.257 - ETA: 4s - loss: 6.3209 - mse: 6.223 - ETA: 4s - loss: 6.2837 - mse: 6.186 - ETA: 4s - loss: 6.2569 - mse: 6.159 - ETA: 4s - loss: 6.2195 - mse: 6.121 - ETA: 4s - loss: 6.2261 - mse: 6.128 - ETA: 4s - loss: 6.2081 - mse: 6.110 - ETA: 4s - loss: 6.1945 - mse: 6.096 - ETA: 4s - loss: 6.1782 - mse: 6.080 - ETA: 4s - loss: 6.1550 - mse: 6.057 - ETA: 4s - loss: 6.1345 - mse: 6.037 - ETA: 4s - loss: 6.1090 - mse: 6.011 - ETA: 4s - loss: 6.0789 - mse: 5.981 - ETA: 4s - loss: 6.1172 - mse: 6.019 - ETA: 4s - loss: 6.1015 - mse: 6.004 - ETA: 3s - loss: 6.0909 - mse: 5.993 - ETA: 3s - loss: 6.0700 - mse: 5.972 - ETA: 3s - loss: 6.0465 - mse: 5.949 - ETA: 3s - loss: 6.0308 - mse: 5.933 - ETA: 3s - loss: 6.0035 - mse: 5.906 - ETA: 3s - loss: 5.9869 - mse: 5.889 - ETA: 3s - loss: 6.1358 - mse: 6.038 - ETA: 3s - loss: 6.1132 - mse: 6.015 - ETA: 3s - loss: 6.0975 - mse: 6.000 - ETA: 3s - loss: 6.3975 - mse: 6.300 - ETA: 3s - loss: 6.4336 - mse: 6.336 - ETA: 3s - loss: 6.4291 - mse: 6.331 - ETA: 3s - loss: 6.4852 - mse: 6.387 - ETA: 3s - loss: 6.4749 - mse: 6.377 - ETA: 3s - loss: 6.5259 - mse: 6.428 - ETA: 2s - loss: 6.4984 - mse: 6.400 - ETA: 2s - loss: 6.4730 - mse: 6.375 - ETA: 2s - loss: 6.4606 - mse: 6.363 - ETA: 2s - loss: 6.4286 - mse: 6.331 - ETA: 2s - loss: 6.3973 - mse: 6.299 - ETA: 2s - loss: 6.4062 - mse: 6.308 - ETA: 2s - loss: 6.3777 - mse: 6.280 - ETA: 2s - loss: 6.3618 - mse: 6.264 - ETA: 2s - loss: 6.3689 - mse: 6.271 - ETA: 2s - loss: 6.3485 - mse: 6.250 - ETA: 2s - loss: 6.3337 - mse: 6.236 - ETA: 2s - loss: 6.3427 - mse: 6.244 - ETA: 2s - loss: 6.3521 - mse: 6.254 - ETA: 2s - loss: 6.3267 - mse: 6.228 - ETA: 2s - loss: 6.3140 - mse: 6.216 - ETA: 1s - loss: 6.2937 - mse: 6.195 - ETA: 1s - loss: 6.3118 - mse: 6.213 - ETA: 1s - loss: 6.2903 - mse: 6.192 - ETA: 1s - loss: 6.3174 - mse: 6.219 - ETA: 1s - loss: 6.3140 - mse: 6.216 - ETA: 1s - loss: 6.3148 - mse: 6.216 - ETA: 1s - loss: 6.3576 - mse: 6.259 - ETA: 1s - loss: 6.3431 - mse: 6.245 - ETA: 1s - loss: 6.3447 - mse: 6.246 - ETA: 1s - loss: 6.3209 - mse: 6.222 - ETA: 1s - loss: 6.3155 - mse: 6.217 - ETA: 1s - loss: 6.3451 - mse: 6.247 - ETA: 1s - loss: 6.3333 - mse: 6.235 - ETA: 1s - loss: 6.3321 - mse: 6.234 - ETA: 1s - loss: 6.3863 - mse: 6.288 - ETA: 1s - loss: 6.3901 - mse: 6.292 - ETA: 0s - loss: 6.3732 - mse: 6.275 - ETA: 0s - loss: 6.4922 - mse: 6.394 - ETA: 0s - loss: 6.4806 - mse: 6.382 - ETA: 0s - loss: 6.4663 - mse: 6.368 - ETA: 0s - loss: 6.4444 - mse: 6.346 - ETA: 0s - loss: 6.4233 - mse: 6.325 - ETA: 0s - loss: 6.4471 - mse: 6.349 - ETA: 0s - loss: 6.4252 - mse: 6.327 - ETA: 0s - loss: 6.4065 - mse: 6.308 - ETA: 0s - loss: 6.3841 - mse: 6.285 - ETA: 0s - loss: 6.3684 - mse: 6.270 - ETA: 0s - loss: 6.3879 - mse: 6.289 - ETA: 0s - loss: 6.3700 - mse: 6.271 - ETA: 0s - loss: 6.3608 - mse: 6.262 - ETA: 0s - loss: 6.3489 - mse: 6.250 - ETA: 0s - loss: 6.3843 - mse: 6.285 - 12s 2us/step - loss: 6.3823 - mse: 6.2839\n",
      "31\n",
      "Epoch 1/5\n",
      "5753731/5753731 [==============================] - ETA: 6:30 - loss: 3.6905 - mse: 3.683 - ETA: 1:45 - loss: 3.8307 - mse: 3.823 - ETA: 1:05 - loss: 9.6979 - mse: 9.690 - ETA: 48s - loss: 12.1750 - mse: 12.16 - ETA: 39s - loss: 10.1221 - mse: 10.11 - ETA: 34s - loss: 10.7257 - mse: 10.71 - ETA: 30s - loss: 9.7704 - mse: 9.7634 - ETA: 27s - loss: 12.1002 - mse: 12.09 - ETA: 25s - loss: 10.9567 - mse: 10.94 - ETA: 23s - loss: 10.1998 - mse: 10.19 - ETA: 22s - loss: 12.4224 - mse: 12.41 - ETA: 21s - loss: 12.2336 - mse: 12.22 - ETA: 20s - loss: 12.4576 - mse: 12.45 - ETA: 19s - loss: 13.8446 - mse: 13.83 - ETA: 18s - loss: 13.1638 - mse: 13.15 - ETA: 18s - loss: 16.5773 - mse: 16.57 - ETA: 17s - loss: 16.2402 - mse: 16.23 - ETA: 16s - loss: 15.4690 - mse: 15.46 - ETA: 16s - loss: 14.7889 - mse: 14.78 - ETA: 16s - loss: 14.1433 - mse: 14.13 - ETA: 15s - loss: 13.6344 - mse: 13.62 - ETA: 15s - loss: 13.1010 - mse: 13.09 - ETA: 15s - loss: 12.8801 - mse: 12.87 - ETA: 14s - loss: 13.0206 - mse: 13.01 - ETA: 14s - loss: 12.6031 - mse: 12.59 - ETA: 14s - loss: 12.3907 - mse: 12.38 - ETA: 13s - loss: 12.0836 - mse: 12.07 - ETA: 13s - loss: 11.7041 - mse: 11.69 - ETA: 13s - loss: 11.4187 - mse: 11.41 - ETA: 13s - loss: 11.2030 - mse: 11.19 - ETA: 12s - loss: 10.9395 - mse: 10.93 - ETA: 12s - loss: 11.0792 - mse: 11.07 - ETA: 12s - loss: 11.3329 - mse: 11.32 - ETA: 12s - loss: 11.1001 - mse: 11.09 - ETA: 12s - loss: 10.9097 - mse: 10.90 - ETA: 12s - loss: 10.6872 - mse: 10.68 - ETA: 11s - loss: 10.5166 - mse: 10.50 - ETA: 11s - loss: 10.5464 - mse: 10.53 - ETA: 11s - loss: 10.5885 - mse: 10.58 - ETA: 11s - loss: 10.5702 - mse: 10.56 - ETA: 11s - loss: 10.4116 - mse: 10.40 - ETA: 11s - loss: 10.5829 - mse: 10.57 - ETA: 11s - loss: 10.4054 - mse: 10.39 - ETA: 10s - loss: 10.2280 - mse: 10.22 - ETA: 10s - loss: 10.3899 - mse: 10.38 - ETA: 10s - loss: 10.6186 - mse: 10.61 - ETA: 10s - loss: 10.4504 - mse: 10.44 - ETA: 10s - loss: 10.2795 - mse: 10.27 - ETA: 10s - loss: 10.2293 - mse: 10.22 - ETA: 10s - loss: 10.1970 - mse: 10.18 - ETA: 10s - loss: 10.0942 - mse: 10.08 - ETA: 10s - loss: 10.0211 - mse: 10.01 - ETA: 9s - loss: 10.2759 - mse: 10.2676 - ETA: 9s - loss: 10.3950 - mse: 10.386 - ETA: 9s - loss: 10.2503 - mse: 10.241 - ETA: 9s - loss: 10.2363 - mse: 10.227 - ETA: 9s - loss: 10.1648 - mse: 10.156 - ETA: 9s - loss: 10.0480 - mse: 10.039 - ETA: 9s - loss: 9.9270 - mse: 9.9184  - ETA: 9s - loss: 9.8244 - mse: 9.815 - ETA: 9s - loss: 9.7153 - mse: 9.706 - ETA: 9s - loss: 9.6433 - mse: 9.634 - ETA: 8s - loss: 9.5347 - mse: 9.525 - ETA: 8s - loss: 9.4320 - mse: 9.423 - ETA: 8s - loss: 9.3390 - mse: 9.330 - ETA: 8s - loss: 9.3143 - mse: 9.305 - ETA: 8s - loss: 9.2177 - mse: 9.208 - ETA: 8s - loss: 9.2793 - mse: 9.270 - ETA: 8s - loss: 9.1984 - mse: 9.189 - ETA: 8s - loss: 9.1745 - mse: 9.165 - ETA: 8s - loss: 9.2012 - mse: 9.192 - ETA: 8s - loss: 9.4917 - mse: 9.482 - ETA: 8s - loss: 9.4085 - mse: 9.399 - ETA: 7s - loss: 9.3472 - mse: 9.337 - ETA: 7s - loss: 9.3207 - mse: 9.311 - ETA: 7s - loss: 9.2570 - mse: 9.247 - ETA: 7s - loss: 9.1997 - mse: 9.190 - ETA: 7s - loss: 9.2124 - mse: 9.202 - ETA: 7s - loss: 9.1504 - mse: 9.140 - ETA: 7s - loss: 9.0680 - mse: 9.058 - ETA: 7s - loss: 8.9865 - mse: 8.976 - ETA: 7s - loss: 8.9506 - mse: 8.940 - ETA: 7s - loss: 8.8833 - mse: 8.873 - ETA: 7s - loss: 8.8641 - mse: 8.854 - ETA: 7s - loss: 8.7958 - mse: 8.785 - ETA: 6s - loss: 8.7271 - mse: 8.717 - ETA: 6s - loss: 8.6674 - mse: 8.657 - ETA: 6s - loss: 8.6115 - mse: 8.601 - ETA: 6s - loss: 9.2860 - mse: 9.275 - ETA: 6s - loss: 9.4812 - mse: 9.471 - ETA: 6s - loss: 9.4022 - mse: 9.392 - ETA: 6s - loss: 9.3475 - mse: 9.337 - ETA: 6s - loss: 9.3059 - mse: 9.295 - ETA: 6s - loss: 9.2285 - mse: 9.218 - ETA: 6s - loss: 9.1769 - mse: 9.166 - ETA: 6s - loss: 9.1182 - mse: 9.107 - ETA: 6s - loss: 9.1087 - mse: 9.098 - ETA: 6s - loss: 9.1467 - mse: 9.136 - ETA: 5s - loss: 9.1546 - mse: 9.144 - ETA: 5s - loss: 9.1219 - mse: 9.111 - ETA: 5s - loss: 9.0869 - mse: 9.076 - ETA: 5s - loss: 9.0209 - mse: 9.010 - ETA: 5s - loss: 8.9755 - mse: 8.964 - ETA: 5s - loss: 8.9103 - mse: 8.899 - ETA: 5s - loss: 8.8589 - mse: 8.848 - ETA: 5s - loss: 8.8596 - mse: 8.848 - ETA: 5s - loss: 9.3050 - mse: 9.294 - ETA: 5s - loss: 9.2473 - mse: 9.236 - ETA: 5s - loss: 9.1940 - mse: 9.183 - ETA: 5s - loss: 9.1649 - mse: 9.153 - ETA: 5s - loss: 9.1855 - mse: 9.174 - ETA: 5s - loss: 9.1358 - mse: 9.124 - ETA: 5s - loss: 9.5172 - mse: 9.506 - ETA: 4s - loss: 9.4658 - mse: 9.454 - ETA: 4s - loss: 9.4225 - mse: 9.411 - ETA: 4s - loss: 9.3893 - mse: 9.378 - ETA: 4s - loss: 9.3617 - mse: 9.350 - ETA: 4s - loss: 9.3189 - mse: 9.307 - ETA: 4s - loss: 9.2671 - mse: 9.255 - ETA: 4s - loss: 9.2519 - mse: 9.240 - ETA: 4s - loss: 9.2015 - mse: 9.190 - ETA: 4s - loss: 9.1534 - mse: 9.141 - ETA: 4s - loss: 9.1138 - mse: 9.102 - ETA: 4s - loss: 9.0784 - mse: 9.066 - ETA: 4s - loss: 9.0318 - mse: 9.020 - ETA: 4s - loss: 9.0354 - mse: 9.023 - ETA: 4s - loss: 8.9909 - mse: 8.979 - ETA: 3s - loss: 8.9520 - mse: 8.940 - ETA: 3s - loss: 8.9137 - mse: 8.901 - ETA: 3s - loss: 8.8638 - mse: 8.851 - ETA: 3s - loss: 8.8109 - mse: 8.798 - ETA: 3s - loss: 8.9205 - mse: 8.908 - ETA: 3s - loss: 8.8912 - mse: 8.879 - ETA: 3s - loss: 8.9712 - mse: 8.959 - ETA: 3s - loss: 8.9227 - mse: 8.910 - ETA: 3s - loss: 8.8938 - mse: 8.881 - ETA: 3s - loss: 8.8446 - mse: 8.832 - ETA: 3s - loss: 8.8079 - mse: 8.795 - ETA: 3s - loss: 8.7628 - mse: 8.750 - ETA: 3s - loss: 8.7314 - mse: 8.718 - ETA: 3s - loss: 8.6919 - mse: 8.679 - ETA: 3s - loss: 8.8172 - mse: 8.804 - ETA: 3s - loss: 8.8102 - mse: 8.797 - ETA: 2s - loss: 8.7697 - mse: 8.757 - ETA: 2s - loss: 8.7724 - mse: 8.759 - ETA: 2s - loss: 8.8804 - mse: 8.867 - ETA: 2s - loss: 8.8726 - mse: 8.859 - ETA: 2s - loss: 8.8443 - mse: 8.831 - ETA: 2s - loss: 8.8763 - mse: 8.863 - ETA: 2s - loss: 8.8582 - mse: 8.845 - ETA: 2s - loss: 8.8201 - mse: 8.807 - ETA: 2s - loss: 8.7899 - mse: 8.776 - ETA: 2s - loss: 8.7471 - mse: 8.734 - ETA: 2s - loss: 8.7301 - mse: 8.716 - ETA: 2s - loss: 8.6892 - mse: 8.675 - ETA: 2s - loss: 8.6604 - mse: 8.647 - ETA: 2s - loss: 8.6182 - mse: 8.604 - ETA: 2s - loss: 8.6071 - mse: 8.593 - ETA: 2s - loss: 8.5730 - mse: 8.559 - ETA: 1s - loss: 8.5449 - mse: 8.531 - ETA: 1s - loss: 8.5265 - mse: 8.512 - ETA: 1s - loss: 8.5589 - mse: 8.545 - ETA: 1s - loss: 8.5274 - mse: 8.513 - ETA: 1s - loss: 8.4887 - mse: 8.475 - ETA: 1s - loss: 8.5226 - mse: 8.508 - ETA: 1s - loss: 8.6467 - mse: 8.632 - ETA: 1s - loss: 8.6133 - mse: 8.599 - ETA: 1s - loss: 8.5883 - mse: 8.574 - ETA: 1s - loss: 8.5746 - mse: 8.560 - ETA: 1s - loss: 8.5479 - mse: 8.533 - ETA: 1s - loss: 8.5085 - mse: 8.494 - ETA: 1s - loss: 8.4707 - mse: 8.456 - ETA: 1s - loss: 8.4487 - mse: 8.434 - ETA: 1s - loss: 8.4644 - mse: 8.450 - ETA: 1s - loss: 8.4296 - mse: 8.415 - ETA: 0s - loss: 8.4203 - mse: 8.405 - ETA: 0s - loss: 8.5719 - mse: 8.557 - ETA: 0s - loss: 8.5452 - mse: 8.530 - ETA: 0s - loss: 8.5498 - mse: 8.535 - ETA: 0s - loss: 8.5645 - mse: 8.549 - ETA: 0s - loss: 8.6037 - mse: 8.589 - ETA: 0s - loss: 8.6078 - mse: 8.593 - ETA: 0s - loss: 8.6159 - mse: 8.601 - ETA: 0s - loss: 8.5852 - mse: 8.570 - ETA: 0s - loss: 8.5731 - mse: 8.558 - ETA: 0s - loss: 8.5583 - mse: 8.543 - ETA: 0s - loss: 8.5585 - mse: 8.543 - ETA: 0s - loss: 8.5459 - mse: 8.530 - ETA: 0s - loss: 8.6310 - mse: 8.615 - ETA: 0s - loss: 8.6039 - mse: 8.588 - ETA: 0s - loss: 8.6028 - mse: 8.587 - 12s 2us/step - loss: 8.5752 - mse: 8.5598\n",
      "Epoch 2/5\n"
     ]
    },
    {
     "name": "stdout",
     "output_type": "stream",
     "text": [
      "5753731/5753731 [==============================] - ETA: 3:28 - loss: 14.2010 - mse: 14.172 - ETA: 59s - loss: 7.9134 - mse: 7.8845  - ETA: 38s - loss: 6.8232 - mse: 6.79 - ETA: 30s - loss: 5.4779 - mse: 5.44 - ETA: 25s - loss: 4.8735 - mse: 4.84 - ETA: 22s - loss: 5.2478 - mse: 5.21 - ETA: 20s - loss: 4.8232 - mse: 4.79 - ETA: 19s - loss: 5.2816 - mse: 5.25 - ETA: 18s - loss: 5.0147 - mse: 4.98 - ETA: 17s - loss: 5.2270 - mse: 5.19 - ETA: 16s - loss: 4.9592 - mse: 4.92 - ETA: 15s - loss: 4.9767 - mse: 4.94 - ETA: 15s - loss: 4.8071 - mse: 4.77 - ETA: 14s - loss: 5.3790 - mse: 5.34 - ETA: 14s - loss: 5.2550 - mse: 5.22 - ETA: 13s - loss: 5.0871 - mse: 5.05 - ETA: 13s - loss: 4.9247 - mse: 4.89 - ETA: 13s - loss: 4.7431 - mse: 4.71 - ETA: 13s - loss: 6.1627 - mse: 6.13 - ETA: 12s - loss: 6.4967 - mse: 6.46 - ETA: 12s - loss: 6.3316 - mse: 6.30 - ETA: 12s - loss: 6.1577 - mse: 6.12 - ETA: 12s - loss: 6.1321 - mse: 6.10 - ETA: 12s - loss: 6.0058 - mse: 5.97 - ETA: 11s - loss: 5.9181 - mse: 5.88 - ETA: 11s - loss: 5.7960 - mse: 5.76 - ETA: 11s - loss: 6.3705 - mse: 6.33 - ETA: 11s - loss: 6.2745 - mse: 6.24 - ETA: 11s - loss: 6.3921 - mse: 6.35 - ETA: 11s - loss: 6.2986 - mse: 6.26 - ETA: 11s - loss: 6.2435 - mse: 6.21 - ETA: 10s - loss: 6.1778 - mse: 6.14 - ETA: 10s - loss: 6.0794 - mse: 6.04 - ETA: 10s - loss: 6.1747 - mse: 6.14 - ETA: 10s - loss: 6.1206 - mse: 6.08 - ETA: 10s - loss: 6.1901 - mse: 6.15 - ETA: 10s - loss: 6.1683 - mse: 6.13 - ETA: 10s - loss: 6.0474 - mse: 6.01 - ETA: 10s - loss: 5.9739 - mse: 5.93 - ETA: 9s - loss: 5.8724 - mse: 5.8381 - ETA: 9s - loss: 5.7777 - mse: 5.743 - ETA: 9s - loss: 5.7143 - mse: 5.679 - ETA: 9s - loss: 5.7244 - mse: 5.689 - ETA: 9s - loss: 5.7643 - mse: 5.729 - ETA: 9s - loss: 5.7895 - mse: 5.754 - ETA: 9s - loss: 5.7255 - mse: 5.690 - ETA: 9s - loss: 5.6460 - mse: 5.611 - ETA: 9s - loss: 6.0292 - mse: 5.994 - ETA: 9s - loss: 6.2615 - mse: 6.226 - ETA: 9s - loss: 6.2074 - mse: 6.171 - ETA: 9s - loss: 6.1704 - mse: 6.134 - ETA: 8s - loss: 6.6014 - mse: 6.565 - ETA: 8s - loss: 6.6462 - mse: 6.610 - ETA: 8s - loss: 6.6720 - mse: 6.636 - ETA: 8s - loss: 6.6352 - mse: 6.599 - ETA: 8s - loss: 6.5613 - mse: 6.525 - ETA: 8s - loss: 6.5077 - mse: 6.471 - ETA: 8s - loss: 6.5214 - mse: 6.484 - ETA: 8s - loss: 6.4662 - mse: 6.429 - ETA: 8s - loss: 6.3973 - mse: 6.360 - ETA: 8s - loss: 6.3411 - mse: 6.304 - ETA: 8s - loss: 6.2667 - mse: 6.229 - ETA: 8s - loss: 6.2024 - mse: 6.165 - ETA: 7s - loss: 6.2007 - mse: 6.163 - ETA: 7s - loss: 6.1448 - mse: 6.107 - ETA: 7s - loss: 6.0793 - mse: 6.042 - ETA: 7s - loss: 6.1306 - mse: 6.093 - ETA: 7s - loss: 6.4734 - mse: 6.435 - ETA: 7s - loss: 6.4353 - mse: 6.397 - ETA: 7s - loss: 6.3764 - mse: 6.338 - ETA: 7s - loss: 6.3441 - mse: 6.306 - ETA: 7s - loss: 6.3007 - mse: 6.262 - ETA: 7s - loss: 6.2916 - mse: 6.253 - ETA: 7s - loss: 6.2786 - mse: 6.240 - ETA: 7s - loss: 6.2164 - mse: 6.178 - ETA: 7s - loss: 6.2094 - mse: 6.171 - ETA: 7s - loss: 6.2383 - mse: 6.199 - ETA: 6s - loss: 6.8584 - mse: 6.820 - ETA: 6s - loss: 6.8233 - mse: 6.784 - ETA: 6s - loss: 6.8554 - mse: 6.816 - ETA: 6s - loss: 6.8096 - mse: 6.770 - ETA: 6s - loss: 6.7714 - mse: 6.732 - ETA: 6s - loss: 6.7364 - mse: 6.697 - ETA: 6s - loss: 6.7418 - mse: 6.702 - ETA: 6s - loss: 6.8797 - mse: 6.840 - ETA: 6s - loss: 6.8438 - mse: 6.804 - ETA: 6s - loss: 6.7969 - mse: 6.757 - ETA: 6s - loss: 6.7711 - mse: 6.731 - ETA: 6s - loss: 6.7234 - mse: 6.683 - ETA: 6s - loss: 6.6764 - mse: 6.636 - ETA: 6s - loss: 6.7017 - mse: 6.661 - ETA: 6s - loss: 6.6603 - mse: 6.620 - ETA: 5s - loss: 6.6237 - mse: 6.583 - ETA: 5s - loss: 6.5940 - mse: 6.553 - ETA: 5s - loss: 6.6129 - mse: 6.572 - ETA: 5s - loss: 6.6359 - mse: 6.595 - ETA: 5s - loss: 6.5959 - mse: 6.555 - ETA: 5s - loss: 6.5729 - mse: 6.532 - ETA: 5s - loss: 6.6445 - mse: 6.603 - ETA: 5s - loss: 6.6014 - mse: 6.560 - ETA: 5s - loss: 6.5742 - mse: 6.533 - ETA: 5s - loss: 6.5415 - mse: 6.500 - ETA: 5s - loss: 6.5223 - mse: 6.481 - ETA: 5s - loss: 6.4879 - mse: 6.446 - ETA: 5s - loss: 6.4737 - mse: 6.432 - ETA: 5s - loss: 6.4672 - mse: 6.425 - ETA: 5s - loss: 6.4809 - mse: 6.439 - ETA: 5s - loss: 6.4638 - mse: 6.422 - ETA: 4s - loss: 6.4250 - mse: 6.383 - ETA: 4s - loss: 6.4823 - mse: 6.440 - ETA: 4s - loss: 6.4745 - mse: 6.432 - ETA: 4s - loss: 6.4723 - mse: 6.430 - ETA: 4s - loss: 6.4530 - mse: 6.410 - ETA: 4s - loss: 6.4245 - mse: 6.382 - ETA: 4s - loss: 6.4000 - mse: 6.357 - ETA: 4s - loss: 6.3935 - mse: 6.351 - ETA: 4s - loss: 6.3868 - mse: 6.344 - ETA: 4s - loss: 6.3887 - mse: 6.346 - ETA: 4s - loss: 7.0006 - mse: 6.958 - ETA: 4s - loss: 6.9619 - mse: 6.919 - ETA: 4s - loss: 6.9354 - mse: 6.892 - ETA: 4s - loss: 6.9724 - mse: 6.929 - ETA: 4s - loss: 6.9418 - mse: 6.898 - ETA: 4s - loss: 6.9370 - mse: 6.894 - ETA: 3s - loss: 6.9004 - mse: 6.857 - ETA: 3s - loss: 6.8626 - mse: 6.819 - ETA: 3s - loss: 6.8300 - mse: 6.786 - ETA: 3s - loss: 6.8160 - mse: 6.772 - ETA: 3s - loss: 6.9790 - mse: 6.935 - ETA: 3s - loss: 6.9583 - mse: 6.914 - ETA: 3s - loss: 6.9282 - mse: 6.884 - ETA: 3s - loss: 6.9010 - mse: 6.857 - ETA: 3s - loss: 6.8797 - mse: 6.836 - ETA: 3s - loss: 6.8464 - mse: 6.802 - ETA: 3s - loss: 6.8267 - mse: 6.782 - ETA: 3s - loss: 6.7917 - mse: 6.747 - ETA: 3s - loss: 6.7886 - mse: 6.744 - ETA: 3s - loss: 6.8221 - mse: 6.777 - ETA: 3s - loss: 6.9948 - mse: 6.950 - ETA: 3s - loss: 6.9642 - mse: 6.919 - ETA: 3s - loss: 6.9522 - mse: 6.907 - ETA: 2s - loss: 6.9226 - mse: 6.878 - ETA: 2s - loss: 7.3108 - mse: 7.266 - ETA: 2s - loss: 7.2760 - mse: 7.231 - ETA: 2s - loss: 7.2384 - mse: 7.193 - ETA: 2s - loss: 7.2093 - mse: 7.164 - ETA: 2s - loss: 7.1772 - mse: 7.132 - ETA: 2s - loss: 7.1475 - mse: 7.102 - ETA: 2s - loss: 7.1359 - mse: 7.090 - ETA: 2s - loss: 7.2356 - mse: 7.190 - ETA: 2s - loss: 7.2027 - mse: 7.157 - ETA: 2s - loss: 7.2004 - mse: 7.155 - ETA: 2s - loss: 7.1688 - mse: 7.123 - ETA: 2s - loss: 7.1403 - mse: 7.094 - ETA: 2s - loss: 7.1614 - mse: 7.115 - ETA: 2s - loss: 7.1341 - mse: 7.088 - ETA: 2s - loss: 7.1148 - mse: 7.069 - ETA: 2s - loss: 7.1055 - mse: 7.059 - ETA: 1s - loss: 7.0861 - mse: 7.040 - ETA: 1s - loss: 7.0565 - mse: 7.010 - ETA: 1s - loss: 7.0643 - mse: 7.018 - ETA: 1s - loss: 7.0310 - mse: 6.985 - ETA: 1s - loss: 7.0024 - mse: 6.956 - ETA: 1s - loss: 6.9747 - mse: 6.928 - ETA: 1s - loss: 6.9448 - mse: 6.898 - ETA: 1s - loss: 6.9160 - mse: 6.869 - ETA: 1s - loss: 6.9278 - mse: 6.881 - ETA: 1s - loss: 6.9091 - mse: 6.862 - ETA: 1s - loss: 6.9093 - mse: 6.862 - ETA: 1s - loss: 6.9618 - mse: 6.915 - ETA: 1s - loss: 6.9579 - mse: 6.911 - ETA: 1s - loss: 6.9576 - mse: 6.910 - ETA: 1s - loss: 6.9336 - mse: 6.886 - ETA: 1s - loss: 6.9334 - mse: 6.886 - ETA: 1s - loss: 6.9161 - mse: 6.869 - ETA: 0s - loss: 6.8898 - mse: 6.842 - ETA: 0s - loss: 6.8767 - mse: 6.829 - ETA: 0s - loss: 6.8498 - mse: 6.802 - ETA: 0s - loss: 6.8256 - mse: 6.778 - ETA: 0s - loss: 6.8274 - mse: 6.780 - ETA: 0s - loss: 6.8490 - mse: 6.801 - ETA: 0s - loss: 6.8266 - mse: 6.779 - ETA: 0s - loss: 6.8049 - mse: 6.757 - ETA: 0s - loss: 6.8090 - mse: 6.761 - ETA: 0s - loss: 6.7891 - mse: 6.741 - ETA: 0s - loss: 6.8466 - mse: 6.798 - ETA: 0s - loss: 6.8271 - mse: 6.779 - ETA: 0s - loss: 6.8018 - mse: 6.753 - ETA: 0s - loss: 6.8229 - mse: 6.774 - ETA: 0s - loss: 6.8133 - mse: 6.765 - ETA: 0s - loss: 6.7943 - mse: 6.746 - ETA: 0s - loss: 6.7696 - mse: 6.721 - 11s 2us/step - loss: 6.7609 - mse: 6.7126\n",
      "Epoch 3/5\n",
      "5753731/5753731 [==============================] - ETA: 3:38 - loss: 4.8460 - mse: 4.784 - ETA: 1:02 - loss: 32.4576 - mse: 32.396 - ETA: 40s - loss: 20.1279 - mse: 20.066 - ETA: 31s - loss: 14.9015 - mse: 14.84 - ETA: 26s - loss: 12.2294 - mse: 12.16 - ETA: 23s - loss: 10.6993 - mse: 10.63 - ETA: 21s - loss: 10.6213 - mse: 10.55 - ETA: 20s - loss: 9.5239 - mse: 9.4621 - ETA: 19s - loss: 10.4938 - mse: 10.43 - ETA: 18s - loss: 9.8347 - mse: 9.7727 - ETA: 17s - loss: 11.8316 - mse: 11.76 - ETA: 16s - loss: 11.1220 - mse: 11.05 - ETA: 16s - loss: 10.6968 - mse: 10.63 - ETA: 15s - loss: 12.1843 - mse: 12.12 - ETA: 15s - loss: 11.7464 - mse: 11.68 - ETA: 14s - loss: 11.6147 - mse: 11.55 - ETA: 14s - loss: 14.0203 - mse: 13.95 - ETA: 14s - loss: 13.6594 - mse: 13.59 - ETA: 13s - loss: 13.1411 - mse: 13.07 - ETA: 13s - loss: 12.6307 - mse: 12.56 - ETA: 13s - loss: 12.2883 - mse: 12.22 - ETA: 13s - loss: 12.0796 - mse: 12.01 - ETA: 12s - loss: 11.7110 - mse: 11.64 - ETA: 12s - loss: 13.2358 - mse: 13.17 - ETA: 12s - loss: 12.8187 - mse: 12.75 - ETA: 12s - loss: 12.5913 - mse: 12.52 - ETA: 12s - loss: 12.2119 - mse: 12.14 - ETA: 12s - loss: 11.9387 - mse: 11.87 - ETA: 11s - loss: 11.6649 - mse: 11.60 - ETA: 11s - loss: 11.3893 - mse: 11.32 - ETA: 11s - loss: 11.5120 - mse: 11.44 - ETA: 11s - loss: 11.3289 - mse: 11.26 - ETA: 11s - loss: 11.0858 - mse: 11.02 - ETA: 11s - loss: 10.8342 - mse: 10.76 - ETA: 11s - loss: 10.6334 - mse: 10.56 - ETA: 10s - loss: 10.5928 - mse: 10.52 - ETA: 10s - loss: 10.3900 - mse: 10.32 - ETA: 10s - loss: 10.2876 - mse: 10.22 - ETA: 10s - loss: 11.4040 - mse: 11.33 - ETA: 10s - loss: 11.1918 - mse: 11.12 - ETA: 10s - loss: 11.0691 - mse: 11.00 - ETA: 10s - loss: 10.8546 - mse: 10.78 - ETA: 10s - loss: 10.7298 - mse: 10.66 - ETA: 9s - loss: 10.6102 - mse: 10.5450 - ETA: 9s - loss: 10.4550 - mse: 10.389 - ETA: 9s - loss: 10.3816 - mse: 10.316 - ETA: 9s - loss: 10.2197 - mse: 10.154 - ETA: 9s - loss: 10.0545 - mse: 9.989 - ETA: 9s - loss: 9.8993 - mse: 9.8336 - ETA: 9s - loss: 9.7702 - mse: 9.704 - ETA: 9s - loss: 9.6203 - mse: 9.554 - ETA: 9s - loss: 9.4803 - mse: 9.414 - ETA: 9s - loss: 9.4280 - mse: 9.362 - ETA: 9s - loss: 9.3480 - mse: 9.282 - ETA: 8s - loss: 9.2281 - mse: 9.162 - ETA: 8s - loss: 9.4834 - mse: 9.417 - ETA: 8s - loss: 9.3097 - mse: 9.243 - ETA: 8s - loss: 9.3344 - mse: 9.268 - ETA: 8s - loss: 9.2388 - mse: 9.172 - ETA: 8s - loss: 9.1224 - mse: 9.056 - ETA: 8s - loss: 9.0482 - mse: 8.981 - ETA: 8s - loss: 9.0266 - mse: 8.960 - ETA: 8s - loss: 8.9535 - mse: 8.887 - ETA: 8s - loss: 8.8611 - mse: 8.794 - ETA: 8s - loss: 8.7868 - mse: 8.720 - ETA: 8s - loss: 8.6910 - mse: 8.624 - ETA: 7s - loss: 8.6002 - mse: 8.533 - ETA: 7s - loss: 8.5167 - mse: 8.450 - ETA: 7s - loss: 8.4804 - mse: 8.413 - ETA: 7s - loss: 8.4358 - mse: 8.369 - ETA: 7s - loss: 8.4973 - mse: 8.430 - ETA: 7s - loss: 8.4462 - mse: 8.379 - ETA: 7s - loss: 8.4231 - mse: 8.356 - ETA: 7s - loss: 8.3379 - mse: 8.271 - ETA: 7s - loss: 8.3575 - mse: 8.290 - ETA: 7s - loss: 8.3140 - mse: 8.247 - ETA: 7s - loss: 8.2582 - mse: 8.191 - ETA: 7s - loss: 8.1797 - mse: 8.112 - ETA: 7s - loss: 8.1938 - mse: 8.126 - ETA: 6s - loss: 8.1379 - mse: 8.070 - ETA: 6s - loss: 8.0803 - mse: 8.013 - ETA: 6s - loss: 8.0225 - mse: 7.955 - ETA: 6s - loss: 7.9564 - mse: 7.889 - ETA: 6s - loss: 7.9009 - mse: 7.833 - ETA: 6s - loss: 7.8604 - mse: 7.793 - ETA: 6s - loss: 7.8139 - mse: 7.746 - ETA: 6s - loss: 7.7629 - mse: 7.695 - ETA: 6s - loss: 7.6963 - mse: 7.628 - ETA: 6s - loss: 7.6869 - mse: 7.619 - ETA: 6s - loss: 7.6337 - mse: 7.565 - ETA: 6s - loss: 7.6075 - mse: 7.539 - ETA: 6s - loss: 7.5663 - mse: 7.498 - ETA: 6s - loss: 7.6290 - mse: 7.561 - ETA: 6s - loss: 7.5651 - mse: 7.497 - ETA: 5s - loss: 7.5171 - mse: 7.448 - ETA: 5s - loss: 7.4610 - mse: 7.392 - ETA: 5s - loss: 7.4066 - mse: 7.338 - ETA: 5s - loss: 7.4261 - mse: 7.357 - ETA: 5s - loss: 7.3849 - mse: 7.316 - ETA: 5s - loss: 7.3583 - mse: 7.289 - ETA: 5s - loss: 7.3210 - mse: 7.252 - ETA: 5s - loss: 7.3075 - mse: 7.238 - ETA: 5s - loss: 7.2615 - mse: 7.192 - ETA: 5s - loss: 7.2186 - mse: 7.149 - ETA: 5s - loss: 7.2264 - mse: 7.157 - ETA: 5s - loss: 7.4583 - mse: 7.389 - ETA: 5s - loss: 7.4247 - mse: 7.355 - ETA: 5s - loss: 7.3857 - mse: 7.316 - ETA: 5s - loss: 7.3866 - mse: 7.317 - ETA: 4s - loss: 7.3577 - mse: 7.288 - ETA: 4s - loss: 7.3235 - mse: 7.254 - ETA: 4s - loss: 7.3225 - mse: 7.253 - ETA: 4s - loss: 7.2732 - mse: 7.203 - ETA: 4s - loss: 7.2407 - mse: 7.171 - ETA: 4s - loss: 7.2029 - mse: 7.133 - ETA: 4s - loss: 7.1580 - mse: 7.088 - ETA: 4s - loss: 7.1183 - mse: 7.048 - ETA: 4s - loss: 7.0782 - mse: 7.008 - ETA: 4s - loss: 7.0601 - mse: 6.990 - ETA: 4s - loss: 7.0213 - mse: 6.951 - ETA: 4s - loss: 6.9781 - mse: 6.908 - ETA: 4s - loss: 6.9375 - mse: 6.867 - ETA: 4s - loss: 6.9167 - mse: 6.846 - ETA: 4s - loss: 6.9189 - mse: 6.848 - ETA: 4s - loss: 6.8864 - mse: 6.816 - ETA: 3s - loss: 6.8894 - mse: 6.819 - ETA: 3s - loss: 6.8679 - mse: 6.797 - ETA: 3s - loss: 6.8339 - mse: 6.763 - ETA: 3s - loss: 6.8064 - mse: 6.736 - ETA: 3s - loss: 6.7922 - mse: 6.721 - ETA: 3s - loss: 6.7735 - mse: 6.703 - ETA: 3s - loss: 6.7811 - mse: 6.710 - ETA: 3s - loss: 6.7467 - mse: 6.676 - ETA: 3s - loss: 6.7602 - mse: 6.689 - ETA: 3s - loss: 6.7463 - mse: 6.675 - ETA: 3s - loss: 6.7177 - mse: 6.647 - ETA: 3s - loss: 6.6733 - mse: 6.602 - ETA: 3s - loss: 6.6645 - mse: 6.593 - ETA: 3s - loss: 6.7681 - mse: 6.697 - ETA: 3s - loss: 6.7373 - mse: 6.666 - ETA: 2s - loss: 6.7146 - mse: 6.643 - ETA: 2s - loss: 6.7240 - mse: 6.652 - ETA: 2s - loss: 6.7066 - mse: 6.635 - ETA: 2s - loss: 6.6744 - mse: 6.603 - ETA: 2s - loss: 6.6664 - mse: 6.595 - ETA: 2s - loss: 6.6627 - mse: 6.591 - ETA: 2s - loss: 6.6370 - mse: 6.565 - ETA: 2s - loss: 6.6179 - mse: 6.546 - ETA: 2s - loss: 6.6667 - mse: 6.595 - ETA: 2s - loss: 6.6592 - mse: 6.587 - ETA: 2s - loss: 6.6338 - mse: 6.562 - ETA: 2s - loss: 6.6140 - mse: 6.542 - ETA: 2s - loss: 6.5890 - mse: 6.517 - ETA: 2s - loss: 6.5721 - mse: 6.500 - ETA: 2s - loss: 6.5484 - mse: 6.476 - ETA: 2s - loss: 6.5301 - mse: 6.458 - ETA: 2s - loss: 6.5264 - mse: 6.454 - ETA: 1s - loss: 6.5591 - mse: 6.487 - ETA: 1s - loss: 6.5316 - mse: 6.459 - ETA: 1s - loss: 6.5101 - mse: 6.438 - ETA: 1s - loss: 6.5068 - mse: 6.434 - ETA: 1s - loss: 6.5413 - mse: 6.469 - ETA: 1s - loss: 6.5478 - mse: 6.475 - ETA: 1s - loss: 6.5498 - mse: 6.477 - ETA: 1s - loss: 6.5230 - mse: 6.450 - ETA: 1s - loss: 6.4959 - mse: 6.423 - ETA: 1s - loss: 6.4775 - mse: 6.405 - ETA: 1s - loss: 6.4548 - mse: 6.382 - ETA: 1s - loss: 6.4273 - mse: 6.355 - ETA: 1s - loss: 6.4049 - mse: 6.332 - ETA: 1s - loss: 6.3793 - mse: 6.306 - ETA: 1s - loss: 6.3543 - mse: 6.281 - ETA: 1s - loss: 6.3183 - mse: 6.245 - ETA: 0s - loss: 6.2981 - mse: 6.225 - ETA: 0s - loss: 6.2724 - mse: 6.199 - ETA: 0s - loss: 6.2519 - mse: 6.179 - ETA: 0s - loss: 6.2302 - mse: 6.157 - ETA: 0s - loss: 6.2056 - mse: 6.132 - ETA: 0s - loss: 6.1898 - mse: 6.117 - ETA: 0s - loss: 6.1878 - mse: 6.115 - ETA: 0s - loss: 6.2003 - mse: 6.127 - ETA: 0s - loss: 6.1833 - mse: 6.110 - ETA: 0s - loss: 6.1595 - mse: 6.086 - ETA: 0s - loss: 6.1400 - mse: 6.067 - ETA: 0s - loss: 6.1354 - mse: 6.062 - ETA: 0s - loss: 6.1235 - mse: 6.050 - ETA: 0s - loss: 6.1200 - mse: 6.046 - ETA: 0s - loss: 6.1017 - mse: 6.028 - ETA: 0s - loss: 6.1651 - mse: 6.091 - ETA: 0s - loss: 6.1445 - mse: 6.071 - 11s 2us/step - loss: 6.1439 - mse: 6.0707\n",
      "Epoch 4/5\n"
     ]
    },
    {
     "name": "stdout",
     "output_type": "stream",
     "text": [
      "5753731/5753731 [==============================] - ETA: 3:22 - loss: 1.4638 - mse: 1.383 - ETA: 59s - loss: 2.9120 - mse: 2.832 - ETA: 37s - loss: 3.0931 - mse: 3.01 - ETA: 29s - loss: 4.6567 - mse: 4.57 - ETA: 25s - loss: 4.3173 - mse: 4.23 - ETA: 22s - loss: 4.6446 - mse: 4.56 - ETA: 20s - loss: 4.4445 - mse: 4.36 - ETA: 18s - loss: 4.0597 - mse: 3.97 - ETA: 17s - loss: 3.7681 - mse: 3.68 - ETA: 17s - loss: 4.4012 - mse: 4.31 - ETA: 16s - loss: 4.4002 - mse: 4.31 - ETA: 15s - loss: 4.6447 - mse: 4.56 - ETA: 15s - loss: 7.9069 - mse: 7.82 - ETA: 14s - loss: 7.5643 - mse: 7.48 - ETA: 14s - loss: 7.3940 - mse: 7.31 - ETA: 14s - loss: 7.1314 - mse: 7.04 - ETA: 13s - loss: 6.8609 - mse: 6.77 - ETA: 13s - loss: 6.6006 - mse: 6.51 - ETA: 13s - loss: 7.5861 - mse: 7.50 - ETA: 12s - loss: 7.3614 - mse: 7.27 - ETA: 12s - loss: 7.1696 - mse: 7.08 - ETA: 12s - loss: 7.5592 - mse: 7.47 - ETA: 12s - loss: 7.2913 - mse: 7.20 - ETA: 12s - loss: 7.5968 - mse: 7.51 - ETA: 11s - loss: 7.4085 - mse: 7.32 - ETA: 11s - loss: 7.2323 - mse: 7.14 - ETA: 11s - loss: 7.1586 - mse: 7.07 - ETA: 11s - loss: 6.9965 - mse: 6.91 - ETA: 11s - loss: 6.9035 - mse: 6.81 - ETA: 11s - loss: 6.8466 - mse: 6.76 - ETA: 11s - loss: 6.7843 - mse: 6.70 - ETA: 10s - loss: 6.9098 - mse: 6.82 - ETA: 10s - loss: 6.8059 - mse: 6.72 - ETA: 10s - loss: 6.7238 - mse: 6.63 - ETA: 10s - loss: 6.6339 - mse: 6.55 - ETA: 10s - loss: 6.5103 - mse: 6.42 - ETA: 10s - loss: 6.4758 - mse: 6.39 - ETA: 10s - loss: 6.5268 - mse: 6.44 - ETA: 10s - loss: 6.6225 - mse: 6.53 - ETA: 10s - loss: 6.5653 - mse: 6.48 - ETA: 9s - loss: 6.4596 - mse: 6.3755 - ETA: 9s - loss: 6.3514 - mse: 6.267 - ETA: 9s - loss: 6.2643 - mse: 6.180 - ETA: 9s - loss: 6.3111 - mse: 6.226 - ETA: 9s - loss: 6.7551 - mse: 6.670 - ETA: 9s - loss: 6.7916 - mse: 6.707 - ETA: 9s - loss: 6.8234 - mse: 6.739 - ETA: 9s - loss: 6.7397 - mse: 6.655 - ETA: 9s - loss: 6.6821 - mse: 6.597 - ETA: 9s - loss: 6.6098 - mse: 6.525 - ETA: 8s - loss: 7.5951 - mse: 7.510 - ETA: 8s - loss: 7.4917 - mse: 7.407 - ETA: 8s - loss: 7.4415 - mse: 7.356 - ETA: 8s - loss: 7.3832 - mse: 7.298 - ETA: 8s - loss: 7.3061 - mse: 7.221 - ETA: 8s - loss: 7.2244 - mse: 7.139 - ETA: 8s - loss: 7.1589 - mse: 7.074 - ETA: 8s - loss: 7.0986 - mse: 7.013 - ETA: 8s - loss: 7.0129 - mse: 6.927 - ETA: 8s - loss: 6.9291 - mse: 6.844 - ETA: 8s - loss: 6.8745 - mse: 6.789 - ETA: 8s - loss: 6.8563 - mse: 6.771 - ETA: 7s - loss: 6.8226 - mse: 6.737 - ETA: 7s - loss: 6.7483 - mse: 6.663 - ETA: 7s - loss: 6.7020 - mse: 6.616 - ETA: 7s - loss: 6.6760 - mse: 6.590 - ETA: 7s - loss: 6.6190 - mse: 6.533 - ETA: 7s - loss: 6.7852 - mse: 6.699 - ETA: 7s - loss: 6.7338 - mse: 6.648 - ETA: 7s - loss: 6.6767 - mse: 6.591 - ETA: 7s - loss: 6.6455 - mse: 6.560 - ETA: 7s - loss: 6.6806 - mse: 6.595 - ETA: 7s - loss: 6.6340 - mse: 6.548 - ETA: 7s - loss: 6.7066 - mse: 6.621 - ETA: 7s - loss: 7.2893 - mse: 7.203 - ETA: 7s - loss: 7.2453 - mse: 7.159 - ETA: 6s - loss: 7.1836 - mse: 7.098 - ETA: 6s - loss: 7.5409 - mse: 7.455 - ETA: 6s - loss: 7.4677 - mse: 7.382 - ETA: 6s - loss: 7.6186 - mse: 7.533 - ETA: 6s - loss: 7.5963 - mse: 7.510 - ETA: 6s - loss: 7.5850 - mse: 7.499 - ETA: 6s - loss: 7.5285 - mse: 7.443 - ETA: 6s - loss: 7.4785 - mse: 7.393 - ETA: 6s - loss: 7.4164 - mse: 7.331 - ETA: 6s - loss: 7.3983 - mse: 7.312 - ETA: 6s - loss: 7.5021 - mse: 7.416 - ETA: 6s - loss: 7.4709 - mse: 7.385 - ETA: 6s - loss: 7.4180 - mse: 7.332 - ETA: 6s - loss: 7.4661 - mse: 7.380 - ETA: 6s - loss: 7.4352 - mse: 7.349 - ETA: 5s - loss: 7.3751 - mse: 7.289 - ETA: 5s - loss: 7.3229 - mse: 7.237 - ETA: 5s - loss: 7.2709 - mse: 7.185 - ETA: 5s - loss: 7.2246 - mse: 7.139 - ETA: 5s - loss: 7.1807 - mse: 7.095 - ETA: 5s - loss: 7.1462 - mse: 7.060 - ETA: 5s - loss: 7.1185 - mse: 7.032 - ETA: 5s - loss: 7.0701 - mse: 6.984 - ETA: 5s - loss: 7.1787 - mse: 7.093 - ETA: 5s - loss: 7.1412 - mse: 7.055 - ETA: 5s - loss: 7.0885 - mse: 7.002 - ETA: 5s - loss: 7.0522 - mse: 6.966 - ETA: 5s - loss: 7.0054 - mse: 6.919 - ETA: 5s - loss: 7.0014 - mse: 6.915 - ETA: 5s - loss: 6.9825 - mse: 6.896 - ETA: 5s - loss: 6.9553 - mse: 6.869 - ETA: 4s - loss: 6.9322 - mse: 6.846 - ETA: 4s - loss: 6.8808 - mse: 6.795 - ETA: 4s - loss: 6.8660 - mse: 6.780 - ETA: 4s - loss: 6.8243 - mse: 6.738 - ETA: 4s - loss: 6.8424 - mse: 6.756 - ETA: 4s - loss: 6.8103 - mse: 6.724 - ETA: 4s - loss: 6.7765 - mse: 6.690 - ETA: 4s - loss: 6.7328 - mse: 6.647 - ETA: 4s - loss: 6.7157 - mse: 6.629 - ETA: 4s - loss: 6.6844 - mse: 6.598 - ETA: 4s - loss: 6.6487 - mse: 6.562 - ETA: 4s - loss: 6.6083 - mse: 6.522 - ETA: 4s - loss: 6.5789 - mse: 6.493 - ETA: 4s - loss: 6.6450 - mse: 6.559 - ETA: 4s - loss: 6.6696 - mse: 6.583 - ETA: 4s - loss: 6.6740 - mse: 6.588 - ETA: 3s - loss: 6.6364 - mse: 6.550 - ETA: 3s - loss: 6.6054 - mse: 6.519 - ETA: 3s - loss: 6.5820 - mse: 6.496 - ETA: 3s - loss: 6.5944 - mse: 6.508 - ETA: 3s - loss: 6.5654 - mse: 6.479 - ETA: 3s - loss: 6.5385 - mse: 6.452 - ETA: 3s - loss: 6.5071 - mse: 6.421 - ETA: 3s - loss: 6.5183 - mse: 6.432 - ETA: 3s - loss: 6.4901 - mse: 6.404 - ETA: 3s - loss: 6.5513 - mse: 6.465 - ETA: 3s - loss: 6.5276 - mse: 6.441 - ETA: 3s - loss: 6.7065 - mse: 6.620 - ETA: 3s - loss: 6.7044 - mse: 6.618 - ETA: 3s - loss: 6.7523 - mse: 6.666 - ETA: 3s - loss: 6.7200 - mse: 6.634 - ETA: 3s - loss: 6.6868 - mse: 6.600 - ETA: 3s - loss: 6.6543 - mse: 6.568 - ETA: 2s - loss: 6.6352 - mse: 6.549 - ETA: 2s - loss: 6.6059 - mse: 6.520 - ETA: 2s - loss: 6.5720 - mse: 6.486 - ETA: 2s - loss: 6.5424 - mse: 6.456 - ETA: 2s - loss: 6.5169 - mse: 6.430 - ETA: 2s - loss: 6.4901 - mse: 6.404 - ETA: 2s - loss: 6.4872 - mse: 6.401 - ETA: 2s - loss: 6.4659 - mse: 6.379 - ETA: 2s - loss: 6.4599 - mse: 6.373 - ETA: 2s - loss: 6.4396 - mse: 6.353 - ETA: 2s - loss: 6.4091 - mse: 6.323 - ETA: 2s - loss: 6.4201 - mse: 6.334 - ETA: 2s - loss: 6.3954 - mse: 6.309 - ETA: 2s - loss: 6.3768 - mse: 6.290 - ETA: 2s - loss: 6.3681 - mse: 6.282 - ETA: 2s - loss: 6.3722 - mse: 6.286 - ETA: 2s - loss: 6.4611 - mse: 6.375 - ETA: 2s - loss: 6.4624 - mse: 6.376 - ETA: 1s - loss: 6.4567 - mse: 6.370 - ETA: 1s - loss: 6.4311 - mse: 6.345 - ETA: 1s - loss: 6.4128 - mse: 6.326 - ETA: 1s - loss: 6.3898 - mse: 6.303 - ETA: 1s - loss: 6.3742 - mse: 6.288 - ETA: 1s - loss: 6.3483 - mse: 6.262 - ETA: 1s - loss: 6.3263 - mse: 6.240 - ETA: 1s - loss: 6.2997 - mse: 6.213 - ETA: 1s - loss: 6.2876 - mse: 6.201 - ETA: 1s - loss: 6.2665 - mse: 6.180 - ETA: 1s - loss: 6.2645 - mse: 6.178 - ETA: 1s - loss: 6.2497 - mse: 6.163 - ETA: 1s - loss: 6.2240 - mse: 6.137 - ETA: 1s - loss: 6.2077 - mse: 6.121 - ETA: 1s - loss: 6.1984 - mse: 6.112 - ETA: 1s - loss: 6.2083 - mse: 6.122 - ETA: 1s - loss: 6.1933 - mse: 6.107 - ETA: 0s - loss: 6.1696 - mse: 6.083 - ETA: 0s - loss: 6.1580 - mse: 6.071 - ETA: 0s - loss: 6.1431 - mse: 6.056 - ETA: 0s - loss: 6.1298 - mse: 6.043 - ETA: 0s - loss: 6.1325 - mse: 6.046 - ETA: 0s - loss: 6.1243 - mse: 6.037 - ETA: 0s - loss: 6.1058 - mse: 6.019 - ETA: 0s - loss: 6.1008 - mse: 6.014 - ETA: 0s - loss: 6.0811 - mse: 5.994 - ETA: 0s - loss: 6.0642 - mse: 5.977 - ETA: 0s - loss: 6.0460 - mse: 5.959 - ETA: 0s - loss: 6.0296 - mse: 5.943 - ETA: 0s - loss: 6.0138 - mse: 5.927 - ETA: 0s - loss: 5.9961 - mse: 5.909 - ETA: 0s - loss: 5.9864 - mse: 5.899 - ETA: 0s - loss: 5.9763 - mse: 5.889 - ETA: 0s - loss: 5.9585 - mse: 5.871 - 11s 2us/step - loss: 5.9597 - mse: 5.8729\n",
      "Epoch 5/5\n",
      "5753731/5753731 [==============================] - ETA: 3:54 - loss: 2.8705 - mse: 2.779 - ETA: 1:07 - loss: 2.4981 - mse: 2.406 - ETA: 43s - loss: 2.2229 - mse: 2.131 - ETA: 33s - loss: 2.5475 - mse: 2.45 - ETA: 30s - loss: 2.4491 - mse: 2.35 - ETA: 26s - loss: 2.5711 - mse: 2.47 - ETA: 24s - loss: 2.4761 - mse: 2.38 - ETA: 22s - loss: 2.5650 - mse: 2.47 - ETA: 20s - loss: 2.6294 - mse: 2.53 - ETA: 19s - loss: 2.7207 - mse: 2.62 - ETA: 18s - loss: 2.7479 - mse: 2.65 - ETA: 18s - loss: 2.7351 - mse: 2.64 - ETA: 17s - loss: 2.6965 - mse: 2.60 - ETA: 17s - loss: 2.9351 - mse: 2.84 - ETA: 16s - loss: 3.1409 - mse: 3.04 - ETA: 16s - loss: 3.1378 - mse: 3.04 - ETA: 15s - loss: 3.3293 - mse: 3.23 - ETA: 15s - loss: 3.3810 - mse: 3.28 - ETA: 15s - loss: 3.3122 - mse: 3.22 - ETA: 14s - loss: 4.0597 - mse: 3.96 - ETA: 14s - loss: 4.0658 - mse: 3.97 - ETA: 14s - loss: 4.1106 - mse: 4.01 - ETA: 13s - loss: 4.1728 - mse: 4.08 - ETA: 13s - loss: 4.1040 - mse: 4.01 - ETA: 13s - loss: 4.0980 - mse: 4.00 - ETA: 13s - loss: 4.2058 - mse: 4.11 - ETA: 12s - loss: 4.2718 - mse: 4.17 - ETA: 12s - loss: 4.2957 - mse: 4.20 - ETA: 12s - loss: 4.2229 - mse: 4.13 - ETA: 12s - loss: 4.1569 - mse: 4.06 - ETA: 12s - loss: 4.0869 - mse: 3.99 - ETA: 12s - loss: 4.0304 - mse: 3.93 - ETA: 11s - loss: 3.9750 - mse: 3.88 - ETA: 11s - loss: 3.9829 - mse: 3.89 - ETA: 11s - loss: 3.9870 - mse: 3.89 - ETA: 11s - loss: 4.0541 - mse: 3.96 - ETA: 11s - loss: 4.0146 - mse: 3.92 - ETA: 11s - loss: 4.7770 - mse: 4.68 - ETA: 11s - loss: 4.7341 - mse: 4.64 - ETA: 10s - loss: 4.6898 - mse: 4.59 - ETA: 10s - loss: 4.6213 - mse: 4.52 - ETA: 10s - loss: 4.9627 - mse: 4.87 - ETA: 10s - loss: 4.8960 - mse: 4.80 - ETA: 10s - loss: 4.8430 - mse: 4.75 - ETA: 10s - loss: 4.7833 - mse: 4.69 - ETA: 10s - loss: 4.7307 - mse: 4.63 - ETA: 10s - loss: 4.6749 - mse: 4.58 - ETA: 9s - loss: 4.6671 - mse: 4.5746 - ETA: 9s - loss: 5.4738 - mse: 5.381 - ETA: 9s - loss: 5.4147 - mse: 5.322 - ETA: 9s - loss: 5.4116 - mse: 5.319 - ETA: 9s - loss: 5.3834 - mse: 5.290 - ETA: 9s - loss: 5.3266 - mse: 5.234 - ETA: 9s - loss: 5.2712 - mse: 5.178 - ETA: 9s - loss: 5.2047 - mse: 5.112 - ETA: 9s - loss: 5.1779 - mse: 5.085 - ETA: 9s - loss: 5.1864 - mse: 5.093 - ETA: 9s - loss: 5.1663 - mse: 5.073 - ETA: 8s - loss: 5.2557 - mse: 5.162 - ETA: 8s - loss: 5.2048 - mse: 5.111 - ETA: 8s - loss: 5.1644 - mse: 5.071 - ETA: 8s - loss: 5.1328 - mse: 5.040 - ETA: 8s - loss: 5.0936 - mse: 5.000 - ETA: 8s - loss: 5.1831 - mse: 5.090 - ETA: 8s - loss: 5.1383 - mse: 5.045 - ETA: 8s - loss: 5.1614 - mse: 5.068 - ETA: 8s - loss: 5.1945 - mse: 5.101 - ETA: 8s - loss: 5.2043 - mse: 5.111 - ETA: 8s - loss: 5.1913 - mse: 5.098 - ETA: 7s - loss: 5.1573 - mse: 5.064 - ETA: 7s - loss: 5.1191 - mse: 5.026 - ETA: 7s - loss: 5.1363 - mse: 5.043 - ETA: 7s - loss: 5.0909 - mse: 4.997 - ETA: 7s - loss: 5.1841 - mse: 5.090 - ETA: 7s - loss: 5.3397 - mse: 5.246 - ETA: 7s - loss: 5.3174 - mse: 5.224 - ETA: 7s - loss: 5.3997 - mse: 5.306 - ETA: 7s - loss: 5.3664 - mse: 5.273 - ETA: 7s - loss: 5.3615 - mse: 5.268 - ETA: 7s - loss: 5.6932 - mse: 5.600 - ETA: 7s - loss: 5.6662 - mse: 5.573 - ETA: 7s - loss: 5.6826 - mse: 5.589 - ETA: 7s - loss: 5.6663 - mse: 5.573 - ETA: 6s - loss: 5.6266 - mse: 5.533 - ETA: 6s - loss: 5.5894 - mse: 5.496 - ETA: 6s - loss: 5.5584 - mse: 5.465 - ETA: 6s - loss: 5.5376 - mse: 5.444 - ETA: 6s - loss: 6.0940 - mse: 6.000 - ETA: 6s - loss: 6.0511 - mse: 5.957 - ETA: 6s - loss: 5.9960 - mse: 5.902 - ETA: 6s - loss: 5.9554 - mse: 5.862 - ETA: 6s - loss: 5.9182 - mse: 5.824 - ETA: 6s - loss: 5.9107 - mse: 5.817 - ETA: 6s - loss: 5.8729 - mse: 5.779 - ETA: 6s - loss: 5.9388 - mse: 5.845 - ETA: 6s - loss: 5.9889 - mse: 5.895 - ETA: 5s - loss: 5.9607 - mse: 5.867 - ETA: 5s - loss: 6.0250 - mse: 5.931 - ETA: 5s - loss: 6.0298 - mse: 5.936 - ETA: 5s - loss: 5.9915 - mse: 5.898 - ETA: 5s - loss: 5.9860 - mse: 5.892 - ETA: 5s - loss: 5.9705 - mse: 5.877 - ETA: 5s - loss: 5.9346 - mse: 5.841 - ETA: 5s - loss: 5.9550 - mse: 5.861 - ETA: 5s - loss: 5.9433 - mse: 5.849 - ETA: 5s - loss: 5.9120 - mse: 5.818 - ETA: 5s - loss: 5.8884 - mse: 5.794 - ETA: 5s - loss: 6.0453 - mse: 5.951 - ETA: 5s - loss: 6.0432 - mse: 5.949 - ETA: 5s - loss: 6.0379 - mse: 5.944 - ETA: 5s - loss: 6.0194 - mse: 5.925 - ETA: 4s - loss: 5.9986 - mse: 5.905 - ETA: 4s - loss: 5.9699 - mse: 5.876 - ETA: 4s - loss: 5.9620 - mse: 5.868 - ETA: 4s - loss: 5.9381 - mse: 5.844 - ETA: 4s - loss: 5.9267 - mse: 5.833 - ETA: 4s - loss: 5.8988 - mse: 5.805 - ETA: 4s - loss: 5.8824 - mse: 5.788 - ETA: 4s - loss: 5.8562 - mse: 5.762 - ETA: 4s - loss: 6.0172 - mse: 5.923 - ETA: 4s - loss: 5.9951 - mse: 5.901 - ETA: 4s - loss: 5.9727 - mse: 5.878 - ETA: 4s - loss: 5.9442 - mse: 5.850 - ETA: 4s - loss: 5.9090 - mse: 5.815 - ETA: 4s - loss: 5.8795 - mse: 5.785 - ETA: 4s - loss: 5.8546 - mse: 5.760 - ETA: 4s - loss: 5.8305 - mse: 5.736 - ETA: 3s - loss: 5.8072 - mse: 5.713 - ETA: 3s - loss: 5.8016 - mse: 5.707 - ETA: 3s - loss: 5.7840 - mse: 5.690 - ETA: 3s - loss: 5.7579 - mse: 5.664 - ETA: 3s - loss: 5.7813 - mse: 5.687 - ETA: 3s - loss: 5.7624 - mse: 5.668 - ETA: 3s - loss: 5.7460 - mse: 5.652 - ETA: 3s - loss: 5.7359 - mse: 5.641 - ETA: 3s - loss: 5.8160 - mse: 5.721 - ETA: 3s - loss: 5.7947 - mse: 5.700 - ETA: 3s - loss: 5.8031 - mse: 5.708 - ETA: 3s - loss: 5.7904 - mse: 5.696 - ETA: 3s - loss: 5.7996 - mse: 5.705 - ETA: 3s - loss: 5.8155 - mse: 5.721 - ETA: 3s - loss: 5.7988 - mse: 5.704 - ETA: 3s - loss: 5.7883 - mse: 5.694 - ETA: 2s - loss: 5.7670 - mse: 5.672 - ETA: 2s - loss: 5.7469 - mse: 5.652 - ETA: 2s - loss: 5.7240 - mse: 5.629 - ETA: 2s - loss: 5.7010 - mse: 5.606 - ETA: 2s - loss: 5.6783 - mse: 5.583 - ETA: 2s - loss: 5.6597 - mse: 5.565 - ETA: 2s - loss: 5.6440 - mse: 5.549 - ETA: 2s - loss: 5.6228 - mse: 5.528 - ETA: 2s - loss: 5.5972 - mse: 5.502 - ETA: 2s - loss: 5.5886 - mse: 5.493 - ETA: 2s - loss: 5.5923 - mse: 5.497 - ETA: 2s - loss: 5.5787 - mse: 5.483 - ETA: 2s - loss: 5.5604 - mse: 5.465 - ETA: 2s - loss: 5.5570 - mse: 5.462 - ETA: 2s - loss: 5.5492 - mse: 5.454 - ETA: 1s - loss: 5.5310 - mse: 5.436 - ETA: 1s - loss: 5.5172 - mse: 5.422 - ETA: 1s - loss: 5.5041 - mse: 5.409 - ETA: 1s - loss: 5.4890 - mse: 5.394 - ETA: 1s - loss: 5.4996 - mse: 5.404 - ETA: 1s - loss: 5.4856 - mse: 5.390 - ETA: 1s - loss: 5.4672 - mse: 5.372 - ETA: 1s - loss: 5.5922 - mse: 5.497 - ETA: 1s - loss: 5.5716 - mse: 5.476 - ETA: 1s - loss: 5.5658 - mse: 5.470 - ETA: 1s - loss: 5.7243 - mse: 5.629 - ETA: 1s - loss: 5.7044 - mse: 5.609 - ETA: 1s - loss: 5.7283 - mse: 5.633 - ETA: 1s - loss: 5.7071 - mse: 5.611 - ETA: 1s - loss: 5.7201 - mse: 5.624 - ETA: 1s - loss: 5.7024 - mse: 5.607 - ETA: 1s - loss: 5.6779 - mse: 5.582 - ETA: 0s - loss: 5.7037 - mse: 5.608 - ETA: 0s - loss: 5.7054 - mse: 5.609 - ETA: 0s - loss: 5.7602 - mse: 5.664 - ETA: 0s - loss: 5.7453 - mse: 5.649 - ETA: 0s - loss: 5.7336 - mse: 5.637 - ETA: 0s - loss: 5.7245 - mse: 5.628 - ETA: 0s - loss: 5.7085 - mse: 5.612 - ETA: 0s - loss: 5.6932 - mse: 5.597 - ETA: 0s - loss: 5.7361 - mse: 5.640 - ETA: 0s - loss: 5.7282 - mse: 5.632 - ETA: 0s - loss: 5.7150 - mse: 5.619 - ETA: 0s - loss: 5.6954 - mse: 5.599 - ETA: 0s - loss: 5.6740 - mse: 5.578 - ETA: 0s - loss: 5.9070 - mse: 5.811 - ETA: 0s - loss: 5.9012 - mse: 5.805 - ETA: 0s - loss: 5.8954 - mse: 5.799 - 11s 2us/step - loss: 5.8807 - mse: 5.7848\n",
      "32\n",
      "Epoch 1/5\n"
     ]
    },
    {
     "name": "stdout",
     "output_type": "stream",
     "text": [
      "5968267/5968267 [==============================] - ETA: 6:33 - loss: 7.2386 - mse: 7.230 - ETA: 1:47 - loss: 5.5785 - mse: 5.570 - ETA: 1:05 - loss: 17.7777 - mse: 17.770 - ETA: 49s - loss: 17.6924 - mse: 17.684 - ETA: 40s - loss: 17.0367 - mse: 17.02 - ETA: 34s - loss: 15.6247 - mse: 15.61 - ETA: 30s - loss: 14.0325 - mse: 14.02 - ETA: 29s - loss: 13.0611 - mse: 13.05 - ETA: 26s - loss: 12.0168 - mse: 12.00 - ETA: 25s - loss: 11.0309 - mse: 11.02 - ETA: 23s - loss: 10.7187 - mse: 10.71 - ETA: 22s - loss: 10.2988 - mse: 10.29 - ETA: 21s - loss: 9.7470 - mse: 9.7397 - ETA: 20s - loss: 9.6944 - mse: 9.68 - ETA: 19s - loss: 11.7076 - mse: 11.70 - ETA: 18s - loss: 11.1916 - mse: 11.18 - ETA: 18s - loss: 10.9496 - mse: 10.94 - ETA: 17s - loss: 14.1637 - mse: 14.15 - ETA: 17s - loss: 14.0553 - mse: 14.04 - ETA: 16s - loss: 14.0689 - mse: 14.06 - ETA: 16s - loss: 13.8784 - mse: 13.87 - ETA: 16s - loss: 13.4887 - mse: 13.48 - ETA: 16s - loss: 13.9236 - mse: 13.91 - ETA: 16s - loss: 13.3554 - mse: 13.34 - ETA: 15s - loss: 13.1146 - mse: 13.10 - ETA: 15s - loss: 12.7096 - mse: 12.70 - ETA: 15s - loss: 13.1539 - mse: 13.14 - ETA: 14s - loss: 14.0123 - mse: 14.00 - ETA: 14s - loss: 13.8518 - mse: 13.84 - ETA: 14s - loss: 13.4425 - mse: 13.43 - ETA: 14s - loss: 13.6436 - mse: 13.63 - ETA: 13s - loss: 13.3865 - mse: 13.37 - ETA: 13s - loss: 13.0183 - mse: 13.01 - ETA: 13s - loss: 12.8469 - mse: 12.83 - ETA: 13s - loss: 12.5685 - mse: 12.56 - ETA: 13s - loss: 12.5828 - mse: 12.57 - ETA: 13s - loss: 12.3960 - mse: 12.38 - ETA: 12s - loss: 12.1548 - mse: 12.14 - ETA: 12s - loss: 12.1829 - mse: 12.17 - ETA: 12s - loss: 12.7419 - mse: 12.73 - ETA: 12s - loss: 12.5018 - mse: 12.49 - ETA: 12s - loss: 12.3122 - mse: 12.30 - ETA: 12s - loss: 12.1615 - mse: 12.15 - ETA: 11s - loss: 12.1461 - mse: 12.13 - ETA: 11s - loss: 11.9731 - mse: 11.96 - ETA: 11s - loss: 11.7632 - mse: 11.75 - ETA: 11s - loss: 11.6827 - mse: 11.67 - ETA: 11s - loss: 11.5800 - mse: 11.57 - ETA: 11s - loss: 11.4878 - mse: 11.47 - ETA: 11s - loss: 11.2972 - mse: 11.28 - ETA: 11s - loss: 11.1576 - mse: 11.14 - ETA: 10s - loss: 11.0959 - mse: 11.08 - ETA: 10s - loss: 10.9183 - mse: 10.90 - ETA: 10s - loss: 10.7502 - mse: 10.74 - ETA: 10s - loss: 10.6197 - mse: 10.61 - ETA: 10s - loss: 10.6601 - mse: 10.65 - ETA: 10s - loss: 10.5157 - mse: 10.50 - ETA: 10s - loss: 10.7189 - mse: 10.70 - ETA: 10s - loss: 10.5831 - mse: 10.57 - ETA: 10s - loss: 10.4708 - mse: 10.46 - ETA: 10s - loss: 10.3328 - mse: 10.32 - ETA: 10s - loss: 10.1977 - mse: 10.18 - ETA: 9s - loss: 10.1482 - mse: 10.1391 - ETA: 9s - loss: 10.0266 - mse: 10.017 - ETA: 9s - loss: 10.0017 - mse: 9.992 - ETA: 9s - loss: 9.8848 - mse: 9.8755 - ETA: 9s - loss: 9.8256 - mse: 9.816 - ETA: 9s - loss: 9.7326 - mse: 9.723 - ETA: 9s - loss: 9.6188 - mse: 9.609 - ETA: 9s - loss: 9.5188 - mse: 9.509 - ETA: 9s - loss: 9.4349 - mse: 9.425 - ETA: 9s - loss: 9.3767 - mse: 9.367 - ETA: 9s - loss: 9.3242 - mse: 9.314 - ETA: 8s - loss: 9.2931 - mse: 9.283 - ETA: 8s - loss: 9.2390 - mse: 9.229 - ETA: 8s - loss: 9.2377 - mse: 9.228 - ETA: 8s - loss: 9.1569 - mse: 9.147 - ETA: 8s - loss: 9.1597 - mse: 9.149 - ETA: 8s - loss: 9.0790 - mse: 9.069 - ETA: 8s - loss: 9.0477 - mse: 9.037 - ETA: 8s - loss: 8.9841 - mse: 8.974 - ETA: 8s - loss: 8.9344 - mse: 8.924 - ETA: 8s - loss: 8.8676 - mse: 8.857 - ETA: 8s - loss: 8.8372 - mse: 8.827 - ETA: 8s - loss: 8.7854 - mse: 8.775 - ETA: 7s - loss: 9.3289 - mse: 9.318 - ETA: 7s - loss: 9.2616 - mse: 9.251 - ETA: 7s - loss: 9.1922 - mse: 9.182 - ETA: 7s - loss: 9.3824 - mse: 9.372 - ETA: 7s - loss: 9.3291 - mse: 9.318 - ETA: 7s - loss: 9.2789 - mse: 9.268 - ETA: 7s - loss: 9.2817 - mse: 9.271 - ETA: 7s - loss: 9.3048 - mse: 9.294 - ETA: 7s - loss: 9.2382 - mse: 9.227 - ETA: 7s - loss: 9.2156 - mse: 9.205 - ETA: 7s - loss: 9.1528 - mse: 9.142 - ETA: 7s - loss: 9.1720 - mse: 9.161 - ETA: 7s - loss: 9.0955 - mse: 9.085 - ETA: 6s - loss: 9.0697 - mse: 9.059 - ETA: 6s - loss: 9.0227 - mse: 9.012 - ETA: 6s - loss: 9.0099 - mse: 8.999 - ETA: 6s - loss: 8.9928 - mse: 8.982 - ETA: 6s - loss: 8.9353 - mse: 8.924 - ETA: 6s - loss: 8.8973 - mse: 8.886 - ETA: 6s - loss: 9.0986 - mse: 9.087 - ETA: 6s - loss: 9.0560 - mse: 9.045 - ETA: 6s - loss: 9.0020 - mse: 8.991 - ETA: 6s - loss: 8.9555 - mse: 8.944 - ETA: 6s - loss: 8.9013 - mse: 8.890 - ETA: 6s - loss: 8.8446 - mse: 8.833 - ETA: 6s - loss: 8.7975 - mse: 8.786 - ETA: 6s - loss: 8.7502 - mse: 8.739 - ETA: 5s - loss: 8.7094 - mse: 8.698 - ETA: 5s - loss: 8.7780 - mse: 8.766 - ETA: 5s - loss: 9.0413 - mse: 9.030 - ETA: 5s - loss: 9.0596 - mse: 9.048 - ETA: 5s - loss: 9.0147 - mse: 9.003 - ETA: 5s - loss: 8.9581 - mse: 8.946 - ETA: 5s - loss: 8.9167 - mse: 8.905 - ETA: 5s - loss: 8.8607 - mse: 8.849 - ETA: 5s - loss: 8.8049 - mse: 8.793 - ETA: 5s - loss: 8.7813 - mse: 8.769 - ETA: 5s - loss: 8.9252 - mse: 8.913 - ETA: 5s - loss: 8.8745 - mse: 8.863 - ETA: 5s - loss: 8.8255 - mse: 8.814 - ETA: 4s - loss: 8.7773 - mse: 8.765 - ETA: 4s - loss: 8.7355 - mse: 8.723 - ETA: 4s - loss: 8.7360 - mse: 8.724 - ETA: 4s - loss: 8.7070 - mse: 8.695 - ETA: 4s - loss: 8.7397 - mse: 8.728 - ETA: 4s - loss: 8.8462 - mse: 8.834 - ETA: 4s - loss: 8.8194 - mse: 8.807 - ETA: 4s - loss: 9.1894 - mse: 9.177 - ETA: 4s - loss: 9.1683 - mse: 9.156 - ETA: 4s - loss: 9.2379 - mse: 9.226 - ETA: 4s - loss: 9.2448 - mse: 9.232 - ETA: 4s - loss: 9.2725 - mse: 9.260 - ETA: 4s - loss: 9.2480 - mse: 9.236 - ETA: 4s - loss: 9.2443 - mse: 9.232 - ETA: 3s - loss: 9.2362 - mse: 9.224 - ETA: 3s - loss: 9.2129 - mse: 9.200 - ETA: 3s - loss: 9.1775 - mse: 9.165 - ETA: 3s - loss: 9.1405 - mse: 9.128 - ETA: 3s - loss: 9.1993 - mse: 9.187 - ETA: 3s - loss: 9.1600 - mse: 9.147 - ETA: 3s - loss: 9.1296 - mse: 9.117 - ETA: 3s - loss: 9.1385 - mse: 9.126 - ETA: 3s - loss: 9.0893 - mse: 9.076 - ETA: 3s - loss: 9.0578 - mse: 9.045 - ETA: 3s - loss: 9.0405 - mse: 9.027 - ETA: 3s - loss: 9.0085 - mse: 8.995 - ETA: 3s - loss: 9.0476 - mse: 9.034 - ETA: 3s - loss: 9.0787 - mse: 9.065 - ETA: 3s - loss: 9.0359 - mse: 9.023 - ETA: 2s - loss: 9.1085 - mse: 9.095 - ETA: 2s - loss: 9.1116 - mse: 9.098 - ETA: 2s - loss: 9.1102 - mse: 9.097 - ETA: 2s - loss: 9.0900 - mse: 9.077 - ETA: 2s - loss: 9.0783 - mse: 9.065 - ETA: 2s - loss: 9.0423 - mse: 9.029 - ETA: 2s - loss: 9.0090 - mse: 8.995 - ETA: 2s - loss: 8.9722 - mse: 8.958 - ETA: 2s - loss: 8.9427 - mse: 8.929 - ETA: 2s - loss: 8.9027 - mse: 8.889 - ETA: 2s - loss: 8.8749 - mse: 8.861 - ETA: 2s - loss: 8.8722 - mse: 8.858 - ETA: 2s - loss: 8.8560 - mse: 8.842 - ETA: 2s - loss: 8.8197 - mse: 8.806 - ETA: 2s - loss: 8.8024 - mse: 8.788 - ETA: 1s - loss: 8.7988 - mse: 8.785 - ETA: 1s - loss: 8.7648 - mse: 8.750 - ETA: 1s - loss: 8.7537 - mse: 8.739 - ETA: 1s - loss: 8.7236 - mse: 8.709 - ETA: 1s - loss: 8.6983 - mse: 8.684 - ETA: 1s - loss: 8.6765 - mse: 8.662 - ETA: 1s - loss: 8.6484 - mse: 8.634 - ETA: 1s - loss: 8.6150 - mse: 8.600 - ETA: 1s - loss: 8.5893 - mse: 8.575 - ETA: 1s - loss: 8.5695 - mse: 8.555 - ETA: 1s - loss: 8.5401 - mse: 8.525 - ETA: 1s - loss: 8.5304 - mse: 8.516 - ETA: 1s - loss: 8.4986 - mse: 8.484 - ETA: 1s - loss: 8.4591 - mse: 8.444 - ETA: 1s - loss: 8.4484 - mse: 8.433 - ETA: 1s - loss: 8.4331 - mse: 8.418 - ETA: 0s - loss: 8.3988 - mse: 8.384 - ETA: 0s - loss: 8.3715 - mse: 8.356 - ETA: 0s - loss: 8.4602 - mse: 8.445 - ETA: 0s - loss: 8.4861 - mse: 8.471 - ETA: 0s - loss: 8.5337 - mse: 8.518 - ETA: 0s - loss: 8.6048 - mse: 8.589 - ETA: 0s - loss: 8.5818 - mse: 8.566 - ETA: 0s - loss: 8.6712 - mse: 8.656 - ETA: 0s - loss: 8.6592 - mse: 8.644 - ETA: 0s - loss: 8.6277 - mse: 8.612 - ETA: 0s - loss: 8.5999 - mse: 8.584 - ETA: 0s - loss: 8.5799 - mse: 8.564 - ETA: 0s - loss: 8.5554 - mse: 8.540 - ETA: 0s - loss: 8.5554 - mse: 8.539 - ETA: 0s - loss: 8.5348 - mse: 8.519 - 13s 2us/step - loss: 8.5068 - mse: 8.4912\n",
      "Epoch 2/5\n",
      "5968267/5968267 [==============================] - ETA: 3:51 - loss: 3.8936 - mse: 3.863 - ETA: 1:06 - loss: 6.9114 - mse: 6.881 - ETA: 42s - loss: 5.4517 - mse: 5.421 - ETA: 32s - loss: 23.7556 - mse: 23.72 - ETA: 27s - loss: 18.8505 - mse: 18.82 - ETA: 24s - loss: 15.7571 - mse: 15.72 - ETA: 22s - loss: 17.6495 - mse: 17.61 - ETA: 20s - loss: 15.6150 - mse: 15.58 - ETA: 19s - loss: 14.8330 - mse: 14.80 - ETA: 18s - loss: 13.5600 - mse: 13.52 - ETA: 17s - loss: 12.7799 - mse: 12.74 - ETA: 17s - loss: 12.1846 - mse: 12.15 - ETA: 16s - loss: 12.3011 - mse: 12.27 - ETA: 16s - loss: 11.4954 - mse: 11.46 - ETA: 15s - loss: 11.0129 - mse: 10.98 - ETA: 15s - loss: 10.4410 - mse: 10.40 - ETA: 14s - loss: 9.9656 - mse: 9.9342 - ETA: 14s - loss: 9.5280 - mse: 9.49 - ETA: 14s - loss: 9.2335 - mse: 9.20 - ETA: 14s - loss: 8.8819 - mse: 8.85 - ETA: 13s - loss: 8.7388 - mse: 8.70 - ETA: 13s - loss: 8.5479 - mse: 8.51 - ETA: 13s - loss: 8.6917 - mse: 8.65 - ETA: 13s - loss: 8.5745 - mse: 8.54 - ETA: 12s - loss: 8.4276 - mse: 8.39 - ETA: 12s - loss: 8.1743 - mse: 8.14 - ETA: 12s - loss: 8.0656 - mse: 8.03 - ETA: 12s - loss: 7.9079 - mse: 7.87 - ETA: 12s - loss: 7.7440 - mse: 7.71 - ETA: 11s - loss: 7.5496 - mse: 7.51 - ETA: 11s - loss: 7.4075 - mse: 7.37 - ETA: 11s - loss: 7.2543 - mse: 7.22 - ETA: 11s - loss: 7.0898 - mse: 7.05 - ETA: 11s - loss: 7.2636 - mse: 7.23 - ETA: 11s - loss: 7.5957 - mse: 7.56 - ETA: 11s - loss: 7.5027 - mse: 7.46 - ETA: 11s - loss: 7.5286 - mse: 7.49 - ETA: 10s - loss: 7.4316 - mse: 7.39 - ETA: 10s - loss: 7.3339 - mse: 7.30 - ETA: 10s - loss: 7.2247 - mse: 7.19 - ETA: 10s - loss: 8.1397 - mse: 8.10 - ETA: 10s - loss: 8.1132 - mse: 8.07 - ETA: 10s - loss: 8.0019 - mse: 7.96 - ETA: 10s - loss: 7.9261 - mse: 7.89 - ETA: 10s - loss: 7.7933 - mse: 7.75 - ETA: 10s - loss: 7.6591 - mse: 7.62 - ETA: 9s - loss: 7.5890 - mse: 7.5549 - ETA: 9s - loss: 7.4839 - mse: 7.449 - ETA: 9s - loss: 7.3759 - mse: 7.341 - ETA: 9s - loss: 7.5834 - mse: 7.549 - ETA: 9s - loss: 7.5225 - mse: 7.488 - ETA: 9s - loss: 7.4440 - mse: 7.409 - ETA: 9s - loss: 7.4516 - mse: 7.417 - ETA: 9s - loss: 7.4599 - mse: 7.425 - ETA: 9s - loss: 7.4060 - mse: 7.371 - ETA: 9s - loss: 7.3411 - mse: 7.306 - ETA: 9s - loss: 7.2733 - mse: 7.238 - ETA: 8s - loss: 7.1899 - mse: 7.155 - ETA: 8s - loss: 7.1123 - mse: 7.077 - ETA: 8s - loss: 7.0803 - mse: 7.045 - ETA: 8s - loss: 7.1516 - mse: 7.116 - ETA: 8s - loss: 7.2648 - mse: 7.229 - ETA: 8s - loss: 7.2208 - mse: 7.185 - ETA: 8s - loss: 7.1510 - mse: 7.115 - ETA: 8s - loss: 7.0825 - mse: 7.046 - ETA: 8s - loss: 7.1007 - mse: 7.065 - ETA: 8s - loss: 7.0458 - mse: 7.010 - ETA: 8s - loss: 6.9965 - mse: 6.960 - ETA: 8s - loss: 6.9264 - mse: 6.890 - ETA: 8s - loss: 7.0588 - mse: 7.022 - ETA: 7s - loss: 7.0036 - mse: 6.967 - ETA: 7s - loss: 6.9502 - mse: 6.914 - ETA: 7s - loss: 6.9431 - mse: 6.906 - ETA: 7s - loss: 6.8985 - mse: 6.862 - ETA: 7s - loss: 7.0215 - mse: 6.984 - ETA: 7s - loss: 7.0917 - mse: 7.054 - ETA: 7s - loss: 7.1372 - mse: 7.100 - ETA: 7s - loss: 7.0816 - mse: 7.044 - ETA: 7s - loss: 7.0522 - mse: 7.015 - ETA: 7s - loss: 7.0579 - mse: 7.020 - ETA: 7s - loss: 7.0097 - mse: 6.972 - ETA: 7s - loss: 7.2161 - mse: 7.178 - ETA: 7s - loss: 7.1761 - mse: 7.138 - ETA: 7s - loss: 7.1304 - mse: 7.092 - ETA: 7s - loss: 7.5184 - mse: 7.480 - ETA: 6s - loss: 7.4817 - mse: 7.443 - ETA: 6s - loss: 7.4387 - mse: 7.400 - ETA: 6s - loss: 7.4327 - mse: 7.394 - ETA: 6s - loss: 7.4373 - mse: 7.399 - ETA: 6s - loss: 7.3803 - mse: 7.341 - ETA: 6s - loss: 7.3508 - mse: 7.312 - ETA: 6s - loss: 7.4146 - mse: 7.376 - ETA: 6s - loss: 7.3719 - mse: 7.333 - ETA: 6s - loss: 7.3424 - mse: 7.303 - ETA: 6s - loss: 7.3516 - mse: 7.312 - ETA: 6s - loss: 7.3111 - mse: 7.272 - ETA: 6s - loss: 7.3329 - mse: 7.293 - ETA: 6s - loss: 7.4614 - mse: 7.422 - ETA: 6s - loss: 7.4426 - mse: 7.403 - ETA: 6s - loss: 7.4249 - mse: 7.385 - ETA: 5s - loss: 7.3698 - mse: 7.330 - ETA: 5s - loss: 7.3331 - mse: 7.293 - ETA: 5s - loss: 7.3013 - mse: 7.261 - ETA: 5s - loss: 7.3386 - mse: 7.298 - ETA: 5s - loss: 7.3863 - mse: 7.346 - ETA: 5s - loss: 7.3416 - mse: 7.301 - ETA: 5s - loss: 7.3092 - mse: 7.269 - ETA: 5s - loss: 7.2640 - mse: 7.223 - ETA: 5s - loss: 7.2412 - mse: 7.200 - ETA: 5s - loss: 7.2064 - mse: 7.165 - ETA: 5s - loss: 7.1897 - mse: 7.149 - ETA: 5s - loss: 7.1917 - mse: 7.151 - ETA: 5s - loss: 7.1649 - mse: 7.124 - ETA: 5s - loss: 7.1330 - mse: 7.092 - ETA: 5s - loss: 7.1088 - mse: 7.067 - ETA: 5s - loss: 7.0748 - mse: 7.033 - ETA: 4s - loss: 7.0358 - mse: 6.994 - ETA: 4s - loss: 7.0066 - mse: 6.965 - ETA: 4s - loss: 6.9786 - mse: 6.937 - ETA: 4s - loss: 6.9571 - mse: 6.915 - ETA: 4s - loss: 6.9183 - mse: 6.876 - ETA: 4s - loss: 6.9578 - mse: 6.916 - ETA: 4s - loss: 6.9289 - mse: 6.887 - ETA: 4s - loss: 6.8977 - mse: 6.855 - ETA: 4s - loss: 6.8658 - mse: 6.823 - ETA: 4s - loss: 6.8433 - mse: 6.801 - ETA: 4s - loss: 6.8117 - mse: 6.769 - ETA: 4s - loss: 6.7943 - mse: 6.752 - ETA: 4s - loss: 6.7665 - mse: 6.724 - ETA: 4s - loss: 6.7845 - mse: 6.742 - ETA: 4s - loss: 6.7466 - mse: 6.704 - ETA: 4s - loss: 6.8397 - mse: 6.797 - ETA: 3s - loss: 6.8563 - mse: 6.813 - ETA: 3s - loss: 6.8265 - mse: 6.783 - ETA: 3s - loss: 6.8015 - mse: 6.758 - ETA: 3s - loss: 6.7752 - mse: 6.732 - ETA: 3s - loss: 6.7440 - mse: 6.701 - ETA: 3s - loss: 6.9325 - mse: 6.889 - ETA: 3s - loss: 6.9037 - mse: 6.860 - ETA: 3s - loss: 6.8882 - mse: 6.845 - ETA: 3s - loss: 6.9364 - mse: 6.893 - ETA: 3s - loss: 6.9197 - mse: 6.876 - ETA: 3s - loss: 6.9648 - mse: 6.921 - ETA: 3s - loss: 6.9430 - mse: 6.899 - ETA: 3s - loss: 6.9191 - mse: 6.875 - ETA: 3s - loss: 6.9050 - mse: 6.861 - ETA: 3s - loss: 7.0068 - mse: 6.962 - ETA: 3s - loss: 7.0943 - mse: 7.050 - ETA: 3s - loss: 7.1526 - mse: 7.108 - ETA: 2s - loss: 7.1407 - mse: 7.096 - ETA: 2s - loss: 7.1267 - mse: 7.082 - ETA: 2s - loss: 7.0989 - mse: 7.054 - ETA: 2s - loss: 7.0951 - mse: 7.050 - ETA: 2s - loss: 7.0768 - mse: 7.032 - ETA: 2s - loss: 7.0671 - mse: 7.022 - ETA: 2s - loss: 7.0376 - mse: 6.992 - ETA: 2s - loss: 7.0583 - mse: 7.013 - ETA: 2s - loss: 7.0321 - mse: 6.987 - ETA: 2s - loss: 7.0165 - mse: 6.971 - ETA: 2s - loss: 7.0042 - mse: 6.959 - ETA: 2s - loss: 6.9976 - mse: 6.952 - ETA: 2s - loss: 7.1477 - mse: 7.102 - ETA: 2s - loss: 7.1410 - mse: 7.095 - ETA: 2s - loss: 7.1095 - mse: 7.063 - ETA: 2s - loss: 7.0831 - mse: 7.037 - ETA: 1s - loss: 7.0933 - mse: 7.047 - ETA: 1s - loss: 7.0669 - mse: 7.020 - ETA: 1s - loss: 7.0415 - mse: 6.995 - ETA: 1s - loss: 7.0118 - mse: 6.965 - ETA: 1s - loss: 6.9853 - mse: 6.938 - ETA: 1s - loss: 6.9620 - mse: 6.915 - ETA: 1s - loss: 6.9629 - mse: 6.916 - ETA: 1s - loss: 6.9639 - mse: 6.917 - ETA: 1s - loss: 6.9534 - mse: 6.906 - ETA: 1s - loss: 6.9988 - mse: 6.951 - ETA: 1s - loss: 7.0081 - mse: 6.960 - ETA: 1s - loss: 6.9847 - mse: 6.937 - ETA: 1s - loss: 6.9746 - mse: 6.927 - ETA: 1s - loss: 6.9590 - mse: 6.911 - ETA: 1s - loss: 6.9452 - mse: 6.897 - ETA: 1s - loss: 6.9408 - mse: 6.893 - ETA: 1s - loss: 7.0746 - mse: 7.026 - ETA: 0s - loss: 7.0658 - mse: 7.017 - ETA: 0s - loss: 7.0425 - mse: 6.994 - ETA: 0s - loss: 7.2523 - mse: 7.204 - ETA: 0s - loss: 7.2427 - mse: 7.194 - ETA: 0s - loss: 7.2295 - mse: 7.181 - ETA: 0s - loss: 7.2137 - mse: 7.165 - ETA: 0s - loss: 7.2253 - mse: 7.176 - ETA: 0s - loss: 7.2106 - mse: 7.161 - ETA: 0s - loss: 7.1984 - mse: 7.149 - ETA: 0s - loss: 7.1753 - mse: 7.126 - ETA: 0s - loss: 7.1546 - mse: 7.105 - ETA: 0s - loss: 7.1346 - mse: 7.085 - ETA: 0s - loss: 7.1100 - mse: 7.060 - ETA: 0s - loss: 7.0866 - mse: 7.037 - ETA: 0s - loss: 7.0745 - mse: 7.024 - ETA: 0s - loss: 7.0524 - mse: 7.002 - ETA: 0s - loss: 7.0622 - mse: 7.012 - 12s 2us/step - loss: 7.0607 - mse: 7.0108\n",
      "Epoch 3/5\n"
     ]
    },
    {
     "name": "stdout",
     "output_type": "stream",
     "text": [
      "5968267/5968267 [==============================] - ETA: 3:45 - loss: 2.2595 - mse: 2.188 - ETA: 1:05 - loss: 4.8795 - mse: 4.808 - ETA: 41s - loss: 4.4486 - mse: 4.377 - ETA: 32s - loss: 4.1843 - mse: 4.11 - ETA: 27s - loss: 5.1461 - mse: 5.07 - ETA: 24s - loss: 4.9162 - mse: 4.84 - ETA: 21s - loss: 4.7007 - mse: 4.62 - ETA: 20s - loss: 6.9651 - mse: 6.89 - ETA: 19s - loss: 6.4488 - mse: 6.37 - ETA: 18s - loss: 6.1059 - mse: 6.03 - ETA: 17s - loss: 5.9980 - mse: 5.92 - ETA: 16s - loss: 6.0290 - mse: 5.95 - ETA: 15s - loss: 5.7507 - mse: 5.67 - ETA: 15s - loss: 5.7286 - mse: 5.65 - ETA: 15s - loss: 5.5802 - mse: 5.50 - ETA: 14s - loss: 5.6112 - mse: 5.53 - ETA: 14s - loss: 5.4241 - mse: 5.35 - ETA: 14s - loss: 5.2701 - mse: 5.19 - ETA: 13s - loss: 5.1033 - mse: 5.02 - ETA: 13s - loss: 5.0391 - mse: 4.96 - ETA: 13s - loss: 4.9737 - mse: 4.90 - ETA: 13s - loss: 4.8554 - mse: 4.78 - ETA: 12s - loss: 4.7382 - mse: 4.66 - ETA: 12s - loss: 4.6721 - mse: 4.59 - ETA: 12s - loss: 4.7340 - mse: 4.66 - ETA: 12s - loss: 4.6723 - mse: 4.59 - ETA: 12s - loss: 4.6559 - mse: 4.58 - ETA: 11s - loss: 4.7414 - mse: 4.66 - ETA: 11s - loss: 4.8989 - mse: 4.82 - ETA: 11s - loss: 4.8482 - mse: 4.77 - ETA: 11s - loss: 4.7741 - mse: 4.69 - ETA: 11s - loss: 4.7026 - mse: 4.62 - ETA: 11s - loss: 4.8539 - mse: 4.77 - ETA: 11s - loss: 4.8539 - mse: 4.77 - ETA: 11s - loss: 4.7764 - mse: 4.70 - ETA: 10s - loss: 4.7362 - mse: 4.66 - ETA: 10s - loss: 4.7253 - mse: 4.65 - ETA: 10s - loss: 4.7288 - mse: 4.65 - ETA: 10s - loss: 5.1019 - mse: 5.02 - ETA: 10s - loss: 5.0477 - mse: 4.97 - ETA: 10s - loss: 5.0398 - mse: 4.96 - ETA: 10s - loss: 5.1479 - mse: 5.07 - ETA: 10s - loss: 5.0995 - mse: 5.02 - ETA: 10s - loss: 5.1326 - mse: 5.05 - ETA: 10s - loss: 5.0898 - mse: 5.01 - ETA: 9s - loss: 6.0227 - mse: 5.9469 - ETA: 9s - loss: 6.2033 - mse: 6.127 - ETA: 9s - loss: 6.2465 - mse: 6.170 - ETA: 9s - loss: 6.2784 - mse: 6.202 - ETA: 9s - loss: 6.3604 - mse: 6.284 - ETA: 9s - loss: 6.2923 - mse: 6.216 - ETA: 9s - loss: 6.2272 - mse: 6.150 - ETA: 9s - loss: 6.1682 - mse: 6.091 - ETA: 9s - loss: 6.0962 - mse: 6.019 - ETA: 9s - loss: 6.3814 - mse: 6.304 - ETA: 9s - loss: 6.3104 - mse: 6.233 - ETA: 8s - loss: 6.5445 - mse: 6.467 - ETA: 8s - loss: 6.4808 - mse: 6.403 - ETA: 8s - loss: 6.8129 - mse: 6.735 - ETA: 8s - loss: 6.7383 - mse: 6.661 - ETA: 8s - loss: 6.7103 - mse: 6.633 - ETA: 8s - loss: 6.6534 - mse: 6.576 - ETA: 8s - loss: 6.7651 - mse: 6.687 - ETA: 8s - loss: 6.8189 - mse: 6.741 - ETA: 8s - loss: 6.9020 - mse: 6.824 - ETA: 8s - loss: 6.9065 - mse: 6.828 - ETA: 8s - loss: 6.8389 - mse: 6.761 - ETA: 8s - loss: 6.7724 - mse: 6.694 - ETA: 8s - loss: 6.7935 - mse: 6.715 - ETA: 7s - loss: 6.7626 - mse: 6.684 - ETA: 7s - loss: 6.7023 - mse: 6.624 - ETA: 7s - loss: 6.6477 - mse: 6.569 - ETA: 7s - loss: 6.6218 - mse: 6.543 - ETA: 7s - loss: 6.5742 - mse: 6.495 - ETA: 7s - loss: 6.5163 - mse: 6.437 - ETA: 7s - loss: 6.4616 - mse: 6.383 - ETA: 7s - loss: 6.4333 - mse: 6.354 - ETA: 7s - loss: 6.3814 - mse: 6.302 - ETA: 7s - loss: 6.4213 - mse: 6.342 - ETA: 7s - loss: 6.3822 - mse: 6.303 - ETA: 7s - loss: 6.4068 - mse: 6.328 - ETA: 7s - loss: 6.3805 - mse: 6.301 - ETA: 7s - loss: 6.8017 - mse: 6.722 - ETA: 6s - loss: 6.8226 - mse: 6.743 - ETA: 6s - loss: 6.8043 - mse: 6.725 - ETA: 6s - loss: 6.7751 - mse: 6.695 - ETA: 6s - loss: 6.7265 - mse: 6.647 - ETA: 6s - loss: 6.6758 - mse: 6.596 - ETA: 6s - loss: 6.8977 - mse: 6.818 - ETA: 6s - loss: 6.8509 - mse: 6.771 - ETA: 6s - loss: 6.8161 - mse: 6.736 - ETA: 6s - loss: 6.8023 - mse: 6.722 - ETA: 6s - loss: 6.7773 - mse: 6.697 - ETA: 6s - loss: 6.7412 - mse: 6.661 - ETA: 6s - loss: 6.8135 - mse: 6.733 - ETA: 6s - loss: 7.0884 - mse: 7.008 - ETA: 6s - loss: 7.1019 - mse: 7.021 - ETA: 6s - loss: 7.0511 - mse: 6.971 - ETA: 6s - loss: 7.0436 - mse: 6.963 - ETA: 5s - loss: 7.0031 - mse: 6.922 - ETA: 5s - loss: 6.9709 - mse: 6.890 - ETA: 5s - loss: 6.9460 - mse: 6.865 - ETA: 5s - loss: 6.9365 - mse: 6.856 - ETA: 5s - loss: 6.9008 - mse: 6.820 - ETA: 5s - loss: 6.8585 - mse: 6.777 - ETA: 5s - loss: 6.8233 - mse: 6.742 - ETA: 5s - loss: 6.8010 - mse: 6.720 - ETA: 5s - loss: 6.7782 - mse: 6.697 - ETA: 5s - loss: 6.7628 - mse: 6.681 - ETA: 5s - loss: 6.7309 - mse: 6.649 - ETA: 5s - loss: 6.8129 - mse: 6.731 - ETA: 5s - loss: 6.8561 - mse: 6.774 - ETA: 5s - loss: 6.8342 - mse: 6.752 - ETA: 5s - loss: 6.7965 - mse: 6.715 - ETA: 5s - loss: 6.7567 - mse: 6.675 - ETA: 4s - loss: 6.7302 - mse: 6.648 - ETA: 4s - loss: 6.7230 - mse: 6.641 - ETA: 4s - loss: 6.7131 - mse: 6.631 - ETA: 4s - loss: 6.6826 - mse: 6.601 - ETA: 4s - loss: 6.6534 - mse: 6.571 - ETA: 4s - loss: 6.6195 - mse: 6.537 - ETA: 4s - loss: 6.5886 - mse: 6.506 - ETA: 4s - loss: 6.5668 - mse: 6.484 - ETA: 4s - loss: 6.5561 - mse: 6.474 - ETA: 4s - loss: 6.5345 - mse: 6.452 - ETA: 4s - loss: 6.5209 - mse: 6.438 - ETA: 4s - loss: 6.5019 - mse: 6.419 - ETA: 4s - loss: 6.4944 - mse: 6.412 - ETA: 4s - loss: 6.4675 - mse: 6.385 - ETA: 4s - loss: 6.5391 - mse: 6.456 - ETA: 4s - loss: 6.6013 - mse: 6.519 - ETA: 3s - loss: 6.5838 - mse: 6.501 - ETA: 3s - loss: 6.5516 - mse: 6.469 - ETA: 3s - loss: 6.5379 - mse: 6.455 - ETA: 3s - loss: 6.5051 - mse: 6.422 - ETA: 3s - loss: 6.4730 - mse: 6.390 - ETA: 3s - loss: 6.4640 - mse: 6.381 - ETA: 3s - loss: 6.4366 - mse: 6.353 - ETA: 3s - loss: 6.4044 - mse: 6.321 - ETA: 3s - loss: 6.4306 - mse: 6.347 - ETA: 3s - loss: 6.4020 - mse: 6.319 - ETA: 3s - loss: 6.4082 - mse: 6.325 - ETA: 3s - loss: 6.3909 - mse: 6.307 - ETA: 3s - loss: 6.3746 - mse: 6.291 - ETA: 3s - loss: 6.5350 - mse: 6.451 - ETA: 3s - loss: 6.5112 - mse: 6.428 - ETA: 3s - loss: 6.4846 - mse: 6.401 - ETA: 3s - loss: 6.4671 - mse: 6.383 - ETA: 2s - loss: 6.4465 - mse: 6.363 - ETA: 2s - loss: 6.4216 - mse: 6.338 - ETA: 2s - loss: 6.3912 - mse: 6.307 - ETA: 2s - loss: 6.3626 - mse: 6.279 - ETA: 2s - loss: 6.3381 - mse: 6.254 - ETA: 2s - loss: 6.3417 - mse: 6.258 - ETA: 2s - loss: 6.3250 - mse: 6.241 - ETA: 2s - loss: 6.3062 - mse: 6.222 - ETA: 2s - loss: 6.2994 - mse: 6.215 - ETA: 2s - loss: 6.2837 - mse: 6.200 - ETA: 2s - loss: 6.2669 - mse: 6.183 - ETA: 2s - loss: 6.2540 - mse: 6.170 - ETA: 2s - loss: 6.2504 - mse: 6.166 - ETA: 2s - loss: 6.2745 - mse: 6.190 - ETA: 2s - loss: 6.2702 - mse: 6.186 - ETA: 2s - loss: 6.2510 - mse: 6.167 - ETA: 2s - loss: 6.2496 - mse: 6.165 - ETA: 1s - loss: 6.2315 - mse: 6.147 - ETA: 1s - loss: 6.5424 - mse: 6.458 - ETA: 1s - loss: 6.5490 - mse: 6.464 - ETA: 1s - loss: 6.5285 - mse: 6.444 - ETA: 1s - loss: 6.5365 - mse: 6.452 - ETA: 1s - loss: 6.5228 - mse: 6.438 - ETA: 1s - loss: 6.5083 - mse: 6.424 - ETA: 1s - loss: 6.5021 - mse: 6.417 - ETA: 1s - loss: 6.4820 - mse: 6.397 - ETA: 1s - loss: 6.4557 - mse: 6.371 - ETA: 1s - loss: 6.4477 - mse: 6.363 - ETA: 1s - loss: 6.4311 - mse: 6.346 - ETA: 1s - loss: 6.4076 - mse: 6.323 - ETA: 1s - loss: 6.3875 - mse: 6.302 - ETA: 1s - loss: 6.3689 - mse: 6.284 - ETA: 1s - loss: 6.3464 - mse: 6.261 - ETA: 0s - loss: 6.3295 - mse: 6.244 - ETA: 0s - loss: 6.3262 - mse: 6.241 - ETA: 0s - loss: 6.3163 - mse: 6.231 - ETA: 0s - loss: 6.2915 - mse: 6.206 - ETA: 0s - loss: 6.3645 - mse: 6.279 - ETA: 0s - loss: 6.3849 - mse: 6.300 - ETA: 0s - loss: 6.3628 - mse: 6.277 - ETA: 0s - loss: 6.3437 - mse: 6.258 - ETA: 0s - loss: 6.3434 - mse: 6.258 - ETA: 0s - loss: 6.3301 - mse: 6.244 - ETA: 0s - loss: 6.3651 - mse: 6.279 - ETA: 0s - loss: 6.3545 - mse: 6.269 - ETA: 0s - loss: 6.3349 - mse: 6.249 - ETA: 0s - loss: 6.3395 - mse: 6.254 - ETA: 0s - loss: 6.3311 - mse: 6.245 - ETA: 0s - loss: 6.3244 - mse: 6.238 - ETA: 0s - loss: 6.3396 - mse: 6.254 - 12s 2us/step - loss: 6.3750 - mse: 6.2895\n",
      "Epoch 4/5\n",
      "5968267/5968267 [==============================] - ETA: 3:39 - loss: 2.3200 - mse: 2.223 - ETA: 1:02 - loss: 3.2183 - mse: 3.121 - ETA: 40s - loss: 3.5616 - mse: 3.465 - ETA: 31s - loss: 3.1823 - mse: 3.08 - ETA: 27s - loss: 3.4393 - mse: 3.34 - ETA: 23s - loss: 3.1929 - mse: 3.09 - ETA: 21s - loss: 3.0892 - mse: 2.99 - ETA: 20s - loss: 3.0992 - mse: 3.00 - ETA: 18s - loss: 3.2678 - mse: 3.17 - ETA: 18s - loss: 3.8573 - mse: 3.76 - ETA: 17s - loss: 4.9184 - mse: 4.82 - ETA: 16s - loss: 5.0362 - mse: 4.93 - ETA: 16s - loss: 5.6718 - mse: 5.57 - ETA: 15s - loss: 5.3813 - mse: 5.28 - ETA: 15s - loss: 5.4580 - mse: 5.36 - ETA: 14s - loss: 5.2832 - mse: 5.18 - ETA: 14s - loss: 5.1790 - mse: 5.08 - ETA: 14s - loss: 5.1412 - mse: 5.04 - ETA: 13s - loss: 5.0109 - mse: 4.91 - ETA: 13s - loss: 5.0388 - mse: 4.94 - ETA: 13s - loss: 4.9629 - mse: 4.86 - ETA: 13s - loss: 5.0231 - mse: 4.92 - ETA: 12s - loss: 4.8952 - mse: 4.79 - ETA: 12s - loss: 5.2018 - mse: 5.10 - ETA: 12s - loss: 5.1722 - mse: 5.07 - ETA: 12s - loss: 7.2716 - mse: 7.17 - ETA: 12s - loss: 7.0872 - mse: 6.98 - ETA: 12s - loss: 6.9470 - mse: 6.84 - ETA: 11s - loss: 6.7851 - mse: 6.68 - ETA: 11s - loss: 6.7084 - mse: 6.61 - ETA: 11s - loss: 6.9159 - mse: 6.81 - ETA: 11s - loss: 7.2867 - mse: 7.18 - ETA: 11s - loss: 7.2673 - mse: 7.16 - ETA: 11s - loss: 7.1350 - mse: 7.03 - ETA: 11s - loss: 7.0071 - mse: 6.90 - ETA: 10s - loss: 6.9014 - mse: 6.80 - ETA: 10s - loss: 6.7962 - mse: 6.69 - ETA: 10s - loss: 6.7668 - mse: 6.66 - ETA: 10s - loss: 6.7530 - mse: 6.65 - ETA: 10s - loss: 6.7451 - mse: 6.64 - ETA: 10s - loss: 6.6664 - mse: 6.56 - ETA: 10s - loss: 6.5971 - mse: 6.49 - ETA: 10s - loss: 6.4925 - mse: 6.39 - ETA: 10s - loss: 6.4572 - mse: 6.35 - ETA: 10s - loss: 6.3895 - mse: 6.29 - ETA: 9s - loss: 6.3281 - mse: 6.2297 - ETA: 9s - loss: 6.3523 - mse: 6.253 - ETA: 9s - loss: 6.2829 - mse: 6.184 - ETA: 9s - loss: 6.2259 - mse: 6.127 - ETA: 9s - loss: 6.2229 - mse: 6.124 - ETA: 9s - loss: 6.6372 - mse: 6.538 - ETA: 9s - loss: 6.6253 - mse: 6.526 - ETA: 9s - loss: 6.5832 - mse: 6.484 - ETA: 9s - loss: 6.5944 - mse: 6.495 - ETA: 9s - loss: 6.5253 - mse: 6.426 - ETA: 9s - loss: 6.4878 - mse: 6.388 - ETA: 9s - loss: 6.4423 - mse: 6.343 - ETA: 8s - loss: 6.4215 - mse: 6.322 - ETA: 8s - loss: 6.3983 - mse: 6.299 - ETA: 8s - loss: 6.3263 - mse: 6.227 - ETA: 8s - loss: 6.4312 - mse: 6.331 - ETA: 8s - loss: 6.4013 - mse: 6.302 - ETA: 8s - loss: 6.4102 - mse: 6.310 - ETA: 8s - loss: 6.3630 - mse: 6.263 - ETA: 8s - loss: 6.3173 - mse: 6.217 - ETA: 8s - loss: 6.2688 - mse: 6.169 - ETA: 8s - loss: 6.3156 - mse: 6.215 - ETA: 8s - loss: 6.2706 - mse: 6.171 - ETA: 8s - loss: 6.2313 - mse: 6.131 - ETA: 8s - loss: 6.2462 - mse: 6.146 - ETA: 8s - loss: 6.2063 - mse: 6.106 - ETA: 7s - loss: 6.1758 - mse: 6.076 - ETA: 7s - loss: 6.1214 - mse: 6.021 - ETA: 7s - loss: 6.0768 - mse: 5.976 - ETA: 7s - loss: 6.0491 - mse: 5.949 - ETA: 7s - loss: 6.0493 - mse: 5.949 - ETA: 7s - loss: 5.9900 - mse: 5.890 - ETA: 7s - loss: 5.9676 - mse: 5.867 - ETA: 7s - loss: 5.9423 - mse: 5.842 - ETA: 7s - loss: 5.9094 - mse: 5.809 - ETA: 7s - loss: 5.9087 - mse: 5.808 - ETA: 7s - loss: 5.9341 - mse: 5.834 - ETA: 7s - loss: 5.8992 - mse: 5.799 - ETA: 7s - loss: 5.8692 - mse: 5.769 - ETA: 7s - loss: 5.8495 - mse: 5.749 - ETA: 7s - loss: 5.8040 - mse: 5.703 - ETA: 7s - loss: 5.7746 - mse: 5.674 - ETA: 6s - loss: 5.7493 - mse: 5.649 - ETA: 6s - loss: 6.1467 - mse: 6.046 - ETA: 6s - loss: 6.1046 - mse: 6.004 - ETA: 6s - loss: 6.0754 - mse: 5.975 - ETA: 6s - loss: 6.1283 - mse: 6.028 - ETA: 6s - loss: 6.0976 - mse: 5.997 - ETA: 6s - loss: 6.0488 - mse: 5.948 - ETA: 6s - loss: 6.0278 - mse: 5.927 - ETA: 6s - loss: 6.0399 - mse: 5.939 - ETA: 6s - loss: 6.0114 - mse: 5.911 - ETA: 6s - loss: 5.9769 - mse: 5.876 - ETA: 6s - loss: 5.9547 - mse: 5.854 - ETA: 6s - loss: 6.0698 - mse: 5.969 - ETA: 6s - loss: 6.0340 - mse: 5.933 - ETA: 6s - loss: 6.4910 - mse: 6.390 - ETA: 5s - loss: 6.4623 - mse: 6.361 - ETA: 5s - loss: 6.4496 - mse: 6.348 - ETA: 5s - loss: 6.4152 - mse: 6.314 - ETA: 5s - loss: 6.3874 - mse: 6.286 - ETA: 5s - loss: 6.3995 - mse: 6.298 - ETA: 5s - loss: 6.3806 - mse: 6.279 - ETA: 5s - loss: 6.3517 - mse: 6.250 - ETA: 5s - loss: 6.3138 - mse: 6.213 - ETA: 5s - loss: 6.3368 - mse: 6.235 - ETA: 5s - loss: 6.3212 - mse: 6.220 - ETA: 5s - loss: 6.2898 - mse: 6.188 - ETA: 5s - loss: 6.2639 - mse: 6.162 - ETA: 5s - loss: 6.2292 - mse: 6.128 - ETA: 5s - loss: 6.3334 - mse: 6.232 - ETA: 5s - loss: 6.3029 - mse: 6.201 - ETA: 5s - loss: 6.2753 - mse: 6.174 - ETA: 4s - loss: 6.2596 - mse: 6.158 - ETA: 4s - loss: 6.4735 - mse: 6.372 - ETA: 4s - loss: 6.4628 - mse: 6.361 - ETA: 4s - loss: 6.4335 - mse: 6.332 - ETA: 4s - loss: 6.4150 - mse: 6.313 - ETA: 4s - loss: 6.3855 - mse: 6.284 - ETA: 4s - loss: 6.4256 - mse: 6.324 - ETA: 4s - loss: 6.3895 - mse: 6.288 - ETA: 4s - loss: 6.3674 - mse: 6.265 - ETA: 4s - loss: 6.3804 - mse: 6.278 - ETA: 4s - loss: 6.3566 - mse: 6.255 - ETA: 4s - loss: 6.3250 - mse: 6.223 - ETA: 4s - loss: 6.3033 - mse: 6.201 - ETA: 4s - loss: 6.2848 - mse: 6.183 - ETA: 4s - loss: 6.2548 - mse: 6.152 - ETA: 4s - loss: 6.2257 - mse: 6.123 - ETA: 3s - loss: 6.1967 - mse: 6.094 - ETA: 3s - loss: 6.1667 - mse: 6.064 - ETA: 3s - loss: 6.1635 - mse: 6.061 - ETA: 3s - loss: 6.1394 - mse: 6.037 - ETA: 3s - loss: 6.1183 - mse: 6.016 - ETA: 3s - loss: 6.0984 - mse: 5.996 - ETA: 3s - loss: 6.0779 - mse: 5.975 - ETA: 3s - loss: 6.0494 - mse: 5.947 - ETA: 3s - loss: 6.0237 - mse: 5.921 - ETA: 3s - loss: 6.0060 - mse: 5.903 - ETA: 3s - loss: 5.9843 - mse: 5.881 - ETA: 3s - loss: 6.0325 - mse: 5.930 - ETA: 3s - loss: 6.0179 - mse: 5.915 - ETA: 3s - loss: 6.0113 - mse: 5.908 - ETA: 3s - loss: 5.9940 - mse: 5.891 - ETA: 3s - loss: 5.9853 - mse: 5.882 - ETA: 2s - loss: 5.9778 - mse: 5.875 - ETA: 2s - loss: 5.9496 - mse: 5.846 - ETA: 2s - loss: 5.9576 - mse: 5.854 - ETA: 2s - loss: 5.9368 - mse: 5.833 - ETA: 2s - loss: 6.0156 - mse: 5.912 - ETA: 2s - loss: 6.0079 - mse: 5.904 - ETA: 2s - loss: 5.9945 - mse: 5.891 - ETA: 2s - loss: 5.9762 - mse: 5.873 - ETA: 2s - loss: 5.9984 - mse: 5.895 - ETA: 2s - loss: 6.1737 - mse: 6.070 - ETA: 2s - loss: 6.1506 - mse: 6.047 - ETA: 2s - loss: 6.1340 - mse: 6.030 - ETA: 2s - loss: 6.1348 - mse: 6.031 - ETA: 2s - loss: 6.1575 - mse: 6.053 - ETA: 2s - loss: 6.1489 - mse: 6.045 - ETA: 2s - loss: 6.1601 - mse: 6.056 - ETA: 2s - loss: 6.1419 - mse: 6.038 - ETA: 1s - loss: 6.1166 - mse: 6.012 - ETA: 1s - loss: 6.1101 - mse: 6.006 - ETA: 1s - loss: 6.1269 - mse: 6.022 - ETA: 1s - loss: 6.1539 - mse: 6.049 - ETA: 1s - loss: 6.1441 - mse: 6.040 - ETA: 1s - loss: 6.1513 - mse: 6.047 - ETA: 1s - loss: 6.1422 - mse: 6.038 - ETA: 1s - loss: 6.1270 - mse: 6.022 - ETA: 1s - loss: 6.1244 - mse: 6.020 - ETA: 1s - loss: 6.1192 - mse: 6.015 - ETA: 1s - loss: 6.0980 - mse: 5.993 - ETA: 1s - loss: 6.0886 - mse: 5.984 - ETA: 1s - loss: 6.0679 - mse: 5.963 - ETA: 1s - loss: 6.0567 - mse: 5.952 - ETA: 1s - loss: 6.0495 - mse: 5.945 - ETA: 1s - loss: 6.0666 - mse: 5.962 - ETA: 0s - loss: 6.0851 - mse: 5.980 - ETA: 0s - loss: 6.0653 - mse: 5.960 - ETA: 0s - loss: 6.0526 - mse: 5.948 - ETA: 0s - loss: 6.0339 - mse: 5.929 - ETA: 0s - loss: 6.0205 - mse: 5.915 - ETA: 0s - loss: 6.0947 - mse: 5.990 - ETA: 0s - loss: 6.1895 - mse: 6.084 - ETA: 0s - loss: 6.1933 - mse: 6.088 - ETA: 0s - loss: 6.1779 - mse: 6.073 - ETA: 0s - loss: 6.1589 - mse: 6.054 - ETA: 0s - loss: 6.1429 - mse: 6.038 - ETA: 0s - loss: 6.1258 - mse: 6.020 - ETA: 0s - loss: 6.2489 - mse: 6.143 - ETA: 0s - loss: 6.2319 - mse: 6.126 - ETA: 0s - loss: 6.2345 - mse: 6.129 - ETA: 0s - loss: 6.2255 - mse: 6.120 - 12s 2us/step - loss: 6.2211 - mse: 6.1159\n",
      "Epoch 5/5\n"
     ]
    },
    {
     "name": "stdout",
     "output_type": "stream",
     "text": [
      "5968267/5968267 [==============================] - ETA: 4:32 - loss: 2.3755 - mse: 2.262 - ETA: 1:16 - loss: 6.8266 - mse: 6.713 - ETA: 48s - loss: 14.1550 - mse: 14.04 - ETA: 37s - loss: 10.9234 - mse: 10.81 - ETA: 31s - loss: 9.2085 - mse: 9.0954 - ETA: 27s - loss: 7.8183 - mse: 7.70 - ETA: 24s - loss: 7.1050 - mse: 6.99 - ETA: 22s - loss: 6.6193 - mse: 6.50 - ETA: 21s - loss: 6.7671 - mse: 6.65 - ETA: 20s - loss: 6.5012 - mse: 6.38 - ETA: 19s - loss: 6.6812 - mse: 6.56 - ETA: 18s - loss: 6.6441 - mse: 6.53 - ETA: 17s - loss: 6.3269 - mse: 6.21 - ETA: 17s - loss: 6.1940 - mse: 6.08 - ETA: 16s - loss: 5.9394 - mse: 5.82 - ETA: 16s - loss: 6.0852 - mse: 5.97 - ETA: 15s - loss: 6.0808 - mse: 5.96 - ETA: 15s - loss: 5.8662 - mse: 5.75 - ETA: 15s - loss: 5.7186 - mse: 5.60 - ETA: 14s - loss: 5.7444 - mse: 5.63 - ETA: 14s - loss: 6.2042 - mse: 6.09 - ETA: 14s - loss: 6.5811 - mse: 6.46 - ETA: 14s - loss: 6.4450 - mse: 6.33 - ETA: 13s - loss: 6.3287 - mse: 6.21 - ETA: 13s - loss: 6.1965 - mse: 6.08 - ETA: 13s - loss: 6.0836 - mse: 5.96 - ETA: 13s - loss: 5.9616 - mse: 5.84 - ETA: 12s - loss: 5.9625 - mse: 5.84 - ETA: 12s - loss: 6.0352 - mse: 5.92 - ETA: 12s - loss: 5.9112 - mse: 5.79 - ETA: 12s - loss: 6.0131 - mse: 5.89 - ETA: 12s - loss: 5.9695 - mse: 5.85 - ETA: 12s - loss: 5.8420 - mse: 5.72 - ETA: 12s - loss: 5.8309 - mse: 5.71 - ETA: 11s - loss: 5.9021 - mse: 5.78 - ETA: 11s - loss: 5.8038 - mse: 5.68 - ETA: 11s - loss: 5.7300 - mse: 5.61 - ETA: 11s - loss: 5.6400 - mse: 5.52 - ETA: 11s - loss: 5.7516 - mse: 5.63 - ETA: 11s - loss: 5.7049 - mse: 5.59 - ETA: 11s - loss: 5.7832 - mse: 5.66 - ETA: 11s - loss: 5.7269 - mse: 5.61 - ETA: 10s - loss: 5.6726 - mse: 5.55 - ETA: 10s - loss: 5.6034 - mse: 5.48 - ETA: 10s - loss: 5.5489 - mse: 5.43 - ETA: 10s - loss: 5.4844 - mse: 5.36 - ETA: 10s - loss: 5.4220 - mse: 5.30 - ETA: 10s - loss: 5.4444 - mse: 5.32 - ETA: 10s - loss: 5.3967 - mse: 5.28 - ETA: 10s - loss: 5.4376 - mse: 5.32 - ETA: 10s - loss: 5.3670 - mse: 5.25 - ETA: 10s - loss: 5.3092 - mse: 5.19 - ETA: 9s - loss: 5.2746 - mse: 5.1595 - ETA: 9s - loss: 5.2306 - mse: 5.115 - ETA: 9s - loss: 5.1807 - mse: 5.065 - ETA: 9s - loss: 5.2139 - mse: 5.098 - ETA: 9s - loss: 5.3041 - mse: 5.188 - ETA: 9s - loss: 5.2435 - mse: 5.128 - ETA: 9s - loss: 5.2256 - mse: 5.110 - ETA: 9s - loss: 5.1857 - mse: 5.070 - ETA: 9s - loss: 5.1431 - mse: 5.027 - ETA: 9s - loss: 5.1667 - mse: 5.051 - ETA: 9s - loss: 5.1503 - mse: 5.034 - ETA: 9s - loss: 5.7662 - mse: 5.650 - ETA: 8s - loss: 5.8411 - mse: 5.725 - ETA: 8s - loss: 5.7846 - mse: 5.669 - ETA: 8s - loss: 5.7461 - mse: 5.630 - ETA: 8s - loss: 5.6942 - mse: 5.578 - ETA: 8s - loss: 5.6519 - mse: 5.536 - ETA: 8s - loss: 5.6833 - mse: 5.567 - ETA: 8s - loss: 5.6439 - mse: 5.528 - ETA: 8s - loss: 5.6282 - mse: 5.512 - ETA: 8s - loss: 5.5883 - mse: 5.472 - ETA: 8s - loss: 5.5457 - mse: 5.429 - ETA: 8s - loss: 5.5157 - mse: 5.399 - ETA: 8s - loss: 5.8439 - mse: 5.727 - ETA: 8s - loss: 5.8241 - mse: 5.708 - ETA: 7s - loss: 5.8029 - mse: 5.686 - ETA: 7s - loss: 5.7812 - mse: 5.665 - ETA: 7s - loss: 5.7592 - mse: 5.643 - ETA: 7s - loss: 5.7504 - mse: 5.634 - ETA: 7s - loss: 5.7213 - mse: 5.604 - ETA: 7s - loss: 5.7424 - mse: 5.625 - ETA: 7s - loss: 5.7162 - mse: 5.599 - ETA: 7s - loss: 5.7239 - mse: 5.607 - ETA: 7s - loss: 5.9165 - mse: 5.799 - ETA: 7s - loss: 5.8807 - mse: 5.764 - ETA: 7s - loss: 5.8933 - mse: 5.776 - ETA: 7s - loss: 5.8821 - mse: 5.765 - ETA: 7s - loss: 5.8712 - mse: 5.754 - ETA: 7s - loss: 5.8378 - mse: 5.720 - ETA: 6s - loss: 5.8073 - mse: 5.690 - ETA: 6s - loss: 6.1919 - mse: 6.074 - ETA: 6s - loss: 6.4532 - mse: 6.335 - ETA: 6s - loss: 6.4133 - mse: 6.295 - ETA: 6s - loss: 6.3722 - mse: 6.254 - ETA: 6s - loss: 6.3325 - mse: 6.214 - ETA: 6s - loss: 6.3013 - mse: 6.183 - ETA: 6s - loss: 6.2608 - mse: 6.143 - ETA: 6s - loss: 6.2214 - mse: 6.103 - ETA: 6s - loss: 6.1993 - mse: 6.081 - ETA: 6s - loss: 6.1646 - mse: 6.046 - ETA: 6s - loss: 6.1710 - mse: 6.053 - ETA: 6s - loss: 6.1596 - mse: 6.041 - ETA: 6s - loss: 6.1380 - mse: 6.020 - ETA: 5s - loss: 6.1168 - mse: 5.998 - ETA: 5s - loss: 6.1731 - mse: 6.054 - ETA: 5s - loss: 6.1377 - mse: 6.019 - ETA: 5s - loss: 6.1054 - mse: 5.987 - ETA: 5s - loss: 6.0948 - mse: 5.976 - ETA: 5s - loss: 6.2007 - mse: 6.082 - ETA: 5s - loss: 6.4300 - mse: 6.311 - ETA: 5s - loss: 6.3971 - mse: 6.278 - ETA: 5s - loss: 6.3719 - mse: 6.253 - ETA: 5s - loss: 6.4301 - mse: 6.311 - ETA: 5s - loss: 6.4001 - mse: 6.281 - ETA: 5s - loss: 6.3772 - mse: 6.258 - ETA: 5s - loss: 6.3494 - mse: 6.230 - ETA: 5s - loss: 6.3234 - mse: 6.204 - ETA: 5s - loss: 6.2941 - mse: 6.175 - ETA: 4s - loss: 6.2622 - mse: 6.143 - ETA: 4s - loss: 6.2273 - mse: 6.108 - ETA: 4s - loss: 6.1956 - mse: 6.076 - ETA: 4s - loss: 6.2937 - mse: 6.175 - ETA: 4s - loss: 6.2762 - mse: 6.157 - ETA: 4s - loss: 6.4305 - mse: 6.311 - ETA: 4s - loss: 6.4072 - mse: 6.288 - ETA: 4s - loss: 6.3784 - mse: 6.259 - ETA: 4s - loss: 6.3761 - mse: 6.257 - ETA: 4s - loss: 6.3759 - mse: 6.256 - ETA: 4s - loss: 6.3831 - mse: 6.264 - ETA: 4s - loss: 6.3689 - mse: 6.249 - ETA: 4s - loss: 6.4659 - mse: 6.346 - ETA: 4s - loss: 6.4521 - mse: 6.332 - ETA: 4s - loss: 6.4498 - mse: 6.330 - ETA: 3s - loss: 6.4282 - mse: 6.309 - ETA: 3s - loss: 6.4244 - mse: 6.305 - ETA: 3s - loss: 6.4082 - mse: 6.288 - ETA: 3s - loss: 6.3930 - mse: 6.273 - ETA: 3s - loss: 6.3818 - mse: 6.262 - ETA: 3s - loss: 6.3596 - mse: 6.240 - ETA: 3s - loss: 6.3445 - mse: 6.225 - ETA: 3s - loss: 6.3313 - mse: 6.211 - ETA: 3s - loss: 6.3036 - mse: 6.184 - ETA: 3s - loss: 6.2761 - mse: 6.156 - ETA: 3s - loss: 6.2786 - mse: 6.159 - ETA: 3s - loss: 6.2541 - mse: 6.134 - ETA: 3s - loss: 6.2287 - mse: 6.108 - ETA: 3s - loss: 6.2189 - mse: 6.099 - ETA: 3s - loss: 6.1983 - mse: 6.078 - ETA: 3s - loss: 6.2065 - mse: 6.086 - ETA: 2s - loss: 6.2670 - mse: 6.147 - ETA: 2s - loss: 6.2460 - mse: 6.126 - ETA: 2s - loss: 6.2170 - mse: 6.097 - ETA: 2s - loss: 6.5544 - mse: 6.434 - ETA: 2s - loss: 6.5347 - mse: 6.414 - ETA: 2s - loss: 6.5086 - mse: 6.388 - ETA: 2s - loss: 6.4859 - mse: 6.365 - ETA: 2s - loss: 6.4554 - mse: 6.335 - ETA: 2s - loss: 6.4278 - mse: 6.307 - ETA: 2s - loss: 6.4538 - mse: 6.333 - ETA: 2s - loss: 6.4338 - mse: 6.313 - ETA: 2s - loss: 6.4147 - mse: 6.294 - ETA: 2s - loss: 6.3907 - mse: 6.270 - ETA: 2s - loss: 6.3710 - mse: 6.250 - ETA: 2s - loss: 6.3440 - mse: 6.223 - ETA: 2s - loss: 6.3298 - mse: 6.209 - ETA: 1s - loss: 6.3061 - mse: 6.185 - ETA: 1s - loss: 6.2819 - mse: 6.161 - ETA: 1s - loss: 6.2647 - mse: 6.144 - ETA: 1s - loss: 6.3017 - mse: 6.181 - ETA: 1s - loss: 6.3820 - mse: 6.261 - ETA: 1s - loss: 6.3856 - mse: 6.265 - ETA: 1s - loss: 6.3664 - mse: 6.246 - ETA: 1s - loss: 6.3563 - mse: 6.235 - ETA: 1s - loss: 6.3347 - mse: 6.214 - ETA: 1s - loss: 6.3648 - mse: 6.244 - ETA: 1s - loss: 6.3758 - mse: 6.255 - ETA: 1s - loss: 6.3561 - mse: 6.235 - ETA: 1s - loss: 6.3381 - mse: 6.217 - ETA: 1s - loss: 6.3271 - mse: 6.206 - ETA: 1s - loss: 6.3383 - mse: 6.217 - ETA: 1s - loss: 6.3199 - mse: 6.199 - ETA: 0s - loss: 6.2981 - mse: 6.177 - ETA: 0s - loss: 6.3361 - mse: 6.215 - ETA: 0s - loss: 6.3180 - mse: 6.197 - ETA: 0s - loss: 6.2931 - mse: 6.172 - ETA: 0s - loss: 6.2716 - mse: 6.151 - ETA: 0s - loss: 6.2702 - mse: 6.149 - ETA: 0s - loss: 6.2493 - mse: 6.128 - ETA: 0s - loss: 6.2322 - mse: 6.111 - ETA: 0s - loss: 6.2097 - mse: 6.089 - ETA: 0s - loss: 6.1978 - mse: 6.077 - ETA: 0s - loss: 6.1817 - mse: 6.061 - ETA: 0s - loss: 6.1661 - mse: 6.045 - ETA: 0s - loss: 6.1821 - mse: 6.061 - ETA: 0s - loss: 6.1660 - mse: 6.045 - ETA: 0s - loss: 6.1469 - mse: 6.026 - ETA: 0s - loss: 6.1486 - mse: 6.028 - 12s 2us/step - loss: 6.1439 - mse: 6.0232\n",
      "33\n",
      "Epoch 1/5\n"
     ]
    },
    {
     "name": "stdout",
     "output_type": "stream",
     "text": [
      "6130000/6186922 [============================>.] - ETA: 7:00 - loss: 3.9694 - mse: 3.961 - ETA: 1:54 - loss: 24.5086 - mse: 24.501 - ETA: 1:10 - loss: 19.2340 - mse: 19.226 - ETA: 52s - loss: 14.1152 - mse: 14.107 - ETA: 42s - loss: 15.8426 - mse: 15.83 - ETA: 36s - loss: 13.4426 - mse: 13.43 - ETA: 32s - loss: 12.2291 - mse: 12.22 - ETA: 29s - loss: 14.7127 - mse: 14.70 - ETA: 27s - loss: 13.3262 - mse: 13.31 - ETA: 25s - loss: 12.5058 - mse: 12.49 - ETA: 23s - loss: 13.4557 - mse: 13.44 - ETA: 22s - loss: 12.5835 - mse: 12.57 - ETA: 22s - loss: 12.0002 - mse: 11.99 - ETA: 21s - loss: 15.0525 - mse: 15.04 - ETA: 20s - loss: 14.1687 - mse: 14.16 - ETA: 19s - loss: 17.2059 - mse: 17.19 - ETA: 19s - loss: 16.6143 - mse: 16.60 - ETA: 18s - loss: 16.2858 - mse: 16.27 - ETA: 17s - loss: 16.0060 - mse: 16.00 - ETA: 17s - loss: 15.9362 - mse: 15.93 - ETA: 16s - loss: 16.8914 - mse: 16.88 - ETA: 16s - loss: 17.7521 - mse: 17.74 - ETA: 16s - loss: 17.0868 - mse: 17.08 - ETA: 15s - loss: 17.0103 - mse: 17.00 - ETA: 15s - loss: 16.4100 - mse: 16.40 - ETA: 15s - loss: 15.8486 - mse: 15.84 - ETA: 14s - loss: 16.5493 - mse: 16.54 - ETA: 14s - loss: 16.0497 - mse: 16.04 - ETA: 14s - loss: 15.5782 - mse: 15.57 - ETA: 14s - loss: 15.7806 - mse: 15.77 - ETA: 13s - loss: 15.3704 - mse: 15.36 - ETA: 13s - loss: 14.9472 - mse: 14.94 - ETA: 13s - loss: 15.0543 - mse: 15.04 - ETA: 13s - loss: 14.8404 - mse: 14.83 - ETA: 13s - loss: 14.4695 - mse: 14.46 - ETA: 13s - loss: 14.3227 - mse: 14.31 - ETA: 12s - loss: 13.9781 - mse: 13.97 - ETA: 12s - loss: 13.7193 - mse: 13.71 - ETA: 12s - loss: 13.9423 - mse: 13.93 - ETA: 12s - loss: 13.8219 - mse: 13.81 - ETA: 12s - loss: 13.6219 - mse: 13.61 - ETA: 12s - loss: 13.5375 - mse: 13.53 - ETA: 11s - loss: 13.2860 - mse: 13.27 - ETA: 11s - loss: 13.0269 - mse: 13.02 - ETA: 11s - loss: 12.8684 - mse: 12.86 - ETA: 11s - loss: 12.6328 - mse: 12.62 - ETA: 11s - loss: 12.8913 - mse: 12.88 - ETA: 11s - loss: 12.7189 - mse: 12.71 - ETA: 11s - loss: 12.9140 - mse: 12.90 - ETA: 11s - loss: 12.7452 - mse: 12.73 - ETA: 11s - loss: 12.5616 - mse: 12.55 - ETA: 10s - loss: 12.3388 - mse: 12.33 - ETA: 10s - loss: 12.2219 - mse: 12.21 - ETA: 10s - loss: 12.0656 - mse: 12.05 - ETA: 10s - loss: 11.8992 - mse: 11.89 - ETA: 10s - loss: 11.7511 - mse: 11.74 - ETA: 10s - loss: 11.7073 - mse: 11.70 - ETA: 10s - loss: 11.5523 - mse: 11.54 - ETA: 10s - loss: 11.6154 - mse: 11.60 - ETA: 9s - loss: 11.6052 - mse: 11.5978 - ETA: 9s - loss: 11.4533 - mse: 11.445 - ETA: 9s - loss: 11.4462 - mse: 11.438 - ETA: 9s - loss: 11.2702 - mse: 11.262 - ETA: 9s - loss: 11.1581 - mse: 11.150 - ETA: 9s - loss: 11.2869 - mse: 11.279 - ETA: 9s - loss: 11.1753 - mse: 11.167 - ETA: 9s - loss: 11.0524 - mse: 11.044 - ETA: 9s - loss: 11.4466 - mse: 11.438 - ETA: 9s - loss: 11.3792 - mse: 11.371 - ETA: 9s - loss: 11.3610 - mse: 11.353 - ETA: 8s - loss: 11.2940 - mse: 11.286 - ETA: 8s - loss: 11.1934 - mse: 11.185 - ETA: 8s - loss: 11.1019 - mse: 11.093 - ETA: 8s - loss: 11.1349 - mse: 11.126 - ETA: 8s - loss: 11.2021 - mse: 11.194 - ETA: 8s - loss: 11.1028 - mse: 11.094 - ETA: 8s - loss: 10.9891 - mse: 10.980 - ETA: 8s - loss: 10.9026 - mse: 10.894 - ETA: 8s - loss: 10.8866 - mse: 10.878 - ETA: 8s - loss: 11.1148 - mse: 11.106 - ETA: 8s - loss: 11.1039 - mse: 11.095 - ETA: 8s - loss: 11.0924 - mse: 11.083 - ETA: 7s - loss: 11.1015 - mse: 11.092 - ETA: 7s - loss: 11.0336 - mse: 11.024 - ETA: 7s - loss: 10.9431 - mse: 10.934 - ETA: 7s - loss: 10.8917 - mse: 10.883 - ETA: 7s - loss: 10.8225 - mse: 10.813 - ETA: 7s - loss: 11.0650 - mse: 11.056 - ETA: 7s - loss: 11.0710 - mse: 11.062 - ETA: 7s - loss: 11.0768 - mse: 11.067 - ETA: 7s - loss: 10.9862 - mse: 10.977 - ETA: 7s - loss: 10.9175 - mse: 10.908 - ETA: 7s - loss: 10.9016 - mse: 10.892 - ETA: 7s - loss: 10.8785 - mse: 10.869 - ETA: 7s - loss: 10.7837 - mse: 10.774 - ETA: 7s - loss: 10.7783 - mse: 10.769 - ETA: 6s - loss: 10.6974 - mse: 10.688 - ETA: 6s - loss: 10.7455 - mse: 10.736 - ETA: 6s - loss: 10.7461 - mse: 10.736 - ETA: 6s - loss: 10.6649 - mse: 10.655 - ETA: 6s - loss: 11.4776 - mse: 11.468 - ETA: 6s - loss: 11.7682 - mse: 11.758 - ETA: 6s - loss: 11.7109 - mse: 11.701 - ETA: 6s - loss: 11.6298 - mse: 11.620 - ETA: 6s - loss: 11.5545 - mse: 11.544 - ETA: 6s - loss: 11.5377 - mse: 11.527 - ETA: 6s - loss: 11.5382 - mse: 11.528 - ETA: 6s - loss: 11.4642 - mse: 11.454 - ETA: 6s - loss: 11.3823 - mse: 11.372 - ETA: 6s - loss: 11.3165 - mse: 11.306 - ETA: 5s - loss: 11.2398 - mse: 11.229 - ETA: 5s - loss: 11.1674 - mse: 11.157 - ETA: 5s - loss: 11.2457 - mse: 11.235 - ETA: 5s - loss: 11.1772 - mse: 11.167 - ETA: 5s - loss: 11.1284 - mse: 11.118 - ETA: 5s - loss: 11.0516 - mse: 11.041 - ETA: 5s - loss: 11.0044 - mse: 10.994 - ETA: 5s - loss: 11.2130 - mse: 11.202 - ETA: 5s - loss: 11.2162 - mse: 11.205 - ETA: 5s - loss: 11.1674 - mse: 11.157 - ETA: 5s - loss: 11.1081 - mse: 11.097 - ETA: 5s - loss: 11.0843 - mse: 11.073 - ETA: 5s - loss: 11.0356 - mse: 11.025 - ETA: 5s - loss: 11.0951 - mse: 11.084 - ETA: 5s - loss: 11.0535 - mse: 11.042 - ETA: 4s - loss: 11.0212 - mse: 11.010 - ETA: 4s - loss: 10.9585 - mse: 10.947 - ETA: 4s - loss: 10.9079 - mse: 10.897 - ETA: 4s - loss: 10.8536 - mse: 10.842 - ETA: 4s - loss: 10.7974 - mse: 10.786 - ETA: 4s - loss: 10.7426 - mse: 10.731 - ETA: 4s - loss: 10.6885 - mse: 10.677 - ETA: 4s - loss: 10.6354 - mse: 10.624 - ETA: 4s - loss: 10.6569 - mse: 10.646 - ETA: 4s - loss: 10.6057 - mse: 10.594 - ETA: 4s - loss: 10.5444 - mse: 10.533 - ETA: 4s - loss: 10.4905 - mse: 10.479 - ETA: 4s - loss: 10.4322 - mse: 10.421 - ETA: 4s - loss: 10.3798 - mse: 10.368 - ETA: 4s - loss: 10.3284 - mse: 10.317 - ETA: 3s - loss: 10.2707 - mse: 10.259 - ETA: 3s - loss: 10.2292 - mse: 10.218 - ETA: 3s - loss: 10.2434 - mse: 10.232 - ETA: 3s - loss: 10.2120 - mse: 10.200 - ETA: 3s - loss: 10.1848 - mse: 10.173 - ETA: 3s - loss: 10.1646 - mse: 10.153 - ETA: 3s - loss: 10.2544 - mse: 10.243 - ETA: 3s - loss: 10.2325 - mse: 10.221 - ETA: 3s - loss: 10.1912 - mse: 10.179 - ETA: 3s - loss: 10.2937 - mse: 10.282 - ETA: 3s - loss: 10.2495 - mse: 10.237 - ETA: 3s - loss: 10.2345 - mse: 10.222 - ETA: 3s - loss: 10.4690 - mse: 10.457 - ETA: 3s - loss: 10.4256 - mse: 10.413 - ETA: 3s - loss: 10.3799 - mse: 10.368 - ETA: 3s - loss: 10.3289 - mse: 10.317 - ETA: 2s - loss: 10.2880 - mse: 10.276 - ETA: 2s - loss: 10.2540 - mse: 10.242 - ETA: 2s - loss: 10.2204 - mse: 10.208 - ETA: 2s - loss: 10.1701 - mse: 10.158 - ETA: 2s - loss: 10.1317 - mse: 10.119 - ETA: 2s - loss: 10.6406 - mse: 10.628 - ETA: 2s - loss: 10.6111 - mse: 10.598 - ETA: 2s - loss: 10.5732 - mse: 10.561 - ETA: 2s - loss: 10.5278 - mse: 10.515 - ETA: 2s - loss: 10.5146 - mse: 10.502 - ETA: 2s - loss: 10.5004 - mse: 10.488 - ETA: 2s - loss: 10.5015 - mse: 10.489 - ETA: 2s - loss: 10.4777 - mse: 10.465 - ETA: 2s - loss: 10.4289 - mse: 10.416 - ETA: 2s - loss: 10.3908 - mse: 10.378 - ETA: 2s - loss: 10.3583 - mse: 10.345 - ETA: 1s - loss: 10.3170 - mse: 10.304 - ETA: 1s - loss: 10.3152 - mse: 10.302 - ETA: 1s - loss: 10.4369 - mse: 10.424 - ETA: 1s - loss: 10.3901 - mse: 10.377 - ETA: 1s - loss: 10.3557 - mse: 10.342 - ETA: 1s - loss: 10.3122 - mse: 10.299 - ETA: 1s - loss: 10.3039 - mse: 10.290 - ETA: 1s - loss: 10.3011 - mse: 10.288 - ETA: 1s - loss: 10.3666 - mse: 10.353 - ETA: 1s - loss: 10.3295 - mse: 10.316 - ETA: 1s - loss: 10.3404 - mse: 10.327 - ETA: 1s - loss: 10.4191 - mse: 10.405 - ETA: 1s - loss: 10.3834 - mse: 10.370 - ETA: 1s - loss: 10.3409 - mse: 10.327 - ETA: 1s - loss: 10.3217 - mse: 10.308 - ETA: 1s - loss: 10.2793 - mse: 10.265 - ETA: 1s - loss: 10.2361 - mse: 10.222 - ETA: 0s - loss: 10.2131 - mse: 10.199 - ETA: 0s - loss: 10.1728 - mse: 10.159 - ETA: 0s - loss: 10.1334 - mse: 10.119 - ETA: 0s - loss: 10.0938 - mse: 10.080 - ETA: 0s - loss: 10.0607 - mse: 10.046 - ETA: 0s - loss: 10.0239 - mse: 10.009 - ETA: 0s - loss: 10.0151 - mse: 10.001 - ETA: 0s - loss: 9.9893 - mse: 9.9752  - ETA: 0s - loss: 9.9750 - mse: 9.960 - ETA: 0s - loss: 9.9661 - mse: 9.951 - ETA: 0s - loss: 9.9390 - mse: 9.924 - ETA: 0s - loss: 9.9149 - mse: 9.900 - ETA: 0s - loss: 9.8815 - mse: 9.867 - ETA: 0s - loss: 9.8612 - mse: 9.846 - ETA: 0s - loss: 9.8237 - mse: 9.80936186922/6186922 [==============================] - ETA: 0s - loss: 9.8086 - mse: 9.794 - 12s 2us/step - loss: 9.7795 - mse: 9.7650\n",
      "Epoch 2/5\n",
      "6186922/6186922 [==============================] - ETA: 4:05 - loss: 2.2994 - mse: 2.272 - ETA: 1:09 - loss: 5.2702 - mse: 5.243 - ETA: 44s - loss: 4.9053 - mse: 4.878 - ETA: 34s - loss: 4.6747 - mse: 4.64 - ETA: 29s - loss: 4.2270 - mse: 4.20 - ETA: 25s - loss: 4.3038 - mse: 4.27 - ETA: 23s - loss: 4.8316 - mse: 4.80 - ETA: 21s - loss: 4.6979 - mse: 4.67 - ETA: 20s - loss: 4.5594 - mse: 4.53 - ETA: 19s - loss: 5.0745 - mse: 5.04 - ETA: 18s - loss: 4.9032 - mse: 4.87 - ETA: 17s - loss: 4.8980 - mse: 4.87 - ETA: 17s - loss: 4.8693 - mse: 4.84 - ETA: 16s - loss: 4.6520 - mse: 4.62 - ETA: 16s - loss: 4.4792 - mse: 4.45 - ETA: 15s - loss: 4.3777 - mse: 4.35 - ETA: 15s - loss: 4.5848 - mse: 4.55 - ETA: 14s - loss: 4.6301 - mse: 4.60 - ETA: 14s - loss: 4.5501 - mse: 4.52 - ETA: 14s - loss: 4.7085 - mse: 4.68 - ETA: 14s - loss: 4.7822 - mse: 4.75 - ETA: 13s - loss: 4.8208 - mse: 4.79 - ETA: 13s - loss: 4.8481 - mse: 4.82 - ETA: 13s - loss: 6.4382 - mse: 6.41 - ETA: 13s - loss: 7.9904 - mse: 7.96 - ETA: 12s - loss: 8.0497 - mse: 8.02 - ETA: 12s - loss: 7.9913 - mse: 7.96 - ETA: 12s - loss: 7.9288 - mse: 7.90 - ETA: 12s - loss: 7.7436 - mse: 7.71 - ETA: 12s - loss: 7.6630 - mse: 7.63 - ETA: 12s - loss: 7.5771 - mse: 7.54 - ETA: 11s - loss: 7.4860 - mse: 7.45 - ETA: 11s - loss: 7.6037 - mse: 7.57 - ETA: 11s - loss: 7.6104 - mse: 7.58 - ETA: 11s - loss: 7.4354 - mse: 7.40 - ETA: 11s - loss: 7.3427 - mse: 7.31 - ETA: 11s - loss: 7.9611 - mse: 7.93 - ETA: 11s - loss: 8.2493 - mse: 8.21 - ETA: 11s - loss: 8.2576 - mse: 8.22 - ETA: 10s - loss: 8.1471 - mse: 8.11 - ETA: 10s - loss: 8.5748 - mse: 8.54 - ETA: 10s - loss: 9.0249 - mse: 8.99 - ETA: 10s - loss: 8.9719 - mse: 8.94 - ETA: 10s - loss: 8.8846 - mse: 8.85 - ETA: 10s - loss: 8.8751 - mse: 8.84 - ETA: 10s - loss: 8.7321 - mse: 8.70 - ETA: 10s - loss: 8.6386 - mse: 8.60 - ETA: 10s - loss: 8.5292 - mse: 8.49 - ETA: 10s - loss: 8.4277 - mse: 8.39 - ETA: 9s - loss: 9.3710 - mse: 9.3386 - ETA: 9s - loss: 9.2376 - mse: 9.205 - ETA: 9s - loss: 9.1764 - mse: 9.143 - ETA: 9s - loss: 9.0630 - mse: 9.030 - ETA: 9s - loss: 8.9371 - mse: 8.904 - ETA: 9s - loss: 8.8782 - mse: 8.845 - ETA: 9s - loss: 8.7506 - mse: 8.717 - ETA: 9s - loss: 8.6494 - mse: 8.615 - ETA: 9s - loss: 8.5964 - mse: 8.562 - ETA: 9s - loss: 8.5211 - mse: 8.487 - ETA: 9s - loss: 8.4258 - mse: 8.391 - ETA: 9s - loss: 8.5813 - mse: 8.547 - ETA: 8s - loss: 8.5103 - mse: 8.476 - ETA: 8s - loss: 8.6865 - mse: 8.652 - ETA: 8s - loss: 8.6233 - mse: 8.588 - ETA: 8s - loss: 8.5357 - mse: 8.501 - ETA: 8s - loss: 8.4829 - mse: 8.448 - ETA: 8s - loss: 8.4635 - mse: 8.428 - ETA: 8s - loss: 8.3974 - mse: 8.362 - ETA: 8s - loss: 8.3318 - mse: 8.296 - ETA: 8s - loss: 8.2647 - mse: 8.229 - ETA: 8s - loss: 8.2472 - mse: 8.212 - ETA: 8s - loss: 8.1741 - mse: 8.138 - ETA: 8s - loss: 8.2087 - mse: 8.173 - ETA: 8s - loss: 8.1361 - mse: 8.100 - ETA: 7s - loss: 8.1294 - mse: 8.093 - ETA: 7s - loss: 9.2633 - mse: 9.227 - ETA: 7s - loss: 9.2852 - mse: 9.249 - ETA: 7s - loss: 9.2365 - mse: 9.200 - ETA: 7s - loss: 9.1973 - mse: 9.161 - ETA: 7s - loss: 9.1576 - mse: 9.121 - ETA: 7s - loss: 9.3101 - mse: 9.274 - ETA: 7s - loss: 9.4140 - mse: 9.377 - ETA: 7s - loss: 9.3417 - mse: 9.305 - ETA: 7s - loss: 9.4043 - mse: 9.368 - ETA: 7s - loss: 9.3600 - mse: 9.323 - ETA: 7s - loss: 9.3093 - mse: 9.272 - ETA: 7s - loss: 9.7389 - mse: 9.702 - ETA: 7s - loss: 9.6563 - mse: 9.619 - ETA: 7s - loss: 9.5907 - mse: 9.554 - ETA: 6s - loss: 9.5278 - mse: 9.491 - ETA: 6s - loss: 9.5171 - mse: 9.480 - ETA: 6s - loss: 9.5012 - mse: 9.464 - ETA: 6s - loss: 9.3977 - mse: 9.360 - ETA: 6s - loss: 9.3277 - mse: 9.290 - ETA: 6s - loss: 9.4373 - mse: 9.400 - ETA: 6s - loss: 9.4088 - mse: 9.371 - ETA: 6s - loss: 9.3561 - mse: 9.319 - ETA: 6s - loss: 10.3266 - mse: 10.289 - ETA: 6s - loss: 10.2588 - mse: 10.221 - ETA: 6s - loss: 10.1819 - mse: 10.144 - ETA: 6s - loss: 10.2143 - mse: 10.177 - ETA: 6s - loss: 10.2435 - mse: 10.206 - ETA: 6s - loss: 10.2282 - mse: 10.190 - ETA: 6s - loss: 10.1646 - mse: 10.127 - ETA: 5s - loss: 10.1154 - mse: 10.077 - ETA: 5s - loss: 10.0610 - mse: 10.023 - ETA: 5s - loss: 10.0059 - mse: 9.968 - ETA: 5s - loss: 9.9450 - mse: 9.9072 - ETA: 5s - loss: 9.8728 - mse: 9.834 - ETA: 5s - loss: 9.8320 - mse: 9.794 - ETA: 5s - loss: 9.7804 - mse: 9.742 - ETA: 5s - loss: 9.7233 - mse: 9.685 - ETA: 5s - loss: 9.6559 - mse: 9.617 - ETA: 5s - loss: 9.5958 - mse: 9.557 - ETA: 5s - loss: 9.5515 - mse: 9.513 - ETA: 5s - loss: 9.5064 - mse: 9.468 - ETA: 5s - loss: 9.5339 - mse: 9.495 - ETA: 5s - loss: 9.5649 - mse: 9.526 - ETA: 5s - loss: 9.5165 - mse: 9.477 - ETA: 5s - loss: 9.4903 - mse: 9.451 - ETA: 4s - loss: 9.4524 - mse: 9.413 - ETA: 4s - loss: 9.4052 - mse: 9.366 - ETA: 4s - loss: 9.3458 - mse: 9.306 - ETA: 4s - loss: 9.2922 - mse: 9.253 - ETA: 4s - loss: 9.2349 - mse: 9.195 - ETA: 4s - loss: 9.2115 - mse: 9.172 - ETA: 4s - loss: 9.1878 - mse: 9.148 - ETA: 4s - loss: 9.1402 - mse: 9.101 - ETA: 4s - loss: 9.1091 - mse: 9.069 - ETA: 4s - loss: 9.1658 - mse: 9.126 - ETA: 4s - loss: 9.1122 - mse: 9.072 - ETA: 4s - loss: 9.0741 - mse: 9.034 - ETA: 4s - loss: 9.1903 - mse: 9.150 - ETA: 4s - loss: 9.1647 - mse: 9.125 - ETA: 4s - loss: 9.1294 - mse: 9.089 - ETA: 4s - loss: 9.1090 - mse: 9.069 - ETA: 4s - loss: 9.0808 - mse: 9.041 - ETA: 3s - loss: 9.1066 - mse: 9.066 - ETA: 3s - loss: 9.0739 - mse: 9.033 - ETA: 3s - loss: 9.0373 - mse: 8.997 - ETA: 3s - loss: 9.0211 - mse: 8.980 - ETA: 3s - loss: 8.9796 - mse: 8.939 - ETA: 3s - loss: 8.9651 - mse: 8.924 - ETA: 3s - loss: 8.9423 - mse: 8.901 - ETA: 3s - loss: 8.9015 - mse: 8.861 - ETA: 3s - loss: 8.8654 - mse: 8.824 - ETA: 3s - loss: 8.8855 - mse: 8.844 - ETA: 3s - loss: 8.8375 - mse: 8.796 - ETA: 3s - loss: 8.8131 - mse: 8.772 - ETA: 3s - loss: 8.7888 - mse: 8.747 - ETA: 3s - loss: 8.7585 - mse: 8.717 - ETA: 3s - loss: 8.9743 - mse: 8.933 - ETA: 3s - loss: 8.9459 - mse: 8.904 - ETA: 3s - loss: 8.9030 - mse: 8.861 - ETA: 2s - loss: 8.9355 - mse: 8.894 - ETA: 2s - loss: 8.9194 - mse: 8.877 - ETA: 2s - loss: 8.9074 - mse: 8.865 - ETA: 2s - loss: 8.8687 - mse: 8.827 - ETA: 2s - loss: 8.8351 - mse: 8.793 - ETA: 2s - loss: 8.8752 - mse: 8.833 - ETA: 2s - loss: 8.8374 - mse: 8.795 - ETA: 2s - loss: 8.8842 - mse: 8.842 - ETA: 2s - loss: 8.8451 - mse: 8.803 - ETA: 2s - loss: 8.8530 - mse: 8.810 - ETA: 2s - loss: 8.8228 - mse: 8.780 - ETA: 2s - loss: 8.8132 - mse: 8.770 - ETA: 2s - loss: 8.7761 - mse: 8.733 - ETA: 2s - loss: 8.7573 - mse: 8.714 - ETA: 2s - loss: 8.7199 - mse: 8.677 - ETA: 2s - loss: 8.6856 - mse: 8.642 - ETA: 2s - loss: 8.6540 - mse: 8.611 - ETA: 1s - loss: 8.6598 - mse: 8.617 - ETA: 1s - loss: 8.6256 - mse: 8.582 - ETA: 1s - loss: 8.5925 - mse: 8.549 - ETA: 1s - loss: 8.5599 - mse: 8.516 - ETA: 1s - loss: 8.5209 - mse: 8.477 - ETA: 1s - loss: 8.4875 - mse: 8.444 - ETA: 1s - loss: 8.4608 - mse: 8.417 - ETA: 1s - loss: 8.4329 - mse: 8.389 - ETA: 1s - loss: 8.4314 - mse: 8.387 - ETA: 1s - loss: 8.5327 - mse: 8.489 - ETA: 1s - loss: 8.5150 - mse: 8.471 - ETA: 1s - loss: 8.4930 - mse: 8.449 - ETA: 1s - loss: 8.4699 - mse: 8.426 - ETA: 1s - loss: 8.4396 - mse: 8.395 - ETA: 1s - loss: 8.4400 - mse: 8.395 - ETA: 1s - loss: 8.4080 - mse: 8.363 - ETA: 1s - loss: 8.3763 - mse: 8.332 - ETA: 0s - loss: 8.3617 - mse: 8.317 - ETA: 0s - loss: 8.3384 - mse: 8.294 - ETA: 0s - loss: 8.3075 - mse: 8.263 - ETA: 0s - loss: 8.2969 - mse: 8.252 - ETA: 0s - loss: 8.3321 - mse: 8.287 - ETA: 0s - loss: 8.3188 - mse: 8.274 - ETA: 0s - loss: 8.2897 - mse: 8.244 - ETA: 0s - loss: 8.2576 - mse: 8.212 - ETA: 0s - loss: 8.2283 - mse: 8.183 - ETA: 0s - loss: 8.2100 - mse: 8.164 - ETA: 0s - loss: 8.1830 - mse: 8.137 - ETA: 0s - loss: 8.1538 - mse: 8.108 - ETA: 0s - loss: 8.1658 - mse: 8.120 - ETA: 0s - loss: 8.1833 - mse: 8.137 - ETA: 0s - loss: 8.1705 - mse: 8.124 - ETA: 0s - loss: 8.1687 - mse: 8.123 - ETA: 0s - loss: 8.1381 - mse: 8.092 - 12s 2us/step - loss: 8.1259 - mse: 8.0801\n",
      "Epoch 3/5\n"
     ]
    },
    {
     "name": "stdout",
     "output_type": "stream",
     "text": [
      "6186922/6186922 [==============================] - ETA: 3:47 - loss: 4.7422 - mse: 4.677 - ETA: 1:04 - loss: 4.6905 - mse: 4.625 - ETA: 41s - loss: 8.0840 - mse: 8.018 - ETA: 32s - loss: 9.1671 - mse: 9.10 - ETA: 27s - loss: 7.7036 - mse: 7.63 - ETA: 24s - loss: 7.0217 - mse: 6.95 - ETA: 22s - loss: 6.8878 - mse: 6.82 - ETA: 20s - loss: 6.2256 - mse: 6.16 - ETA: 19s - loss: 5.7596 - mse: 5.69 - ETA: 18s - loss: 5.5007 - mse: 5.43 - ETA: 17s - loss: 5.6327 - mse: 5.56 - ETA: 16s - loss: 5.3959 - mse: 5.33 - ETA: 16s - loss: 5.1243 - mse: 5.05 - ETA: 15s - loss: 5.5645 - mse: 5.49 - ETA: 15s - loss: 5.3076 - mse: 5.24 - ETA: 14s - loss: 5.4303 - mse: 5.36 - ETA: 14s - loss: 5.3847 - mse: 5.31 - ETA: 14s - loss: 5.3735 - mse: 5.30 - ETA: 13s - loss: 5.1979 - mse: 5.13 - ETA: 13s - loss: 5.0955 - mse: 5.02 - ETA: 13s - loss: 5.0084 - mse: 4.94 - ETA: 13s - loss: 4.8681 - mse: 4.80 - ETA: 13s - loss: 4.7984 - mse: 4.73 - ETA: 12s - loss: 4.7148 - mse: 4.64 - ETA: 12s - loss: 4.6019 - mse: 4.53 - ETA: 12s - loss: 4.5385 - mse: 4.47 - ETA: 12s - loss: 4.7553 - mse: 4.68 - ETA: 12s - loss: 4.9211 - mse: 4.85 - ETA: 12s - loss: 4.9308 - mse: 4.86 - ETA: 11s - loss: 4.8680 - mse: 4.80 - ETA: 11s - loss: 5.0981 - mse: 5.03 - ETA: 11s - loss: 5.0323 - mse: 4.96 - ETA: 11s - loss: 5.3676 - mse: 5.30 - ETA: 11s - loss: 5.2866 - mse: 5.21 - ETA: 11s - loss: 5.2478 - mse: 5.18 - ETA: 11s - loss: 5.2497 - mse: 5.18 - ETA: 11s - loss: 5.2024 - mse: 5.13 - ETA: 11s - loss: 5.1467 - mse: 5.07 - ETA: 10s - loss: 6.1805 - mse: 6.11 - ETA: 10s - loss: 6.2143 - mse: 6.14 - ETA: 10s - loss: 6.1256 - mse: 6.05 - ETA: 10s - loss: 6.0284 - mse: 5.96 - ETA: 10s - loss: 5.9772 - mse: 5.90 - ETA: 10s - loss: 5.8944 - mse: 5.82 - ETA: 10s - loss: 5.8508 - mse: 5.78 - ETA: 10s - loss: 6.3448 - mse: 6.27 - ETA: 10s - loss: 6.2981 - mse: 6.23 - ETA: 10s - loss: 6.2181 - mse: 6.15 - ETA: 9s - loss: 6.2142 - mse: 6.1462 - ETA: 9s - loss: 6.1587 - mse: 6.090 - ETA: 9s - loss: 7.0093 - mse: 6.941 - ETA: 9s - loss: 6.9377 - mse: 6.869 - ETA: 9s - loss: 6.9195 - mse: 6.851 - ETA: 9s - loss: 6.9214 - mse: 6.853 - ETA: 9s - loss: 6.8376 - mse: 6.769 - ETA: 9s - loss: 6.7701 - mse: 6.701 - ETA: 9s - loss: 6.6997 - mse: 6.631 - ETA: 9s - loss: 6.6223 - mse: 6.553 - ETA: 9s - loss: 7.4403 - mse: 7.371 - ETA: 9s - loss: 7.5451 - mse: 7.476 - ETA: 8s - loss: 7.5617 - mse: 7.492 - ETA: 8s - loss: 7.4955 - mse: 7.426 - ETA: 8s - loss: 7.4423 - mse: 7.373 - ETA: 8s - loss: 7.3721 - mse: 7.303 - ETA: 8s - loss: 7.3316 - mse: 7.262 - ETA: 8s - loss: 7.2612 - mse: 7.191 - ETA: 8s - loss: 7.1941 - mse: 7.124 - ETA: 8s - loss: 7.3810 - mse: 7.311 - ETA: 8s - loss: 7.3496 - mse: 7.280 - ETA: 8s - loss: 7.2870 - mse: 7.217 - ETA: 8s - loss: 7.3985 - mse: 7.328 - ETA: 8s - loss: 7.4094 - mse: 7.339 - ETA: 8s - loss: 7.3622 - mse: 7.292 - ETA: 8s - loss: 7.3090 - mse: 7.238 - ETA: 7s - loss: 7.3105 - mse: 7.240 - ETA: 7s - loss: 7.2527 - mse: 7.182 - ETA: 7s - loss: 7.2147 - mse: 7.144 - ETA: 7s - loss: 7.1658 - mse: 7.095 - ETA: 7s - loss: 7.1034 - mse: 7.032 - ETA: 7s - loss: 7.0901 - mse: 7.019 - ETA: 7s - loss: 7.0401 - mse: 6.969 - ETA: 7s - loss: 6.9986 - mse: 6.927 - ETA: 7s - loss: 6.9616 - mse: 6.890 - ETA: 7s - loss: 6.9532 - mse: 6.881 - ETA: 7s - loss: 6.8999 - mse: 6.828 - ETA: 7s - loss: 6.8498 - mse: 6.778 - ETA: 7s - loss: 6.7967 - mse: 6.724 - ETA: 7s - loss: 6.7442 - mse: 6.672 - ETA: 7s - loss: 6.6992 - mse: 6.627 - ETA: 6s - loss: 6.9718 - mse: 6.899 - ETA: 6s - loss: 6.9263 - mse: 6.854 - ETA: 6s - loss: 6.8774 - mse: 6.805 - ETA: 6s - loss: 7.8819 - mse: 7.809 - ETA: 6s - loss: 7.8389 - mse: 7.766 - ETA: 6s - loss: 7.7997 - mse: 7.727 - ETA: 6s - loss: 7.7618 - mse: 7.689 - ETA: 6s - loss: 7.7104 - mse: 7.637 - ETA: 6s - loss: 7.6761 - mse: 7.603 - ETA: 6s - loss: 7.6263 - mse: 7.553 - ETA: 6s - loss: 7.5749 - mse: 7.501 - ETA: 6s - loss: 7.5225 - mse: 7.449 - ETA: 6s - loss: 7.4980 - mse: 7.424 - ETA: 6s - loss: 7.5040 - mse: 7.430 - ETA: 6s - loss: 7.4627 - mse: 7.389 - ETA: 6s - loss: 7.5118 - mse: 7.438 - ETA: 5s - loss: 7.4670 - mse: 7.393 - ETA: 5s - loss: 7.5367 - mse: 7.463 - ETA: 5s - loss: 7.5173 - mse: 7.443 - ETA: 5s - loss: 7.4752 - mse: 7.401 - ETA: 5s - loss: 7.4424 - mse: 7.368 - ETA: 5s - loss: 7.4015 - mse: 7.327 - ETA: 5s - loss: 7.3619 - mse: 7.287 - ETA: 5s - loss: 7.3152 - mse: 7.241 - ETA: 5s - loss: 8.0725 - mse: 7.998 - ETA: 5s - loss: 8.0281 - mse: 7.953 - ETA: 5s - loss: 8.0029 - mse: 7.928 - ETA: 5s - loss: 7.9694 - mse: 7.894 - ETA: 5s - loss: 7.9260 - mse: 7.851 - ETA: 5s - loss: 7.9221 - mse: 7.847 - ETA: 5s - loss: 7.8911 - mse: 7.816 - ETA: 5s - loss: 7.8658 - mse: 7.791 - ETA: 4s - loss: 7.8399 - mse: 7.765 - ETA: 4s - loss: 7.8002 - mse: 7.725 - ETA: 4s - loss: 7.7551 - mse: 7.680 - ETA: 4s - loss: 7.7224 - mse: 7.647 - ETA: 4s - loss: 7.6744 - mse: 7.599 - ETA: 4s - loss: 7.6411 - mse: 7.565 - ETA: 4s - loss: 7.6243 - mse: 7.549 - ETA: 4s - loss: 7.5949 - mse: 7.519 - ETA: 4s - loss: 7.5571 - mse: 7.481 - ETA: 4s - loss: 7.5057 - mse: 7.430 - ETA: 4s - loss: 7.5772 - mse: 7.501 - ETA: 4s - loss: 7.5930 - mse: 7.517 - ETA: 4s - loss: 7.5744 - mse: 7.498 - ETA: 4s - loss: 7.5504 - mse: 7.474 - ETA: 4s - loss: 7.5248 - mse: 7.449 - ETA: 4s - loss: 7.5353 - mse: 7.459 - ETA: 4s - loss: 7.6664 - mse: 7.590 - ETA: 3s - loss: 7.6475 - mse: 7.571 - ETA: 3s - loss: 7.7071 - mse: 7.631 - ETA: 3s - loss: 7.7001 - mse: 7.624 - ETA: 3s - loss: 7.6673 - mse: 7.591 - ETA: 3s - loss: 7.7418 - mse: 7.665 - ETA: 3s - loss: 7.7079 - mse: 7.631 - ETA: 3s - loss: 7.8691 - mse: 7.792 - ETA: 3s - loss: 7.8368 - mse: 7.760 - ETA: 3s - loss: 7.7980 - mse: 7.721 - ETA: 3s - loss: 7.9096 - mse: 7.833 - ETA: 3s - loss: 7.8794 - mse: 7.802 - ETA: 3s - loss: 7.9500 - mse: 7.873 - ETA: 3s - loss: 7.9108 - mse: 7.834 - ETA: 3s - loss: 7.8729 - mse: 7.796 - ETA: 3s - loss: 7.8374 - mse: 7.760 - ETA: 3s - loss: 7.8641 - mse: 7.787 - ETA: 3s - loss: 7.9289 - mse: 7.852 - ETA: 2s - loss: 7.8937 - mse: 7.816 - ETA: 2s - loss: 7.8571 - mse: 7.780 - ETA: 2s - loss: 7.8214 - mse: 7.744 - ETA: 2s - loss: 7.8113 - mse: 7.734 - ETA: 2s - loss: 7.7943 - mse: 7.717 - ETA: 2s - loss: 7.7664 - mse: 7.689 - ETA: 2s - loss: 7.7407 - mse: 7.663 - ETA: 2s - loss: 7.7289 - mse: 7.651 - ETA: 2s - loss: 7.7050 - mse: 7.627 - ETA: 2s - loss: 7.6730 - mse: 7.595 - ETA: 2s - loss: 7.6498 - mse: 7.572 - ETA: 2s - loss: 7.6437 - mse: 7.566 - ETA: 2s - loss: 7.6138 - mse: 7.536 - ETA: 2s - loss: 7.5863 - mse: 7.508 - ETA: 2s - loss: 7.5582 - mse: 7.480 - ETA: 2s - loss: 7.5468 - mse: 7.469 - ETA: 2s - loss: 7.5207 - mse: 7.443 - ETA: 1s - loss: 7.7353 - mse: 7.657 - ETA: 1s - loss: 7.7084 - mse: 7.630 - ETA: 1s - loss: 7.6864 - mse: 7.608 - ETA: 1s - loss: 7.6598 - mse: 7.582 - ETA: 1s - loss: 7.6406 - mse: 7.562 - ETA: 1s - loss: 7.6137 - mse: 7.535 - ETA: 1s - loss: 7.5967 - mse: 7.518 - ETA: 1s - loss: 7.5688 - mse: 7.490 - ETA: 1s - loss: 7.5691 - mse: 7.491 - ETA: 1s - loss: 7.5439 - mse: 7.465 - ETA: 1s - loss: 7.5286 - mse: 7.450 - ETA: 1s - loss: 7.6070 - mse: 7.529 - ETA: 1s - loss: 7.5925 - mse: 7.514 - ETA: 1s - loss: 7.5851 - mse: 7.507 - ETA: 1s - loss: 7.5745 - mse: 7.496 - ETA: 1s - loss: 7.5503 - mse: 7.472 - ETA: 1s - loss: 7.5231 - mse: 7.444 - ETA: 0s - loss: 7.5020 - mse: 7.423 - ETA: 0s - loss: 7.4835 - mse: 7.405 - ETA: 0s - loss: 7.4566 - mse: 7.378 - ETA: 0s - loss: 7.4403 - mse: 7.362 - ETA: 0s - loss: 7.4241 - mse: 7.345 - ETA: 0s - loss: 7.4109 - mse: 7.332 - ETA: 0s - loss: 7.3808 - mse: 7.302 - ETA: 0s - loss: 7.3772 - mse: 7.298 - ETA: 0s - loss: 7.3622 - mse: 7.283 - ETA: 0s - loss: 7.3851 - mse: 7.306 - ETA: 0s - loss: 7.3770 - mse: 7.298 - ETA: 0s - loss: 7.4260 - mse: 7.347 - ETA: 0s - loss: 7.5542 - mse: 7.475 - ETA: 0s - loss: 7.5327 - mse: 7.454 - ETA: 0s - loss: 7.5188 - mse: 7.440 - ETA: 0s - loss: 7.5005 - mse: 7.421 - ETA: 0s - loss: 7.5022 - mse: 7.423 - 12s 2us/step - loss: 7.4952 - mse: 7.4165\n",
      "Epoch 4/5\n",
      "6186922/6186922 [==============================] - ETA: 3:48 - loss: 4.9849 - mse: 4.898 - ETA: 1:06 - loss: 5.0925 - mse: 5.006 - ETA: 43s - loss: 3.8808 - mse: 3.794 - ETA: 33s - loss: 3.7977 - mse: 3.71 - ETA: 28s - loss: 3.4761 - mse: 3.38 - ETA: 24s - loss: 3.4971 - mse: 3.41 - ETA: 22s - loss: 4.0206 - mse: 3.93 - ETA: 20s - loss: 3.8506 - mse: 3.76 - ETA: 19s - loss: 3.6238 - mse: 3.53 - ETA: 18s - loss: 3.5094 - mse: 3.42 - ETA: 18s - loss: 3.4792 - mse: 3.39 - ETA: 17s - loss: 3.3111 - mse: 3.22 - ETA: 16s - loss: 3.2981 - mse: 3.21 - ETA: 16s - loss: 3.6587 - mse: 3.57 - ETA: 15s - loss: 4.3190 - mse: 4.23 - ETA: 15s - loss: 4.2247 - mse: 4.13 - ETA: 14s - loss: 4.1138 - mse: 4.02 - ETA: 14s - loss: 4.5730 - mse: 4.48 - ETA: 14s - loss: 4.7265 - mse: 4.64 - ETA: 14s - loss: 4.6877 - mse: 4.60 - ETA: 13s - loss: 4.6081 - mse: 4.52 - ETA: 13s - loss: 4.5485 - mse: 4.46 - ETA: 13s - loss: 4.4776 - mse: 4.39 - ETA: 13s - loss: 4.3659 - mse: 4.27 - ETA: 13s - loss: 4.3454 - mse: 4.25 - ETA: 13s - loss: 4.6984 - mse: 4.61 - ETA: 12s - loss: 5.0714 - mse: 4.98 - ETA: 12s - loss: 5.0556 - mse: 4.96 - ETA: 12s - loss: 4.9702 - mse: 4.88 - ETA: 12s - loss: 6.5575 - mse: 6.47 - ETA: 12s - loss: 6.4056 - mse: 6.31 - ETA: 12s - loss: 6.2916 - mse: 6.20 - ETA: 12s - loss: 6.1737 - mse: 6.08 - ETA: 11s - loss: 6.1593 - mse: 6.07 - ETA: 11s - loss: 6.0551 - mse: 5.96 - ETA: 11s - loss: 6.0279 - mse: 5.94 - ETA: 11s - loss: 6.6984 - mse: 6.61 - ETA: 11s - loss: 6.6018 - mse: 6.51 - ETA: 11s - loss: 6.6558 - mse: 6.56 - ETA: 11s - loss: 6.6464 - mse: 6.55 - ETA: 11s - loss: 6.7048 - mse: 6.61 - ETA: 11s - loss: 6.6652 - mse: 6.57 - ETA: 10s - loss: 6.5785 - mse: 6.49 - ETA: 10s - loss: 6.4940 - mse: 6.40 - ETA: 10s - loss: 6.6161 - mse: 6.52 - ETA: 10s - loss: 6.5244 - mse: 6.43 - ETA: 10s - loss: 6.5228 - mse: 6.43 - ETA: 10s - loss: 6.5482 - mse: 6.46 - ETA: 10s - loss: 6.4485 - mse: 6.36 - ETA: 10s - loss: 6.4006 - mse: 6.31 - ETA: 10s - loss: 6.7709 - mse: 6.68 - ETA: 10s - loss: 6.8069 - mse: 6.71 - ETA: 10s - loss: 6.7186 - mse: 6.63 - ETA: 9s - loss: 7.3620 - mse: 7.2737 - ETA: 9s - loss: 7.2970 - mse: 7.208 - ETA: 9s - loss: 7.4290 - mse: 7.340 - ETA: 9s - loss: 7.4022 - mse: 7.313 - ETA: 9s - loss: 7.3471 - mse: 7.258 - ETA: 9s - loss: 7.5586 - mse: 7.470 - ETA: 9s - loss: 7.4786 - mse: 7.389 - ETA: 9s - loss: 7.4705 - mse: 7.381 - ETA: 9s - loss: 7.3947 - mse: 7.305 - ETA: 9s - loss: 7.3332 - mse: 7.244 - ETA: 9s - loss: 7.2722 - mse: 7.183 - ETA: 9s - loss: 7.2052 - mse: 7.116 - ETA: 8s - loss: 7.1518 - mse: 7.062 - ETA: 8s - loss: 7.1561 - mse: 7.066 - ETA: 8s - loss: 7.0858 - mse: 6.996 - ETA: 8s - loss: 7.0312 - mse: 6.941 - ETA: 8s - loss: 7.0953 - mse: 7.005 - ETA: 8s - loss: 7.0541 - mse: 6.964 - ETA: 8s - loss: 7.0881 - mse: 6.998 - ETA: 8s - loss: 7.0211 - mse: 6.931 - ETA: 8s - loss: 7.0530 - mse: 6.963 - ETA: 8s - loss: 7.0269 - mse: 6.937 - ETA: 8s - loss: 6.9645 - mse: 6.874 - ETA: 8s - loss: 6.9418 - mse: 6.851 - ETA: 7s - loss: 7.2361 - mse: 7.146 - ETA: 7s - loss: 7.3385 - mse: 7.248 - ETA: 7s - loss: 7.2775 - mse: 7.187 - ETA: 7s - loss: 7.2185 - mse: 7.128 - ETA: 7s - loss: 7.1734 - mse: 7.083 - ETA: 7s - loss: 8.2296 - mse: 8.139 - ETA: 7s - loss: 8.1620 - mse: 8.071 - ETA: 7s - loss: 8.0966 - mse: 8.006 - ETA: 7s - loss: 8.0255 - mse: 7.934 - ETA: 7s - loss: 7.9711 - mse: 7.880 - ETA: 7s - loss: 7.9127 - mse: 7.822 - ETA: 7s - loss: 7.8582 - mse: 7.767 - ETA: 7s - loss: 7.8052 - mse: 7.714 - ETA: 7s - loss: 7.7388 - mse: 7.647 - ETA: 7s - loss: 7.6752 - mse: 7.584 - ETA: 6s - loss: 7.6714 - mse: 7.580 - ETA: 6s - loss: 7.6115 - mse: 7.520 - ETA: 6s - loss: 7.5731 - mse: 7.481 - ETA: 6s - loss: 7.5248 - mse: 7.433 - ETA: 6s - loss: 7.4778 - mse: 7.386 - ETA: 6s - loss: 7.4325 - mse: 7.341 - ETA: 6s - loss: 7.3847 - mse: 7.293 - ETA: 6s - loss: 7.3734 - mse: 7.281 - ETA: 6s - loss: 7.3277 - mse: 7.236 - ETA: 6s - loss: 7.3248 - mse: 7.233 - ETA: 6s - loss: 7.3752 - mse: 7.283 - ETA: 6s - loss: 7.5345 - mse: 7.442 - ETA: 6s - loss: 7.4851 - mse: 7.393 - ETA: 6s - loss: 7.5037 - mse: 7.411 - ETA: 6s - loss: 7.5020 - mse: 7.410 - ETA: 6s - loss: 7.5451 - mse: 7.453 - ETA: 5s - loss: 7.4896 - mse: 7.397 - ETA: 5s - loss: 7.6953 - mse: 7.603 - ETA: 5s - loss: 7.6653 - mse: 7.573 - ETA: 5s - loss: 7.6201 - mse: 7.528 - ETA: 5s - loss: 7.6255 - mse: 7.533 - ETA: 5s - loss: 7.5955 - mse: 7.503 - ETA: 5s - loss: 7.5859 - mse: 7.493 - ETA: 5s - loss: 7.5478 - mse: 7.455 - ETA: 5s - loss: 7.5307 - mse: 7.438 - ETA: 5s - loss: 7.4917 - mse: 7.399 - ETA: 5s - loss: 7.4647 - mse: 7.372 - ETA: 5s - loss: 7.4200 - mse: 7.327 - ETA: 5s - loss: 7.3735 - mse: 7.281 - ETA: 5s - loss: 7.3278 - mse: 7.235 - ETA: 5s - loss: 7.3018 - mse: 7.209 - ETA: 4s - loss: 7.2986 - mse: 7.206 - ETA: 4s - loss: 7.2564 - mse: 7.163 - ETA: 4s - loss: 7.2372 - mse: 7.144 - ETA: 4s - loss: 7.2129 - mse: 7.120 - ETA: 4s - loss: 7.1831 - mse: 7.090 - ETA: 4s - loss: 7.1843 - mse: 7.091 - ETA: 4s - loss: 7.1581 - mse: 7.065 - ETA: 4s - loss: 7.1310 - mse: 7.038 - ETA: 4s - loss: 7.0926 - mse: 6.999 - ETA: 4s - loss: 7.0612 - mse: 6.968 - ETA: 4s - loss: 7.0261 - mse: 6.933 - ETA: 4s - loss: 6.9876 - mse: 6.894 - ETA: 4s - loss: 6.9654 - mse: 6.872 - ETA: 4s - loss: 7.0297 - mse: 6.936 - ETA: 4s - loss: 7.0075 - mse: 6.914 - ETA: 4s - loss: 7.0370 - mse: 6.944 - ETA: 4s - loss: 7.1172 - mse: 7.024 - ETA: 3s - loss: 7.1010 - mse: 7.007 - ETA: 3s - loss: 7.0684 - mse: 6.975 - ETA: 3s - loss: 7.0658 - mse: 6.972 - ETA: 3s - loss: 7.0646 - mse: 6.971 - ETA: 3s - loss: 7.0855 - mse: 6.992 - ETA: 3s - loss: 7.0560 - mse: 6.962 - ETA: 3s - loss: 7.0273 - mse: 6.934 - ETA: 3s - loss: 7.0075 - mse: 6.914 - ETA: 3s - loss: 6.9761 - mse: 6.882 - ETA: 3s - loss: 6.9476 - mse: 6.854 - ETA: 3s - loss: 6.9153 - mse: 6.822 - ETA: 3s - loss: 6.9568 - mse: 6.863 - ETA: 3s - loss: 6.9431 - mse: 6.849 - ETA: 3s - loss: 6.9132 - mse: 6.819 - ETA: 3s - loss: 6.8892 - mse: 6.795 - ETA: 3s - loss: 6.8926 - mse: 6.799 - ETA: 2s - loss: 6.8745 - mse: 6.781 - ETA: 2s - loss: 6.8465 - mse: 6.752 - ETA: 2s - loss: 7.1009 - mse: 7.007 - ETA: 2s - loss: 7.1104 - mse: 7.016 - ETA: 2s - loss: 7.0834 - mse: 6.989 - ETA: 2s - loss: 7.1177 - mse: 7.024 - ETA: 2s - loss: 7.0849 - mse: 6.991 - ETA: 2s - loss: 7.0536 - mse: 6.960 - ETA: 2s - loss: 7.0383 - mse: 6.944 - ETA: 2s - loss: 7.0258 - mse: 6.932 - ETA: 2s - loss: 7.0128 - mse: 6.919 - ETA: 2s - loss: 6.9953 - mse: 6.901 - ETA: 2s - loss: 7.2849 - mse: 7.191 - ETA: 2s - loss: 7.2633 - mse: 7.169 - ETA: 2s - loss: 7.7689 - mse: 7.675 - ETA: 2s - loss: 7.7382 - mse: 7.644 - ETA: 2s - loss: 7.7746 - mse: 7.680 - ETA: 1s - loss: 7.7645 - mse: 7.670 - ETA: 1s - loss: 7.7285 - mse: 7.634 - ETA: 1s - loss: 7.7034 - mse: 7.609 - ETA: 1s - loss: 7.6718 - mse: 7.578 - ETA: 1s - loss: 7.6412 - mse: 7.547 - ETA: 1s - loss: 7.6155 - mse: 7.521 - ETA: 1s - loss: 7.5901 - mse: 7.496 - ETA: 1s - loss: 7.5743 - mse: 7.480 - ETA: 1s - loss: 7.6418 - mse: 7.547 - ETA: 1s - loss: 7.6106 - mse: 7.516 - ETA: 1s - loss: 7.5773 - mse: 7.483 - ETA: 1s - loss: 7.5489 - mse: 7.454 - ETA: 1s - loss: 7.5344 - mse: 7.440 - ETA: 1s - loss: 7.5087 - mse: 7.414 - ETA: 1s - loss: 7.4877 - mse: 7.393 - ETA: 1s - loss: 7.4668 - mse: 7.372 - ETA: 1s - loss: 7.4631 - mse: 7.369 - ETA: 0s - loss: 7.4356 - mse: 7.341 - ETA: 0s - loss: 7.4369 - mse: 7.342 - ETA: 0s - loss: 7.4459 - mse: 7.351 - ETA: 0s - loss: 7.4427 - mse: 7.348 - ETA: 0s - loss: 7.4301 - mse: 7.335 - ETA: 0s - loss: 7.4060 - mse: 7.311 - ETA: 0s - loss: 7.3859 - mse: 7.291 - ETA: 0s - loss: 7.3682 - mse: 7.274 - ETA: 0s - loss: 7.3545 - mse: 7.260 - ETA: 0s - loss: 7.3688 - mse: 7.274 - ETA: 0s - loss: 7.3524 - mse: 7.258 - ETA: 0s - loss: 7.3298 - mse: 7.235 - ETA: 0s - loss: 7.3123 - mse: 7.218 - ETA: 0s - loss: 7.3023 - mse: 7.207 - ETA: 0s - loss: 7.2833 - mse: 7.188 - ETA: 0s - loss: 7.2603 - mse: 7.165 - 12s 2us/step - loss: 7.2499 - mse: 7.1554\n",
      "Epoch 5/5\n"
     ]
    },
    {
     "name": "stdout",
     "output_type": "stream",
     "text": [
      "6186922/6186922 [==============================] - ETA: 3:57 - loss: 6.7853 - mse: 6.684 - ETA: 1:08 - loss: 4.9548 - mse: 4.854 - ETA: 43s - loss: 4.4740 - mse: 4.373 - ETA: 33s - loss: 4.7273 - mse: 4.62 - ETA: 28s - loss: 4.1965 - mse: 4.09 - ETA: 25s - loss: 4.4813 - mse: 4.38 - ETA: 23s - loss: 12.7980 - mse: 12.69 - ETA: 21s - loss: 12.0399 - mse: 11.93 - ETA: 20s - loss: 10.9353 - mse: 10.83 - ETA: 18s - loss: 10.0318 - mse: 9.9307 - ETA: 18s - loss: 9.6242 - mse: 9.522 - ETA: 17s - loss: 9.0578 - mse: 8.95 - ETA: 16s - loss: 8.5662 - mse: 8.46 - ETA: 16s - loss: 8.1552 - mse: 8.05 - ETA: 15s - loss: 7.6966 - mse: 7.59 - ETA: 15s - loss: 13.2567 - mse: 13.15 - ETA: 15s - loss: 12.6168 - mse: 12.51 - ETA: 14s - loss: 12.1088 - mse: 12.00 - ETA: 14s - loss: 11.5832 - mse: 11.48 - ETA: 14s - loss: 11.1937 - mse: 11.09 - ETA: 13s - loss: 11.0956 - mse: 10.99 - ETA: 13s - loss: 10.7077 - mse: 10.60 - ETA: 13s - loss: 10.9365 - mse: 10.83 - ETA: 13s - loss: 10.5633 - mse: 10.46 - ETA: 13s - loss: 11.1465 - mse: 11.04 - ETA: 13s - loss: 10.8224 - mse: 10.72 - ETA: 12s - loss: 10.5013 - mse: 10.39 - ETA: 12s - loss: 10.2110 - mse: 10.10 - ETA: 12s - loss: 10.3315 - mse: 10.22 - ETA: 12s - loss: 11.4755 - mse: 11.37 - ETA: 12s - loss: 11.3759 - mse: 11.27 - ETA: 12s - loss: 11.8495 - mse: 11.74 - ETA: 11s - loss: 11.7219 - mse: 11.61 - ETA: 11s - loss: 11.4529 - mse: 11.35 - ETA: 11s - loss: 11.2379 - mse: 11.13 - ETA: 11s - loss: 11.0381 - mse: 10.93 - ETA: 11s - loss: 10.8455 - mse: 10.74 - ETA: 11s - loss: 10.6064 - mse: 10.50 - ETA: 11s - loss: 10.3919 - mse: 10.28 - ETA: 11s - loss: 10.2276 - mse: 10.12 - ETA: 10s - loss: 11.1234 - mse: 11.02 - ETA: 10s - loss: 10.9448 - mse: 10.84 - ETA: 10s - loss: 10.7476 - mse: 10.64 - ETA: 10s - loss: 10.6457 - mse: 10.54 - ETA: 10s - loss: 10.4496 - mse: 10.34 - ETA: 10s - loss: 10.2787 - mse: 10.17 - ETA: 10s - loss: 10.3292 - mse: 10.22 - ETA: 10s - loss: 10.1735 - mse: 10.06 - ETA: 10s - loss: 10.0752 - mse: 9.9715 - ETA: 10s - loss: 9.9308 - mse: 9.827 - ETA: 9s - loss: 9.7990 - mse: 9.6952 - ETA: 9s - loss: 10.0591 - mse: 9.95 - ETA: 9s - loss: 9.9131 - mse: 9.8092 - ETA: 9s - loss: 9.7630 - mse: 9.659 - ETA: 9s - loss: 9.6406 - mse: 9.536 - ETA: 9s - loss: 9.5230 - mse: 9.419 - ETA: 9s - loss: 9.4101 - mse: 9.306 - ETA: 9s - loss: 9.6075 - mse: 9.503 - ETA: 9s - loss: 9.4828 - mse: 9.378 - ETA: 9s - loss: 9.5613 - mse: 9.457 - ETA: 9s - loss: 9.4365 - mse: 9.332 - ETA: 9s - loss: 9.3363 - mse: 9.232 - ETA: 8s - loss: 9.2498 - mse: 9.145 - ETA: 8s - loss: 9.2921 - mse: 9.187 - ETA: 8s - loss: 9.2308 - mse: 9.126 - ETA: 8s - loss: 9.1307 - mse: 9.026 - ETA: 8s - loss: 9.0320 - mse: 8.927 - ETA: 8s - loss: 8.9506 - mse: 8.846 - ETA: 8s - loss: 8.8799 - mse: 8.775 - ETA: 8s - loss: 8.7930 - mse: 8.688 - ETA: 8s - loss: 8.7029 - mse: 8.598 - ETA: 8s - loss: 8.6510 - mse: 8.546 - ETA: 8s - loss: 8.5542 - mse: 8.449 - ETA: 8s - loss: 8.5029 - mse: 8.398 - ETA: 8s - loss: 8.4881 - mse: 8.383 - ETA: 8s - loss: 8.4041 - mse: 8.299 - ETA: 7s - loss: 8.3369 - mse: 8.232 - ETA: 7s - loss: 8.2877 - mse: 8.182 - ETA: 7s - loss: 8.4107 - mse: 8.305 - ETA: 7s - loss: 8.3445 - mse: 8.239 - ETA: 7s - loss: 8.2485 - mse: 8.143 - ETA: 7s - loss: 8.1772 - mse: 8.072 - ETA: 7s - loss: 8.0990 - mse: 7.994 - ETA: 7s - loss: 8.0333 - mse: 7.928 - ETA: 7s - loss: 7.9787 - mse: 7.873 - ETA: 7s - loss: 7.9313 - mse: 7.826 - ETA: 7s - loss: 7.9341 - mse: 7.829 - ETA: 7s - loss: 7.8841 - mse: 7.778 - ETA: 7s - loss: 7.8281 - mse: 7.722 - ETA: 7s - loss: 7.7875 - mse: 7.682 - ETA: 6s - loss: 7.7272 - mse: 7.621 - ETA: 6s - loss: 7.7896 - mse: 7.684 - ETA: 6s - loss: 7.7328 - mse: 7.627 - ETA: 6s - loss: 7.6787 - mse: 7.573 - ETA: 6s - loss: 7.6294 - mse: 7.524 - ETA: 6s - loss: 7.5987 - mse: 7.493 - ETA: 6s - loss: 7.6050 - mse: 7.499 - ETA: 6s - loss: 7.5551 - mse: 7.449 - ETA: 6s - loss: 7.5145 - mse: 7.409 - ETA: 6s - loss: 7.4697 - mse: 7.364 - ETA: 6s - loss: 7.4213 - mse: 7.315 - ETA: 6s - loss: 7.3644 - mse: 7.258 - ETA: 6s - loss: 7.3196 - mse: 7.214 - ETA: 6s - loss: 7.2790 - mse: 7.173 - ETA: 6s - loss: 7.2441 - mse: 7.138 - ETA: 6s - loss: 7.3027 - mse: 7.197 - ETA: 5s - loss: 7.3280 - mse: 7.222 - ETA: 5s - loss: 7.2882 - mse: 7.182 - ETA: 5s - loss: 7.2438 - mse: 7.138 - ETA: 5s - loss: 7.2019 - mse: 7.096 - ETA: 5s - loss: 7.2333 - mse: 7.127 - ETA: 5s - loss: 7.2052 - mse: 7.099 - ETA: 5s - loss: 7.1621 - mse: 7.056 - ETA: 5s - loss: 7.1198 - mse: 7.014 - ETA: 5s - loss: 7.0811 - mse: 6.975 - ETA: 5s - loss: 7.0514 - mse: 6.945 - ETA: 5s - loss: 7.0892 - mse: 6.983 - ETA: 5s - loss: 7.0575 - mse: 6.951 - ETA: 5s - loss: 7.0176 - mse: 6.912 - ETA: 5s - loss: 6.9862 - mse: 6.880 - ETA: 5s - loss: 7.0017 - mse: 6.896 - ETA: 5s - loss: 6.9766 - mse: 6.871 - ETA: 4s - loss: 6.9444 - mse: 6.838 - ETA: 4s - loss: 6.9916 - mse: 6.886 - ETA: 4s - loss: 6.9536 - mse: 6.847 - ETA: 4s - loss: 6.9197 - mse: 6.814 - ETA: 4s - loss: 6.8769 - mse: 6.771 - ETA: 4s - loss: 6.8403 - mse: 6.734 - ETA: 4s - loss: 6.8300 - mse: 6.724 - ETA: 4s - loss: 6.8045 - mse: 6.698 - ETA: 4s - loss: 6.7828 - mse: 6.677 - ETA: 4s - loss: 6.7614 - mse: 6.655 - ETA: 4s - loss: 6.7405 - mse: 6.634 - ETA: 4s - loss: 6.7536 - mse: 6.647 - ETA: 4s - loss: 6.8094 - mse: 6.703 - ETA: 4s - loss: 6.7912 - mse: 6.685 - ETA: 4s - loss: 6.9685 - mse: 6.862 - ETA: 4s - loss: 6.9420 - mse: 6.836 - ETA: 3s - loss: 6.9114 - mse: 6.805 - ETA: 3s - loss: 6.8795 - mse: 6.773 - ETA: 3s - loss: 6.8460 - mse: 6.740 - ETA: 3s - loss: 6.8514 - mse: 6.745 - ETA: 3s - loss: 6.8583 - mse: 6.752 - ETA: 3s - loss: 6.8267 - mse: 6.720 - ETA: 3s - loss: 6.8217 - mse: 6.715 - ETA: 3s - loss: 6.8114 - mse: 6.705 - ETA: 3s - loss: 6.7803 - mse: 6.674 - ETA: 3s - loss: 7.3990 - mse: 7.293 - ETA: 3s - loss: 7.3689 - mse: 7.263 - ETA: 3s - loss: 7.3477 - mse: 7.241 - ETA: 3s - loss: 7.3209 - mse: 7.215 - ETA: 3s - loss: 7.3034 - mse: 7.197 - ETA: 3s - loss: 7.2719 - mse: 7.166 - ETA: 3s - loss: 7.2832 - mse: 7.177 - ETA: 3s - loss: 7.2877 - mse: 7.181 - ETA: 2s - loss: 7.2574 - mse: 7.151 - ETA: 2s - loss: 7.2345 - mse: 7.128 - ETA: 2s - loss: 7.2690 - mse: 7.163 - ETA: 2s - loss: 7.2540 - mse: 7.148 - ETA: 2s - loss: 7.2234 - mse: 7.117 - ETA: 2s - loss: 7.1989 - mse: 7.093 - ETA: 2s - loss: 7.1751 - mse: 7.069 - ETA: 2s - loss: 7.1459 - mse: 7.040 - ETA: 2s - loss: 7.3628 - mse: 7.257 - ETA: 2s - loss: 7.3325 - mse: 7.226 - ETA: 2s - loss: 7.3125 - mse: 7.206 - ETA: 2s - loss: 7.2811 - mse: 7.175 - ETA: 2s - loss: 7.2521 - mse: 7.146 - ETA: 2s - loss: 7.2252 - mse: 7.119 - ETA: 2s - loss: 7.2110 - mse: 7.105 - ETA: 2s - loss: 7.1777 - mse: 7.071 - ETA: 2s - loss: 7.1649 - mse: 7.059 - ETA: 1s - loss: 7.2027 - mse: 7.097 - ETA: 1s - loss: 7.1773 - mse: 7.071 - ETA: 1s - loss: 7.1507 - mse: 7.045 - ETA: 1s - loss: 7.1339 - mse: 7.028 - ETA: 1s - loss: 7.1077 - mse: 7.002 - ETA: 1s - loss: 7.1330 - mse: 7.027 - ETA: 1s - loss: 7.1121 - mse: 7.006 - ETA: 1s - loss: 7.0886 - mse: 6.982 - ETA: 1s - loss: 7.1512 - mse: 7.045 - ETA: 1s - loss: 7.1255 - mse: 7.019 - ETA: 1s - loss: 7.1286 - mse: 7.022 - ETA: 1s - loss: 7.1083 - mse: 7.002 - ETA: 1s - loss: 7.0918 - mse: 6.986 - ETA: 1s - loss: 7.1365 - mse: 7.030 - ETA: 1s - loss: 7.1199 - mse: 7.014 - ETA: 1s - loss: 7.1288 - mse: 7.023 - ETA: 0s - loss: 7.1345 - mse: 7.028 - ETA: 0s - loss: 7.1108 - mse: 7.005 - ETA: 0s - loss: 7.0845 - mse: 6.978 - ETA: 0s - loss: 7.0624 - mse: 6.956 - ETA: 0s - loss: 7.0590 - mse: 6.953 - ETA: 0s - loss: 7.0480 - mse: 6.942 - ETA: 0s - loss: 7.0199 - mse: 6.914 - ETA: 0s - loss: 6.9851 - mse: 6.879 - ETA: 0s - loss: 7.1448 - mse: 7.039 - ETA: 0s - loss: 7.1223 - mse: 7.016 - ETA: 0s - loss: 7.2254 - mse: 7.119 - ETA: 0s - loss: 7.2328 - mse: 7.127 - ETA: 0s - loss: 7.2174 - mse: 7.111 - ETA: 0s - loss: 7.1983 - mse: 7.092 - ETA: 0s - loss: 7.1857 - mse: 7.080 - ETA: 0s - loss: 7.1734 - mse: 7.067 - ETA: 0s - loss: 7.1543 - mse: 7.048 - 12s 2us/step - loss: 7.1401 - mse: 7.0343\n"
     ]
    }
   ],
   "source": [
    "X_train_level2 = np.zeros([Y_train_level2.shape[0], 2])\n",
    "\n",
    "# Now fill `X_train_level2` with metafeatures\n",
    "for cur_block_num in [27, 28, 29, 30, 31, 32, 33]:\n",
    "    print(cur_block_num)\n",
    "    '''\n",
    "        1. Split `X_train` into parts\n",
    "           Remember, that corresponding dates are stored in `dates_train` \n",
    "        2. Fit linear regression \n",
    "        3. Fit LightGBM and put predictions          \n",
    "        4. Store predictions from 2. and 3. in the right place of `X_train_level2`. \n",
    "           You can use `dates_train_level2` for it\n",
    "           Make sure the order of the meta-features is the same as in `X_test_level2`\n",
    "    '''      \n",
    "    X_train_cur = all_data.loc[dates <  cur_block_num].drop(to_drop_cols, axis=1)\n",
    "    X_test_cur =  all_data.loc[dates == cur_block_num].drop(to_drop_cols, axis=1)\n",
    "\n",
    "    y_train_cur = all_data.loc[dates <  cur_block_num, 'target'].values\n",
    "    y_test_cur =  all_data.loc[dates == cur_block_num, 'target'].values\n",
    "    \n",
    "    input_shape = [X_train_cur.shape[1]]\n",
    "    model = Sales_prediction_model(input_shape)\n",
    "    model.compile(optimizer = Adam(lr=0.0005) , loss = [\"mse\"], metrics=['mse'])\n",
    "    model.fit(X_train_cur, y_train_cur, batch_size = 10000, epochs=5)\n",
    "    pred_nn = model.predict(X_test_cur)\n",
    "    X_train_level2[dates_train_level2 == cur_block_num, 0] = pred_nn.clip(*target_range)[:,0]\n",
    "    \n",
    "    model = lgb.train(lgb_params, lgb.Dataset(X_train_cur, label=y_train_cur), 100)\n",
    "    pred_lgb = model.predict(X_test_cur)\n",
    "    X_train_level2[dates_train_level2 == cur_block_num, 1] = pred_lgb.clip(*target_range)"
   ]
  },
  {
   "cell_type": "markdown",
   "metadata": {},
   "source": [
    "# Ensembling : Simple Averaging"
   ]
  },
  {
   "cell_type": "code",
   "execution_count": 54,
   "metadata": {},
   "outputs": [
    {
     "name": "stdout",
     "output_type": "stream",
     "text": [
      "Best alpha: 0.067000; Corresponding r2 score on train: 0.097417\n"
     ]
    }
   ],
   "source": [
    "alphas_to_try = np.linspace(0, 1, 1001)\n",
    "\n",
    "r2_scores = []\n",
    "for alpha in alphas_to_try:\n",
    "    mix = alpha*X_train_level2[:,0] + (1-alpha)*X_train_level2[:,1]\n",
    "    r2_scores.append(r2_score(Y_train_level2, mix))\n",
    "\n",
    "r2_scores = np.array(r2_scores)\n",
    "\n",
    "# YOUR CODE GOES HERE\n",
    "best_alpha = alphas_to_try[r2_scores.argmax()]\n",
    "r2_train_simple_mix = r2_scores.max()\n",
    "\n",
    "print('Best alpha: %f; Corresponding r2 score on train: %f' % (best_alpha, r2_train_simple_mix))"
   ]
  },
  {
   "cell_type": "code",
   "execution_count": 55,
   "metadata": {},
   "outputs": [],
   "source": [
    "pred_simple_averaging = best_alpha*X_test_level2[:,0] + (1-best_alpha)*X_test_level2[:,1]\n",
    "submission = pd.DataFrame({'ID': sample_submission.ID, 'item_cnt_month': pred_simple_averaging})\n",
    "submission.to_csv('submission_simple_averaging.csv', index=False)"
   ]
  },
  {
   "cell_type": "code",
   "execution_count": 59,
   "metadata": {},
   "outputs": [],
   "source": []
  },
  {
   "cell_type": "code",
   "execution_count": null,
   "metadata": {},
   "outputs": [],
   "source": []
  }
 ],
 "metadata": {
  "kernelspec": {
   "display_name": "Python 3",
   "language": "python",
   "name": "python3"
  },
  "language_info": {
   "codemirror_mode": {
    "name": "ipython",
    "version": 3
   },
   "file_extension": ".py",
   "mimetype": "text/x-python",
   "name": "python",
   "nbconvert_exporter": "python",
   "pygments_lexer": "ipython3",
   "version": "3.7.0"
  }
 },
 "nbformat": 4,
 "nbformat_minor": 2
}
