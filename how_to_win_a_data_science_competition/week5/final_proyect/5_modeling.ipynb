{
 "cells": [
  {
   "cell_type": "code",
   "execution_count": 1,
   "metadata": {
    "ExecuteTime": {
     "end_time": "2020-06-24T11:28:01.215530Z",
     "start_time": "2020-06-24T11:27:59.925435Z"
    }
   },
   "outputs": [],
   "source": [
    "import numpy as np\n",
    "import pandas as pd\n",
    "import matplotlib.pyplot as plt\n",
    "import seaborn as sns\n",
    "import shap\n",
    "\n",
    "import os\n",
    "import getpass\n",
    "import gc\n",
    "from pathlib import Path\n",
    "\n",
    "import itertools\n",
    "\n",
    "import xgboost as xgb\n",
    "from lightgbm import LGBMRegressor\n",
    "\n",
    "from sklearn.preprocessing import LabelEncoder\n",
    "from sklearn.model_selection import KFold\n",
    "\n",
    "from tqdm.notebook import tqdm\n",
    "import warnings\n",
    "#warnings.filterwarnings('ignore')"
   ]
  },
  {
   "cell_type": "code",
   "execution_count": 3,
   "metadata": {
    "ExecuteTime": {
     "end_time": "2020-06-24T11:28:02.402620Z",
     "start_time": "2020-06-24T11:28:01.226072Z"
    }
   },
   "outputs": [],
   "source": [
    "DATA_DIR = Path('/data', getpass.getuser(), 'kaggle', 'future_sales') #path to data files\n",
    "\n",
    "sales = pd.read_csv(DATA_DIR / 'sales_train.csv')\n",
    "items = pd.read_csv(DATA_DIR / 'items.csv')\n",
    "item_categories = pd.read_csv(DATA_DIR / 'item_categories.csv')\n",
    "shops = pd.read_csv(DATA_DIR /'shops.csv')\n",
    "\n",
    "test = pd.read_csv(DATA_DIR / 'test.csv').set_index('ID')"
   ]
  },
  {
   "cell_type": "markdown",
   "metadata": {},
   "source": [
    "**Little preporcessing**"
   ]
  },
  {
   "cell_type": "code",
   "execution_count": 4,
   "metadata": {
    "ExecuteTime": {
     "end_time": "2020-06-24T11:28:02.409222Z",
     "start_time": "2020-06-24T11:28:02.406049Z"
    }
   },
   "outputs": [],
   "source": [
    "def shop_id_change(sample):\n",
    "    sample.loc[sample['shop_id']==57, 'shop_id'] = 0\n",
    "    sample.loc[sample['shop_id']==58, 'shop_id'] = 1\n",
    "    sample.loc[sample['shop_id']==11, 'shop_id'] = 10\n",
    "    \n",
    "    return sample"
   ]
  },
  {
   "cell_type": "code",
   "execution_count": 5,
   "metadata": {
    "ExecuteTime": {
     "end_time": "2020-06-24T11:28:02.621539Z",
     "start_time": "2020-06-24T11:28:02.410709Z"
    }
   },
   "outputs": [],
   "source": [
    "sales = sales[(sales['item_cnt_day'] <= 900) & (sales['item_price'] <= 60000) & ((sales['item_price'] >= 0))]"
   ]
  },
  {
   "cell_type": "code",
   "execution_count": 6,
   "metadata": {
    "ExecuteTime": {
     "end_time": "2020-06-24T11:28:02.701619Z",
     "start_time": "2020-06-24T11:28:02.623191Z"
    }
   },
   "outputs": [],
   "source": [
    "#change shop_id\n",
    "sales = shop_id_change(sales)\n",
    "shops = shop_id_change(shops)\n",
    "test = shop_id_change(test)"
   ]
  },
  {
   "cell_type": "code",
   "execution_count": 7,
   "metadata": {
    "ExecuteTime": {
     "end_time": "2020-06-24T11:28:02.710597Z",
     "start_time": "2020-06-24T11:28:02.703591Z"
    }
   },
   "outputs": [],
   "source": [
    "#create feature - city\n",
    "shops['shop_city'] = shops['shop_name'].apply(lambda x: x.lower()).str.replace('[^\\w\\s]', '').str.strip()\n",
    "shops['shop_city'] = shops['shop_city'].apply(lambda x: x.split()[0])\n",
    "shops['shop_city'] = LabelEncoder().fit_transform(shops['shop_city'])"
   ]
  },
  {
   "cell_type": "code",
   "execution_count": 8,
   "metadata": {
    "ExecuteTime": {
     "end_time": "2020-06-24T11:28:02.717293Z",
     "start_time": "2020-06-24T11:28:02.713064Z"
    }
   },
   "outputs": [],
   "source": [
    "#create feature - section of products\n",
    "item_categories['item_section_name'] = item_categories['item_category_name'] \\\n",
    "                                        .apply(lambda x: x.lower().split('-')[0].split()[0].strip())\n",
    "item_categories['item_section_name'] = LabelEncoder().fit_transform(item_categories['item_section_name'])"
   ]
  },
  {
   "cell_type": "markdown",
   "metadata": {},
   "source": [
    "\n",
    "Since we need to predict monthly, so aggregate data"
   ]
  },
  {
   "cell_type": "code",
   "execution_count": 9,
   "metadata": {
    "ExecuteTime": {
     "end_time": "2020-06-24T11:28:15.087758Z",
     "start_time": "2020-06-24T11:28:02.718776Z"
    }
   },
   "outputs": [],
   "source": [
    "index_cols = ['shop_id', 'item_id', 'date_block_num']\n",
    "grid = []\n",
    "\n",
    "for block_num in sales['date_block_num'].unique():\n",
    "    cur_shops = sales[sales['date_block_num']==block_num]['shop_id'].unique()\n",
    "    cur_items = sales[sales['date_block_num']==block_num]['item_id'].unique()\n",
    "    grid.append(np.array(list(itertools.product(*[cur_shops, cur_items, [block_num]])), dtype='int32'))\n",
    "\n",
    "grid = pd.DataFrame(np.vstack(grid), columns = index_cols,dtype=np.int32)\n",
    "\n",
    "\n",
    "# Aggregations\n",
    "sales['item_cnt_day'] = sales['item_cnt_day'].clip(0,20) #seems it's better to clip here\n",
    "train = sales.groupby(['shop_id', 'item_id', 'date_block_num'], as_index=False) \\\n",
    "            .agg({'item_cnt_day':'sum', 'item_price':'mean'})\n",
    "train = train.rename(columns = {'item_cnt_day' : 'item_cnt_month'})\n",
    "train['item_cnt_month'] = train['item_cnt_month'].clip(0,20) #one more clip\n",
    "\n",
    "#merge aggregated sales and grid\n",
    "train = pd.merge(grid, train, how='left',on=index_cols)\n",
    "train['item_cnt_month'] = train['item_cnt_month'].fillna(0)"
   ]
  },
  {
   "cell_type": "code",
   "execution_count": 10,
   "metadata": {
    "ExecuteTime": {
     "end_time": "2020-06-24T11:28:15.267629Z",
     "start_time": "2020-06-24T11:28:15.090258Z"
    }
   },
   "outputs": [
    {
     "name": "stdout",
     "output_type": "stream",
     "text": [
      "(10913804, 4)\n"
     ]
    },
    {
     "data": {
      "text/html": [
       "<div>\n",
       "<style scoped>\n",
       "    .dataframe tbody tr th:only-of-type {\n",
       "        vertical-align: middle;\n",
       "    }\n",
       "\n",
       "    .dataframe tbody tr th {\n",
       "        vertical-align: top;\n",
       "    }\n",
       "\n",
       "    .dataframe thead th {\n",
       "        text-align: right;\n",
       "    }\n",
       "</style>\n",
       "<table border=\"1\" class=\"dataframe\">\n",
       "  <thead>\n",
       "    <tr style=\"text-align: right;\">\n",
       "      <th></th>\n",
       "      <th>shop_id</th>\n",
       "      <th>item_id</th>\n",
       "      <th>date_block_num</th>\n",
       "      <th>item_cnt_month</th>\n",
       "    </tr>\n",
       "  </thead>\n",
       "  <tbody>\n",
       "    <tr>\n",
       "      <th>0</th>\n",
       "      <td>59</td>\n",
       "      <td>22154</td>\n",
       "      <td>0</td>\n",
       "      <td>1.0</td>\n",
       "    </tr>\n",
       "    <tr>\n",
       "      <th>1</th>\n",
       "      <td>59</td>\n",
       "      <td>2552</td>\n",
       "      <td>0</td>\n",
       "      <td>0.0</td>\n",
       "    </tr>\n",
       "  </tbody>\n",
       "</table>\n",
       "</div>"
      ],
      "text/plain": [
       "   shop_id  item_id  date_block_num  item_cnt_month\n",
       "0       59    22154               0             1.0\n",
       "1       59     2552               0             0.0"
      ]
     },
     "execution_count": 10,
     "metadata": {},
     "output_type": "execute_result"
    }
   ],
   "source": [
    "train = train.drop(['item_price'], axis=1)\n",
    "print(train.shape)\n",
    "train.head(2)"
   ]
  },
  {
   "cell_type": "code",
   "execution_count": 11,
   "metadata": {
    "ExecuteTime": {
     "end_time": "2020-06-24T11:28:27.610188Z",
     "start_time": "2020-06-24T11:28:15.269268Z"
    }
   },
   "outputs": [
    {
     "data": {
      "text/html": [
       "<div>\n",
       "<style scoped>\n",
       "    .dataframe tbody tr th:only-of-type {\n",
       "        vertical-align: middle;\n",
       "    }\n",
       "\n",
       "    .dataframe tbody tr th {\n",
       "        vertical-align: top;\n",
       "    }\n",
       "\n",
       "    .dataframe thead th {\n",
       "        text-align: right;\n",
       "    }\n",
       "</style>\n",
       "<table border=\"1\" class=\"dataframe\">\n",
       "  <thead>\n",
       "    <tr style=\"text-align: right;\">\n",
       "      <th></th>\n",
       "      <th>shop_id</th>\n",
       "      <th>item_id</th>\n",
       "      <th>date_block_num</th>\n",
       "      <th>item_cnt_month</th>\n",
       "      <th>item_category_id</th>\n",
       "      <th>item_section_name</th>\n",
       "      <th>shop_city</th>\n",
       "    </tr>\n",
       "  </thead>\n",
       "  <tbody>\n",
       "    <tr>\n",
       "      <th>0</th>\n",
       "      <td>59</td>\n",
       "      <td>22154</td>\n",
       "      <td>0</td>\n",
       "      <td>1.0</td>\n",
       "      <td>37</td>\n",
       "      <td>7</td>\n",
       "      <td>30</td>\n",
       "    </tr>\n",
       "    <tr>\n",
       "      <th>1</th>\n",
       "      <td>16</td>\n",
       "      <td>6197</td>\n",
       "      <td>0</td>\n",
       "      <td>0.0</td>\n",
       "      <td>55</td>\n",
       "      <td>9</td>\n",
       "      <td>10</td>\n",
       "    </tr>\n",
       "  </tbody>\n",
       "</table>\n",
       "</div>"
      ],
      "text/plain": [
       "   shop_id  item_id  date_block_num  item_cnt_month  item_category_id  \\\n",
       "0       59    22154               0             1.0                37   \n",
       "1       16     6197               0             0.0                55   \n",
       "\n",
       "   item_section_name  shop_city  \n",
       "0                  7         30  \n",
       "1                  9         10  "
      ]
     },
     "execution_count": 11,
     "metadata": {},
     "output_type": "execute_result"
    }
   ],
   "source": [
    "#add some features to train\n",
    "train = train.merge(items[['item_id', 'item_category_id']], on='item_id')\n",
    "train = train.merge(item_categories[['item_category_id', 'item_section_name']], on='item_category_id')\n",
    "train = train.merge(shops[['shop_city', 'shop_id']], on='shop_id')\n",
    "\n",
    "train = train.drop_duplicates()\n",
    "train = train.sort_values(by=['date_block_num']).reset_index(drop=True)\n",
    "train.head(2)"
   ]
  },
  {
   "cell_type": "code",
   "execution_count": 12,
   "metadata": {
    "ExecuteTime": {
     "end_time": "2020-06-24T11:28:27.616322Z",
     "start_time": "2020-06-24T11:28:27.611899Z"
    }
   },
   "outputs": [
    {
     "name": "stdout",
     "output_type": "stream",
     "text": [
      "(214200, 4)\n"
     ]
    }
   ],
   "source": [
    "test['date_block_num']= 34\n",
    "test['item_cnt_month'] = -1 #since need to predict it\n",
    "print(test.shape)"
   ]
  },
  {
   "cell_type": "code",
   "execution_count": 13,
   "metadata": {
    "ExecuteTime": {
     "end_time": "2020-06-24T11:28:27.719426Z",
     "start_time": "2020-06-24T11:28:27.617837Z"
    }
   },
   "outputs": [],
   "source": [
    "test = test.merge(items[['item_id', 'item_category_id']], on='item_id', how='left')\n",
    "test = test.merge(item_categories[['item_category_id', 'item_section_name']], on='item_category_id', how='left')\n",
    "test = test.merge(shops[['shop_city', 'shop_id']], on='shop_id', how='left')\n",
    "test = test.drop_duplicates().reset_index(drop=True)"
   ]
  },
  {
   "cell_type": "code",
   "execution_count": 14,
   "metadata": {
    "ExecuteTime": {
     "end_time": "2020-06-24T11:28:27.727605Z",
     "start_time": "2020-06-24T11:28:27.720974Z"
    }
   },
   "outputs": [
    {
     "data": {
      "text/html": [
       "<div>\n",
       "<style scoped>\n",
       "    .dataframe tbody tr th:only-of-type {\n",
       "        vertical-align: middle;\n",
       "    }\n",
       "\n",
       "    .dataframe tbody tr th {\n",
       "        vertical-align: top;\n",
       "    }\n",
       "\n",
       "    .dataframe thead th {\n",
       "        text-align: right;\n",
       "    }\n",
       "</style>\n",
       "<table border=\"1\" class=\"dataframe\">\n",
       "  <thead>\n",
       "    <tr style=\"text-align: right;\">\n",
       "      <th></th>\n",
       "      <th>shop_id</th>\n",
       "      <th>item_id</th>\n",
       "      <th>date_block_num</th>\n",
       "      <th>item_cnt_month</th>\n",
       "      <th>item_category_id</th>\n",
       "      <th>item_section_name</th>\n",
       "      <th>shop_city</th>\n",
       "    </tr>\n",
       "  </thead>\n",
       "  <tbody>\n",
       "    <tr>\n",
       "      <th>0</th>\n",
       "      <td>5</td>\n",
       "      <td>5037</td>\n",
       "      <td>34</td>\n",
       "      <td>-1</td>\n",
       "      <td>19</td>\n",
       "      <td>5</td>\n",
       "      <td>3</td>\n",
       "    </tr>\n",
       "    <tr>\n",
       "      <th>1</th>\n",
       "      <td>5</td>\n",
       "      <td>5320</td>\n",
       "      <td>34</td>\n",
       "      <td>-1</td>\n",
       "      <td>55</td>\n",
       "      <td>9</td>\n",
       "      <td>3</td>\n",
       "    </tr>\n",
       "  </tbody>\n",
       "</table>\n",
       "</div>"
      ],
      "text/plain": [
       "   shop_id  item_id  date_block_num  item_cnt_month  item_category_id  \\\n",
       "0        5     5037              34              -1                19   \n",
       "1        5     5320              34              -1                55   \n",
       "\n",
       "   item_section_name  shop_city  \n",
       "0                  5          3  \n",
       "1                  9          3  "
      ]
     },
     "execution_count": 14,
     "metadata": {},
     "output_type": "execute_result"
    }
   ],
   "source": [
    "test.head(2)"
   ]
  },
  {
   "cell_type": "markdown",
   "metadata": {},
   "source": [
    "**Combine data**"
   ]
  },
  {
   "cell_type": "code",
   "execution_count": 15,
   "metadata": {
    "ExecuteTime": {
     "end_time": "2020-06-24T11:28:29.556516Z",
     "start_time": "2020-06-24T11:28:27.728973Z"
    }
   },
   "outputs": [],
   "source": [
    "#concat all data to create mean encoded features and lag ones\n",
    "all_data = pd.concat([train, test]).reset_index(drop=True)"
   ]
  },
  {
   "cell_type": "markdown",
   "metadata": {},
   "source": [
    "**Add lag features**"
   ]
  },
  {
   "cell_type": "code",
   "execution_count": 16,
   "metadata": {
    "ExecuteTime": {
     "end_time": "2020-06-24T11:28:29.565574Z",
     "start_time": "2020-06-24T11:28:29.559179Z"
    }
   },
   "outputs": [],
   "source": [
    "def create_lag_features(sample, group_cols, statistics=['median'], shift_range=list(range(1,13))):\n",
    "    '''Create lag features based on grouped columns and statistics\n",
    "    \n",
    "    Parameters:\n",
    "        sample - datafram\n",
    "        group_cols - list of columns which must be used for group by operation, the first one is 'date_block_num'\n",
    "        statistics - list of statistics which must be calculated\n",
    "        shif_range - orders of lag's \n",
    "        \n",
    "    Return:\n",
    "        sample with new features\n",
    "    '''\n",
    "    \n",
    "    gb = sample.groupby(group_cols, as_index=False)\n",
    "    \n",
    "    #to create name of new cols\n",
    "    name = ''\n",
    "    for i, x in enumerate(group_cols[1:]):\n",
    "        if not i:\n",
    "            name += x\n",
    "        else:\n",
    "            name += '_'+x\n",
    "        \n",
    "    for stat in statistics:\n",
    "        for month_shift in tqdm(shift_range):\n",
    "            feature = name+'_cnt_'+stat+'_'+str(month_shift)\n",
    "            res = gb.agg({'item_cnt_month': stat})\n",
    "            res['date_block_num'] += month_shift\n",
    "            res = res.rename(columns={'item_cnt_month': feature})\n",
    "            sample = sample.merge(res, on=group_cols, how='left')\n",
    "            sample[feature] = sample[feature].fillna(0)\n",
    "            \n",
    "    return sample"
   ]
  },
  {
   "cell_type": "code",
   "execution_count": 17,
   "metadata": {
    "ExecuteTime": {
     "end_time": "2020-06-24T11:32:03.311801Z",
     "start_time": "2020-06-24T11:28:29.567069Z"
    }
   },
   "outputs": [
    {
     "data": {
      "application/vnd.jupyter.widget-view+json": {
       "model_id": "e6f28339672e4cc293810d7ca42b0608",
       "version_major": 2,
       "version_minor": 0
      },
      "text/plain": [
       "HBox(children=(FloatProgress(value=0.0, max=12.0), HTML(value='')))"
      ]
     },
     "metadata": {},
     "output_type": "display_data"
    },
    {
     "name": "stdout",
     "output_type": "stream",
     "text": [
      "\n"
     ]
    },
    {
     "data": {
      "application/vnd.jupyter.widget-view+json": {
       "model_id": "38117e3e369b491096006931a4efd839",
       "version_major": 2,
       "version_minor": 0
      },
      "text/plain": [
       "HBox(children=(FloatProgress(value=0.0, max=12.0), HTML(value='')))"
      ]
     },
     "metadata": {},
     "output_type": "display_data"
    },
    {
     "name": "stdout",
     "output_type": "stream",
     "text": [
      "\n"
     ]
    }
   ],
   "source": [
    "columns = [['date_block_num', 'shop_id', 'item_id'], ['date_block_num', 'item_id']]\n",
    "for cols in columns:\n",
    "    all_data = create_lag_features(all_data, cols)"
   ]
  },
  {
   "cell_type": "code",
   "execution_count": 18,
   "metadata": {
    "ExecuteTime": {
     "end_time": "2020-06-24T11:36:57.876378Z",
     "start_time": "2020-06-24T11:32:03.313632Z"
    }
   },
   "outputs": [
    {
     "data": {
      "application/vnd.jupyter.widget-view+json": {
       "model_id": "29e16dd56e3547b7a9bed0f579db25fa",
       "version_major": 2,
       "version_minor": 0
      },
      "text/plain": [
       "HBox(children=(FloatProgress(value=0.0, max=12.0), HTML(value='')))"
      ]
     },
     "metadata": {},
     "output_type": "display_data"
    },
    {
     "name": "stdout",
     "output_type": "stream",
     "text": [
      "\n"
     ]
    }
   ],
   "source": [
    "# List of columns that we will use to create lags\n",
    "lag_features = ['item_cnt_month']\n",
    "\n",
    "shift_range = list(range(1, 13))\n",
    "\n",
    "for month_shift in tqdm(shift_range):\n",
    "    train_shift = all_data[index_cols + lag_features].copy()\n",
    "    \n",
    "    train_shift['date_block_num'] = train_shift['date_block_num'] + month_shift\n",
    "    \n",
    "    foo = lambda x: f'{x}_lag_{month_shift}' if x in lag_features else x\n",
    "    train_shift = train_shift.rename(columns=foo)\n",
    "\n",
    "    all_data = pd.merge(all_data, train_shift, on=index_cols, how='left').fillna(0)"
   ]
  },
  {
   "cell_type": "markdown",
   "metadata": {},
   "source": [
    "**Add more features**"
   ]
  },
  {
   "cell_type": "code",
   "execution_count": 19,
   "metadata": {
    "ExecuteTime": {
     "end_time": "2020-06-24T11:37:19.278462Z",
     "start_time": "2020-06-24T11:36:57.878152Z"
    }
   },
   "outputs": [],
   "source": [
    "#one more features since we have predict based on pairs shop_id and item_id\n",
    "all_data['shop_item'] = (all_data['shop_id'].astype(str) + '0' + all_data['item_id'].astype(str)).astype(int)\n",
    "#order of month\n",
    "all_data['month'] = all_data['date_block_num'].apply(lambda x: x % 12)"
   ]
  },
  {
   "cell_type": "code",
   "execution_count": 20,
   "metadata": {
    "ExecuteTime": {
     "end_time": "2020-06-24T11:37:19.298316Z",
     "start_time": "2020-06-24T11:37:19.279987Z"
    }
   },
   "outputs": [
    {
     "data": {
      "text/html": [
       "<div>\n",
       "<style scoped>\n",
       "    .dataframe tbody tr th:only-of-type {\n",
       "        vertical-align: middle;\n",
       "    }\n",
       "\n",
       "    .dataframe tbody tr th {\n",
       "        vertical-align: top;\n",
       "    }\n",
       "\n",
       "    .dataframe thead th {\n",
       "        text-align: right;\n",
       "    }\n",
       "</style>\n",
       "<table border=\"1\" class=\"dataframe\">\n",
       "  <thead>\n",
       "    <tr style=\"text-align: right;\">\n",
       "      <th></th>\n",
       "      <th>shop_id</th>\n",
       "      <th>item_id</th>\n",
       "      <th>date_block_num</th>\n",
       "      <th>item_cnt_month</th>\n",
       "      <th>item_category_id</th>\n",
       "      <th>item_section_name</th>\n",
       "      <th>shop_city</th>\n",
       "      <th>shop_id_item_id_cnt_median_1</th>\n",
       "      <th>shop_id_item_id_cnt_median_2</th>\n",
       "      <th>shop_id_item_id_cnt_median_3</th>\n",
       "      <th>...</th>\n",
       "      <th>item_cnt_month_lag_5</th>\n",
       "      <th>item_cnt_month_lag_6</th>\n",
       "      <th>item_cnt_month_lag_7</th>\n",
       "      <th>item_cnt_month_lag_8</th>\n",
       "      <th>item_cnt_month_lag_9</th>\n",
       "      <th>item_cnt_month_lag_10</th>\n",
       "      <th>item_cnt_month_lag_11</th>\n",
       "      <th>item_cnt_month_lag_12</th>\n",
       "      <th>shop_item</th>\n",
       "      <th>month</th>\n",
       "    </tr>\n",
       "  </thead>\n",
       "  <tbody>\n",
       "    <tr>\n",
       "      <th>0</th>\n",
       "      <td>59</td>\n",
       "      <td>22154</td>\n",
       "      <td>0</td>\n",
       "      <td>1.0</td>\n",
       "      <td>37</td>\n",
       "      <td>7</td>\n",
       "      <td>30</td>\n",
       "      <td>0.0</td>\n",
       "      <td>0.0</td>\n",
       "      <td>0.0</td>\n",
       "      <td>...</td>\n",
       "      <td>0.0</td>\n",
       "      <td>0.0</td>\n",
       "      <td>0.0</td>\n",
       "      <td>0.0</td>\n",
       "      <td>0.0</td>\n",
       "      <td>0.0</td>\n",
       "      <td>0.0</td>\n",
       "      <td>0.0</td>\n",
       "      <td>59022154</td>\n",
       "      <td>0</td>\n",
       "    </tr>\n",
       "    <tr>\n",
       "      <th>1</th>\n",
       "      <td>16</td>\n",
       "      <td>6197</td>\n",
       "      <td>0</td>\n",
       "      <td>0.0</td>\n",
       "      <td>55</td>\n",
       "      <td>9</td>\n",
       "      <td>10</td>\n",
       "      <td>0.0</td>\n",
       "      <td>0.0</td>\n",
       "      <td>0.0</td>\n",
       "      <td>...</td>\n",
       "      <td>0.0</td>\n",
       "      <td>0.0</td>\n",
       "      <td>0.0</td>\n",
       "      <td>0.0</td>\n",
       "      <td>0.0</td>\n",
       "      <td>0.0</td>\n",
       "      <td>0.0</td>\n",
       "      <td>0.0</td>\n",
       "      <td>1606197</td>\n",
       "      <td>0</td>\n",
       "    </tr>\n",
       "  </tbody>\n",
       "</table>\n",
       "<p>2 rows × 45 columns</p>\n",
       "</div>"
      ],
      "text/plain": [
       "   shop_id  item_id  date_block_num  item_cnt_month  item_category_id  \\\n",
       "0       59    22154               0             1.0                37   \n",
       "1       16     6197               0             0.0                55   \n",
       "\n",
       "   item_section_name  shop_city  shop_id_item_id_cnt_median_1  \\\n",
       "0                  7         30                           0.0   \n",
       "1                  9         10                           0.0   \n",
       "\n",
       "   shop_id_item_id_cnt_median_2  shop_id_item_id_cnt_median_3  ...  \\\n",
       "0                           0.0                           0.0  ...   \n",
       "1                           0.0                           0.0  ...   \n",
       "\n",
       "   item_cnt_month_lag_5  item_cnt_month_lag_6  item_cnt_month_lag_7  \\\n",
       "0                   0.0                   0.0                   0.0   \n",
       "1                   0.0                   0.0                   0.0   \n",
       "\n",
       "   item_cnt_month_lag_8  item_cnt_month_lag_9  item_cnt_month_lag_10  \\\n",
       "0                   0.0                   0.0                    0.0   \n",
       "1                   0.0                   0.0                    0.0   \n",
       "\n",
       "   item_cnt_month_lag_11  item_cnt_month_lag_12  shop_item  month  \n",
       "0                    0.0                    0.0   59022154      0  \n",
       "1                    0.0                    0.0    1606197      0  \n",
       "\n",
       "[2 rows x 45 columns]"
      ]
     },
     "execution_count": 20,
     "metadata": {},
     "output_type": "execute_result"
    }
   ],
   "source": [
    "all_data.head(2)"
   ]
  },
  {
   "cell_type": "code",
   "execution_count": 21,
   "metadata": {
    "ExecuteTime": {
     "end_time": "2020-06-24T11:37:27.082649Z",
     "start_time": "2020-06-24T11:37:19.299543Z"
    }
   },
   "outputs": [],
   "source": [
    "all_data = all_data[all_data['date_block_num'] > 0] #since lag features created\n",
    "all_data_part = all_data[all_data['date_block_num'] < 34]"
   ]
  },
  {
   "cell_type": "code",
   "execution_count": 26,
   "metadata": {
    "ExecuteTime": {
     "end_time": "2020-06-24T11:51:19.752278Z",
     "start_time": "2020-06-24T11:51:13.546753Z"
    }
   },
   "outputs": [],
   "source": [
    "#to validate\n",
    "train_part = all_data_part[all_data_part['date_block_num'] < 33]\n",
    "val = all_data_part[all_data_part['date_block_num'] == 33]\n",
    "\n",
    "#to fit on all data\n",
    "train, test = all_data[all_data['date_block_num'] < 34], all_data[all_data['date_block_num'] == 34]"
   ]
  },
  {
   "cell_type": "code",
   "execution_count": 27,
   "metadata": {
    "ExecuteTime": {
     "end_time": "2020-06-24T11:52:04.984253Z",
     "start_time": "2020-06-24T11:51:19.753914Z"
    }
   },
   "outputs": [],
   "source": [
    "Xtrain_part, ytrain_part = train_part.drop(['item_cnt_month'] , axis=1), train_part['item_cnt_month']\n",
    "Xval, yval = val.drop(['item_cnt_month'] , axis=1), val['item_cnt_month']\n",
    "\n",
    "Xtrain, ytrain = train.drop(['item_cnt_month'] , axis=1), train['item_cnt_month']\n",
    "Xtest, ytest = test.drop(['item_cnt_month'] , axis=1), test['item_cnt_month']\n",
    "\n",
    "dtrain_part = xgb.DMatrix(data=Xtrain_part.to_numpy(), label=ytrain_part\n",
    "                     , feature_names=Xtrain.columns)\n",
    "dval = xgb.DMatrix(data=Xval.to_numpy(), label=yval\n",
    "                     , feature_names=Xtrain.columns)\n",
    "\n",
    "dtrain = xgb.DMatrix(data=Xtrain.to_numpy(), label=ytrain\n",
    "                     , feature_names=Xtrain.columns)\n",
    "dtest = xgb.DMatrix(data=Xtest.to_numpy(), label=ytest\n",
    "                   , feature_names=Xtrain.columns)"
   ]
  },
  {
   "cell_type": "code",
   "execution_count": 28,
   "metadata": {
    "ExecuteTime": {
     "end_time": "2020-06-24T11:52:04.991580Z",
     "start_time": "2020-06-24T11:52:04.987410Z"
    }
   },
   "outputs": [],
   "source": [
    "default_params = {  'objective': 'reg:squarederror'                    \n",
    "                    , 'subsample': 0.8\n",
    "                    , 'colsample_bytree': 0.9\n",
    "                    , 'learning_rate': 0.1\n",
    "                    , 'tree_method': 'hist'\n",
    "                    , 'grow_policy': 'lossguide'\n",
    "                    , 'max_leaves': 63\n",
    "                    , 'max_depth': 0\n",
    "                    , 'gamma': 1\n",
    "                    , 'reg_alpha': 1.2\n",
    "                    , 'reg_lambda': 1.3\n",
    "                    , 'min_child_weight': 30\n",
    "                    , 'max_delta_step': 2\n",
    "                    , 'n_jobs': 60\n",
    "                    , 'random_state': 42\n",
    "                    , 'eval_metric': 'rmse'\n",
    "                }   "
   ]
  },
  {
   "cell_type": "code",
   "execution_count": 29,
   "metadata": {
    "ExecuteTime": {
     "end_time": "2020-06-24T11:59:29.638322Z",
     "start_time": "2020-06-24T11:52:04.993342Z"
    }
   },
   "outputs": [
    {
     "name": "stdout",
     "output_type": "stream",
     "text": [
      "[0]\ttrain_part-rmse:1.21511\tval-rmse:1.14208\n",
      "Multiple eval metrics have been passed: 'val-rmse' will be used for early stopping.\n",
      "\n",
      "Will train until val-rmse hasn't improved in 100 rounds.\n",
      "[100]\ttrain_part-rmse:0.90857\tval-rmse:0.94096\n",
      "[200]\ttrain_part-rmse:0.88163\tval-rmse:0.93121\n",
      "[300]\ttrain_part-rmse:0.86940\tval-rmse:0.92739\n",
      "[400]\ttrain_part-rmse:0.85977\tval-rmse:0.92443\n",
      "[500]\ttrain_part-rmse:0.85049\tval-rmse:0.92228\n",
      "[600]\ttrain_part-rmse:0.84333\tval-rmse:0.92001\n",
      "[700]\ttrain_part-rmse:0.83654\tval-rmse:0.91753\n",
      "[800]\ttrain_part-rmse:0.83087\tval-rmse:0.91611\n",
      "Stopping. Best iteration:\n",
      "[776]\ttrain_part-rmse:0.83187\tval-rmse:0.91590\n",
      "\n"
     ]
    }
   ],
   "source": [
    "model1_part = xgb.train(default_params, dtrain_part, num_boost_round=1000, early_stopping_rounds=100, verbose_eval=100\n",
    "           , evals=[(dtrain_part,'train_part'), (dval,'val')])"
   ]
  },
  {
   "cell_type": "code",
   "execution_count": 30,
   "metadata": {
    "ExecuteTime": {
     "end_time": "2020-06-24T12:03:40.784756Z",
     "start_time": "2020-06-24T11:59:29.640705Z"
    }
   },
   "outputs": [
    {
     "name": "stdout",
     "output_type": "stream",
     "text": [
      "[0]\ttrain-rmse:1.21350\n",
      "Will train until train-rmse hasn't improved in 100 rounds.\n",
      "[100]\ttrain-rmse:0.90961\n",
      "[200]\ttrain-rmse:0.88386\n",
      "[300]\ttrain-rmse:0.87090\n",
      "[400]\ttrain-rmse:0.86092\n",
      "[499]\ttrain-rmse:0.85242\n"
     ]
    }
   ],
   "source": [
    "model1 = xgb.train(default_params, dtrain, num_boost_round=500, early_stopping_rounds=100, verbose_eval=100\n",
    "           , evals=[(dtrain,'train')])"
   ]
  },
  {
   "cell_type": "code",
   "execution_count": 31,
   "metadata": {
    "ExecuteTime": {
     "end_time": "2020-06-24T12:03:41.289755Z",
     "start_time": "2020-06-24T12:03:40.788397Z"
    }
   },
   "outputs": [],
   "source": [
    "ans = pd.DataFrame({'item_cnt_month': model1.predict(dtest)})\n",
    "ans['item_cnt_month'] = ans['item_cnt_month'].clip(0, 20)\n",
    "ans.insert(0, 'ID', ans.index)\n",
    "ans.to_csv(DATA_DIR / 'final_ans_0.csv', index=False)\n",
    "#0.968062"
   ]
  },
  {
   "cell_type": "code",
   "execution_count": null,
   "metadata": {},
   "outputs": [],
   "source": []
  },
  {
   "cell_type": "code",
   "execution_count": null,
   "metadata": {},
   "outputs": [],
   "source": []
  }
 ],
 "metadata": {
  "kernelspec": {
   "display_name": "Python 3.6",
   "language": "python36",
   "name": "python3.6"
  },
  "language_info": {
   "codemirror_mode": {
    "name": "ipython",
    "version": 3
   },
   "file_extension": ".py",
   "mimetype": "text/x-python",
   "name": "python",
   "nbconvert_exporter": "python",
   "pygments_lexer": "ipython3",
   "version": "3.6.8"
  }
 },
 "nbformat": 4,
 "nbformat_minor": 2
}
