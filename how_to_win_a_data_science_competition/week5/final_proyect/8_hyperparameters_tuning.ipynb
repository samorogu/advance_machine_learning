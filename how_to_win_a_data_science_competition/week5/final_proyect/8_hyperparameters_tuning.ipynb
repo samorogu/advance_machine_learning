{
 "cells": [
  {
   "cell_type": "code",
   "execution_count": 1,
   "metadata": {
    "ExecuteTime": {
     "end_time": "2020-06-24T18:40:01.028178Z",
     "start_time": "2020-06-24T18:39:59.689485Z"
    }
   },
   "outputs": [],
   "source": [
    "import numpy as np\n",
    "import pandas as pd\n",
    "import getpass\n",
    "import os\n",
    "import gc\n",
    "import csv\n",
    "from pathlib import Path\n",
    "\n",
    "from lightgbm import LGBMRegressor\n",
    "\n",
    "import optuna\n",
    "import ast\n",
    "import datetime\n",
    "\n",
    "from sklearn.metrics import mean_squared_error\n",
    "\n",
    "import matplotlib.pyplot as plt"
   ]
  },
  {
   "cell_type": "code",
   "execution_count": 2,
   "metadata": {
    "ExecuteTime": {
     "end_time": "2020-06-24T18:41:00.178564Z",
     "start_time": "2020-06-24T18:40:01.033198Z"
    }
   },
   "outputs": [],
   "source": [
    "DATA_DIR = Path('/data', getpass.getuser(), 'kaggle', 'future_sales') #path to data files\n",
    "\n",
    "OPTIMIZE_FILE = DATA_DIR / 'optuna_scores.csv'\n",
    "SEED = 42\n",
    "NJOBS = 60\n",
    "\n",
    "with open(DATA_DIR / 'features.txt', 'r') as f:\n",
    "    features = f.read()\n",
    "features = features.split(',')\n",
    "\n",
    "all_data = pd.read_pickle(DATA_DIR / 'all_data.pkl')\n",
    "all_data_part = pd.read_pickle(DATA_DIR / 'all_data_part.pkl')\n",
    "\n",
    "all_data = all_data[features]\n",
    "all_data_part = all_data_part[features]"
   ]
  },
  {
   "cell_type": "code",
   "execution_count": 3,
   "metadata": {
    "ExecuteTime": {
     "end_time": "2020-06-24T18:41:23.477676Z",
     "start_time": "2020-06-24T18:41:00.183839Z"
    }
   },
   "outputs": [],
   "source": [
    "all_data = all_data[all_data['date_block_num'] > 0]\n",
    "all_data_part = all_data_part[all_data_part['date_block_num'] > 0]"
   ]
  },
  {
   "cell_type": "code",
   "execution_count": 4,
   "metadata": {
    "ExecuteTime": {
     "end_time": "2020-06-24T18:41:39.644698Z",
     "start_time": "2020-06-24T18:41:23.480194Z"
    }
   },
   "outputs": [],
   "source": [
    "#to validate\n",
    "train_part = all_data_part[all_data_part['date_block_num'] < 33]\n",
    "val = all_data_part[all_data_part['date_block_num'] == 33]\n",
    "\n",
    "#to fit on all data\n",
    "train, test = all_data[all_data['date_block_num'] < 34], all_data[all_data['date_block_num'] == 34]"
   ]
  },
  {
   "cell_type": "code",
   "execution_count": 5,
   "metadata": {
    "ExecuteTime": {
     "end_time": "2020-06-24T18:41:53.823556Z",
     "start_time": "2020-06-24T18:41:39.647122Z"
    }
   },
   "outputs": [],
   "source": [
    "Xtrain_part, ytrain_part = train_part.drop(['date_block_num', 'item_cnt_month'] , axis=1), train_part['item_cnt_month']\n",
    "Xval, yval = val.drop(['date_block_num', 'item_cnt_month'] , axis=1), val['item_cnt_month']\n",
    "\n",
    "Xtrain, ytrain = train.drop(['date_block_num', 'item_cnt_month'] , axis=1), train['item_cnt_month']\n",
    "Xtest, ytest = test.drop(['date_block_num', 'item_cnt_month'] , axis=1), test['item_cnt_month']"
   ]
  },
  {
   "cell_type": "markdown",
   "metadata": {},
   "source": [
    "### optuna"
   ]
  },
  {
   "cell_type": "code",
   "execution_count": 32,
   "metadata": {
    "ExecuteTime": {
     "end_time": "2020-06-25T08:15:20.120909Z",
     "start_time": "2020-06-25T08:15:20.116809Z"
    }
   },
   "outputs": [],
   "source": [
    "N_EST = 1000\n",
    "INT_PARAMS = ['n_estimators', 'max_leaves', 'max_depth', 'subsample_for_bin', 'min_data_in_leaf', 'subsample_freq'\n",
    "              , 'random_state', 'n_jobs', 'num_leaves']"
   ]
  },
  {
   "cell_type": "code",
   "execution_count": 16,
   "metadata": {
    "ExecuteTime": {
     "end_time": "2020-06-24T18:56:10.070989Z",
     "start_time": "2020-06-24T18:56:10.062702Z"
    }
   },
   "outputs": [],
   "source": [
    "def objective(trial):\n",
    "\n",
    "    params = {'n_estimators': N_EST\n",
    "             , 'learning_rate': trial.suggest_uniform('learning_rate', 0.01, 0.2)\n",
    "             , 'num_leaves': trial.suggest_int('num_leaves', 7, 255)\n",
    "             , 'max_depth': -1\n",
    "             , 'subsample': trial.suggest_uniform('subsample', 0.75, 1)\n",
    "             , 'colsample_bytree': trial.suggest_uniform('colsample_bytree', 0.8, 1)\n",
    "             , 'min_child_weight': trial.suggest_uniform('min_child_weight', 1e-1, 200)\n",
    "             , 'reg_alpha': trial.suggest_loguniform('reg_alpha', 1e-3, 3.0)\n",
    "             , 'reg_lambda': trial.suggest_loguniform('reg_lambda', 1e-3, 3.0)\n",
    "             , 'min_split_gain': trial.suggest_loguniform('min_split_gain', 1e-2, 100) #aka gamma in xgboost\n",
    "             , 'max_delta_step': trial.suggest_uniform('max_delta_step', 0, 100)\n",
    "             , 'subsample_for_bin': trial.suggest_int('subsample_for_bin', 50*1000, 300*1000)\n",
    "             , 'subsample_freq': trial.suggest_int('subsample_freq', 1, 10)\n",
    "             , 'min_data_in_leaf': trial.suggest_int('min_data_in_leaf', 20, int(0.05 * Xtrain_part.shape[0]))\n",
    "              \n",
    "             , 'random_state': SEED\n",
    "             , 'n_jobs' : NJOBS\n",
    "            }\n",
    "    \n",
    "    start_time = datetime.datetime.now()\n",
    "\n",
    "    model = LGBMRegressor(**params)\n",
    "    model.fit(Xtrain_part, ytrain_part, eval_metric=['rmse'], verbose=False\n",
    "            , eval_set=[(Xval, yval)], early_stopping_rounds=100)\n",
    "    \n",
    "    train_time = datetime.datetime.now() - start_time\n",
    "\n",
    "    pred_val = model.predict(Xval)\n",
    "    pred_train = model.predict(Xtrain_part)\n",
    "    \n",
    "    mse_test = mean_squared_error(yval, pred_val)\n",
    "    mse_train = mean_squared_error(ytrain_part, pred_train)\n",
    "    \n",
    "    with open(OPTIMIZE_FILE, 'a') as f:\n",
    "        writer = csv.writer(f)\n",
    "        writer.writerow([params, mse_test, mse_train, train_time])\n",
    "    \n",
    "    return mse_test"
   ]
  },
  {
   "cell_type": "code",
   "execution_count": 17,
   "metadata": {
    "ExecuteTime": {
     "end_time": "2020-06-24T18:56:10.243674Z",
     "start_time": "2020-06-24T18:56:10.240721Z"
    }
   },
   "outputs": [],
   "source": [
    "with open(OPTIMIZE_FILE, 'w') as f:\n",
    "    writer = csv.writer(f)\n",
    "    writer.writerow(['params', 'mse_test', 'mse_train', 'train_time'])"
   ]
  },
  {
   "cell_type": "code",
   "execution_count": null,
   "metadata": {
    "ExecuteTime": {
     "end_time": "2020-06-24T23:02:38.734345Z",
     "start_time": "2020-06-24T18:56:10.468585Z"
    }
   },
   "outputs": [],
   "source": [
    "study = optuna.create_study(direction='minimize', pruner=optuna.pruners.SuccessiveHalvingPruner())\n",
    "study.optimize(objective, n_trials=30, show_progress_bar=True, n_jobs=1)"
   ]
  },
  {
   "cell_type": "code",
   "execution_count": 19,
   "metadata": {
    "ExecuteTime": {
     "end_time": "2020-06-24T23:02:38.740709Z",
     "start_time": "2020-06-24T23:02:38.736187Z"
    }
   },
   "outputs": [
    {
     "name": "stdout",
     "output_type": "stream",
     "text": [
      "Best parameters:\n",
      "\n",
      "{'learning_rate': 0.10940414868293571, 'num_leaves': 253, 'subsample': 0.8647972293106071, 'colsample_bytree': 0.9119952348272526, 'min_child_weight': 37.481104606983166, 'reg_alpha': 2.958101388986032, 'reg_lambda': 0.0015385349766620054, 'min_split_gain': 0.010540968582577605, 'max_delta_step': 35.0645297176416, 'subsample_for_bin': 102259, 'subsample_freq': 5, 'min_data_in_leaf': 442}\n"
     ]
    }
   ],
   "source": [
    "print('Best parameters:\\n')\n",
    "print(study.best_params)"
   ]
  },
  {
   "cell_type": "code",
   "execution_count": 20,
   "metadata": {
    "ExecuteTime": {
     "end_time": "2020-06-24T23:02:38.745806Z",
     "start_time": "2020-06-24T23:02:38.742428Z"
    }
   },
   "outputs": [
    {
     "name": "stdout",
     "output_type": "stream",
     "text": [
      "0.7970915672871371\n"
     ]
    }
   ],
   "source": [
    "print(study.best_value)"
   ]
  },
  {
   "cell_type": "code",
   "execution_count": 41,
   "metadata": {
    "ExecuteTime": {
     "end_time": "2020-06-25T08:34:58.021352Z",
     "start_time": "2020-06-25T08:34:58.002223Z"
    }
   },
   "outputs": [],
   "source": [
    "info_opt = pd.read_csv(DATA_DIR / OPTIMIZE_FILE)\n",
    "\n",
    "info_opt_all = pd.DataFrame([ast.literal_eval(info_opt.loc[i, 'params']) for i in range(info_opt.shape[0])])\n",
    "info_opt_all.insert(0, 'mse_test', info_opt['mse_test'])\n",
    "info_opt_all.insert(1, 'mse_train', info_opt['mse_train'])\n",
    "info_opt_all.insert(2, 'diff_mse', info_opt['mse_train'] - info_opt['mse_test'])\n",
    "\n",
    "const_cols = ['n_estimators', 'random_state', 'n_jobs']\n",
    "\n",
    "info_opt_all = info_opt_all.drop(const_cols, axis=1)\n",
    "info_opt_all.sort_values(by=['diff_mse'], inplace=True, ascending=False)\n",
    "k=info_opt_all[(info_opt_all['mse_test'] < 0.9)]"
   ]
  },
  {
   "cell_type": "code",
   "execution_count": 42,
   "metadata": {
    "ExecuteTime": {
     "end_time": "2020-06-25T08:34:58.640077Z",
     "start_time": "2020-06-25T08:34:58.624160Z"
    }
   },
   "outputs": [
    {
     "data": {
      "text/html": [
       "<div>\n",
       "<style scoped>\n",
       "    .dataframe tbody tr th:only-of-type {\n",
       "        vertical-align: middle;\n",
       "    }\n",
       "\n",
       "    .dataframe tbody tr th {\n",
       "        vertical-align: top;\n",
       "    }\n",
       "\n",
       "    .dataframe thead th {\n",
       "        text-align: right;\n",
       "    }\n",
       "</style>\n",
       "<table border=\"1\" class=\"dataframe\">\n",
       "  <thead>\n",
       "    <tr style=\"text-align: right;\">\n",
       "      <th></th>\n",
       "      <th>mse_test</th>\n",
       "      <th>mse_train</th>\n",
       "      <th>diff_mse</th>\n",
       "      <th>learning_rate</th>\n",
       "      <th>num_leaves</th>\n",
       "      <th>max_depth</th>\n",
       "      <th>subsample</th>\n",
       "      <th>colsample_bytree</th>\n",
       "      <th>min_child_weight</th>\n",
       "      <th>reg_alpha</th>\n",
       "      <th>reg_lambda</th>\n",
       "      <th>min_split_gain</th>\n",
       "      <th>max_delta_step</th>\n",
       "      <th>subsample_for_bin</th>\n",
       "      <th>subsample_freq</th>\n",
       "      <th>min_data_in_leaf</th>\n",
       "    </tr>\n",
       "  </thead>\n",
       "  <tbody>\n",
       "    <tr>\n",
       "      <th>2</th>\n",
       "      <td>0.899103</td>\n",
       "      <td>0.858823</td>\n",
       "      <td>-0.040280</td>\n",
       "      <td>0.150743</td>\n",
       "      <td>99</td>\n",
       "      <td>-1</td>\n",
       "      <td>0.851512</td>\n",
       "      <td>0.904640</td>\n",
       "      <td>166.733067</td>\n",
       "      <td>0.001546</td>\n",
       "      <td>0.841480</td>\n",
       "      <td>0.016605</td>\n",
       "      <td>49.241413</td>\n",
       "      <td>291564</td>\n",
       "      <td>6</td>\n",
       "      <td>133294</td>\n",
       "    </tr>\n",
       "    <tr>\n",
       "      <th>18</th>\n",
       "      <td>0.884908</td>\n",
       "      <td>0.834186</td>\n",
       "      <td>-0.050722</td>\n",
       "      <td>0.171767</td>\n",
       "      <td>203</td>\n",
       "      <td>-1</td>\n",
       "      <td>0.784913</td>\n",
       "      <td>0.891926</td>\n",
       "      <td>69.371391</td>\n",
       "      <td>0.563530</td>\n",
       "      <td>0.045833</td>\n",
       "      <td>0.635907</td>\n",
       "      <td>78.023973</td>\n",
       "      <td>167154</td>\n",
       "      <td>7</td>\n",
       "      <td>98282</td>\n",
       "    </tr>\n",
       "    <tr>\n",
       "      <th>26</th>\n",
       "      <td>0.881271</td>\n",
       "      <td>0.830003</td>\n",
       "      <td>-0.051268</td>\n",
       "      <td>0.157487</td>\n",
       "      <td>253</td>\n",
       "      <td>-1</td>\n",
       "      <td>0.802838</td>\n",
       "      <td>0.997099</td>\n",
       "      <td>56.968814</td>\n",
       "      <td>1.499633</td>\n",
       "      <td>0.002645</td>\n",
       "      <td>0.024521</td>\n",
       "      <td>23.517478</td>\n",
       "      <td>156326</td>\n",
       "      <td>7</td>\n",
       "      <td>95851</td>\n",
       "    </tr>\n",
       "    <tr>\n",
       "      <th>13</th>\n",
       "      <td>0.883272</td>\n",
       "      <td>0.829824</td>\n",
       "      <td>-0.053448</td>\n",
       "      <td>0.196099</td>\n",
       "      <td>173</td>\n",
       "      <td>-1</td>\n",
       "      <td>0.756643</td>\n",
       "      <td>0.855126</td>\n",
       "      <td>1.272967</td>\n",
       "      <td>2.438602</td>\n",
       "      <td>0.134115</td>\n",
       "      <td>0.336300</td>\n",
       "      <td>99.655457</td>\n",
       "      <td>239695</td>\n",
       "      <td>3</td>\n",
       "      <td>95806</td>\n",
       "    </tr>\n",
       "    <tr>\n",
       "      <th>14</th>\n",
       "      <td>0.872304</td>\n",
       "      <td>0.811430</td>\n",
       "      <td>-0.060874</td>\n",
       "      <td>0.171667</td>\n",
       "      <td>105</td>\n",
       "      <td>-1</td>\n",
       "      <td>0.775231</td>\n",
       "      <td>0.869084</td>\n",
       "      <td>32.893320</td>\n",
       "      <td>0.307044</td>\n",
       "      <td>0.001026</td>\n",
       "      <td>0.383568</td>\n",
       "      <td>88.012562</td>\n",
       "      <td>247123</td>\n",
       "      <td>4</td>\n",
       "      <td>73347</td>\n",
       "    </tr>\n",
       "    <tr>\n",
       "      <th>25</th>\n",
       "      <td>0.868358</td>\n",
       "      <td>0.799586</td>\n",
       "      <td>-0.068773</td>\n",
       "      <td>0.127179</td>\n",
       "      <td>222</td>\n",
       "      <td>-1</td>\n",
       "      <td>0.850921</td>\n",
       "      <td>0.939240</td>\n",
       "      <td>32.789977</td>\n",
       "      <td>2.984969</td>\n",
       "      <td>0.001563</td>\n",
       "      <td>0.010348</td>\n",
       "      <td>2.890119</td>\n",
       "      <td>135921</td>\n",
       "      <td>5</td>\n",
       "      <td>59710</td>\n",
       "    </tr>\n",
       "    <tr>\n",
       "      <th>8</th>\n",
       "      <td>0.858012</td>\n",
       "      <td>0.789038</td>\n",
       "      <td>-0.068974</td>\n",
       "      <td>0.099031</td>\n",
       "      <td>41</td>\n",
       "      <td>-1</td>\n",
       "      <td>0.820257</td>\n",
       "      <td>0.801635</td>\n",
       "      <td>86.922991</td>\n",
       "      <td>0.030942</td>\n",
       "      <td>0.004120</td>\n",
       "      <td>0.036697</td>\n",
       "      <td>48.209465</td>\n",
       "      <td>291028</td>\n",
       "      <td>1</td>\n",
       "      <td>39542</td>\n",
       "    </tr>\n",
       "    <tr>\n",
       "      <th>21</th>\n",
       "      <td>0.867282</td>\n",
       "      <td>0.788213</td>\n",
       "      <td>-0.079069</td>\n",
       "      <td>0.199924</td>\n",
       "      <td>244</td>\n",
       "      <td>-1</td>\n",
       "      <td>0.771317</td>\n",
       "      <td>0.845434</td>\n",
       "      <td>17.661697</td>\n",
       "      <td>0.703127</td>\n",
       "      <td>0.001126</td>\n",
       "      <td>0.073493</td>\n",
       "      <td>29.750799</td>\n",
       "      <td>265027</td>\n",
       "      <td>5</td>\n",
       "      <td>59935</td>\n",
       "    </tr>\n",
       "    <tr>\n",
       "      <th>27</th>\n",
       "      <td>0.854132</td>\n",
       "      <td>0.772861</td>\n",
       "      <td>-0.081271</td>\n",
       "      <td>0.139607</td>\n",
       "      <td>195</td>\n",
       "      <td>-1</td>\n",
       "      <td>0.830749</td>\n",
       "      <td>0.878033</td>\n",
       "      <td>105.406390</td>\n",
       "      <td>2.597542</td>\n",
       "      <td>0.007144</td>\n",
       "      <td>0.050528</td>\n",
       "      <td>19.656932</td>\n",
       "      <td>181608</td>\n",
       "      <td>8</td>\n",
       "      <td>44386</td>\n",
       "    </tr>\n",
       "    <tr>\n",
       "      <th>3</th>\n",
       "      <td>0.828695</td>\n",
       "      <td>0.744875</td>\n",
       "      <td>-0.083820</td>\n",
       "      <td>0.119879</td>\n",
       "      <td>20</td>\n",
       "      <td>-1</td>\n",
       "      <td>0.848846</td>\n",
       "      <td>0.919838</td>\n",
       "      <td>130.135062</td>\n",
       "      <td>0.032927</td>\n",
       "      <td>0.017685</td>\n",
       "      <td>0.077313</td>\n",
       "      <td>44.179315</td>\n",
       "      <td>293465</td>\n",
       "      <td>4</td>\n",
       "      <td>13653</td>\n",
       "    </tr>\n",
       "    <tr>\n",
       "      <th>12</th>\n",
       "      <td>0.825225</td>\n",
       "      <td>0.729432</td>\n",
       "      <td>-0.095793</td>\n",
       "      <td>0.195625</td>\n",
       "      <td>162</td>\n",
       "      <td>-1</td>\n",
       "      <td>0.753016</td>\n",
       "      <td>0.866218</td>\n",
       "      <td>7.034399</td>\n",
       "      <td>0.237329</td>\n",
       "      <td>0.016565</td>\n",
       "      <td>0.181757</td>\n",
       "      <td>99.990674</td>\n",
       "      <td>245236</td>\n",
       "      <td>4</td>\n",
       "      <td>11677</td>\n",
       "    </tr>\n",
       "    <tr>\n",
       "      <th>19</th>\n",
       "      <td>0.803516</td>\n",
       "      <td>0.703696</td>\n",
       "      <td>-0.099820</td>\n",
       "      <td>0.197390</td>\n",
       "      <td>246</td>\n",
       "      <td>-1</td>\n",
       "      <td>0.752968</td>\n",
       "      <td>0.821667</td>\n",
       "      <td>24.622476</td>\n",
       "      <td>1.482943</td>\n",
       "      <td>0.001500</td>\n",
       "      <td>0.011421</td>\n",
       "      <td>34.836878</td>\n",
       "      <td>212808</td>\n",
       "      <td>5</td>\n",
       "      <td>914</td>\n",
       "    </tr>\n",
       "    <tr>\n",
       "      <th>10</th>\n",
       "      <td>0.833638</td>\n",
       "      <td>0.732377</td>\n",
       "      <td>-0.101261</td>\n",
       "      <td>0.191728</td>\n",
       "      <td>160</td>\n",
       "      <td>-1</td>\n",
       "      <td>0.790427</td>\n",
       "      <td>0.863413</td>\n",
       "      <td>42.049639</td>\n",
       "      <td>0.160074</td>\n",
       "      <td>0.092314</td>\n",
       "      <td>0.292156</td>\n",
       "      <td>90.766433</td>\n",
       "      <td>230791</td>\n",
       "      <td>3</td>\n",
       "      <td>29949</td>\n",
       "    </tr>\n",
       "    <tr>\n",
       "      <th>11</th>\n",
       "      <td>0.818167</td>\n",
       "      <td>0.687646</td>\n",
       "      <td>-0.130521</td>\n",
       "      <td>0.190794</td>\n",
       "      <td>151</td>\n",
       "      <td>-1</td>\n",
       "      <td>0.750622</td>\n",
       "      <td>0.861701</td>\n",
       "      <td>21.148073</td>\n",
       "      <td>0.188048</td>\n",
       "      <td>0.098846</td>\n",
       "      <td>0.265975</td>\n",
       "      <td>98.191717</td>\n",
       "      <td>234253</td>\n",
       "      <td>3</td>\n",
       "      <td>5457</td>\n",
       "    </tr>\n",
       "    <tr>\n",
       "      <th>15</th>\n",
       "      <td>0.819580</td>\n",
       "      <td>0.684774</td>\n",
       "      <td>-0.134806</td>\n",
       "      <td>0.197551</td>\n",
       "      <td>184</td>\n",
       "      <td>-1</td>\n",
       "      <td>0.786510</td>\n",
       "      <td>0.836792</td>\n",
       "      <td>12.711096</td>\n",
       "      <td>0.730420</td>\n",
       "      <td>0.005195</td>\n",
       "      <td>0.127569</td>\n",
       "      <td>99.445427</td>\n",
       "      <td>184940</td>\n",
       "      <td>7</td>\n",
       "      <td>7796</td>\n",
       "    </tr>\n",
       "    <tr>\n",
       "      <th>22</th>\n",
       "      <td>0.805399</td>\n",
       "      <td>0.652767</td>\n",
       "      <td>-0.152631</td>\n",
       "      <td>0.151457</td>\n",
       "      <td>189</td>\n",
       "      <td>-1</td>\n",
       "      <td>0.802126</td>\n",
       "      <td>0.882914</td>\n",
       "      <td>22.157258</td>\n",
       "      <td>2.544508</td>\n",
       "      <td>0.002068</td>\n",
       "      <td>0.010707</td>\n",
       "      <td>25.971893</td>\n",
       "      <td>178566</td>\n",
       "      <td>7</td>\n",
       "      <td>445</td>\n",
       "    </tr>\n",
       "    <tr>\n",
       "      <th>23</th>\n",
       "      <td>0.800654</td>\n",
       "      <td>0.629110</td>\n",
       "      <td>-0.171545</td>\n",
       "      <td>0.149633</td>\n",
       "      <td>253</td>\n",
       "      <td>-1</td>\n",
       "      <td>0.810226</td>\n",
       "      <td>0.880606</td>\n",
       "      <td>28.917934</td>\n",
       "      <td>2.619014</td>\n",
       "      <td>0.001625</td>\n",
       "      <td>0.013094</td>\n",
       "      <td>23.690891</td>\n",
       "      <td>141794</td>\n",
       "      <td>5</td>\n",
       "      <td>367</td>\n",
       "    </tr>\n",
       "    <tr>\n",
       "      <th>28</th>\n",
       "      <td>0.797092</td>\n",
       "      <td>0.622252</td>\n",
       "      <td>-0.174840</td>\n",
       "      <td>0.109404</td>\n",
       "      <td>253</td>\n",
       "      <td>-1</td>\n",
       "      <td>0.864797</td>\n",
       "      <td>0.911995</td>\n",
       "      <td>37.481105</td>\n",
       "      <td>2.958101</td>\n",
       "      <td>0.001539</td>\n",
       "      <td>0.010541</td>\n",
       "      <td>35.064530</td>\n",
       "      <td>102259</td>\n",
       "      <td>5</td>\n",
       "      <td>442</td>\n",
       "    </tr>\n",
       "  </tbody>\n",
       "</table>\n",
       "</div>"
      ],
      "text/plain": [
       "    mse_test  mse_train  diff_mse  learning_rate  num_leaves  max_depth  \\\n",
       "2   0.899103   0.858823 -0.040280       0.150743          99         -1   \n",
       "18  0.884908   0.834186 -0.050722       0.171767         203         -1   \n",
       "26  0.881271   0.830003 -0.051268       0.157487         253         -1   \n",
       "13  0.883272   0.829824 -0.053448       0.196099         173         -1   \n",
       "14  0.872304   0.811430 -0.060874       0.171667         105         -1   \n",
       "25  0.868358   0.799586 -0.068773       0.127179         222         -1   \n",
       "8   0.858012   0.789038 -0.068974       0.099031          41         -1   \n",
       "21  0.867282   0.788213 -0.079069       0.199924         244         -1   \n",
       "27  0.854132   0.772861 -0.081271       0.139607         195         -1   \n",
       "3   0.828695   0.744875 -0.083820       0.119879          20         -1   \n",
       "12  0.825225   0.729432 -0.095793       0.195625         162         -1   \n",
       "19  0.803516   0.703696 -0.099820       0.197390         246         -1   \n",
       "10  0.833638   0.732377 -0.101261       0.191728         160         -1   \n",
       "11  0.818167   0.687646 -0.130521       0.190794         151         -1   \n",
       "15  0.819580   0.684774 -0.134806       0.197551         184         -1   \n",
       "22  0.805399   0.652767 -0.152631       0.151457         189         -1   \n",
       "23  0.800654   0.629110 -0.171545       0.149633         253         -1   \n",
       "28  0.797092   0.622252 -0.174840       0.109404         253         -1   \n",
       "\n",
       "    subsample  colsample_bytree  min_child_weight  reg_alpha  reg_lambda  \\\n",
       "2    0.851512          0.904640        166.733067   0.001546    0.841480   \n",
       "18   0.784913          0.891926         69.371391   0.563530    0.045833   \n",
       "26   0.802838          0.997099         56.968814   1.499633    0.002645   \n",
       "13   0.756643          0.855126          1.272967   2.438602    0.134115   \n",
       "14   0.775231          0.869084         32.893320   0.307044    0.001026   \n",
       "25   0.850921          0.939240         32.789977   2.984969    0.001563   \n",
       "8    0.820257          0.801635         86.922991   0.030942    0.004120   \n",
       "21   0.771317          0.845434         17.661697   0.703127    0.001126   \n",
       "27   0.830749          0.878033        105.406390   2.597542    0.007144   \n",
       "3    0.848846          0.919838        130.135062   0.032927    0.017685   \n",
       "12   0.753016          0.866218          7.034399   0.237329    0.016565   \n",
       "19   0.752968          0.821667         24.622476   1.482943    0.001500   \n",
       "10   0.790427          0.863413         42.049639   0.160074    0.092314   \n",
       "11   0.750622          0.861701         21.148073   0.188048    0.098846   \n",
       "15   0.786510          0.836792         12.711096   0.730420    0.005195   \n",
       "22   0.802126          0.882914         22.157258   2.544508    0.002068   \n",
       "23   0.810226          0.880606         28.917934   2.619014    0.001625   \n",
       "28   0.864797          0.911995         37.481105   2.958101    0.001539   \n",
       "\n",
       "    min_split_gain  max_delta_step  subsample_for_bin  subsample_freq  \\\n",
       "2         0.016605       49.241413             291564               6   \n",
       "18        0.635907       78.023973             167154               7   \n",
       "26        0.024521       23.517478             156326               7   \n",
       "13        0.336300       99.655457             239695               3   \n",
       "14        0.383568       88.012562             247123               4   \n",
       "25        0.010348        2.890119             135921               5   \n",
       "8         0.036697       48.209465             291028               1   \n",
       "21        0.073493       29.750799             265027               5   \n",
       "27        0.050528       19.656932             181608               8   \n",
       "3         0.077313       44.179315             293465               4   \n",
       "12        0.181757       99.990674             245236               4   \n",
       "19        0.011421       34.836878             212808               5   \n",
       "10        0.292156       90.766433             230791               3   \n",
       "11        0.265975       98.191717             234253               3   \n",
       "15        0.127569       99.445427             184940               7   \n",
       "22        0.010707       25.971893             178566               7   \n",
       "23        0.013094       23.690891             141794               5   \n",
       "28        0.010541       35.064530             102259               5   \n",
       "\n",
       "    min_data_in_leaf  \n",
       "2             133294  \n",
       "18             98282  \n",
       "26             95851  \n",
       "13             95806  \n",
       "14             73347  \n",
       "25             59710  \n",
       "8              39542  \n",
       "21             59935  \n",
       "27             44386  \n",
       "3              13653  \n",
       "12             11677  \n",
       "19               914  \n",
       "10             29949  \n",
       "11              5457  \n",
       "15              7796  \n",
       "22               445  \n",
       "23               367  \n",
       "28               442  "
      ]
     },
     "execution_count": 42,
     "metadata": {},
     "output_type": "execute_result"
    }
   ],
   "source": [
    "k"
   ]
  },
  {
   "cell_type": "code",
   "execution_count": 48,
   "metadata": {
    "ExecuteTime": {
     "end_time": "2020-06-25T19:31:12.840268Z",
     "start_time": "2020-06-25T19:31:12.833397Z"
    }
   },
   "outputs": [
    {
     "data": {
      "text/plain": [
       "{'random_state': 42,\n",
       " 'n_jobs': 60,\n",
       " 'n_estimators': 1000,\n",
       " 'learning_rate': 0.10940414868293571,\n",
       " 'num_leaves': 253,\n",
       " 'max_depth': -1,\n",
       " 'subsample': 0.8647972293106071,\n",
       " 'colsample_bytree': 0.9119952348272526,\n",
       " 'min_child_weight': 37.481104606983166,\n",
       " 'reg_alpha': 2.958101388986032,\n",
       " 'reg_lambda': 0.0015385349766620054,\n",
       " 'min_split_gain': 0.010540968582577605,\n",
       " 'max_delta_step': 35.0645297176416,\n",
       " 'subsample_for_bin': 102259,\n",
       " 'subsample_freq': 5,\n",
       " 'min_data_in_leaf': 442}"
      ]
     },
     "execution_count": 48,
     "metadata": {},
     "output_type": "execute_result"
    }
   ],
   "source": [
    "best_eval = 28\n",
    "\n",
    "best_params = {'random_state': SEED\n",
    "               , 'n_jobs' : NJOBS\n",
    "               , 'n_estimators': N_EST\n",
    "              }\n",
    "best_params.update(dict(info_opt_all.drop(['mse_test', 'mse_train', 'diff_mse'], axis=1).loc[best_eval,:]))\n",
    "for k, v in best_params.items():\n",
    "    if k in INT_PARAMS:\n",
    "        best_params[k] = int(v)\n",
    "best_params"
   ]
  },
  {
   "cell_type": "code",
   "execution_count": 49,
   "metadata": {
    "ExecuteTime": {
     "end_time": "2020-06-25T19:33:31.053643Z",
     "start_time": "2020-06-25T19:31:15.877468Z"
    }
   },
   "outputs": [
    {
     "name": "stdout",
     "output_type": "stream",
     "text": [
      "Training until validation scores don't improve for 100 rounds\n",
      "[200]\ttraining's rmse: 0.77559\ttraining's l2: 0.60154\tvalid_1's rmse: 0.893832\tvalid_1's l2: 0.798935\n",
      "Early stopping, best iteration is:\n",
      "[145]\ttraining's rmse: 0.788829\ttraining's l2: 0.622252\tvalid_1's rmse: 0.8928\tvalid_1's l2: 0.797092\n"
     ]
    },
    {
     "data": {
      "text/plain": [
       "LGBMRegressor(boosting_type='gbdt', class_weight=None,\n",
       "              colsample_bytree=0.9119952348272526, importance_type='split',\n",
       "              learning_rate=0.10940414868293571,\n",
       "              max_delta_step=35.0645297176416, max_depth=-1,\n",
       "              min_child_samples=20, min_child_weight=37.481104606983166,\n",
       "              min_data_in_leaf=442, min_split_gain=0.010540968582577605,\n",
       "              n_estimators=3000, n_jobs=60, num_leaves=253, objective=None,\n",
       "              random_state=42, reg_alpha=2.958101388986032,\n",
       "              reg_lambda=0.0015385349766620054, silent=True,\n",
       "              subsample=0.8647972293106071, subsample_for_bin=102259,\n",
       "              subsample_freq=5)"
      ]
     },
     "execution_count": 49,
     "metadata": {},
     "output_type": "execute_result"
    }
   ],
   "source": [
    "best_params['n_estimators'] = 3000\n",
    "lgb = LGBMRegressor(**best_params)\n",
    "lgb.fit(Xtrain_part, ytrain_part, eval_metric=['rmse'], verbose=200, early_stopping_rounds=100\n",
    "             , eval_set=[(Xtrain_part, ytrain_part), (Xval, yval)])"
   ]
  },
  {
   "cell_type": "markdown",
   "metadata": {},
   "source": [
    "**Fit on all sample**"
   ]
  },
  {
   "cell_type": "code",
   "execution_count": 50,
   "metadata": {
    "ExecuteTime": {
     "end_time": "2020-06-25T19:35:10.209819Z",
     "start_time": "2020-06-25T19:33:31.055427Z"
    }
   },
   "outputs": [
    {
     "name": "stdout",
     "output_type": "stream",
     "text": [
      "Training until validation scores don't improve for 100 rounds\n",
      "[100]\ttraining's rmse: 0.803613\ttraining's l2: 0.645793\n",
      "Did not meet early stopping. Best iteration is:\n",
      "[145]\ttraining's rmse: 0.790121\ttraining's l2: 0.624291\n"
     ]
    },
    {
     "data": {
      "text/plain": [
       "LGBMRegressor(boosting_type='gbdt', class_weight=None,\n",
       "              colsample_bytree=0.9119952348272526, importance_type='split',\n",
       "              learning_rate=0.10940414868293571,\n",
       "              max_delta_step=35.0645297176416, max_depth=-1,\n",
       "              min_child_samples=20, min_child_weight=37.481104606983166,\n",
       "              min_data_in_leaf=442, min_split_gain=0.010540968582577605,\n",
       "              n_estimators=145, n_jobs=60, num_leaves=253, objective=None,\n",
       "              random_state=42, reg_alpha=2.958101388986032,\n",
       "              reg_lambda=0.0015385349766620054, silent=True,\n",
       "              subsample=0.8647972293106071, subsample_for_bin=102259,\n",
       "              subsample_freq=5)"
      ]
     },
     "execution_count": 50,
     "metadata": {},
     "output_type": "execute_result"
    }
   ],
   "source": [
    "best_params['n_estimators'] = 145\n",
    "lgb_best = LGBMRegressor(**best_params)\n",
    "lgb_best.fit(Xtrain, ytrain, eval_metric=['rmse'], verbose=100, early_stopping_rounds=100\n",
    "             , eval_set=[(Xtrain, ytrain)])"
   ]
  },
  {
   "cell_type": "code",
   "execution_count": 79,
   "metadata": {
    "ExecuteTime": {
     "end_time": "2020-06-25T19:53:58.227215Z",
     "start_time": "2020-06-25T19:53:57.992530Z"
    }
   },
   "outputs": [],
   "source": [
    "ans = pd.DataFrame({'item_cnt_month': lgb_best.predict(Xtest)})\n",
    "ans['item_cnt_month'] = ans['item_cnt_month'].clip(0, 20)"
   ]
  },
  {
   "cell_type": "code",
   "execution_count": 80,
   "metadata": {
    "ExecuteTime": {
     "end_time": "2020-06-25T19:54:01.092324Z",
     "start_time": "2020-06-25T19:54:00.632762Z"
    }
   },
   "outputs": [],
   "source": [
    "ans.insert(0, 'ID', ans.index)\n",
    "ans.to_csv(DATA_DIR / 'final_ans_best_28_145.csv', index=False)\n",
    "# 28 - 0.927244 - 145 trees (private is 0.916828)"
   ]
  },
  {
   "cell_type": "code",
   "execution_count": 81,
   "metadata": {
    "ExecuteTime": {
     "end_time": "2020-06-25T19:54:06.227923Z",
     "start_time": "2020-06-25T19:54:06.195265Z"
    }
   },
   "outputs": [],
   "source": [
    "#scores from 7_shap_vaues\n",
    "xgbbest_ans = pd.read_csv(DATA_DIR / 'final_ans_7_2.csv')"
   ]
  },
  {
   "cell_type": "code",
   "execution_count": 83,
   "metadata": {
    "ExecuteTime": {
     "end_time": "2020-06-25T19:54:43.825458Z",
     "start_time": "2020-06-25T19:54:43.819329Z"
    }
   },
   "outputs": [],
   "source": [
    "ans['item_cnt_month'] += xgbbest_ans['item_cnt_month']\n",
    "ans['item_cnt_month'] /= 2"
   ]
  },
  {
   "cell_type": "code",
   "execution_count": 85,
   "metadata": {
    "ExecuteTime": {
     "end_time": "2020-06-25T19:55:10.978350Z",
     "start_time": "2020-06-25T19:55:10.520639Z"
    }
   },
   "outputs": [],
   "source": [
    "ans.to_csv(DATA_DIR / 'final_ans_lgb_xgb.csv', index=False)\n",
    "#0.926215"
   ]
  },
  {
   "cell_type": "code",
   "execution_count": null,
   "metadata": {},
   "outputs": [],
   "source": []
  }
 ],
 "metadata": {
  "kernelspec": {
   "display_name": "Python 3.6",
   "language": "python36",
   "name": "python3.6"
  },
  "language_info": {
   "codemirror_mode": {
    "name": "ipython",
    "version": 3
   },
   "file_extension": ".py",
   "mimetype": "text/x-python",
   "name": "python",
   "nbconvert_exporter": "python",
   "pygments_lexer": "ipython3",
   "version": "3.6.8"
  }
 },
 "nbformat": 4,
 "nbformat_minor": 2
}
