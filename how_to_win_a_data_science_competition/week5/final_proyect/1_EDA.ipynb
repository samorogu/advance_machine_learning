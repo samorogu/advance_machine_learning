{
 "cells": [
  {
   "cell_type": "code",
   "execution_count": 1,
   "metadata": {
    "ExecuteTime": {
     "end_time": "2020-06-26T08:59:04.467065Z",
     "start_time": "2020-06-26T08:59:03.772737Z"
    }
   },
   "outputs": [],
   "source": [
    "import numpy as np\n",
    "import pandas as pd\n",
    "import matplotlib.pyplot as plt\n",
    "import seaborn as sns\n",
    "import getpass\n",
    "\n",
    "import os\n",
    "from pathlib import Path\n",
    "\n",
    "import itertools\n",
    "\n",
    "from collections import Counter"
   ]
  },
  {
   "cell_type": "code",
   "execution_count": 210,
   "metadata": {
    "ExecuteTime": {
     "end_time": "2020-06-22T20:24:23.011140Z",
     "start_time": "2020-06-22T20:24:23.007186Z"
    }
   },
   "outputs": [],
   "source": [
    "def get_stat_outliers(sample, k=1.5, q_bottom=0.25, q_top=0.75, method='iqr'):\n",
    "    '''Identifying outliers with the kxIQR rule or percentiles only\n",
    "    Parameters:\n",
    "        sample - series\n",
    "        k - coefficient from IQR rule, default 1.5\n",
    "        method - ‘iqr‘ or ‘quantiles‘ depending if iqr rule is used or not.\n",
    "        If not then values about given quantiles returned\n",
    "        q_bottom, q_top - bottom and top quantiles respectively\n",
    "    '''\n",
    "    \n",
    "    q_bottom, q_top = sample.quantile([q_bottom, q_top])\n",
    "    \n",
    "    if method == 'quantiles':\n",
    "        return q_bottom, q_top\n",
    "    \n",
    "    iqr = q_top - q_bottom\n",
    "    min_iqr = q_bottom - k * iqr\n",
    "    max_iqr = q_top + k * iqr\n",
    "    \n",
    "    return min_iqr, max_iqr"
   ]
  },
  {
   "cell_type": "code",
   "execution_count": 211,
   "metadata": {
    "ExecuteTime": {
     "end_time": "2020-06-22T20:24:23.219621Z",
     "start_time": "2020-06-22T20:24:23.216499Z"
    }
   },
   "outputs": [],
   "source": [
    "sns.set(style='darkgrid')"
   ]
  },
  {
   "cell_type": "code",
   "execution_count": 212,
   "metadata": {
    "ExecuteTime": {
     "end_time": "2020-06-22T20:24:25.486642Z",
     "start_time": "2020-06-22T20:24:24.483730Z"
    }
   },
   "outputs": [],
   "source": [
    "DATA_DIR = Path('/data', getpass.getuser(), 'kaggle', 'future_sales') #path to data files\n",
    "\n",
    "sales = pd.read_csv(DATA_DIR / 'sales_train.csv')\n",
    "items = pd.read_csv(DATA_DIR / 'items.csv')\n",
    "item_categories = pd.read_csv(DATA_DIR / 'item_categories.csv')\n",
    "shops = pd.read_csv(DATA_DIR /'shops.csv')\n",
    "\n",
    "test = pd.read_csv(DATA_DIR / 'test.csv').set_index('ID')"
   ]
  },
  {
   "cell_type": "code",
   "execution_count": 213,
   "metadata": {
    "ExecuteTime": {
     "end_time": "2020-06-22T20:24:25.491471Z",
     "start_time": "2020-06-22T20:24:25.488267Z"
    }
   },
   "outputs": [
    {
     "data": {
      "text/plain": [
       "Index(['shop_id', 'item_id'], dtype='object')"
      ]
     },
     "execution_count": 213,
     "metadata": {},
     "output_type": "execute_result"
    }
   ],
   "source": [
    "test.columns"
   ]
  },
  {
   "cell_type": "code",
   "execution_count": 214,
   "metadata": {
    "ExecuteTime": {
     "end_time": "2020-06-22T20:24:25.495685Z",
     "start_time": "2020-06-22T20:24:25.493002Z"
    }
   },
   "outputs": [
    {
     "data": {
      "text/plain": [
       "Index(['item_name', 'item_id', 'item_category_id'], dtype='object')"
      ]
     },
     "execution_count": 214,
     "metadata": {},
     "output_type": "execute_result"
    }
   ],
   "source": [
    "items.columns"
   ]
  },
  {
   "cell_type": "code",
   "execution_count": 215,
   "metadata": {
    "ExecuteTime": {
     "end_time": "2020-06-22T20:24:25.725348Z",
     "start_time": "2020-06-22T20:24:25.722231Z"
    }
   },
   "outputs": [
    {
     "data": {
      "text/plain": [
       "(2935849, 6)"
      ]
     },
     "execution_count": 215,
     "metadata": {},
     "output_type": "execute_result"
    }
   ],
   "source": [
    "sales.shape"
   ]
  },
  {
   "cell_type": "code",
   "execution_count": 216,
   "metadata": {
    "ExecuteTime": {
     "end_time": "2020-06-22T20:24:30.971549Z",
     "start_time": "2020-06-22T20:24:29.186059Z"
    }
   },
   "outputs": [
    {
     "data": {
      "text/plain": [
       "(2935849, 10)"
      ]
     },
     "execution_count": 216,
     "metadata": {},
     "output_type": "execute_result"
    }
   ],
   "source": [
    "all_data = sales.merge(items, on='item_id')\n",
    "all_data = all_data.merge(shops, on='shop_id')\n",
    "all_data = all_data.merge(item_categories, on='item_category_id')\n",
    "all_data.shape"
   ]
  },
  {
   "cell_type": "markdown",
   "metadata": {},
   "source": [
    "**Analysis**"
   ]
  },
  {
   "cell_type": "code",
   "execution_count": 160,
   "metadata": {
    "ExecuteTime": {
     "end_time": "2020-06-22T18:49:26.954118Z",
     "start_time": "2020-06-22T18:49:26.942414Z"
    }
   },
   "outputs": [
    {
     "data": {
      "text/html": [
       "<div>\n",
       "<style scoped>\n",
       "    .dataframe tbody tr th:only-of-type {\n",
       "        vertical-align: middle;\n",
       "    }\n",
       "\n",
       "    .dataframe tbody tr th {\n",
       "        vertical-align: top;\n",
       "    }\n",
       "\n",
       "    .dataframe thead th {\n",
       "        text-align: right;\n",
       "    }\n",
       "</style>\n",
       "<table border=\"1\" class=\"dataframe\">\n",
       "  <thead>\n",
       "    <tr style=\"text-align: right;\">\n",
       "      <th></th>\n",
       "      <th>date</th>\n",
       "      <th>date_block_num</th>\n",
       "      <th>shop_id</th>\n",
       "      <th>item_id</th>\n",
       "      <th>item_price</th>\n",
       "      <th>item_cnt_day</th>\n",
       "      <th>item_name</th>\n",
       "      <th>item_category_id</th>\n",
       "      <th>shop_name</th>\n",
       "      <th>item_category_name</th>\n",
       "    </tr>\n",
       "  </thead>\n",
       "  <tbody>\n",
       "    <tr>\n",
       "      <th>0</th>\n",
       "      <td>02.01.2013</td>\n",
       "      <td>0</td>\n",
       "      <td>59</td>\n",
       "      <td>22154</td>\n",
       "      <td>999.00</td>\n",
       "      <td>1.00</td>\n",
       "      <td>ЯВЛЕНИЕ 2012 (BD)</td>\n",
       "      <td>37</td>\n",
       "      <td>Ярославль ТЦ \"Альтаир\"</td>\n",
       "      <td>Кино - Blu-Ray</td>\n",
       "    </tr>\n",
       "    <tr>\n",
       "      <th>1</th>\n",
       "      <td>26.04.2013</td>\n",
       "      <td>3</td>\n",
       "      <td>59</td>\n",
       "      <td>944</td>\n",
       "      <td>150.00</td>\n",
       "      <td>1.00</td>\n",
       "      <td>2012 (BD)</td>\n",
       "      <td>37</td>\n",
       "      <td>Ярославль ТЦ \"Альтаир\"</td>\n",
       "      <td>Кино - Blu-Ray</td>\n",
       "    </tr>\n",
       "  </tbody>\n",
       "</table>\n",
       "</div>"
      ],
      "text/plain": [
       "         date  date_block_num  shop_id  item_id  item_price  item_cnt_day  \\\n",
       "0  02.01.2013               0       59    22154      999.00          1.00   \n",
       "1  26.04.2013               3       59      944      150.00          1.00   \n",
       "\n",
       "           item_name  item_category_id               shop_name  \\\n",
       "0  ЯВЛЕНИЕ 2012 (BD)                37  Ярославль ТЦ \"Альтаир\"   \n",
       "1          2012 (BD)                37  Ярославль ТЦ \"Альтаир\"   \n",
       "\n",
       "  item_category_name  \n",
       "0     Кино - Blu-Ray  \n",
       "1     Кино - Blu-Ray  "
      ]
     },
     "execution_count": 160,
     "metadata": {},
     "output_type": "execute_result"
    }
   ],
   "source": [
    "all_data.head(2)"
   ]
  },
  {
   "cell_type": "code",
   "execution_count": 102,
   "metadata": {
    "ExecuteTime": {
     "end_time": "2020-06-18T17:46:13.701770Z",
     "start_time": "2020-06-18T17:46:13.666815Z"
    }
   },
   "outputs": [
    {
     "name": "stdout",
     "output_type": "stream",
     "text": [
      "21807 | 84 | 60\n"
     ]
    }
   ],
   "source": [
    "#count unique elements\n",
    "print(all_data['item_id'].unique().shape[0], all_data['item_category_id'].unique().shape[0]\n",
    "      , all_data['shop_id'].unique().shape[0], sep=' | ')"
   ]
  },
  {
   "cell_type": "code",
   "execution_count": 170,
   "metadata": {
    "ExecuteTime": {
     "end_time": "2020-06-22T18:55:01.344044Z",
     "start_time": "2020-06-22T18:54:55.785244Z"
    }
   },
   "outputs": [
    {
     "data": {
      "image/png": "[encoded data removed]",
      "text/plain": [
       "<Figure size 1440x504 with 1 Axes>"
      ]
     },
     "metadata": {},
     "output_type": "display_data"
    }
   ],
   "source": [
    "plt.figure(figsize=(20,7))\n",
    "plt.plot(all_data['item_cnt_day'], marker='.')\n",
    "plt.show()"
   ]
  },
  {
   "cell_type": "code",
   "execution_count": 208,
   "metadata": {
    "ExecuteTime": {
     "end_time": "2020-06-22T19:04:20.124686Z",
     "start_time": "2020-06-22T19:04:19.648659Z"
    }
   },
   "outputs": [
    {
     "name": "stdout",
     "output_type": "stream",
     "text": [
      "(1.0, 2629372) (2.0, 194201) 2935849\n",
      "2823573 2935849\n"
     ]
    }
   ],
   "source": [
    "xx = sorted(Counter(all_data['item_cnt_day']).items(), key=lambda x: x[1], reverse=True)\n",
    "#check most popular val and number of objects in data\n",
    "print(xx[0], xx[1], all_data.shape[0])\n",
    "print(xx[0][1] + xx[1][1], all_data.shape[0])"
   ]
  },
  {
   "cell_type": "markdown",
   "metadata": {},
   "source": [
    "We can see that cnt=1 is the biggest cnt of sales"
   ]
  },
  {
   "cell_type": "markdown",
   "metadata": {},
   "source": [
    "**Look at shop**"
   ]
  },
  {
   "cell_type": "code",
   "execution_count": 103,
   "metadata": {
    "ExecuteTime": {
     "end_time": "2020-06-18T17:46:21.488029Z",
     "start_time": "2020-06-18T17:46:14.654136Z"
    }
   },
   "outputs": [
    {
     "name": "stdout",
     "output_type": "stream",
     "text": [
      "!Якутск Орджоникидзе, 56 фран                   - 0\t!Якутск ТЦ \"Центральный\" фран            - 1\n",
      "Адыгея ТЦ \"Мега\"                                - 2\tБалашиха ТРК \"Октябрь-Киномир\"           - 3\n",
      "Волжский ТЦ \"Волга Молл\"                        - 4\tВологда ТРЦ \"Мармелад\"                   - 5\n",
      "Воронеж (Плехановская, 13)                      - 6\tВоронеж ТРЦ \"Максимир\"                   - 7\n",
      "Воронеж ТРЦ Сити-Парк \"Град\"                    - 8\tВыездная Торговля                        - 9\n",
      "Жуковский ул. Чкалова 39м?                      - 10\tЖуковский ул. Чкалова 39м²               - 11\n",
      "Интернет-магазин ЧС                             - 12\tКазань ТЦ \"Бехетле\"                      - 13\n",
      "Казань ТЦ \"ПаркХаус\" II                         - 14\tКалуга ТРЦ \"XXI век\"                     - 15\n",
      "Коломна ТЦ \"Рио\"                                - 16\tКрасноярск ТЦ \"Взлетка Плаза\"            - 17\n",
      "Красноярск ТЦ \"Июнь\"                            - 18\tКурск ТЦ \"Пушкинский\"                    - 19\n",
      "Москва \"Распродажа\"                             - 20\tМосква МТРЦ \"Афи Молл\"                   - 21\n",
      "Москва Магазин С21                              - 22\tМосква ТК \"Буденовский\" (пав.А2)         - 23\n",
      "Москва ТК \"Буденовский\" (пав.К7)                - 24\tМосква ТРК \"Атриум\"                      - 25\n",
      "Москва ТЦ \"Ареал\" (Беляево)                     - 26\tМосква ТЦ \"МЕГА Белая Дача II\"           - 27\n",
      "Москва ТЦ \"МЕГА Теплый Стан\" II                 - 28\tМосква ТЦ \"Новый век\" (Новокосино)       - 29\n",
      "Москва ТЦ \"Перловский\"                          - 30\tМосква ТЦ \"Семеновский\"                  - 31\n",
      "Москва ТЦ \"Серебряный Дом\"                      - 32\tМытищи ТРК \"XL-3\"                        - 33\n",
      "Н.Новгород ТРЦ \"РИО\"                            - 34\tН.Новгород ТРЦ \"Фантастика\"              - 35\n",
      "Новосибирск ТРЦ \"Галерея Новосибирск\"           - 36\tНовосибирск ТЦ \"Мега\"                    - 37\n",
      "Омск ТЦ \"Мега\"                                  - 38\tРостовНаДону ТРК \"Мегацентр Горизонт\"    - 39\n",
      "РостовНаДону ТРК \"Мегацентр Горизонт\" Островной - 40\tРостовНаДону ТЦ \"Мега\"                   - 41\n",
      "СПб ТК \"Невский Центр\"                          - 42\tСПб ТК \"Сенная\"                          - 43\n",
      "Самара ТЦ \"Мелодия\"                             - 44\tСамара ТЦ \"ПаркХаус\"                     - 45\n",
      "Сергиев Посад ТЦ \"7Я\"                           - 46\tСургут ТРЦ \"Сити Молл\"                   - 47\n",
      "Томск ТРЦ \"Изумрудный Город\"                    - 48\tТюмень ТРЦ \"Кристалл\"                    - 49\n",
      "Тюмень ТЦ \"Гудвин\"                              - 50\tТюмень ТЦ \"Зеленый Берег\"                - 51\n",
      "Уфа ТК \"Центральный\"                            - 52\tУфа ТЦ \"Семья\" 2                         - 53\n",
      "Химки ТЦ \"Мега\"                                 - 54\tЦифровой склад 1С-Онлайн                 - 55\n",
      "Чехов ТРЦ \"Карнавал\"                            - 56\tЯкутск Орджоникидзе, 56                  - 57\n",
      "Якутск ТЦ \"Центральный\"                         - 58\tЯрославль ТЦ \"Альтаир\"                   - 59\n"
     ]
    }
   ],
   "source": [
    "for i, shop in enumerate(sorted(all_data['shop_name'].unique())):\n",
    "    if (i+1) % 2:\n",
    "        print(f\"{shop:<47} - {all_data[all_data['shop_name']==shop]['shop_id'].to_numpy()[0]}\", end='\\t')\n",
    "    else:\n",
    "        print(f\"{shop:<40} - {all_data[all_data['shop_name']==shop]['shop_id'].to_numpy()[0]}\")"
   ]
  },
  {
   "cell_type": "markdown",
   "metadata": {
    "ExecuteTime": {
     "end_time": "2020-06-16T21:42:26.328975Z",
     "start_time": "2020-06-16T21:42:26.326079Z"
    }
   },
   "source": [
    "Can see that there're duplicated shop_names with different shop_id, so fix it:\n",
    "\n",
    "!Якутск Орджоникидзе, 56 фран | 0 = Якутск Орджоникидзе, 56 | 57\n",
    "\n",
    "!Якутск ТЦ \"Центральный\" фран | 1 = Якутск ТЦ \"Центральный\" | 58\n",
    "\n",
    "Жуковский ул. Чкалова 39м? | 10 = Жуковский ул. Чкалова 39м² | 11\n"
   ]
  },
  {
   "cell_type": "code",
   "execution_count": 104,
   "metadata": {
    "ExecuteTime": {
     "end_time": "2020-06-18T17:46:21.554784Z",
     "start_time": "2020-06-18T17:46:21.489832Z"
    }
   },
   "outputs": [],
   "source": [
    "all_data.loc[all_data['shop_id']==57, 'shop_id'] = 0\n",
    "all_data.loc[all_data['shop_id']==58, 'shop_id'] = 1\n",
    "all_data.loc[all_data['shop_id']==11, 'shop_id'] = 10"
   ]
  },
  {
   "cell_type": "markdown",
   "metadata": {},
   "source": [
    "_Feature that can be created from above info is city_"
   ]
  },
  {
   "cell_type": "code",
   "execution_count": 106,
   "metadata": {
    "ExecuteTime": {
     "end_time": "2020-06-18T17:46:50.539391Z",
     "start_time": "2020-06-18T17:46:42.180998Z"
    }
   },
   "outputs": [],
   "source": [
    "all_data['shop_city'] = all_data['shop_name'].apply(lambda x: x.lower()).str.replace('[^\\w\\s]', '').str.strip()\n",
    "all_data['shop_city'] = all_data['shop_city'].apply(lambda x: x.split()[0])"
   ]
  },
  {
   "cell_type": "markdown",
   "metadata": {},
   "source": [
    "**Look at categories**"
   ]
  },
  {
   "cell_type": "code",
   "execution_count": 107,
   "metadata": {
    "ExecuteTime": {
     "end_time": "2020-06-18T17:47:00.066820Z",
     "start_time": "2020-06-18T17:46:50.542156Z"
    }
   },
   "outputs": [
    {
     "name": "stdout",
     "output_type": "stream",
     "text": [
      "PC - Гарнитуры/Наушники                         - 0\tАксессуары - PS2                         - 1\n",
      "Аксессуары - PS3                                - 2\tАксессуары - PS4                         - 3\n",
      "Аксессуары - PSP                                - 4\tАксессуары - PSVita                      - 5\n",
      "Аксессуары - XBOX 360                           - 6\tАксессуары - XBOX ONE                    - 7\n",
      "Билеты (Цифра)                                  - 8\tДоставка товара                          - 9\n",
      "Игровые консоли - PS2                           - 10\tИгровые консоли - PS3                    - 11\n",
      "Игровые консоли - PS4                           - 12\tИгровые консоли - PSP                    - 13\n",
      "Игровые консоли - PSVita                        - 14\tИгровые консоли - XBOX 360               - 15\n",
      "Игровые консоли - XBOX ONE                      - 16\tИгровые консоли - Прочие                 - 17\n",
      "Игры - PS2                                      - 18\tИгры - PS3                               - 19\n",
      "Игры - PS4                                      - 20\tИгры - PSP                               - 21\n",
      "Игры - PSVita                                   - 22\tИгры - XBOX 360                          - 23\n",
      "Игры - XBOX ONE                                 - 24\tИгры - Аксессуары для игр                - 25\n",
      "Игры Android - Цифра                            - 26\tИгры MAC - Цифра                         - 27\n",
      "Игры PC - Дополнительные издания                - 28\tИгры PC - Коллекционные издания          - 29\n",
      "Игры PC - Стандартные издания                   - 30\tИгры PC - Цифра                          - 31\n",
      "Карты оплаты (Кино, Музыка, Игры)               - 32\tКарты оплаты - Live!                     - 33\n",
      "Карты оплаты - Live! (Цифра)                    - 34\tКарты оплаты - PSN                       - 35\n",
      "Карты оплаты - Windows (Цифра)                  - 36\tКино - Blu-Ray                           - 37\n",
      "Кино - Blu-Ray 3D                               - 38\tКино - Blu-Ray 4K                        - 39\n",
      "Кино - DVD                                      - 40\tКино - Коллекционное                     - 41\n",
      "Книги - Артбуки, энциклопедии                   - 42\tКниги - Аудиокниги                       - 43\n",
      "Книги - Аудиокниги (Цифра)                      - 44\tКниги - Аудиокниги 1С                    - 45\n",
      "Книги - Бизнес литература                       - 46\tКниги - Комиксы, манга                   - 47\n",
      "Книги - Компьютерная литература                 - 48\tКниги - Методические материалы 1С        - 49\n",
      "Книги - Открытки                                - 50\tКниги - Познавательная литература        - 51\n",
      "Книги - Путеводители                            - 52\tКниги - Художественная литература        - 53\n",
      "Книги - Цифра                                   - 54\tМузыка - CD локального производства      - 55\n",
      "Музыка - CD фирменного производства             - 56\tМузыка - MP3                             - 57\n",
      "Музыка - Винил                                  - 58\tМузыка - Музыкальное видео               - 59\n",
      "Музыка - Подарочные издания                     - 60\tПодарки - Атрибутика                     - 61\n",
      "Подарки - Гаджеты, роботы, спорт                - 62\tПодарки - Мягкие игрушки                 - 63\n",
      "Подарки - Настольные игры                       - 64\tПодарки - Настольные игры (компактные)   - 65\n",
      "Подарки - Открытки, наклейки                    - 66\tПодарки - Развитие                       - 67\n",
      "Подарки - Сертификаты, услуги                   - 68\tПодарки - Сувениры                       - 69\n",
      "Подарки - Сувениры (в навеску)                  - 70\tПодарки - Сумки, Альбомы, Коврики д/мыши - 71\n",
      "Подарки - Фигурки                               - 72\tПрограммы - 1С:Предприятие 8             - 73\n",
      "Программы - MAC (Цифра)                         - 74\tПрограммы - Для дома и офиса             - 75\n",
      "Программы - Для дома и офиса (Цифра)            - 76\tПрограммы - Обучающие                    - 77\n",
      "Программы - Обучающие (Цифра)                   - 78\tСлужебные                                - 79\n",
      "Служебные - Билеты                              - 80\tЧистые носители (шпиль)                  - 81\n",
      "Чистые носители (штучные)                       - 82\tЭлементы питания                         - 83\n"
     ]
    }
   ],
   "source": [
    "for i, shop in enumerate(sorted(all_data['item_category_name'].unique())):\n",
    "    if (i+1) % 2:\n",
    "        print(f\"{shop:<47} - {all_data[all_data['item_category_name']==shop]['item_category_id'].to_numpy()[0]}\", end='\\t')\n",
    "    else:\n",
    "        print(f\"{shop:<40} - {all_data[all_data['item_category_name']==shop]['item_category_id'].to_numpy()[0]}\")"
   ]
  },
  {
   "cell_type": "markdown",
   "metadata": {},
   "source": [
    "_Feature than can be created is a root category and a type of goods. For example, Игры и PS2_"
   ]
  },
  {
   "cell_type": "code",
   "execution_count": 108,
   "metadata": {
    "ExecuteTime": {
     "end_time": "2020-06-18T17:47:02.727925Z",
     "start_time": "2020-06-18T17:47:00.069046Z"
    }
   },
   "outputs": [],
   "source": [
    "all_data['item_section_name'] = all_data['item_category_name'].apply(lambda x: x.lower().split('-')[0].split()[0].strip())"
   ]
  },
  {
   "cell_type": "code",
   "execution_count": 109,
   "metadata": {
    "ExecuteTime": {
     "end_time": "2020-06-18T17:47:02.740605Z",
     "start_time": "2020-06-18T17:47:02.729722Z"
    }
   },
   "outputs": [
    {
     "data": {
      "text/html": [
       "<div>\n",
       "<style scoped>\n",
       "    .dataframe tbody tr th:only-of-type {\n",
       "        vertical-align: middle;\n",
       "    }\n",
       "\n",
       "    .dataframe tbody tr th {\n",
       "        vertical-align: top;\n",
       "    }\n",
       "\n",
       "    .dataframe thead th {\n",
       "        text-align: right;\n",
       "    }\n",
       "</style>\n",
       "<table border=\"1\" class=\"dataframe\">\n",
       "  <thead>\n",
       "    <tr style=\"text-align: right;\">\n",
       "      <th></th>\n",
       "      <th>date</th>\n",
       "      <th>date_block_num</th>\n",
       "      <th>shop_id</th>\n",
       "      <th>item_id</th>\n",
       "      <th>item_price</th>\n",
       "      <th>item_cnt_day</th>\n",
       "      <th>item_name</th>\n",
       "      <th>item_category_id</th>\n",
       "      <th>shop_name</th>\n",
       "      <th>item_category_name</th>\n",
       "      <th>shop_city</th>\n",
       "      <th>item_section_name</th>\n",
       "    </tr>\n",
       "  </thead>\n",
       "  <tbody>\n",
       "    <tr>\n",
       "      <th>0</th>\n",
       "      <td>02.01.2013</td>\n",
       "      <td>0</td>\n",
       "      <td>59</td>\n",
       "      <td>22154</td>\n",
       "      <td>999.00</td>\n",
       "      <td>1.00</td>\n",
       "      <td>ЯВЛЕНИЕ 2012 (BD)</td>\n",
       "      <td>37</td>\n",
       "      <td>Ярославль ТЦ \"Альтаир\"</td>\n",
       "      <td>Кино - Blu-Ray</td>\n",
       "      <td>ярославль</td>\n",
       "      <td>кино</td>\n",
       "    </tr>\n",
       "    <tr>\n",
       "      <th>1</th>\n",
       "      <td>26.04.2013</td>\n",
       "      <td>3</td>\n",
       "      <td>59</td>\n",
       "      <td>944</td>\n",
       "      <td>150.00</td>\n",
       "      <td>1.00</td>\n",
       "      <td>2012 (BD)</td>\n",
       "      <td>37</td>\n",
       "      <td>Ярославль ТЦ \"Альтаир\"</td>\n",
       "      <td>Кино - Blu-Ray</td>\n",
       "      <td>ярославль</td>\n",
       "      <td>кино</td>\n",
       "    </tr>\n",
       "  </tbody>\n",
       "</table>\n",
       "</div>"
      ],
      "text/plain": [
       "         date  date_block_num  shop_id  item_id  item_price  item_cnt_day  \\\n",
       "0  02.01.2013               0       59    22154      999.00          1.00   \n",
       "1  26.04.2013               3       59      944      150.00          1.00   \n",
       "\n",
       "           item_name  item_category_id               shop_name  \\\n",
       "0  ЯВЛЕНИЕ 2012 (BD)                37  Ярославль ТЦ \"Альтаир\"   \n",
       "1          2012 (BD)                37  Ярославль ТЦ \"Альтаир\"   \n",
       "\n",
       "  item_category_name  shop_city item_section_name  \n",
       "0     Кино - Blu-Ray  ярославль              кино  \n",
       "1     Кино - Blu-Ray  ярославль              кино  "
      ]
     },
     "execution_count": 109,
     "metadata": {},
     "output_type": "execute_result"
    }
   ],
   "source": [
    "all_data.head(2)"
   ]
  },
  {
   "cell_type": "code",
   "execution_count": 110,
   "metadata": {
    "ExecuteTime": {
     "end_time": "2020-06-18T17:47:02.744093Z",
     "start_time": "2020-06-18T17:47:02.742056Z"
    }
   },
   "outputs": [],
   "source": [
    "pd.set_option('display.float_format', lambda x: '%.2f' % x)"
   ]
  },
  {
   "cell_type": "code",
   "execution_count": 111,
   "metadata": {
    "ExecuteTime": {
     "end_time": "2020-06-18T17:47:03.578719Z",
     "start_time": "2020-06-18T17:47:02.745360Z"
    }
   },
   "outputs": [
    {
     "data": {
      "text/html": [
       "<div>\n",
       "<style scoped>\n",
       "    .dataframe tbody tr th:only-of-type {\n",
       "        vertical-align: middle;\n",
       "    }\n",
       "\n",
       "    .dataframe tbody tr th {\n",
       "        vertical-align: top;\n",
       "    }\n",
       "\n",
       "    .dataframe thead th {\n",
       "        text-align: right;\n",
       "    }\n",
       "</style>\n",
       "<table border=\"1\" class=\"dataframe\">\n",
       "  <thead>\n",
       "    <tr style=\"text-align: right;\">\n",
       "      <th></th>\n",
       "      <th>item_price</th>\n",
       "      <th>item_cnt_day</th>\n",
       "    </tr>\n",
       "  </thead>\n",
       "  <tbody>\n",
       "    <tr>\n",
       "      <th>count</th>\n",
       "      <td>2935849.00</td>\n",
       "      <td>2935849.00</td>\n",
       "    </tr>\n",
       "    <tr>\n",
       "      <th>mean</th>\n",
       "      <td>890.85</td>\n",
       "      <td>1.24</td>\n",
       "    </tr>\n",
       "    <tr>\n",
       "      <th>std</th>\n",
       "      <td>1729.80</td>\n",
       "      <td>2.62</td>\n",
       "    </tr>\n",
       "    <tr>\n",
       "      <th>min</th>\n",
       "      <td>-1.00</td>\n",
       "      <td>-22.00</td>\n",
       "    </tr>\n",
       "    <tr>\n",
       "      <th>25%</th>\n",
       "      <td>249.00</td>\n",
       "      <td>1.00</td>\n",
       "    </tr>\n",
       "    <tr>\n",
       "      <th>50%</th>\n",
       "      <td>399.00</td>\n",
       "      <td>1.00</td>\n",
       "    </tr>\n",
       "    <tr>\n",
       "      <th>75%</th>\n",
       "      <td>999.00</td>\n",
       "      <td>1.00</td>\n",
       "    </tr>\n",
       "    <tr>\n",
       "      <th>max</th>\n",
       "      <td>307980.00</td>\n",
       "      <td>2169.00</td>\n",
       "    </tr>\n",
       "  </tbody>\n",
       "</table>\n",
       "</div>"
      ],
      "text/plain": [
       "       item_price  item_cnt_day\n",
       "count  2935849.00    2935849.00\n",
       "mean       890.85          1.24\n",
       "std       1729.80          2.62\n",
       "min         -1.00        -22.00\n",
       "25%        249.00          1.00\n",
       "50%        399.00          1.00\n",
       "75%        999.00          1.00\n",
       "max     307980.00       2169.00"
      ]
     },
     "execution_count": 111,
     "metadata": {},
     "output_type": "execute_result"
    }
   ],
   "source": [
    "all_data[['item_price', 'item_cnt_day']].describe()"
   ]
  },
  {
   "cell_type": "code",
   "execution_count": 112,
   "metadata": {
    "ExecuteTime": {
     "end_time": "2020-06-18T17:47:03.593306Z",
     "start_time": "2020-06-18T17:47:03.580069Z"
    }
   },
   "outputs": [
    {
     "data": {
      "text/html": [
       "<div>\n",
       "<style scoped>\n",
       "    .dataframe tbody tr th:only-of-type {\n",
       "        vertical-align: middle;\n",
       "    }\n",
       "\n",
       "    .dataframe tbody tr th {\n",
       "        vertical-align: top;\n",
       "    }\n",
       "\n",
       "    .dataframe thead th {\n",
       "        text-align: right;\n",
       "    }\n",
       "</style>\n",
       "<table border=\"1\" class=\"dataframe\">\n",
       "  <thead>\n",
       "    <tr style=\"text-align: right;\">\n",
       "      <th></th>\n",
       "      <th>date</th>\n",
       "      <th>date_block_num</th>\n",
       "      <th>shop_id</th>\n",
       "      <th>item_id</th>\n",
       "      <th>item_price</th>\n",
       "      <th>item_cnt_day</th>\n",
       "      <th>item_name</th>\n",
       "      <th>item_category_id</th>\n",
       "      <th>shop_name</th>\n",
       "      <th>item_category_name</th>\n",
       "      <th>shop_city</th>\n",
       "      <th>item_section_name</th>\n",
       "    </tr>\n",
       "  </thead>\n",
       "  <tbody>\n",
       "    <tr>\n",
       "      <th>872646</th>\n",
       "      <td>15.05.2013</td>\n",
       "      <td>4</td>\n",
       "      <td>32</td>\n",
       "      <td>2973</td>\n",
       "      <td>-1.00</td>\n",
       "      <td>1.00</td>\n",
       "      <td>DmC Devil May Cry [PS3, русские субтитры]</td>\n",
       "      <td>19</td>\n",
       "      <td>Москва ТЦ \"Серебряный Дом\"</td>\n",
       "      <td>Игры - PS3</td>\n",
       "      <td>москва</td>\n",
       "      <td>игры</td>\n",
       "    </tr>\n",
       "  </tbody>\n",
       "</table>\n",
       "</div>"
      ],
      "text/plain": [
       "              date  date_block_num  shop_id  item_id  item_price  \\\n",
       "872646  15.05.2013               4       32     2973       -1.00   \n",
       "\n",
       "        item_cnt_day                                  item_name  \\\n",
       "872646          1.00  DmC Devil May Cry [PS3, русские субтитры]   \n",
       "\n",
       "        item_category_id                   shop_name item_category_name  \\\n",
       "872646                19  Москва ТЦ \"Серебряный Дом\"         Игры - PS3   \n",
       "\n",
       "       shop_city item_section_name  \n",
       "872646    москва              игры  "
      ]
     },
     "execution_count": 112,
     "metadata": {},
     "output_type": "execute_result"
    }
   ],
   "source": [
    "all_data[all_data['item_price'] <= 0]"
   ]
  },
  {
   "cell_type": "code",
   "execution_count": 113,
   "metadata": {
    "ExecuteTime": {
     "end_time": "2020-06-18T17:47:06.086520Z",
     "start_time": "2020-06-18T17:47:05.650604Z"
    }
   },
   "outputs": [],
   "source": [
    "#seems price less or eq zero is strange so i drop it\n",
    "all_data = all_data[all_data['item_price'] > 0]"
   ]
  },
  {
   "cell_type": "code",
   "execution_count": 114,
   "metadata": {
    "ExecuteTime": {
     "end_time": "2020-06-18T17:47:07.303150Z",
     "start_time": "2020-06-18T17:47:06.969653Z"
    }
   },
   "outputs": [
    {
     "data": {
      "text/html": [
       "<div>\n",
       "<style scoped>\n",
       "    .dataframe tbody tr th:only-of-type {\n",
       "        vertical-align: middle;\n",
       "    }\n",
       "\n",
       "    .dataframe tbody tr th {\n",
       "        vertical-align: top;\n",
       "    }\n",
       "\n",
       "    .dataframe thead th {\n",
       "        text-align: right;\n",
       "    }\n",
       "</style>\n",
       "<table border=\"1\" class=\"dataframe\">\n",
       "  <thead>\n",
       "    <tr style=\"text-align: right;\">\n",
       "      <th></th>\n",
       "      <th>item_price</th>\n",
       "      <th>item_cnt_day</th>\n",
       "    </tr>\n",
       "  </thead>\n",
       "  <tbody>\n",
       "    <tr>\n",
       "      <th>count</th>\n",
       "      <td>2935848.00</td>\n",
       "      <td>2935848.00</td>\n",
       "    </tr>\n",
       "    <tr>\n",
       "      <th>mean</th>\n",
       "      <td>890.85</td>\n",
       "      <td>1.24</td>\n",
       "    </tr>\n",
       "    <tr>\n",
       "      <th>std</th>\n",
       "      <td>1729.80</td>\n",
       "      <td>2.62</td>\n",
       "    </tr>\n",
       "    <tr>\n",
       "      <th>min</th>\n",
       "      <td>0.07</td>\n",
       "      <td>-22.00</td>\n",
       "    </tr>\n",
       "    <tr>\n",
       "      <th>25%</th>\n",
       "      <td>249.00</td>\n",
       "      <td>1.00</td>\n",
       "    </tr>\n",
       "    <tr>\n",
       "      <th>50%</th>\n",
       "      <td>399.00</td>\n",
       "      <td>1.00</td>\n",
       "    </tr>\n",
       "    <tr>\n",
       "      <th>75%</th>\n",
       "      <td>999.00</td>\n",
       "      <td>1.00</td>\n",
       "    </tr>\n",
       "    <tr>\n",
       "      <th>max</th>\n",
       "      <td>307980.00</td>\n",
       "      <td>2169.00</td>\n",
       "    </tr>\n",
       "  </tbody>\n",
       "</table>\n",
       "</div>"
      ],
      "text/plain": [
       "       item_price  item_cnt_day\n",
       "count  2935848.00    2935848.00\n",
       "mean       890.85          1.24\n",
       "std       1729.80          2.62\n",
       "min          0.07        -22.00\n",
       "25%        249.00          1.00\n",
       "50%        399.00          1.00\n",
       "75%        999.00          1.00\n",
       "max     307980.00       2169.00"
      ]
     },
     "execution_count": 114,
     "metadata": {},
     "output_type": "execute_result"
    }
   ],
   "source": [
    "all_data[['item_price', 'item_cnt_day']].describe()"
   ]
  },
  {
   "cell_type": "code",
   "execution_count": 115,
   "metadata": {
    "ExecuteTime": {
     "end_time": "2020-06-18T17:47:08.999837Z",
     "start_time": "2020-06-18T17:47:07.899784Z"
    }
   },
   "outputs": [
    {
     "data": {
      "image/png": "[encoded data removed]",
      "text/plain": [
       "<Figure size 1440x504 with 1 Axes>"
      ]
     },
     "metadata": {},
     "output_type": "display_data"
    }
   ],
   "source": [
    "plt.figure(figsize=(20, 7))\n",
    "sns.boxplot(all_data['item_price'])\n",
    "plt.show()"
   ]
  },
  {
   "cell_type": "code",
   "execution_count": 116,
   "metadata": {
    "ExecuteTime": {
     "end_time": "2020-06-18T17:47:10.219290Z",
     "start_time": "2020-06-18T17:47:09.001317Z"
    }
   },
   "outputs": [
    {
     "data": {
      "image/png": "[encoded data removed]",
      "text/plain": [
       "<Figure size 1440x504 with 1 Axes>"
      ]
     },
     "metadata": {},
     "output_type": "display_data"
    }
   ],
   "source": [
    "plt.figure(figsize=(20, 7))\n",
    "sns.boxplot(all_data['item_cnt_day'])\n",
    "plt.show()"
   ]
  },
  {
   "cell_type": "code",
   "execution_count": 118,
   "metadata": {
    "ExecuteTime": {
     "end_time": "2020-06-18T17:47:38.578356Z",
     "start_time": "2020-06-18T17:47:38.510573Z"
    }
   },
   "outputs": [
    {
     "name": "stdout",
     "output_type": "stream",
     "text": [
      "(-876.0, 2124.0) (1.0, 1.0)\n"
     ]
    }
   ],
   "source": [
    "#looks interesting\n",
    "print(get_stat_outliers(all_data['item_price']), get_stat_outliers(all_data['item_cnt_day']))"
   ]
  },
  {
   "cell_type": "code",
   "execution_count": 119,
   "metadata": {
    "ExecuteTime": {
     "end_time": "2020-06-18T17:47:39.849609Z",
     "start_time": "2020-06-18T17:47:39.790949Z"
    }
   },
   "outputs": [
    {
     "name": "stdout",
     "output_type": "stream",
     "text": [
      "(5.0, 5999.0) (1.0, 22.0)\n"
     ]
    }
   ],
   "source": [
    "#try to go a bit deeper\n",
    "print(get_stat_outliers(all_data['item_price'], q_bottom=0.01, q_top=0.99, method='quantiles'),\n",
    "      get_stat_outliers(all_data['item_cnt_day'], q_bottom=0.01, q_top=0.999, method='quantiles'))"
   ]
  },
  {
   "cell_type": "code",
   "execution_count": 120,
   "metadata": {
    "ExecuteTime": {
     "end_time": "2020-06-18T17:48:41.051193Z",
     "start_time": "2020-06-18T17:48:41.042569Z"
    }
   },
   "outputs": [
    {
     "data": {
      "text/plain": [
       "array(['Подарки - Сумки, Альбомы, Коврики д/мыши', 'Доставка товара'],\n",
       "      dtype=object)"
      ]
     },
     "execution_count": 120,
     "metadata": {},
     "output_type": "execute_result"
    }
   ],
   "source": [
    "all_data[all_data['item_cnt_day'] > 900]['item_category_name'].unique()"
   ]
  },
  {
   "cell_type": "code",
   "execution_count": 121,
   "metadata": {
    "ExecuteTime": {
     "end_time": "2020-06-18T17:48:41.460459Z",
     "start_time": "2020-06-18T17:48:41.452322Z"
    }
   },
   "outputs": [
    {
     "data": {
      "text/plain": [
       "array(['Программы - Для дома и офиса'], dtype=object)"
      ]
     },
     "execution_count": 121,
     "metadata": {},
     "output_type": "execute_result"
    }
   ],
   "source": [
    "all_data[all_data['item_price'] > 60000]['item_category_name'].unique()"
   ]
  },
  {
   "cell_type": "code",
   "execution_count": 122,
   "metadata": {
    "ExecuteTime": {
     "end_time": "2020-06-18T17:48:59.187256Z",
     "start_time": "2020-06-18T17:48:58.753005Z"
    }
   },
   "outputs": [],
   "source": [
    "#get rid of those objects but may be it's better to keep due to clipping to [0,20] all values of cnt\n",
    "all_data = all_data[(all_data['item_cnt_day'] <= 900) & (all_data['item_price'] <= 60000)]"
   ]
  },
  {
   "cell_type": "code",
   "execution_count": 123,
   "metadata": {
    "ExecuteTime": {
     "end_time": "2020-06-18T17:48:59.191699Z",
     "start_time": "2020-06-18T17:48:59.188839Z"
    }
   },
   "outputs": [
    {
     "data": {
      "text/plain": [
       "(2935845, 12)"
      ]
     },
     "execution_count": 123,
     "metadata": {},
     "output_type": "execute_result"
    }
   ],
   "source": [
    "all_data.shape"
   ]
  },
  {
   "cell_type": "code",
   "execution_count": 124,
   "metadata": {
    "ExecuteTime": {
     "end_time": "2020-06-18T17:49:17.629091Z",
     "start_time": "2020-06-18T17:49:06.233312Z"
    }
   },
   "outputs": [],
   "source": [
    "#month as a feature\n",
    "all_data['month'] = pd.to_datetime(all_data['date'], format='%d.%m.%Y').apply(lambda x: x.month)"
   ]
  },
  {
   "cell_type": "code",
   "execution_count": 125,
   "metadata": {
    "ExecuteTime": {
     "end_time": "2020-06-18T17:49:17.641173Z",
     "start_time": "2020-06-18T17:49:17.630676Z"
    }
   },
   "outputs": [
    {
     "data": {
      "text/html": [
       "<div>\n",
       "<style scoped>\n",
       "    .dataframe tbody tr th:only-of-type {\n",
       "        vertical-align: middle;\n",
       "    }\n",
       "\n",
       "    .dataframe tbody tr th {\n",
       "        vertical-align: top;\n",
       "    }\n",
       "\n",
       "    .dataframe thead th {\n",
       "        text-align: right;\n",
       "    }\n",
       "</style>\n",
       "<table border=\"1\" class=\"dataframe\">\n",
       "  <thead>\n",
       "    <tr style=\"text-align: right;\">\n",
       "      <th></th>\n",
       "      <th>date</th>\n",
       "      <th>date_block_num</th>\n",
       "      <th>shop_id</th>\n",
       "      <th>item_id</th>\n",
       "      <th>item_price</th>\n",
       "      <th>item_cnt_day</th>\n",
       "      <th>item_name</th>\n",
       "      <th>item_category_id</th>\n",
       "      <th>shop_name</th>\n",
       "      <th>item_category_name</th>\n",
       "      <th>shop_city</th>\n",
       "      <th>item_section_name</th>\n",
       "      <th>month</th>\n",
       "    </tr>\n",
       "  </thead>\n",
       "  <tbody>\n",
       "    <tr>\n",
       "      <th>0</th>\n",
       "      <td>02.01.2013</td>\n",
       "      <td>0</td>\n",
       "      <td>59</td>\n",
       "      <td>22154</td>\n",
       "      <td>999.00</td>\n",
       "      <td>1.00</td>\n",
       "      <td>ЯВЛЕНИЕ 2012 (BD)</td>\n",
       "      <td>37</td>\n",
       "      <td>Ярославль ТЦ \"Альтаир\"</td>\n",
       "      <td>Кино - Blu-Ray</td>\n",
       "      <td>ярославль</td>\n",
       "      <td>кино</td>\n",
       "      <td>1</td>\n",
       "    </tr>\n",
       "    <tr>\n",
       "      <th>1</th>\n",
       "      <td>26.04.2013</td>\n",
       "      <td>3</td>\n",
       "      <td>59</td>\n",
       "      <td>944</td>\n",
       "      <td>150.00</td>\n",
       "      <td>1.00</td>\n",
       "      <td>2012 (BD)</td>\n",
       "      <td>37</td>\n",
       "      <td>Ярославль ТЦ \"Альтаир\"</td>\n",
       "      <td>Кино - Blu-Ray</td>\n",
       "      <td>ярославль</td>\n",
       "      <td>кино</td>\n",
       "      <td>4</td>\n",
       "    </tr>\n",
       "  </tbody>\n",
       "</table>\n",
       "</div>"
      ],
      "text/plain": [
       "         date  date_block_num  shop_id  item_id  item_price  item_cnt_day  \\\n",
       "0  02.01.2013               0       59    22154      999.00          1.00   \n",
       "1  26.04.2013               3       59      944      150.00          1.00   \n",
       "\n",
       "           item_name  item_category_id               shop_name  \\\n",
       "0  ЯВЛЕНИЕ 2012 (BD)                37  Ярославль ТЦ \"Альтаир\"   \n",
       "1          2012 (BD)                37  Ярославль ТЦ \"Альтаир\"   \n",
       "\n",
       "  item_category_name  shop_city item_section_name  month  \n",
       "0     Кино - Blu-Ray  ярославль              кино      1  \n",
       "1     Кино - Blu-Ray  ярославль              кино      4  "
      ]
     },
     "execution_count": 125,
     "metadata": {},
     "output_type": "execute_result"
    }
   ],
   "source": [
    "all_data.head(2)"
   ]
  },
  {
   "cell_type": "code",
   "execution_count": 144,
   "metadata": {
    "ExecuteTime": {
     "end_time": "2020-06-18T18:16:54.178976Z",
     "start_time": "2020-06-18T18:16:54.172068Z"
    }
   },
   "outputs": [
    {
     "data": {
      "text/plain": [
       "33"
      ]
     },
     "execution_count": 144,
     "metadata": {},
     "output_type": "execute_result"
    }
   ],
   "source": [
    "all_data['date_block_num'].max()"
   ]
  },
  {
   "cell_type": "code",
   "execution_count": 151,
   "metadata": {
    "ExecuteTime": {
     "end_time": "2020-06-18T19:08:13.761200Z",
     "start_time": "2020-06-18T19:08:13.749792Z"
    }
   },
   "outputs": [
    {
     "data": {
      "text/plain": [
       "'31.10.2015'"
      ]
     },
     "execution_count": 151,
     "metadata": {},
     "output_type": "execute_result"
    }
   ],
   "source": [
    "all_data.loc[all_data['date_block_num']==33, 'date'].to_numpy()[0]"
   ]
  },
  {
   "cell_type": "markdown",
   "metadata": {},
   "source": [
    "More feature generation I'll do in another file"
   ]
  },
  {
   "cell_type": "markdown",
   "metadata": {},
   "source": [
    "### Test\n",
    "it's date_block_num is 34: it's 11'th month"
   ]
  },
  {
   "cell_type": "code",
   "execution_count": 128,
   "metadata": {
    "ExecuteTime": {
     "end_time": "2020-06-18T17:51:51.558047Z",
     "start_time": "2020-06-18T17:51:51.551787Z"
    }
   },
   "outputs": [
    {
     "data": {
      "text/plain": [
       "array([42])"
      ]
     },
     "execution_count": 128,
     "metadata": {},
     "output_type": "execute_result"
    }
   ],
   "source": [
    "test['item_id'].value_counts().unique()"
   ]
  },
  {
   "cell_type": "code",
   "execution_count": 130,
   "metadata": {
    "ExecuteTime": {
     "end_time": "2020-06-18T17:52:09.591538Z",
     "start_time": "2020-06-18T17:52:09.585886Z"
    }
   },
   "outputs": [
    {
     "data": {
      "text/plain": [
       "array([5100])"
      ]
     },
     "execution_count": 130,
     "metadata": {},
     "output_type": "execute_result"
    }
   ],
   "source": [
    "test['shop_id'].value_counts().unique()"
   ]
  },
  {
   "cell_type": "code",
   "execution_count": 141,
   "metadata": {
    "ExecuteTime": {
     "end_time": "2020-06-18T17:55:38.456127Z",
     "start_time": "2020-06-18T17:55:38.439767Z"
    }
   },
   "outputs": [
    {
     "data": {
      "text/plain": [
       "((214200, 2), (214200, 2))"
      ]
     },
     "execution_count": 141,
     "metadata": {},
     "output_type": "execute_result"
    }
   ],
   "source": [
    "test.shape, test.drop_duplicates().shape"
   ]
  },
  {
   "cell_type": "markdown",
   "metadata": {},
   "source": [
    "### Aggregated"
   ]
  },
  {
   "cell_type": "code",
   "execution_count": 217,
   "metadata": {
    "ExecuteTime": {
     "end_time": "2020-06-22T20:24:48.577108Z",
     "start_time": "2020-06-22T20:24:33.849611Z"
    }
   },
   "outputs": [],
   "source": [
    "index_cols = ['shop_id', 'item_id', 'date_block_num']\n",
    "grid = []\n",
    "\n",
    "for block_num in sales['date_block_num'].unique():\n",
    "    cur_shops = sales[sales['date_block_num']==block_num]['shop_id'].unique()\n",
    "    cur_items = sales[sales['date_block_num']==block_num]['item_id'].unique()\n",
    "    grid.append(np.array(list(itertools.product(*[cur_shops, cur_items, [block_num]])), dtype='int32'))\n",
    "\n",
    "grid = pd.DataFrame(np.vstack(grid), columns = index_cols,dtype=np.int32)\n",
    "\n",
    "\n",
    "# Aggregations\n",
    "sales['item_cnt_day'] = sales['item_cnt_day'].clip(0,20) #seems it's better to clip here\n",
    "train = sales.groupby(['shop_id', 'item_id', 'date_block_num'], as_index=False) \\\n",
    "            .agg({'item_cnt_day':'sum', 'item_price':'mean'})\n",
    "train = train.rename(columns = {'item_cnt_day' : 'item_cnt_month'})\n",
    "train['item_cnt_month'] = train['item_cnt_month'].clip(0,20) #one more clip\n",
    "\n",
    "#merge aggregated sales and grid\n",
    "train = pd.merge(grid, train, how='left',on=index_cols)\n",
    "train['item_cnt_month'] = train['item_cnt_month'].fillna(0)"
   ]
  },
  {
   "cell_type": "code",
   "execution_count": 223,
   "metadata": {
    "ExecuteTime": {
     "end_time": "2020-06-22T20:26:09.726184Z",
     "start_time": "2020-06-22T20:26:07.927193Z"
    }
   },
   "outputs": [
    {
     "name": "stdout",
     "output_type": "stream",
     "text": [
      "(0.0, 9305624) (1.0, 1060054) 10913850\n",
      "10365678 10913850\n"
     ]
    }
   ],
   "source": [
    "xx = sorted(Counter(train['item_cnt_month']).items(), key=lambda x: x[1], reverse=True)\n",
    "#check most popular val and number of objects in data\n",
    "print(xx[0], xx[1], train.shape[0])\n",
    "print(xx[0][1] + xx[1][1], train.shape[0])"
   ]
  },
  {
   "cell_type": "markdown",
   "metadata": {},
   "source": [
    "Check some basic predictions"
   ]
  },
  {
   "cell_type": "code",
   "execution_count": 18,
   "metadata": {
    "ExecuteTime": {
     "end_time": "2020-06-19T23:27:05.301146Z",
     "start_time": "2020-06-19T23:27:05.299488Z"
    }
   },
   "outputs": [],
   "source": [
    "ans = pd.DataFrame({'item_cnt_month': [0] * len(test)})\n",
    "ans.insert(0, 'ID', ans.index)\n",
    "ans.to_csv(DATA_DIR / 'answer1.csv', index=False)\n",
    "#get 1.25011"
   ]
  },
  {
   "cell_type": "code",
   "execution_count": 224,
   "metadata": {
    "ExecuteTime": {
     "end_time": "2020-06-22T20:29:24.501155Z",
     "start_time": "2020-06-22T20:29:24.137445Z"
    }
   },
   "outputs": [],
   "source": [
    "ans = pd.DataFrame({'item_cnt_month': [0.5] * len(test)})\n",
    "ans.insert(0, 'ID', ans.index)\n",
    "ans.to_csv(DATA_DIR / 'answer2.csv', index=False)\n",
    "#1.235453"
   ]
  },
  {
   "cell_type": "code",
   "execution_count": 225,
   "metadata": {
    "ExecuteTime": {
     "end_time": "2020-06-22T20:35:11.980126Z",
     "start_time": "2020-06-22T20:35:11.606136Z"
    }
   },
   "outputs": [],
   "source": [
    "ans = pd.DataFrame({'item_cnt_month': [0.25] * len(test)})\n",
    "ans.insert(0, 'ID', ans.index)\n",
    "ans.to_csv(DATA_DIR / 'answer3.csv', index=False)\n",
    "#1.21791"
   ]
  },
  {
   "cell_type": "code",
   "execution_count": null,
   "metadata": {},
   "outputs": [],
   "source": []
  }
 ],
 "metadata": {
  "kernelspec": {
   "display_name": "Python 3.6",
   "language": "python36",
   "name": "python3.6"
  },
  "language_info": {
   "codemirror_mode": {
    "name": "ipython",
    "version": 3
   },
   "file_extension": ".py",
   "mimetype": "text/x-python",
   "name": "python",
   "nbconvert_exporter": "python",
   "pygments_lexer": "ipython3",
   "version": "3.6.8"
  }
 },
 "nbformat": 4,
 "nbformat_minor": 2
}
