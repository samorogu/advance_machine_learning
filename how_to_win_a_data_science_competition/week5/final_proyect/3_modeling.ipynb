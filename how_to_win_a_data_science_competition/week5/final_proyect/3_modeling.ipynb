{
 "cells": [
  {
   "cell_type": "code",
   "execution_count": 1,
   "metadata": {
    "ExecuteTime": {
     "end_time": "2020-06-22T18:23:44.029287Z",
     "start_time": "2020-06-22T18:23:42.743829Z"
    }
   },
   "outputs": [],
   "source": [
    "import numpy as np\n",
    "import pandas as pd\n",
    "import matplotlib.pyplot as plt\n",
    "import seaborn as sns\n",
    "import shap\n",
    "\n",
    "import os\n",
    "import getpass\n",
    "import gc\n",
    "from pathlib import Path\n",
    "\n",
    "import itertools\n",
    "\n",
    "import xgboost as xgb\n",
    "from lightgbm import LGBMRegressor\n",
    "\n",
    "from sklearn.preprocessing import LabelEncoder\n",
    "from sklearn.model_selection import KFold\n",
    "\n",
    "from tqdm.notebook import tqdm\n",
    "import warnings\n",
    "#warnings.filterwarnings('ignore')"
   ]
  },
  {
   "cell_type": "code",
   "execution_count": 2,
   "metadata": {
    "ExecuteTime": {
     "end_time": "2020-06-22T18:23:44.037557Z",
     "start_time": "2020-06-22T18:23:44.031053Z"
    }
   },
   "outputs": [],
   "source": [
    "#with such encoding got better results\n",
    "def cv_mean_enc(sample, column, kf, globalmean, alpha):\n",
    "    \n",
    "    for train_ix, test_ix in kf.split(sample):\n",
    "        train, test = sample.iloc[train_ix], sample.iloc[test_ix]\n",
    "        \n",
    "        #smoothing\n",
    "        column_enc = (train.groupby(column)['item_cnt_month'].mean()\n",
    "                        * train.groupby(column)['item_cnt_month'].count()\n",
    "                        + globalmean * alpha) / (train.groupby(column)['item_cnt_month'].count() + alpha)\n",
    "        #column_enc = train.groupby(column)['item_cnt_month'].mean()\n",
    "\n",
    "\n",
    "        \n",
    "        sample.loc[test_ix, column+'_enc'] = sample.loc[test_ix, column].map(column_enc)\n",
    "\n",
    "    #fill nan with global mean\n",
    "    sample[column+'_enc'].fillna(globalmean, inplace=True) \n",
    "    \n",
    "    return sample\n",
    "    \n",
    "def mean_enconding(sample, column, alpha=5):\n",
    "\n",
    "    kf = KFold(n_splits=5, shuffle=False)\n",
    "    \n",
    "    \n",
    "    #globalmean_part = sample_part[column].mean()\n",
    "    globalmean = sample[column].mean()\n",
    "    \n",
    "    #sample_part = cv_mean_enc(sample_part, column, kf, globalmean_part, alpha)\n",
    "    sample = cv_mean_enc(sample, column, kf, globalmean, alpha)\n",
    "\n",
    "    return sample"
   ]
  },
  {
   "cell_type": "code",
   "execution_count": 3,
   "metadata": {
    "ExecuteTime": {
     "end_time": "2020-06-22T18:23:45.167497Z",
     "start_time": "2020-06-22T18:23:44.039379Z"
    }
   },
   "outputs": [],
   "source": [
    "DATA_DIR = Path('/data', getpass.getuser(), 'kaggle', 'future_sales') #path to data files\n",
    "\n",
    "sales = pd.read_csv(DATA_DIR / 'sales_train.csv')\n",
    "items = pd.read_csv(DATA_DIR / 'items.csv')\n",
    "item_categories = pd.read_csv(DATA_DIR / 'item_categories.csv')\n",
    "shops = pd.read_csv(DATA_DIR /'shops.csv')\n",
    "\n",
    "test = pd.read_csv(DATA_DIR / 'test.csv').set_index('ID')"
   ]
  },
  {
   "cell_type": "markdown",
   "metadata": {},
   "source": [
    "**Little preporcessing**"
   ]
  },
  {
   "cell_type": "code",
   "execution_count": 8,
   "metadata": {
    "ExecuteTime": {
     "end_time": "2020-06-22T18:23:45.193314Z",
     "start_time": "2020-06-22T18:23:45.190390Z"
    }
   },
   "outputs": [],
   "source": [
    "def shop_id_change(sample):\n",
    "    sample.loc[sample['shop_id']==57, 'shop_id'] = 0\n",
    "    sample.loc[sample['shop_id']==58, 'shop_id'] = 1\n",
    "    sample.loc[sample['shop_id']==11, 'shop_id'] = 10\n",
    "    \n",
    "    return sample"
   ]
  },
  {
   "cell_type": "code",
   "execution_count": 9,
   "metadata": {
    "ExecuteTime": {
     "end_time": "2020-06-22T18:23:45.386109Z",
     "start_time": "2020-06-22T18:23:45.194620Z"
    }
   },
   "outputs": [],
   "source": [
    "sales = sales[(sales['item_cnt_day'] <= 900) & (sales['item_price'] <= 60000) & ((sales['item_price'] >= 0))]"
   ]
  },
  {
   "cell_type": "code",
   "execution_count": 10,
   "metadata": {
    "ExecuteTime": {
     "end_time": "2020-06-22T18:23:46.359472Z",
     "start_time": "2020-06-22T18:23:46.281873Z"
    }
   },
   "outputs": [],
   "source": [
    "#change shop_id\n",
    "sales = shop_id_change(sales)\n",
    "shops = shop_id_change(shops)\n",
    "test = shop_id_change(test)"
   ]
  },
  {
   "cell_type": "code",
   "execution_count": 11,
   "metadata": {
    "ExecuteTime": {
     "end_time": "2020-06-22T18:23:48.499832Z",
     "start_time": "2020-06-22T18:23:48.492229Z"
    }
   },
   "outputs": [],
   "source": [
    "#create feature - city\n",
    "shops['shop_city'] = shops['shop_name'].apply(lambda x: x.lower()).str.replace('[^\\w\\s]', '').str.strip()\n",
    "shops['shop_city'] = shops['shop_city'].apply(lambda x: x.split()[0])\n",
    "shops['shop_city'] = LabelEncoder().fit_transform(shops['shop_city'])"
   ]
  },
  {
   "cell_type": "code",
   "execution_count": 12,
   "metadata": {
    "ExecuteTime": {
     "end_time": "2020-06-22T18:23:48.842085Z",
     "start_time": "2020-06-22T18:23:48.836108Z"
    }
   },
   "outputs": [],
   "source": [
    "#create feature - section of products\n",
    "item_categories['item_section_name'] = item_categories['item_category_name'] \\\n",
    "                                        .apply(lambda x: x.lower().split('-')[0].split()[0].strip())\n",
    "item_categories['item_section_name'] = LabelEncoder().fit_transform(item_categories['item_section_name'])"
   ]
  },
  {
   "cell_type": "markdown",
   "metadata": {},
   "source": [
    "\n",
    "Since we need to predict monthly, so aggregate data"
   ]
  },
  {
   "cell_type": "code",
   "execution_count": 13,
   "metadata": {
    "ExecuteTime": {
     "end_time": "2020-06-22T18:24:11.311263Z",
     "start_time": "2020-06-22T18:23:58.062769Z"
    }
   },
   "outputs": [],
   "source": [
    "index_cols = ['shop_id', 'item_id', 'date_block_num']\n",
    "grid = []\n",
    "\n",
    "for block_num in sales['date_block_num'].unique():\n",
    "    cur_shops = sales[sales['date_block_num']==block_num]['shop_id'].unique()\n",
    "    cur_items = sales[sales['date_block_num']==block_num]['item_id'].unique()\n",
    "    grid.append(np.array(list(itertools.product(*[cur_shops, cur_items, [block_num]])), dtype='int32'))\n",
    "\n",
    "grid = pd.DataFrame(np.vstack(grid), columns = index_cols,dtype=np.int32)\n",
    "\n",
    "\n",
    "#create binary feature if item is returned\n",
    "sales['item_is_less_zero'] = np.where(sales['item_cnt_day'] < 0, 1, 0)\n",
    "\n",
    "# Aggregations\n",
    "sales['item_cnt_day'] = sales['item_cnt_day'].clip(0,20) #seems it's better to clip here\n",
    "train = sales.groupby(['shop_id', 'item_id', 'date_block_num'], as_index=False) \\\n",
    "            .agg({'item_cnt_day':'sum', 'item_price':'mean', 'item_is_less_zero': 'sum'})\n",
    "train = train.rename(columns = {'item_cnt_day' : 'item_cnt_month'})\n",
    "train['item_cnt_month'] = train['item_cnt_month'].clip(0,20) #one more clip\n",
    "\n",
    "#merge aggregated sales and grid\n",
    "train = pd.merge(grid, train, how='left',on=index_cols)\n",
    "train['item_cnt_month'] = train['item_cnt_month'].fillna(0)\n",
    "\n",
    "train['item_is_less_zero'] = train['item_is_less_zero'].fillna(0)\n",
    "train['item_is_less_zero'] = np.where(train['item_is_less_zero'] > 0, 1, 0)"
   ]
  },
  {
   "cell_type": "code",
   "execution_count": 14,
   "metadata": {
    "ExecuteTime": {
     "end_time": "2020-06-22T18:24:11.326004Z",
     "start_time": "2020-06-22T18:24:11.313510Z"
    }
   },
   "outputs": [
    {
     "data": {
      "text/html": [
       "<div>\n",
       "<style scoped>\n",
       "    .dataframe tbody tr th:only-of-type {\n",
       "        vertical-align: middle;\n",
       "    }\n",
       "\n",
       "    .dataframe tbody tr th {\n",
       "        vertical-align: top;\n",
       "    }\n",
       "\n",
       "    .dataframe thead th {\n",
       "        text-align: right;\n",
       "    }\n",
       "</style>\n",
       "<table border=\"1\" class=\"dataframe\">\n",
       "  <thead>\n",
       "    <tr style=\"text-align: right;\">\n",
       "      <th></th>\n",
       "      <th>shop_id</th>\n",
       "      <th>item_id</th>\n",
       "      <th>date_block_num</th>\n",
       "      <th>item_cnt_month</th>\n",
       "      <th>item_price</th>\n",
       "      <th>item_is_less_zero</th>\n",
       "    </tr>\n",
       "  </thead>\n",
       "  <tbody>\n",
       "    <tr>\n",
       "      <th>0</th>\n",
       "      <td>59</td>\n",
       "      <td>22154</td>\n",
       "      <td>0</td>\n",
       "      <td>1.0</td>\n",
       "      <td>999.0</td>\n",
       "      <td>0</td>\n",
       "    </tr>\n",
       "    <tr>\n",
       "      <th>1</th>\n",
       "      <td>59</td>\n",
       "      <td>2552</td>\n",
       "      <td>0</td>\n",
       "      <td>0.0</td>\n",
       "      <td>NaN</td>\n",
       "      <td>0</td>\n",
       "    </tr>\n",
       "  </tbody>\n",
       "</table>\n",
       "</div>"
      ],
      "text/plain": [
       "   shop_id  item_id  date_block_num  item_cnt_month  item_price  \\\n",
       "0       59    22154               0             1.0       999.0   \n",
       "1       59     2552               0             0.0         NaN   \n",
       "\n",
       "   item_is_less_zero  \n",
       "0                  0  \n",
       "1                  0  "
      ]
     },
     "execution_count": 14,
     "metadata": {},
     "output_type": "execute_result"
    }
   ],
   "source": [
    "#try without price since we dont know on test set (i suppose they are not obliged to be equal)\n",
    "#train = train.drop(['item_price'], axis=1)\n",
    "train.head(2)"
   ]
  },
  {
   "cell_type": "code",
   "execution_count": 15,
   "metadata": {
    "ExecuteTime": {
     "end_time": "2020-06-22T18:24:12.376354Z",
     "start_time": "2020-06-22T18:24:12.372710Z"
    }
   },
   "outputs": [
    {
     "data": {
      "text/plain": [
       "(10913804, 6)"
      ]
     },
     "execution_count": 15,
     "metadata": {},
     "output_type": "execute_result"
    }
   ],
   "source": [
    "train.shape"
   ]
  },
  {
   "cell_type": "code",
   "execution_count": 16,
   "metadata": {
    "ExecuteTime": {
     "end_time": "2020-06-22T18:24:27.231618Z",
     "start_time": "2020-06-22T18:24:12.784072Z"
    }
   },
   "outputs": [
    {
     "data": {
      "text/html": [
       "<div>\n",
       "<style scoped>\n",
       "    .dataframe tbody tr th:only-of-type {\n",
       "        vertical-align: middle;\n",
       "    }\n",
       "\n",
       "    .dataframe tbody tr th {\n",
       "        vertical-align: top;\n",
       "    }\n",
       "\n",
       "    .dataframe thead th {\n",
       "        text-align: right;\n",
       "    }\n",
       "</style>\n",
       "<table border=\"1\" class=\"dataframe\">\n",
       "  <thead>\n",
       "    <tr style=\"text-align: right;\">\n",
       "      <th></th>\n",
       "      <th>shop_id</th>\n",
       "      <th>item_id</th>\n",
       "      <th>date_block_num</th>\n",
       "      <th>item_cnt_month</th>\n",
       "      <th>item_price</th>\n",
       "      <th>item_is_less_zero</th>\n",
       "      <th>item_category_id</th>\n",
       "      <th>item_section_name</th>\n",
       "      <th>shop_city</th>\n",
       "    </tr>\n",
       "  </thead>\n",
       "  <tbody>\n",
       "    <tr>\n",
       "      <th>0</th>\n",
       "      <td>59</td>\n",
       "      <td>22154</td>\n",
       "      <td>0</td>\n",
       "      <td>1.0</td>\n",
       "      <td>999.0</td>\n",
       "      <td>0</td>\n",
       "      <td>37</td>\n",
       "      <td>7</td>\n",
       "      <td>30</td>\n",
       "    </tr>\n",
       "    <tr>\n",
       "      <th>1</th>\n",
       "      <td>16</td>\n",
       "      <td>6197</td>\n",
       "      <td>0</td>\n",
       "      <td>0.0</td>\n",
       "      <td>NaN</td>\n",
       "      <td>0</td>\n",
       "      <td>55</td>\n",
       "      <td>9</td>\n",
       "      <td>10</td>\n",
       "    </tr>\n",
       "  </tbody>\n",
       "</table>\n",
       "</div>"
      ],
      "text/plain": [
       "   shop_id  item_id  date_block_num  item_cnt_month  item_price  \\\n",
       "0       59    22154               0             1.0       999.0   \n",
       "1       16     6197               0             0.0         NaN   \n",
       "\n",
       "   item_is_less_zero  item_category_id  item_section_name  shop_city  \n",
       "0                  0                37                  7         30  \n",
       "1                  0                55                  9         10  "
      ]
     },
     "execution_count": 16,
     "metadata": {},
     "output_type": "execute_result"
    }
   ],
   "source": [
    "#add some features to train\n",
    "train = train.merge(items[['item_id', 'item_category_id']], on='item_id')\n",
    "train = train.merge(item_categories[['item_category_id', 'item_section_name']], on='item_category_id')\n",
    "train = train.merge(shops[['shop_city', 'shop_id']], on='shop_id')\n",
    "\n",
    "train = train.drop_duplicates()\n",
    "train = train.sort_values(by=['date_block_num']).reset_index(drop=True)\n",
    "train.head(2)"
   ]
  },
  {
   "cell_type": "code",
   "execution_count": 17,
   "metadata": {
    "ExecuteTime": {
     "end_time": "2020-06-22T18:24:27.238717Z",
     "start_time": "2020-06-22T18:24:27.233099Z"
    }
   },
   "outputs": [
    {
     "name": "stdout",
     "output_type": "stream",
     "text": [
      "(214200, 5)\n"
     ]
    }
   ],
   "source": [
    "test['date_block_num']= 34\n",
    "test['item_cnt_month'] = -1 #since need to predict it\n",
    "test['item_cnt_less_zero'] = 0 #check if it helps\n",
    "print(test.shape)"
   ]
  },
  {
   "cell_type": "code",
   "execution_count": 18,
   "metadata": {
    "ExecuteTime": {
     "end_time": "2020-06-22T18:24:27.346570Z",
     "start_time": "2020-06-22T18:24:27.240247Z"
    }
   },
   "outputs": [],
   "source": [
    "test = test.merge(items[['item_id', 'item_category_id']], on='item_id', how='left')\n",
    "test = test.merge(item_categories[['item_category_id', 'item_section_name']], on='item_category_id', how='left')\n",
    "test = test.merge(shops[['shop_city', 'shop_id']], on='shop_id', how='left')\n",
    "test = test.drop_duplicates().reset_index(drop=True)"
   ]
  },
  {
   "cell_type": "code",
   "execution_count": 19,
   "metadata": {
    "ExecuteTime": {
     "end_time": "2020-06-22T18:24:27.355025Z",
     "start_time": "2020-06-22T18:24:27.348010Z"
    }
   },
   "outputs": [
    {
     "data": {
      "text/html": [
       "<div>\n",
       "<style scoped>\n",
       "    .dataframe tbody tr th:only-of-type {\n",
       "        vertical-align: middle;\n",
       "    }\n",
       "\n",
       "    .dataframe tbody tr th {\n",
       "        vertical-align: top;\n",
       "    }\n",
       "\n",
       "    .dataframe thead th {\n",
       "        text-align: right;\n",
       "    }\n",
       "</style>\n",
       "<table border=\"1\" class=\"dataframe\">\n",
       "  <thead>\n",
       "    <tr style=\"text-align: right;\">\n",
       "      <th></th>\n",
       "      <th>shop_id</th>\n",
       "      <th>item_id</th>\n",
       "      <th>date_block_num</th>\n",
       "      <th>item_cnt_month</th>\n",
       "      <th>item_cnt_less_zero</th>\n",
       "      <th>item_category_id</th>\n",
       "      <th>item_section_name</th>\n",
       "      <th>shop_city</th>\n",
       "    </tr>\n",
       "  </thead>\n",
       "  <tbody>\n",
       "    <tr>\n",
       "      <th>0</th>\n",
       "      <td>5</td>\n",
       "      <td>5037</td>\n",
       "      <td>34</td>\n",
       "      <td>-1</td>\n",
       "      <td>0</td>\n",
       "      <td>19</td>\n",
       "      <td>5</td>\n",
       "      <td>3</td>\n",
       "    </tr>\n",
       "    <tr>\n",
       "      <th>1</th>\n",
       "      <td>5</td>\n",
       "      <td>5320</td>\n",
       "      <td>34</td>\n",
       "      <td>-1</td>\n",
       "      <td>0</td>\n",
       "      <td>55</td>\n",
       "      <td>9</td>\n",
       "      <td>3</td>\n",
       "    </tr>\n",
       "  </tbody>\n",
       "</table>\n",
       "</div>"
      ],
      "text/plain": [
       "   shop_id  item_id  date_block_num  item_cnt_month  item_cnt_less_zero  \\\n",
       "0        5     5037              34              -1                   0   \n",
       "1        5     5320              34              -1                   0   \n",
       "\n",
       "   item_category_id  item_section_name  shop_city  \n",
       "0                19                  5          3  \n",
       "1                55                  9          3  "
      ]
     },
     "execution_count": 19,
     "metadata": {},
     "output_type": "execute_result"
    }
   ],
   "source": [
    "test.head(2)"
   ]
  },
  {
   "cell_type": "markdown",
   "metadata": {},
   "source": [
    "**Add mean/median item_price per shop in test**"
   ]
  },
  {
   "cell_type": "code",
   "execution_count": null,
   "metadata": {
    "ExecuteTime": {
     "end_time": "2020-06-22T18:24:29.498794Z",
     "start_time": "2020-06-22T18:24:27.356264Z"
    }
   },
   "outputs": [],
   "source": [
    "temp = train.groupby(['shop_id', 'item_id']).agg({'item_price' : 'median'}).reset_index()\n",
    "test = test.merge(temp, on=['shop_id', 'item_id'], how='left')\n",
    "print(test.shape)\n",
    "test.head(2)"
   ]
  },
  {
   "cell_type": "markdown",
   "metadata": {},
   "source": [
    "**Combine data**"
   ]
  },
  {
   "cell_type": "code",
   "execution_count": 21,
   "metadata": {
    "ExecuteTime": {
     "end_time": "2020-06-22T18:24:46.086901Z",
     "start_time": "2020-06-22T18:24:43.031426Z"
    }
   },
   "outputs": [],
   "source": [
    "#concat all data to create mean encoded features and lag ones\n",
    "all_data = pd.concat([train, test]).reset_index(drop=True)"
   ]
  },
  {
   "cell_type": "code",
   "execution_count": 22,
   "metadata": {
    "ExecuteTime": {
     "end_time": "2020-06-22T18:29:17.875977Z",
     "start_time": "2020-06-22T18:25:01.000022Z"
    }
   },
   "outputs": [
    {
     "data": {
      "application/vnd.jupyter.widget-view+json": {
       "model_id": "c1586164d8cf44b6ae9f69569553e7ed",
       "version_major": 2,
       "version_minor": 0
      },
      "text/plain": [
       "HBox(children=(FloatProgress(value=0.0, max=12.0), HTML(value='')))"
      ]
     },
     "metadata": {},
     "output_type": "display_data"
    },
    {
     "name": "stdout",
     "output_type": "stream",
     "text": [
      "\n"
     ]
    }
   ],
   "source": [
    "# List of columns that we will use to create lags\n",
    "#using 'item_price here' seems to lead to overfit\n",
    "lag_features = ['item_cnt_month', 'item_price', 'item_is_less_zero']\n",
    "#lag_features = ['item_cnt_month']\n",
    "\n",
    "shift_range = list(range(1, 13))\n",
    "\n",
    "for month_shift in tqdm(shift_range):\n",
    "    train_shift = all_data[index_cols + lag_features].copy()\n",
    "    \n",
    "    train_shift['date_block_num'] = train_shift['date_block_num'] + month_shift\n",
    "    \n",
    "    foo = lambda x: f'{x}_lag_{month_shift}' if x in lag_features else x\n",
    "    train_shift = train_shift.rename(columns=foo)\n",
    "\n",
    "    all_data = pd.merge(all_data, train_shift, on=index_cols, how='left').fillna(0)"
   ]
  },
  {
   "cell_type": "code",
   "execution_count": 23,
   "metadata": {
    "ExecuteTime": {
     "end_time": "2020-06-22T18:29:38.546224Z",
     "start_time": "2020-06-22T18:29:17.878001Z"
    }
   },
   "outputs": [],
   "source": [
    "#one more features since we have predict based on pairs shop_id and item_id\n",
    "all_data['shop_item'] = (all_data['shop_id'].astype(str) + '0' + all_data['item_id'].astype(str)).astype(int)\n",
    "#order of month\n",
    "all_data['month'] = all_data['date_block_num'].apply(lambda x: x % 12)"
   ]
  },
  {
   "cell_type": "code",
   "execution_count": 24,
   "metadata": {
    "ExecuteTime": {
     "end_time": "2020-06-22T18:29:38.566543Z",
     "start_time": "2020-06-22T18:29:38.547893Z"
    }
   },
   "outputs": [
    {
     "data": {
      "text/html": [
       "<div>\n",
       "<style scoped>\n",
       "    .dataframe tbody tr th:only-of-type {\n",
       "        vertical-align: middle;\n",
       "    }\n",
       "\n",
       "    .dataframe tbody tr th {\n",
       "        vertical-align: top;\n",
       "    }\n",
       "\n",
       "    .dataframe thead th {\n",
       "        text-align: right;\n",
       "    }\n",
       "</style>\n",
       "<table border=\"1\" class=\"dataframe\">\n",
       "  <thead>\n",
       "    <tr style=\"text-align: right;\">\n",
       "      <th></th>\n",
       "      <th>shop_id</th>\n",
       "      <th>item_id</th>\n",
       "      <th>date_block_num</th>\n",
       "      <th>item_cnt_month</th>\n",
       "      <th>item_price</th>\n",
       "      <th>item_is_less_zero</th>\n",
       "      <th>item_category_id</th>\n",
       "      <th>item_section_name</th>\n",
       "      <th>shop_city</th>\n",
       "      <th>item_cnt_less_zero</th>\n",
       "      <th>...</th>\n",
       "      <th>item_price_lag_10</th>\n",
       "      <th>item_is_less_zero_lag_10</th>\n",
       "      <th>item_cnt_month_lag_11</th>\n",
       "      <th>item_price_lag_11</th>\n",
       "      <th>item_is_less_zero_lag_11</th>\n",
       "      <th>item_cnt_month_lag_12</th>\n",
       "      <th>item_price_lag_12</th>\n",
       "      <th>item_is_less_zero_lag_12</th>\n",
       "      <th>shop_item</th>\n",
       "      <th>month</th>\n",
       "    </tr>\n",
       "  </thead>\n",
       "  <tbody>\n",
       "    <tr>\n",
       "      <th>0</th>\n",
       "      <td>59</td>\n",
       "      <td>22154</td>\n",
       "      <td>0</td>\n",
       "      <td>1.0</td>\n",
       "      <td>999.0</td>\n",
       "      <td>0.0</td>\n",
       "      <td>37</td>\n",
       "      <td>7</td>\n",
       "      <td>30</td>\n",
       "      <td>0.0</td>\n",
       "      <td>...</td>\n",
       "      <td>0.0</td>\n",
       "      <td>0.0</td>\n",
       "      <td>0.0</td>\n",
       "      <td>0.0</td>\n",
       "      <td>0.0</td>\n",
       "      <td>0.0</td>\n",
       "      <td>0.0</td>\n",
       "      <td>0.0</td>\n",
       "      <td>59022154</td>\n",
       "      <td>0</td>\n",
       "    </tr>\n",
       "    <tr>\n",
       "      <th>1</th>\n",
       "      <td>16</td>\n",
       "      <td>6197</td>\n",
       "      <td>0</td>\n",
       "      <td>0.0</td>\n",
       "      <td>0.0</td>\n",
       "      <td>0.0</td>\n",
       "      <td>55</td>\n",
       "      <td>9</td>\n",
       "      <td>10</td>\n",
       "      <td>0.0</td>\n",
       "      <td>...</td>\n",
       "      <td>0.0</td>\n",
       "      <td>0.0</td>\n",
       "      <td>0.0</td>\n",
       "      <td>0.0</td>\n",
       "      <td>0.0</td>\n",
       "      <td>0.0</td>\n",
       "      <td>0.0</td>\n",
       "      <td>0.0</td>\n",
       "      <td>1606197</td>\n",
       "      <td>0</td>\n",
       "    </tr>\n",
       "  </tbody>\n",
       "</table>\n",
       "<p>2 rows × 48 columns</p>\n",
       "</div>"
      ],
      "text/plain": [
       "   shop_id  item_id  date_block_num  item_cnt_month  item_price  \\\n",
       "0       59    22154               0             1.0       999.0   \n",
       "1       16     6197               0             0.0         0.0   \n",
       "\n",
       "   item_is_less_zero  item_category_id  item_section_name  shop_city  \\\n",
       "0                0.0                37                  7         30   \n",
       "1                0.0                55                  9         10   \n",
       "\n",
       "   item_cnt_less_zero  ...  item_price_lag_10  item_is_less_zero_lag_10  \\\n",
       "0                 0.0  ...                0.0                       0.0   \n",
       "1                 0.0  ...                0.0                       0.0   \n",
       "\n",
       "   item_cnt_month_lag_11  item_price_lag_11  item_is_less_zero_lag_11  \\\n",
       "0                    0.0                0.0                       0.0   \n",
       "1                    0.0                0.0                       0.0   \n",
       "\n",
       "   item_cnt_month_lag_12  item_price_lag_12  item_is_less_zero_lag_12  \\\n",
       "0                    0.0                0.0                       0.0   \n",
       "1                    0.0                0.0                       0.0   \n",
       "\n",
       "   shop_item  month  \n",
       "0   59022154      0  \n",
       "1    1606197      0  \n",
       "\n",
       "[2 rows x 48 columns]"
      ]
     },
     "execution_count": 24,
     "metadata": {},
     "output_type": "execute_result"
    }
   ],
   "source": [
    "all_data.head(2)"
   ]
  },
  {
   "cell_type": "markdown",
   "metadata": {},
   "source": [
    "**mean encoding**"
   ]
  },
  {
   "cell_type": "code",
   "execution_count": 25,
   "metadata": {
    "ExecuteTime": {
     "end_time": "2020-06-22T18:29:43.792448Z",
     "start_time": "2020-06-22T18:29:38.567971Z"
    }
   },
   "outputs": [],
   "source": [
    "#train_part, val = all_data[all_data['date_block_num'] < 33], all_data[all_data['date_block_num'] == 33]\n",
    "#train, test = all_data[all_data['date_block_num'] < 34], all_data[all_data['date_block_num'] == 34]\n",
    "#############################################################################################\n",
    "all_data_part = all_data[all_data['date_block_num'] < 34]"
   ]
  },
  {
   "cell_type": "code",
   "execution_count": 26,
   "metadata": {
    "ExecuteTime": {
     "end_time": "2020-06-22T18:38:55.447692Z",
     "start_time": "2020-06-22T18:29:43.793846Z"
    }
   },
   "outputs": [
    {
     "data": {
      "application/vnd.jupyter.widget-view+json": {
       "model_id": "68ec8685d87242ee8e151128eed02939",
       "version_major": 2,
       "version_minor": 0
      },
      "text/plain": [
       "HBox(children=(FloatProgress(value=0.0, max=6.0), HTML(value='')))"
      ]
     },
     "metadata": {},
     "output_type": "display_data"
    },
    {
     "name": "stdout",
     "output_type": "stream",
     "text": [
      "\n"
     ]
    },
    {
     "data": {
      "application/vnd.jupyter.widget-view+json": {
       "model_id": "7320e2abb0bb47158e5cc24c7f111100",
       "version_major": 2,
       "version_minor": 0
      },
      "text/plain": [
       "HBox(children=(FloatProgress(value=0.0, max=6.0), HTML(value='')))"
      ]
     },
     "metadata": {},
     "output_type": "display_data"
    },
    {
     "name": "stdout",
     "output_type": "stream",
     "text": [
      "\n"
     ]
    }
   ],
   "source": [
    "mean_enc_features = ['item_id', 'shop_id', 'item_category_id', 'item_section_name', 'shop_city', 'shop_item']\n",
    "#encode for all train data and test\n",
    "#for col in tqdm(mean_enc_features):\n",
    "#    train, test = mean_enconding(train.copy(), test.copy(), col)\n",
    "\n",
    "#encode for train_part data and validation\n",
    "#for col in tqdm(mean_enc_features):\n",
    "#    train_part, val = mean_enconding(train_part.copy(), val.copy(), col)\n",
    "#####################################################################################################\n",
    "for col in tqdm(mean_enc_features):\n",
    "    all_data = mean_enconding(all_data.copy(), col)\n",
    "\n",
    "for col in tqdm(mean_enc_features):\n",
    "    all_data_part = mean_enconding(all_data_part.copy(), col)"
   ]
  },
  {
   "cell_type": "code",
   "execution_count": 27,
   "metadata": {
    "ExecuteTime": {
     "end_time": "2020-06-22T18:39:05.702086Z",
     "start_time": "2020-06-22T18:38:55.450512Z"
    }
   },
   "outputs": [],
   "source": [
    "#to validate\n",
    "train_part = all_data_part[all_data_part['date_block_num'] < 33]\n",
    "val = all_data_part[all_data_part['date_block_num'] == 33]\n",
    "\n",
    "#to fit on all data\n",
    "train, test = all_data[all_data['date_block_num'] < 34], all_data[all_data['date_block_num'] == 34]"
   ]
  },
  {
   "cell_type": "code",
   "execution_count": 28,
   "metadata": {
    "ExecuteTime": {
     "end_time": "2020-06-22T18:39:05.919273Z",
     "start_time": "2020-06-22T18:39:05.703851Z"
    }
   },
   "outputs": [
    {
     "name": "stdout",
     "output_type": "stream",
     "text": [
      "0.0 20.0\n"
     ]
    }
   ],
   "source": [
    "#check if target is clipped\n",
    "print(train['item_cnt_month'].min(), train['item_cnt_month'].max())"
   ]
  },
  {
   "cell_type": "code",
   "execution_count": 29,
   "metadata": {
    "ExecuteTime": {
     "end_time": "2020-06-22T18:39:53.616027Z",
     "start_time": "2020-06-22T18:39:05.921634Z"
    }
   },
   "outputs": [],
   "source": [
    "Xtrain_part, ytrain_part = train_part.drop(['item_cnt_month'] , axis=1), train_part['item_cnt_month']\n",
    "Xval, yval = val.drop(['item_cnt_month'] , axis=1), val['item_cnt_month']\n",
    "\n",
    "Xtrain, ytrain = train.drop(['item_cnt_month'] , axis=1), train['item_cnt_month']\n",
    "Xtest, ytest = test.drop(['item_cnt_month'] , axis=1), test['item_cnt_month']\n",
    "\n",
    "dtrain_part = xgb.DMatrix(data=Xtrain_part.to_numpy(), label=ytrain_part\n",
    "                     , feature_names=Xtrain.columns)\n",
    "dval = xgb.DMatrix(data=Xval.to_numpy(), label=yval\n",
    "                     , feature_names=Xtrain.columns)\n",
    "\n",
    "dtrain = xgb.DMatrix(data=Xtrain.to_numpy(), label=ytrain\n",
    "                     , feature_names=Xtrain.columns)\n",
    "dtest = xgb.DMatrix(data=Xtest.to_numpy(), label=ytest\n",
    "                   , feature_names=Xtrain.columns)"
   ]
  },
  {
   "cell_type": "code",
   "execution_count": 30,
   "metadata": {
    "ExecuteTime": {
     "end_time": "2020-06-22T18:39:53.624129Z",
     "start_time": "2020-06-22T18:39:53.619801Z"
    }
   },
   "outputs": [],
   "source": [
    "default_params = {  'objective': 'reg:squarederror'                    \n",
    "                    , 'subsample': 0.8\n",
    "                    , 'colsample_bytree': 0.9\n",
    "                    , 'learning_rate': 0.1\n",
    "                    , 'tree_method': 'hist'\n",
    "                    , 'grow_policy': 'lossguide'\n",
    "                    , 'max_leaves': 63\n",
    "                    , 'max_depth': 0\n",
    "                    , 'gamma': 1\n",
    "                    , 'reg_alpha': 1.2\n",
    "                    , 'reg_lambda': 1.3\n",
    "                    , 'min_child_weight': 30\n",
    "                    , 'max_delta_step': 2\n",
    "                    , 'n_jobs': 60\n",
    "                    , 'random_state': 42\n",
    "                    , 'eval_metric': 'rmse'\n",
    "                }   "
   ]
  },
  {
   "cell_type": "code",
   "execution_count": 33,
   "metadata": {
    "ExecuteTime": {
     "end_time": "2020-06-22T18:48:44.726196Z",
     "start_time": "2020-06-22T18:44:40.575285Z"
    }
   },
   "outputs": [
    {
     "name": "stdout",
     "output_type": "stream",
     "text": [
      "[0]\ttrain_part-rmse:1.19765\tval-rmse:1.11913\n",
      "Multiple eval metrics have been passed: 'val-rmse' will be used for early stopping.\n",
      "\n",
      "Will train until val-rmse hasn't improved in 100 rounds.\n",
      "[100]\ttrain_part-rmse:0.70051\tval-rmse:0.73171\n",
      "[200]\ttrain_part-rmse:0.66199\tval-rmse:0.71723\n",
      "[300]\ttrain_part-rmse:0.64300\tval-rmse:0.71067\n",
      "[399]\ttrain_part-rmse:0.62857\tval-rmse:0.70721\n"
     ]
    }
   ],
   "source": [
    "model1_part = xgb.train(default_params, dtrain_part, num_boost_round=400, early_stopping_rounds=100, verbose_eval=100\n",
    "           , evals=[(dtrain_part,'train_part'), (dval,'val')])"
   ]
  },
  {
   "cell_type": "code",
   "execution_count": 34,
   "metadata": {
    "ExecuteTime": {
     "end_time": "2020-06-22T18:52:50.784747Z",
     "start_time": "2020-06-22T18:48:44.729368Z"
    }
   },
   "outputs": [
    {
     "name": "stdout",
     "output_type": "stream",
     "text": [
      "[0]\ttrain-rmse:1.19595\n",
      "Will train until train-rmse hasn't improved in 100 rounds.\n",
      "[100]\ttrain-rmse:0.69898\n",
      "[200]\ttrain-rmse:0.66226\n",
      "[300]\ttrain-rmse:0.64454\n",
      "[399]\ttrain-rmse:0.63063\n"
     ]
    }
   ],
   "source": [
    "model1 = xgb.train(default_params, dtrain, num_boost_round=400, early_stopping_rounds=100, verbose_eval=100\n",
    "           , evals=[(dtrain,'train')])"
   ]
  },
  {
   "cell_type": "code",
   "execution_count": 35,
   "metadata": {
    "ExecuteTime": {
     "end_time": "2020-06-22T18:52:51.863513Z",
     "start_time": "2020-06-22T18:52:50.787755Z"
    }
   },
   "outputs": [],
   "source": [
    "ans = pd.DataFrame({'item_cnt_month': model1.predict(dtest)})\n",
    "ans['item_cnt_month'] = ans['item_cnt_month'].clip(0, 20)\n",
    "ans.insert(0, 'ID', ans.index)\n",
    "ans.to_csv(DATA_DIR / '22_06_2020_1.csv', index=False)\n",
    "#1.366496 LB - seems that using item_price like that leads to overfitting"
   ]
  },
  {
   "cell_type": "markdown",
   "metadata": {},
   "source": [
    "**the same as above but drop item_price features**"
   ]
  },
  {
   "cell_type": "code",
   "execution_count": 36,
   "metadata": {
    "ExecuteTime": {
     "end_time": "2020-06-22T18:53:41.371863Z",
     "start_time": "2020-06-22T18:52:51.865113Z"
    }
   },
   "outputs": [],
   "source": [
    "l = ['item_price_lag_' + str(i) for i in range(1, 13)] + ['item_price']\n",
    "Xtrain_part, ytrain_part = train_part.drop(l + ['item_cnt_month'] , axis=1), train_part['item_cnt_month']\n",
    "Xval, yval = val.drop(l+['item_cnt_month'] , axis=1), val['item_cnt_month']\n",
    "\n",
    "Xtrain, ytrain = train.drop(l+['item_cnt_month'] , axis=1), train['item_cnt_month']\n",
    "Xtest, ytest = test.drop(l+['item_cnt_month'] , axis=1), test['item_cnt_month']\n",
    "\n",
    "dtrain_part = xgb.DMatrix(data=Xtrain_part.to_numpy(), label=ytrain_part\n",
    "                     , feature_names=Xtrain.columns)\n",
    "dval = xgb.DMatrix(data=Xval.to_numpy(), label=yval\n",
    "                     , feature_names=Xtrain.columns)\n",
    "\n",
    "dtrain = xgb.DMatrix(data=Xtrain.to_numpy(), label=ytrain\n",
    "                     , feature_names=Xtrain.columns)\n",
    "dtest = xgb.DMatrix(data=Xtest.to_numpy(), label=ytest\n",
    "                   , feature_names=Xtrain.columns)"
   ]
  },
  {
   "cell_type": "code",
   "execution_count": 37,
   "metadata": {
    "ExecuteTime": {
     "end_time": "2020-06-22T18:56:04.524151Z",
     "start_time": "2020-06-22T18:53:41.374516Z"
    }
   },
   "outputs": [
    {
     "name": "stdout",
     "output_type": "stream",
     "text": [
      "[0]\ttrain_part-rmse:1.21758\tval-rmse:1.14240\n",
      "Multiple eval metrics have been passed: 'val-rmse' will be used for early stopping.\n",
      "\n",
      "Will train until val-rmse hasn't improved in 100 rounds.\n",
      "[100]\ttrain_part-rmse:0.90476\tval-rmse:0.94841\n",
      "[200]\ttrain_part-rmse:0.87558\tval-rmse:0.95621\n",
      "Stopping. Best iteration:\n",
      "[165]\ttrain_part-rmse:0.88583\tval-rmse:0.94589\n",
      "\n"
     ]
    }
   ],
   "source": [
    "model2_part = xgb.train(default_params, dtrain_part, num_boost_round=400, early_stopping_rounds=100, verbose_eval=100\n",
    "           , evals=[(dtrain_part,'train_part'), (dval,'val')])"
   ]
  },
  {
   "cell_type": "code",
   "execution_count": 42,
   "metadata": {
    "ExecuteTime": {
     "end_time": "2020-06-22T19:25:57.263998Z",
     "start_time": "2020-06-22T19:16:28.315770Z"
    }
   },
   "outputs": [
    {
     "name": "stdout",
     "output_type": "stream",
     "text": [
      "[0]\ttrain_part-rmse:1.21611\n",
      "Will train until train_part-rmse hasn't improved in 100 rounds.\n",
      "[100]\ttrain_part-rmse:0.90736\n",
      "[200]\ttrain_part-rmse:0.88100\n",
      "[300]\ttrain_part-rmse:0.86350\n",
      "[400]\ttrain_part-rmse:0.85052\n",
      "[499]\ttrain_part-rmse:0.83788\n"
     ]
    }
   ],
   "source": [
    "model2 = xgb.train(default_params, dtrain, num_boost_round=165, early_stopping_rounds=100, verbose_eval=100\n",
    "           , evals=[(dtrain,'train_part')])"
   ]
  },
  {
   "cell_type": "code",
   "execution_count": 43,
   "metadata": {
    "ExecuteTime": {
     "end_time": "2020-06-22T19:26:09.326126Z",
     "start_time": "2020-06-22T19:26:08.811515Z"
    }
   },
   "outputs": [],
   "source": [
    "ans = pd.DataFrame({'item_cnt_month': model2.predict(dtest)})\n",
    "ans['item_cnt_month'] = ans['item_cnt_month'].clip(0, 20)\n",
    "ans.insert(0, 'ID', ans.index)\n",
    "ans.to_csv(DATA_DIR / '22_06_2020_3.csv', index=False)\n",
    "#0.98228 - 165 trees, 0.976359 - 500 trees"
   ]
  },
  {
   "cell_type": "markdown",
   "metadata": {},
   "source": [
    "**drop item_price and item_is_less_zero**"
   ]
  },
  {
   "cell_type": "code",
   "execution_count": 48,
   "metadata": {
    "ExecuteTime": {
     "end_time": "2020-06-22T19:27:27.107547Z",
     "start_time": "2020-06-22T19:26:54.933107Z"
    }
   },
   "outputs": [],
   "source": [
    "l = ['item_price_lag_' + str(i) for i in range(1, 13)] + ['item_price']\\\n",
    "    + ['item_is_less_zero_lag_' + str(i) for i in range(1, 13)] + ['item_is_less_zero']\n",
    "Xtrain_part, ytrain_part = train_part.drop(l + ['item_cnt_month'] , axis=1), train_part['item_cnt_month']\n",
    "Xval, yval = val.drop(l+['item_cnt_month'] , axis=1), val['item_cnt_month']\n",
    "\n",
    "Xtrain, ytrain = train.drop(l+['item_cnt_month'] , axis=1), train['item_cnt_month']\n",
    "Xtest, ytest = test.drop(l+['item_cnt_month'] , axis=1), test['item_cnt_month']\n",
    "\n",
    "dtrain_part = xgb.DMatrix(data=Xtrain_part.to_numpy(), label=ytrain_part\n",
    "                     , feature_names=Xtrain.columns)\n",
    "dval = xgb.DMatrix(data=Xval.to_numpy(), label=yval\n",
    "                     , feature_names=Xtrain.columns)\n",
    "\n",
    "dtrain = xgb.DMatrix(data=Xtrain.to_numpy(), label=ytrain\n",
    "                     , feature_names=Xtrain.columns)\n",
    "dtest = xgb.DMatrix(data=Xtest.to_numpy(), label=ytest\n",
    "                   , feature_names=Xtrain.columns)"
   ]
  },
  {
   "cell_type": "code",
   "execution_count": 49,
   "metadata": {
    "ExecuteTime": {
     "end_time": "2020-06-22T19:29:26.155597Z",
     "start_time": "2020-06-22T19:27:27.110685Z"
    }
   },
   "outputs": [
    {
     "name": "stdout",
     "output_type": "stream",
     "text": [
      "[0]\ttrain_part-rmse:1.21776\tval-rmse:1.14271\n",
      "Multiple eval metrics have been passed: 'val-rmse' will be used for early stopping.\n",
      "\n",
      "Will train until val-rmse hasn't improved in 100 rounds.\n",
      "[100]\ttrain_part-rmse:0.90643\tval-rmse:0.94459\n",
      "[200]\ttrain_part-rmse:0.87604\tval-rmse:0.95315\n",
      "Stopping. Best iteration:\n",
      "[143]\ttrain_part-rmse:0.89197\tval-rmse:0.94215\n",
      "\n"
     ]
    }
   ],
   "source": [
    "model3_part = xgb.train(default_params, dtrain_part, num_boost_round=400, early_stopping_rounds=100, verbose_eval=100\n",
    "           , evals=[(dtrain_part,'train_part'), (dval,'val')])"
   ]
  },
  {
   "cell_type": "code",
   "execution_count": 53,
   "metadata": {
    "ExecuteTime": {
     "end_time": "2020-06-22T19:36:34.667481Z",
     "start_time": "2020-06-22T19:35:15.563033Z"
    }
   },
   "outputs": [
    {
     "name": "stdout",
     "output_type": "stream",
     "text": [
      "[0]\ttrain_part-rmse:1.21644\n",
      "Will train until train_part-rmse hasn't improved in 100 rounds.\n",
      "[100]\ttrain_part-rmse:0.90651\n",
      "[142]\ttrain_part-rmse:0.89209\n"
     ]
    }
   ],
   "source": [
    "model3 = xgb.train(default_params, dtrain, num_boost_round=143, early_stopping_rounds=100, verbose_eval=100\n",
    "           , evals=[(dtrain,'train_part')])"
   ]
  },
  {
   "cell_type": "code",
   "execution_count": 55,
   "metadata": {
    "ExecuteTime": {
     "end_time": "2020-06-22T19:37:07.805232Z",
     "start_time": "2020-06-22T19:37:07.350092Z"
    }
   },
   "outputs": [],
   "source": [
    "ans = pd.DataFrame({'item_cnt_month': model3.predict(dtest)})\n",
    "ans['item_cnt_month'] = ans['item_cnt_month'].clip(0, 20)\n",
    "ans.insert(0, 'ID', ans.index)\n",
    "ans.to_csv(DATA_DIR / '22_06_2020_4.csv', index=False)\n",
    "# 0.978727 - 143 trees, 0.973552 - 500 trees"
   ]
  },
  {
   "cell_type": "markdown",
   "metadata": {},
   "source": [
    "It seems thar using item_price and item_is_less_zero are useless in a such way in this case"
   ]
  },
  {
   "cell_type": "code",
   "execution_count": null,
   "metadata": {},
   "outputs": [],
   "source": []
  },
  {
   "cell_type": "markdown",
   "metadata": {},
   "source": [
    "There is the result i got using almost all as for model3 above or like that, lost a bit"
   ]
  },
  {
   "cell_type": "code",
   "execution_count": 31,
   "metadata": {
    "ExecuteTime": {
     "end_time": "2020-06-20T16:27:26.595026Z",
     "start_time": "2020-06-20T16:19:31.203723Z"
    }
   },
   "outputs": [
    {
     "name": "stdout",
     "output_type": "stream",
     "text": [
      "[0]\ttrain_part-rmse:1.21844\tval-rmse:1.14205\n",
      "Multiple eval metrics have been passed: 'val-rmse' will be used for early stopping.\n",
      "\n",
      "Will train until val-rmse hasn't improved in 100 rounds.\n",
      "[100]\ttrain_part-rmse:0.93454\tval-rmse:0.91436\n",
      "[200]\ttrain_part-rmse:0.93094\tval-rmse:0.86595\n",
      "[300]\ttrain_part-rmse:0.93203\tval-rmse:0.84951\n",
      "[400]\ttrain_part-rmse:0.94141\tval-rmse:0.84116\n",
      "[500]\ttrain_part-rmse:0.95617\tval-rmse:0.83298\n",
      "[600]\ttrain_part-rmse:0.96739\tval-rmse:0.82580\n",
      "[700]\ttrain_part-rmse:0.97089\tval-rmse:0.82122\n",
      "[800]\ttrain_part-rmse:0.98814\tval-rmse:0.81956\n",
      "[900]\ttrain_part-rmse:1.02199\tval-rmse:0.81698\n",
      "[999]\ttrain_part-rmse:1.03429\tval-rmse:0.81378\n"
     ]
    }
   ],
   "source": [
    "model1_part = xgb.train(default_params, dtrain, num_boost_round=1000, early_stopping_rounds=100, verbose_eval=100\n",
    "           , evals=[(dtrain_part,'train_part'), (dval,'val')])"
   ]
  },
  {
   "cell_type": "code",
   "execution_count": 32,
   "metadata": {
    "ExecuteTime": {
     "end_time": "2020-06-20T16:34:08.592861Z",
     "start_time": "2020-06-20T16:27:26.597166Z"
    }
   },
   "outputs": [
    {
     "name": "stdout",
     "output_type": "stream",
     "text": [
      "[0]\ttrain_part-rmse:1.21644\n",
      "Will train until train_part-rmse hasn't improved in 100 rounds.\n",
      "[100]\ttrain_part-rmse:0.90624\n",
      "[200]\ttrain_part-rmse:0.88000\n",
      "[300]\ttrain_part-rmse:0.86189\n",
      "[400]\ttrain_part-rmse:0.84833\n",
      "[500]\ttrain_part-rmse:0.83575\n",
      "[600]\ttrain_part-rmse:0.82518\n",
      "[700]\ttrain_part-rmse:0.81165\n",
      "[800]\ttrain_part-rmse:0.80382\n",
      "[900]\ttrain_part-rmse:0.79622\n",
      "[999]\ttrain_part-rmse:0.78983\n"
     ]
    }
   ],
   "source": [
    "model1 = xgb.train(default_params, dtrain, num_boost_round=1000, early_stopping_rounds=100, verbose_eval=100\n",
    "           , evals=[(dtrain,'train')])"
   ]
  },
  {
   "cell_type": "code",
   "execution_count": 30,
   "metadata": {
    "ExecuteTime": {
     "end_time": "2020-06-22T13:01:02.173862Z",
     "start_time": "2020-06-22T13:01:01.607818Z"
    }
   },
   "outputs": [],
   "source": [
    "ans = pd.DataFrame({'item_cnt_month': model1.predict(dtest)})\n",
    "ans['item_cnt_month'] = ans['item_cnt_month'].clip(0, 20)\n",
    "ans.insert(0, 'ID', ans.index)\n",
    "ans.to_csv(DATA_DIR / 'scores.csv', index=False)\n",
    "#96706"
   ]
  },
  {
   "cell_type": "code",
   "execution_count": null,
   "metadata": {},
   "outputs": [],
   "source": []
  }
 ],
 "metadata": {
  "kernelspec": {
   "display_name": "Python 3.6",
   "language": "python36",
   "name": "python3.6"
  },
  "language_info": {
   "codemirror_mode": {
    "name": "ipython",
    "version": 3
   },
   "file_extension": ".py",
   "mimetype": "text/x-python",
   "name": "python",
   "nbconvert_exporter": "python",
   "pygments_lexer": "ipython3",
   "version": "3.6.8"
  }
 },
 "nbformat": 4,
 "nbformat_minor": 2
}
