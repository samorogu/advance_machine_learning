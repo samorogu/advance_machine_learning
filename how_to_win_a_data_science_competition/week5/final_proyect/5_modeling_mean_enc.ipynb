{
 "cells": [
  {
   "cell_type": "code",
   "execution_count": 1,
   "metadata": {
    "ExecuteTime": {
     "end_time": "2020-06-24T12:20:11.011776Z",
     "start_time": "2020-06-24T12:20:09.712726Z"
    }
   },
   "outputs": [],
   "source": [
    "import numpy as np\n",
    "import pandas as pd\n",
    "import matplotlib.pyplot as plt\n",
    "import seaborn as sns\n",
    "import shap\n",
    "\n",
    "import os\n",
    "import getpass\n",
    "import gc\n",
    "from pathlib import Path\n",
    "\n",
    "import itertools\n",
    "\n",
    "import xgboost as xgb\n",
    "from lightgbm import LGBMRegressor\n",
    "\n",
    "from sklearn.preprocessing import LabelEncoder\n",
    "from sklearn.model_selection import KFold\n",
    "\n",
    "from tqdm.notebook import tqdm\n",
    "import warnings\n",
    "#warnings.filterwarnings('ignore')"
   ]
  },
  {
   "cell_type": "code",
   "execution_count": 2,
   "metadata": {
    "ExecuteTime": {
     "end_time": "2020-06-24T12:20:11.018979Z",
     "start_time": "2020-06-24T12:20:11.013426Z"
    }
   },
   "outputs": [],
   "source": [
    "#with such encoding got better results\n",
    "def cv_mean_enc(sample, column, kf, globalmean, alpha):\n",
    "    \n",
    "    for train_ix, test_ix in kf.split(sample):\n",
    "        train, test = sample.iloc[train_ix], sample.iloc[test_ix]\n",
    "        \n",
    "        #smoothing\n",
    "        column_enc = (train.groupby(column)['item_cnt_month'].mean()\n",
    "                        * train.groupby(column)['item_cnt_month'].count()\n",
    "                        + globalmean * alpha) / (train.groupby(column)['item_cnt_month'].count() + alpha)\n",
    "        #column_enc = train.groupby(column)['item_cnt_month'].mean()\n",
    "\n",
    "\n",
    "        \n",
    "        sample.loc[test_ix, column+'_enc'] = sample.loc[test_ix, column].map(column_enc)\n",
    "\n",
    "    #fill nan with global mean\n",
    "    sample[column+'_enc'].fillna(globalmean, inplace=True) \n",
    "    \n",
    "    return sample\n",
    "    \n",
    "def mean_enconding(sample, column, alpha=5):\n",
    "\n",
    "    kf = KFold(n_splits=5, shuffle=False)\n",
    "    \n",
    "    \n",
    "    #globalmean_part = sample_part[column].mean()\n",
    "    globalmean = sample[column].mean()\n",
    "    \n",
    "    #sample_part = cv_mean_enc(sample_part, column, kf, globalmean_part, alpha)\n",
    "    sample = cv_mean_enc(sample, column, kf, globalmean, alpha)\n",
    "\n",
    "    return sample"
   ]
  },
  {
   "cell_type": "code",
   "execution_count": 3,
   "metadata": {
    "ExecuteTime": {
     "end_time": "2020-06-24T12:20:12.173789Z",
     "start_time": "2020-06-24T12:20:11.020699Z"
    }
   },
   "outputs": [],
   "source": [
    "DATA_DIR = Path('/data', sgetpass.getuser(), 'kaggle', 'future_sales') #path to data files\n",
    "\n",
    "sales = pd.read_csv(DATA_DIR / 'sales_train.csv')\n",
    "items = pd.read_csv(DATA_DIR / 'items.csv')\n",
    "item_categories = pd.read_csv(DATA_DIR / 'item_categories.csv')\n",
    "shops = pd.read_csv(DATA_DIR /'shops.csv')\n",
    "\n",
    "test = pd.read_csv(DATA_DIR / 'test.csv').set_index('ID')"
   ]
  },
  {
   "cell_type": "markdown",
   "metadata": {},
   "source": [
    "**Little preporcessing**"
   ]
  },
  {
   "cell_type": "code",
   "execution_count": 4,
   "metadata": {
    "ExecuteTime": {
     "end_time": "2020-06-24T12:20:12.179182Z",
     "start_time": "2020-06-24T12:20:12.176168Z"
    }
   },
   "outputs": [],
   "source": [
    "def shop_id_change(sample):\n",
    "    sample.loc[sample['shop_id']==57, 'shop_id'] = 0\n",
    "    sample.loc[sample['shop_id']==58, 'shop_id'] = 1\n",
    "    sample.loc[sample['shop_id']==11, 'shop_id'] = 10\n",
    "    \n",
    "    return sample"
   ]
  },
  {
   "cell_type": "code",
   "execution_count": 5,
   "metadata": {
    "ExecuteTime": {
     "end_time": "2020-06-24T12:20:12.393503Z",
     "start_time": "2020-06-24T12:20:12.180709Z"
    }
   },
   "outputs": [],
   "source": [
    "sales = sales[(sales['item_cnt_day'] <= 900) & (sales['item_price'] <= 60000) & ((sales['item_price'] >= 0))]"
   ]
  },
  {
   "cell_type": "code",
   "execution_count": 6,
   "metadata": {
    "ExecuteTime": {
     "end_time": "2020-06-24T12:20:12.474248Z",
     "start_time": "2020-06-24T12:20:12.395371Z"
    }
   },
   "outputs": [],
   "source": [
    "#change shop_id\n",
    "sales = shop_id_change(sales)\n",
    "shops = shop_id_change(shops)\n",
    "test = shop_id_change(test)"
   ]
  },
  {
   "cell_type": "code",
   "execution_count": 7,
   "metadata": {
    "ExecuteTime": {
     "end_time": "2020-06-24T12:20:12.482333Z",
     "start_time": "2020-06-24T12:20:12.475914Z"
    }
   },
   "outputs": [],
   "source": [
    "#create feature - city\n",
    "shops['shop_city'] = shops['shop_name'].apply(lambda x: x.lower()).str.replace('[^\\w\\s]', '').str.strip()\n",
    "shops['shop_city'] = shops['shop_city'].apply(lambda x: x.split()[0])\n",
    "shops['shop_city'] = LabelEncoder().fit_transform(shops['shop_city'])"
   ]
  },
  {
   "cell_type": "code",
   "execution_count": 8,
   "metadata": {
    "ExecuteTime": {
     "end_time": "2020-06-24T12:20:12.490012Z",
     "start_time": "2020-06-24T12:20:12.485966Z"
    }
   },
   "outputs": [],
   "source": [
    "#create feature - section of products\n",
    "item_categories['item_section_name'] = item_categories['item_category_name'] \\\n",
    "                                        .apply(lambda x: x.lower().split('-')[0].split()[0].strip())\n",
    "item_categories['item_section_name'] = LabelEncoder().fit_transform(item_categories['item_section_name'])"
   ]
  },
  {
   "cell_type": "markdown",
   "metadata": {},
   "source": [
    "\n",
    "Since we need to predict monthly, so aggregate data"
   ]
  },
  {
   "cell_type": "code",
   "execution_count": 9,
   "metadata": {
    "ExecuteTime": {
     "end_time": "2020-06-24T12:20:24.907381Z",
     "start_time": "2020-06-24T12:20:12.491563Z"
    }
   },
   "outputs": [],
   "source": [
    "index_cols = ['shop_id', 'item_id', 'date_block_num']\n",
    "grid = []\n",
    "\n",
    "for block_num in sales['date_block_num'].unique():\n",
    "    cur_shops = sales[sales['date_block_num']==block_num]['shop_id'].unique()\n",
    "    cur_items = sales[sales['date_block_num']==block_num]['item_id'].unique()\n",
    "    grid.append(np.array(list(itertools.product(*[cur_shops, cur_items, [block_num]])), dtype='int32'))\n",
    "\n",
    "grid = pd.DataFrame(np.vstack(grid), columns = index_cols,dtype=np.int32)\n",
    "\n",
    "\n",
    "# Aggregations\n",
    "sales['item_cnt_day'] = sales['item_cnt_day'].clip(0,20) #seems it's better to clip here\n",
    "train = sales.groupby(['shop_id', 'item_id', 'date_block_num'], as_index=False) \\\n",
    "            .agg({'item_cnt_day':'sum', 'item_price':'mean'})\n",
    "train = train.rename(columns = {'item_cnt_day' : 'item_cnt_month'})\n",
    "train['item_cnt_month'] = train['item_cnt_month'].clip(0,20) #one more clip\n",
    "\n",
    "#merge aggregated sales and grid\n",
    "train = pd.merge(grid, train, how='left',on=index_cols)\n",
    "train['item_cnt_month'] = train['item_cnt_month'].fillna(0)"
   ]
  },
  {
   "cell_type": "code",
   "execution_count": 10,
   "metadata": {
    "ExecuteTime": {
     "end_time": "2020-06-24T12:20:25.092496Z",
     "start_time": "2020-06-24T12:20:24.910445Z"
    }
   },
   "outputs": [
    {
     "name": "stdout",
     "output_type": "stream",
     "text": [
      "(10913804, 4)\n"
     ]
    },
    {
     "data": {
      "text/html": [
       "<div>\n",
       "<style scoped>\n",
       "    .dataframe tbody tr th:only-of-type {\n",
       "        vertical-align: middle;\n",
       "    }\n",
       "\n",
       "    .dataframe tbody tr th {\n",
       "        vertical-align: top;\n",
       "    }\n",
       "\n",
       "    .dataframe thead th {\n",
       "        text-align: right;\n",
       "    }\n",
       "</style>\n",
       "<table border=\"1\" class=\"dataframe\">\n",
       "  <thead>\n",
       "    <tr style=\"text-align: right;\">\n",
       "      <th></th>\n",
       "      <th>shop_id</th>\n",
       "      <th>item_id</th>\n",
       "      <th>date_block_num</th>\n",
       "      <th>item_cnt_month</th>\n",
       "    </tr>\n",
       "  </thead>\n",
       "  <tbody>\n",
       "    <tr>\n",
       "      <th>0</th>\n",
       "      <td>59</td>\n",
       "      <td>22154</td>\n",
       "      <td>0</td>\n",
       "      <td>1.0</td>\n",
       "    </tr>\n",
       "    <tr>\n",
       "      <th>1</th>\n",
       "      <td>59</td>\n",
       "      <td>2552</td>\n",
       "      <td>0</td>\n",
       "      <td>0.0</td>\n",
       "    </tr>\n",
       "  </tbody>\n",
       "</table>\n",
       "</div>"
      ],
      "text/plain": [
       "   shop_id  item_id  date_block_num  item_cnt_month\n",
       "0       59    22154               0             1.0\n",
       "1       59     2552               0             0.0"
      ]
     },
     "execution_count": 10,
     "metadata": {},
     "output_type": "execute_result"
    }
   ],
   "source": [
    "train = train.drop(['item_price'], axis=1)\n",
    "print(train.shape)\n",
    "train.head(2)"
   ]
  },
  {
   "cell_type": "code",
   "execution_count": 11,
   "metadata": {
    "ExecuteTime": {
     "end_time": "2020-06-24T12:20:37.295813Z",
     "start_time": "2020-06-24T12:20:25.093862Z"
    }
   },
   "outputs": [
    {
     "data": {
      "text/html": [
       "<div>\n",
       "<style scoped>\n",
       "    .dataframe tbody tr th:only-of-type {\n",
       "        vertical-align: middle;\n",
       "    }\n",
       "\n",
       "    .dataframe tbody tr th {\n",
       "        vertical-align: top;\n",
       "    }\n",
       "\n",
       "    .dataframe thead th {\n",
       "        text-align: right;\n",
       "    }\n",
       "</style>\n",
       "<table border=\"1\" class=\"dataframe\">\n",
       "  <thead>\n",
       "    <tr style=\"text-align: right;\">\n",
       "      <th></th>\n",
       "      <th>shop_id</th>\n",
       "      <th>item_id</th>\n",
       "      <th>date_block_num</th>\n",
       "      <th>item_cnt_month</th>\n",
       "      <th>item_category_id</th>\n",
       "      <th>item_section_name</th>\n",
       "      <th>shop_city</th>\n",
       "    </tr>\n",
       "  </thead>\n",
       "  <tbody>\n",
       "    <tr>\n",
       "      <th>0</th>\n",
       "      <td>59</td>\n",
       "      <td>22154</td>\n",
       "      <td>0</td>\n",
       "      <td>1.0</td>\n",
       "      <td>37</td>\n",
       "      <td>7</td>\n",
       "      <td>30</td>\n",
       "    </tr>\n",
       "    <tr>\n",
       "      <th>1</th>\n",
       "      <td>16</td>\n",
       "      <td>6197</td>\n",
       "      <td>0</td>\n",
       "      <td>0.0</td>\n",
       "      <td>55</td>\n",
       "      <td>9</td>\n",
       "      <td>10</td>\n",
       "    </tr>\n",
       "  </tbody>\n",
       "</table>\n",
       "</div>"
      ],
      "text/plain": [
       "   shop_id  item_id  date_block_num  item_cnt_month  item_category_id  \\\n",
       "0       59    22154               0             1.0                37   \n",
       "1       16     6197               0             0.0                55   \n",
       "\n",
       "   item_section_name  shop_city  \n",
       "0                  7         30  \n",
       "1                  9         10  "
      ]
     },
     "execution_count": 11,
     "metadata": {},
     "output_type": "execute_result"
    }
   ],
   "source": [
    "#add some features to train\n",
    "train = train.merge(items[['item_id', 'item_category_id']], on='item_id')\n",
    "train = train.merge(item_categories[['item_category_id', 'item_section_name']], on='item_category_id')\n",
    "train = train.merge(shops[['shop_city', 'shop_id']], on='shop_id')\n",
    "\n",
    "train = train.drop_duplicates()\n",
    "train = train.sort_values(by=['date_block_num']).reset_index(drop=True)\n",
    "train.head(2)"
   ]
  },
  {
   "cell_type": "code",
   "execution_count": 12,
   "metadata": {
    "ExecuteTime": {
     "end_time": "2020-06-24T12:20:37.301981Z",
     "start_time": "2020-06-24T12:20:37.297470Z"
    }
   },
   "outputs": [
    {
     "name": "stdout",
     "output_type": "stream",
     "text": [
      "(214200, 4)\n"
     ]
    }
   ],
   "source": [
    "test['date_block_num']= 34\n",
    "test['item_cnt_month'] = -1 #since need to predict it\n",
    "print(test.shape)"
   ]
  },
  {
   "cell_type": "code",
   "execution_count": 13,
   "metadata": {
    "ExecuteTime": {
     "end_time": "2020-06-24T12:20:37.411101Z",
     "start_time": "2020-06-24T12:20:37.303233Z"
    }
   },
   "outputs": [],
   "source": [
    "test = test.merge(items[['item_id', 'item_category_id']], on='item_id', how='left')\n",
    "test = test.merge(item_categories[['item_category_id', 'item_section_name']], on='item_category_id', how='left')\n",
    "test = test.merge(shops[['shop_city', 'shop_id']], on='shop_id', how='left')\n",
    "test = test.drop_duplicates().reset_index(drop=True)"
   ]
  },
  {
   "cell_type": "code",
   "execution_count": 14,
   "metadata": {
    "ExecuteTime": {
     "end_time": "2020-06-24T12:20:37.419370Z",
     "start_time": "2020-06-24T12:20:37.412552Z"
    }
   },
   "outputs": [
    {
     "data": {
      "text/html": [
       "<div>\n",
       "<style scoped>\n",
       "    .dataframe tbody tr th:only-of-type {\n",
       "        vertical-align: middle;\n",
       "    }\n",
       "\n",
       "    .dataframe tbody tr th {\n",
       "        vertical-align: top;\n",
       "    }\n",
       "\n",
       "    .dataframe thead th {\n",
       "        text-align: right;\n",
       "    }\n",
       "</style>\n",
       "<table border=\"1\" class=\"dataframe\">\n",
       "  <thead>\n",
       "    <tr style=\"text-align: right;\">\n",
       "      <th></th>\n",
       "      <th>shop_id</th>\n",
       "      <th>item_id</th>\n",
       "      <th>date_block_num</th>\n",
       "      <th>item_cnt_month</th>\n",
       "      <th>item_category_id</th>\n",
       "      <th>item_section_name</th>\n",
       "      <th>shop_city</th>\n",
       "    </tr>\n",
       "  </thead>\n",
       "  <tbody>\n",
       "    <tr>\n",
       "      <th>0</th>\n",
       "      <td>5</td>\n",
       "      <td>5037</td>\n",
       "      <td>34</td>\n",
       "      <td>-1</td>\n",
       "      <td>19</td>\n",
       "      <td>5</td>\n",
       "      <td>3</td>\n",
       "    </tr>\n",
       "    <tr>\n",
       "      <th>1</th>\n",
       "      <td>5</td>\n",
       "      <td>5320</td>\n",
       "      <td>34</td>\n",
       "      <td>-1</td>\n",
       "      <td>55</td>\n",
       "      <td>9</td>\n",
       "      <td>3</td>\n",
       "    </tr>\n",
       "  </tbody>\n",
       "</table>\n",
       "</div>"
      ],
      "text/plain": [
       "   shop_id  item_id  date_block_num  item_cnt_month  item_category_id  \\\n",
       "0        5     5037              34              -1                19   \n",
       "1        5     5320              34              -1                55   \n",
       "\n",
       "   item_section_name  shop_city  \n",
       "0                  5          3  \n",
       "1                  9          3  "
      ]
     },
     "execution_count": 14,
     "metadata": {},
     "output_type": "execute_result"
    }
   ],
   "source": [
    "test.head(2)"
   ]
  },
  {
   "cell_type": "markdown",
   "metadata": {},
   "source": [
    "**Combine data**"
   ]
  },
  {
   "cell_type": "code",
   "execution_count": 15,
   "metadata": {
    "ExecuteTime": {
     "end_time": "2020-06-24T12:20:39.469129Z",
     "start_time": "2020-06-24T12:20:37.421122Z"
    }
   },
   "outputs": [],
   "source": [
    "#concat all data to create mean encoded features and lag ones\n",
    "all_data = pd.concat([train, test]).reset_index(drop=True)"
   ]
  },
  {
   "cell_type": "markdown",
   "metadata": {},
   "source": [
    "**Add lag features**"
   ]
  },
  {
   "cell_type": "code",
   "execution_count": 16,
   "metadata": {
    "ExecuteTime": {
     "end_time": "2020-06-24T12:20:39.476768Z",
     "start_time": "2020-06-24T12:20:39.470739Z"
    }
   },
   "outputs": [],
   "source": [
    "def create_lag_features(sample, group_cols, statistics=['median'], shift_range=list(range(1,13))):\n",
    "    '''Create lag features based on grouped columns and statistics\n",
    "    \n",
    "    Parameters:\n",
    "        sample - datafram\n",
    "        group_cols - list of columns which must be used for group by operation, the first one is 'date_block_num'\n",
    "        statistics - list of statistics which must be calculated\n",
    "        shif_range - orders of lag's \n",
    "        \n",
    "    Return:\n",
    "        sample with new features\n",
    "    '''\n",
    "    \n",
    "    gb = sample.groupby(group_cols, as_index=False)\n",
    "    \n",
    "    #to create name of new cols\n",
    "    name = ''\n",
    "    for i, x in enumerate(group_cols[1:]):\n",
    "        if not i:\n",
    "            name += x\n",
    "        else:\n",
    "            name += '_'+x\n",
    "        \n",
    "    for stat in statistics:\n",
    "        for month_shift in tqdm(shift_range):\n",
    "            feature = name+'_cnt_'+stat+'_'+str(month_shift)\n",
    "            res = gb.agg({'item_cnt_month': stat})\n",
    "            res['date_block_num'] += month_shift\n",
    "            res = res.rename(columns={'item_cnt_month': feature})\n",
    "            sample = sample.merge(res, on=group_cols, how='left')\n",
    "            sample[feature] = sample[feature].fillna(0)\n",
    "            \n",
    "    return sample"
   ]
  },
  {
   "cell_type": "code",
   "execution_count": 17,
   "metadata": {
    "ExecuteTime": {
     "end_time": "2020-06-24T12:23:24.289989Z",
     "start_time": "2020-06-24T12:20:39.478169Z"
    }
   },
   "outputs": [
    {
     "data": {
      "application/vnd.jupyter.widget-view+json": {
       "model_id": "36f47a81b4aa42998fec66eac0529375",
       "version_major": 2,
       "version_minor": 0
      },
      "text/plain": [
       "HBox(children=(FloatProgress(value=0.0, max=12.0), HTML(value='')))"
      ]
     },
     "metadata": {},
     "output_type": "display_data"
    },
    {
     "name": "stdout",
     "output_type": "stream",
     "text": [
      "\n"
     ]
    }
   ],
   "source": [
    "# List of columns that we will use to create lags\n",
    "lag_features = ['item_cnt_month']\n",
    "\n",
    "shift_range = list(range(1, 13))\n",
    "\n",
    "for month_shift in tqdm(shift_range):\n",
    "    train_shift = all_data[index_cols + lag_features].copy()\n",
    "    \n",
    "    train_shift['date_block_num'] = train_shift['date_block_num'] + month_shift\n",
    "    \n",
    "    foo = lambda x: f'{x}_lag_{month_shift}' if x in lag_features else x\n",
    "    train_shift = train_shift.rename(columns=foo)\n",
    "\n",
    "    all_data = pd.merge(all_data, train_shift, on=index_cols, how='left').fillna(0)"
   ]
  },
  {
   "cell_type": "code",
   "execution_count": 18,
   "metadata": {
    "ExecuteTime": {
     "end_time": "2020-06-24T12:27:26.722337Z",
     "start_time": "2020-06-24T12:23:24.291687Z"
    }
   },
   "outputs": [
    {
     "data": {
      "application/vnd.jupyter.widget-view+json": {
       "model_id": "ca4bc545f7254bdeb6acc6a94f3ceba5",
       "version_major": 2,
       "version_minor": 0
      },
      "text/plain": [
       "HBox(children=(FloatProgress(value=0.0, max=12.0), HTML(value='')))"
      ]
     },
     "metadata": {},
     "output_type": "display_data"
    },
    {
     "name": "stdout",
     "output_type": "stream",
     "text": [
      "\n"
     ]
    },
    {
     "data": {
      "application/vnd.jupyter.widget-view+json": {
       "model_id": "dd08b38610544688bc49365695b50718",
       "version_major": 2,
       "version_minor": 0
      },
      "text/plain": [
       "HBox(children=(FloatProgress(value=0.0, max=12.0), HTML(value='')))"
      ]
     },
     "metadata": {},
     "output_type": "display_data"
    },
    {
     "name": "stdout",
     "output_type": "stream",
     "text": [
      "\n"
     ]
    }
   ],
   "source": [
    "columns = [['date_block_num', 'shop_id', 'item_id'], ['date_block_num', 'item_id']]\n",
    "for cols in columns:\n",
    "    all_data = create_lag_features(all_data, cols)"
   ]
  },
  {
   "cell_type": "markdown",
   "metadata": {},
   "source": [
    "**Add more features**"
   ]
  },
  {
   "cell_type": "code",
   "execution_count": 19,
   "metadata": {
    "ExecuteTime": {
     "end_time": "2020-06-24T12:27:47.399673Z",
     "start_time": "2020-06-24T12:27:26.724143Z"
    }
   },
   "outputs": [],
   "source": [
    "#one more features since we have predict based on pairs shop_id and item_id\n",
    "all_data['shop_item'] = (all_data['shop_id'].astype(str) + '0' + all_data['item_id'].astype(str)).astype(int)\n",
    "#order of month\n",
    "all_data['month'] = all_data['date_block_num'].apply(lambda x: x % 12)"
   ]
  },
  {
   "cell_type": "code",
   "execution_count": 20,
   "metadata": {
    "ExecuteTime": {
     "end_time": "2020-06-24T12:27:47.419979Z",
     "start_time": "2020-06-24T12:27:47.401115Z"
    }
   },
   "outputs": [
    {
     "data": {
      "text/html": [
       "<div>\n",
       "<style scoped>\n",
       "    .dataframe tbody tr th:only-of-type {\n",
       "        vertical-align: middle;\n",
       "    }\n",
       "\n",
       "    .dataframe tbody tr th {\n",
       "        vertical-align: top;\n",
       "    }\n",
       "\n",
       "    .dataframe thead th {\n",
       "        text-align: right;\n",
       "    }\n",
       "</style>\n",
       "<table border=\"1\" class=\"dataframe\">\n",
       "  <thead>\n",
       "    <tr style=\"text-align: right;\">\n",
       "      <th></th>\n",
       "      <th>shop_id</th>\n",
       "      <th>item_id</th>\n",
       "      <th>date_block_num</th>\n",
       "      <th>item_cnt_month</th>\n",
       "      <th>item_category_id</th>\n",
       "      <th>item_section_name</th>\n",
       "      <th>shop_city</th>\n",
       "      <th>item_cnt_month_lag_1</th>\n",
       "      <th>item_cnt_month_lag_2</th>\n",
       "      <th>item_cnt_month_lag_3</th>\n",
       "      <th>...</th>\n",
       "      <th>item_id_cnt_median_5</th>\n",
       "      <th>item_id_cnt_median_6</th>\n",
       "      <th>item_id_cnt_median_7</th>\n",
       "      <th>item_id_cnt_median_8</th>\n",
       "      <th>item_id_cnt_median_9</th>\n",
       "      <th>item_id_cnt_median_10</th>\n",
       "      <th>item_id_cnt_median_11</th>\n",
       "      <th>item_id_cnt_median_12</th>\n",
       "      <th>shop_item</th>\n",
       "      <th>month</th>\n",
       "    </tr>\n",
       "  </thead>\n",
       "  <tbody>\n",
       "    <tr>\n",
       "      <th>0</th>\n",
       "      <td>59</td>\n",
       "      <td>22154</td>\n",
       "      <td>0</td>\n",
       "      <td>1.0</td>\n",
       "      <td>37</td>\n",
       "      <td>7</td>\n",
       "      <td>30</td>\n",
       "      <td>0.0</td>\n",
       "      <td>0.0</td>\n",
       "      <td>0.0</td>\n",
       "      <td>...</td>\n",
       "      <td>0.0</td>\n",
       "      <td>0.0</td>\n",
       "      <td>0.0</td>\n",
       "      <td>0.0</td>\n",
       "      <td>0.0</td>\n",
       "      <td>0.0</td>\n",
       "      <td>0.0</td>\n",
       "      <td>0.0</td>\n",
       "      <td>59022154</td>\n",
       "      <td>0</td>\n",
       "    </tr>\n",
       "    <tr>\n",
       "      <th>1</th>\n",
       "      <td>16</td>\n",
       "      <td>6197</td>\n",
       "      <td>0</td>\n",
       "      <td>0.0</td>\n",
       "      <td>55</td>\n",
       "      <td>9</td>\n",
       "      <td>10</td>\n",
       "      <td>0.0</td>\n",
       "      <td>0.0</td>\n",
       "      <td>0.0</td>\n",
       "      <td>...</td>\n",
       "      <td>0.0</td>\n",
       "      <td>0.0</td>\n",
       "      <td>0.0</td>\n",
       "      <td>0.0</td>\n",
       "      <td>0.0</td>\n",
       "      <td>0.0</td>\n",
       "      <td>0.0</td>\n",
       "      <td>0.0</td>\n",
       "      <td>1606197</td>\n",
       "      <td>0</td>\n",
       "    </tr>\n",
       "  </tbody>\n",
       "</table>\n",
       "<p>2 rows × 45 columns</p>\n",
       "</div>"
      ],
      "text/plain": [
       "   shop_id  item_id  date_block_num  item_cnt_month  item_category_id  \\\n",
       "0       59    22154               0             1.0                37   \n",
       "1       16     6197               0             0.0                55   \n",
       "\n",
       "   item_section_name  shop_city  item_cnt_month_lag_1  item_cnt_month_lag_2  \\\n",
       "0                  7         30                   0.0                   0.0   \n",
       "1                  9         10                   0.0                   0.0   \n",
       "\n",
       "   item_cnt_month_lag_3  ...  item_id_cnt_median_5  item_id_cnt_median_6  \\\n",
       "0                   0.0  ...                   0.0                   0.0   \n",
       "1                   0.0  ...                   0.0                   0.0   \n",
       "\n",
       "   item_id_cnt_median_7  item_id_cnt_median_8  item_id_cnt_median_9  \\\n",
       "0                   0.0                   0.0                   0.0   \n",
       "1                   0.0                   0.0                   0.0   \n",
       "\n",
       "   item_id_cnt_median_10  item_id_cnt_median_11  item_id_cnt_median_12  \\\n",
       "0                    0.0                    0.0                    0.0   \n",
       "1                    0.0                    0.0                    0.0   \n",
       "\n",
       "   shop_item  month  \n",
       "0   59022154      0  \n",
       "1    1606197      0  \n",
       "\n",
       "[2 rows x 45 columns]"
      ]
     },
     "execution_count": 20,
     "metadata": {},
     "output_type": "execute_result"
    }
   ],
   "source": [
    "all_data.head(2)"
   ]
  },
  {
   "cell_type": "markdown",
   "metadata": {},
   "source": [
    "**mean encoding**"
   ]
  },
  {
   "cell_type": "code",
   "execution_count": 21,
   "metadata": {
    "ExecuteTime": {
     "end_time": "2020-06-24T12:27:58.169406Z",
     "start_time": "2020-06-24T12:27:47.421322Z"
    }
   },
   "outputs": [],
   "source": [
    "#all_data = all_data[all_data['date_block_num'] > 0] #since lag features created\n",
    "all_data_part = all_data[all_data['date_block_num'] < 34]"
   ]
  },
  {
   "cell_type": "code",
   "execution_count": 22,
   "metadata": {
    "ExecuteTime": {
     "end_time": "2020-06-24T12:35:27.861420Z",
     "start_time": "2020-06-24T12:27:58.171501Z"
    }
   },
   "outputs": [
    {
     "data": {
      "application/vnd.jupyter.widget-view+json": {
       "model_id": "6584d87b545743839c1a03a35c2011b5",
       "version_major": 2,
       "version_minor": 0
      },
      "text/plain": [
       "HBox(children=(FloatProgress(value=0.0, max=6.0), HTML(value='')))"
      ]
     },
     "metadata": {},
     "output_type": "display_data"
    },
    {
     "name": "stdout",
     "output_type": "stream",
     "text": [
      "\n"
     ]
    },
    {
     "data": {
      "application/vnd.jupyter.widget-view+json": {
       "model_id": "e03e3943ba104dceb7bb78ae8543ae21",
       "version_major": 2,
       "version_minor": 0
      },
      "text/plain": [
       "HBox(children=(FloatProgress(value=0.0, max=6.0), HTML(value='')))"
      ]
     },
     "metadata": {},
     "output_type": "display_data"
    },
    {
     "name": "stdout",
     "output_type": "stream",
     "text": [
      "\n"
     ]
    }
   ],
   "source": [
    "mean_enc_features = ['item_id', 'shop_id', 'item_category_id', 'item_section_name', 'shop_city', 'shop_item']\n",
    "for col in tqdm(mean_enc_features):\n",
    "    all_data = mean_enconding(all_data.copy(), col)\n",
    "\n",
    "for col in tqdm(mean_enc_features):\n",
    "    all_data_part = mean_enconding(all_data_part.copy(), col)"
   ]
  },
  {
   "cell_type": "code",
   "execution_count": 23,
   "metadata": {
    "ExecuteTime": {
     "end_time": "2020-06-24T12:35:36.865594Z",
     "start_time": "2020-06-24T12:35:27.864215Z"
    }
   },
   "outputs": [],
   "source": [
    "all_data = all_data[all_data['date_block_num'] > 0]\n",
    "all_data_part = all_data_part[all_data_part['date_block_num'] > 0]"
   ]
  },
  {
   "cell_type": "code",
   "execution_count": 24,
   "metadata": {
    "ExecuteTime": {
     "end_time": "2020-06-24T12:35:43.122618Z",
     "start_time": "2020-06-24T12:35:36.870161Z"
    }
   },
   "outputs": [],
   "source": [
    "#to validate\n",
    "train_part = all_data_part[all_data_part['date_block_num'] < 33]\n",
    "val = all_data_part[all_data_part['date_block_num'] == 33]\n",
    "\n",
    "#to fit on all data\n",
    "train, test = all_data[all_data['date_block_num'] < 34], all_data[all_data['date_block_num'] == 34]"
   ]
  },
  {
   "cell_type": "code",
   "execution_count": 25,
   "metadata": {
    "ExecuteTime": {
     "end_time": "2020-06-24T12:36:35.834301Z",
     "start_time": "2020-06-24T12:35:43.124498Z"
    }
   },
   "outputs": [],
   "source": [
    "Xtrain_part, ytrain_part = train_part.drop(['item_cnt_month'] , axis=1), train_part['item_cnt_month']\n",
    "Xval, yval = val.drop(['item_cnt_month'] , axis=1), val['item_cnt_month']\n",
    "\n",
    "Xtrain, ytrain = train.drop(['item_cnt_month'] , axis=1), train['item_cnt_month']\n",
    "Xtest, ytest = test.drop(['item_cnt_month'] , axis=1), test['item_cnt_month']\n",
    "\n",
    "dtrain_part = xgb.DMatrix(data=Xtrain_part.to_numpy(), label=ytrain_part\n",
    "                     , feature_names=Xtrain.columns)\n",
    "dval = xgb.DMatrix(data=Xval.to_numpy(), label=yval\n",
    "                     , feature_names=Xtrain.columns)\n",
    "\n",
    "dtrain = xgb.DMatrix(data=Xtrain.to_numpy(), label=ytrain\n",
    "                     , feature_names=Xtrain.columns)\n",
    "dtest = xgb.DMatrix(data=Xtest.to_numpy(), label=ytest\n",
    "                   , feature_names=Xtrain.columns)"
   ]
  },
  {
   "cell_type": "code",
   "execution_count": 26,
   "metadata": {
    "ExecuteTime": {
     "end_time": "2020-06-24T12:36:35.840273Z",
     "start_time": "2020-06-24T12:36:35.836537Z"
    }
   },
   "outputs": [],
   "source": [
    "default_params = {  'objective': 'reg:squarederror'                    \n",
    "                    , 'subsample': 0.8\n",
    "                    , 'colsample_bytree': 0.9\n",
    "                    , 'learning_rate': 0.1\n",
    "                    , 'tree_method': 'hist'\n",
    "                    , 'grow_policy': 'lossguide'\n",
    "                    , 'max_leaves': 63\n",
    "                    , 'max_depth': 0\n",
    "                    , 'gamma': 1\n",
    "                    , 'reg_alpha': 1.2\n",
    "                    , 'reg_lambda': 1.3\n",
    "                    , 'min_child_weight': 30\n",
    "                    , 'max_delta_step': 2\n",
    "                    , 'n_jobs': 60\n",
    "                    , 'random_state': 42\n",
    "                    , 'eval_metric': 'rmse'\n",
    "                }   "
   ]
  },
  {
   "cell_type": "code",
   "execution_count": 27,
   "metadata": {
    "ExecuteTime": {
     "end_time": "2020-06-24T12:39:34.637273Z",
     "start_time": "2020-06-24T12:36:35.841739Z"
    }
   },
   "outputs": [
    {
     "name": "stdout",
     "output_type": "stream",
     "text": [
      "[0]\ttrain_part-rmse:1.21486\tval-rmse:1.14196\n",
      "Multiple eval metrics have been passed: 'val-rmse' will be used for early stopping.\n",
      "\n",
      "Will train until val-rmse hasn't improved in 100 rounds.\n",
      "[100]\ttrain_part-rmse:0.88357\tval-rmse:0.93379\n",
      "[200]\ttrain_part-rmse:0.85629\tval-rmse:0.92740\n",
      "Stopping. Best iteration:\n",
      "[195]\ttrain_part-rmse:0.85733\tval-rmse:0.92678\n",
      "\n"
     ]
    }
   ],
   "source": [
    "model1_part = xgb.train(default_params, dtrain_part, num_boost_round=1000, early_stopping_rounds=100, verbose_eval=100\n",
    "           , evals=[(dtrain_part,'train_part'), (dval,'val')])"
   ]
  },
  {
   "cell_type": "code",
   "execution_count": 28,
   "metadata": {
    "ExecuteTime": {
     "end_time": "2020-06-24T12:44:03.020605Z",
     "start_time": "2020-06-24T12:39:34.640495Z"
    }
   },
   "outputs": [
    {
     "name": "stdout",
     "output_type": "stream",
     "text": [
      "[0]\ttrain-rmse:1.21290\n",
      "Will train until train-rmse hasn't improved in 100 rounds.\n",
      "[100]\ttrain-rmse:0.88478\n",
      "[200]\ttrain-rmse:0.85442\n",
      "[300]\ttrain-rmse:0.83777\n",
      "[400]\ttrain-rmse:0.82370\n",
      "[499]\ttrain-rmse:0.81252\n"
     ]
    }
   ],
   "source": [
    "model1 = xgb.train(default_params, dtrain, num_boost_round=500, early_stopping_rounds=100, verbose_eval=100\n",
    "           , evals=[(dtrain,'train')])"
   ]
  },
  {
   "cell_type": "code",
   "execution_count": 29,
   "metadata": {
    "ExecuteTime": {
     "end_time": "2020-06-24T12:44:03.525406Z",
     "start_time": "2020-06-24T12:44:03.022838Z"
    }
   },
   "outputs": [],
   "source": [
    "ans = pd.DataFrame({'item_cnt_month': model1.predict(dtest)})\n",
    "ans['item_cnt_month'] = ans['item_cnt_month'].clip(0, 20)\n",
    "ans.insert(0, 'ID', ans.index)\n",
    "ans.to_csv(DATA_DIR / 'final_ans_0_me.csv', index=False)\n",
    "#0.966624"
   ]
  },
  {
   "cell_type": "markdown",
   "metadata": {},
   "source": [
    "**drop some features**"
   ]
  },
  {
   "cell_type": "markdown",
   "metadata": {},
   "source": [
    "### 1"
   ]
  },
  {
   "cell_type": "code",
   "execution_count": 49,
   "metadata": {
    "ExecuteTime": {
     "end_time": "2020-06-24T13:19:41.687678Z",
     "start_time": "2020-06-24T13:19:41.684497Z"
    }
   },
   "outputs": [],
   "source": [
    "to_drop = ['shop_item', 'month', 'date_block_num']"
   ]
  },
  {
   "cell_type": "code",
   "execution_count": 50,
   "metadata": {
    "ExecuteTime": {
     "end_time": "2020-06-24T13:20:35.021236Z",
     "start_time": "2020-06-24T13:19:42.156708Z"
    }
   },
   "outputs": [],
   "source": [
    "Xtrain_part, ytrain_part = train_part.drop(to_drop+['item_cnt_month'] , axis=1), train_part['item_cnt_month']\n",
    "Xval, yval = val.drop(to_drop+['item_cnt_month'] , axis=1), val['item_cnt_month']\n",
    "\n",
    "Xtrain, ytrain = train.drop(to_drop+['item_cnt_month'] , axis=1), train['item_cnt_month']\n",
    "Xtest, ytest = test.drop(to_drop+['item_cnt_month'] , axis=1), test['item_cnt_month']\n",
    "\n",
    "dtrain_part = xgb.DMatrix(data=Xtrain_part.to_numpy(), label=ytrain_part\n",
    "                     , feature_names=Xtrain.columns)\n",
    "dval = xgb.DMatrix(data=Xval.to_numpy(), label=yval\n",
    "                     , feature_names=Xtrain.columns)\n",
    "\n",
    "dtrain = xgb.DMatrix(data=Xtrain.to_numpy(), label=ytrain\n",
    "                     , feature_names=Xtrain.columns)\n",
    "dtest = xgb.DMatrix(data=Xtest.to_numpy(), label=ytest\n",
    "                   , feature_names=Xtrain.columns)"
   ]
  },
  {
   "cell_type": "code",
   "execution_count": 41,
   "metadata": {
    "ExecuteTime": {
     "end_time": "2020-06-24T13:02:27.722772Z",
     "start_time": "2020-06-24T12:58:55.169943Z"
    }
   },
   "outputs": [
    {
     "name": "stdout",
     "output_type": "stream",
     "text": [
      "[0]\ttrain_part-rmse:1.21460\tval-rmse:1.14241\n",
      "Multiple eval metrics have been passed: 'val-rmse' will be used for early stopping.\n",
      "\n",
      "Will train until val-rmse hasn't improved in 100 rounds.\n",
      "[100]\ttrain_part-rmse:0.89348\tval-rmse:0.92092\n",
      "[200]\ttrain_part-rmse:0.86906\tval-rmse:0.91271\n",
      "[300]\ttrain_part-rmse:0.84853\tval-rmse:0.90619\n",
      "Stopping. Best iteration:\n",
      "[293]\ttrain_part-rmse:0.84986\tval-rmse:0.90579\n",
      "\n"
     ]
    }
   ],
   "source": [
    "model2_part = xgb.train(default_params, dtrain_part, num_boost_round=1000, early_stopping_rounds=100, verbose_eval=100\n",
    "           , evals=[(dtrain_part,'train_part'), (dval,'val')])"
   ]
  },
  {
   "cell_type": "code",
   "execution_count": 42,
   "metadata": {
    "ExecuteTime": {
     "end_time": "2020-06-24T13:07:00.018501Z",
     "start_time": "2020-06-24T13:02:33.019006Z"
    }
   },
   "outputs": [
    {
     "name": "stdout",
     "output_type": "stream",
     "text": [
      "[0]\ttrain-rmse:1.21361\n",
      "Will train until train-rmse hasn't improved in 100 rounds.\n",
      "[100]\ttrain-rmse:0.89495\n",
      "[200]\ttrain-rmse:0.86750\n",
      "[300]\ttrain-rmse:0.85154\n",
      "[400]\ttrain-rmse:0.83787\n",
      "[499]\ttrain-rmse:0.82655\n"
     ]
    }
   ],
   "source": [
    "model2 = xgb.train(default_params, dtrain, num_boost_round=500, early_stopping_rounds=100, verbose_eval=100\n",
    "           , evals=[(dtrain,'train')])"
   ]
  },
  {
   "cell_type": "code",
   "execution_count": 43,
   "metadata": {
    "ExecuteTime": {
     "end_time": "2020-06-24T13:07:00.579696Z",
     "start_time": "2020-06-24T13:07:00.020819Z"
    }
   },
   "outputs": [],
   "source": [
    "ans = pd.DataFrame({'item_cnt_month': model2.predict(dtest)})\n",
    "ans['item_cnt_month'] = ans['item_cnt_month'].clip(0, 20)\n",
    "ans.insert(0, 'ID', ans.index)\n",
    "ans.to_csv(DATA_DIR / 'final_ans_0_me_2.csv', index=False)\n",
    "#0.960173"
   ]
  },
  {
   "cell_type": "markdown",
   "metadata": {},
   "source": [
    "### 2"
   ]
  },
  {
   "cell_type": "code",
   "execution_count": 44,
   "metadata": {
    "ExecuteTime": {
     "end_time": "2020-06-24T13:07:00.583726Z",
     "start_time": "2020-06-24T13:07:00.581527Z"
    }
   },
   "outputs": [],
   "source": [
    "to_drop = ['item_id', 'shop_id', 'item_category_id', 'item_section_name', 'shop_city', 'shop_item'\n",
    "           , 'month', 'date_block_num']"
   ]
  },
  {
   "cell_type": "code",
   "execution_count": 45,
   "metadata": {
    "ExecuteTime": {
     "end_time": "2020-06-24T13:07:40.403179Z",
     "start_time": "2020-06-24T13:07:00.585245Z"
    }
   },
   "outputs": [],
   "source": [
    "Xtrain_part, ytrain_part = train_part.drop(to_drop+['item_cnt_month'] , axis=1), train_part['item_cnt_month']\n",
    "Xval, yval = val.drop(to_drop+['item_cnt_month'] , axis=1), val['item_cnt_month']\n",
    "\n",
    "Xtrain, ytrain = train.drop(to_drop+['item_cnt_month'] , axis=1), train['item_cnt_month']\n",
    "Xtest, ytest = test.drop(to_drop+['item_cnt_month'] , axis=1), test['item_cnt_month']\n",
    "\n",
    "dtrain_part = xgb.DMatrix(data=Xtrain_part.to_numpy(), label=ytrain_part\n",
    "                     , feature_names=Xtrain.columns)\n",
    "dval = xgb.DMatrix(data=Xval.to_numpy(), label=yval\n",
    "                     , feature_names=Xtrain.columns)\n",
    "\n",
    "dtrain = xgb.DMatrix(data=Xtrain.to_numpy(), label=ytrain\n",
    "                     , feature_names=Xtrain.columns)\n",
    "dtest = xgb.DMatrix(data=Xtest.to_numpy(), label=ytest\n",
    "                   , feature_names=Xtrain.columns)"
   ]
  },
  {
   "cell_type": "code",
   "execution_count": 46,
   "metadata": {
    "ExecuteTime": {
     "end_time": "2020-06-24T13:11:29.344898Z",
     "start_time": "2020-06-24T13:07:40.406137Z"
    }
   },
   "outputs": [
    {
     "name": "stdout",
     "output_type": "stream",
     "text": [
      "[0]\ttrain_part-rmse:1.21492\tval-rmse:1.14216\n",
      "Multiple eval metrics have been passed: 'val-rmse' will be used for early stopping.\n",
      "\n",
      "Will train until val-rmse hasn't improved in 100 rounds.\n",
      "[100]\ttrain_part-rmse:0.89944\tval-rmse:0.92849\n",
      "[200]\ttrain_part-rmse:0.87497\tval-rmse:0.92261\n",
      "[300]\ttrain_part-rmse:0.85952\tval-rmse:0.92039\n",
      "[400]\ttrain_part-rmse:0.84933\tval-rmse:0.92074\n",
      "Stopping. Best iteration:\n",
      "[339]\ttrain_part-rmse:0.85552\tval-rmse:0.91989\n",
      "\n"
     ]
    }
   ],
   "source": [
    "model3_part = xgb.train(default_params, dtrain_part, num_boost_round=1000, early_stopping_rounds=100, verbose_eval=100\n",
    "           , evals=[(dtrain_part,'train_part'), (dval,'val')])"
   ]
  },
  {
   "cell_type": "code",
   "execution_count": 47,
   "metadata": {
    "ExecuteTime": {
     "end_time": "2020-06-24T13:15:52.094700Z",
     "start_time": "2020-06-24T13:11:29.347877Z"
    }
   },
   "outputs": [
    {
     "name": "stdout",
     "output_type": "stream",
     "text": [
      "[0]\ttrain-rmse:1.21324\n",
      "Will train until train-rmse hasn't improved in 100 rounds.\n",
      "[100]\ttrain-rmse:0.89944\n",
      "[200]\ttrain-rmse:0.87715\n",
      "[300]\ttrain-rmse:0.86353\n",
      "[400]\ttrain-rmse:0.85306\n",
      "[499]\ttrain-rmse:0.84375\n"
     ]
    }
   ],
   "source": [
    "model3 = xgb.train(default_params, dtrain, num_boost_round=500, early_stopping_rounds=100, verbose_eval=100\n",
    "           , evals=[(dtrain,'train')])"
   ]
  },
  {
   "cell_type": "code",
   "execution_count": 48,
   "metadata": {
    "ExecuteTime": {
     "end_time": "2020-06-24T13:15:52.616431Z",
     "start_time": "2020-06-24T13:15:52.096913Z"
    }
   },
   "outputs": [],
   "source": [
    "ans = pd.DataFrame({'item_cnt_month': model3.predict(dtest)})\n",
    "ans['item_cnt_month'] = ans['item_cnt_month'].clip(0, 20)\n",
    "ans.insert(0, 'ID', ans.index)\n",
    "ans.to_csv(DATA_DIR / 'final_ans_0_me_3.csv', index=False)\n",
    "#0.957192 - seems it's better not to keep encoded features and features coressponding to months"
   ]
  },
  {
   "cell_type": "code",
   "execution_count": null,
   "metadata": {},
   "outputs": [],
   "source": []
  }
 ],
 "metadata": {
  "kernelspec": {
   "display_name": "Python 3.6",
   "language": "python36",
   "name": "python3.6"
  },
  "language_info": {
   "codemirror_mode": {
    "name": "ipython",
    "version": 3
   },
   "file_extension": ".py",
   "mimetype": "text/x-python",
   "name": "python",
   "nbconvert_exporter": "python",
   "pygments_lexer": "ipython3",
   "version": "3.6.8"
  }
 },
 "nbformat": 4,
 "nbformat_minor": 2
}
