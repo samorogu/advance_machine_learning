{
 "cells": [
  {
   "cell_type": "code",
   "execution_count": 1,
   "metadata": {
    "ExecuteTime": {
     "end_time": "2020-06-24T11:57:18.029497Z",
     "start_time": "2020-06-24T11:57:16.223035Z"
    }
   },
   "outputs": [],
   "source": [
    "import numpy as np\n",
    "import pandas as pd\n",
    "import matplotlib.pyplot as plt\n",
    "import seaborn as sns\n",
    "import shap\n",
    "\n",
    "import os\n",
    "import getpass\n",
    "import gc\n",
    "from pathlib import Path\n",
    "\n",
    "import itertools\n",
    "\n",
    "import xgboost as xgb\n",
    "from lightgbm import LGBMRegressor\n",
    "\n",
    "from sklearn.preprocessing import LabelEncoder\n",
    "from sklearn.model_selection import KFold\n",
    "\n",
    "from tqdm.notebook import tqdm\n",
    "import warnings\n",
    "#warnings.filterwarnings('ignore')"
   ]
  },
  {
   "cell_type": "code",
   "execution_count": 2,
   "metadata": {
    "ExecuteTime": {
     "end_time": "2020-06-24T11:57:18.042998Z",
     "start_time": "2020-06-24T11:57:18.031464Z"
    }
   },
   "outputs": [],
   "source": [
    "def mean_enconding2(train, test, column, alpha=5):\n",
    "    \n",
    "    #encode on train\n",
    "    kf = KFold(n_splits=5, shuffle=False)\n",
    "    globalmean = train[column].mean()\n",
    "    \n",
    "    for train_ix, test_ix in kf.split(train):\n",
    "        tr, te = train.iloc[train_ix], train.iloc[test_ix]\n",
    "        \n",
    "        #smoothing\n",
    "        column_enc = (tr.groupby(column)['item_cnt_month'].mean()\n",
    "                        * tr.groupby(column)['item_cnt_month'].count()\n",
    "                        + globalmean * alpha) / (tr.groupby(column)['item_cnt_month'].count() + alpha)\n",
    "        #column_enc = tr.groupby(column)['item_cnt_month'].mean()\n",
    "        \n",
    "        train.loc[test_ix, column+'_enc'] = train.loc[test_ix, column].map(column_enc)\n",
    "\n",
    "    #fill nan with global mean\n",
    "    train[column+'_enc'] = train[column+'_enc'].fillna(globalmean)    \n",
    "    \n",
    "    #######################################################################################################\n",
    "    \n",
    "    #encode on test\n",
    "    column_enc = (train.groupby(column)['item_cnt_month'].mean()\n",
    "                        * train.groupby(column)['item_cnt_month'].count()\n",
    "                        + globalmean * alpha) / (train.groupby(column)['item_cnt_month'].count() + alpha)\n",
    "    \n",
    "    test[column+'_enc'] = test[column].map(column_enc)\n",
    "    test[column+'_enc'] = test[column+'_enc'].fillna(globalmean)\n",
    "\n",
    "    return train, test\n",
    "\n",
    "#with such encoding got better results\n",
    "def cv_mean_enc(sample, column, kf, globalmean, alpha):\n",
    "    \n",
    "    for train_ix, test_ix in kf.split(sample):\n",
    "        train, test = sample.iloc[train_ix], sample.iloc[test_ix]\n",
    "        \n",
    "        #smoothing\n",
    "        column_enc = (train.groupby(column)['item_cnt_month'].mean()\n",
    "                        * train.groupby(column)['item_cnt_month'].count()\n",
    "                        + globalmean * alpha) / (train.groupby(column)['item_cnt_month'].count() + alpha)\n",
    "        #column_enc = train.groupby(column)['item_cnt_month'].mean()\n",
    "\n",
    "\n",
    "        \n",
    "        sample.loc[test_ix, column+'_enc'] = sample.loc[test_ix, column].map(column_enc)\n",
    "\n",
    "    #fill nan with global mean\n",
    "    sample[column+'_enc'].fillna(globalmean, inplace=True) \n",
    "    \n",
    "    return sample\n",
    "    \n",
    "def mean_enconding(sample, column, alpha=5):\n",
    "\n",
    "    kf = KFold(n_splits=5, shuffle=False)\n",
    "    \n",
    "    \n",
    "    #globalmean_part = sample_part[column].mean()\n",
    "    globalmean = sample[column].mean()\n",
    "    \n",
    "    #sample_part = cv_mean_enc(sample_part, column, kf, globalmean_part, alpha)\n",
    "    sample = cv_mean_enc(sample, column, kf, globalmean, alpha)\n",
    "\n",
    "    return sample"
   ]
  },
  {
   "cell_type": "code",
   "execution_count": 3,
   "metadata": {
    "ExecuteTime": {
     "end_time": "2020-06-24T11:57:19.415624Z",
     "start_time": "2020-06-24T11:57:18.045707Z"
    }
   },
   "outputs": [],
   "source": [
    "DATA_DIR = Path('/data', getpass.getuser(), 'kaggle', 'future_sales') #path to data files\n",
    "\n",
    "sales = pd.read_csv(DATA_DIR / 'sales_train.csv')\n",
    "items = pd.read_csv(DATA_DIR / 'items.csv')\n",
    "item_categories = pd.read_csv(DATA_DIR / 'item_categories.csv')\n",
    "shops = pd.read_csv(DATA_DIR /'shops.csv')\n",
    "\n",
    "test = pd.read_csv(DATA_DIR / 'test.csv').set_index('ID')"
   ]
  },
  {
   "cell_type": "markdown",
   "metadata": {},
   "source": [
    "**Little preporcessing**"
   ]
  },
  {
   "cell_type": "code",
   "execution_count": 4,
   "metadata": {
    "ExecuteTime": {
     "end_time": "2020-06-24T11:57:19.422280Z",
     "start_time": "2020-06-24T11:57:19.418806Z"
    }
   },
   "outputs": [],
   "source": [
    "def shop_id_change(sample):\n",
    "    sample.loc[sample['shop_id']==57, 'shop_id'] = 0\n",
    "    sample.loc[sample['shop_id']==58, 'shop_id'] = 1\n",
    "    sample.loc[sample['shop_id']==11, 'shop_id'] = 10\n",
    "    \n",
    "    return sample"
   ]
  },
  {
   "cell_type": "code",
   "execution_count": 5,
   "metadata": {
    "ExecuteTime": {
     "end_time": "2020-06-24T11:57:19.659508Z",
     "start_time": "2020-06-24T11:57:19.423747Z"
    }
   },
   "outputs": [],
   "source": [
    "sales = sales[(sales['item_cnt_day'] <= 900) & (sales['item_price'] <= 60000) & ((sales['item_price'] >= 0))]"
   ]
  },
  {
   "cell_type": "code",
   "execution_count": 6,
   "metadata": {
    "ExecuteTime": {
     "end_time": "2020-06-24T11:57:19.742240Z",
     "start_time": "2020-06-24T11:57:19.661258Z"
    }
   },
   "outputs": [],
   "source": [
    "#change shop_id\n",
    "sales = shop_id_change(sales)\n",
    "shops = shop_id_change(shops)\n",
    "test = shop_id_change(test)"
   ]
  },
  {
   "cell_type": "code",
   "execution_count": 7,
   "metadata": {
    "ExecuteTime": {
     "end_time": "2020-06-24T11:57:19.749692Z",
     "start_time": "2020-06-24T11:57:19.743688Z"
    }
   },
   "outputs": [],
   "source": [
    "#create feature - city\n",
    "shops['shop_city'] = shops['shop_name'].apply(lambda x: x.lower()).str.replace('[^\\w\\s]', '').str.strip()\n",
    "shops['shop_city'] = shops['shop_city'].apply(lambda x: x.split()[0])\n",
    "shops['shop_city'] = LabelEncoder().fit_transform(shops['shop_city'])"
   ]
  },
  {
   "cell_type": "code",
   "execution_count": 8,
   "metadata": {
    "ExecuteTime": {
     "end_time": "2020-06-24T11:57:19.755159Z",
     "start_time": "2020-06-24T11:57:19.751149Z"
    }
   },
   "outputs": [],
   "source": [
    "#create feature - section of products\n",
    "item_categories['item_section_name'] = item_categories['item_category_name'] \\\n",
    "                                        .apply(lambda x: x.lower().split('-')[0].split()[0].strip())\n",
    "item_categories['item_section_name'] = LabelEncoder().fit_transform(item_categories['item_section_name'])"
   ]
  },
  {
   "cell_type": "markdown",
   "metadata": {},
   "source": [
    "\n",
    "Since we need to predict monthly, so aggregate data"
   ]
  },
  {
   "cell_type": "code",
   "execution_count": 9,
   "metadata": {
    "ExecuteTime": {
     "end_time": "2020-06-24T11:57:34.638013Z",
     "start_time": "2020-06-24T11:57:19.757281Z"
    }
   },
   "outputs": [],
   "source": [
    "index_cols = ['shop_id', 'item_id', 'date_block_num']\n",
    "grid = []\n",
    "\n",
    "for block_num in sales['date_block_num'].unique():\n",
    "    cur_shops = sales[sales['date_block_num']==block_num]['shop_id'].unique()\n",
    "    cur_items = sales[sales['date_block_num']==block_num]['item_id'].unique()\n",
    "    grid.append(np.array(list(itertools.product(*[cur_shops, cur_items, [block_num]])), dtype='int32'))\n",
    "\n",
    "grid = pd.DataFrame(np.vstack(grid), columns = index_cols,dtype=np.int32)\n",
    "\n",
    "\n",
    "# Aggregations\n",
    "sales['item_cnt_day'] = sales['item_cnt_day'].clip(0,20) #seems it's better to clip here\n",
    "train = sales.groupby(['shop_id', 'item_id', 'date_block_num'], as_index=False) \\\n",
    "            .agg({'item_cnt_day':'sum', 'item_price':'mean'})\n",
    "train = train.rename(columns = {'item_cnt_day' : 'item_cnt_month'})\n",
    "train['item_cnt_month'] = train['item_cnt_month'].clip(0,20) #one more clip\n",
    "\n",
    "#merge aggregated sales and grid\n",
    "train = pd.merge(grid, train, how='left',on=index_cols)\n",
    "train['item_cnt_month'] = train['item_cnt_month'].fillna(0)"
   ]
  },
  {
   "cell_type": "code",
   "execution_count": 10,
   "metadata": {
    "ExecuteTime": {
     "end_time": "2020-06-24T11:57:34.844239Z",
     "start_time": "2020-06-24T11:57:34.641067Z"
    }
   },
   "outputs": [
    {
     "name": "stdout",
     "output_type": "stream",
     "text": [
      "(10913804, 4)\n"
     ]
    },
    {
     "data": {
      "text/html": [
       "<div>\n",
       "<style scoped>\n",
       "    .dataframe tbody tr th:only-of-type {\n",
       "        vertical-align: middle;\n",
       "    }\n",
       "\n",
       "    .dataframe tbody tr th {\n",
       "        vertical-align: top;\n",
       "    }\n",
       "\n",
       "    .dataframe thead th {\n",
       "        text-align: right;\n",
       "    }\n",
       "</style>\n",
       "<table border=\"1\" class=\"dataframe\">\n",
       "  <thead>\n",
       "    <tr style=\"text-align: right;\">\n",
       "      <th></th>\n",
       "      <th>shop_id</th>\n",
       "      <th>item_id</th>\n",
       "      <th>date_block_num</th>\n",
       "      <th>item_cnt_month</th>\n",
       "    </tr>\n",
       "  </thead>\n",
       "  <tbody>\n",
       "    <tr>\n",
       "      <th>0</th>\n",
       "      <td>59</td>\n",
       "      <td>22154</td>\n",
       "      <td>0</td>\n",
       "      <td>1.0</td>\n",
       "    </tr>\n",
       "    <tr>\n",
       "      <th>1</th>\n",
       "      <td>59</td>\n",
       "      <td>2552</td>\n",
       "      <td>0</td>\n",
       "      <td>0.0</td>\n",
       "    </tr>\n",
       "  </tbody>\n",
       "</table>\n",
       "</div>"
      ],
      "text/plain": [
       "   shop_id  item_id  date_block_num  item_cnt_month\n",
       "0       59    22154               0             1.0\n",
       "1       59     2552               0             0.0"
      ]
     },
     "execution_count": 10,
     "metadata": {},
     "output_type": "execute_result"
    }
   ],
   "source": [
    "train = train.drop(['item_price'], axis=1)\n",
    "print(train.shape)\n",
    "train.head(2)"
   ]
  },
  {
   "cell_type": "code",
   "execution_count": 11,
   "metadata": {
    "ExecuteTime": {
     "end_time": "2020-06-24T11:57:50.369383Z",
     "start_time": "2020-06-24T11:57:34.845614Z"
    }
   },
   "outputs": [
    {
     "data": {
      "text/html": [
       "<div>\n",
       "<style scoped>\n",
       "    .dataframe tbody tr th:only-of-type {\n",
       "        vertical-align: middle;\n",
       "    }\n",
       "\n",
       "    .dataframe tbody tr th {\n",
       "        vertical-align: top;\n",
       "    }\n",
       "\n",
       "    .dataframe thead th {\n",
       "        text-align: right;\n",
       "    }\n",
       "</style>\n",
       "<table border=\"1\" class=\"dataframe\">\n",
       "  <thead>\n",
       "    <tr style=\"text-align: right;\">\n",
       "      <th></th>\n",
       "      <th>shop_id</th>\n",
       "      <th>item_id</th>\n",
       "      <th>date_block_num</th>\n",
       "      <th>item_cnt_month</th>\n",
       "      <th>item_category_id</th>\n",
       "      <th>item_section_name</th>\n",
       "      <th>shop_city</th>\n",
       "    </tr>\n",
       "  </thead>\n",
       "  <tbody>\n",
       "    <tr>\n",
       "      <th>0</th>\n",
       "      <td>59</td>\n",
       "      <td>22154</td>\n",
       "      <td>0</td>\n",
       "      <td>1.0</td>\n",
       "      <td>37</td>\n",
       "      <td>7</td>\n",
       "      <td>30</td>\n",
       "    </tr>\n",
       "    <tr>\n",
       "      <th>1</th>\n",
       "      <td>16</td>\n",
       "      <td>6197</td>\n",
       "      <td>0</td>\n",
       "      <td>0.0</td>\n",
       "      <td>55</td>\n",
       "      <td>9</td>\n",
       "      <td>10</td>\n",
       "    </tr>\n",
       "  </tbody>\n",
       "</table>\n",
       "</div>"
      ],
      "text/plain": [
       "   shop_id  item_id  date_block_num  item_cnt_month  item_category_id  \\\n",
       "0       59    22154               0             1.0                37   \n",
       "1       16     6197               0             0.0                55   \n",
       "\n",
       "   item_section_name  shop_city  \n",
       "0                  7         30  \n",
       "1                  9         10  "
      ]
     },
     "execution_count": 11,
     "metadata": {},
     "output_type": "execute_result"
    }
   ],
   "source": [
    "#add some features to train\n",
    "train = train.merge(items[['item_id', 'item_category_id']], on='item_id')\n",
    "train = train.merge(item_categories[['item_category_id', 'item_section_name']], on='item_category_id')\n",
    "train = train.merge(shops[['shop_city', 'shop_id']], on='shop_id')\n",
    "\n",
    "train = train.drop_duplicates()\n",
    "train = train.sort_values(by=['date_block_num']).reset_index(drop=True)\n",
    "train.head(2)"
   ]
  },
  {
   "cell_type": "code",
   "execution_count": 12,
   "metadata": {
    "ExecuteTime": {
     "end_time": "2020-06-24T11:57:50.375998Z",
     "start_time": "2020-06-24T11:57:50.371034Z"
    }
   },
   "outputs": [
    {
     "name": "stdout",
     "output_type": "stream",
     "text": [
      "(214200, 4)\n"
     ]
    }
   ],
   "source": [
    "test['date_block_num']= 34\n",
    "test['item_cnt_month'] = -1 #since need to predict it\n",
    "print(test.shape)"
   ]
  },
  {
   "cell_type": "code",
   "execution_count": 13,
   "metadata": {
    "ExecuteTime": {
     "end_time": "2020-06-24T11:57:50.479013Z",
     "start_time": "2020-06-24T11:57:50.377605Z"
    }
   },
   "outputs": [],
   "source": [
    "test = test.merge(items[['item_id', 'item_category_id']], on='item_id', how='left')\n",
    "test = test.merge(item_categories[['item_category_id', 'item_section_name']], on='item_category_id', how='left')\n",
    "test = test.merge(shops[['shop_city', 'shop_id']], on='shop_id', how='left')\n",
    "test = test.drop_duplicates().reset_index(drop=True)"
   ]
  },
  {
   "cell_type": "code",
   "execution_count": 14,
   "metadata": {
    "ExecuteTime": {
     "end_time": "2020-06-24T11:57:50.487085Z",
     "start_time": "2020-06-24T11:57:50.480505Z"
    }
   },
   "outputs": [
    {
     "data": {
      "text/html": [
       "<div>\n",
       "<style scoped>\n",
       "    .dataframe tbody tr th:only-of-type {\n",
       "        vertical-align: middle;\n",
       "    }\n",
       "\n",
       "    .dataframe tbody tr th {\n",
       "        vertical-align: top;\n",
       "    }\n",
       "\n",
       "    .dataframe thead th {\n",
       "        text-align: right;\n",
       "    }\n",
       "</style>\n",
       "<table border=\"1\" class=\"dataframe\">\n",
       "  <thead>\n",
       "    <tr style=\"text-align: right;\">\n",
       "      <th></th>\n",
       "      <th>shop_id</th>\n",
       "      <th>item_id</th>\n",
       "      <th>date_block_num</th>\n",
       "      <th>item_cnt_month</th>\n",
       "      <th>item_category_id</th>\n",
       "      <th>item_section_name</th>\n",
       "      <th>shop_city</th>\n",
       "    </tr>\n",
       "  </thead>\n",
       "  <tbody>\n",
       "    <tr>\n",
       "      <th>0</th>\n",
       "      <td>5</td>\n",
       "      <td>5037</td>\n",
       "      <td>34</td>\n",
       "      <td>-1</td>\n",
       "      <td>19</td>\n",
       "      <td>5</td>\n",
       "      <td>3</td>\n",
       "    </tr>\n",
       "    <tr>\n",
       "      <th>1</th>\n",
       "      <td>5</td>\n",
       "      <td>5320</td>\n",
       "      <td>34</td>\n",
       "      <td>-1</td>\n",
       "      <td>55</td>\n",
       "      <td>9</td>\n",
       "      <td>3</td>\n",
       "    </tr>\n",
       "  </tbody>\n",
       "</table>\n",
       "</div>"
      ],
      "text/plain": [
       "   shop_id  item_id  date_block_num  item_cnt_month  item_category_id  \\\n",
       "0        5     5037              34              -1                19   \n",
       "1        5     5320              34              -1                55   \n",
       "\n",
       "   item_section_name  shop_city  \n",
       "0                  5          3  \n",
       "1                  9          3  "
      ]
     },
     "execution_count": 14,
     "metadata": {},
     "output_type": "execute_result"
    }
   ],
   "source": [
    "test.head(2)"
   ]
  },
  {
   "cell_type": "markdown",
   "metadata": {},
   "source": [
    "**Combine data**"
   ]
  },
  {
   "cell_type": "code",
   "execution_count": 15,
   "metadata": {
    "ExecuteTime": {
     "end_time": "2020-06-24T11:57:52.776559Z",
     "start_time": "2020-06-24T11:57:50.488372Z"
    }
   },
   "outputs": [],
   "source": [
    "#concat all data to create mean encoded features and lag ones\n",
    "all_data = pd.concat([train, test]).reset_index(drop=True)"
   ]
  },
  {
   "cell_type": "code",
   "execution_count": 22,
   "metadata": {
    "ExecuteTime": {
     "end_time": "2020-06-22T19:49:01.188325Z",
     "start_time": "2020-06-22T19:45:57.649207Z"
    }
   },
   "outputs": [
    {
     "data": {
      "application/vnd.jupyter.widget-view+json": {
       "model_id": "315bb2e5d8004cffa446e780b7f226c5",
       "version_major": 2,
       "version_minor": 0
      },
      "text/plain": [
       "HBox(children=(FloatProgress(value=0.0, max=12.0), HTML(value='')))"
      ]
     },
     "metadata": {},
     "output_type": "display_data"
    },
    {
     "name": "stdout",
     "output_type": "stream",
     "text": [
      "\n"
     ]
    }
   ],
   "source": [
    "# List of columns that we will use to create lags\n",
    "lag_features = ['item_cnt_month']\n",
    "\n",
    "shift_range = list(range(1, 13))\n",
    "\n",
    "for month_shift in tqdm(shift_range):\n",
    "    train_shift = all_data[index_cols + lag_features].copy()\n",
    "    \n",
    "    train_shift['date_block_num'] = train_shift['date_block_num'] + month_shift\n",
    "    \n",
    "    foo = lambda x: f'{x}_lag_{month_shift}' if x in lag_features else x\n",
    "    train_shift = train_shift.rename(columns=foo)\n",
    "\n",
    "    all_data = pd.merge(all_data, train_shift, on=index_cols, how='left').fillna(0)"
   ]
  },
  {
   "cell_type": "code",
   "execution_count": 23,
   "metadata": {
    "ExecuteTime": {
     "end_time": "2020-06-22T19:49:25.003033Z",
     "start_time": "2020-06-22T19:49:01.191080Z"
    }
   },
   "outputs": [],
   "source": [
    "#one more features since we have predict based on pairs shop_id and item_id\n",
    "all_data['shop_item'] = (all_data['shop_id'].astype(str) + '0' + all_data['item_id'].astype(str)).astype(int)\n",
    "#order of month\n",
    "all_data['month'] = all_data['date_block_num'].apply(lambda x: x % 12)"
   ]
  },
  {
   "cell_type": "code",
   "execution_count": 24,
   "metadata": {
    "ExecuteTime": {
     "end_time": "2020-06-22T19:49:25.024589Z",
     "start_time": "2020-06-22T19:49:25.005384Z"
    }
   },
   "outputs": [
    {
     "data": {
      "text/html": [
       "<div>\n",
       "<style scoped>\n",
       "    .dataframe tbody tr th:only-of-type {\n",
       "        vertical-align: middle;\n",
       "    }\n",
       "\n",
       "    .dataframe tbody tr th {\n",
       "        vertical-align: top;\n",
       "    }\n",
       "\n",
       "    .dataframe thead th {\n",
       "        text-align: right;\n",
       "    }\n",
       "</style>\n",
       "<table border=\"1\" class=\"dataframe\">\n",
       "  <thead>\n",
       "    <tr style=\"text-align: right;\">\n",
       "      <th></th>\n",
       "      <th>shop_id</th>\n",
       "      <th>item_id</th>\n",
       "      <th>date_block_num</th>\n",
       "      <th>item_cnt_month</th>\n",
       "      <th>item_category_id</th>\n",
       "      <th>item_section_name</th>\n",
       "      <th>shop_city</th>\n",
       "      <th>item_cnt_month_lag_1</th>\n",
       "      <th>item_cnt_month_lag_2</th>\n",
       "      <th>item_cnt_month_lag_3</th>\n",
       "      <th>...</th>\n",
       "      <th>item_cnt_month_lag_5</th>\n",
       "      <th>item_cnt_month_lag_6</th>\n",
       "      <th>item_cnt_month_lag_7</th>\n",
       "      <th>item_cnt_month_lag_8</th>\n",
       "      <th>item_cnt_month_lag_9</th>\n",
       "      <th>item_cnt_month_lag_10</th>\n",
       "      <th>item_cnt_month_lag_11</th>\n",
       "      <th>item_cnt_month_lag_12</th>\n",
       "      <th>shop_item</th>\n",
       "      <th>month</th>\n",
       "    </tr>\n",
       "  </thead>\n",
       "  <tbody>\n",
       "    <tr>\n",
       "      <th>0</th>\n",
       "      <td>59</td>\n",
       "      <td>22154</td>\n",
       "      <td>0</td>\n",
       "      <td>1.0</td>\n",
       "      <td>37</td>\n",
       "      <td>7</td>\n",
       "      <td>30</td>\n",
       "      <td>0.0</td>\n",
       "      <td>0.0</td>\n",
       "      <td>0.0</td>\n",
       "      <td>...</td>\n",
       "      <td>0.0</td>\n",
       "      <td>0.0</td>\n",
       "      <td>0.0</td>\n",
       "      <td>0.0</td>\n",
       "      <td>0.0</td>\n",
       "      <td>0.0</td>\n",
       "      <td>0.0</td>\n",
       "      <td>0.0</td>\n",
       "      <td>59022154</td>\n",
       "      <td>0</td>\n",
       "    </tr>\n",
       "    <tr>\n",
       "      <th>1</th>\n",
       "      <td>16</td>\n",
       "      <td>6197</td>\n",
       "      <td>0</td>\n",
       "      <td>0.0</td>\n",
       "      <td>55</td>\n",
       "      <td>9</td>\n",
       "      <td>10</td>\n",
       "      <td>0.0</td>\n",
       "      <td>0.0</td>\n",
       "      <td>0.0</td>\n",
       "      <td>...</td>\n",
       "      <td>0.0</td>\n",
       "      <td>0.0</td>\n",
       "      <td>0.0</td>\n",
       "      <td>0.0</td>\n",
       "      <td>0.0</td>\n",
       "      <td>0.0</td>\n",
       "      <td>0.0</td>\n",
       "      <td>0.0</td>\n",
       "      <td>1606197</td>\n",
       "      <td>0</td>\n",
       "    </tr>\n",
       "  </tbody>\n",
       "</table>\n",
       "<p>2 rows × 21 columns</p>\n",
       "</div>"
      ],
      "text/plain": [
       "   shop_id  item_id  date_block_num  item_cnt_month  item_category_id  \\\n",
       "0       59    22154               0             1.0                37   \n",
       "1       16     6197               0             0.0                55   \n",
       "\n",
       "   item_section_name  shop_city  item_cnt_month_lag_1  item_cnt_month_lag_2  \\\n",
       "0                  7         30                   0.0                   0.0   \n",
       "1                  9         10                   0.0                   0.0   \n",
       "\n",
       "   item_cnt_month_lag_3  ...  item_cnt_month_lag_5  item_cnt_month_lag_6  \\\n",
       "0                   0.0  ...                   0.0                   0.0   \n",
       "1                   0.0  ...                   0.0                   0.0   \n",
       "\n",
       "   item_cnt_month_lag_7  item_cnt_month_lag_8  item_cnt_month_lag_9  \\\n",
       "0                   0.0                   0.0                   0.0   \n",
       "1                   0.0                   0.0                   0.0   \n",
       "\n",
       "   item_cnt_month_lag_10  item_cnt_month_lag_11  item_cnt_month_lag_12  \\\n",
       "0                    0.0                    0.0                    0.0   \n",
       "1                    0.0                    0.0                    0.0   \n",
       "\n",
       "   shop_item  month  \n",
       "0   59022154      0  \n",
       "1    1606197      0  \n",
       "\n",
       "[2 rows x 21 columns]"
      ]
     },
     "execution_count": 24,
     "metadata": {},
     "output_type": "execute_result"
    }
   ],
   "source": [
    "all_data.head(2)"
   ]
  },
  {
   "cell_type": "markdown",
   "metadata": {},
   "source": [
    "**mean encoding 1**"
   ]
  },
  {
   "cell_type": "code",
   "execution_count": 16,
   "metadata": {
    "ExecuteTime": {
     "end_time": "2020-06-24T11:57:53.602465Z",
     "start_time": "2020-06-24T11:57:52.779705Z"
    }
   },
   "outputs": [],
   "source": [
    "#train_part, val = all_data[all_data['date_block_num'] < 33], all_data[all_data['date_block_num'] == 33]\n",
    "#train, test = all_data[all_data['date_block_num'] < 34], all_data[all_data['date_block_num'] == 34]\n",
    "#############################################################################################\n",
    "all_data_part = all_data[all_data['date_block_num'] < 34]"
   ]
  },
  {
   "cell_type": "code",
   "execution_count": 26,
   "metadata": {
    "ExecuteTime": {
     "end_time": "2020-06-22T19:54:13.078717Z",
     "start_time": "2020-06-22T19:49:28.171929Z"
    }
   },
   "outputs": [
    {
     "data": {
      "application/vnd.jupyter.widget-view+json": {
       "model_id": "a4ebbe9a5feb4fb0aceeb8302a273abd",
       "version_major": 2,
       "version_minor": 0
      },
      "text/plain": [
       "HBox(children=(FloatProgress(value=0.0, max=6.0), HTML(value='')))"
      ]
     },
     "metadata": {},
     "output_type": "display_data"
    },
    {
     "name": "stdout",
     "output_type": "stream",
     "text": [
      "\n"
     ]
    },
    {
     "data": {
      "application/vnd.jupyter.widget-view+json": {
       "model_id": "6e9d6c339232425a98336053abf867b9",
       "version_major": 2,
       "version_minor": 0
      },
      "text/plain": [
       "HBox(children=(FloatProgress(value=0.0, max=6.0), HTML(value='')))"
      ]
     },
     "metadata": {},
     "output_type": "display_data"
    },
    {
     "name": "stdout",
     "output_type": "stream",
     "text": [
      "\n"
     ]
    }
   ],
   "source": [
    "mean_enc_features = ['item_id', 'shop_id', 'item_category_id', 'item_section_name', 'shop_city', 'shop_item']\n",
    "#encode for all train data and test\n",
    "#for col in tqdm(mean_enc_features):\n",
    "#    train, test = mean_enconding(train.copy(), test.copy(), col)\n",
    "\n",
    "#encode for train_part data and validation\n",
    "#for col in tqdm(mean_enc_features):\n",
    "#    train_part, val = mean_enconding(train_part.copy(), val.copy(), col)\n",
    "#####################################################################################################\n",
    "for col in tqdm(mean_enc_features):\n",
    "    all_data = mean_enconding(all_data.copy(), col)\n",
    "\n",
    "for col in tqdm(mean_enc_features):\n",
    "    all_data_part = mean_enconding(all_data_part.copy(), col)"
   ]
  },
  {
   "cell_type": "code",
   "execution_count": 27,
   "metadata": {
    "ExecuteTime": {
     "end_time": "2020-06-22T19:54:19.040553Z",
     "start_time": "2020-06-22T19:54:13.080449Z"
    }
   },
   "outputs": [],
   "source": [
    "#to validate\n",
    "train_part = all_data_part[all_data_part['date_block_num'] < 33]\n",
    "val = all_data_part[all_data_part['date_block_num'] == 33]\n",
    "\n",
    "#to fit on all data\n",
    "train, test = all_data[all_data['date_block_num'] < 34], all_data[all_data['date_block_num'] == 34]"
   ]
  },
  {
   "cell_type": "code",
   "execution_count": 28,
   "metadata": {
    "ExecuteTime": {
     "end_time": "2020-06-22T19:54:55.107092Z",
     "start_time": "2020-06-22T19:54:19.042017Z"
    }
   },
   "outputs": [],
   "source": [
    "Xtrain_part, ytrain_part = train_part.drop(['item_cnt_month'] , axis=1), train_part['item_cnt_month']\n",
    "Xval, yval = val.drop(['item_cnt_month'] , axis=1), val['item_cnt_month']\n",
    "\n",
    "Xtrain, ytrain = train.drop(['item_cnt_month'] , axis=1), train['item_cnt_month']\n",
    "Xtest, ytest = test.drop(['item_cnt_month'] , axis=1), test['item_cnt_month']\n",
    "\n",
    "dtrain_part = xgb.DMatrix(data=Xtrain_part.to_numpy(), label=ytrain_part\n",
    "                     , feature_names=Xtrain.columns)\n",
    "dval = xgb.DMatrix(data=Xval.to_numpy(), label=yval\n",
    "                     , feature_names=Xtrain.columns)\n",
    "\n",
    "dtrain = xgb.DMatrix(data=Xtrain.to_numpy(), label=ytrain\n",
    "                     , feature_names=Xtrain.columns)\n",
    "dtest = xgb.DMatrix(data=Xtest.to_numpy(), label=ytest\n",
    "                   , feature_names=Xtrain.columns)"
   ]
  },
  {
   "cell_type": "markdown",
   "metadata": {},
   "source": [
    "**mean encoding 2**"
   ]
  },
  {
   "cell_type": "code",
   "execution_count": 29,
   "metadata": {
    "ExecuteTime": {
     "end_time": "2020-06-22T19:55:00.728825Z",
     "start_time": "2020-06-22T19:54:55.110343Z"
    }
   },
   "outputs": [],
   "source": [
    "train_part, val = all_data[all_data['date_block_num'] < 33], all_data[all_data['date_block_num'] == 33]\n",
    "train, test = all_data[all_data['date_block_num'] < 34], all_data[all_data['date_block_num'] == 34]"
   ]
  },
  {
   "cell_type": "code",
   "execution_count": 30,
   "metadata": {
    "ExecuteTime": {
     "end_time": "2020-06-22T20:00:49.403288Z",
     "start_time": "2020-06-22T19:55:00.732839Z"
    }
   },
   "outputs": [
    {
     "data": {
      "application/vnd.jupyter.widget-view+json": {
       "model_id": "db672e76ad8a4184a07089cff12fcaae",
       "version_major": 2,
       "version_minor": 0
      },
      "text/plain": [
       "HBox(children=(FloatProgress(value=0.0, max=6.0), HTML(value='')))"
      ]
     },
     "metadata": {},
     "output_type": "display_data"
    },
    {
     "name": "stdout",
     "output_type": "stream",
     "text": [
      "\n"
     ]
    },
    {
     "data": {
      "application/vnd.jupyter.widget-view+json": {
       "model_id": "c068a5aa1fd14a379cc6f5264b46aa01",
       "version_major": 2,
       "version_minor": 0
      },
      "text/plain": [
       "HBox(children=(FloatProgress(value=0.0, max=6.0), HTML(value='')))"
      ]
     },
     "metadata": {},
     "output_type": "display_data"
    },
    {
     "name": "stdout",
     "output_type": "stream",
     "text": [
      "\n"
     ]
    }
   ],
   "source": [
    "mean_enc_features = ['item_id', 'shop_id', 'item_category_id', 'item_section_name', 'shop_city', 'shop_item']\n",
    "#encode for all train data and test\n",
    "for col in tqdm(mean_enc_features):\n",
    "    train, test = mean_enconding2(train.copy(), test.copy(), col)\n",
    "\n",
    "#encode for train_part data and validation\n",
    "for col in tqdm(mean_enc_features):\n",
    "    train_part, val = mean_enconding2(train_part.copy(), val.copy(), col)"
   ]
  },
  {
   "cell_type": "code",
   "execution_count": 31,
   "metadata": {
    "ExecuteTime": {
     "end_time": "2020-06-22T20:01:23.884650Z",
     "start_time": "2020-06-22T20:00:49.405604Z"
    }
   },
   "outputs": [],
   "source": [
    "Xtrain_part, ytrain_part = train_part.drop(['item_cnt_month'] , axis=1), train_part['item_cnt_month']\n",
    "Xval, yval = val.drop(['item_cnt_month'] , axis=1), val['item_cnt_month']\n",
    "\n",
    "Xtrain, ytrain = train.drop(['item_cnt_month'] , axis=1), train['item_cnt_month']\n",
    "Xtest, ytest = test.drop(['item_cnt_month'] , axis=1), test['item_cnt_month']\n",
    "\n",
    "dtrain_part2 = xgb.DMatrix(data=Xtrain_part.to_numpy(), label=ytrain_part\n",
    "                     , feature_names=Xtrain.columns)\n",
    "dval2 = xgb.DMatrix(data=Xval.to_numpy(), label=yval\n",
    "                     , feature_names=Xtrain.columns)\n",
    "\n",
    "dtrain2 = xgb.DMatrix(data=Xtrain.to_numpy(), label=ytrain\n",
    "                     , feature_names=Xtrain.columns)\n",
    "dtest2 = xgb.DMatrix(data=Xtest.to_numpy(), label=ytest\n",
    "                   , feature_names=Xtrain.columns)"
   ]
  },
  {
   "cell_type": "code",
   "execution_count": null,
   "metadata": {},
   "outputs": [],
   "source": []
  },
  {
   "cell_type": "code",
   "execution_count": 32,
   "metadata": {
    "ExecuteTime": {
     "end_time": "2020-06-22T20:01:23.890663Z",
     "start_time": "2020-06-22T20:01:23.886999Z"
    }
   },
   "outputs": [],
   "source": [
    "default_params = {  'objective': 'reg:squarederror'                    \n",
    "                    , 'subsample': 0.8\n",
    "                    , 'colsample_bytree': 0.9\n",
    "                    , 'learning_rate': 0.1\n",
    "                    , 'tree_method': 'hist'\n",
    "                    , 'grow_policy': 'lossguide'\n",
    "                    , 'max_leaves': 63\n",
    "                    , 'max_depth': 0\n",
    "                    , 'gamma': 1\n",
    "                    , 'reg_alpha': 1.2\n",
    "                    , 'reg_lambda': 1.3\n",
    "                    , 'min_child_weight': 30\n",
    "                    , 'max_delta_step': 2\n",
    "                    , 'n_jobs': 60\n",
    "                    , 'random_state': 42\n",
    "                    , 'eval_metric': 'rmse'\n",
    "                }   "
   ]
  },
  {
   "cell_type": "code",
   "execution_count": 33,
   "metadata": {
    "ExecuteTime": {
     "end_time": "2020-06-22T20:03:25.001627Z",
     "start_time": "2020-06-22T20:01:23.892236Z"
    }
   },
   "outputs": [
    {
     "name": "stdout",
     "output_type": "stream",
     "text": [
      "[0]\ttrain_part-rmse:1.21758\tval-rmse:1.14277\n",
      "Multiple eval metrics have been passed: 'val-rmse' will be used for early stopping.\n",
      "\n",
      "Will train until val-rmse hasn't improved in 100 rounds.\n",
      "[100]\ttrain_part-rmse:0.90413\tval-rmse:0.94380\n",
      "[200]\ttrain_part-rmse:0.87548\tval-rmse:0.95656\n",
      "Stopping. Best iteration:\n",
      "[134]\ttrain_part-rmse:0.89354\tval-rmse:0.94200\n",
      "\n"
     ]
    }
   ],
   "source": [
    "model1_part = xgb.train(default_params, dtrain_part, num_boost_round=1000, early_stopping_rounds=100, verbose_eval=100\n",
    "           , evals=[(dtrain_part,'train_part'), (dval,'val')])"
   ]
  },
  {
   "cell_type": "code",
   "execution_count": 34,
   "metadata": {
    "ExecuteTime": {
     "end_time": "2020-06-22T20:09:45.010357Z",
     "start_time": "2020-06-22T20:05:29.575338Z"
    }
   },
   "outputs": [
    {
     "name": "stdout",
     "output_type": "stream",
     "text": [
      "[0]\ttrain-rmse:1.21626\n",
      "Will train until train-rmse hasn't improved in 100 rounds.\n",
      "[100]\ttrain-rmse:0.90627\n",
      "[200]\ttrain-rmse:0.87786\n",
      "[300]\ttrain-rmse:0.85982\n",
      "[400]\ttrain-rmse:0.84615\n",
      "[499]\ttrain-rmse:0.83393\n"
     ]
    }
   ],
   "source": [
    "model1 = xgb.train(default_params, dtrain, num_boost_round=500, early_stopping_rounds=100, verbose_eval=100\n",
    "           , evals=[(dtrain,'train')])"
   ]
  },
  {
   "cell_type": "code",
   "execution_count": 35,
   "metadata": {
    "ExecuteTime": {
     "end_time": "2020-06-22T20:09:45.573244Z",
     "start_time": "2020-06-22T20:09:45.012573Z"
    }
   },
   "outputs": [],
   "source": [
    "ans = pd.DataFrame({'item_cnt_month': model1.predict(dtest)})\n",
    "ans['item_cnt_month'] = ans['item_cnt_month'].clip(0, 20)\n",
    "ans.insert(0, 'ID', ans.index)\n",
    "ans.to_csv(DATA_DIR / 'mean_enc1.csv', index=False)\n",
    "#0.977033"
   ]
  },
  {
   "cell_type": "code",
   "execution_count": 36,
   "metadata": {
    "ExecuteTime": {
     "end_time": "2020-06-22T20:13:24.600018Z",
     "start_time": "2020-06-22T20:09:45.575030Z"
    }
   },
   "outputs": [
    {
     "name": "stdout",
     "output_type": "stream",
     "text": [
      "[0]\ttrain_part-rmse:1.21761\tval-rmse:1.14216\n",
      "Multiple eval metrics have been passed: 'val-rmse' will be used for early stopping.\n",
      "\n",
      "Will train until val-rmse hasn't improved in 100 rounds.\n",
      "[100]\ttrain_part-rmse:0.90500\tval-rmse:0.93927\n",
      "[200]\ttrain_part-rmse:0.87655\tval-rmse:0.93528\n",
      "[300]\ttrain_part-rmse:0.85785\tval-rmse:0.93314\n",
      "[400]\ttrain_part-rmse:0.84223\tval-rmse:0.93405\n",
      "Stopping. Best iteration:\n",
      "[348]\ttrain_part-rmse:0.85027\tval-rmse:0.93219\n",
      "\n"
     ]
    }
   ],
   "source": [
    "model2_part = xgb.train(default_params, dtrain_part2, num_boost_round=1000, early_stopping_rounds=100, verbose_eval=100\n",
    "           , evals=[(dtrain_part2,'train_part'), (dval2,'val')])"
   ]
  },
  {
   "cell_type": "code",
   "execution_count": 37,
   "metadata": {
    "ExecuteTime": {
     "end_time": "2020-06-22T20:17:14.382340Z",
     "start_time": "2020-06-22T20:13:24.602092Z"
    }
   },
   "outputs": [
    {
     "name": "stdout",
     "output_type": "stream",
     "text": [
      "[0]\ttrain_part-rmse:1.21597\n",
      "Will train until train_part-rmse hasn't improved in 100 rounds.\n",
      "[100]\ttrain_part-rmse:0.90392\n",
      "[200]\ttrain_part-rmse:0.87673\n",
      "[300]\ttrain_part-rmse:0.85785\n",
      "[400]\ttrain_part-rmse:0.84372\n",
      "[499]\ttrain_part-rmse:0.83215\n"
     ]
    }
   ],
   "source": [
    "model2 = xgb.train(default_params, dtrain2, num_boost_round=500, early_stopping_rounds=100, verbose_eval=100\n",
    "           , evals=[(dtrain2,'train_part')])"
   ]
  },
  {
   "cell_type": "code",
   "execution_count": 38,
   "metadata": {
    "ExecuteTime": {
     "end_time": "2020-06-22T20:17:14.911800Z",
     "start_time": "2020-06-22T20:17:14.384323Z"
    }
   },
   "outputs": [],
   "source": [
    "ans = pd.DataFrame({'item_cnt_month': model2.predict(dtest)})\n",
    "ans['item_cnt_month'] = ans['item_cnt_month'].clip(0, 20)\n",
    "ans.insert(0, 'ID', ans.index)\n",
    "ans.to_csv(DATA_DIR / 'mean_enc2.csv', index=False)\n",
    "#0.981799"
   ]
  },
  {
   "cell_type": "code",
   "execution_count": null,
   "metadata": {},
   "outputs": [],
   "source": []
  },
  {
   "cell_type": "markdown",
   "metadata": {},
   "source": [
    "**one more try witn mean encoding 1**"
   ]
  },
  {
   "cell_type": "code",
   "execution_count": 139,
   "metadata": {
    "ExecuteTime": {
     "end_time": "2020-06-24T10:36:07.705457Z",
     "start_time": "2020-06-24T10:36:07.612412Z"
    }
   },
   "outputs": [],
   "source": [
    "ans = pd.DataFrame({'item_cnt_month': model1.predict(dtest)})\n",
    "ans['item_cnt_month'] = ans['item_cnt_month'].clip(0, 20)\n",
    "ans.insert(0, 'ID', ans.index)"
   ]
  },
  {
   "cell_type": "code",
   "execution_count": 110,
   "metadata": {
    "ExecuteTime": {
     "end_time": "2020-06-22T21:01:05.283184Z",
     "start_time": "2020-06-22T21:01:05.280171Z"
    }
   },
   "outputs": [
    {
     "data": {
      "text/plain": [
       "(214200, 27)"
      ]
     },
     "execution_count": 110,
     "metadata": {},
     "output_type": "execute_result"
    }
   ],
   "source": [
    "test.shape"
   ]
  },
  {
   "cell_type": "code",
   "execution_count": 140,
   "metadata": {
    "ExecuteTime": {
     "end_time": "2020-06-24T10:36:12.404174Z",
     "start_time": "2020-06-24T10:36:12.392701Z"
    }
   },
   "outputs": [
    {
     "data": {
      "text/plain": [
       "(202672, 2)"
      ]
     },
     "execution_count": 140,
     "metadata": {},
     "output_type": "execute_result"
    }
   ],
   "source": [
    "thr = 1\n",
    "x1, x2 = ans.loc[ans['item_cnt_month'] < thr], ans.loc[ans['item_cnt_month'] >= thr]\n",
    "x1.shape"
   ]
  },
  {
   "cell_type": "code",
   "execution_count": 141,
   "metadata": {
    "ExecuteTime": {
     "end_time": "2020-06-24T10:36:12.965335Z",
     "start_time": "2020-06-24T10:36:12.618219Z"
    }
   },
   "outputs": [
    {
     "name": "stdout",
     "output_type": "stream",
     "text": [
      "[29884. 17414. 18188. 18264. 12393. 11449.  9881.  7856.  9019.  7369.]\n",
      "[0.         0.01999961 0.03999921 0.05999882 0.07999843 0.09999803\n",
      " 0.11999764 0.13999724 0.15999685 0.17999646]\n"
     ]
    },
    {
     "data": {
      "image/png": "[encoded data removed]",
      "text/plain": [
       "<Figure size 1440x720 with 1 Axes>"
      ]
     },
     "metadata": {
      "needs_background": "light"
     },
     "output_type": "display_data"
    }
   ],
   "source": [
    "plt.figure(figsize=(20,10))\n",
    "n, bins, _ = plt.hist(x1['item_cnt_month'], bins=50)\n",
    "print(n[:10])\n",
    "print(bins[:10])\n",
    "plt.show()"
   ]
  },
  {
   "cell_type": "code",
   "execution_count": 142,
   "metadata": {
    "ExecuteTime": {
     "end_time": "2020-06-24T10:36:13.449253Z",
     "start_time": "2020-06-24T10:36:13.129379Z"
    }
   },
   "outputs": [
    {
     "name": "stdout",
     "output_type": "stream",
     "text": [
      "[8039. 1813.  734.  341.  174.  110.   72.   46.   63.   21.]\n",
      "[ 1.0000651  2.2667274  3.5333898  4.800052   6.0667143  7.333377\n",
      "  8.6000395  9.866701  11.133364  12.400026 ]\n"
     ]
    },
    {
     "data": {
      "image/png": "[encoded data removed]",
      "text/plain": [
       "<Figure size 1440x720 with 1 Axes>"
      ]
     },
     "metadata": {
      "needs_background": "light"
     },
     "output_type": "display_data"
    }
   ],
   "source": [
    "plt.figure(figsize=(20,10))\n",
    "n, bins, _ = plt.hist(x2['item_cnt_month'], bins=15)\n",
    "print(n[:10])\n",
    "print(bins[:10])\n",
    "plt.show()"
   ]
  },
  {
   "cell_type": "code",
   "execution_count": 143,
   "metadata": {
    "ExecuteTime": {
     "end_time": "2020-06-24T10:36:15.126088Z",
     "start_time": "2020-06-24T10:36:15.119075Z"
    }
   },
   "outputs": [],
   "source": [
    "ans['item_cnt_month'] = np.where(ans['item_cnt_month'] < 0.02, 0, ans['item_cnt_month'])\n",
    "ans['item_cnt_month'] = np.where((ans['item_cnt_month'] < 1.1) & (ans['item_cnt_month'] > 0.9), 1, ans['item_cnt_month'])"
   ]
  },
  {
   "cell_type": "code",
   "execution_count": 144,
   "metadata": {
    "ExecuteTime": {
     "end_time": "2020-06-24T10:36:20.616129Z",
     "start_time": "2020-06-24T10:36:20.190780Z"
    }
   },
   "outputs": [],
   "source": [
    "ans.to_csv(DATA_DIR / 'mean_enc1_1.csv', index=False)\n",
    "#0.977104 - a bit worse"
   ]
  },
  {
   "cell_type": "code",
   "execution_count": null,
   "metadata": {},
   "outputs": [],
   "source": []
  },
  {
   "cell_type": "code",
   "execution_count": null,
   "metadata": {},
   "outputs": [],
   "source": []
  },
  {
   "cell_type": "code",
   "execution_count": null,
   "metadata": {},
   "outputs": [],
   "source": []
  }
 ],
 "metadata": {
  "kernelspec": {
   "display_name": "Python 3.6",
   "language": "python36",
   "name": "python3.6"
  },
  "language_info": {
   "codemirror_mode": {
    "name": "ipython",
    "version": 3
   },
   "file_extension": ".py",
   "mimetype": "text/x-python",
   "name": "python",
   "nbconvert_exporter": "python",
   "pygments_lexer": "ipython3",
   "version": "3.6.8"
  }
 },
 "nbformat": 4,
 "nbformat_minor": 2
}
