{
 "cells": [
  {
   "cell_type": "code",
   "execution_count": 1,
   "metadata": {
    "ExecuteTime": {
     "end_time": "2020-06-20T14:46:00.772720Z",
     "start_time": "2020-06-20T14:45:59.506716Z"
    }
   },
   "outputs": [],
   "source": [
    "import numpy as np\n",
    "import pandas as pd\n",
    "import matplotlib.pyplot as plt\n",
    "import seaborn as sns\n",
    "import shap\n",
    "\n",
    "import os\n",
    "import getpass\n",
    "import gc\n",
    "from pathlib import Path\n",
    "\n",
    "import itertools\n",
    "\n",
    "import xgboost as xgb\n",
    "from lightgbm import LGBMRegressor\n",
    "\n",
    "from sklearn.preprocessing import LabelEncoder\n",
    "from sklearn.model_selection import KFold\n",
    "\n",
    "from tqdm.notebook import tqdm\n",
    "import warnings\n",
    "warnings.filterwarnings('ignore')"
   ]
  },
  {
   "cell_type": "code",
   "execution_count": 2,
   "metadata": {
    "ExecuteTime": {
     "end_time": "2020-06-20T14:46:01.933701Z",
     "start_time": "2020-06-20T14:46:00.774601Z"
    }
   },
   "outputs": [],
   "source": [
    "DATA_DIR = Path('/data', getpass.getuser(), 'kaggle', 'future_sales') #path to data files\n",
    "\n",
    "sales = pd.read_csv(DATA_DIR / 'sales_train.csv')\n",
    "items = pd.read_csv(DATA_DIR / 'items.csv')\n",
    "item_categories = pd.read_csv(DATA_DIR / 'item_categories.csv')\n",
    "shops = pd.read_csv(DATA_DIR /'shops.csv')\n",
    "\n",
    "test = pd.read_csv(DATA_DIR / 'test.csv').set_index('ID')"
   ]
  },
  {
   "cell_type": "code",
   "execution_count": 3,
   "metadata": {
    "ExecuteTime": {
     "end_time": "2020-06-20T14:46:01.940399Z",
     "start_time": "2020-06-20T14:46:01.935756Z"
    }
   },
   "outputs": [
    {
     "data": {
      "text/plain": [
       "Index(['date', 'date_block_num', 'shop_id', 'item_id', 'item_price',\n",
       "       'item_cnt_day'],\n",
       "      dtype='object')"
      ]
     },
     "execution_count": 3,
     "metadata": {},
     "output_type": "execute_result"
    }
   ],
   "source": [
    "sales.columns"
   ]
  },
  {
   "cell_type": "code",
   "execution_count": 4,
   "metadata": {
    "ExecuteTime": {
     "end_time": "2020-06-20T14:46:01.947504Z",
     "start_time": "2020-06-20T14:46:01.941724Z"
    }
   },
   "outputs": [
    {
     "data": {
      "text/plain": [
       "Index(['item_name', 'item_id', 'item_category_id'], dtype='object')"
      ]
     },
     "execution_count": 4,
     "metadata": {},
     "output_type": "execute_result"
    }
   ],
   "source": [
    "items.columns"
   ]
  },
  {
   "cell_type": "code",
   "execution_count": 5,
   "metadata": {
    "ExecuteTime": {
     "end_time": "2020-06-20T14:46:01.951184Z",
     "start_time": "2020-06-20T14:46:01.948660Z"
    }
   },
   "outputs": [
    {
     "data": {
      "text/plain": [
       "Index(['item_category_name', 'item_category_id'], dtype='object')"
      ]
     },
     "execution_count": 5,
     "metadata": {},
     "output_type": "execute_result"
    }
   ],
   "source": [
    "item_categories.columns"
   ]
  },
  {
   "cell_type": "code",
   "execution_count": 6,
   "metadata": {
    "ExecuteTime": {
     "end_time": "2020-06-20T14:46:01.955970Z",
     "start_time": "2020-06-20T14:46:01.953537Z"
    }
   },
   "outputs": [
    {
     "data": {
      "text/plain": [
       "Index(['shop_name', 'shop_id'], dtype='object')"
      ]
     },
     "execution_count": 6,
     "metadata": {},
     "output_type": "execute_result"
    }
   ],
   "source": [
    "shops.columns"
   ]
  },
  {
   "cell_type": "markdown",
   "metadata": {},
   "source": [
    "**Little preporcessing**"
   ]
  },
  {
   "cell_type": "code",
   "execution_count": 7,
   "metadata": {
    "ExecuteTime": {
     "end_time": "2020-06-20T14:46:01.960140Z",
     "start_time": "2020-06-20T14:46:01.957450Z"
    }
   },
   "outputs": [],
   "source": [
    "def shop_id_change(sample):\n",
    "    sample.loc[sample['shop_id']==57, 'shop_id'] = 0\n",
    "    sample.loc[sample['shop_id']==58, 'shop_id'] = 1\n",
    "    sample.loc[sample['shop_id']==11, 'shop_id'] = 10\n",
    "    \n",
    "    return sample"
   ]
  },
  {
   "cell_type": "code",
   "execution_count": 8,
   "metadata": {
    "ExecuteTime": {
     "end_time": "2020-06-20T14:46:02.174945Z",
     "start_time": "2020-06-20T14:46:01.961331Z"
    }
   },
   "outputs": [],
   "source": [
    "#get rid of those objects but may be it's better to keep due to clipping to [0,20] all values of cnt\n",
    "sales = sales[(sales['item_cnt_day'] <= 900) & (sales['item_price'] <= 60000) & ((sales['item_price'] >= 0))]"
   ]
  },
  {
   "cell_type": "code",
   "execution_count": 9,
   "metadata": {
    "ExecuteTime": {
     "end_time": "2020-06-20T14:46:02.254676Z",
     "start_time": "2020-06-20T14:46:02.176580Z"
    }
   },
   "outputs": [],
   "source": [
    "#change shop_id\n",
    "sales = shop_id_change(sales)\n",
    "shops = shop_id_change(shops)\n",
    "test = shop_id_change(test)"
   ]
  },
  {
   "cell_type": "code",
   "execution_count": 10,
   "metadata": {
    "ExecuteTime": {
     "end_time": "2020-06-20T14:46:02.442812Z",
     "start_time": "2020-06-20T14:46:02.436754Z"
    }
   },
   "outputs": [],
   "source": [
    "#create feature - city\n",
    "shops['shop_city'] = shops['shop_name'].apply(lambda x: x.lower()).str.replace('[^\\w\\s]', '').str.strip()\n",
    "shops['shop_city'] = shops['shop_city'].apply(lambda x: x.split()[0])\n",
    "shops['shop_city'] = LabelEncoder().fit_transform(shops['shop_city'])"
   ]
  },
  {
   "cell_type": "code",
   "execution_count": 11,
   "metadata": {
    "ExecuteTime": {
     "end_time": "2020-06-20T14:46:03.060553Z",
     "start_time": "2020-06-20T14:46:03.055943Z"
    }
   },
   "outputs": [],
   "source": [
    "#create feature - section of products\n",
    "item_categories['item_section_name'] = item_categories['item_category_name'] \\\n",
    "                                        .apply(lambda x: x.lower().split('-')[0].split()[0].strip())\n",
    "item_categories['item_section_name'] = LabelEncoder().fit_transform(item_categories['item_section_name'])"
   ]
  },
  {
   "cell_type": "markdown",
   "metadata": {},
   "source": [
    "\n",
    "Since we need to predict monthly, so aggregate data"
   ]
  },
  {
   "cell_type": "code",
   "execution_count": 12,
   "metadata": {
    "ExecuteTime": {
     "end_time": "2020-06-20T14:46:20.117631Z",
     "start_time": "2020-06-20T14:46:08.008715Z"
    }
   },
   "outputs": [],
   "source": [
    "index_cols = ['shop_id', 'item_id', 'date_block_num']\n",
    "grid = []\n",
    "\n",
    "for block_num in sales['date_block_num'].unique():\n",
    "    cur_shops = sales[sales['date_block_num']==block_num]['shop_id'].unique()\n",
    "    cur_items = sales[sales['date_block_num']==block_num]['item_id'].unique()\n",
    "    grid.append(np.array(list(itertools.product(*[cur_shops, cur_items, [block_num]])), dtype='int32'))\n",
    "\n",
    "grid = pd.DataFrame(np.vstack(grid), columns = index_cols,dtype=np.int32)\n",
    "\n",
    "# Aggregations\n",
    "#sales['item_cnt_day'] = sales['item_cnt_day'].clip(0,20) #seems it's better to clip first\n",
    "train = sales.groupby(['shop_id', 'item_id', 'date_block_num']) \\\n",
    "            .agg({'item_cnt_day':'sum', 'item_price':'mean'}).reset_index()\n",
    "train = train.rename(columns = {'item_cnt_day' : 'item_cnt_month'})\n",
    "train['item_cnt_month'] = train['item_cnt_month'].clip(0,20)\n",
    "\n",
    "#merge aggregated sales and grid\n",
    "train = pd.merge(grid, train, how='left',on=index_cols)\n",
    "train['item_cnt_month'] = train['item_cnt_month'].fillna(0)"
   ]
  },
  {
   "cell_type": "code",
   "execution_count": 13,
   "metadata": {
    "ExecuteTime": {
     "end_time": "2020-06-20T14:46:20.298294Z",
     "start_time": "2020-06-20T14:46:20.120422Z"
    }
   },
   "outputs": [
    {
     "data": {
      "text/html": [
       "<div>\n",
       "<style scoped>\n",
       "    .dataframe tbody tr th:only-of-type {\n",
       "        vertical-align: middle;\n",
       "    }\n",
       "\n",
       "    .dataframe tbody tr th {\n",
       "        vertical-align: top;\n",
       "    }\n",
       "\n",
       "    .dataframe thead th {\n",
       "        text-align: right;\n",
       "    }\n",
       "</style>\n",
       "<table border=\"1\" class=\"dataframe\">\n",
       "  <thead>\n",
       "    <tr style=\"text-align: right;\">\n",
       "      <th></th>\n",
       "      <th>shop_id</th>\n",
       "      <th>item_id</th>\n",
       "      <th>date_block_num</th>\n",
       "      <th>item_cnt_month</th>\n",
       "    </tr>\n",
       "  </thead>\n",
       "  <tbody>\n",
       "    <tr>\n",
       "      <th>0</th>\n",
       "      <td>59</td>\n",
       "      <td>22154</td>\n",
       "      <td>0</td>\n",
       "      <td>1.0</td>\n",
       "    </tr>\n",
       "    <tr>\n",
       "      <th>1</th>\n",
       "      <td>59</td>\n",
       "      <td>2552</td>\n",
       "      <td>0</td>\n",
       "      <td>0.0</td>\n",
       "    </tr>\n",
       "  </tbody>\n",
       "</table>\n",
       "</div>"
      ],
      "text/plain": [
       "   shop_id  item_id  date_block_num  item_cnt_month\n",
       "0       59    22154               0             1.0\n",
       "1       59     2552               0             0.0"
      ]
     },
     "execution_count": 13,
     "metadata": {},
     "output_type": "execute_result"
    }
   ],
   "source": [
    "#try without price since we dont know on test set (i suppose they are not obliged to be equal)\n",
    "train = train.drop(['item_price'], axis=1)\n",
    "train.head(2)"
   ]
  },
  {
   "cell_type": "code",
   "execution_count": 14,
   "metadata": {
    "ExecuteTime": {
     "end_time": "2020-06-20T14:46:20.302662Z",
     "start_time": "2020-06-20T14:46:20.299856Z"
    }
   },
   "outputs": [
    {
     "data": {
      "text/plain": [
       "(10913804, 4)"
      ]
     },
     "execution_count": 14,
     "metadata": {},
     "output_type": "execute_result"
    }
   ],
   "source": [
    "train.shape"
   ]
  },
  {
   "cell_type": "code",
   "execution_count": 15,
   "metadata": {
    "ExecuteTime": {
     "end_time": "2020-06-20T14:46:32.357187Z",
     "start_time": "2020-06-20T14:46:20.303846Z"
    }
   },
   "outputs": [
    {
     "data": {
      "text/html": [
       "<div>\n",
       "<style scoped>\n",
       "    .dataframe tbody tr th:only-of-type {\n",
       "        vertical-align: middle;\n",
       "    }\n",
       "\n",
       "    .dataframe tbody tr th {\n",
       "        vertical-align: top;\n",
       "    }\n",
       "\n",
       "    .dataframe thead th {\n",
       "        text-align: right;\n",
       "    }\n",
       "</style>\n",
       "<table border=\"1\" class=\"dataframe\">\n",
       "  <thead>\n",
       "    <tr style=\"text-align: right;\">\n",
       "      <th></th>\n",
       "      <th>shop_id</th>\n",
       "      <th>item_id</th>\n",
       "      <th>date_block_num</th>\n",
       "      <th>item_cnt_month</th>\n",
       "      <th>item_category_id</th>\n",
       "      <th>item_section_name</th>\n",
       "      <th>shop_city</th>\n",
       "    </tr>\n",
       "  </thead>\n",
       "  <tbody>\n",
       "    <tr>\n",
       "      <th>0</th>\n",
       "      <td>59</td>\n",
       "      <td>22154</td>\n",
       "      <td>0</td>\n",
       "      <td>1.0</td>\n",
       "      <td>37</td>\n",
       "      <td>7</td>\n",
       "      <td>30</td>\n",
       "    </tr>\n",
       "    <tr>\n",
       "      <th>1</th>\n",
       "      <td>16</td>\n",
       "      <td>6197</td>\n",
       "      <td>0</td>\n",
       "      <td>0.0</td>\n",
       "      <td>55</td>\n",
       "      <td>9</td>\n",
       "      <td>10</td>\n",
       "    </tr>\n",
       "  </tbody>\n",
       "</table>\n",
       "</div>"
      ],
      "text/plain": [
       "   shop_id  item_id  date_block_num  item_cnt_month  item_category_id  \\\n",
       "0       59    22154               0             1.0                37   \n",
       "1       16     6197               0             0.0                55   \n",
       "\n",
       "   item_section_name  shop_city  \n",
       "0                  7         30  \n",
       "1                  9         10  "
      ]
     },
     "execution_count": 15,
     "metadata": {},
     "output_type": "execute_result"
    }
   ],
   "source": [
    "#add some features to train\n",
    "train = train.merge(items[['item_id', 'item_category_id']], on='item_id')\n",
    "train = train.merge(item_categories[['item_category_id', 'item_section_name']], on='item_category_id')\n",
    "train = train.merge(shops[['shop_city', 'shop_id']], on='shop_id')\n",
    "#is_returned item feature can be added\n",
    "\n",
    "train = train.drop_duplicates()\n",
    "train = train.sort_values(by=['date_block_num']).reset_index(drop=True)\n",
    "train.head(2)"
   ]
  },
  {
   "cell_type": "code",
   "execution_count": 16,
   "metadata": {
    "ExecuteTime": {
     "end_time": "2020-06-20T14:46:32.361127Z",
     "start_time": "2020-06-20T14:46:32.358540Z"
    }
   },
   "outputs": [
    {
     "data": {
      "text/plain": [
       "(10913804, 7)"
      ]
     },
     "execution_count": 16,
     "metadata": {},
     "output_type": "execute_result"
    }
   ],
   "source": [
    "train.shape"
   ]
  },
  {
   "cell_type": "code",
   "execution_count": 17,
   "metadata": {
    "ExecuteTime": {
     "end_time": "2020-06-20T14:46:32.967074Z",
     "start_time": "2020-06-20T14:46:32.362406Z"
    }
   },
   "outputs": [
    {
     "data": {
      "text/plain": [
       "(9308180, 7)"
      ]
     },
     "execution_count": 17,
     "metadata": {},
     "output_type": "execute_result"
    }
   ],
   "source": [
    "train[train['item_cnt_month']<=0].shape #seems strange"
   ]
  },
  {
   "cell_type": "code",
   "execution_count": 21,
   "metadata": {
    "ExecuteTime": {
     "end_time": "2020-06-20T14:46:58.010644Z",
     "start_time": "2020-06-20T14:46:58.001554Z"
    }
   },
   "outputs": [
    {
     "name": "stdout",
     "output_type": "stream",
     "text": [
      "(214200, 4)\n"
     ]
    },
    {
     "data": {
      "text/html": [
       "<div>\n",
       "<style scoped>\n",
       "    .dataframe tbody tr th:only-of-type {\n",
       "        vertical-align: middle;\n",
       "    }\n",
       "\n",
       "    .dataframe tbody tr th {\n",
       "        vertical-align: top;\n",
       "    }\n",
       "\n",
       "    .dataframe thead th {\n",
       "        text-align: right;\n",
       "    }\n",
       "</style>\n",
       "<table border=\"1\" class=\"dataframe\">\n",
       "  <thead>\n",
       "    <tr style=\"text-align: right;\">\n",
       "      <th></th>\n",
       "      <th>shop_id</th>\n",
       "      <th>item_id</th>\n",
       "      <th>date_block_num</th>\n",
       "      <th>item_cnt_month</th>\n",
       "    </tr>\n",
       "    <tr>\n",
       "      <th>ID</th>\n",
       "      <th></th>\n",
       "      <th></th>\n",
       "      <th></th>\n",
       "      <th></th>\n",
       "    </tr>\n",
       "  </thead>\n",
       "  <tbody>\n",
       "    <tr>\n",
       "      <th>0</th>\n",
       "      <td>5</td>\n",
       "      <td>5037</td>\n",
       "      <td>34</td>\n",
       "      <td>-1</td>\n",
       "    </tr>\n",
       "    <tr>\n",
       "      <th>1</th>\n",
       "      <td>5</td>\n",
       "      <td>5320</td>\n",
       "      <td>34</td>\n",
       "      <td>-1</td>\n",
       "    </tr>\n",
       "  </tbody>\n",
       "</table>\n",
       "</div>"
      ],
      "text/plain": [
       "    shop_id  item_id  date_block_num  item_cnt_month\n",
       "ID                                                  \n",
       "0         5     5037              34              -1\n",
       "1         5     5320              34              -1"
      ]
     },
     "execution_count": 21,
     "metadata": {},
     "output_type": "execute_result"
    }
   ],
   "source": [
    "test['date_block_num']= 34\n",
    "test['item_cnt_month'] = -1 #since need to predict it\n",
    "print(test.shape)\n",
    "test.head(2)"
   ]
  },
  {
   "cell_type": "code",
   "execution_count": 22,
   "metadata": {
    "ExecuteTime": {
     "end_time": "2020-06-20T14:46:58.537815Z",
     "start_time": "2020-06-20T14:46:58.441469Z"
    }
   },
   "outputs": [],
   "source": [
    "test = test.merge(items[['item_id', 'item_category_id']], on='item_id', how='left')\n",
    "test = test.merge(item_categories[['item_category_id', 'item_section_name']], on='item_category_id', how='left')\n",
    "test = test.merge(shops[['shop_city', 'shop_id']], on='shop_id', how='left')\n",
    "test = test.drop_duplicates().reset_index(drop=True)"
   ]
  },
  {
   "cell_type": "code",
   "execution_count": 23,
   "metadata": {
    "ExecuteTime": {
     "end_time": "2020-06-20T14:46:59.346872Z",
     "start_time": "2020-06-20T14:46:59.338791Z"
    }
   },
   "outputs": [
    {
     "name": "stdout",
     "output_type": "stream",
     "text": [
      "(214200, 7)\n"
     ]
    },
    {
     "data": {
      "text/html": [
       "<div>\n",
       "<style scoped>\n",
       "    .dataframe tbody tr th:only-of-type {\n",
       "        vertical-align: middle;\n",
       "    }\n",
       "\n",
       "    .dataframe tbody tr th {\n",
       "        vertical-align: top;\n",
       "    }\n",
       "\n",
       "    .dataframe thead th {\n",
       "        text-align: right;\n",
       "    }\n",
       "</style>\n",
       "<table border=\"1\" class=\"dataframe\">\n",
       "  <thead>\n",
       "    <tr style=\"text-align: right;\">\n",
       "      <th></th>\n",
       "      <th>shop_id</th>\n",
       "      <th>item_id</th>\n",
       "      <th>date_block_num</th>\n",
       "      <th>item_cnt_month</th>\n",
       "      <th>item_category_id</th>\n",
       "      <th>item_section_name</th>\n",
       "      <th>shop_city</th>\n",
       "    </tr>\n",
       "  </thead>\n",
       "  <tbody>\n",
       "    <tr>\n",
       "      <th>0</th>\n",
       "      <td>5</td>\n",
       "      <td>5037</td>\n",
       "      <td>34</td>\n",
       "      <td>-1</td>\n",
       "      <td>19</td>\n",
       "      <td>5</td>\n",
       "      <td>3.0</td>\n",
       "    </tr>\n",
       "    <tr>\n",
       "      <th>1</th>\n",
       "      <td>5</td>\n",
       "      <td>5320</td>\n",
       "      <td>34</td>\n",
       "      <td>-1</td>\n",
       "      <td>55</td>\n",
       "      <td>9</td>\n",
       "      <td>3.0</td>\n",
       "    </tr>\n",
       "    <tr>\n",
       "      <th>2</th>\n",
       "      <td>5</td>\n",
       "      <td>5233</td>\n",
       "      <td>34</td>\n",
       "      <td>-1</td>\n",
       "      <td>19</td>\n",
       "      <td>5</td>\n",
       "      <td>3.0</td>\n",
       "    </tr>\n",
       "    <tr>\n",
       "      <th>3</th>\n",
       "      <td>5</td>\n",
       "      <td>5232</td>\n",
       "      <td>34</td>\n",
       "      <td>-1</td>\n",
       "      <td>23</td>\n",
       "      <td>5</td>\n",
       "      <td>3.0</td>\n",
       "    </tr>\n",
       "    <tr>\n",
       "      <th>4</th>\n",
       "      <td>5</td>\n",
       "      <td>5268</td>\n",
       "      <td>34</td>\n",
       "      <td>-1</td>\n",
       "      <td>20</td>\n",
       "      <td>5</td>\n",
       "      <td>3.0</td>\n",
       "    </tr>\n",
       "  </tbody>\n",
       "</table>\n",
       "</div>"
      ],
      "text/plain": [
       "   shop_id  item_id  date_block_num  item_cnt_month  item_category_id  \\\n",
       "0        5     5037              34              -1                19   \n",
       "1        5     5320              34              -1                55   \n",
       "2        5     5233              34              -1                19   \n",
       "3        5     5232              34              -1                23   \n",
       "4        5     5268              34              -1                20   \n",
       "\n",
       "   item_section_name  shop_city  \n",
       "0                  5        3.0  \n",
       "1                  9        3.0  \n",
       "2                  5        3.0  \n",
       "3                  5        3.0  \n",
       "4                  5        3.0  "
      ]
     },
     "execution_count": 23,
     "metadata": {},
     "output_type": "execute_result"
    }
   ],
   "source": [
    "print(test.shape)\n",
    "test.head()"
   ]
  },
  {
   "cell_type": "code",
   "execution_count": 24,
   "metadata": {
    "ExecuteTime": {
     "end_time": "2020-06-20T14:47:03.402886Z",
     "start_time": "2020-06-20T14:47:01.330562Z"
    }
   },
   "outputs": [],
   "source": [
    "#concat all data to create mean encoded features and lag ones\n",
    "all_data = pd.concat([train, test]).reset_index(drop=True)"
   ]
  },
  {
   "cell_type": "code",
   "execution_count": 25,
   "metadata": {
    "ExecuteTime": {
     "end_time": "2020-06-20T14:49:44.824867Z",
     "start_time": "2020-06-20T14:47:03.404459Z"
    }
   },
   "outputs": [
    {
     "data": {
      "application/vnd.jupyter.widget-view+json": {
       "model_id": "23859254effe4051ac0e9c6af143d433",
       "version_major": 2,
       "version_minor": 0
      },
      "text/plain": [
       "HBox(children=(FloatProgress(value=0.0, max=12.0), HTML(value='')))"
      ]
     },
     "metadata": {},
     "output_type": "display_data"
    },
    {
     "name": "stdout",
     "output_type": "stream",
     "text": [
      "\n"
     ]
    }
   ],
   "source": [
    "# List of columns that we will use to create lags\n",
    "cols_to_rename = ['item_cnt_month']\n",
    "\n",
    "shift_range = list(range(1, 13))\n",
    "\n",
    "for month_shift in tqdm(shift_range):\n",
    "    train_shift = all_data[index_cols + cols_to_rename].copy()\n",
    "    \n",
    "    train_shift['date_block_num'] = train_shift['date_block_num'] + month_shift\n",
    "    \n",
    "    foo = lambda x: f'{x}_lag_{month_shift}' if x in cols_to_rename else x\n",
    "    train_shift = train_shift.rename(columns=foo)\n",
    "\n",
    "    all_data = pd.merge(all_data, train_shift, on=index_cols, how='left').fillna(0)"
   ]
  },
  {
   "cell_type": "markdown",
   "metadata": {},
   "source": [
    "**Let's try simple xgb right now**"
   ]
  },
  {
   "cell_type": "code",
   "execution_count": 170,
   "metadata": {
    "ExecuteTime": {
     "end_time": "2020-06-19T16:32:46.901970Z",
     "start_time": "2020-06-19T16:32:45.946293Z"
    }
   },
   "outputs": [],
   "source": [
    "train = all_data[all_data['date_block_num'] < 34]\n",
    "test = all_data[all_data['date_block_num'] == 34]\n",
    "\n",
    "#check if target is clipped\n",
    "print(train['item_cnt_month'].min(), train['item_cnt_month'].max())\n",
    "\n",
    "Xtrain, ytrain = train.drop('item_cnt_month', axis=1), train['item_cnt_month']\n",
    "Xtest, ytest = test.drop('item_cnt_month', axis=1), test['item_cnt_month']\n",
    "\n",
    "dtrain = xgb.DMatrix(data=Xtrain.to_numpy(), label=ytrain\n",
    "                     , feature_names=Xtrain.columns)\n",
    "dtest = xgb.DMatrix(data=Xtest.to_numpy(), label=ytest\n",
    "                   , feature_names=Xtrain.columns)\n",
    "\n",
    "del train, test, Xtrain, ytrain, Xtest, ytest\n",
    "gc.collect()"
   ]
  },
  {
   "cell_type": "code",
   "execution_count": 26,
   "metadata": {
    "ExecuteTime": {
     "end_time": "2020-06-20T14:49:44.830516Z",
     "start_time": "2020-06-20T14:49:44.826768Z"
    }
   },
   "outputs": [],
   "source": [
    "default_params = {  'objective': 'reg:squarederror'                    \n",
    "                    , 'subsample': 0.8\n",
    "                    , 'colsample_bytree': 0.9\n",
    "                    , 'learning_rate': 0.1\n",
    "                    , 'tree_method': 'hist'\n",
    "                    , 'grow_policy': 'lossguide'\n",
    "                    , 'max_leaves': 63\n",
    "                    , 'max_depth': 0\n",
    "                    , 'gamma': 1\n",
    "                    , 'reg_alpha': 1.2\n",
    "                    , 'reg_lambda': 1.3\n",
    "                    , 'min_child_weight': 30\n",
    "                    , 'max_delta_step': 2\n",
    "                    , 'n_jobs': 60\n",
    "                    , 'random_state': 42\n",
    "                    , 'eval_metric': 'rmse'\n",
    "                }   "
   ]
  },
  {
   "cell_type": "code",
   "execution_count": 176,
   "metadata": {
    "ExecuteTime": {
     "end_time": "2020-06-19T16:47:31.476081Z",
     "start_time": "2020-06-19T16:40:05.547976Z"
    }
   },
   "outputs": [
    {
     "name": "stdout",
     "output_type": "stream",
     "text": [
      "[0]\ttrain-rmse:1.21688\n",
      "Will train until train-rmse hasn't improved in 50 rounds.\n",
      "[100]\ttrain-rmse:0.93763\n",
      "[200]\ttrain-rmse:0.91475\n",
      "[300]\ttrain-rmse:0.90261\n",
      "[400]\ttrain-rmse:0.89267\n",
      "[500]\ttrain-rmse:0.88321\n",
      "[600]\ttrain-rmse:0.87743\n",
      "[700]\ttrain-rmse:0.87218\n",
      "[800]\ttrain-rmse:0.86728\n",
      "[900]\ttrain-rmse:0.86284\n",
      "[999]\ttrain-rmse:0.85886\n"
     ]
    }
   ],
   "source": [
    "model1 = xgb.train(default_params, dtrain, num_boost_round=1000, early_stopping_rounds=50, verbose_eval=100\n",
    "           , evals=[(dtrain,'train')])"
   ]
  },
  {
   "cell_type": "code",
   "execution_count": 180,
   "metadata": {
    "ExecuteTime": {
     "end_time": "2020-06-19T16:48:03.809827Z",
     "start_time": "2020-06-19T16:48:03.272185Z"
    }
   },
   "outputs": [],
   "source": [
    "ans = pd.DataFrame({'item_cnt_month': model1.predict(dtest)})\n",
    "ans['item_cnt_month'] = ans['item_cnt_month'].clip(0, 20)\n",
    "ans.insert(0, 'ID', ans.index)\n",
    "ans.to_csv(DATA_DIR / 'baseline_xgb.csv', index=False)\n",
    "#0.982 on public"
   ]
  },
  {
   "cell_type": "code",
   "execution_count": null,
   "metadata": {},
   "outputs": [],
   "source": []
  },
  {
   "cell_type": "code",
   "execution_count": 27,
   "metadata": {
    "ExecuteTime": {
     "end_time": "2020-06-20T14:50:06.255995Z",
     "start_time": "2020-06-20T14:49:44.832048Z"
    }
   },
   "outputs": [],
   "source": [
    "#one more features since we have predict based on pairs shop_id and item_id\n",
    "all_data['shop_item'] = (all_data['shop_id'].astype(str) + '0' + all_data['item_id'].astype(str)).astype(int)\n",
    "#order of month\n",
    "all_data['month'] = all_data['date_block_num'].apply(lambda x: x % 12)"
   ]
  },
  {
   "cell_type": "markdown",
   "metadata": {},
   "source": [
    "**mean encoding**"
   ]
  },
  {
   "cell_type": "code",
   "execution_count": 28,
   "metadata": {
    "ExecuteTime": {
     "end_time": "2020-06-20T14:50:06.263696Z",
     "start_time": "2020-06-20T14:50:06.257934Z"
    }
   },
   "outputs": [],
   "source": [
    "def cv_mean_enc(sample, column, kf, globalmean, alpha):\n",
    "    \n",
    "    for train_ix, test_ix in kf.split(sample):\n",
    "        train, test = sample.iloc[train_ix], sample.iloc[test_ix]\n",
    "        \n",
    "        #smoothing\n",
    "        column_enc = (train.groupby(column)['item_cnt_month'].mean()\n",
    "                        * train.groupby(column)['item_cnt_month'].count()\n",
    "                        + globalmean * alpha) / (train.groupby(column)['item_cnt_month'].count() + alpha)\n",
    "        #column_enc = train.groupby(column)['item_cnt_month'].mean()\n",
    "\n",
    "\n",
    "        \n",
    "        sample.loc[test_ix, column+'_enc'] = sample.loc[test_ix, column].map(column_enc)\n",
    "\n",
    "    #fill nan with global mean\n",
    "    sample[column+'_enc'].fillna(globalmean, inplace=True) \n",
    "    \n",
    "    return sample\n",
    "    \n",
    "def mean_enconding(sample, column, alpha=5):\n",
    "\n",
    "    kf = KFold(n_splits=5, shuffle=False)\n",
    "    \n",
    "    \n",
    "    #globalmean_part = sample_part[column].mean()\n",
    "    globalmean = sample[column].mean()\n",
    "    \n",
    "    #sample_part = cv_mean_enc(sample_part, column, kf, globalmean_part, alpha)\n",
    "    sample = cv_mean_enc(sample, column, kf, globalmean, alpha)\n",
    "\n",
    "    return sample"
   ]
  },
  {
   "cell_type": "code",
   "execution_count": 29,
   "metadata": {
    "ExecuteTime": {
     "end_time": "2020-06-20T14:50:08.980546Z",
     "start_time": "2020-06-20T14:50:06.265006Z"
    }
   },
   "outputs": [],
   "source": [
    "all_data_part = all_data[all_data['date_block_num'] < 34] #needs to create validation data for date_block_num=33"
   ]
  },
  {
   "cell_type": "code",
   "execution_count": 30,
   "metadata": {
    "ExecuteTime": {
     "end_time": "2020-06-20T14:54:39.268366Z",
     "start_time": "2020-06-20T14:50:08.982418Z"
    }
   },
   "outputs": [
    {
     "data": {
      "application/vnd.jupyter.widget-view+json": {
       "model_id": "516d3d7999414e52800ba238ac25b719",
       "version_major": 2,
       "version_minor": 0
      },
      "text/plain": [
       "HBox(children=(FloatProgress(value=0.0, max=6.0), HTML(value='')))"
      ]
     },
     "metadata": {},
     "output_type": "display_data"
    },
    {
     "name": "stdout",
     "output_type": "stream",
     "text": [
      "\n"
     ]
    },
    {
     "data": {
      "application/vnd.jupyter.widget-view+json": {
       "model_id": "c5189b3374e448258deb2179a538c0f4",
       "version_major": 2,
       "version_minor": 0
      },
      "text/plain": [
       "HBox(children=(FloatProgress(value=0.0, max=6.0), HTML(value='')))"
      ]
     },
     "metadata": {},
     "output_type": "display_data"
    },
    {
     "name": "stdout",
     "output_type": "stream",
     "text": [
      "\n"
     ]
    }
   ],
   "source": [
    "mean_enc_features = ['item_id', 'shop_id', 'item_category_id', 'item_section_name', 'shop_city', 'shop_item']\n",
    "for col in tqdm(mean_enc_features):\n",
    "    all_data = mean_enconding(all_data.copy(), col)\n",
    "for col in tqdm(mean_enc_features):\n",
    "    all_data_part = mean_enconding(all_data_part.copy(), col)"
   ]
  },
  {
   "cell_type": "code",
   "execution_count": 31,
   "metadata": {
    "ExecuteTime": {
     "end_time": "2020-06-20T14:54:46.347770Z",
     "start_time": "2020-06-20T14:54:39.270950Z"
    }
   },
   "outputs": [],
   "source": [
    "all_data_part['month'] = all_data_part['date_block_num'].apply(lambda x: x % 12)\n",
    "all_data['month'] = all_data['date_block_num'].apply(lambda x: x % 12)"
   ]
  },
  {
   "cell_type": "code",
   "execution_count": null,
   "metadata": {},
   "outputs": [],
   "source": []
  },
  {
   "cell_type": "code",
   "execution_count": 32,
   "metadata": {
    "ExecuteTime": {
     "end_time": "2020-06-20T14:55:02.826358Z",
     "start_time": "2020-06-20T14:54:46.351489Z"
    }
   },
   "outputs": [
    {
     "name": "stdout",
     "output_type": "stream",
     "text": [
      "0.0 20.0\n"
     ]
    },
    {
     "data": {
      "text/plain": [
       "31"
      ]
     },
     "execution_count": 32,
     "metadata": {},
     "output_type": "execute_result"
    }
   ],
   "source": [
    "train = all_data[all_data['date_block_num'] < 34]\n",
    "test = all_data[all_data['date_block_num'] == 34]\n",
    "\n",
    "#check if target is clipped\n",
    "print(train['item_cnt_month'].min(), train['item_cnt_month'].max())\n",
    "\n",
    "#Xtrain, ytrain = train.drop(['item_cnt_month'] + mean_enc_features, axis=1), train['item_cnt_month']\n",
    "#Xtest, ytest = test.drop(['item_cnt_month'] + mean_enc_features, axis=1), test['item_cnt_month']\n",
    "\n",
    "Xtrain, ytrain = train.drop(['item_cnt_month'] , axis=1), train['item_cnt_month']\n",
    "Xtest, ytest = test.drop(['item_cnt_month'] , axis=1), test['item_cnt_month']\n",
    "\n",
    "dtrain = xgb.DMatrix(data=Xtrain.to_numpy(), label=ytrain\n",
    "                     , feature_names=Xtrain.columns)\n",
    "dtest = xgb.DMatrix(data=Xtest.to_numpy(), label=ytest\n",
    "                   , feature_names=Xtrain.columns)\n",
    "\n",
    "del train, test, ytrain, Xtest, ytest\n",
    "gc.collect()"
   ]
  },
  {
   "cell_type": "code",
   "execution_count": 35,
   "metadata": {
    "ExecuteTime": {
     "end_time": "2020-06-19T23:00:13.803116Z",
     "start_time": "2020-06-19T22:53:30.428023Z"
    }
   },
   "outputs": [
    {
     "name": "stdout",
     "output_type": "stream",
     "text": [
      "[0]\ttrain-rmse:1.21609\n",
      "Will train until train-rmse hasn't improved in 50 rounds.\n",
      "[100]\ttrain-rmse:0.91115\n",
      "[200]\ttrain-rmse:0.88865\n",
      "[300]\ttrain-rmse:0.87355\n",
      "[400]\ttrain-rmse:0.86097\n",
      "[500]\ttrain-rmse:0.85054\n",
      "[600]\ttrain-rmse:0.84281\n",
      "[700]\ttrain-rmse:0.83558\n",
      "[800]\ttrain-rmse:0.82845\n",
      "[900]\ttrain-rmse:0.82256\n",
      "[999]\ttrain-rmse:0.81743\n"
     ]
    }
   ],
   "source": [
    "#without mean_enc_features\n",
    "model2 = xgb.train(default_params, dtrain, num_boost_round=1000, early_stopping_rounds=50, verbose_eval=100\n",
    "           , evals=[(dtrain,'train')])"
   ]
  },
  {
   "cell_type": "code",
   "execution_count": 39,
   "metadata": {
    "ExecuteTime": {
     "end_time": "2020-06-19T23:07:51.171686Z",
     "start_time": "2020-06-19T23:01:09.504696Z"
    }
   },
   "outputs": [
    {
     "name": "stdout",
     "output_type": "stream",
     "text": [
      "[0]\ttrain-rmse:1.21622\n",
      "Will train until train-rmse hasn't improved in 50 rounds.\n",
      "[100]\ttrain-rmse:0.90701\n",
      "[200]\ttrain-rmse:0.87937\n",
      "[300]\ttrain-rmse:0.86149\n",
      "[400]\ttrain-rmse:0.84731\n",
      "[500]\ttrain-rmse:0.83543\n",
      "[600]\ttrain-rmse:0.82463\n",
      "[700]\ttrain-rmse:0.81567\n",
      "[800]\ttrain-rmse:0.80654\n",
      "[900]\ttrain-rmse:0.79845\n",
      "[999]\ttrain-rmse:0.79209\n"
     ]
    }
   ],
   "source": [
    "#with mean_enc_features\n",
    "model3 = xgb.train(default_params, dtrain, num_boost_round=1000, early_stopping_rounds=50, verbose_eval=100\n",
    "           , evals=[(dtrain,'train')])"
   ]
  },
  {
   "cell_type": "code",
   "execution_count": 41,
   "metadata": {
    "ExecuteTime": {
     "end_time": "2020-06-19T23:08:10.884282Z",
     "start_time": "2020-06-19T23:08:10.328233Z"
    }
   },
   "outputs": [],
   "source": [
    "ans = pd.DataFrame({'item_cnt_month': model3.predict(dtest)})\n",
    "ans['item_cnt_month'] = ans['item_cnt_month'].clip(0, 20)\n",
    "ans.insert(0, 'ID', ans.index)\n",
    "ans.to_csv(DATA_DIR / 'baseline_xgb3.csv', index=False)\n",
    "#0.968316"
   ]
  },
  {
   "cell_type": "code",
   "execution_count": 33,
   "metadata": {
    "ExecuteTime": {
     "end_time": "2020-06-20T15:02:22.116459Z",
     "start_time": "2020-06-20T14:55:02.828067Z"
    }
   },
   "outputs": [
    {
     "name": "stdout",
     "output_type": "stream",
     "text": [
      "[0]\ttrain-rmse:1.21524\n",
      "Will train until train-rmse hasn't improved in 50 rounds.\n",
      "[100]\ttrain-rmse:0.90551\n",
      "[200]\ttrain-rmse:0.87611\n",
      "[300]\ttrain-rmse:0.85987\n",
      "[400]\ttrain-rmse:0.84678\n",
      "[500]\ttrain-rmse:0.83572\n",
      "[600]\ttrain-rmse:0.82509\n",
      "[700]\ttrain-rmse:0.81562\n",
      "[800]\ttrain-rmse:0.80677\n",
      "[900]\ttrain-rmse:0.79910\n",
      "[999]\ttrain-rmse:0.79248\n"
     ]
    }
   ],
   "source": [
    "#with mean_enc_features and without clip sales during aggregation\n",
    "model3_1 = xgb.train(default_params, dtrain, num_boost_round=1000, early_stopping_rounds=50, verbose_eval=100\n",
    "           , evals=[(dtrain,'train')])"
   ]
  },
  {
   "cell_type": "code",
   "execution_count": 34,
   "metadata": {
    "ExecuteTime": {
     "end_time": "2020-06-20T15:02:22.715247Z",
     "start_time": "2020-06-20T15:02:22.118828Z"
    }
   },
   "outputs": [],
   "source": [
    "ans = pd.DataFrame({'item_cnt_month': model3_1.predict(dtest)})\n",
    "ans['item_cnt_month'] = ans['item_cnt_month'].clip(0, 20)\n",
    "ans.insert(0, 'ID', ans.index)\n",
    "ans.to_csv(DATA_DIR / 'baseline_xgb2.csv', index=False)\n",
    "#0.971078"
   ]
  },
  {
   "cell_type": "markdown",
   "metadata": {},
   "source": [
    "Seems that mean encoding improve a litle, it's better to create lag features. But for kaggle a little is already much :)"
   ]
  },
  {
   "cell_type": "markdown",
   "metadata": {},
   "source": [
    "Increase learning rate"
   ]
  },
  {
   "cell_type": "code",
   "execution_count": 30,
   "metadata": {
    "ExecuteTime": {
     "end_time": "2020-06-19T23:34:40.372820Z",
     "start_time": "2020-06-19T23:34:40.370535Z"
    }
   },
   "outputs": [],
   "source": [
    "params = default_params.copy()\n",
    "params['learning_rate'] = 0.3"
   ]
  },
  {
   "cell_type": "code",
   "execution_count": 31,
   "metadata": {
    "ExecuteTime": {
     "end_time": "2020-06-19T23:34:56.110152Z",
     "start_time": "2020-06-19T23:34:40.374051Z"
    }
   },
   "outputs": [
    {
     "data": {
      "text/plain": [
       "34"
      ]
     },
     "execution_count": 31,
     "metadata": {},
     "output_type": "execute_result"
    }
   ],
   "source": [
    "train = all_data[all_data['date_block_num'] < 34]\n",
    "test = all_data[all_data['date_block_num'] == 34]\n",
    "\n",
    "Xtrain, ytrain = train.drop(['item_cnt_month'] , axis=1), train['item_cnt_month']\n",
    "Xtest, ytest = test.drop(['item_cnt_month'] , axis=1), test['item_cnt_month']\n",
    "\n",
    "dtrain = xgb.DMatrix(data=Xtrain.to_numpy(), label=ytrain\n",
    "                     , feature_names=Xtrain.columns)\n",
    "dtest = xgb.DMatrix(data=Xtest.to_numpy(), label=ytest\n",
    "                   , feature_names=Xtrain.columns)\n",
    "\n",
    "del train, test, Xtrain, ytrain, Xtest, ytest\n",
    "gc.collect()"
   ]
  },
  {
   "cell_type": "code",
   "execution_count": 32,
   "metadata": {
    "ExecuteTime": {
     "end_time": "2020-06-19T23:41:46.262028Z",
     "start_time": "2020-06-19T23:34:56.111401Z"
    }
   },
   "outputs": [
    {
     "name": "stdout",
     "output_type": "stream",
     "text": [
      "[0]\ttrain-rmse:1.17345\n",
      "Will train until train-rmse hasn't improved in 50 rounds.\n",
      "[100]\ttrain-rmse:0.86292\n",
      "[200]\ttrain-rmse:0.82747\n",
      "[300]\ttrain-rmse:0.80212\n",
      "[400]\ttrain-rmse:0.78391\n",
      "[500]\ttrain-rmse:0.77124\n",
      "[600]\ttrain-rmse:0.75901\n",
      "[700]\ttrain-rmse:0.74942\n",
      "[800]\ttrain-rmse:0.74120\n",
      "[900]\ttrain-rmse:0.73349\n",
      "[999]\ttrain-rmse:0.72710\n"
     ]
    }
   ],
   "source": [
    "model4 = xgb.train(params, dtrain, num_boost_round=1000, early_stopping_rounds=50, verbose_eval=100\n",
    "           , evals=[(dtrain,'train')])"
   ]
  },
  {
   "cell_type": "code",
   "execution_count": 33,
   "metadata": {
    "ExecuteTime": {
     "end_time": "2020-06-19T23:41:46.816948Z",
     "start_time": "2020-06-19T23:41:46.264786Z"
    }
   },
   "outputs": [],
   "source": [
    "ans = pd.DataFrame({'item_cnt_month': model4.predict(dtest)})\n",
    "ans['item_cnt_month'] = ans['item_cnt_month'].clip(0, 20)\n",
    "ans.insert(0, 'ID', ans.index)\n",
    "ans.to_csv(DATA_DIR / 'baseline_xgb4.csv', index=False)\n",
    "#overfit 1.016534"
   ]
  },
  {
   "cell_type": "code",
   "execution_count": null,
   "metadata": {},
   "outputs": [],
   "source": []
  }
 ],
 "metadata": {
  "kernelspec": {
   "display_name": "Python 3.6",
   "language": "python36",
   "name": "python3.6"
  },
  "language_info": {
   "codemirror_mode": {
    "name": "ipython",
    "version": 3
   },
   "file_extension": ".py",
   "mimetype": "text/x-python",
   "name": "python",
   "nbconvert_exporter": "python",
   "pygments_lexer": "ipython3",
   "version": "3.6.8"
  }
 },
 "nbformat": 4,
 "nbformat_minor": 2
}
